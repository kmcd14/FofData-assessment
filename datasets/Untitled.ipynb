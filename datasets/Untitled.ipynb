{
 "cells": [
  {
   "cell_type": "code",
   "execution_count": 27,
   "id": "900cc3b6-1074-4fef-a989-35d90fbc2b8b",
   "metadata": {},
   "outputs": [],
   "source": [
    "# Convenient HTTP requests.\n",
    "import requests as rq\n",
    "\n",
    "# Regular expressions.\n",
    "import re\n",
    "\n",
    "# Dates and times.\n",
    "import datetime as dt"
   ]
  },
  {
   "cell_type": "code",
   "execution_count": 28,
   "id": "7c46c409-408e-4ae5-8a13-2cd3a81ffb89",
   "metadata": {},
   "outputs": [
    {
     "data": {
      "text/plain": [
       "<Response [200]>"
      ]
     },
     "execution_count": 28,
     "metadata": {},
     "output_type": "execute_result"
    }
   ],
   "source": [
    "# Fetch the CAO points URL.\n",
    "resp = rq.get('http://www2.cao.ie/points/l8.php')\n",
    "\n",
    "# Have a quick peek. 200 means OK.\n",
    "resp"
   ]
  },
  {
   "cell_type": "code",
   "execution_count": 35,
   "id": "5d329dd8-f8cc-48dc-9cbf-f6f4a3841091",
   "metadata": {},
   "outputs": [],
   "source": [
    "# Get the current date and time.\n",
    "now = dt.datetime.now()\n",
    "\n",
    "# Format as a string.\n",
    "nowstr = now.strftime('%Y%m%d_%H%M%S')"
   ]
  },
  {
   "cell_type": "code",
   "execution_count": 36,
   "id": "5452cfc7-e65b-4cfb-9a33-c5885f7fe00d",
   "metadata": {},
   "outputs": [],
   "source": [
    "# Create a file path for the original data.\n",
    "path = 'datasets/cao2021_' + nowstr + '.html'\n"
   ]
  },
  {
   "cell_type": "code",
   "execution_count": 37,
   "id": "88bb4aae-9d58-4416-9eba-27149953d0b1",
   "metadata": {},
   "outputs": [],
   "source": [
    "# The server uses the wrong encoding, fix it.\n",
    "original_encoding = resp.encoding\n",
    "\n",
    "# Change to cp1252.\n",
    "resp.encoding = 'cp1252'"
   ]
  },
  {
   "cell_type": "markdown",
   "id": "3a395f2c-6506-4145-9f9f-19b8016008e1",
   "metadata": {},
   "source": [
    "# Save the original html file.\n",
    "with open(path, 'w') as f:\n",
    "    f.write(resp.text)"
   ]
  },
  {
   "cell_type": "code",
   "execution_count": 38,
   "id": "704939ea-0fb5-4af2-8da3-b7324e25cdbd",
   "metadata": {},
   "outputs": [],
   "source": [
    "# Compile the regular expression for matching lines.\n",
    "re_course = re.compile(r'([A-Z]{2}[0-9]{3})  (.*)([0-9]{3})(\\*?) *')"
   ]
  },
  {
   "cell_type": "code",
   "execution_count": 43,
   "id": "86492093-d491-45e5-ba65-9f762e89866b",
   "metadata": {},
   "outputs": [
    {
     "name": "stdout",
     "output_type": "stream",
     "text": [
      "Total number of lines is 922.\n"
     ]
    }
   ],
   "source": [
    "# The file path for the csv file.\n",
    "path = 'cao2021_csv_' + nowstr + '.csv'\n",
    "\n",
    "# Keep track of how many courses we process.\n",
    "no_lines = 0\n",
    "\n",
    "# Open the csv file for writing.\n",
    "with open(path, 'w') as f:\n",
    "# Open the csv file for writing.\n",
    "#with open(path, 'w') as f:\n",
    "    # Loop through lines of the response.\n",
    "    for line in resp.iter_lines():\n",
    "            # Decode the line, using the wrong encoding!\n",
    "            dline = line.decode('cp1252')\n",
    "            # Match only the lines representing courses.\n",
    "            if re_course.fullmatch(dline):\n",
    "                # Add one to the lines counter.\n",
    "                no_lines = no_lines + 1\n",
    "                csv_version = re_course.sub(r'\\1,\\2,\\3,\\4', dline) # Getting relevant parts for lines which match\n",
    "                #print(csv_version) # Print CSV style\n",
    "                f.write(csv_version)\n",
    "\n",
    "# Print the total number of processed lines.\n",
    "print(f\"Total number of lines is {no_lines}.\")"
   ]
  },
  {
   "cell_type": "code",
   "execution_count": null,
   "id": "9437180c-d609-4faf-b151-b16c3c561bc0",
   "metadata": {},
   "outputs": [],
   "source": []
  },
  {
   "cell_type": "code",
   "execution_count": null,
   "id": "8ac486a4-f739-48f8-8a1f-d732b0466404",
   "metadata": {},
   "outputs": [],
   "source": []
  },
  {
   "cell_type": "code",
   "execution_count": null,
   "id": "4feb0086-356b-4f85-bec7-9c0d53ce9b5d",
   "metadata": {},
   "outputs": [],
   "source": []
  },
  {
   "cell_type": "code",
   "execution_count": null,
   "id": "bc326973-6015-490b-a722-7a6f713a4a93",
   "metadata": {},
   "outputs": [],
   "source": []
  }
 ],
 "metadata": {
  "kernelspec": {
   "display_name": "Python 3 (ipykernel)",
   "language": "python",
   "name": "python3"
  },
  "language_info": {
   "codemirror_mode": {
    "name": "ipython",
    "version": 3
   },
   "file_extension": ".py",
   "mimetype": "text/x-python",
   "name": "python",
   "nbconvert_exporter": "python",
   "pygments_lexer": "ipython3",
   "version": "3.8.11"
  }
 },
 "nbformat": 4,
 "nbformat_minor": 5
}
