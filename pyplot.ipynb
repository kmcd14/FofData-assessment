{
 "cells": [
  {
   "cell_type": "markdown",
   "metadata": {
    "tags": []
   },
   "source": [
    "***\n",
    "\n",
    "# Fundamentals of Data Analytics Assessment - Pyplot Notebook\n",
    "\n",
    "***"
   ]
  },
  {
   "cell_type": "markdown",
   "metadata": {},
   "source": [
    "Images are a powerful form of communication and are an integral part of data analysis. It is important that we can visualise our data for others who may not be versed in data or python so they can understand our findings. It also allows us to see patterns we may have not noticed if only dealing in code. It is often easier to digest an image than blocks code or digits.\n",
    "<br></br>\n",
    "Luckily Python contains packages which allow us to visualise our data. For this assessment we will be looking at the Python library Matplotlib and specifically the module Pyplot.\n",
    "The aim of this notebook is to provide a clear and concise overview of the Python package matplotlib.pyplot. This will be achieved by reseaching the package and demonstrating it's functionality through three of the many plots which the package provides. "
   ]
  },
  {
   "cell_type": "markdown",
   "metadata": {},
   "source": [
    "[Link for Matplotlib Documentation](https://matplotlib.org/)"
   ]
  },
  {
   "cell_type": "markdown",
   "metadata": {},
   "source": [
    "[Link to Pyplot Documentation](https://matplotlib.org/stable/tutorials/introductory/pyplot.html)\n"
   ]
  },
  {
   "cell_type": "markdown",
   "metadata": {},
   "source": [
    "### What is Matplotlib?\n"
   ]
  },
  {
   "cell_type": "markdown",
   "metadata": {},
   "source": [
    "Matplotlib was created by John D. Hunter [1]. Who described Matplotlib as trying “to make easy things easy and hard things possible”. It is an open source python package used for creating static, animated, and interactive visualizations in Python. Matplotlib can be used in Python scripts, the Python and IPython shell, web application servers [2]. Matplotlib allows users to avail of a wide variety of plots such as: linepolt, histogram, scatterplot, pie chart etc.. All of which are designed to be easily used, flexible and easily modified. Matplotlib is a multiplatform data visualisation library built on NumPy array and  \"...originally written as a Python alternative for MATLAB users...\" [3]**"
   ]
  },
  {
   "cell_type": "markdown",
   "metadata": {},
   "source": [
    "** MATLAB is a high-performance language for technical computing. Unlike Python it is closed-sourced meaning; only others who have MATLAB can run the code. Also, it is developed exclusively by Mathworks, so if they went out of business MATLAB would no longer be able to be developed and might eventually stop functioning [5]."
   ]
  },
  {
   "cell_type": "markdown",
   "metadata": {},
   "source": [
    "#### Advantages of Matplotlib"
   ]
  },
  {
   "cell_type": "code",
   "execution_count": null,
   "metadata": {},
   "outputs": [],
   "source": []
  },
  {
   "cell_type": "markdown",
   "metadata": {},
   "source": [
    "### Pyplot"
   ]
  },
  {
   "cell_type": "markdown",
   "metadata": {},
   "source": [
    "Matplotlib.pyplot is a module contained in the matplotlib libary. It is what is used to render 2D graphics. It contains the plotting functions and style parameters under matplotlib [6]"
   ]
  },
  {
   "cell_type": "markdown",
   "metadata": {},
   "source": [
    "#### Getting Started"
   ]
  },
  {
   "cell_type": "markdown",
   "metadata": {},
   "source": [
    "***\n",
    "\n",
    "Once the matplotlib libary is installed and in order to use it, we must first import it. As matplotlib is built on Numpy arrays we must also import it. I will also import Pandas to allow the loading of datasets.\n"
   ]
  },
  {
   "cell_type": "code",
   "execution_count": 3,
   "metadata": {},
   "outputs": [],
   "source": [
    "# importing libaries and using shorthand names\n",
    "import numpy as np\n",
    "import pandas as pd\n",
    "import matplotlib.pyplot as plt"
   ]
  },
  {
   "cell_type": "markdown",
   "metadata": {},
   "source": [
    "To demonstrate how simple matplotlib.pyplot is to get up and running I will create a simple plot below."
   ]
  },
  {
   "cell_type": "code",
   "execution_count": 4,
   "metadata": {},
   "outputs": [
    {
     "data": {
      "image/png": "[encoded data removed]",
      "text/plain": [
       "<Figure size 432x288 with 1 Axes>"
      ]
     },
     "metadata": {
      "needs_background": "light"
     },
     "output_type": "display_data"
    }
   ],
   "source": [
    "plt.plot([1, 2, 3, 4])  # Values to plot\n",
    "plt.show() # Show plot "
   ]
  },
  {
   "cell_type": "code",
   "execution_count": null,
   "metadata": {},
   "outputs": [],
   "source": []
  },
  {
   "cell_type": "code",
   "execution_count": null,
   "metadata": {},
   "outputs": [],
   "source": []
  },
  {
   "cell_type": "code",
   "execution_count": null,
   "metadata": {},
   "outputs": [],
   "source": []
  },
  {
   "cell_type": "markdown",
   "metadata": {},
   "source": []
  },
  {
   "cell_type": "markdown",
   "metadata": {},
   "source": [
    "## Scatterplot"
   ]
  },
  {
   "cell_type": "markdown",
   "metadata": {},
   "source": [
    "Usually we need scatter plots in order to compare variables, for example, how much one variable is affected by another variable to build a relation out of it. The data is displayed as a collection of points, each having the value of one variable which determines the position on the horizontal axis and the value of other variable determines the position on the vertical axis [4]."
   ]
  },
  {
   "cell_type": "code",
   "execution_count": null,
   "metadata": {},
   "outputs": [],
   "source": []
  },
  {
   "cell_type": "markdown",
   "metadata": {},
   "source": [
    "#### Issue With Scatter Plots"
   ]
  },
  {
   "cell_type": "code",
   "execution_count": null,
   "metadata": {},
   "outputs": [],
   "source": []
  },
  {
   "cell_type": "markdown",
   "metadata": {
    "tags": []
   },
   "source": [
    "## References"
   ]
  },
  {
   "cell_type": "markdown",
   "metadata": {
    "tags": []
   },
   "source": [
    "[1] https://www.w3schools.com/python/matplotlib_intro.asp \n",
    "<br>\n",
    "[2] https://www.geeksforgeeks.org/pyplot-in-matplotlib/\n",
    "<br>\n",
    "[3] https://www.oreilly.com/library/view/python-data-science/9781491912126/ch04.html\n",
    "<br>\n",
    "[4] https://www.edureka.co/blog/python-matplotlib-tutorial/\n",
    "<br>\n",
    "[5] https://realpython.com/matlab-vs-python/#matlab-vs-python-comparing-features-and-philosophy\n",
    "<br>\n",
    "[6]https://books.google.ie/books?id=dyfnDwAAQBAJ&pg=PA262&dq=pyplot&hl=en&sa=X&ved=2ahUKEwjH5pnQg7nzAhWNT8AKHRNpCioQ6AF6BAgIEAI#v=onepage&q=pyplot&f=false"
   ]
  },
  {
   "cell_type": "markdown",
   "metadata": {
    "tags": []
   },
   "source": [
    "## End"
   ]
  }
 ],
 "metadata": {
  "kernelspec": {
   "display_name": "Python 3 (ipykernel)",
   "language": "python",
   "name": "python3"
  },
  "language_info": {
   "codemirror_mode": {
    "name": "ipython",
    "version": 3
   },
   "file_extension": ".py",
   "mimetype": "text/x-python",
   "name": "python",
   "nbconvert_exporter": "python",
   "pygments_lexer": "ipython3",
   "version": "3.8.11"
  }
 },
 "nbformat": 4,
 "nbformat_minor": 4
}
