{
 "cells": [
  {
   "cell_type": "markdown",
   "id": "2c0078d9-c75c-4670-be55-be4a97fe7a97",
   "metadata": {},
   "source": [
    "***\n",
    "# Fundamentals of Data Analytics Assessment - CAO Points Analysis\n",
    "\n",
    "***"
   ]
  },
  {
   "cell_type": "markdown",
   "id": "37ffe398-fc0f-4b0c-9395-cb1ef9f5fb60",
   "metadata": {},
   "source": [
    "<br>"
   ]
  },
  {
   "cell_type": "markdown",
   "id": "bad35837-a52c-4257-acea-af0c8d52ddf7",
   "metadata": {},
   "source": [
    "<br>"
   ]
  },
  {
   "cell_type": "markdown",
   "id": "5be800b5-254a-420f-9dfd-d8b2fdf7694d",
   "metadata": {},
   "source": [
    "\"The purpose of the Central Applications Office (CAO) is to process centrally applications for undergraduate courses in Irish Higher Education Institutions\" [1]. "
   ]
  },
  {
   "cell_type": "markdown",
   "id": "72d612cf-7f62-4332-b08c-0ddf29369c30",
   "metadata": {},
   "source": [
    "<br>"
   ]
  },
  {
   "cell_type": "markdown",
   "id": "4e4ba9d5-d304-422b-b9f3-8ff9fc85daf5",
   "metadata": {},
   "source": [
    "<br>"
   ]
  },
  {
   "cell_type": "markdown",
   "id": "aeb202ca-f80e-453f-85be-3ee71482e53a",
   "metadata": {},
   "source": [
    "<br>"
   ]
  },
  {
   "cell_type": "markdown",
   "id": "245a30cf-2681-4834-90e2-e1e60924a54b",
   "metadata": {},
   "source": [
    "#### Importing Libraries "
   ]
  },
  {
   "cell_type": "markdown",
   "id": "5e8fa903-bcca-4b9a-86a3-7f960e02c81c",
   "metadata": {},
   "source": [
    "<br>"
   ]
  },
  {
   "cell_type": "code",
   "execution_count": 1,
   "id": "3c7a5527-7104-4d1f-b55a-d8e73c8ff791",
   "metadata": {},
   "outputs": [],
   "source": [
    "\n",
    "# Convenient HTTP requests.\n",
    "import requests as rq\n",
    "\n",
    "# Regular expressions.\n",
    "import re\n",
    "\n",
    "# Dates and times.\n",
    "import datetime as dt\n",
    "\n",
    "# Data frames.\n",
    "import pandas as pd\n",
    "\n",
    "# For downloading.\n",
    "import urllib.request as urlrq"
   ]
  },
  {
   "cell_type": "markdown",
   "id": "9b33be11-d3f3-4f66-bc40-6ece30d25b41",
   "metadata": {},
   "source": [
    "<br>"
   ]
  },
  {
   "cell_type": "code",
   "execution_count": 2,
   "id": "395755db-d99d-4659-9050-02420fe1e734",
   "metadata": {},
   "outputs": [],
   "source": [
    "# Get the current date and time.\n",
    "now = dt.datetime.now()\n",
    "\n",
    "# Format as a string.\n",
    "nowstr = now.strftime('%Y%m%d_%H%M%S')"
   ]
  },
  {
   "cell_type": "markdown",
   "id": "ba5cf470-c57f-476b-a2e4-6644e029092c",
   "metadata": {},
   "source": [
    "<br>"
   ]
  },
  {
   "cell_type": "markdown",
   "id": "6240a63f-0fbe-4916-93db-7bfa63d8b64b",
   "metadata": {},
   "source": [
    "<br>"
   ]
  },
  {
   "cell_type": "markdown",
   "id": "fd5c01c8-5817-4446-95fd-9855ed7d66f7",
   "metadata": {},
   "source": [
    "<br>"
   ]
  },
  {
   "cell_type": "markdown",
   "id": "5f19499c-2168-4bfa-bd44-c80ccd354da3",
   "metadata": {},
   "source": [
    "<br>"
   ]
  },
  {
   "cell_type": "markdown",
   "id": "840fc654-02a1-4f77-b94e-d7a6fc585cb8",
   "metadata": {},
   "source": [
    "****"
   ]
  },
  {
   "cell_type": "markdown",
   "id": "2aa5078d-8e64-4db6-a5e3-3db67e072754",
   "metadata": {},
   "source": [
    "## 2021 CAO Points\n",
    "[2021 CAO points]('http://www2.cao.ie/points/l8.php')\n",
    "***\n"
   ]
  },
  {
   "cell_type": "markdown",
   "id": "1e73ef99-f889-4de6-997e-ae24e02beeda",
   "metadata": {},
   "source": [
    "### Level 8"
   ]
  },
  {
   "cell_type": "markdown",
   "id": "1fa31644-6478-4f0c-8642-e0b2618c557d",
   "metadata": {},
   "source": [
    "<br>"
   ]
  },
  {
   "cell_type": "markdown",
   "id": "a3d2866a-e216-4c54-8412-b7c36922e67c",
   "metadata": {},
   "source": [
    "#### Server Request"
   ]
  },
  {
   "cell_type": "markdown",
   "id": "fd45d271-6b24-4e0a-b0d2-b1aa3cf32697",
   "metadata": {},
   "source": [
    "<br>"
   ]
  },
  {
   "cell_type": "code",
   "execution_count": 3,
   "id": "2583b1a1-ff73-49ac-b3e4-966864a109c7",
   "metadata": {},
   "outputs": [
    {
     "data": {
      "text/plain": [
       "<Response [200]>"
      ]
     },
     "execution_count": 3,
     "metadata": {},
     "output_type": "execute_result"
    }
   ],
   "source": [
    "# Fetch the CAO points URL.\n",
    "resp = rq.get('http://www2.cao.ie/points/l8.php')\n",
    "\n",
    "# 200 = ok. 404 = error: not found\n",
    "resp"
   ]
  },
  {
   "cell_type": "markdown",
   "id": "fb9649f7-16b5-4c73-9ff9-175b4775357a",
   "metadata": {},
   "source": [
    "<br>"
   ]
  },
  {
   "cell_type": "markdown",
   "id": "4cd80dc0-381a-4b99-9353-96ff01a9b338",
   "metadata": {},
   "source": [
    "<br>"
   ]
  },
  {
   "cell_type": "markdown",
   "id": "c3621bc2-7982-480a-a702-2da6b4774b55",
   "metadata": {},
   "source": [
    "### Save Orignal Dataset\n",
    "\n",
    "***"
   ]
  },
  {
   "cell_type": "markdown",
   "id": "07de229f-7ba3-43ad-a2ce-56996874e569",
   "metadata": {},
   "source": [
    "<br>"
   ]
  },
  {
   "cell_type": "code",
   "execution_count": 4,
   "id": "9e192d38-4be5-4222-a255-c145e82313eb",
   "metadata": {},
   "outputs": [],
   "source": [
    "# Create a file path for the original data.\n",
    "pathhtml = 'datasets/cao2021_' + nowstr + '.html'"
   ]
  },
  {
   "cell_type": "markdown",
   "id": "cf6ebf8d-6a79-4307-a7f7-911dfa56863f",
   "metadata": {},
   "source": [
    "<br>"
   ]
  },
  {
   "cell_type": "markdown",
   "id": "75054300-cd88-4ce8-84ac-baaa2adc6f46",
   "metadata": {},
   "source": [
    "<br>"
   ]
  },
  {
   "cell_type": "markdown",
   "id": "5cdf71c8-b429-4f1f-9621-3643190e652d",
   "metadata": {
    "tags": []
   },
   "source": [
    "### Webserver Error\n",
    "\n",
    "***"
   ]
  },
  {
   "cell_type": "markdown",
   "id": "764b49ae-06b5-431d-b9df-8f9e92644493",
   "metadata": {},
   "source": [
    "<br>"
   ]
  },
  {
   "cell_type": "markdown",
   "id": "d9988229-0d73-4e81-8276-aba6e4ef7ad2",
   "metadata": {},
   "source": [
    "<br>"
   ]
  },
  {
   "cell_type": "markdown",
   "id": "4eec4f37-ae3a-4c08-b82d-d6b27b2d5dcb",
   "metadata": {
    "tags": []
   },
   "source": [
    "Webserver error - server says decode as:\n",
    "\n",
    "    Content-Type: text/html; charset=iso-8859-1\n",
    "However, one line uses \\x96 which isn't defined in iso-8859-1. \n",
    "\n",
    "Therefore, a similar decoding standard cp1252 was used. It is similar but inculdes #\\x96"
   ]
  },
  {
   "cell_type": "markdown",
   "id": "b804d6a5-c696-41e6-bbd4-a6a14ea3b6b6",
   "metadata": {},
   "source": [
    "<br>"
   ]
  },
  {
   "cell_type": "markdown",
   "id": "6f914425-bd48-4f60-b408-b0ea9265c756",
   "metadata": {},
   "source": [
    "<br>"
   ]
  },
  {
   "cell_type": "code",
   "execution_count": 5,
   "id": "3ed4cd4a-fe33-44d4-af33-6ad0db290c37",
   "metadata": {},
   "outputs": [],
   "source": [
    "# Fixing the webserves wrong encoding\n",
    "original_encoding = resp.encoding\n",
    "\n",
    "# Changing to cp1252\n",
    "resp.encoding = 'cp1252'"
   ]
  },
  {
   "cell_type": "markdown",
   "id": "5ef6520b-31f8-402e-ae08-0c50a844ab41",
   "metadata": {},
   "source": [
    "<br>"
   ]
  },
  {
   "cell_type": "markdown",
   "id": "66715607-4ac7-4207-a644-e50d5a56b256",
   "metadata": {},
   "source": [
    "<br>"
   ]
  },
  {
   "cell_type": "code",
   "execution_count": 6,
   "id": "9e13c1cb-bc41-4cf2-b27e-f5963ba7fa89",
   "metadata": {
    "tags": []
   },
   "outputs": [],
   "source": [
    "# Save the original html file.\n",
    "with open(pathhtml, 'w') as f: # Opening path in write mode\n",
    "    f.write(resp.text)"
   ]
  },
  {
   "cell_type": "markdown",
   "id": "175955d7-2d8a-4b49-ac5e-0f2f47457cbc",
   "metadata": {},
   "source": [
    "<br>"
   ]
  },
  {
   "cell_type": "markdown",
   "id": "6ba6f0a3-00c9-405c-8b21-d0291aaa29f1",
   "metadata": {},
   "source": [
    "<br>"
   ]
  },
  {
   "cell_type": "markdown",
   "id": "b1a18f57-b106-4840-ab14-7770b0a7d95b",
   "metadata": {
    "tags": []
   },
   "source": [
    "### Getting relevant data using Regular expressions\n",
    "\n",
    "***"
   ]
  },
  {
   "cell_type": "markdown",
   "id": "7da576ae-2c98-49e9-82cf-ec37b965a297",
   "metadata": {},
   "source": [
    "[Regular Expression Documentation]('https://docs.python.org/3/library/re.html')"
   ]
  },
  {
   "cell_type": "markdown",
   "id": "60e9909b-086d-4762-ba96-8c38e8f51e96",
   "metadata": {},
   "source": [
    "<br>"
   ]
  },
  {
   "cell_type": "markdown",
   "id": "82d772ba-5ab3-4aba-aa8f-304c2b9091f3",
   "metadata": {},
   "source": [
    "To get the relevant lines from the response request, we use a regular expression. It is more efficent that recalling the expression everytime."
   ]
  },
  {
   "cell_type": "markdown",
   "id": "39a03571-a97c-4c88-9df5-9e33508e742a",
   "metadata": {},
   "source": [
    "<br>"
   ]
  },
  {
   "cell_type": "markdown",
   "id": "1216a7ae-d58e-442c-8bee-c3c9d65d69b0",
   "metadata": {},
   "source": [
    "<br>"
   ]
  },
  {
   "cell_type": "code",
   "execution_count": 7,
   "id": "25f002ee-3fcf-43a9-ac74-e40f4a8fd24b",
   "metadata": {},
   "outputs": [],
   "source": [
    "# Compile regular expression for matching lines.\n",
    "re_course = re.compile(r'([A-Z]{2}[0-9]{3})(.*)') # r for raw data"
   ]
  },
  {
   "cell_type": "markdown",
   "id": "21dba196-2282-4773-ac06-ee7cc6478e0c",
   "metadata": {},
   "source": [
    "<br>"
   ]
  },
  {
   "cell_type": "markdown",
   "id": "ff526da2-87b2-4a81-8e7e-2990d905f4b7",
   "metadata": {},
   "source": [
    "<br>"
   ]
  },
  {
   "cell_type": "markdown",
   "id": "f1eb2df0-7ce6-4e9b-a495-793abca2a5ec",
   "metadata": {},
   "source": [
    "Loop through the response for matches "
   ]
  },
  {
   "cell_type": "markdown",
   "id": "52f316e3-8796-480b-bc82-fe0d9d727d56",
   "metadata": {},
   "source": [
    "<br>"
   ]
  },
  {
   "cell_type": "markdown",
   "id": "6b5e3678-91e2-49f5-8743-0a56aa3ad8d1",
   "metadata": {},
   "source": [
    "<br>"
   ]
  },
  {
   "cell_type": "code",
   "execution_count": 8,
   "id": "cc773d5e-9b8c-465f-b764-890dfe3f1359",
   "metadata": {},
   "outputs": [],
   "source": [
    "# Function to clean up symbols in the course points\n",
    "def points_to_array(string):\n",
    "    portfolio = ' ' \n",
    "    if string[0] == '#':\n",
    "         portfolio = '#'\n",
    "    #random = ''\n",
    "    #if string[-1] == '*':\n",
    "     #    randon = '*'\n",
    "    points = ''\n",
    "    for i in string:\n",
    "         if i.isdigit():\n",
    "            points = points + i\n",
    "    return [points, portfolio]"
   ]
  },
  {
   "cell_type": "markdown",
   "id": "24402683-80e9-40f6-a545-87ca5cd06049",
   "metadata": {},
   "source": [
    "<br>"
   ]
  },
  {
   "cell_type": "markdown",
   "id": "32e759f5-4a79-443d-bfe6-62c8e7bcbf22",
   "metadata": {},
   "source": [
    "<br>"
   ]
  },
  {
   "cell_type": "code",
   "execution_count": 9,
   "id": "f8899bd5-672c-4474-97a1-493d7fa9031f",
   "metadata": {},
   "outputs": [],
   "source": [
    "# Path to csv file\n",
    "path2021 = 'datasets/cao2021_csv_' + nowstr + '.csv'"
   ]
  },
  {
   "cell_type": "markdown",
   "id": "33989845-778d-4db0-8e67-75c97272f007",
   "metadata": {},
   "source": [
    "<br>"
   ]
  },
  {
   "cell_type": "markdown",
   "id": "438f0b6d-2a6a-4c68-9ba8-8cdcb2b0a5d1",
   "metadata": {},
   "source": [
    "<br>"
   ]
  },
  {
   "cell_type": "code",
   "execution_count": 10,
   "id": "50056c4b-8298-4d91-b7c4-7d82e5ccbcea",
   "metadata": {},
   "outputs": [
    {
     "name": "stdout",
     "output_type": "stream",
     "text": [
      "Total number of lines is 949.\n"
     ]
    }
   ],
   "source": [
    "# KTracking number of courses matched\n",
    "no_lines = 0\n",
    "\n",
    "\n",
    "\n",
    "# Open the csv file for writing.\n",
    "with open(path2021, 'w') as f:\n",
    "    # Write a header row.\n",
    "    f.write(','.join(['code', 'title', 'pointsR1', 'pointsR2']) + '\\n')\n",
    "    # Loop through lines of the response.\n",
    "    for line in resp.iter_lines():\n",
    "        # Decode the line, using the wrong encoding!\n",
    "        dline = line.decode('cp1252')\n",
    "        # Match only the lines representing courses.\n",
    "        if re_course.fullmatch(dline):\n",
    "            # Add one to the lines counter.\n",
    "            no_lines = no_lines + 1\n",
    "            # The course code.\n",
    "            course_code = dline[:5] # i.e first 5 characters\n",
    "            # The course title.\n",
    "            course_title = dline[7:57].strip() # Strip gets rid of whitespace\n",
    "            # Round one points.\n",
    "            course_points = re.split(' +', dline[60:]) # split into substringd from index 60 \n",
    "            if len(course_points) != 2: # This is because last course has an extra substring\n",
    "                course_points = course_points[:2]\n",
    "            # Join the fields using a comma.\n",
    "            linesplit = [course_code, course_title, course_points[0], course_points[1]]\n",
    "            # Rejoin the substrings with commas in between.\n",
    "            f.write(','.join(linesplit) + '\\n')\n",
    "\n",
    "            \n",
    "            \n",
    "            \n",
    "            \n",
    "# Number of courses matched\n",
    "print(f\"Total number of lines is {no_lines}.\")"
   ]
  },
  {
   "cell_type": "markdown",
   "id": "5c9bcaae-955b-4d86-8839-a7dc4a3851c4",
   "metadata": {},
   "source": [
    "<br>"
   ]
  },
  {
   "cell_type": "markdown",
   "id": "63b74874-8949-4bfc-9fc0-cb1151ae4582",
   "metadata": {},
   "source": [
    "<br>"
   ]
  },
  {
   "cell_type": "markdown",
   "id": "f3e85b27-949d-44cf-8452-d5230f58b149",
   "metadata": {},
   "source": [
    "NB: it was verified as of 03/11/2021 that there were 949 courses exactly in the CAO 2021 points list."
   ]
  },
  {
   "cell_type": "markdown",
   "id": "ef42241f-6355-46e4-8ef2-753ab21d609f",
   "metadata": {},
   "source": [
    "<br>"
   ]
  },
  {
   "cell_type": "markdown",
   "id": "7c3da752-a60c-44d6-a240-708bc1be83b6",
   "metadata": {},
   "source": [
    "<br>"
   ]
  },
  {
   "cell_type": "code",
   "execution_count": 11,
   "id": "32d70a9b-ba92-47a0-a0c5-3a1036e7e11c",
   "metadata": {},
   "outputs": [],
   "source": [
    "# Reading dataframe\n",
    "df2021 = pd.read_csv(path2021, encoding='cp1252')"
   ]
  },
  {
   "cell_type": "markdown",
   "id": "90593809-2ea8-4f8b-a43f-b578d876cfc2",
   "metadata": {},
   "source": [
    "<br>"
   ]
  },
  {
   "cell_type": "markdown",
   "id": "1668d225-baa7-435a-90cf-13a80754845c",
   "metadata": {},
   "source": [
    "<br>"
   ]
  },
  {
   "cell_type": "code",
   "execution_count": 12,
   "id": "252823fd-3dd6-4e7f-822a-c882b43224b8",
   "metadata": {},
   "outputs": [
    {
     "data": {
      "text/html": [
       "<div>\n",
       "<style scoped>\n",
       "    .dataframe tbody tr th:only-of-type {\n",
       "        vertical-align: middle;\n",
       "    }\n",
       "\n",
       "    .dataframe tbody tr th {\n",
       "        vertical-align: top;\n",
       "    }\n",
       "\n",
       "    .dataframe thead th {\n",
       "        text-align: right;\n",
       "    }\n",
       "</style>\n",
       "<table border=\"1\" class=\"dataframe\">\n",
       "  <thead>\n",
       "    <tr style=\"text-align: right;\">\n",
       "      <th></th>\n",
       "      <th>code</th>\n",
       "      <th>title</th>\n",
       "      <th>pointsR1</th>\n",
       "      <th>pointsR2</th>\n",
       "    </tr>\n",
       "  </thead>\n",
       "  <tbody>\n",
       "    <tr>\n",
       "      <th>0</th>\n",
       "      <td>AL801</td>\n",
       "      <td>Software Design for Virtual Reality and Gaming</td>\n",
       "      <td>300</td>\n",
       "      <td>NaN</td>\n",
       "    </tr>\n",
       "    <tr>\n",
       "      <th>1</th>\n",
       "      <td>AL802</td>\n",
       "      <td>Software Design in Artificial Intelligence for...</td>\n",
       "      <td>313</td>\n",
       "      <td>NaN</td>\n",
       "    </tr>\n",
       "    <tr>\n",
       "      <th>2</th>\n",
       "      <td>AL803</td>\n",
       "      <td>Software Design for Mobile Apps and Connected ...</td>\n",
       "      <td>350</td>\n",
       "      <td>NaN</td>\n",
       "    </tr>\n",
       "    <tr>\n",
       "      <th>3</th>\n",
       "      <td>AL805</td>\n",
       "      <td>Computer Engineering for Network Infrastructure</td>\n",
       "      <td>321</td>\n",
       "      <td>NaN</td>\n",
       "    </tr>\n",
       "    <tr>\n",
       "      <th>4</th>\n",
       "      <td>AL810</td>\n",
       "      <td>Quantity Surveying</td>\n",
       "      <td>328</td>\n",
       "      <td>NaN</td>\n",
       "    </tr>\n",
       "    <tr>\n",
       "      <th>...</th>\n",
       "      <td>...</td>\n",
       "      <td>...</td>\n",
       "      <td>...</td>\n",
       "      <td>...</td>\n",
       "    </tr>\n",
       "    <tr>\n",
       "      <th>944</th>\n",
       "      <td>WD211</td>\n",
       "      <td>Creative Computing</td>\n",
       "      <td>270</td>\n",
       "      <td>NaN</td>\n",
       "    </tr>\n",
       "    <tr>\n",
       "      <th>945</th>\n",
       "      <td>WD212</td>\n",
       "      <td>Recreation and Sport Management</td>\n",
       "      <td>262</td>\n",
       "      <td>NaN</td>\n",
       "    </tr>\n",
       "    <tr>\n",
       "      <th>946</th>\n",
       "      <td>WD230</td>\n",
       "      <td>Mechanical and Manufacturing Engineering</td>\n",
       "      <td>230</td>\n",
       "      <td>230</td>\n",
       "    </tr>\n",
       "    <tr>\n",
       "      <th>947</th>\n",
       "      <td>WD231</td>\n",
       "      <td>Early Childhood Care and Education</td>\n",
       "      <td>266</td>\n",
       "      <td>NaN</td>\n",
       "    </tr>\n",
       "    <tr>\n",
       "      <th>948</th>\n",
       "      <td>WD232</td>\n",
       "      <td>Business Information Systems</td>\n",
       "      <td>261</td>\n",
       "      <td>261</td>\n",
       "    </tr>\n",
       "  </tbody>\n",
       "</table>\n",
       "<p>949 rows × 4 columns</p>\n",
       "</div>"
      ],
      "text/plain": [
       "      code                                              title pointsR1  \\\n",
       "0    AL801     Software Design for Virtual Reality and Gaming      300   \n",
       "1    AL802  Software Design in Artificial Intelligence for...      313   \n",
       "2    AL803  Software Design for Mobile Apps and Connected ...      350   \n",
       "3    AL805    Computer Engineering for Network Infrastructure      321   \n",
       "4    AL810                                 Quantity Surveying      328   \n",
       "..     ...                                                ...      ...   \n",
       "944  WD211                                 Creative Computing      270   \n",
       "945  WD212                    Recreation and Sport Management      262   \n",
       "946  WD230           Mechanical and Manufacturing Engineering      230   \n",
       "947  WD231                 Early Childhood Care and Education      266   \n",
       "948  WD232                       Business Information Systems      261   \n",
       "\n",
       "    pointsR2  \n",
       "0        NaN  \n",
       "1        NaN  \n",
       "2        NaN  \n",
       "3        NaN  \n",
       "4        NaN  \n",
       "..       ...  \n",
       "944      NaN  \n",
       "945      NaN  \n",
       "946      230  \n",
       "947      NaN  \n",
       "948      261  \n",
       "\n",
       "[949 rows x 4 columns]"
      ]
     },
     "execution_count": 12,
     "metadata": {},
     "output_type": "execute_result"
    }
   ],
   "source": [
    "# Checking dataframe\n",
    "df2021"
   ]
  },
  {
   "cell_type": "markdown",
   "id": "03c71059-36e6-41ef-bc87-0831974c17c2",
   "metadata": {},
   "source": [
    "<br>"
   ]
  },
  {
   "cell_type": "markdown",
   "id": "c8d89b6e-a0cd-466d-91e3-ebdcba929e42",
   "metadata": {
    "tags": []
   },
   "source": [
    "<br>"
   ]
  },
  {
   "cell_type": "code",
   "execution_count": 13,
   "id": "21659ed0-aa4c-4821-8f23-ce1027b60b1c",
   "metadata": {},
   "outputs": [],
   "source": [
    "# Creating a new column at the second index with the value 8\n",
    "df2021.insert(2, 'level', '8')"
   ]
  },
  {
   "cell_type": "code",
   "execution_count": 14,
   "id": "f95814bc-2a53-4b26-b117-d9993e0bebee",
   "metadata": {},
   "outputs": [
    {
     "data": {
      "text/html": [
       "<div>\n",
       "<style scoped>\n",
       "    .dataframe tbody tr th:only-of-type {\n",
       "        vertical-align: middle;\n",
       "    }\n",
       "\n",
       "    .dataframe tbody tr th {\n",
       "        vertical-align: top;\n",
       "    }\n",
       "\n",
       "    .dataframe thead th {\n",
       "        text-align: right;\n",
       "    }\n",
       "</style>\n",
       "<table border=\"1\" class=\"dataframe\">\n",
       "  <thead>\n",
       "    <tr style=\"text-align: right;\">\n",
       "      <th></th>\n",
       "      <th>code</th>\n",
       "      <th>title</th>\n",
       "      <th>level</th>\n",
       "      <th>pointsR1</th>\n",
       "      <th>pointsR2</th>\n",
       "    </tr>\n",
       "  </thead>\n",
       "  <tbody>\n",
       "    <tr>\n",
       "      <th>0</th>\n",
       "      <td>AL801</td>\n",
       "      <td>Software Design for Virtual Reality and Gaming</td>\n",
       "      <td>8</td>\n",
       "      <td>300</td>\n",
       "      <td>NaN</td>\n",
       "    </tr>\n",
       "    <tr>\n",
       "      <th>1</th>\n",
       "      <td>AL802</td>\n",
       "      <td>Software Design in Artificial Intelligence for...</td>\n",
       "      <td>8</td>\n",
       "      <td>313</td>\n",
       "      <td>NaN</td>\n",
       "    </tr>\n",
       "    <tr>\n",
       "      <th>2</th>\n",
       "      <td>AL803</td>\n",
       "      <td>Software Design for Mobile Apps and Connected ...</td>\n",
       "      <td>8</td>\n",
       "      <td>350</td>\n",
       "      <td>NaN</td>\n",
       "    </tr>\n",
       "    <tr>\n",
       "      <th>3</th>\n",
       "      <td>AL805</td>\n",
       "      <td>Computer Engineering for Network Infrastructure</td>\n",
       "      <td>8</td>\n",
       "      <td>321</td>\n",
       "      <td>NaN</td>\n",
       "    </tr>\n",
       "    <tr>\n",
       "      <th>4</th>\n",
       "      <td>AL810</td>\n",
       "      <td>Quantity Surveying</td>\n",
       "      <td>8</td>\n",
       "      <td>328</td>\n",
       "      <td>NaN</td>\n",
       "    </tr>\n",
       "    <tr>\n",
       "      <th>...</th>\n",
       "      <td>...</td>\n",
       "      <td>...</td>\n",
       "      <td>...</td>\n",
       "      <td>...</td>\n",
       "      <td>...</td>\n",
       "    </tr>\n",
       "    <tr>\n",
       "      <th>944</th>\n",
       "      <td>WD211</td>\n",
       "      <td>Creative Computing</td>\n",
       "      <td>8</td>\n",
       "      <td>270</td>\n",
       "      <td>NaN</td>\n",
       "    </tr>\n",
       "    <tr>\n",
       "      <th>945</th>\n",
       "      <td>WD212</td>\n",
       "      <td>Recreation and Sport Management</td>\n",
       "      <td>8</td>\n",
       "      <td>262</td>\n",
       "      <td>NaN</td>\n",
       "    </tr>\n",
       "    <tr>\n",
       "      <th>946</th>\n",
       "      <td>WD230</td>\n",
       "      <td>Mechanical and Manufacturing Engineering</td>\n",
       "      <td>8</td>\n",
       "      <td>230</td>\n",
       "      <td>230</td>\n",
       "    </tr>\n",
       "    <tr>\n",
       "      <th>947</th>\n",
       "      <td>WD231</td>\n",
       "      <td>Early Childhood Care and Education</td>\n",
       "      <td>8</td>\n",
       "      <td>266</td>\n",
       "      <td>NaN</td>\n",
       "    </tr>\n",
       "    <tr>\n",
       "      <th>948</th>\n",
       "      <td>WD232</td>\n",
       "      <td>Business Information Systems</td>\n",
       "      <td>8</td>\n",
       "      <td>261</td>\n",
       "      <td>261</td>\n",
       "    </tr>\n",
       "  </tbody>\n",
       "</table>\n",
       "<p>949 rows × 5 columns</p>\n",
       "</div>"
      ],
      "text/plain": [
       "      code                                              title level pointsR1  \\\n",
       "0    AL801     Software Design for Virtual Reality and Gaming     8      300   \n",
       "1    AL802  Software Design in Artificial Intelligence for...     8      313   \n",
       "2    AL803  Software Design for Mobile Apps and Connected ...     8      350   \n",
       "3    AL805    Computer Engineering for Network Infrastructure     8      321   \n",
       "4    AL810                                 Quantity Surveying     8      328   \n",
       "..     ...                                                ...   ...      ...   \n",
       "944  WD211                                 Creative Computing     8      270   \n",
       "945  WD212                    Recreation and Sport Management     8      262   \n",
       "946  WD230           Mechanical and Manufacturing Engineering     8      230   \n",
       "947  WD231                 Early Childhood Care and Education     8      266   \n",
       "948  WD232                       Business Information Systems     8      261   \n",
       "\n",
       "    pointsR2  \n",
       "0        NaN  \n",
       "1        NaN  \n",
       "2        NaN  \n",
       "3        NaN  \n",
       "4        NaN  \n",
       "..       ...  \n",
       "944      NaN  \n",
       "945      NaN  \n",
       "946      230  \n",
       "947      NaN  \n",
       "948      261  \n",
       "\n",
       "[949 rows x 5 columns]"
      ]
     },
     "execution_count": 14,
     "metadata": {},
     "output_type": "execute_result"
    }
   ],
   "source": [
    "df2021"
   ]
  },
  {
   "cell_type": "markdown",
   "id": "fae6e934-88bf-45fe-9416-e9a0957d2919",
   "metadata": {},
   "source": [
    "<br>"
   ]
  },
  {
   "cell_type": "markdown",
   "id": "74d1f907-0da2-4368-a126-03642f47f7d4",
   "metadata": {
    "tags": []
   },
   "source": [
    "<br>"
   ]
  },
  {
   "cell_type": "markdown",
   "id": "fe18a3bd-f5c0-4b4a-8a1b-eb56527a029b",
   "metadata": {
    "tags": []
   },
   "source": [
    "<br>"
   ]
  },
  {
   "cell_type": "markdown",
   "id": "d6cd9927-32ff-4f49-9419-bf6f0a391724",
   "metadata": {
    "tags": []
   },
   "source": [
    "<br>"
   ]
  },
  {
   "cell_type": "markdown",
   "id": "1aab34a7-c8c5-4cba-9eee-7ef7aa6b077c",
   "metadata": {},
   "source": [
    "### Level 6/7 Courses"
   ]
  },
  {
   "cell_type": "markdown",
   "id": "1e49e1fe-ce30-4bcf-a07f-fa17a57a1017",
   "metadata": {},
   "source": [
    "<br>"
   ]
  },
  {
   "cell_type": "markdown",
   "id": "ca6ac71a-1f21-4efb-80df-bdddfcf8f1db",
   "metadata": {},
   "source": [
    "<br>"
   ]
  },
  {
   "cell_type": "markdown",
   "id": "cff6020f-a909-41e7-ae84-4744f652e541",
   "metadata": {},
   "source": [
    "#### Server Request"
   ]
  },
  {
   "cell_type": "markdown",
   "id": "59e3a6aa-887f-48ce-a924-d9036e5dde4b",
   "metadata": {},
   "source": [
    "<br>"
   ]
  },
  {
   "cell_type": "code",
   "execution_count": 15,
   "id": "9e35f1a1-274c-4276-9650-b268d4906a27",
   "metadata": {},
   "outputs": [
    {
     "data": {
      "text/plain": [
       "<Response [200]>"
      ]
     },
     "execution_count": 15,
     "metadata": {},
     "output_type": "execute_result"
    }
   ],
   "source": [
    "# Fetch the CAO points URL.\n",
    "resp = rq.get('http://www2.cao.ie/points/l76.php')\n",
    "\n",
    "# 200 = ok. 404 = error: not found\n",
    "resp"
   ]
  },
  {
   "cell_type": "markdown",
   "id": "ad72189b-e466-4bb2-8d14-587ee6dab0c9",
   "metadata": {},
   "source": [
    "<br>"
   ]
  },
  {
   "cell_type": "markdown",
   "id": "925e6f9a-b606-41d1-a9bf-1eb369b51e6e",
   "metadata": {},
   "source": [
    "<br>"
   ]
  },
  {
   "cell_type": "markdown",
   "id": "0a0b8e9e-d117-4a4c-85c0-892cd35f2bb2",
   "metadata": {},
   "source": [
    "### Save Orignal Dataset\n",
    "\n",
    "***"
   ]
  },
  {
   "cell_type": "markdown",
   "id": "563b4e89-3440-4ee5-91e5-73c7e38995dc",
   "metadata": {},
   "source": [
    "<br>"
   ]
  },
  {
   "cell_type": "code",
   "execution_count": 16,
   "id": "f3a41287-faff-4236-a6fa-07830f621d81",
   "metadata": {},
   "outputs": [],
   "source": [
    "# Create a file path for the original data.\n",
    "pathhtml = 'datasets/cao2021_2' + nowstr + '.html'"
   ]
  },
  {
   "cell_type": "markdown",
   "id": "0ca78ac2-563d-4098-b01e-344fac0f8f13",
   "metadata": {},
   "source": [
    "<br>"
   ]
  },
  {
   "cell_type": "markdown",
   "id": "82efd7d1-50fe-4000-bd80-56daebcb487e",
   "metadata": {},
   "source": [
    "<br>"
   ]
  },
  {
   "cell_type": "markdown",
   "id": "4a95eaa4-52f8-4ea4-a854-8cab1ccf369e",
   "metadata": {
    "tags": []
   },
   "source": [
    "### Webserver Error\n",
    "\n",
    "***"
   ]
  },
  {
   "cell_type": "markdown",
   "id": "47713df7-760e-4e92-b46b-92fade14edcc",
   "metadata": {},
   "source": [
    "<br>"
   ]
  },
  {
   "cell_type": "markdown",
   "id": "f52c1cc4-8a41-4811-83a6-7f7417408882",
   "metadata": {},
   "source": [
    "<br>"
   ]
  },
  {
   "cell_type": "markdown",
   "id": "56be9e8c-6ba2-40cd-9f83-159b1b9dc567",
   "metadata": {
    "tags": []
   },
   "source": [
    "Webserver error - server says decode as:\n",
    "\n",
    "    Content-Type: text/html; charset=iso-8859-1\n",
    "However, one line uses \\x96 which isn't defined in iso-8859-1. \n",
    "\n",
    "Therefore, a similar decoding standard cp1252 was used. It is similar but inculdes #\\x96"
   ]
  },
  {
   "cell_type": "markdown",
   "id": "0dfa6ce1-bcf2-407c-9082-72f7c8feff75",
   "metadata": {},
   "source": [
    "<br>"
   ]
  },
  {
   "cell_type": "markdown",
   "id": "d0e7ed24-9021-4f85-afeb-ce17fe29536f",
   "metadata": {},
   "source": [
    "<br>"
   ]
  },
  {
   "cell_type": "code",
   "execution_count": 17,
   "id": "2edc1834-8431-4816-a5d6-cba689699080",
   "metadata": {},
   "outputs": [],
   "source": [
    "# Fixing the webserves wrong encoding\n",
    "original_encoding = resp.encoding\n",
    "\n",
    "# Changing to cp1252\n",
    "resp.encoding = 'cp1252'"
   ]
  },
  {
   "cell_type": "markdown",
   "id": "f7341ca0-bf7a-41e3-8d63-07fd9968b441",
   "metadata": {},
   "source": [
    "<br>"
   ]
  },
  {
   "cell_type": "markdown",
   "id": "7a1358e5-ed69-4e91-86a7-33f4f8536bfa",
   "metadata": {},
   "source": [
    "<br>"
   ]
  },
  {
   "cell_type": "code",
   "execution_count": 18,
   "id": "5d2786d0-5ab8-41fc-8301-ed73db5e3734",
   "metadata": {
    "tags": []
   },
   "outputs": [],
   "source": [
    "# Save the original html file.\n",
    "with open(pathhtml, 'w') as f: # Opening path in write mode\n",
    "    f.write(resp.text)"
   ]
  },
  {
   "cell_type": "markdown",
   "id": "a9cd1194-51f0-4df6-b8cf-514b77a2cb04",
   "metadata": {},
   "source": [
    "<br>"
   ]
  },
  {
   "cell_type": "markdown",
   "id": "5e946185-07c0-4622-8948-917228a304ea",
   "metadata": {},
   "source": [
    "<br>"
   ]
  },
  {
   "cell_type": "markdown",
   "id": "7055d808-887b-4ba1-8f55-54f8b279731e",
   "metadata": {
    "tags": []
   },
   "source": [
    "### Getting relevant data using Regular expressions\n",
    "\n",
    "***"
   ]
  },
  {
   "cell_type": "markdown",
   "id": "16163d04-a76d-4092-82fc-33aab9a89a91",
   "metadata": {},
   "source": [
    "[Regular Expression Documentation]('https://docs.python.org/3/library/re.html')"
   ]
  },
  {
   "cell_type": "markdown",
   "id": "9623d244-f191-415a-a687-c4eeffd5f663",
   "metadata": {},
   "source": [
    "<br>"
   ]
  },
  {
   "cell_type": "markdown",
   "id": "c0029771-2fd9-4ae5-b570-129f2b6e8e8d",
   "metadata": {},
   "source": [
    "To get the relevant lines from the response request, we use a regular expression. It is more efficent that recalling the expression everytime."
   ]
  },
  {
   "cell_type": "markdown",
   "id": "b7de1823-a36b-426f-af7f-66b8728aeb4c",
   "metadata": {},
   "source": [
    "<br>"
   ]
  },
  {
   "cell_type": "markdown",
   "id": "aaeba4d6-0255-4472-aae8-01951968027b",
   "metadata": {},
   "source": [
    "<br>"
   ]
  },
  {
   "cell_type": "code",
   "execution_count": 19,
   "id": "a5c495f7-4054-43d5-a52b-2edd6416c8f3",
   "metadata": {},
   "outputs": [],
   "source": [
    "# Compile regular expression for matching lines.\n",
    "re_course = re.compile(r'([A-Z]{2}[0-9]{3})(.*)') # r for raw data"
   ]
  },
  {
   "cell_type": "markdown",
   "id": "007b699f-fb97-44c8-b94c-cf313c2ea674",
   "metadata": {},
   "source": [
    "<br>"
   ]
  },
  {
   "cell_type": "markdown",
   "id": "215d4942-ea5b-4716-b607-6f64169574e1",
   "metadata": {},
   "source": [
    "<br>"
   ]
  },
  {
   "cell_type": "markdown",
   "id": "9d2f0fa8-e736-496e-9b87-603e55ea2471",
   "metadata": {},
   "source": [
    "Loop through the response for matches "
   ]
  },
  {
   "cell_type": "markdown",
   "id": "fa23b82f-2109-4b1a-a66e-7ee2fe9dc43f",
   "metadata": {},
   "source": [
    "<br>"
   ]
  },
  {
   "cell_type": "markdown",
   "id": "3b4791c0-8c90-416e-bd6b-a31c4e4bb6f2",
   "metadata": {},
   "source": [
    "<br>"
   ]
  },
  {
   "cell_type": "code",
   "execution_count": 20,
   "id": "312b48ce-9c98-43d3-8011-88269db60699",
   "metadata": {},
   "outputs": [],
   "source": [
    "# Path to csv file\n",
    "path2021_2 = 'datasets/cao2021_2_csv_' + nowstr + '.csv'"
   ]
  },
  {
   "cell_type": "markdown",
   "id": "91d423c6-fcf2-4850-82e5-d91f6a403468",
   "metadata": {},
   "source": [
    "<br>"
   ]
  },
  {
   "cell_type": "markdown",
   "id": "223a7fb3-b036-4453-a798-fd5b6ff9f739",
   "metadata": {},
   "source": [
    "<br>"
   ]
  },
  {
   "cell_type": "code",
   "execution_count": 21,
   "id": "fef948ae-0162-4e9e-af37-af4dfde6cfc1",
   "metadata": {},
   "outputs": [
    {
     "name": "stdout",
     "output_type": "stream",
     "text": [
      "Total number of lines is 416.\n"
     ]
    }
   ],
   "source": [
    "# KTracking number of courses matched\n",
    "no_lines = 0\n",
    "\n",
    "\n",
    "\n",
    "# Open the csv file for writing.\n",
    "with open(path2021_2, 'w') as f:\n",
    "    # Write a header row.\n",
    "    f.write(','.join(['code', 'title', 'pointsR1', 'pointsR2']) + '\\n')\n",
    "    # Loop through lines of the response.\n",
    "    for line in resp.iter_lines():\n",
    "        # Decode the line, using the wrong encoding!\n",
    "        dline = line.decode('cp1252')\n",
    "        # Match only the lines representing courses.\n",
    "        if re_course.fullmatch(dline):\n",
    "            # Add one to the lines counter.\n",
    "            no_lines = no_lines + 1\n",
    "            # The course code.\n",
    "            course_code = dline[:5]\n",
    "            # The course title.\n",
    "            course_title = dline[7:57].strip()\n",
    "            # Round one points.\n",
    "            course_points = re.split(' +', dline[60:])\n",
    "            if len(course_points) != 2:\n",
    "                course_points = course_points[:2]\n",
    "            # Join the fields using a comma.\n",
    "            linesplit = [course_code, course_title, course_points[0], course_points[1]]\n",
    "            # Rejoin the substrings with commas in between.\n",
    "            f.write(','.join(linesplit) + '\\n')\n",
    "\n",
    "\n",
    "            \n",
    "# Number of courses matched\n",
    "print(f\"Total number of lines is {no_lines}.\")"
   ]
  },
  {
   "cell_type": "markdown",
   "id": "49fc1aa8-0a27-42bc-8a7a-bb66c6e42766",
   "metadata": {},
   "source": [
    "<br>"
   ]
  },
  {
   "cell_type": "markdown",
   "id": "fe9dc1f9-bfb8-42df-88a0-953861e7581d",
   "metadata": {},
   "source": [
    "<br>"
   ]
  },
  {
   "cell_type": "markdown",
   "id": "703a1c47-75c7-4031-94fb-72b9e7a9564e",
   "metadata": {},
   "source": [
    "NB: it was verified as of 03/11/2021 that there were 949 courses exactly in the CAO 2021 points list."
   ]
  },
  {
   "cell_type": "markdown",
   "id": "08d858b6-5936-4843-bf99-03f495f542e4",
   "metadata": {},
   "source": [
    "<br>"
   ]
  },
  {
   "cell_type": "markdown",
   "id": "27f36137-4135-403d-b7e5-ad3a0dcbf990",
   "metadata": {},
   "source": [
    "<br>"
   ]
  },
  {
   "cell_type": "code",
   "execution_count": 22,
   "id": "8066218e-f2dd-4221-9707-3e9fb41de43a",
   "metadata": {},
   "outputs": [],
   "source": [
    "# Reading dataframe\n",
    "df2021_2 = pd.read_csv(path2021_2, encoding='cp1252')"
   ]
  },
  {
   "cell_type": "markdown",
   "id": "3e367750-8a0b-4ff1-873a-fde5349e82c1",
   "metadata": {},
   "source": [
    "<br>"
   ]
  },
  {
   "cell_type": "markdown",
   "id": "8fbbf366-715e-4bbb-b8cd-f1abd863686f",
   "metadata": {},
   "source": [
    "<br>"
   ]
  },
  {
   "cell_type": "code",
   "execution_count": 23,
   "id": "b339851d-0d2e-4ac5-b51e-059d7c0cb0b1",
   "metadata": {},
   "outputs": [
    {
     "data": {
      "text/html": [
       "<div>\n",
       "<style scoped>\n",
       "    .dataframe tbody tr th:only-of-type {\n",
       "        vertical-align: middle;\n",
       "    }\n",
       "\n",
       "    .dataframe tbody tr th {\n",
       "        vertical-align: top;\n",
       "    }\n",
       "\n",
       "    .dataframe thead th {\n",
       "        text-align: right;\n",
       "    }\n",
       "</style>\n",
       "<table border=\"1\" class=\"dataframe\">\n",
       "  <thead>\n",
       "    <tr style=\"text-align: right;\">\n",
       "      <th></th>\n",
       "      <th>code</th>\n",
       "      <th>title</th>\n",
       "      <th>pointsR1</th>\n",
       "      <th>pointsR2</th>\n",
       "    </tr>\n",
       "  </thead>\n",
       "  <tbody>\n",
       "    <tr>\n",
       "      <th>0</th>\n",
       "      <td>AL605</td>\n",
       "      <td>Music and Instrument Technology</td>\n",
       "      <td>211</td>\n",
       "      <td>NaN</td>\n",
       "    </tr>\n",
       "    <tr>\n",
       "      <th>1</th>\n",
       "      <td>AL630</td>\n",
       "      <td>Pharmacy Technician</td>\n",
       "      <td>308</td>\n",
       "      <td>NaN</td>\n",
       "    </tr>\n",
       "    <tr>\n",
       "      <th>2</th>\n",
       "      <td>AL631</td>\n",
       "      <td>Dental Nursing</td>\n",
       "      <td>311</td>\n",
       "      <td>NaN</td>\n",
       "    </tr>\n",
       "    <tr>\n",
       "      <th>3</th>\n",
       "      <td>AL632</td>\n",
       "      <td>Applied Science</td>\n",
       "      <td>297</td>\n",
       "      <td>NaN</td>\n",
       "    </tr>\n",
       "    <tr>\n",
       "      <th>4</th>\n",
       "      <td>AL650</td>\n",
       "      <td>Business</td>\n",
       "      <td>AQA</td>\n",
       "      <td>AQA</td>\n",
       "    </tr>\n",
       "    <tr>\n",
       "      <th>...</th>\n",
       "      <td>...</td>\n",
       "      <td>...</td>\n",
       "      <td>...</td>\n",
       "      <td>...</td>\n",
       "    </tr>\n",
       "    <tr>\n",
       "      <th>411</th>\n",
       "      <td>WD188</td>\n",
       "      <td>Applied Health Care</td>\n",
       "      <td>220</td>\n",
       "      <td>NaN</td>\n",
       "    </tr>\n",
       "    <tr>\n",
       "      <th>412</th>\n",
       "      <td>WD205</td>\n",
       "      <td>Molecular Biology with Biopharmaceutical Science</td>\n",
       "      <td>AQA</td>\n",
       "      <td>262v</td>\n",
       "    </tr>\n",
       "    <tr>\n",
       "      <th>413</th>\n",
       "      <td>WD206</td>\n",
       "      <td>Electronic Engineering</td>\n",
       "      <td>180</td>\n",
       "      <td>NaN</td>\n",
       "    </tr>\n",
       "    <tr>\n",
       "      <th>414</th>\n",
       "      <td>WD207</td>\n",
       "      <td>Mechanical Engineering</td>\n",
       "      <td>172</td>\n",
       "      <td>NaN</td>\n",
       "    </tr>\n",
       "    <tr>\n",
       "      <th>415</th>\n",
       "      <td>WD208</td>\n",
       "      <td>Manufacturing Engineering</td>\n",
       "      <td>317</td>\n",
       "      <td>NaN</td>\n",
       "    </tr>\n",
       "  </tbody>\n",
       "</table>\n",
       "<p>416 rows × 4 columns</p>\n",
       "</div>"
      ],
      "text/plain": [
       "      code                                             title pointsR1 pointsR2\n",
       "0    AL605                   Music and Instrument Technology      211      NaN\n",
       "1    AL630                               Pharmacy Technician      308      NaN\n",
       "2    AL631                                    Dental Nursing      311      NaN\n",
       "3    AL632                                   Applied Science      297      NaN\n",
       "4    AL650                                          Business      AQA      AQA\n",
       "..     ...                                               ...      ...      ...\n",
       "411  WD188                               Applied Health Care      220      NaN\n",
       "412  WD205  Molecular Biology with Biopharmaceutical Science      AQA     262v\n",
       "413  WD206                            Electronic Engineering      180      NaN\n",
       "414  WD207                            Mechanical Engineering      172      NaN\n",
       "415  WD208                         Manufacturing Engineering      317      NaN\n",
       "\n",
       "[416 rows x 4 columns]"
      ]
     },
     "execution_count": 23,
     "metadata": {},
     "output_type": "execute_result"
    }
   ],
   "source": [
    "# Checking dataframe\n",
    "df2021_2"
   ]
  },
  {
   "cell_type": "markdown",
   "id": "2f6c1e9f-c1b1-4ba7-99bc-5d51af8278c8",
   "metadata": {},
   "source": [
    "<br>"
   ]
  },
  {
   "cell_type": "markdown",
   "id": "cc600f37-141d-4d5f-bf5c-6ff0ff700cef",
   "metadata": {},
   "source": [
    "<br>"
   ]
  },
  {
   "cell_type": "code",
   "execution_count": 24,
   "id": "6b752686-68be-4fa0-adc5-f7898fcded5b",
   "metadata": {},
   "outputs": [],
   "source": [
    "# Creating a new column at the second index\n",
    "df2021_2.insert(2, 'level', '6/7')"
   ]
  },
  {
   "cell_type": "code",
   "execution_count": 25,
   "id": "720aed90-c1ef-4cc1-81f4-699bc1aeca7e",
   "metadata": {},
   "outputs": [
    {
     "data": {
      "text/html": [
       "<div>\n",
       "<style scoped>\n",
       "    .dataframe tbody tr th:only-of-type {\n",
       "        vertical-align: middle;\n",
       "    }\n",
       "\n",
       "    .dataframe tbody tr th {\n",
       "        vertical-align: top;\n",
       "    }\n",
       "\n",
       "    .dataframe thead th {\n",
       "        text-align: right;\n",
       "    }\n",
       "</style>\n",
       "<table border=\"1\" class=\"dataframe\">\n",
       "  <thead>\n",
       "    <tr style=\"text-align: right;\">\n",
       "      <th></th>\n",
       "      <th>code</th>\n",
       "      <th>title</th>\n",
       "      <th>level</th>\n",
       "      <th>pointsR1</th>\n",
       "      <th>pointsR2</th>\n",
       "    </tr>\n",
       "  </thead>\n",
       "  <tbody>\n",
       "    <tr>\n",
       "      <th>0</th>\n",
       "      <td>AL605</td>\n",
       "      <td>Music and Instrument Technology</td>\n",
       "      <td>6/7</td>\n",
       "      <td>211</td>\n",
       "      <td>NaN</td>\n",
       "    </tr>\n",
       "    <tr>\n",
       "      <th>1</th>\n",
       "      <td>AL630</td>\n",
       "      <td>Pharmacy Technician</td>\n",
       "      <td>6/7</td>\n",
       "      <td>308</td>\n",
       "      <td>NaN</td>\n",
       "    </tr>\n",
       "    <tr>\n",
       "      <th>2</th>\n",
       "      <td>AL631</td>\n",
       "      <td>Dental Nursing</td>\n",
       "      <td>6/7</td>\n",
       "      <td>311</td>\n",
       "      <td>NaN</td>\n",
       "    </tr>\n",
       "    <tr>\n",
       "      <th>3</th>\n",
       "      <td>AL632</td>\n",
       "      <td>Applied Science</td>\n",
       "      <td>6/7</td>\n",
       "      <td>297</td>\n",
       "      <td>NaN</td>\n",
       "    </tr>\n",
       "    <tr>\n",
       "      <th>4</th>\n",
       "      <td>AL650</td>\n",
       "      <td>Business</td>\n",
       "      <td>6/7</td>\n",
       "      <td>AQA</td>\n",
       "      <td>AQA</td>\n",
       "    </tr>\n",
       "    <tr>\n",
       "      <th>...</th>\n",
       "      <td>...</td>\n",
       "      <td>...</td>\n",
       "      <td>...</td>\n",
       "      <td>...</td>\n",
       "      <td>...</td>\n",
       "    </tr>\n",
       "    <tr>\n",
       "      <th>411</th>\n",
       "      <td>WD188</td>\n",
       "      <td>Applied Health Care</td>\n",
       "      <td>6/7</td>\n",
       "      <td>220</td>\n",
       "      <td>NaN</td>\n",
       "    </tr>\n",
       "    <tr>\n",
       "      <th>412</th>\n",
       "      <td>WD205</td>\n",
       "      <td>Molecular Biology with Biopharmaceutical Science</td>\n",
       "      <td>6/7</td>\n",
       "      <td>AQA</td>\n",
       "      <td>262v</td>\n",
       "    </tr>\n",
       "    <tr>\n",
       "      <th>413</th>\n",
       "      <td>WD206</td>\n",
       "      <td>Electronic Engineering</td>\n",
       "      <td>6/7</td>\n",
       "      <td>180</td>\n",
       "      <td>NaN</td>\n",
       "    </tr>\n",
       "    <tr>\n",
       "      <th>414</th>\n",
       "      <td>WD207</td>\n",
       "      <td>Mechanical Engineering</td>\n",
       "      <td>6/7</td>\n",
       "      <td>172</td>\n",
       "      <td>NaN</td>\n",
       "    </tr>\n",
       "    <tr>\n",
       "      <th>415</th>\n",
       "      <td>WD208</td>\n",
       "      <td>Manufacturing Engineering</td>\n",
       "      <td>6/7</td>\n",
       "      <td>317</td>\n",
       "      <td>NaN</td>\n",
       "    </tr>\n",
       "  </tbody>\n",
       "</table>\n",
       "<p>416 rows × 5 columns</p>\n",
       "</div>"
      ],
      "text/plain": [
       "      code                                             title level pointsR1  \\\n",
       "0    AL605                   Music and Instrument Technology   6/7      211   \n",
       "1    AL630                               Pharmacy Technician   6/7      308   \n",
       "2    AL631                                    Dental Nursing   6/7      311   \n",
       "3    AL632                                   Applied Science   6/7      297   \n",
       "4    AL650                                          Business   6/7      AQA   \n",
       "..     ...                                               ...   ...      ...   \n",
       "411  WD188                               Applied Health Care   6/7      220   \n",
       "412  WD205  Molecular Biology with Biopharmaceutical Science   6/7      AQA   \n",
       "413  WD206                            Electronic Engineering   6/7      180   \n",
       "414  WD207                            Mechanical Engineering   6/7      172   \n",
       "415  WD208                         Manufacturing Engineering   6/7      317   \n",
       "\n",
       "    pointsR2  \n",
       "0        NaN  \n",
       "1        NaN  \n",
       "2        NaN  \n",
       "3        NaN  \n",
       "4        AQA  \n",
       "..       ...  \n",
       "411      NaN  \n",
       "412     262v  \n",
       "413      NaN  \n",
       "414      NaN  \n",
       "415      NaN  \n",
       "\n",
       "[416 rows x 5 columns]"
      ]
     },
     "execution_count": 25,
     "metadata": {},
     "output_type": "execute_result"
    }
   ],
   "source": [
    "df2021_2"
   ]
  },
  {
   "cell_type": "code",
   "execution_count": null,
   "id": "da1a9f4f-61a7-4aae-9d4b-34c6de549407",
   "metadata": {},
   "outputs": [],
   "source": []
  },
  {
   "cell_type": "code",
   "execution_count": null,
   "id": "56721ba5-4427-433a-a581-8f0759fac782",
   "metadata": {},
   "outputs": [],
   "source": []
  },
  {
   "cell_type": "code",
   "execution_count": null,
   "id": "968c36b0-5508-4b76-b288-2adaa25efa3d",
   "metadata": {},
   "outputs": [],
   "source": []
  },
  {
   "cell_type": "markdown",
   "id": "c5abe6df-6589-4df5-846a-c5b05aa1664f",
   "metadata": {},
   "source": [
    "<br>"
   ]
  },
  {
   "cell_type": "markdown",
   "id": "fbb9668b-5e79-4303-a523-a22a1166ebe7",
   "metadata": {},
   "source": [
    "<br>"
   ]
  },
  {
   "cell_type": "markdown",
   "id": "d48bb791-9529-4378-af8c-b09aff45c3be",
   "metadata": {},
   "source": [
    "<br>"
   ]
  },
  {
   "cell_type": "markdown",
   "id": "13fbf9c3-a159-4fcb-8d8b-548f3be117c4",
   "metadata": {},
   "source": [
    "***\n",
    "\n",
    "## 2020 Points\n",
    "***\n",
    "\n",
    "https://www.cao.ie/index.php?page=points&p=2020"
   ]
  },
  {
   "cell_type": "markdown",
   "id": "fb29f22d-7345-4c71-860a-e80332e936f5",
   "metadata": {},
   "source": [
    "<br>"
   ]
  },
  {
   "cell_type": "markdown",
   "id": "1ae06735-c174-45bc-b6f0-6f50355101c5",
   "metadata": {},
   "source": [
    "<br>"
   ]
  },
  {
   "cell_type": "markdown",
   "id": "c7834820-32b4-464c-bd7a-1b51c5e5ec60",
   "metadata": {},
   "source": [
    "Level 6, 7 and 8 courses are inculded in the same excel file"
   ]
  },
  {
   "cell_type": "markdown",
   "id": "c1e9f602-82fa-44fd-859b-ac78352e1072",
   "metadata": {},
   "source": [
    "<br>"
   ]
  },
  {
   "cell_type": "markdown",
   "id": "9db25757-97c2-47ad-9ac5-804d9243c43f",
   "metadata": {},
   "source": [
    "<br>"
   ]
  },
  {
   "cell_type": "code",
   "execution_count": 26,
   "id": "6701de59-b46f-4af3-8d8c-4260104ab023",
   "metadata": {},
   "outputs": [],
   "source": [
    "# Getting url \n",
    "url2020 = 'http://www2.cao.ie/points/CAOPointsCharts2020.xlsx'"
   ]
  },
  {
   "cell_type": "markdown",
   "id": "20fb1b98-5d96-4d93-8409-54997a539231",
   "metadata": {},
   "source": [
    "<br>"
   ]
  },
  {
   "cell_type": "markdown",
   "id": "58e6f26e-3892-497e-9f1f-09d90728bef8",
   "metadata": {},
   "source": [
    "<br>"
   ]
  },
  {
   "cell_type": "markdown",
   "id": "16d1c06b-a2b6-457e-bb86-ac1d4f6899b0",
   "metadata": {},
   "source": [
    "Save Original File"
   ]
  },
  {
   "cell_type": "markdown",
   "id": "4de40eb4-267c-4e8d-a36e-58712056e93a",
   "metadata": {},
   "source": [
    "<br>"
   ]
  },
  {
   "cell_type": "markdown",
   "id": "8bf1250d-d135-42d5-8413-81139ff61559",
   "metadata": {},
   "source": [
    "<br>"
   ]
  },
  {
   "cell_type": "code",
   "execution_count": 27,
   "id": "ffa2d633-b84c-4129-a0cf-2c6eeb4f965b",
   "metadata": {},
   "outputs": [],
   "source": [
    "# Create a file path for the original data.\n",
    "pathxlsx = 'datasets/cao2020_' + nowstr + '.xlsx'"
   ]
  },
  {
   "cell_type": "markdown",
   "id": "04152d20-4be0-4911-8ab3-b4777e103bd9",
   "metadata": {},
   "source": [
    "<br>"
   ]
  },
  {
   "cell_type": "markdown",
   "id": "57eda5ea-e336-4b1d-aaee-e0b5f9df4608",
   "metadata": {},
   "source": [
    "<br>"
   ]
  },
  {
   "cell_type": "code",
   "execution_count": 28,
   "id": "971ba6f2-129d-411c-b41b-f8d68d69212d",
   "metadata": {},
   "outputs": [
    {
     "data": {
      "text/plain": [
       "('datasets/cao2020_20211128_222312.xlsx',\n",
       " <http.client.HTTPMessage at 0x1cdd5359be0>)"
      ]
     },
     "execution_count": 28,
     "metadata": {},
     "output_type": "execute_result"
    }
   ],
   "source": [
    "# Fetching data\n",
    "urlrq.urlretrieve(url2020, pathxlsx)"
   ]
  },
  {
   "cell_type": "markdown",
   "id": "b2b97824-4fea-4f60-a579-284178b43c28",
   "metadata": {},
   "source": [
    "<br>"
   ]
  },
  {
   "cell_type": "markdown",
   "id": "013f22b3-09e2-400a-85ca-23772816124e",
   "metadata": {},
   "source": [
    "<br>"
   ]
  },
  {
   "cell_type": "markdown",
   "id": "640690d4-6218-401e-b491-82f72bde68dd",
   "metadata": {},
   "source": [
    "Load Spreadsheet using pandas"
   ]
  },
  {
   "cell_type": "markdown",
   "id": "abbce2f8-cb6e-4f3b-be42-e44abe89372c",
   "metadata": {},
   "source": [
    "<br>"
   ]
  },
  {
   "cell_type": "markdown",
   "id": "ba9c1d91-6e7b-4fff-a8c4-084b4c56fac4",
   "metadata": {},
   "source": [
    "<br>"
   ]
  },
  {
   "cell_type": "code",
   "execution_count": 29,
   "id": "7d1b9d88-2296-44e2-83bc-55021640d157",
   "metadata": {},
   "outputs": [],
   "source": [
    "# Download and parse the excel spreadsheet. First few rows where a blurb\n",
    "df2020 = pd.read_excel(url2020, skiprows=10)\n"
   ]
  },
  {
   "cell_type": "markdown",
   "id": "8a071385-e973-455e-ac45-d29dd3f97274",
   "metadata": {},
   "source": [
    "<br>"
   ]
  },
  {
   "cell_type": "markdown",
   "id": "818f81d4-c54e-4d61-bf4f-b503d8202f23",
   "metadata": {},
   "source": [
    "<br>"
   ]
  },
  {
   "cell_type": "code",
   "execution_count": 30,
   "id": "0bb75e55-4651-4059-aff0-ad0747f3c2f0",
   "metadata": {},
   "outputs": [],
   "source": [
    "#df2020.columns = ['Code', 'Title']"
   ]
  },
  {
   "cell_type": "code",
   "execution_count": 31,
   "id": "61e8dc44-4dc4-4472-ad7f-0bdea4a04e38",
   "metadata": {
    "tags": []
   },
   "outputs": [
    {
     "data": {
      "text/html": [
       "<div>\n",
       "<style scoped>\n",
       "    .dataframe tbody tr th:only-of-type {\n",
       "        vertical-align: middle;\n",
       "    }\n",
       "\n",
       "    .dataframe tbody tr th {\n",
       "        vertical-align: top;\n",
       "    }\n",
       "\n",
       "    .dataframe thead th {\n",
       "        text-align: right;\n",
       "    }\n",
       "</style>\n",
       "<table border=\"1\" class=\"dataframe\">\n",
       "  <thead>\n",
       "    <tr style=\"text-align: right;\">\n",
       "      <th></th>\n",
       "      <th>CATEGORY (i.e.ISCED description)</th>\n",
       "      <th>COURSE TITLE</th>\n",
       "      <th>COURSE CODE2</th>\n",
       "      <th>R1 POINTS</th>\n",
       "      <th>R1 Random *</th>\n",
       "      <th>R2 POINTS</th>\n",
       "      <th>R2 Random*</th>\n",
       "      <th>EOS</th>\n",
       "      <th>EOS Random *</th>\n",
       "      <th>EOS Mid-point</th>\n",
       "      <th>...</th>\n",
       "      <th>avp</th>\n",
       "      <th>v</th>\n",
       "      <th>Column1</th>\n",
       "      <th>Column2</th>\n",
       "      <th>Column3</th>\n",
       "      <th>Column4</th>\n",
       "      <th>Column5</th>\n",
       "      <th>Column6</th>\n",
       "      <th>Column7</th>\n",
       "      <th>Column8</th>\n",
       "    </tr>\n",
       "  </thead>\n",
       "  <tbody>\n",
       "    <tr>\n",
       "      <th>0</th>\n",
       "      <td>Business and administration</td>\n",
       "      <td>International Business</td>\n",
       "      <td>AC120</td>\n",
       "      <td>209</td>\n",
       "      <td>NaN</td>\n",
       "      <td>NaN</td>\n",
       "      <td>NaN</td>\n",
       "      <td>209</td>\n",
       "      <td>NaN</td>\n",
       "      <td>280</td>\n",
       "      <td>...</td>\n",
       "      <td>NaN</td>\n",
       "      <td>NaN</td>\n",
       "      <td>NaN</td>\n",
       "      <td>NaN</td>\n",
       "      <td>NaN</td>\n",
       "      <td>NaN</td>\n",
       "      <td>NaN</td>\n",
       "      <td>NaN</td>\n",
       "      <td>NaN</td>\n",
       "      <td>NaN</td>\n",
       "    </tr>\n",
       "    <tr>\n",
       "      <th>1</th>\n",
       "      <td>Humanities (except languages)</td>\n",
       "      <td>Liberal Arts</td>\n",
       "      <td>AC137</td>\n",
       "      <td>252</td>\n",
       "      <td>NaN</td>\n",
       "      <td>NaN</td>\n",
       "      <td>NaN</td>\n",
       "      <td>252</td>\n",
       "      <td>NaN</td>\n",
       "      <td>270</td>\n",
       "      <td>...</td>\n",
       "      <td>NaN</td>\n",
       "      <td>NaN</td>\n",
       "      <td>NaN</td>\n",
       "      <td>NaN</td>\n",
       "      <td>NaN</td>\n",
       "      <td>NaN</td>\n",
       "      <td>NaN</td>\n",
       "      <td>NaN</td>\n",
       "      <td>NaN</td>\n",
       "      <td>NaN</td>\n",
       "    </tr>\n",
       "    <tr>\n",
       "      <th>2</th>\n",
       "      <td>Arts</td>\n",
       "      <td>First Year Art &amp; Design (Common Entry,portfolio)</td>\n",
       "      <td>AD101</td>\n",
       "      <td>#+matric</td>\n",
       "      <td>NaN</td>\n",
       "      <td>NaN</td>\n",
       "      <td>NaN</td>\n",
       "      <td>#+matric</td>\n",
       "      <td>NaN</td>\n",
       "      <td>#+matric</td>\n",
       "      <td>...</td>\n",
       "      <td>NaN</td>\n",
       "      <td>NaN</td>\n",
       "      <td>NaN</td>\n",
       "      <td>NaN</td>\n",
       "      <td>NaN</td>\n",
       "      <td>NaN</td>\n",
       "      <td>NaN</td>\n",
       "      <td>NaN</td>\n",
       "      <td>NaN</td>\n",
       "      <td>NaN</td>\n",
       "    </tr>\n",
       "    <tr>\n",
       "      <th>3</th>\n",
       "      <td>Arts</td>\n",
       "      <td>Graphic Design and Moving Image Design (portfo...</td>\n",
       "      <td>AD102</td>\n",
       "      <td>#+matric</td>\n",
       "      <td>NaN</td>\n",
       "      <td>NaN</td>\n",
       "      <td>NaN</td>\n",
       "      <td>#+matric</td>\n",
       "      <td>NaN</td>\n",
       "      <td>#+matric</td>\n",
       "      <td>...</td>\n",
       "      <td>NaN</td>\n",
       "      <td>NaN</td>\n",
       "      <td>NaN</td>\n",
       "      <td>NaN</td>\n",
       "      <td>NaN</td>\n",
       "      <td>NaN</td>\n",
       "      <td>NaN</td>\n",
       "      <td>NaN</td>\n",
       "      <td>NaN</td>\n",
       "      <td>NaN</td>\n",
       "    </tr>\n",
       "    <tr>\n",
       "      <th>4</th>\n",
       "      <td>Arts</td>\n",
       "      <td>Textile &amp; Surface Design and Jewellery &amp; Objec...</td>\n",
       "      <td>AD103</td>\n",
       "      <td>#+matric</td>\n",
       "      <td>NaN</td>\n",
       "      <td>NaN</td>\n",
       "      <td>NaN</td>\n",
       "      <td>#+matric</td>\n",
       "      <td>NaN</td>\n",
       "      <td>#+matric</td>\n",
       "      <td>...</td>\n",
       "      <td>NaN</td>\n",
       "      <td>NaN</td>\n",
       "      <td>NaN</td>\n",
       "      <td>NaN</td>\n",
       "      <td>NaN</td>\n",
       "      <td>NaN</td>\n",
       "      <td>NaN</td>\n",
       "      <td>NaN</td>\n",
       "      <td>NaN</td>\n",
       "      <td>NaN</td>\n",
       "    </tr>\n",
       "    <tr>\n",
       "      <th>...</th>\n",
       "      <td>...</td>\n",
       "      <td>...</td>\n",
       "      <td>...</td>\n",
       "      <td>...</td>\n",
       "      <td>...</td>\n",
       "      <td>...</td>\n",
       "      <td>...</td>\n",
       "      <td>...</td>\n",
       "      <td>...</td>\n",
       "      <td>...</td>\n",
       "      <td>...</td>\n",
       "      <td>...</td>\n",
       "      <td>...</td>\n",
       "      <td>...</td>\n",
       "      <td>...</td>\n",
       "      <td>...</td>\n",
       "      <td>...</td>\n",
       "      <td>...</td>\n",
       "      <td>...</td>\n",
       "      <td>...</td>\n",
       "      <td>...</td>\n",
       "    </tr>\n",
       "    <tr>\n",
       "      <th>1459</th>\n",
       "      <td>Manufacturing and processing</td>\n",
       "      <td>Manufacturing Engineering</td>\n",
       "      <td>WD208</td>\n",
       "      <td>188</td>\n",
       "      <td>NaN</td>\n",
       "      <td>NaN</td>\n",
       "      <td>NaN</td>\n",
       "      <td>188</td>\n",
       "      <td>NaN</td>\n",
       "      <td>339</td>\n",
       "      <td>...</td>\n",
       "      <td>NaN</td>\n",
       "      <td>NaN</td>\n",
       "      <td>NaN</td>\n",
       "      <td>NaN</td>\n",
       "      <td>NaN</td>\n",
       "      <td>NaN</td>\n",
       "      <td>NaN</td>\n",
       "      <td>NaN</td>\n",
       "      <td>NaN</td>\n",
       "      <td>NaN</td>\n",
       "    </tr>\n",
       "    <tr>\n",
       "      <th>1460</th>\n",
       "      <td>Information and Communication Technologies (ICTs)</td>\n",
       "      <td>Software Systems Development</td>\n",
       "      <td>WD210</td>\n",
       "      <td>279</td>\n",
       "      <td>NaN</td>\n",
       "      <td>NaN</td>\n",
       "      <td>NaN</td>\n",
       "      <td>279</td>\n",
       "      <td>NaN</td>\n",
       "      <td>337</td>\n",
       "      <td>...</td>\n",
       "      <td>NaN</td>\n",
       "      <td>NaN</td>\n",
       "      <td>NaN</td>\n",
       "      <td>NaN</td>\n",
       "      <td>NaN</td>\n",
       "      <td>NaN</td>\n",
       "      <td>NaN</td>\n",
       "      <td>NaN</td>\n",
       "      <td>NaN</td>\n",
       "      <td>NaN</td>\n",
       "    </tr>\n",
       "    <tr>\n",
       "      <th>1461</th>\n",
       "      <td>Information and Communication Technologies (ICTs)</td>\n",
       "      <td>Creative Computing</td>\n",
       "      <td>WD211</td>\n",
       "      <td>271</td>\n",
       "      <td>NaN</td>\n",
       "      <td>NaN</td>\n",
       "      <td>NaN</td>\n",
       "      <td>271</td>\n",
       "      <td>NaN</td>\n",
       "      <td>318</td>\n",
       "      <td>...</td>\n",
       "      <td>NaN</td>\n",
       "      <td>NaN</td>\n",
       "      <td>NaN</td>\n",
       "      <td>NaN</td>\n",
       "      <td>NaN</td>\n",
       "      <td>NaN</td>\n",
       "      <td>NaN</td>\n",
       "      <td>NaN</td>\n",
       "      <td>NaN</td>\n",
       "      <td>NaN</td>\n",
       "    </tr>\n",
       "    <tr>\n",
       "      <th>1462</th>\n",
       "      <td>Personal services</td>\n",
       "      <td>Recreation and Sport Management</td>\n",
       "      <td>WD212</td>\n",
       "      <td>270</td>\n",
       "      <td>NaN</td>\n",
       "      <td>NaN</td>\n",
       "      <td>NaN</td>\n",
       "      <td>270</td>\n",
       "      <td>NaN</td>\n",
       "      <td>349</td>\n",
       "      <td>...</td>\n",
       "      <td>NaN</td>\n",
       "      <td>NaN</td>\n",
       "      <td>NaN</td>\n",
       "      <td>NaN</td>\n",
       "      <td>NaN</td>\n",
       "      <td>NaN</td>\n",
       "      <td>NaN</td>\n",
       "      <td>NaN</td>\n",
       "      <td>NaN</td>\n",
       "      <td>NaN</td>\n",
       "    </tr>\n",
       "    <tr>\n",
       "      <th>1463</th>\n",
       "      <td>Engineering and engineering trades</td>\n",
       "      <td>Mechanical and Manufacturing Engineering</td>\n",
       "      <td>WD230</td>\n",
       "      <td>253</td>\n",
       "      <td>NaN</td>\n",
       "      <td>NaN</td>\n",
       "      <td>NaN</td>\n",
       "      <td>253</td>\n",
       "      <td>NaN</td>\n",
       "      <td>369</td>\n",
       "      <td>...</td>\n",
       "      <td>NaN</td>\n",
       "      <td>NaN</td>\n",
       "      <td>NaN</td>\n",
       "      <td>NaN</td>\n",
       "      <td>NaN</td>\n",
       "      <td>NaN</td>\n",
       "      <td>NaN</td>\n",
       "      <td>NaN</td>\n",
       "      <td>NaN</td>\n",
       "      <td>NaN</td>\n",
       "    </tr>\n",
       "  </tbody>\n",
       "</table>\n",
       "<p>1464 rows × 23 columns</p>\n",
       "</div>"
      ],
      "text/plain": [
       "                       CATEGORY (i.e.ISCED description)  \\\n",
       "0                           Business and administration   \n",
       "1                         Humanities (except languages)   \n",
       "2                                                  Arts   \n",
       "3                                                  Arts   \n",
       "4                                                  Arts   \n",
       "...                                                 ...   \n",
       "1459                       Manufacturing and processing   \n",
       "1460  Information and Communication Technologies (ICTs)   \n",
       "1461  Information and Communication Technologies (ICTs)   \n",
       "1462                                  Personal services   \n",
       "1463                 Engineering and engineering trades   \n",
       "\n",
       "                                           COURSE TITLE COURSE CODE2  \\\n",
       "0                                International Business        AC120   \n",
       "1                                          Liberal Arts        AC137   \n",
       "2      First Year Art & Design (Common Entry,portfolio)        AD101   \n",
       "3     Graphic Design and Moving Image Design (portfo...        AD102   \n",
       "4     Textile & Surface Design and Jewellery & Objec...        AD103   \n",
       "...                                                 ...          ...   \n",
       "1459                          Manufacturing Engineering        WD208   \n",
       "1460                       Software Systems Development        WD210   \n",
       "1461                                 Creative Computing        WD211   \n",
       "1462                    Recreation and Sport Management        WD212   \n",
       "1463           Mechanical and Manufacturing Engineering        WD230   \n",
       "\n",
       "     R1 POINTS R1 Random * R2 POINTS R2 Random*       EOS EOS Random *  \\\n",
       "0          209         NaN       NaN        NaN       209          NaN   \n",
       "1          252         NaN       NaN        NaN       252          NaN   \n",
       "2     #+matric         NaN       NaN        NaN  #+matric          NaN   \n",
       "3     #+matric         NaN       NaN        NaN  #+matric          NaN   \n",
       "4     #+matric         NaN       NaN        NaN  #+matric          NaN   \n",
       "...        ...         ...       ...        ...       ...          ...   \n",
       "1459       188         NaN       NaN        NaN       188          NaN   \n",
       "1460       279         NaN       NaN        NaN       279          NaN   \n",
       "1461       271         NaN       NaN        NaN       271          NaN   \n",
       "1462       270         NaN       NaN        NaN       270          NaN   \n",
       "1463       253         NaN       NaN        NaN       253          NaN   \n",
       "\n",
       "     EOS Mid-point  ...  avp    v Column1 Column2 Column3  Column4  Column5  \\\n",
       "0              280  ...  NaN  NaN     NaN     NaN     NaN      NaN      NaN   \n",
       "1              270  ...  NaN  NaN     NaN     NaN     NaN      NaN      NaN   \n",
       "2         #+matric  ...  NaN  NaN     NaN     NaN     NaN      NaN      NaN   \n",
       "3         #+matric  ...  NaN  NaN     NaN     NaN     NaN      NaN      NaN   \n",
       "4         #+matric  ...  NaN  NaN     NaN     NaN     NaN      NaN      NaN   \n",
       "...            ...  ...  ...  ...     ...     ...     ...      ...      ...   \n",
       "1459           339  ...  NaN  NaN     NaN     NaN     NaN      NaN      NaN   \n",
       "1460           337  ...  NaN  NaN     NaN     NaN     NaN      NaN      NaN   \n",
       "1461           318  ...  NaN  NaN     NaN     NaN     NaN      NaN      NaN   \n",
       "1462           349  ...  NaN  NaN     NaN     NaN     NaN      NaN      NaN   \n",
       "1463           369  ...  NaN  NaN     NaN     NaN     NaN      NaN      NaN   \n",
       "\n",
       "      Column6  Column7  Column8  \n",
       "0         NaN      NaN      NaN  \n",
       "1         NaN      NaN      NaN  \n",
       "2         NaN      NaN      NaN  \n",
       "3         NaN      NaN      NaN  \n",
       "4         NaN      NaN      NaN  \n",
       "...       ...      ...      ...  \n",
       "1459      NaN      NaN      NaN  \n",
       "1460      NaN      NaN      NaN  \n",
       "1461      NaN      NaN      NaN  \n",
       "1462      NaN      NaN      NaN  \n",
       "1463      NaN      NaN      NaN  \n",
       "\n",
       "[1464 rows x 23 columns]"
      ]
     },
     "execution_count": 31,
     "metadata": {},
     "output_type": "execute_result"
    }
   ],
   "source": [
    "df2020"
   ]
  },
  {
   "cell_type": "markdown",
   "id": "e57ed454-815d-4cbc-a20f-ccdafbabdf54",
   "metadata": {},
   "source": [
    "<br>"
   ]
  },
  {
   "cell_type": "markdown",
   "id": "a8821b05-a3b4-4bf1-bdb8-24b385122e02",
   "metadata": {},
   "source": [
    "<br>"
   ]
  },
  {
   "cell_type": "code",
   "execution_count": 32,
   "id": "5e70becf-610a-4670-b272-f13e192b4f08",
   "metadata": {},
   "outputs": [],
   "source": [
    "df2020['LEVEL'] = df2020['LEVEL'].astype(str)"
   ]
  },
  {
   "cell_type": "markdown",
   "id": "88d13c49-9ae3-48f8-921a-e7779615c867",
   "metadata": {},
   "source": [
    "<br>"
   ]
  },
  {
   "cell_type": "markdown",
   "id": "ac577818-2200-4763-b339-a1eb27670aa8",
   "metadata": {},
   "source": [
    "<br>"
   ]
  },
  {
   "cell_type": "code",
   "execution_count": 33,
   "id": "7704e4f8-9c33-42b6-9f76-52a00a4b8030",
   "metadata": {},
   "outputs": [
    {
     "data": {
      "text/plain": [
       "CATEGORY (i.e.ISCED description)    Engineering and engineering trades\n",
       "COURSE TITLE                                    Mechanical Engineering\n",
       "COURSE CODE2                                                     SG333\n",
       "R1 POINTS                                                          216\n",
       "R1 Random *                                                        NaN\n",
       "R2 POINTS                                                          NaN\n",
       "R2 Random*                                                         NaN\n",
       "EOS                                                                216\n",
       "EOS Random *                                                       NaN\n",
       "EOS Mid-point                                                      347\n",
       "LEVEL                                                                7\n",
       "HEI                                     Institute of Technology, Sligo\n",
       "Test/Interview #                                                   NaN\n",
       "avp                                                                NaN\n",
       "v                                                                  NaN\n",
       "Column1                                                            NaN\n",
       "Column2                                                            NaN\n",
       "Column3                                                            NaN\n",
       "Column4                                                            NaN\n",
       "Column5                                                            NaN\n",
       "Column6                                                            NaN\n",
       "Column7                                                            NaN\n",
       "Column8                                                            NaN\n",
       "Name: 1000, dtype: object"
      ]
     },
     "execution_count": 33,
     "metadata": {},
     "output_type": "execute_result"
    }
   ],
   "source": [
    "# Checking random row\n",
    "df2020.iloc[1000]"
   ]
  },
  {
   "cell_type": "markdown",
   "id": "896349eb-c73b-4276-8cac-bf5728266009",
   "metadata": {},
   "source": [
    "<br>"
   ]
  },
  {
   "cell_type": "markdown",
   "id": "b89d72a5-51d1-464d-b181-2022ecf2f05e",
   "metadata": {},
   "source": [
    "<br>"
   ]
  },
  {
   "cell_type": "code",
   "execution_count": 34,
   "id": "7397853c-33af-4365-ba08-5540cd693e26",
   "metadata": {},
   "outputs": [
    {
     "data": {
      "text/plain": [
       "CATEGORY (i.e.ISCED description)          Engineering and engineering trades\n",
       "COURSE TITLE                        Mechanical and Manufacturing Engineering\n",
       "COURSE CODE2                                                           WD230\n",
       "R1 POINTS                                                                253\n",
       "R1 Random *                                                              NaN\n",
       "R2 POINTS                                                                NaN\n",
       "R2 Random*                                                               NaN\n",
       "EOS                                                                      253\n",
       "EOS Random *                                                             NaN\n",
       "EOS Mid-point                                                            369\n",
       "LEVEL                                                                      8\n",
       "HEI                                        Waterford Institute of Technology\n",
       "Test/Interview #                                                         NaN\n",
       "avp                                                                      NaN\n",
       "v                                                                        NaN\n",
       "Column1                                                                  NaN\n",
       "Column2                                                                  NaN\n",
       "Column3                                                                  NaN\n",
       "Column4                                                                  NaN\n",
       "Column5                                                                  NaN\n",
       "Column6                                                                  NaN\n",
       "Column7                                                                  NaN\n",
       "Column8                                                                  NaN\n",
       "Name: 1463, dtype: object"
      ]
     },
     "execution_count": 34,
     "metadata": {},
     "output_type": "execute_result"
    }
   ],
   "source": [
    "# -1 is always last row/element\n",
    "df2020.iloc[-1]"
   ]
  },
  {
   "cell_type": "markdown",
   "id": "03e37ff7-6a91-44ff-9e68-6fa9746a00a7",
   "metadata": {},
   "source": [
    "<br>"
   ]
  },
  {
   "cell_type": "markdown",
   "id": "bf4ce6c8-7b1c-48a5-946f-de8c8f9476b8",
   "metadata": {},
   "source": [
    "<br>"
   ]
  },
  {
   "cell_type": "code",
   "execution_count": 35,
   "id": "0568deaf-0c6d-44ce-ae88-4b3b13c9b7ef",
   "metadata": {},
   "outputs": [],
   "source": [
    "# Create a file path for the pandas data.\n",
    "path2020 = 'datasets/cao2020_' + nowstr + '.csv'"
   ]
  },
  {
   "cell_type": "markdown",
   "id": "65266843-e9ac-4d5b-8194-d11f28d8c31b",
   "metadata": {},
   "source": [
    "<br>"
   ]
  },
  {
   "cell_type": "markdown",
   "id": "91af8408-26d6-4d1c-bee6-5c95ec9cf63c",
   "metadata": {},
   "source": [
    "<br>"
   ]
  },
  {
   "cell_type": "code",
   "execution_count": 36,
   "id": "b6635892-5211-4c84-b7c8-c1d1793ca56a",
   "metadata": {},
   "outputs": [],
   "source": [
    "# Save pandas data frame to disk.\n",
    "df2020.to_csv(path2020)"
   ]
  },
  {
   "cell_type": "markdown",
   "id": "dbc6ddd1-c2df-4662-9927-bcfdb8db8025",
   "metadata": {},
   "source": [
    "<br>"
   ]
  },
  {
   "cell_type": "markdown",
   "id": "e6c4e18d-3f92-41b0-bde7-ac8b9291e75c",
   "metadata": {},
   "source": [
    "<br>"
   ]
  },
  {
   "cell_type": "markdown",
   "id": "7f0f2422-bd66-42b7-a79a-f979c4d6e5ab",
   "metadata": {},
   "source": [
    "<br>"
   ]
  },
  {
   "cell_type": "markdown",
   "id": "14b77010-9bd5-4ea8-aeb5-b374d90ecde9",
   "metadata": {},
   "source": [
    "<br>"
   ]
  },
  {
   "cell_type": "markdown",
   "id": "eaad733a-a9c6-4ac6-9181-edcb3fa83e67",
   "metadata": {},
   "source": [
    "***\n",
    "\n",
    "## 2019 Points\n",
    "***\n",
    "\n",
    "https://www.cao.ie/index.php?page=points&p=2019"
   ]
  },
  {
   "cell_type": "markdown",
   "id": "e69f8c48-b27c-47c7-8e2e-85473a8c3483",
   "metadata": {},
   "source": [
    "<br>"
   ]
  },
  {
   "cell_type": "markdown",
   "id": "6697ee42-9880-4bea-9650-63ec4a0f1418",
   "metadata": {},
   "source": [
    "<br>"
   ]
  },
  {
   "cell_type": "code",
   "execution_count": 37,
   "id": "29483da3-b6e3-4cb5-a41f-70d7577bbd76",
   "metadata": {},
   "outputs": [],
   "source": [
    "# For scraping data from pdf\n",
    "import camelot"
   ]
  },
  {
   "cell_type": "markdown",
   "id": "4a750543-c5b7-42cc-969c-e1dfc4d9004c",
   "metadata": {},
   "source": [
    "<br>"
   ]
  },
  {
   "cell_type": "markdown",
   "id": "0e78193c-9efe-457c-a2f0-d59cbcffa36e",
   "metadata": {},
   "source": [
    "<br>"
   ]
  },
  {
   "cell_type": "code",
   "execution_count": 38,
   "id": "b6290947-5ec8-4221-b219-6ee477b386f8",
   "metadata": {},
   "outputs": [],
   "source": [
    "# Checking all pages of pdf for data\n",
    "pdf = camelot.read_pdf('datasets/2019_points.pdf', pages='all')"
   ]
  },
  {
   "cell_type": "markdown",
   "id": "bc9bdf69-e3c6-4ffe-8b84-43bdd9fa276a",
   "metadata": {},
   "source": [
    "<br>"
   ]
  },
  {
   "cell_type": "markdown",
   "id": "8ce1f322-b2a5-4dea-bf2b-8c54271d2df7",
   "metadata": {},
   "source": [
    "<br>"
   ]
  },
  {
   "cell_type": "code",
   "execution_count": 39,
   "id": "b6688b33-fd18-4e9a-bfb7-618278b3c71d",
   "metadata": {},
   "outputs": [
    {
     "name": "stdout",
     "output_type": "stream",
     "text": [
      "<class 'camelot.core.TableList'>\n"
     ]
    }
   ],
   "source": [
    "# Checking the type\n",
    "print(type(pdf))"
   ]
  },
  {
   "cell_type": "markdown",
   "id": "76bf14b0-d7d2-47db-8af3-a39641bcbe88",
   "metadata": {},
   "source": [
    "<br>"
   ]
  },
  {
   "cell_type": "markdown",
   "id": "1c903d9b-1808-44ea-8dea-134b42a92eaf",
   "metadata": {},
   "source": [
    "<br>"
   ]
  },
  {
   "cell_type": "code",
   "execution_count": 40,
   "id": "9349d243-3ede-47be-9f31-24b6a32e64c1",
   "metadata": {},
   "outputs": [
    {
     "data": {
      "text/plain": [
       "<TableList n=18>"
      ]
     },
     "execution_count": 40,
     "metadata": {},
     "output_type": "execute_result"
    }
   ],
   "source": [
    "# Checking the number of tables, should be 18\n",
    "pdf"
   ]
  },
  {
   "cell_type": "markdown",
   "id": "6cec9936-378f-4391-b84f-83c15a7cbdd0",
   "metadata": {},
   "source": [
    "<br>"
   ]
  },
  {
   "cell_type": "markdown",
   "id": "74d1b3e8-6e4b-4724-b701-b6d2a6aa0ce0",
   "metadata": {},
   "source": [
    "<br>"
   ]
  },
  {
   "cell_type": "code",
   "execution_count": 41,
   "id": "b2ad6ee8-336b-4e35-9afd-b57460b202ab",
   "metadata": {},
   "outputs": [],
   "source": [
    "# Exporting tables into a csv file\n",
    "pdf.export('datasets/2019_points.csv', f='csv', compress=True)"
   ]
  },
  {
   "cell_type": "markdown",
   "id": "35d84728-66ae-41ad-b97d-62b0f3c1f85a",
   "metadata": {},
   "source": [
    "<br>"
   ]
  },
  {
   "cell_type": "markdown",
   "id": "66154b56-4689-4e7f-a5d0-48c3698f212a",
   "metadata": {},
   "source": [
    "<br>"
   ]
  },
  {
   "cell_type": "code",
   "execution_count": 42,
   "id": "6406c41f-4804-4579-aa82-c655977e13e2",
   "metadata": {},
   "outputs": [
    {
     "data": {
      "text/plain": [
       "{'accuracy': 100.0, 'whitespace': 2.73, 'order': 1, 'page': 2}"
      ]
     },
     "execution_count": 42,
     "metadata": {},
     "output_type": "execute_result"
    }
   ],
   "source": [
    "# checking to make sure it worked\n",
    "pdf[1].parsing_report"
   ]
  },
  {
   "cell_type": "markdown",
   "id": "e30b3017-cff3-4e67-9811-8c1551373e7a",
   "metadata": {},
   "source": [
    "<br>"
   ]
  },
  {
   "cell_type": "markdown",
   "id": "d6e03c2b-6002-4fbf-813a-e73bdf8c6e5e",
   "metadata": {},
   "source": [
    "<br>"
   ]
  },
  {
   "cell_type": "code",
   "execution_count": 43,
   "id": "80a4bf4c-ef2d-41d4-a6aa-6da29c9f0794",
   "metadata": {},
   "outputs": [],
   "source": [
    "# Unzipping the folder - multiple tables are exported as a zip\n",
    "from zipfile import ZipFile\n",
    "\n",
    "# Loop through zipped folder for files\n",
    "with ZipFile('datasets/2019_points.zip', 'r') as df:\n",
    "   # Extract all the contents of zip file in current directory\n",
    "   df.extractall('2019_points')"
   ]
  },
  {
   "cell_type": "markdown",
   "id": "249ddd8c-9d12-45a3-a516-b8b3377d262a",
   "metadata": {},
   "source": [
    "<br>"
   ]
  },
  {
   "cell_type": "markdown",
   "id": "58e03b82-c878-4be4-bad2-6e1743def21c",
   "metadata": {},
   "source": [
    "<br>"
   ]
  },
  {
   "cell_type": "code",
   "execution_count": 44,
   "id": "59e90457-a5e8-477d-b89f-4c95e0ebd434",
   "metadata": {},
   "outputs": [],
   "source": [
    "# To merge csv files into one\n",
    "import os, glob\n",
    "\n",
    "# Creating a path\n",
    "path = '2019_points/'"
   ]
  },
  {
   "cell_type": "markdown",
   "id": "29e95987-a88d-4386-b046-eb5d5e3a118b",
   "metadata": {},
   "source": [
    "<br>"
   ]
  },
  {
   "cell_type": "markdown",
   "id": "16249be5-d1ce-4b51-a155-6f05ca8bf4d7",
   "metadata": {},
   "source": [
    "<br>"
   ]
  },
  {
   "cell_type": "code",
   "execution_count": 45,
   "id": "53abeb48-be6c-480c-9acb-fe7e73ba5c44",
   "metadata": {},
   "outputs": [],
   "source": [
    "# Find csvs which match this pattern\n",
    "filelist = glob.glob(path + '2019_*.csv')\n",
    "\n",
    "# Merge them together with these column headings\n",
    "df2019 = pd.concat([pd.read_csv(file, names=['code','title','points','median' ]) for file in filelist])"
   ]
  },
  {
   "cell_type": "markdown",
   "id": "e4bd875b-76e6-4b1a-a260-81fba6e48e4a",
   "metadata": {},
   "source": [
    "<br>"
   ]
  },
  {
   "cell_type": "markdown",
   "id": "f9cdee5a-177c-4165-8e8c-f6f84d3f3be9",
   "metadata": {},
   "source": [
    "<br>"
   ]
  },
  {
   "cell_type": "code",
   "execution_count": 46,
   "id": "ae8e6d78-066c-41b4-acff-edafd611e89e",
   "metadata": {},
   "outputs": [
    {
     "data": {
      "text/html": [
       "<div>\n",
       "<style scoped>\n",
       "    .dataframe tbody tr th:only-of-type {\n",
       "        vertical-align: middle;\n",
       "    }\n",
       "\n",
       "    .dataframe tbody tr th {\n",
       "        vertical-align: top;\n",
       "    }\n",
       "\n",
       "    .dataframe thead th {\n",
       "        text-align: right;\n",
       "    }\n",
       "</style>\n",
       "<table border=\"1\" class=\"dataframe\">\n",
       "  <thead>\n",
       "    <tr style=\"text-align: right;\">\n",
       "      <th></th>\n",
       "      <th>code</th>\n",
       "      <th>title</th>\n",
       "      <th>points</th>\n",
       "      <th>median</th>\n",
       "    </tr>\n",
       "  </thead>\n",
       "  <tbody>\n",
       "    <tr>\n",
       "      <th>0</th>\n",
       "      <td>Course Code INSTITUTION and COURSE</td>\n",
       "      <td>NaN</td>\n",
       "      <td>EOS</td>\n",
       "      <td>Mid</td>\n",
       "    </tr>\n",
       "    <tr>\n",
       "      <th>1</th>\n",
       "      <td>NaN</td>\n",
       "      <td>Athlone Institute of Technology</td>\n",
       "      <td>NaN</td>\n",
       "      <td>NaN</td>\n",
       "    </tr>\n",
       "    <tr>\n",
       "      <th>2</th>\n",
       "      <td>AL801</td>\n",
       "      <td>Software Design with Virtual Reality and Gaming</td>\n",
       "      <td>304</td>\n",
       "      <td>328</td>\n",
       "    </tr>\n",
       "    <tr>\n",
       "      <th>3</th>\n",
       "      <td>AL802</td>\n",
       "      <td>Software Design with Cloud Computing</td>\n",
       "      <td>301</td>\n",
       "      <td>306</td>\n",
       "    </tr>\n",
       "    <tr>\n",
       "      <th>4</th>\n",
       "      <td>AL803</td>\n",
       "      <td>Software Design with Mobile Apps and Connected...</td>\n",
       "      <td>309</td>\n",
       "      <td>337</td>\n",
       "    </tr>\n",
       "    <tr>\n",
       "      <th>...</th>\n",
       "      <td>...</td>\n",
       "      <td>...</td>\n",
       "      <td>...</td>\n",
       "      <td>...</td>\n",
       "    </tr>\n",
       "    <tr>\n",
       "      <th>50</th>\n",
       "      <td>TR032</td>\n",
       "      <td>Engineering</td>\n",
       "      <td>487*</td>\n",
       "      <td>520.0</td>\n",
       "    </tr>\n",
       "    <tr>\n",
       "      <th>51</th>\n",
       "      <td>TR033</td>\n",
       "      <td>Computer Science</td>\n",
       "      <td>465*</td>\n",
       "      <td>488.0</td>\n",
       "    </tr>\n",
       "    <tr>\n",
       "      <th>52</th>\n",
       "      <td>TR034</td>\n",
       "      <td>Management Science and Information Systems Stu...</td>\n",
       "      <td>589*</td>\n",
       "      <td>602.0</td>\n",
       "    </tr>\n",
       "    <tr>\n",
       "      <th>53</th>\n",
       "      <td>TR035</td>\n",
       "      <td>Theoretical Physics</td>\n",
       "      <td>554</td>\n",
       "      <td>601.0</td>\n",
       "    </tr>\n",
       "    <tr>\n",
       "      <th>54</th>\n",
       "      <td>TR038</td>\n",
       "      <td>Engineering with Management</td>\n",
       "      <td>499</td>\n",
       "      <td>543.0</td>\n",
       "    </tr>\n",
       "  </tbody>\n",
       "</table>\n",
       "<p>966 rows × 4 columns</p>\n",
       "</div>"
      ],
      "text/plain": [
       "                                  code  \\\n",
       "0   Course Code INSTITUTION and COURSE   \n",
       "1                                  NaN   \n",
       "2                                AL801   \n",
       "3                                AL802   \n",
       "4                                AL803   \n",
       "..                                 ...   \n",
       "50                               TR032   \n",
       "51                               TR033   \n",
       "52                               TR034   \n",
       "53                               TR035   \n",
       "54                               TR038   \n",
       "\n",
       "                                                title points median  \n",
       "0                                                 NaN    EOS    Mid  \n",
       "1                     Athlone Institute of Technology    NaN    NaN  \n",
       "2     Software Design with Virtual Reality and Gaming    304    328  \n",
       "3                Software Design with Cloud Computing    301    306  \n",
       "4   Software Design with Mobile Apps and Connected...    309    337  \n",
       "..                                                ...    ...    ...  \n",
       "50                                        Engineering   487*  520.0  \n",
       "51                                   Computer Science   465*  488.0  \n",
       "52  Management Science and Information Systems Stu...   589*  602.0  \n",
       "53                                Theoretical Physics    554  601.0  \n",
       "54                        Engineering with Management    499  543.0  \n",
       "\n",
       "[966 rows x 4 columns]"
      ]
     },
     "execution_count": 46,
     "metadata": {},
     "output_type": "execute_result"
    }
   ],
   "source": [
    "# Checking pandas dataframe\n",
    "df2019"
   ]
  },
  {
   "cell_type": "markdown",
   "id": "bd42ad6f-600e-450a-9fce-882325e9ca51",
   "metadata": {},
   "source": [
    "<br>"
   ]
  },
  {
   "cell_type": "markdown",
   "id": "28aa54e8-40b3-4d43-b87d-64a55981c383",
   "metadata": {},
   "source": [
    "<br>"
   ]
  },
  {
   "cell_type": "code",
   "execution_count": 47,
   "id": "d7570688-cf4c-4e92-867b-cabb1a83d40c",
   "metadata": {},
   "outputs": [],
   "source": [
    "# Creating a new column at the second index\n",
    "df2019.insert(2, 'level', '8')"
   ]
  },
  {
   "cell_type": "markdown",
   "id": "ed0812d2-50c2-47c3-b1d6-f80a086e4bb4",
   "metadata": {},
   "source": [
    "<br>"
   ]
  },
  {
   "cell_type": "code",
   "execution_count": 48,
   "id": "ba70f573-6af3-4f58-b04a-4aecd7343448",
   "metadata": {
    "tags": []
   },
   "outputs": [
    {
     "data": {
      "text/html": [
       "<div>\n",
       "<style scoped>\n",
       "    .dataframe tbody tr th:only-of-type {\n",
       "        vertical-align: middle;\n",
       "    }\n",
       "\n",
       "    .dataframe tbody tr th {\n",
       "        vertical-align: top;\n",
       "    }\n",
       "\n",
       "    .dataframe thead th {\n",
       "        text-align: right;\n",
       "    }\n",
       "</style>\n",
       "<table border=\"1\" class=\"dataframe\">\n",
       "  <thead>\n",
       "    <tr style=\"text-align: right;\">\n",
       "      <th></th>\n",
       "      <th>code</th>\n",
       "      <th>title</th>\n",
       "      <th>level</th>\n",
       "      <th>points</th>\n",
       "      <th>median</th>\n",
       "    </tr>\n",
       "  </thead>\n",
       "  <tbody>\n",
       "    <tr>\n",
       "      <th>50</th>\n",
       "      <td>TR032</td>\n",
       "      <td>Engineering</td>\n",
       "      <td>8</td>\n",
       "      <td>487*</td>\n",
       "      <td>520.0</td>\n",
       "    </tr>\n",
       "    <tr>\n",
       "      <th>51</th>\n",
       "      <td>TR033</td>\n",
       "      <td>Computer Science</td>\n",
       "      <td>8</td>\n",
       "      <td>465*</td>\n",
       "      <td>488.0</td>\n",
       "    </tr>\n",
       "    <tr>\n",
       "      <th>52</th>\n",
       "      <td>TR034</td>\n",
       "      <td>Management Science and Information Systems Stu...</td>\n",
       "      <td>8</td>\n",
       "      <td>589*</td>\n",
       "      <td>602.0</td>\n",
       "    </tr>\n",
       "    <tr>\n",
       "      <th>53</th>\n",
       "      <td>TR035</td>\n",
       "      <td>Theoretical Physics</td>\n",
       "      <td>8</td>\n",
       "      <td>554</td>\n",
       "      <td>601.0</td>\n",
       "    </tr>\n",
       "    <tr>\n",
       "      <th>54</th>\n",
       "      <td>TR038</td>\n",
       "      <td>Engineering with Management</td>\n",
       "      <td>8</td>\n",
       "      <td>499</td>\n",
       "      <td>543.0</td>\n",
       "    </tr>\n",
       "  </tbody>\n",
       "</table>\n",
       "</div>"
      ],
      "text/plain": [
       "     code                                              title level points  \\\n",
       "50  TR032                                        Engineering     8   487*   \n",
       "51  TR033                                   Computer Science     8   465*   \n",
       "52  TR034  Management Science and Information Systems Stu...     8   589*   \n",
       "53  TR035                                Theoretical Physics     8    554   \n",
       "54  TR038                        Engineering with Management     8    499   \n",
       "\n",
       "   median  \n",
       "50  520.0  \n",
       "51  488.0  \n",
       "52  602.0  \n",
       "53  601.0  \n",
       "54  543.0  "
      ]
     },
     "execution_count": 48,
     "metadata": {},
     "output_type": "execute_result"
    }
   ],
   "source": [
    "# Checking last 5 rows\n",
    "df2019.tail()"
   ]
  },
  {
   "cell_type": "markdown",
   "id": "c47d84ee-0072-4b6e-af31-c4a75fa02651",
   "metadata": {},
   "source": [
    "<br>"
   ]
  },
  {
   "cell_type": "markdown",
   "id": "2583c399-17a9-4ee3-b40b-b9c7d7d36478",
   "metadata": {},
   "source": [
    "<br>"
   ]
  },
  {
   "cell_type": "code",
   "execution_count": 49,
   "id": "8a2d1bad-9b67-4bf5-ae7b-3b650e5b4768",
   "metadata": {},
   "outputs": [],
   "source": [
    "# Getting rid of rows containing institute names only\n",
    "df2019 = df2019[df2019['code'].notnull()]"
   ]
  },
  {
   "cell_type": "code",
   "execution_count": 50,
   "id": "abb2e39e-c11a-4461-a7e5-92b35352b45e",
   "metadata": {},
   "outputs": [
    {
     "data": {
      "text/html": [
       "<div>\n",
       "<style scoped>\n",
       "    .dataframe tbody tr th:only-of-type {\n",
       "        vertical-align: middle;\n",
       "    }\n",
       "\n",
       "    .dataframe tbody tr th {\n",
       "        vertical-align: top;\n",
       "    }\n",
       "\n",
       "    .dataframe thead th {\n",
       "        text-align: right;\n",
       "    }\n",
       "</style>\n",
       "<table border=\"1\" class=\"dataframe\">\n",
       "  <thead>\n",
       "    <tr style=\"text-align: right;\">\n",
       "      <th></th>\n",
       "      <th>code</th>\n",
       "      <th>title</th>\n",
       "      <th>level</th>\n",
       "      <th>points</th>\n",
       "      <th>median</th>\n",
       "    </tr>\n",
       "  </thead>\n",
       "  <tbody>\n",
       "    <tr>\n",
       "      <th>0</th>\n",
       "      <td>Course Code INSTITUTION and COURSE</td>\n",
       "      <td>NaN</td>\n",
       "      <td>8</td>\n",
       "      <td>EOS</td>\n",
       "      <td>Mid</td>\n",
       "    </tr>\n",
       "    <tr>\n",
       "      <th>2</th>\n",
       "      <td>AL801</td>\n",
       "      <td>Software Design with Virtual Reality and Gaming</td>\n",
       "      <td>8</td>\n",
       "      <td>304</td>\n",
       "      <td>328</td>\n",
       "    </tr>\n",
       "    <tr>\n",
       "      <th>3</th>\n",
       "      <td>AL802</td>\n",
       "      <td>Software Design with Cloud Computing</td>\n",
       "      <td>8</td>\n",
       "      <td>301</td>\n",
       "      <td>306</td>\n",
       "    </tr>\n",
       "    <tr>\n",
       "      <th>4</th>\n",
       "      <td>AL803</td>\n",
       "      <td>Software Design with Mobile Apps and Connected...</td>\n",
       "      <td>8</td>\n",
       "      <td>309</td>\n",
       "      <td>337</td>\n",
       "    </tr>\n",
       "    <tr>\n",
       "      <th>5</th>\n",
       "      <td>AL805</td>\n",
       "      <td>Network Management and Cloud Infrastructure</td>\n",
       "      <td>8</td>\n",
       "      <td>329</td>\n",
       "      <td>442</td>\n",
       "    </tr>\n",
       "    <tr>\n",
       "      <th>...</th>\n",
       "      <td>...</td>\n",
       "      <td>...</td>\n",
       "      <td>...</td>\n",
       "      <td>...</td>\n",
       "      <td>...</td>\n",
       "    </tr>\n",
       "    <tr>\n",
       "      <th>50</th>\n",
       "      <td>TR032</td>\n",
       "      <td>Engineering</td>\n",
       "      <td>8</td>\n",
       "      <td>487*</td>\n",
       "      <td>520.0</td>\n",
       "    </tr>\n",
       "    <tr>\n",
       "      <th>51</th>\n",
       "      <td>TR033</td>\n",
       "      <td>Computer Science</td>\n",
       "      <td>8</td>\n",
       "      <td>465*</td>\n",
       "      <td>488.0</td>\n",
       "    </tr>\n",
       "    <tr>\n",
       "      <th>52</th>\n",
       "      <td>TR034</td>\n",
       "      <td>Management Science and Information Systems Stu...</td>\n",
       "      <td>8</td>\n",
       "      <td>589*</td>\n",
       "      <td>602.0</td>\n",
       "    </tr>\n",
       "    <tr>\n",
       "      <th>53</th>\n",
       "      <td>TR035</td>\n",
       "      <td>Theoretical Physics</td>\n",
       "      <td>8</td>\n",
       "      <td>554</td>\n",
       "      <td>601.0</td>\n",
       "    </tr>\n",
       "    <tr>\n",
       "      <th>54</th>\n",
       "      <td>TR038</td>\n",
       "      <td>Engineering with Management</td>\n",
       "      <td>8</td>\n",
       "      <td>499</td>\n",
       "      <td>543.0</td>\n",
       "    </tr>\n",
       "  </tbody>\n",
       "</table>\n",
       "<p>931 rows × 5 columns</p>\n",
       "</div>"
      ],
      "text/plain": [
       "                                  code  \\\n",
       "0   Course Code INSTITUTION and COURSE   \n",
       "2                                AL801   \n",
       "3                                AL802   \n",
       "4                                AL803   \n",
       "5                                AL805   \n",
       "..                                 ...   \n",
       "50                               TR032   \n",
       "51                               TR033   \n",
       "52                               TR034   \n",
       "53                               TR035   \n",
       "54                               TR038   \n",
       "\n",
       "                                                title level points median  \n",
       "0                                                 NaN     8    EOS    Mid  \n",
       "2     Software Design with Virtual Reality and Gaming     8    304    328  \n",
       "3                Software Design with Cloud Computing     8    301    306  \n",
       "4   Software Design with Mobile Apps and Connected...     8    309    337  \n",
       "5         Network Management and Cloud Infrastructure     8    329    442  \n",
       "..                                                ...   ...    ...    ...  \n",
       "50                                        Engineering     8   487*  520.0  \n",
       "51                                   Computer Science     8   465*  488.0  \n",
       "52  Management Science and Information Systems Stu...     8   589*  602.0  \n",
       "53                                Theoretical Physics     8    554  601.0  \n",
       "54                        Engineering with Management     8    499  543.0  \n",
       "\n",
       "[931 rows x 5 columns]"
      ]
     },
     "execution_count": 50,
     "metadata": {},
     "output_type": "execute_result"
    }
   ],
   "source": [
    "df2019"
   ]
  },
  {
   "cell_type": "markdown",
   "id": "d75975ea-bf69-4cb0-9f2a-216655885581",
   "metadata": {},
   "source": [
    "<br>"
   ]
  },
  {
   "cell_type": "markdown",
   "id": "ae9cae1d-97a9-4991-958f-a35d8dbbcab0",
   "metadata": {},
   "source": [
    "<br>"
   ]
  },
  {
   "cell_type": "code",
   "execution_count": 51,
   "id": "2619d2ae-1acd-4ec8-81f1-0b09889e25a3",
   "metadata": {},
   "outputs": [
    {
     "data": {
      "text/html": [
       "<div>\n",
       "<style scoped>\n",
       "    .dataframe tbody tr th:only-of-type {\n",
       "        vertical-align: middle;\n",
       "    }\n",
       "\n",
       "    .dataframe tbody tr th {\n",
       "        vertical-align: top;\n",
       "    }\n",
       "\n",
       "    .dataframe thead th {\n",
       "        text-align: right;\n",
       "    }\n",
       "</style>\n",
       "<table border=\"1\" class=\"dataframe\">\n",
       "  <thead>\n",
       "    <tr style=\"text-align: right;\">\n",
       "      <th></th>\n",
       "      <th>code</th>\n",
       "      <th>title</th>\n",
       "      <th>level</th>\n",
       "      <th>points</th>\n",
       "      <th>median</th>\n",
       "    </tr>\n",
       "  </thead>\n",
       "  <tbody>\n",
       "    <tr>\n",
       "      <th>2</th>\n",
       "      <td>AL801</td>\n",
       "      <td>Software Design with Virtual Reality and Gaming</td>\n",
       "      <td>8</td>\n",
       "      <td>304</td>\n",
       "      <td>328</td>\n",
       "    </tr>\n",
       "    <tr>\n",
       "      <th>3</th>\n",
       "      <td>AL802</td>\n",
       "      <td>Software Design with Cloud Computing</td>\n",
       "      <td>8</td>\n",
       "      <td>301</td>\n",
       "      <td>306</td>\n",
       "    </tr>\n",
       "    <tr>\n",
       "      <th>4</th>\n",
       "      <td>AL803</td>\n",
       "      <td>Software Design with Mobile Apps and Connected...</td>\n",
       "      <td>8</td>\n",
       "      <td>309</td>\n",
       "      <td>337</td>\n",
       "    </tr>\n",
       "    <tr>\n",
       "      <th>5</th>\n",
       "      <td>AL805</td>\n",
       "      <td>Network Management and Cloud Infrastructure</td>\n",
       "      <td>8</td>\n",
       "      <td>329</td>\n",
       "      <td>442</td>\n",
       "    </tr>\n",
       "    <tr>\n",
       "      <th>6</th>\n",
       "      <td>AL810</td>\n",
       "      <td>Quantity Surveying</td>\n",
       "      <td>8</td>\n",
       "      <td>307</td>\n",
       "      <td>349</td>\n",
       "    </tr>\n",
       "    <tr>\n",
       "      <th>...</th>\n",
       "      <td>...</td>\n",
       "      <td>...</td>\n",
       "      <td>...</td>\n",
       "      <td>...</td>\n",
       "      <td>...</td>\n",
       "    </tr>\n",
       "    <tr>\n",
       "      <th>50</th>\n",
       "      <td>TR032</td>\n",
       "      <td>Engineering</td>\n",
       "      <td>8</td>\n",
       "      <td>487*</td>\n",
       "      <td>520.0</td>\n",
       "    </tr>\n",
       "    <tr>\n",
       "      <th>51</th>\n",
       "      <td>TR033</td>\n",
       "      <td>Computer Science</td>\n",
       "      <td>8</td>\n",
       "      <td>465*</td>\n",
       "      <td>488.0</td>\n",
       "    </tr>\n",
       "    <tr>\n",
       "      <th>52</th>\n",
       "      <td>TR034</td>\n",
       "      <td>Management Science and Information Systems Stu...</td>\n",
       "      <td>8</td>\n",
       "      <td>589*</td>\n",
       "      <td>602.0</td>\n",
       "    </tr>\n",
       "    <tr>\n",
       "      <th>53</th>\n",
       "      <td>TR035</td>\n",
       "      <td>Theoretical Physics</td>\n",
       "      <td>8</td>\n",
       "      <td>554</td>\n",
       "      <td>601.0</td>\n",
       "    </tr>\n",
       "    <tr>\n",
       "      <th>54</th>\n",
       "      <td>TR038</td>\n",
       "      <td>Engineering with Management</td>\n",
       "      <td>8</td>\n",
       "      <td>499</td>\n",
       "      <td>543.0</td>\n",
       "    </tr>\n",
       "  </tbody>\n",
       "</table>\n",
       "<p>914 rows × 5 columns</p>\n",
       "</div>"
      ],
      "text/plain": [
       "     code                                              title level points  \\\n",
       "2   AL801    Software Design with Virtual Reality and Gaming     8    304   \n",
       "3   AL802               Software Design with Cloud Computing     8    301   \n",
       "4   AL803  Software Design with Mobile Apps and Connected...     8    309   \n",
       "5   AL805        Network Management and Cloud Infrastructure     8    329   \n",
       "6   AL810                                 Quantity Surveying     8    307   \n",
       "..    ...                                                ...   ...    ...   \n",
       "50  TR032                                        Engineering     8   487*   \n",
       "51  TR033                                   Computer Science     8   465*   \n",
       "52  TR034  Management Science and Information Systems Stu...     8   589*   \n",
       "53  TR035                                Theoretical Physics     8    554   \n",
       "54  TR038                        Engineering with Management     8    499   \n",
       "\n",
       "   median  \n",
       "2     328  \n",
       "3     306  \n",
       "4     337  \n",
       "5     442  \n",
       "6     349  \n",
       "..    ...  \n",
       "50  520.0  \n",
       "51  488.0  \n",
       "52  602.0  \n",
       "53  601.0  \n",
       "54  543.0  \n",
       "\n",
       "[914 rows x 5 columns]"
      ]
     },
     "execution_count": 51,
     "metadata": {},
     "output_type": "execute_result"
    }
   ],
   "source": [
    "# Dropping old heading\n",
    "df2019.drop(0)"
   ]
  },
  {
   "cell_type": "markdown",
   "id": "c29cf108-674e-4599-be78-865488462994",
   "metadata": {},
   "source": [
    "<br>"
   ]
  },
  {
   "cell_type": "markdown",
   "id": "75fb3104-329e-4aea-8734-36a234575ba9",
   "metadata": {},
   "source": [
    "<br>"
   ]
  },
  {
   "cell_type": "markdown",
   "id": "3f7db0fb-e1a6-4bbb-b023-89ee903761a1",
   "metadata": {},
   "source": [
    "<br>"
   ]
  },
  {
   "cell_type": "markdown",
   "id": "454763c7-266a-4991-b914-99ff2653baf7",
   "metadata": {},
   "source": [
    "<br>"
   ]
  },
  {
   "cell_type": "markdown",
   "id": "19cd2e67-f5f1-4cc5-a7b5-93f1b0843c51",
   "metadata": {},
   "source": [
    "### Level 6 & 7 Courses\n",
    "http://www2.cao.ie/points/lvl76_19.pdf"
   ]
  },
  {
   "cell_type": "markdown",
   "id": "f42aa0c0-08df-477a-af2c-a90b6e8d2021",
   "metadata": {},
   "source": [
    "<br>"
   ]
  },
  {
   "cell_type": "code",
   "execution_count": 52,
   "id": "96f4dd6a-cdd1-4100-9872-75f37e000579",
   "metadata": {},
   "outputs": [],
   "source": [
    "# Checking all pages of pdf for data\n",
    "pdf_2 = camelot.read_pdf('datasets/2019_points_2.pdf', pages='all')"
   ]
  },
  {
   "cell_type": "markdown",
   "id": "14c4a97d-c21c-44a5-a169-7cb5e3459b2a",
   "metadata": {},
   "source": [
    "<br>"
   ]
  },
  {
   "cell_type": "markdown",
   "id": "09db2892-3da5-4e11-a8b4-cbebbed0dd79",
   "metadata": {},
   "source": [
    "<br>"
   ]
  },
  {
   "cell_type": "code",
   "execution_count": 53,
   "id": "46ad7d5d-4682-4d18-bdf3-5fbbd152751b",
   "metadata": {},
   "outputs": [
    {
     "name": "stdout",
     "output_type": "stream",
     "text": [
      "<class 'camelot.core.TableList'>\n"
     ]
    }
   ],
   "source": [
    "# Checking the type\n",
    "print(type(pdf_2))"
   ]
  },
  {
   "cell_type": "markdown",
   "id": "40d5e7e3-02f0-4036-b0da-f1da62a92580",
   "metadata": {},
   "source": [
    "<br>"
   ]
  },
  {
   "cell_type": "markdown",
   "id": "cbf49701-77b5-4a26-bdea-846b391fe5d1",
   "metadata": {},
   "source": [
    "<br>"
   ]
  },
  {
   "cell_type": "code",
   "execution_count": 54,
   "id": "d4c5f5d6-ca32-46af-8b4c-5e5344aafdde",
   "metadata": {},
   "outputs": [
    {
     "data": {
      "text/plain": [
       "<TableList n=10>"
      ]
     },
     "execution_count": 54,
     "metadata": {},
     "output_type": "execute_result"
    }
   ],
   "source": [
    "# Checking the number of tables, should be 10\n",
    "pdf_2"
   ]
  },
  {
   "cell_type": "markdown",
   "id": "6f19caf5-5a06-4f2d-b7f2-0c16f1d7a0cc",
   "metadata": {},
   "source": [
    "<br>"
   ]
  },
  {
   "cell_type": "markdown",
   "id": "ecca7434-813d-4798-98d3-8dc3f132f230",
   "metadata": {},
   "source": [
    "<br>"
   ]
  },
  {
   "cell_type": "code",
   "execution_count": 55,
   "id": "c85fa5ad-1b67-4f2d-950e-90e57a94a46e",
   "metadata": {},
   "outputs": [],
   "source": [
    "# Exporting tables into a csv file\n",
    "pdf_2.export('datasets/2019_points_2.csv', f='csv', compress=True)"
   ]
  },
  {
   "cell_type": "markdown",
   "id": "05da86c2-debc-4a85-b875-82d221042467",
   "metadata": {},
   "source": [
    "<br>"
   ]
  },
  {
   "cell_type": "markdown",
   "id": "fa71bedf-07a7-4984-896d-7e57d0271a34",
   "metadata": {},
   "source": [
    "<br>"
   ]
  },
  {
   "cell_type": "code",
   "execution_count": 56,
   "id": "745ddc32-4187-4178-b4a6-5651b1d9ed91",
   "metadata": {},
   "outputs": [
    {
     "data": {
      "text/plain": [
       "{'accuracy': 100.0, 'whitespace': 9.26, 'order': 1, 'page': 4}"
      ]
     },
     "execution_count": 56,
     "metadata": {},
     "output_type": "execute_result"
    }
   ],
   "source": [
    "# checking to make sure it worked\n",
    "pdf_2[3].parsing_report"
   ]
  },
  {
   "cell_type": "markdown",
   "id": "ca2045b6-b59c-434d-84dd-07cd452d169c",
   "metadata": {},
   "source": [
    "<br>"
   ]
  },
  {
   "cell_type": "markdown",
   "id": "7218d381-ce35-4c20-9fd4-f3c790509e66",
   "metadata": {},
   "source": [
    "<br>"
   ]
  },
  {
   "cell_type": "code",
   "execution_count": 57,
   "id": "82e733dc-973a-4c79-bedd-da683680380f",
   "metadata": {},
   "outputs": [],
   "source": [
    "# Unzipping the folder - multiple tables are exported as a zip\n",
    "# Loop through zipped folder for files\n",
    "with ZipFile('datasets/2019_points_2.zip', 'r') as df:\n",
    "   # Extract all the contents of zip file in current directory\n",
    "   df.extractall('2019_points_2')"
   ]
  },
  {
   "cell_type": "markdown",
   "id": "8794a0c2-b9b4-44a5-80b5-abd0929aaa60",
   "metadata": {},
   "source": [
    "<br>"
   ]
  },
  {
   "cell_type": "markdown",
   "id": "b61ea091-7c3b-40db-990e-c16548b6f134",
   "metadata": {},
   "source": [
    "<br>"
   ]
  },
  {
   "cell_type": "code",
   "execution_count": 58,
   "id": "b9664eed-72cc-49c2-8fe3-f95ad909ce4e",
   "metadata": {},
   "outputs": [],
   "source": [
    "# Creating a path\n",
    "path = '2019_points_2/'"
   ]
  },
  {
   "cell_type": "markdown",
   "id": "2d0ffa91-aa5d-4fc9-9a4d-3c1d211ade6b",
   "metadata": {},
   "source": [
    "<br>"
   ]
  },
  {
   "cell_type": "markdown",
   "id": "9bf89b4a-f153-499e-97ab-babe847d4e9b",
   "metadata": {},
   "source": [
    "<br>"
   ]
  },
  {
   "cell_type": "code",
   "execution_count": 59,
   "id": "66c10b56-fcb8-4ba4-bfb4-e78a3959ccdb",
   "metadata": {},
   "outputs": [],
   "source": [
    "# Find csvs which match this pattern\n",
    "filelist = glob.glob(path + '2019_*.csv')\n",
    "\n",
    "# Merge them together with these column headings. Leaving blurb from pdf without skiprows\n",
    "df2019_2 = pd.concat([pd.read_csv(file, names=['code','title','points','median'], skiprows=10) for file in filelist])"
   ]
  },
  {
   "cell_type": "markdown",
   "id": "aa114ef5-a939-44c5-aff8-44bec5af3237",
   "metadata": {},
   "source": [
    "<br>"
   ]
  },
  {
   "cell_type": "code",
   "execution_count": 60,
   "id": "a525779f-1f36-4b43-88d6-d2c98131f128",
   "metadata": {},
   "outputs": [],
   "source": [
    "# Creating a new column at the second index\n",
    "df2019_2.insert(2, 'level', '6/7')"
   ]
  },
  {
   "cell_type": "markdown",
   "id": "162a4810-959e-4809-a969-d7980ff8de45",
   "metadata": {},
   "source": [
    "<br>"
   ]
  },
  {
   "cell_type": "code",
   "execution_count": 61,
   "id": "6173fc3b-3541-42bb-a99b-e57d4beba51a",
   "metadata": {},
   "outputs": [
    {
     "data": {
      "text/html": [
       "<div>\n",
       "<style scoped>\n",
       "    .dataframe tbody tr th:only-of-type {\n",
       "        vertical-align: middle;\n",
       "    }\n",
       "\n",
       "    .dataframe tbody tr th {\n",
       "        vertical-align: top;\n",
       "    }\n",
       "\n",
       "    .dataframe thead th {\n",
       "        text-align: right;\n",
       "    }\n",
       "</style>\n",
       "<table border=\"1\" class=\"dataframe\">\n",
       "  <thead>\n",
       "    <tr style=\"text-align: right;\">\n",
       "      <th></th>\n",
       "      <th>code</th>\n",
       "      <th>title</th>\n",
       "      <th>level</th>\n",
       "      <th>points</th>\n",
       "      <th>median</th>\n",
       "    </tr>\n",
       "  </thead>\n",
       "  <tbody>\n",
       "    <tr>\n",
       "      <th>0</th>\n",
       "      <td>AL600</td>\n",
       "      <td>Software Design</td>\n",
       "      <td>6/7</td>\n",
       "      <td>205</td>\n",
       "      <td>306.0</td>\n",
       "    </tr>\n",
       "    <tr>\n",
       "      <th>1</th>\n",
       "      <td>AL601</td>\n",
       "      <td>Computer Engineering</td>\n",
       "      <td>6/7</td>\n",
       "      <td>196</td>\n",
       "      <td>272.0</td>\n",
       "    </tr>\n",
       "    <tr>\n",
       "      <th>2</th>\n",
       "      <td>AL602</td>\n",
       "      <td>Mechanical Engineering</td>\n",
       "      <td>6/7</td>\n",
       "      <td>258</td>\n",
       "      <td>424.0</td>\n",
       "    </tr>\n",
       "    <tr>\n",
       "      <th>3</th>\n",
       "      <td>AL604</td>\n",
       "      <td>Civil Engineering</td>\n",
       "      <td>6/7</td>\n",
       "      <td>252</td>\n",
       "      <td>360.0</td>\n",
       "    </tr>\n",
       "    <tr>\n",
       "      <th>4</th>\n",
       "      <td>AL630</td>\n",
       "      <td>Pharmacy Technician</td>\n",
       "      <td>6/7</td>\n",
       "      <td>306</td>\n",
       "      <td>366.0</td>\n",
       "    </tr>\n",
       "    <tr>\n",
       "      <th>...</th>\n",
       "      <td>...</td>\n",
       "      <td>...</td>\n",
       "      <td>...</td>\n",
       "      <td>...</td>\n",
       "      <td>...</td>\n",
       "    </tr>\n",
       "    <tr>\n",
       "      <th>40</th>\n",
       "      <td>WD173</td>\n",
       "      <td>Hospitality Studies</td>\n",
       "      <td>6/7</td>\n",
       "      <td>182.0</td>\n",
       "      <td>278.0</td>\n",
       "    </tr>\n",
       "    <tr>\n",
       "      <th>41</th>\n",
       "      <td>WD174</td>\n",
       "      <td>Tourism</td>\n",
       "      <td>6/7</td>\n",
       "      <td>134.0</td>\n",
       "      <td>282.0</td>\n",
       "    </tr>\n",
       "    <tr>\n",
       "      <th>42</th>\n",
       "      <td>WD175</td>\n",
       "      <td>Pharmaceutical Science</td>\n",
       "      <td>6/7</td>\n",
       "      <td>207.0</td>\n",
       "      <td>367.0</td>\n",
       "    </tr>\n",
       "    <tr>\n",
       "      <th>43</th>\n",
       "      <td>WD177</td>\n",
       "      <td>Science (Mol. Biology with Biopharm.,Food Scie...</td>\n",
       "      <td>6/7</td>\n",
       "      <td>NaN</td>\n",
       "      <td>413.0</td>\n",
       "    </tr>\n",
       "    <tr>\n",
       "      <th>44</th>\n",
       "      <td>WD182</td>\n",
       "      <td>Electrical Engineering</td>\n",
       "      <td>6/7</td>\n",
       "      <td>188.0</td>\n",
       "      <td>315.0</td>\n",
       "    </tr>\n",
       "  </tbody>\n",
       "</table>\n",
       "<p>399 rows × 5 columns</p>\n",
       "</div>"
      ],
      "text/plain": [
       "     code                                              title level points  \\\n",
       "0   AL600                                    Software Design   6/7    205   \n",
       "1   AL601                               Computer Engineering   6/7    196   \n",
       "2   AL602                             Mechanical Engineering   6/7    258   \n",
       "3   AL604                                  Civil Engineering   6/7    252   \n",
       "4   AL630                                Pharmacy Technician   6/7    306   \n",
       "..    ...                                                ...   ...    ...   \n",
       "40  WD173                                Hospitality Studies   6/7  182.0   \n",
       "41  WD174                                            Tourism   6/7  134.0   \n",
       "42  WD175                             Pharmaceutical Science   6/7  207.0   \n",
       "43  WD177  Science (Mol. Biology with Biopharm.,Food Scie...   6/7    NaN   \n",
       "44  WD182                             Electrical Engineering   6/7  188.0   \n",
       "\n",
       "    median  \n",
       "0    306.0  \n",
       "1    272.0  \n",
       "2    424.0  \n",
       "3    360.0  \n",
       "4    366.0  \n",
       "..     ...  \n",
       "40   278.0  \n",
       "41   282.0  \n",
       "42   367.0  \n",
       "43   413.0  \n",
       "44   315.0  \n",
       "\n",
       "[399 rows x 5 columns]"
      ]
     },
     "execution_count": 61,
     "metadata": {},
     "output_type": "execute_result"
    }
   ],
   "source": [
    "# Checking pandas dataframe\n",
    "df2019_2"
   ]
  },
  {
   "cell_type": "markdown",
   "id": "43e1ca63-40bb-4ca6-ac0e-6bfe7eaeb224",
   "metadata": {},
   "source": [
    "<br>"
   ]
  },
  {
   "cell_type": "markdown",
   "id": "22b260c6-4511-4cd2-bdcc-c8bb7ec46d36",
   "metadata": {},
   "source": [
    "<br>"
   ]
  },
  {
   "cell_type": "code",
   "execution_count": 62,
   "id": "45389d6f-e883-4f25-9fab-fa310b9c595a",
   "metadata": {},
   "outputs": [],
   "source": [
    "# Getting rid of rows containing institute names only\n",
    "df2019_2 = df2019_2[df2019_2['code'].notnull()]"
   ]
  },
  {
   "cell_type": "code",
   "execution_count": 63,
   "id": "5aa0925e-1017-4253-9c76-f1f210580110",
   "metadata": {},
   "outputs": [
    {
     "data": {
      "text/html": [
       "<div>\n",
       "<style scoped>\n",
       "    .dataframe tbody tr th:only-of-type {\n",
       "        vertical-align: middle;\n",
       "    }\n",
       "\n",
       "    .dataframe tbody tr th {\n",
       "        vertical-align: top;\n",
       "    }\n",
       "\n",
       "    .dataframe thead th {\n",
       "        text-align: right;\n",
       "    }\n",
       "</style>\n",
       "<table border=\"1\" class=\"dataframe\">\n",
       "  <thead>\n",
       "    <tr style=\"text-align: right;\">\n",
       "      <th></th>\n",
       "      <th>code</th>\n",
       "      <th>title</th>\n",
       "      <th>level</th>\n",
       "      <th>points</th>\n",
       "      <th>median</th>\n",
       "    </tr>\n",
       "  </thead>\n",
       "  <tbody>\n",
       "    <tr>\n",
       "      <th>0</th>\n",
       "      <td>AL600</td>\n",
       "      <td>Software Design</td>\n",
       "      <td>6/7</td>\n",
       "      <td>205</td>\n",
       "      <td>306.0</td>\n",
       "    </tr>\n",
       "    <tr>\n",
       "      <th>1</th>\n",
       "      <td>AL601</td>\n",
       "      <td>Computer Engineering</td>\n",
       "      <td>6/7</td>\n",
       "      <td>196</td>\n",
       "      <td>272.0</td>\n",
       "    </tr>\n",
       "    <tr>\n",
       "      <th>2</th>\n",
       "      <td>AL602</td>\n",
       "      <td>Mechanical Engineering</td>\n",
       "      <td>6/7</td>\n",
       "      <td>258</td>\n",
       "      <td>424.0</td>\n",
       "    </tr>\n",
       "    <tr>\n",
       "      <th>3</th>\n",
       "      <td>AL604</td>\n",
       "      <td>Civil Engineering</td>\n",
       "      <td>6/7</td>\n",
       "      <td>252</td>\n",
       "      <td>360.0</td>\n",
       "    </tr>\n",
       "    <tr>\n",
       "      <th>4</th>\n",
       "      <td>AL630</td>\n",
       "      <td>Pharmacy Technician</td>\n",
       "      <td>6/7</td>\n",
       "      <td>306</td>\n",
       "      <td>366.0</td>\n",
       "    </tr>\n",
       "    <tr>\n",
       "      <th>...</th>\n",
       "      <td>...</td>\n",
       "      <td>...</td>\n",
       "      <td>...</td>\n",
       "      <td>...</td>\n",
       "      <td>...</td>\n",
       "    </tr>\n",
       "    <tr>\n",
       "      <th>40</th>\n",
       "      <td>WD173</td>\n",
       "      <td>Hospitality Studies</td>\n",
       "      <td>6/7</td>\n",
       "      <td>182.0</td>\n",
       "      <td>278.0</td>\n",
       "    </tr>\n",
       "    <tr>\n",
       "      <th>41</th>\n",
       "      <td>WD174</td>\n",
       "      <td>Tourism</td>\n",
       "      <td>6/7</td>\n",
       "      <td>134.0</td>\n",
       "      <td>282.0</td>\n",
       "    </tr>\n",
       "    <tr>\n",
       "      <th>42</th>\n",
       "      <td>WD175</td>\n",
       "      <td>Pharmaceutical Science</td>\n",
       "      <td>6/7</td>\n",
       "      <td>207.0</td>\n",
       "      <td>367.0</td>\n",
       "    </tr>\n",
       "    <tr>\n",
       "      <th>43</th>\n",
       "      <td>WD177</td>\n",
       "      <td>Science (Mol. Biology with Biopharm.,Food Scie...</td>\n",
       "      <td>6/7</td>\n",
       "      <td>NaN</td>\n",
       "      <td>413.0</td>\n",
       "    </tr>\n",
       "    <tr>\n",
       "      <th>44</th>\n",
       "      <td>WD182</td>\n",
       "      <td>Electrical Engineering</td>\n",
       "      <td>6/7</td>\n",
       "      <td>188.0</td>\n",
       "      <td>315.0</td>\n",
       "    </tr>\n",
       "  </tbody>\n",
       "</table>\n",
       "<p>378 rows × 5 columns</p>\n",
       "</div>"
      ],
      "text/plain": [
       "     code                                              title level points  \\\n",
       "0   AL600                                    Software Design   6/7    205   \n",
       "1   AL601                               Computer Engineering   6/7    196   \n",
       "2   AL602                             Mechanical Engineering   6/7    258   \n",
       "3   AL604                                  Civil Engineering   6/7    252   \n",
       "4   AL630                                Pharmacy Technician   6/7    306   \n",
       "..    ...                                                ...   ...    ...   \n",
       "40  WD173                                Hospitality Studies   6/7  182.0   \n",
       "41  WD174                                            Tourism   6/7  134.0   \n",
       "42  WD175                             Pharmaceutical Science   6/7  207.0   \n",
       "43  WD177  Science (Mol. Biology with Biopharm.,Food Scie...   6/7    NaN   \n",
       "44  WD182                             Electrical Engineering   6/7  188.0   \n",
       "\n",
       "    median  \n",
       "0    306.0  \n",
       "1    272.0  \n",
       "2    424.0  \n",
       "3    360.0  \n",
       "4    366.0  \n",
       "..     ...  \n",
       "40   278.0  \n",
       "41   282.0  \n",
       "42   367.0  \n",
       "43   413.0  \n",
       "44   315.0  \n",
       "\n",
       "[378 rows x 5 columns]"
      ]
     },
     "execution_count": 63,
     "metadata": {},
     "output_type": "execute_result"
    }
   ],
   "source": [
    "df2019_2"
   ]
  },
  {
   "cell_type": "markdown",
   "id": "0e4fef94-0754-4968-9eec-d702d65fd2e7",
   "metadata": {},
   "source": [
    "<br>"
   ]
  },
  {
   "cell_type": "markdown",
   "id": "c039144a-78fe-40c7-ad9c-f5aa6d90f05c",
   "metadata": {},
   "source": [
    "<br>"
   ]
  },
  {
   "cell_type": "code",
   "execution_count": 64,
   "id": "896d33b6-7ee8-453b-b31e-561db469332c",
   "metadata": {},
   "outputs": [
    {
     "data": {
      "text/plain": [
       "code         AL752\n",
       "title     Business\n",
       "level          6/7\n",
       "points         232\n",
       "median       387.0\n",
       "Name: 25, dtype: object"
      ]
     },
     "execution_count": 64,
     "metadata": {},
     "output_type": "execute_result"
    }
   ],
   "source": [
    "# Checking random row\n",
    "df2019_2.iloc[25]"
   ]
  },
  {
   "cell_type": "markdown",
   "id": "bf911ef8-92c0-4b9a-b087-23340a4b06f4",
   "metadata": {},
   "source": [
    "<br>"
   ]
  },
  {
   "cell_type": "markdown",
   "id": "743395ef-5f34-427c-a774-3036eb308fea",
   "metadata": {},
   "source": [
    "<br>"
   ]
  },
  {
   "cell_type": "markdown",
   "id": "79bc792c-9f11-400f-bce8-9705e712c44f",
   "metadata": {},
   "source": [
    "<br>"
   ]
  },
  {
   "cell_type": "markdown",
   "id": "697cdd25-c5af-41a1-abeb-ff1f776d5c3d",
   "metadata": {},
   "source": [
    "<br>"
   ]
  },
  {
   "cell_type": "markdown",
   "id": "5ed9157c-6881-4ae5-a533-db76be35e835",
   "metadata": {},
   "source": [
    "<br>"
   ]
  },
  {
   "cell_type": "markdown",
   "id": "9bff566f-4040-4dc3-897c-68dd0a9b2a87",
   "metadata": {},
   "source": [
    "***\n",
    "### Cleaning Up Dataframes & Data \n",
    "***"
   ]
  },
  {
   "cell_type": "markdown",
   "id": "1b56ec2d-3b29-4750-825e-b33ad94edca3",
   "metadata": {},
   "source": [
    "<br>"
   ]
  },
  {
   "cell_type": "markdown",
   "id": "43ed0d86-2803-450c-9882-997526e23321",
   "metadata": {},
   "source": [
    "<br>"
   ]
  },
  {
   "cell_type": "markdown",
   "id": "e9e4d709-840b-457e-910c-c1204b6a17fb",
   "metadata": {},
   "source": [
    "### 2021"
   ]
  },
  {
   "cell_type": "markdown",
   "id": "222f2a98-823e-4238-9ba7-429fd2e381a3",
   "metadata": {},
   "source": [
    "<br>"
   ]
  },
  {
   "cell_type": "code",
   "execution_count": 65,
   "id": "83e50439-7e8e-465c-947b-6493dd7ea90e",
   "metadata": {},
   "outputs": [],
   "source": [
    "# Selecting columns level 8\n",
    "level_8_2021 = df2021[['code', 'title', 'level',  'pointsR1', 'pointsR2']]"
   ]
  },
  {
   "cell_type": "code",
   "execution_count": 66,
   "id": "c577b486-0b8e-43a0-bc6a-71dc3e5eb0ae",
   "metadata": {},
   "outputs": [],
   "source": [
    "# Selecting columns level 6/7\n",
    "level_6_2021 = df2021_2[['code', 'title', 'level',  'pointsR1', 'pointsR2']]"
   ]
  },
  {
   "cell_type": "markdown",
   "id": "039f25da-95e1-4885-85af-db7b57bc3f8b",
   "metadata": {},
   "source": [
    "<br>"
   ]
  },
  {
   "cell_type": "markdown",
   "id": "e537ccd3-f3fb-4a76-9ce5-61ecdd677c69",
   "metadata": {},
   "source": [
    "<br>"
   ]
  },
  {
   "cell_type": "code",
   "execution_count": 67,
   "id": "641a5903-aaf7-479c-af0c-6274ee7b647b",
   "metadata": {
    "tags": []
   },
   "outputs": [],
   "source": [
    "# Concatenating level 8 and 6/7 2021 courses\n",
    "total2021 = pd.concat([level_8_2021, level_6_2021], ignore_index=True)"
   ]
  },
  {
   "cell_type": "code",
   "execution_count": 68,
   "id": "b703428c-d39e-467d-9f8d-bc97f7cceebf",
   "metadata": {},
   "outputs": [
    {
     "data": {
      "text/html": [
       "<div>\n",
       "<style scoped>\n",
       "    .dataframe tbody tr th:only-of-type {\n",
       "        vertical-align: middle;\n",
       "    }\n",
       "\n",
       "    .dataframe tbody tr th {\n",
       "        vertical-align: top;\n",
       "    }\n",
       "\n",
       "    .dataframe thead th {\n",
       "        text-align: right;\n",
       "    }\n",
       "</style>\n",
       "<table border=\"1\" class=\"dataframe\">\n",
       "  <thead>\n",
       "    <tr style=\"text-align: right;\">\n",
       "      <th></th>\n",
       "      <th>code</th>\n",
       "      <th>title</th>\n",
       "      <th>level</th>\n",
       "      <th>pointsR1</th>\n",
       "      <th>pointsR2</th>\n",
       "    </tr>\n",
       "  </thead>\n",
       "  <tbody>\n",
       "    <tr>\n",
       "      <th>0</th>\n",
       "      <td>AL801</td>\n",
       "      <td>Software Design for Virtual Reality and Gaming</td>\n",
       "      <td>8</td>\n",
       "      <td>300</td>\n",
       "      <td>NaN</td>\n",
       "    </tr>\n",
       "    <tr>\n",
       "      <th>1</th>\n",
       "      <td>AL802</td>\n",
       "      <td>Software Design in Artificial Intelligence for...</td>\n",
       "      <td>8</td>\n",
       "      <td>313</td>\n",
       "      <td>NaN</td>\n",
       "    </tr>\n",
       "    <tr>\n",
       "      <th>2</th>\n",
       "      <td>AL803</td>\n",
       "      <td>Software Design for Mobile Apps and Connected ...</td>\n",
       "      <td>8</td>\n",
       "      <td>350</td>\n",
       "      <td>NaN</td>\n",
       "    </tr>\n",
       "    <tr>\n",
       "      <th>3</th>\n",
       "      <td>AL805</td>\n",
       "      <td>Computer Engineering for Network Infrastructure</td>\n",
       "      <td>8</td>\n",
       "      <td>321</td>\n",
       "      <td>NaN</td>\n",
       "    </tr>\n",
       "    <tr>\n",
       "      <th>4</th>\n",
       "      <td>AL810</td>\n",
       "      <td>Quantity Surveying</td>\n",
       "      <td>8</td>\n",
       "      <td>328</td>\n",
       "      <td>NaN</td>\n",
       "    </tr>\n",
       "    <tr>\n",
       "      <th>...</th>\n",
       "      <td>...</td>\n",
       "      <td>...</td>\n",
       "      <td>...</td>\n",
       "      <td>...</td>\n",
       "      <td>...</td>\n",
       "    </tr>\n",
       "    <tr>\n",
       "      <th>1360</th>\n",
       "      <td>WD188</td>\n",
       "      <td>Applied Health Care</td>\n",
       "      <td>6/7</td>\n",
       "      <td>220</td>\n",
       "      <td>NaN</td>\n",
       "    </tr>\n",
       "    <tr>\n",
       "      <th>1361</th>\n",
       "      <td>WD205</td>\n",
       "      <td>Molecular Biology with Biopharmaceutical Science</td>\n",
       "      <td>6/7</td>\n",
       "      <td>AQA</td>\n",
       "      <td>262v</td>\n",
       "    </tr>\n",
       "    <tr>\n",
       "      <th>1362</th>\n",
       "      <td>WD206</td>\n",
       "      <td>Electronic Engineering</td>\n",
       "      <td>6/7</td>\n",
       "      <td>180</td>\n",
       "      <td>NaN</td>\n",
       "    </tr>\n",
       "    <tr>\n",
       "      <th>1363</th>\n",
       "      <td>WD207</td>\n",
       "      <td>Mechanical Engineering</td>\n",
       "      <td>6/7</td>\n",
       "      <td>172</td>\n",
       "      <td>NaN</td>\n",
       "    </tr>\n",
       "    <tr>\n",
       "      <th>1364</th>\n",
       "      <td>WD208</td>\n",
       "      <td>Manufacturing Engineering</td>\n",
       "      <td>6/7</td>\n",
       "      <td>317</td>\n",
       "      <td>NaN</td>\n",
       "    </tr>\n",
       "  </tbody>\n",
       "</table>\n",
       "<p>1365 rows × 5 columns</p>\n",
       "</div>"
      ],
      "text/plain": [
       "       code                                              title level pointsR1  \\\n",
       "0     AL801     Software Design for Virtual Reality and Gaming     8      300   \n",
       "1     AL802  Software Design in Artificial Intelligence for...     8      313   \n",
       "2     AL803  Software Design for Mobile Apps and Connected ...     8      350   \n",
       "3     AL805    Computer Engineering for Network Infrastructure     8      321   \n",
       "4     AL810                                 Quantity Surveying     8      328   \n",
       "...     ...                                                ...   ...      ...   \n",
       "1360  WD188                                Applied Health Care   6/7      220   \n",
       "1361  WD205   Molecular Biology with Biopharmaceutical Science   6/7      AQA   \n",
       "1362  WD206                             Electronic Engineering   6/7      180   \n",
       "1363  WD207                             Mechanical Engineering   6/7      172   \n",
       "1364  WD208                          Manufacturing Engineering   6/7      317   \n",
       "\n",
       "     pointsR2  \n",
       "0         NaN  \n",
       "1         NaN  \n",
       "2         NaN  \n",
       "3         NaN  \n",
       "4         NaN  \n",
       "...       ...  \n",
       "1360      NaN  \n",
       "1361     262v  \n",
       "1362      NaN  \n",
       "1363      NaN  \n",
       "1364      NaN  \n",
       "\n",
       "[1365 rows x 5 columns]"
      ]
     },
     "execution_count": 68,
     "metadata": {},
     "output_type": "execute_result"
    }
   ],
   "source": [
    "total2021"
   ]
  },
  {
   "cell_type": "markdown",
   "id": "9945a09f-263c-4eeb-8ac2-e739ec517fb6",
   "metadata": {},
   "source": [
    "<br>"
   ]
  },
  {
   "cell_type": "markdown",
   "id": "072a296c-2a5c-4eac-b289-1963170be5de",
   "metadata": {},
   "source": [
    "<br>"
   ]
  },
  {
   "cell_type": "code",
   "execution_count": 69,
   "id": "709adb36-43df-42ca-b879-25de9614f697",
   "metadata": {},
   "outputs": [
    {
     "data": {
      "text/html": [
       "<div>\n",
       "<style scoped>\n",
       "    .dataframe tbody tr th:only-of-type {\n",
       "        vertical-align: middle;\n",
       "    }\n",
       "\n",
       "    .dataframe tbody tr th {\n",
       "        vertical-align: top;\n",
       "    }\n",
       "\n",
       "    .dataframe thead th {\n",
       "        text-align: right;\n",
       "    }\n",
       "</style>\n",
       "<table border=\"1\" class=\"dataframe\">\n",
       "  <thead>\n",
       "    <tr style=\"text-align: right;\">\n",
       "      <th></th>\n",
       "      <th>code</th>\n",
       "      <th>title</th>\n",
       "      <th>level</th>\n",
       "      <th>pointsR1</th>\n",
       "      <th>pointsR2</th>\n",
       "    </tr>\n",
       "  </thead>\n",
       "  <tbody>\n",
       "  </tbody>\n",
       "</table>\n",
       "</div>"
      ],
      "text/plain": [
       "Empty DataFrame\n",
       "Columns: [code, title, level, pointsR1, pointsR2]\n",
       "Index: []"
      ]
     },
     "execution_count": 69,
     "metadata": {},
     "output_type": "execute_result"
    }
   ],
   "source": [
    "# Search for duplicates\n",
    "total2021[total2021.duplicated()]"
   ]
  },
  {
   "cell_type": "markdown",
   "id": "f5077656-a206-4362-a63e-c1b1e7209ca2",
   "metadata": {},
   "source": [
    "<br>"
   ]
  },
  {
   "cell_type": "markdown",
   "id": "81262f07-27f1-47d5-a4c8-776251cb7f67",
   "metadata": {},
   "source": [
    "<br>"
   ]
  },
  {
   "cell_type": "markdown",
   "id": "e0a39eed-bd5a-4e4d-af3d-b9952187ebf8",
   "metadata": {},
   "source": [
    "<br>"
   ]
  },
  {
   "cell_type": "markdown",
   "id": "85fd5608-4e2f-4707-a0a6-ca1b71aca24e",
   "metadata": {},
   "source": [
    "### 2020"
   ]
  },
  {
   "cell_type": "markdown",
   "id": "0cc9f153-2686-4b7d-b3ae-0bdd278a3958",
   "metadata": {},
   "source": [
    "<br>"
   ]
  },
  {
   "cell_type": "code",
   "execution_count": 70,
   "id": "657e8ae2-c0e2-4324-9458-a6bd00e6008f",
   "metadata": {},
   "outputs": [],
   "source": [
    "# Selecting coloumns\n",
    "total2020 = df2020[['COURSE CODE2','COURSE TITLE', 'LEVEL']]\n",
    "\n",
    "# Renaming columns\n",
    "total2020.columns = ['code', 'title', 'level']"
   ]
  },
  {
   "cell_type": "code",
   "execution_count": 71,
   "id": "0abbbdf7-43cd-4140-8634-b0e292241de1",
   "metadata": {
    "tags": []
   },
   "outputs": [
    {
     "data": {
      "text/html": [
       "<div>\n",
       "<style scoped>\n",
       "    .dataframe tbody tr th:only-of-type {\n",
       "        vertical-align: middle;\n",
       "    }\n",
       "\n",
       "    .dataframe tbody tr th {\n",
       "        vertical-align: top;\n",
       "    }\n",
       "\n",
       "    .dataframe thead th {\n",
       "        text-align: right;\n",
       "    }\n",
       "</style>\n",
       "<table border=\"1\" class=\"dataframe\">\n",
       "  <thead>\n",
       "    <tr style=\"text-align: right;\">\n",
       "      <th></th>\n",
       "      <th>code</th>\n",
       "      <th>title</th>\n",
       "      <th>level</th>\n",
       "    </tr>\n",
       "  </thead>\n",
       "  <tbody>\n",
       "    <tr>\n",
       "      <th>0</th>\n",
       "      <td>AC120</td>\n",
       "      <td>International Business</td>\n",
       "      <td>8</td>\n",
       "    </tr>\n",
       "    <tr>\n",
       "      <th>1</th>\n",
       "      <td>AC137</td>\n",
       "      <td>Liberal Arts</td>\n",
       "      <td>8</td>\n",
       "    </tr>\n",
       "    <tr>\n",
       "      <th>2</th>\n",
       "      <td>AD101</td>\n",
       "      <td>First Year Art &amp; Design (Common Entry,portfolio)</td>\n",
       "      <td>8</td>\n",
       "    </tr>\n",
       "    <tr>\n",
       "      <th>3</th>\n",
       "      <td>AD102</td>\n",
       "      <td>Graphic Design and Moving Image Design (portfo...</td>\n",
       "      <td>8</td>\n",
       "    </tr>\n",
       "    <tr>\n",
       "      <th>4</th>\n",
       "      <td>AD103</td>\n",
       "      <td>Textile &amp; Surface Design and Jewellery &amp; Objec...</td>\n",
       "      <td>8</td>\n",
       "    </tr>\n",
       "    <tr>\n",
       "      <th>...</th>\n",
       "      <td>...</td>\n",
       "      <td>...</td>\n",
       "      <td>...</td>\n",
       "    </tr>\n",
       "    <tr>\n",
       "      <th>1459</th>\n",
       "      <td>WD208</td>\n",
       "      <td>Manufacturing Engineering</td>\n",
       "      <td>7</td>\n",
       "    </tr>\n",
       "    <tr>\n",
       "      <th>1460</th>\n",
       "      <td>WD210</td>\n",
       "      <td>Software Systems Development</td>\n",
       "      <td>8</td>\n",
       "    </tr>\n",
       "    <tr>\n",
       "      <th>1461</th>\n",
       "      <td>WD211</td>\n",
       "      <td>Creative Computing</td>\n",
       "      <td>8</td>\n",
       "    </tr>\n",
       "    <tr>\n",
       "      <th>1462</th>\n",
       "      <td>WD212</td>\n",
       "      <td>Recreation and Sport Management</td>\n",
       "      <td>8</td>\n",
       "    </tr>\n",
       "    <tr>\n",
       "      <th>1463</th>\n",
       "      <td>WD230</td>\n",
       "      <td>Mechanical and Manufacturing Engineering</td>\n",
       "      <td>8</td>\n",
       "    </tr>\n",
       "  </tbody>\n",
       "</table>\n",
       "<p>1464 rows × 3 columns</p>\n",
       "</div>"
      ],
      "text/plain": [
       "       code                                              title level\n",
       "0     AC120                             International Business     8\n",
       "1     AC137                                       Liberal Arts     8\n",
       "2     AD101   First Year Art & Design (Common Entry,portfolio)     8\n",
       "3     AD102  Graphic Design and Moving Image Design (portfo...     8\n",
       "4     AD103  Textile & Surface Design and Jewellery & Objec...     8\n",
       "...     ...                                                ...   ...\n",
       "1459  WD208                          Manufacturing Engineering     7\n",
       "1460  WD210                       Software Systems Development     8\n",
       "1461  WD211                                 Creative Computing     8\n",
       "1462  WD212                    Recreation and Sport Management     8\n",
       "1463  WD230           Mechanical and Manufacturing Engineering     8\n",
       "\n",
       "[1464 rows x 3 columns]"
      ]
     },
     "execution_count": 71,
     "metadata": {},
     "output_type": "execute_result"
    }
   ],
   "source": [
    "total2020"
   ]
  },
  {
   "cell_type": "markdown",
   "id": "b03aac71-895e-4406-92c8-bf0bf265e1a8",
   "metadata": {},
   "source": [
    "<br>"
   ]
  },
  {
   "cell_type": "markdown",
   "id": "73479988-9abd-4cf0-9163-df81994f0702",
   "metadata": {},
   "source": [
    "<br>"
   ]
  },
  {
   "cell_type": "code",
   "execution_count": 72,
   "id": "387422aa-32ed-4508-8bb8-f4114d90576a",
   "metadata": {},
   "outputs": [
    {
     "data": {
      "text/html": [
       "<div>\n",
       "<style scoped>\n",
       "    .dataframe tbody tr th:only-of-type {\n",
       "        vertical-align: middle;\n",
       "    }\n",
       "\n",
       "    .dataframe tbody tr th {\n",
       "        vertical-align: top;\n",
       "    }\n",
       "\n",
       "    .dataframe thead th {\n",
       "        text-align: right;\n",
       "    }\n",
       "</style>\n",
       "<table border=\"1\" class=\"dataframe\">\n",
       "  <thead>\n",
       "    <tr style=\"text-align: right;\">\n",
       "      <th></th>\n",
       "      <th>code</th>\n",
       "      <th>title</th>\n",
       "      <th>level</th>\n",
       "    </tr>\n",
       "  </thead>\n",
       "  <tbody>\n",
       "  </tbody>\n",
       "</table>\n",
       "</div>"
      ],
      "text/plain": [
       "Empty DataFrame\n",
       "Columns: [code, title, level]\n",
       "Index: []"
      ]
     },
     "execution_count": 72,
     "metadata": {},
     "output_type": "execute_result"
    }
   ],
   "source": [
    "# Search for duplicates\n",
    "total2020[total2020.duplicated()]"
   ]
  },
  {
   "cell_type": "markdown",
   "id": "51c9bc33-94ee-4c6f-8295-c3c607289a53",
   "metadata": {},
   "source": [
    "<br>"
   ]
  },
  {
   "cell_type": "markdown",
   "id": "e5cd7c66-26c5-41df-a91d-78b59cabd9e6",
   "metadata": {},
   "source": [
    "<br>"
   ]
  },
  {
   "cell_type": "markdown",
   "id": "28c35b48-cb2a-451e-ab82-3f65a7aad37a",
   "metadata": {},
   "source": [
    "### 2019"
   ]
  },
  {
   "cell_type": "markdown",
   "id": "2b05007d-a6c2-4c95-b188-ce8382c81bfd",
   "metadata": {},
   "source": [
    "<br>"
   ]
  },
  {
   "cell_type": "code",
   "execution_count": 73,
   "id": "b492116b-7905-4288-814d-2bbfdcb0e3d1",
   "metadata": {},
   "outputs": [],
   "source": [
    "# Selecting columns level 8\n",
    "level_8_2019 = df2019[['code', 'title', 'level', 'points']]"
   ]
  },
  {
   "cell_type": "code",
   "execution_count": 74,
   "id": "5ecb1bb5-55cf-4b14-8734-5d641542470f",
   "metadata": {},
   "outputs": [],
   "source": [
    "# Selecting columns level 6/7\n",
    "level_6_2019 = df2019_2[['code', 'title', 'level', 'points']]"
   ]
  },
  {
   "cell_type": "markdown",
   "id": "c0567d4b-5d1b-4d97-bc2a-3ed8536e9a18",
   "metadata": {},
   "source": [
    "<br>"
   ]
  },
  {
   "cell_type": "markdown",
   "id": "e46fdba3-4dcd-4402-ae92-70c428e72252",
   "metadata": {},
   "source": [
    "<br>"
   ]
  },
  {
   "cell_type": "code",
   "execution_count": 75,
   "id": "a9b0d07e-236a-45e5-b841-e7271f0a8e96",
   "metadata": {
    "tags": []
   },
   "outputs": [],
   "source": [
    "# Concatenating level 8 and 6/7 2021 courses\n",
    "total2019= pd.concat([level_8_2019, level_6_2019], ignore_index=True)"
   ]
  },
  {
   "cell_type": "code",
   "execution_count": 76,
   "id": "ff13bf00-8d81-4b51-8638-3fed6077cb38",
   "metadata": {},
   "outputs": [
    {
     "data": {
      "text/html": [
       "<div>\n",
       "<style scoped>\n",
       "    .dataframe tbody tr th:only-of-type {\n",
       "        vertical-align: middle;\n",
       "    }\n",
       "\n",
       "    .dataframe tbody tr th {\n",
       "        vertical-align: top;\n",
       "    }\n",
       "\n",
       "    .dataframe thead th {\n",
       "        text-align: right;\n",
       "    }\n",
       "</style>\n",
       "<table border=\"1\" class=\"dataframe\">\n",
       "  <thead>\n",
       "    <tr style=\"text-align: right;\">\n",
       "      <th></th>\n",
       "      <th>code</th>\n",
       "      <th>title</th>\n",
       "      <th>level</th>\n",
       "      <th>points</th>\n",
       "    </tr>\n",
       "  </thead>\n",
       "  <tbody>\n",
       "    <tr>\n",
       "      <th>0</th>\n",
       "      <td>Course Code INSTITUTION and COURSE</td>\n",
       "      <td>NaN</td>\n",
       "      <td>8</td>\n",
       "      <td>EOS</td>\n",
       "    </tr>\n",
       "    <tr>\n",
       "      <th>1</th>\n",
       "      <td>AL801</td>\n",
       "      <td>Software Design with Virtual Reality and Gaming</td>\n",
       "      <td>8</td>\n",
       "      <td>304</td>\n",
       "    </tr>\n",
       "    <tr>\n",
       "      <th>2</th>\n",
       "      <td>AL802</td>\n",
       "      <td>Software Design with Cloud Computing</td>\n",
       "      <td>8</td>\n",
       "      <td>301</td>\n",
       "    </tr>\n",
       "    <tr>\n",
       "      <th>3</th>\n",
       "      <td>AL803</td>\n",
       "      <td>Software Design with Mobile Apps and Connected...</td>\n",
       "      <td>8</td>\n",
       "      <td>309</td>\n",
       "    </tr>\n",
       "    <tr>\n",
       "      <th>4</th>\n",
       "      <td>AL805</td>\n",
       "      <td>Network Management and Cloud Infrastructure</td>\n",
       "      <td>8</td>\n",
       "      <td>329</td>\n",
       "    </tr>\n",
       "    <tr>\n",
       "      <th>...</th>\n",
       "      <td>...</td>\n",
       "      <td>...</td>\n",
       "      <td>...</td>\n",
       "      <td>...</td>\n",
       "    </tr>\n",
       "    <tr>\n",
       "      <th>1304</th>\n",
       "      <td>WD173</td>\n",
       "      <td>Hospitality Studies</td>\n",
       "      <td>6/7</td>\n",
       "      <td>182.0</td>\n",
       "    </tr>\n",
       "    <tr>\n",
       "      <th>1305</th>\n",
       "      <td>WD174</td>\n",
       "      <td>Tourism</td>\n",
       "      <td>6/7</td>\n",
       "      <td>134.0</td>\n",
       "    </tr>\n",
       "    <tr>\n",
       "      <th>1306</th>\n",
       "      <td>WD175</td>\n",
       "      <td>Pharmaceutical Science</td>\n",
       "      <td>6/7</td>\n",
       "      <td>207.0</td>\n",
       "    </tr>\n",
       "    <tr>\n",
       "      <th>1307</th>\n",
       "      <td>WD177</td>\n",
       "      <td>Science (Mol. Biology with Biopharm.,Food Scie...</td>\n",
       "      <td>6/7</td>\n",
       "      <td>NaN</td>\n",
       "    </tr>\n",
       "    <tr>\n",
       "      <th>1308</th>\n",
       "      <td>WD182</td>\n",
       "      <td>Electrical Engineering</td>\n",
       "      <td>6/7</td>\n",
       "      <td>188.0</td>\n",
       "    </tr>\n",
       "  </tbody>\n",
       "</table>\n",
       "<p>1309 rows × 4 columns</p>\n",
       "</div>"
      ],
      "text/plain": [
       "                                    code  \\\n",
       "0     Course Code INSTITUTION and COURSE   \n",
       "1                                  AL801   \n",
       "2                                  AL802   \n",
       "3                                  AL803   \n",
       "4                                  AL805   \n",
       "...                                  ...   \n",
       "1304                               WD173   \n",
       "1305                               WD174   \n",
       "1306                               WD175   \n",
       "1307                               WD177   \n",
       "1308                               WD182   \n",
       "\n",
       "                                                  title level points  \n",
       "0                                                   NaN     8    EOS  \n",
       "1       Software Design with Virtual Reality and Gaming     8    304  \n",
       "2                  Software Design with Cloud Computing     8    301  \n",
       "3     Software Design with Mobile Apps and Connected...     8    309  \n",
       "4           Network Management and Cloud Infrastructure     8    329  \n",
       "...                                                 ...   ...    ...  \n",
       "1304                                Hospitality Studies   6/7  182.0  \n",
       "1305                                            Tourism   6/7  134.0  \n",
       "1306                             Pharmaceutical Science   6/7  207.0  \n",
       "1307  Science (Mol. Biology with Biopharm.,Food Scie...   6/7    NaN  \n",
       "1308                             Electrical Engineering   6/7  188.0  \n",
       "\n",
       "[1309 rows x 4 columns]"
      ]
     },
     "execution_count": 76,
     "metadata": {},
     "output_type": "execute_result"
    }
   ],
   "source": [
    "total2019"
   ]
  },
  {
   "cell_type": "code",
   "execution_count": 77,
   "id": "d5759ed6-b268-4154-b9aa-457b3382b4e3",
   "metadata": {},
   "outputs": [
    {
     "data": {
      "text/html": [
       "<div>\n",
       "<style scoped>\n",
       "    .dataframe tbody tr th:only-of-type {\n",
       "        vertical-align: middle;\n",
       "    }\n",
       "\n",
       "    .dataframe tbody tr th {\n",
       "        vertical-align: top;\n",
       "    }\n",
       "\n",
       "    .dataframe thead th {\n",
       "        text-align: right;\n",
       "    }\n",
       "</style>\n",
       "<table border=\"1\" class=\"dataframe\">\n",
       "  <thead>\n",
       "    <tr style=\"text-align: right;\">\n",
       "      <th></th>\n",
       "      <th>code</th>\n",
       "      <th>title</th>\n",
       "      <th>level</th>\n",
       "      <th>points</th>\n",
       "    </tr>\n",
       "  </thead>\n",
       "  <tbody>\n",
       "    <tr>\n",
       "      <th>1</th>\n",
       "      <td>AL801</td>\n",
       "      <td>Software Design with Virtual Reality and Gaming</td>\n",
       "      <td>8</td>\n",
       "      <td>304</td>\n",
       "    </tr>\n",
       "    <tr>\n",
       "      <th>2</th>\n",
       "      <td>AL802</td>\n",
       "      <td>Software Design with Cloud Computing</td>\n",
       "      <td>8</td>\n",
       "      <td>301</td>\n",
       "    </tr>\n",
       "    <tr>\n",
       "      <th>3</th>\n",
       "      <td>AL803</td>\n",
       "      <td>Software Design with Mobile Apps and Connected...</td>\n",
       "      <td>8</td>\n",
       "      <td>309</td>\n",
       "    </tr>\n",
       "    <tr>\n",
       "      <th>4</th>\n",
       "      <td>AL805</td>\n",
       "      <td>Network Management and Cloud Infrastructure</td>\n",
       "      <td>8</td>\n",
       "      <td>329</td>\n",
       "    </tr>\n",
       "    <tr>\n",
       "      <th>5</th>\n",
       "      <td>AL810</td>\n",
       "      <td>Quantity Surveying</td>\n",
       "      <td>8</td>\n",
       "      <td>307</td>\n",
       "    </tr>\n",
       "    <tr>\n",
       "      <th>...</th>\n",
       "      <td>...</td>\n",
       "      <td>...</td>\n",
       "      <td>...</td>\n",
       "      <td>...</td>\n",
       "    </tr>\n",
       "    <tr>\n",
       "      <th>1304</th>\n",
       "      <td>WD173</td>\n",
       "      <td>Hospitality Studies</td>\n",
       "      <td>6/7</td>\n",
       "      <td>182.0</td>\n",
       "    </tr>\n",
       "    <tr>\n",
       "      <th>1305</th>\n",
       "      <td>WD174</td>\n",
       "      <td>Tourism</td>\n",
       "      <td>6/7</td>\n",
       "      <td>134.0</td>\n",
       "    </tr>\n",
       "    <tr>\n",
       "      <th>1306</th>\n",
       "      <td>WD175</td>\n",
       "      <td>Pharmaceutical Science</td>\n",
       "      <td>6/7</td>\n",
       "      <td>207.0</td>\n",
       "    </tr>\n",
       "    <tr>\n",
       "      <th>1307</th>\n",
       "      <td>WD177</td>\n",
       "      <td>Science (Mol. Biology with Biopharm.,Food Scie...</td>\n",
       "      <td>6/7</td>\n",
       "      <td>NaN</td>\n",
       "    </tr>\n",
       "    <tr>\n",
       "      <th>1308</th>\n",
       "      <td>WD182</td>\n",
       "      <td>Electrical Engineering</td>\n",
       "      <td>6/7</td>\n",
       "      <td>188.0</td>\n",
       "    </tr>\n",
       "  </tbody>\n",
       "</table>\n",
       "<p>1308 rows × 4 columns</p>\n",
       "</div>"
      ],
      "text/plain": [
       "       code                                              title level points\n",
       "1     AL801    Software Design with Virtual Reality and Gaming     8    304\n",
       "2     AL802               Software Design with Cloud Computing     8    301\n",
       "3     AL803  Software Design with Mobile Apps and Connected...     8    309\n",
       "4     AL805        Network Management and Cloud Infrastructure     8    329\n",
       "5     AL810                                 Quantity Surveying     8    307\n",
       "...     ...                                                ...   ...    ...\n",
       "1304  WD173                                Hospitality Studies   6/7  182.0\n",
       "1305  WD174                                            Tourism   6/7  134.0\n",
       "1306  WD175                             Pharmaceutical Science   6/7  207.0\n",
       "1307  WD177  Science (Mol. Biology with Biopharm.,Food Scie...   6/7    NaN\n",
       "1308  WD182                             Electrical Engineering   6/7  188.0\n",
       "\n",
       "[1308 rows x 4 columns]"
      ]
     },
     "execution_count": 77,
     "metadata": {},
     "output_type": "execute_result"
    }
   ],
   "source": [
    "# Dropping older header row\n",
    "total2019.drop(0)"
   ]
  },
  {
   "cell_type": "markdown",
   "id": "05d7304d-577a-440c-9f3e-2714bb465334",
   "metadata": {},
   "source": [
    "<br>"
   ]
  },
  {
   "cell_type": "markdown",
   "id": "b357fa09-79d8-46b3-a83b-5584b4d3d92b",
   "metadata": {},
   "source": [
    "<br>"
   ]
  },
  {
   "cell_type": "code",
   "execution_count": 78,
   "id": "c5bea70a-a3e9-49df-b063-216d9c167ac9",
   "metadata": {
    "tags": []
   },
   "outputs": [
    {
     "data": {
      "text/html": [
       "<div>\n",
       "<style scoped>\n",
       "    .dataframe tbody tr th:only-of-type {\n",
       "        vertical-align: middle;\n",
       "    }\n",
       "\n",
       "    .dataframe tbody tr th {\n",
       "        vertical-align: top;\n",
       "    }\n",
       "\n",
       "    .dataframe thead th {\n",
       "        text-align: right;\n",
       "    }\n",
       "</style>\n",
       "<table border=\"1\" class=\"dataframe\">\n",
       "  <thead>\n",
       "    <tr style=\"text-align: right;\">\n",
       "      <th></th>\n",
       "      <th>code</th>\n",
       "      <th>title</th>\n",
       "      <th>level</th>\n",
       "      <th>points</th>\n",
       "    </tr>\n",
       "  </thead>\n",
       "  <tbody>\n",
       "  </tbody>\n",
       "</table>\n",
       "</div>"
      ],
      "text/plain": [
       "Empty DataFrame\n",
       "Columns: [code, title, level, points]\n",
       "Index: []"
      ]
     },
     "execution_count": 78,
     "metadata": {},
     "output_type": "execute_result"
    }
   ],
   "source": [
    "# Search for duplicates\n",
    "total2019[total2019.duplicated()]"
   ]
  },
  {
   "cell_type": "markdown",
   "id": "3fc0320e-453f-4391-b648-36230d72b687",
   "metadata": {},
   "source": [
    "<br>"
   ]
  },
  {
   "cell_type": "markdown",
   "id": "e985deb2-dbf2-4531-a44b-7a863f6d36a3",
   "metadata": {},
   "source": [
    "<br>"
   ]
  },
  {
   "cell_type": "markdown",
   "id": "e27e7d90-8af9-42d8-8d29-af4007ddd8c3",
   "metadata": {},
   "source": [
    "<br>"
   ]
  },
  {
   "cell_type": "markdown",
   "id": "dbcf7e80-8785-4bbb-ba1d-7700ba48cd2d",
   "metadata": {},
   "source": [
    "### All Courses"
   ]
  },
  {
   "cell_type": "markdown",
   "id": "24881b07-f981-4286-ba63-e8aa68150d3a",
   "metadata": {},
   "source": [
    "<br>"
   ]
  },
  {
   "cell_type": "code",
   "execution_count": 79,
   "id": "fc52f78f-f712-4963-ba8a-531884df8e85",
   "metadata": {},
   "outputs": [],
   "source": [
    "courses2021 = total2021[['code', 'title', 'level']]"
   ]
  },
  {
   "cell_type": "code",
   "execution_count": 80,
   "id": "bfbd2b52-e6e8-49c4-b05d-6359aa22e0eb",
   "metadata": {
    "tags": []
   },
   "outputs": [
    {
     "data": {
      "text/html": [
       "<div>\n",
       "<style scoped>\n",
       "    .dataframe tbody tr th:only-of-type {\n",
       "        vertical-align: middle;\n",
       "    }\n",
       "\n",
       "    .dataframe tbody tr th {\n",
       "        vertical-align: top;\n",
       "    }\n",
       "\n",
       "    .dataframe thead th {\n",
       "        text-align: right;\n",
       "    }\n",
       "</style>\n",
       "<table border=\"1\" class=\"dataframe\">\n",
       "  <thead>\n",
       "    <tr style=\"text-align: right;\">\n",
       "      <th></th>\n",
       "      <th>code</th>\n",
       "      <th>title</th>\n",
       "      <th>level</th>\n",
       "    </tr>\n",
       "  </thead>\n",
       "  <tbody>\n",
       "    <tr>\n",
       "      <th>0</th>\n",
       "      <td>AL801</td>\n",
       "      <td>Software Design for Virtual Reality and Gaming</td>\n",
       "      <td>8</td>\n",
       "    </tr>\n",
       "    <tr>\n",
       "      <th>1</th>\n",
       "      <td>AL802</td>\n",
       "      <td>Software Design in Artificial Intelligence for...</td>\n",
       "      <td>8</td>\n",
       "    </tr>\n",
       "    <tr>\n",
       "      <th>2</th>\n",
       "      <td>AL803</td>\n",
       "      <td>Software Design for Mobile Apps and Connected ...</td>\n",
       "      <td>8</td>\n",
       "    </tr>\n",
       "    <tr>\n",
       "      <th>3</th>\n",
       "      <td>AL805</td>\n",
       "      <td>Computer Engineering for Network Infrastructure</td>\n",
       "      <td>8</td>\n",
       "    </tr>\n",
       "    <tr>\n",
       "      <th>4</th>\n",
       "      <td>AL810</td>\n",
       "      <td>Quantity Surveying</td>\n",
       "      <td>8</td>\n",
       "    </tr>\n",
       "    <tr>\n",
       "      <th>...</th>\n",
       "      <td>...</td>\n",
       "      <td>...</td>\n",
       "      <td>...</td>\n",
       "    </tr>\n",
       "    <tr>\n",
       "      <th>1360</th>\n",
       "      <td>WD188</td>\n",
       "      <td>Applied Health Care</td>\n",
       "      <td>6/7</td>\n",
       "    </tr>\n",
       "    <tr>\n",
       "      <th>1361</th>\n",
       "      <td>WD205</td>\n",
       "      <td>Molecular Biology with Biopharmaceutical Science</td>\n",
       "      <td>6/7</td>\n",
       "    </tr>\n",
       "    <tr>\n",
       "      <th>1362</th>\n",
       "      <td>WD206</td>\n",
       "      <td>Electronic Engineering</td>\n",
       "      <td>6/7</td>\n",
       "    </tr>\n",
       "    <tr>\n",
       "      <th>1363</th>\n",
       "      <td>WD207</td>\n",
       "      <td>Mechanical Engineering</td>\n",
       "      <td>6/7</td>\n",
       "    </tr>\n",
       "    <tr>\n",
       "      <th>1364</th>\n",
       "      <td>WD208</td>\n",
       "      <td>Manufacturing Engineering</td>\n",
       "      <td>6/7</td>\n",
       "    </tr>\n",
       "  </tbody>\n",
       "</table>\n",
       "<p>1365 rows × 3 columns</p>\n",
       "</div>"
      ],
      "text/plain": [
       "       code                                              title level\n",
       "0     AL801     Software Design for Virtual Reality and Gaming     8\n",
       "1     AL802  Software Design in Artificial Intelligence for...     8\n",
       "2     AL803  Software Design for Mobile Apps and Connected ...     8\n",
       "3     AL805    Computer Engineering for Network Infrastructure     8\n",
       "4     AL810                                 Quantity Surveying     8\n",
       "...     ...                                                ...   ...\n",
       "1360  WD188                                Applied Health Care   6/7\n",
       "1361  WD205   Molecular Biology with Biopharmaceutical Science   6/7\n",
       "1362  WD206                             Electronic Engineering   6/7\n",
       "1363  WD207                             Mechanical Engineering   6/7\n",
       "1364  WD208                          Manufacturing Engineering   6/7\n",
       "\n",
       "[1365 rows x 3 columns]"
      ]
     },
     "execution_count": 80,
     "metadata": {},
     "output_type": "execute_result"
    }
   ],
   "source": [
    "courses2021"
   ]
  },
  {
   "cell_type": "code",
   "execution_count": 81,
   "id": "77ff4051-24c5-4827-aac7-be4a5e351a25",
   "metadata": {},
   "outputs": [],
   "source": [
    "courses2020 = df2020[['COURSE CODE2','COURSE TITLE', 'LEVEL']]\n",
    "\n",
    "courses2020.columns = ['code', 'title', 'level2020']"
   ]
  },
  {
   "cell_type": "code",
   "execution_count": 82,
   "id": "19394fb3-3f82-4845-a0c5-445f613832ec",
   "metadata": {},
   "outputs": [
    {
     "data": {
      "text/html": [
       "<div>\n",
       "<style scoped>\n",
       "    .dataframe tbody tr th:only-of-type {\n",
       "        vertical-align: middle;\n",
       "    }\n",
       "\n",
       "    .dataframe tbody tr th {\n",
       "        vertical-align: top;\n",
       "    }\n",
       "\n",
       "    .dataframe thead th {\n",
       "        text-align: right;\n",
       "    }\n",
       "</style>\n",
       "<table border=\"1\" class=\"dataframe\">\n",
       "  <thead>\n",
       "    <tr style=\"text-align: right;\">\n",
       "      <th></th>\n",
       "      <th>code</th>\n",
       "      <th>title</th>\n",
       "      <th>level2020</th>\n",
       "    </tr>\n",
       "  </thead>\n",
       "  <tbody>\n",
       "    <tr>\n",
       "      <th>0</th>\n",
       "      <td>AC120</td>\n",
       "      <td>International Business</td>\n",
       "      <td>8</td>\n",
       "    </tr>\n",
       "    <tr>\n",
       "      <th>1</th>\n",
       "      <td>AC137</td>\n",
       "      <td>Liberal Arts</td>\n",
       "      <td>8</td>\n",
       "    </tr>\n",
       "    <tr>\n",
       "      <th>2</th>\n",
       "      <td>AD101</td>\n",
       "      <td>First Year Art &amp; Design (Common Entry,portfolio)</td>\n",
       "      <td>8</td>\n",
       "    </tr>\n",
       "    <tr>\n",
       "      <th>3</th>\n",
       "      <td>AD102</td>\n",
       "      <td>Graphic Design and Moving Image Design (portfo...</td>\n",
       "      <td>8</td>\n",
       "    </tr>\n",
       "    <tr>\n",
       "      <th>4</th>\n",
       "      <td>AD103</td>\n",
       "      <td>Textile &amp; Surface Design and Jewellery &amp; Objec...</td>\n",
       "      <td>8</td>\n",
       "    </tr>\n",
       "    <tr>\n",
       "      <th>...</th>\n",
       "      <td>...</td>\n",
       "      <td>...</td>\n",
       "      <td>...</td>\n",
       "    </tr>\n",
       "    <tr>\n",
       "      <th>1459</th>\n",
       "      <td>WD208</td>\n",
       "      <td>Manufacturing Engineering</td>\n",
       "      <td>7</td>\n",
       "    </tr>\n",
       "    <tr>\n",
       "      <th>1460</th>\n",
       "      <td>WD210</td>\n",
       "      <td>Software Systems Development</td>\n",
       "      <td>8</td>\n",
       "    </tr>\n",
       "    <tr>\n",
       "      <th>1461</th>\n",
       "      <td>WD211</td>\n",
       "      <td>Creative Computing</td>\n",
       "      <td>8</td>\n",
       "    </tr>\n",
       "    <tr>\n",
       "      <th>1462</th>\n",
       "      <td>WD212</td>\n",
       "      <td>Recreation and Sport Management</td>\n",
       "      <td>8</td>\n",
       "    </tr>\n",
       "    <tr>\n",
       "      <th>1463</th>\n",
       "      <td>WD230</td>\n",
       "      <td>Mechanical and Manufacturing Engineering</td>\n",
       "      <td>8</td>\n",
       "    </tr>\n",
       "  </tbody>\n",
       "</table>\n",
       "<p>1464 rows × 3 columns</p>\n",
       "</div>"
      ],
      "text/plain": [
       "       code                                              title level2020\n",
       "0     AC120                             International Business         8\n",
       "1     AC137                                       Liberal Arts         8\n",
       "2     AD101   First Year Art & Design (Common Entry,portfolio)         8\n",
       "3     AD102  Graphic Design and Moving Image Design (portfo...         8\n",
       "4     AD103  Textile & Surface Design and Jewellery & Objec...         8\n",
       "...     ...                                                ...       ...\n",
       "1459  WD208                          Manufacturing Engineering         7\n",
       "1460  WD210                       Software Systems Development         8\n",
       "1461  WD211                                 Creative Computing         8\n",
       "1462  WD212                    Recreation and Sport Management         8\n",
       "1463  WD230           Mechanical and Manufacturing Engineering         8\n",
       "\n",
       "[1464 rows x 3 columns]"
      ]
     },
     "execution_count": 82,
     "metadata": {},
     "output_type": "execute_result"
    }
   ],
   "source": [
    "courses2020"
   ]
  },
  {
   "cell_type": "code",
   "execution_count": 83,
   "id": "85f5ffc5-20bf-4dca-8d00-2e87f960c6c1",
   "metadata": {},
   "outputs": [],
   "source": [
    "# Merging all years \n",
    "courses2019 = total2019[['code', 'title', 'level']]\n",
    "courses2019.columns = ['code', 'title', 'level2019']"
   ]
  },
  {
   "cell_type": "code",
   "execution_count": 84,
   "id": "913788c7-e7aa-444a-b805-e09ab25d4490",
   "metadata": {},
   "outputs": [
    {
     "data": {
      "text/html": [
       "<div>\n",
       "<style scoped>\n",
       "    .dataframe tbody tr th:only-of-type {\n",
       "        vertical-align: middle;\n",
       "    }\n",
       "\n",
       "    .dataframe tbody tr th {\n",
       "        vertical-align: top;\n",
       "    }\n",
       "\n",
       "    .dataframe thead th {\n",
       "        text-align: right;\n",
       "    }\n",
       "</style>\n",
       "<table border=\"1\" class=\"dataframe\">\n",
       "  <thead>\n",
       "    <tr style=\"text-align: right;\">\n",
       "      <th></th>\n",
       "      <th>code</th>\n",
       "      <th>title</th>\n",
       "      <th>level2019</th>\n",
       "    </tr>\n",
       "  </thead>\n",
       "  <tbody>\n",
       "    <tr>\n",
       "      <th>0</th>\n",
       "      <td>Course Code INSTITUTION and COURSE</td>\n",
       "      <td>NaN</td>\n",
       "      <td>8</td>\n",
       "    </tr>\n",
       "    <tr>\n",
       "      <th>1</th>\n",
       "      <td>AL801</td>\n",
       "      <td>Software Design with Virtual Reality and Gaming</td>\n",
       "      <td>8</td>\n",
       "    </tr>\n",
       "    <tr>\n",
       "      <th>2</th>\n",
       "      <td>AL802</td>\n",
       "      <td>Software Design with Cloud Computing</td>\n",
       "      <td>8</td>\n",
       "    </tr>\n",
       "    <tr>\n",
       "      <th>3</th>\n",
       "      <td>AL803</td>\n",
       "      <td>Software Design with Mobile Apps and Connected...</td>\n",
       "      <td>8</td>\n",
       "    </tr>\n",
       "    <tr>\n",
       "      <th>4</th>\n",
       "      <td>AL805</td>\n",
       "      <td>Network Management and Cloud Infrastructure</td>\n",
       "      <td>8</td>\n",
       "    </tr>\n",
       "    <tr>\n",
       "      <th>...</th>\n",
       "      <td>...</td>\n",
       "      <td>...</td>\n",
       "      <td>...</td>\n",
       "    </tr>\n",
       "    <tr>\n",
       "      <th>1304</th>\n",
       "      <td>WD173</td>\n",
       "      <td>Hospitality Studies</td>\n",
       "      <td>6/7</td>\n",
       "    </tr>\n",
       "    <tr>\n",
       "      <th>1305</th>\n",
       "      <td>WD174</td>\n",
       "      <td>Tourism</td>\n",
       "      <td>6/7</td>\n",
       "    </tr>\n",
       "    <tr>\n",
       "      <th>1306</th>\n",
       "      <td>WD175</td>\n",
       "      <td>Pharmaceutical Science</td>\n",
       "      <td>6/7</td>\n",
       "    </tr>\n",
       "    <tr>\n",
       "      <th>1307</th>\n",
       "      <td>WD177</td>\n",
       "      <td>Science (Mol. Biology with Biopharm.,Food Scie...</td>\n",
       "      <td>6/7</td>\n",
       "    </tr>\n",
       "    <tr>\n",
       "      <th>1308</th>\n",
       "      <td>WD182</td>\n",
       "      <td>Electrical Engineering</td>\n",
       "      <td>6/7</td>\n",
       "    </tr>\n",
       "  </tbody>\n",
       "</table>\n",
       "<p>1309 rows × 3 columns</p>\n",
       "</div>"
      ],
      "text/plain": [
       "                                    code  \\\n",
       "0     Course Code INSTITUTION and COURSE   \n",
       "1                                  AL801   \n",
       "2                                  AL802   \n",
       "3                                  AL803   \n",
       "4                                  AL805   \n",
       "...                                  ...   \n",
       "1304                               WD173   \n",
       "1305                               WD174   \n",
       "1306                               WD175   \n",
       "1307                               WD177   \n",
       "1308                               WD182   \n",
       "\n",
       "                                                  title level2019  \n",
       "0                                                   NaN         8  \n",
       "1       Software Design with Virtual Reality and Gaming         8  \n",
       "2                  Software Design with Cloud Computing         8  \n",
       "3     Software Design with Mobile Apps and Connected...         8  \n",
       "4           Network Management and Cloud Infrastructure         8  \n",
       "...                                                 ...       ...  \n",
       "1304                                Hospitality Studies       6/7  \n",
       "1305                                            Tourism       6/7  \n",
       "1306                             Pharmaceutical Science       6/7  \n",
       "1307  Science (Mol. Biology with Biopharm.,Food Scie...       6/7  \n",
       "1308                             Electrical Engineering       6/7  \n",
       "\n",
       "[1309 rows x 3 columns]"
      ]
     },
     "execution_count": 84,
     "metadata": {},
     "output_type": "execute_result"
    }
   ],
   "source": [
    "courses2019"
   ]
  },
  {
   "cell_type": "code",
   "execution_count": 85,
   "id": "3f1f67da-47e1-4b99-9bf9-76ed6f4b2219",
   "metadata": {},
   "outputs": [
    {
     "data": {
      "text/html": [
       "<div>\n",
       "<style scoped>\n",
       "    .dataframe tbody tr th:only-of-type {\n",
       "        vertical-align: middle;\n",
       "    }\n",
       "\n",
       "    .dataframe tbody tr th {\n",
       "        vertical-align: top;\n",
       "    }\n",
       "\n",
       "    .dataframe thead th {\n",
       "        text-align: right;\n",
       "    }\n",
       "</style>\n",
       "<table border=\"1\" class=\"dataframe\">\n",
       "  <thead>\n",
       "    <tr style=\"text-align: right;\">\n",
       "      <th></th>\n",
       "      <th>code</th>\n",
       "      <th>title</th>\n",
       "      <th>level2019</th>\n",
       "    </tr>\n",
       "  </thead>\n",
       "  <tbody>\n",
       "    <tr>\n",
       "      <th>1</th>\n",
       "      <td>AL801</td>\n",
       "      <td>Software Design with Virtual Reality and Gaming</td>\n",
       "      <td>8</td>\n",
       "    </tr>\n",
       "    <tr>\n",
       "      <th>2</th>\n",
       "      <td>AL802</td>\n",
       "      <td>Software Design with Cloud Computing</td>\n",
       "      <td>8</td>\n",
       "    </tr>\n",
       "    <tr>\n",
       "      <th>3</th>\n",
       "      <td>AL803</td>\n",
       "      <td>Software Design with Mobile Apps and Connected...</td>\n",
       "      <td>8</td>\n",
       "    </tr>\n",
       "    <tr>\n",
       "      <th>4</th>\n",
       "      <td>AL805</td>\n",
       "      <td>Network Management and Cloud Infrastructure</td>\n",
       "      <td>8</td>\n",
       "    </tr>\n",
       "    <tr>\n",
       "      <th>5</th>\n",
       "      <td>AL810</td>\n",
       "      <td>Quantity Surveying</td>\n",
       "      <td>8</td>\n",
       "    </tr>\n",
       "    <tr>\n",
       "      <th>...</th>\n",
       "      <td>...</td>\n",
       "      <td>...</td>\n",
       "      <td>...</td>\n",
       "    </tr>\n",
       "    <tr>\n",
       "      <th>1304</th>\n",
       "      <td>WD173</td>\n",
       "      <td>Hospitality Studies</td>\n",
       "      <td>6/7</td>\n",
       "    </tr>\n",
       "    <tr>\n",
       "      <th>1305</th>\n",
       "      <td>WD174</td>\n",
       "      <td>Tourism</td>\n",
       "      <td>6/7</td>\n",
       "    </tr>\n",
       "    <tr>\n",
       "      <th>1306</th>\n",
       "      <td>WD175</td>\n",
       "      <td>Pharmaceutical Science</td>\n",
       "      <td>6/7</td>\n",
       "    </tr>\n",
       "    <tr>\n",
       "      <th>1307</th>\n",
       "      <td>WD177</td>\n",
       "      <td>Science (Mol. Biology with Biopharm.,Food Scie...</td>\n",
       "      <td>6/7</td>\n",
       "    </tr>\n",
       "    <tr>\n",
       "      <th>1308</th>\n",
       "      <td>WD182</td>\n",
       "      <td>Electrical Engineering</td>\n",
       "      <td>6/7</td>\n",
       "    </tr>\n",
       "  </tbody>\n",
       "</table>\n",
       "<p>1308 rows × 3 columns</p>\n",
       "</div>"
      ],
      "text/plain": [
       "       code                                              title level2019\n",
       "1     AL801    Software Design with Virtual Reality and Gaming         8\n",
       "2     AL802               Software Design with Cloud Computing         8\n",
       "3     AL803  Software Design with Mobile Apps and Connected...         8\n",
       "4     AL805        Network Management and Cloud Infrastructure         8\n",
       "5     AL810                                 Quantity Surveying         8\n",
       "...     ...                                                ...       ...\n",
       "1304  WD173                                Hospitality Studies       6/7\n",
       "1305  WD174                                            Tourism       6/7\n",
       "1306  WD175                             Pharmaceutical Science       6/7\n",
       "1307  WD177  Science (Mol. Biology with Biopharm.,Food Scie...       6/7\n",
       "1308  WD182                             Electrical Engineering       6/7\n",
       "\n",
       "[1308 rows x 3 columns]"
      ]
     },
     "execution_count": 85,
     "metadata": {},
     "output_type": "execute_result"
    }
   ],
   "source": [
    "# Dropping older header row\n",
    "courses2019.drop(0)"
   ]
  },
  {
   "cell_type": "code",
   "execution_count": 86,
   "id": "49d5e7e7-84ea-4ec4-90c4-cde777688cad",
   "metadata": {},
   "outputs": [],
   "source": [
    "allcourses = pd.concat([courses2021, courses2020, courses2019], ignore_index=True)\n"
   ]
  },
  {
   "cell_type": "code",
   "execution_count": 87,
   "id": "d3ca7871-b806-470a-801f-73e1d56c3d0f",
   "metadata": {},
   "outputs": [
    {
     "data": {
      "text/html": [
       "<div>\n",
       "<style scoped>\n",
       "    .dataframe tbody tr th:only-of-type {\n",
       "        vertical-align: middle;\n",
       "    }\n",
       "\n",
       "    .dataframe tbody tr th {\n",
       "        vertical-align: top;\n",
       "    }\n",
       "\n",
       "    .dataframe thead th {\n",
       "        text-align: right;\n",
       "    }\n",
       "</style>\n",
       "<table border=\"1\" class=\"dataframe\">\n",
       "  <thead>\n",
       "    <tr style=\"text-align: right;\">\n",
       "      <th></th>\n",
       "      <th>code</th>\n",
       "      <th>title</th>\n",
       "      <th>level</th>\n",
       "      <th>level2020</th>\n",
       "      <th>level2019</th>\n",
       "    </tr>\n",
       "  </thead>\n",
       "  <tbody>\n",
       "    <tr>\n",
       "      <th>0</th>\n",
       "      <td>AL801</td>\n",
       "      <td>Software Design for Virtual Reality and Gaming</td>\n",
       "      <td>8</td>\n",
       "      <td>NaN</td>\n",
       "      <td>NaN</td>\n",
       "    </tr>\n",
       "    <tr>\n",
       "      <th>1</th>\n",
       "      <td>AL802</td>\n",
       "      <td>Software Design in Artificial Intelligence for...</td>\n",
       "      <td>8</td>\n",
       "      <td>NaN</td>\n",
       "      <td>NaN</td>\n",
       "    </tr>\n",
       "    <tr>\n",
       "      <th>2</th>\n",
       "      <td>AL803</td>\n",
       "      <td>Software Design for Mobile Apps and Connected ...</td>\n",
       "      <td>8</td>\n",
       "      <td>NaN</td>\n",
       "      <td>NaN</td>\n",
       "    </tr>\n",
       "    <tr>\n",
       "      <th>3</th>\n",
       "      <td>AL805</td>\n",
       "      <td>Computer Engineering for Network Infrastructure</td>\n",
       "      <td>8</td>\n",
       "      <td>NaN</td>\n",
       "      <td>NaN</td>\n",
       "    </tr>\n",
       "    <tr>\n",
       "      <th>4</th>\n",
       "      <td>AL810</td>\n",
       "      <td>Quantity Surveying</td>\n",
       "      <td>8</td>\n",
       "      <td>NaN</td>\n",
       "      <td>NaN</td>\n",
       "    </tr>\n",
       "    <tr>\n",
       "      <th>...</th>\n",
       "      <td>...</td>\n",
       "      <td>...</td>\n",
       "      <td>...</td>\n",
       "      <td>...</td>\n",
       "      <td>...</td>\n",
       "    </tr>\n",
       "    <tr>\n",
       "      <th>4133</th>\n",
       "      <td>WD173</td>\n",
       "      <td>Hospitality Studies</td>\n",
       "      <td>NaN</td>\n",
       "      <td>NaN</td>\n",
       "      <td>6/7</td>\n",
       "    </tr>\n",
       "    <tr>\n",
       "      <th>4134</th>\n",
       "      <td>WD174</td>\n",
       "      <td>Tourism</td>\n",
       "      <td>NaN</td>\n",
       "      <td>NaN</td>\n",
       "      <td>6/7</td>\n",
       "    </tr>\n",
       "    <tr>\n",
       "      <th>4135</th>\n",
       "      <td>WD175</td>\n",
       "      <td>Pharmaceutical Science</td>\n",
       "      <td>NaN</td>\n",
       "      <td>NaN</td>\n",
       "      <td>6/7</td>\n",
       "    </tr>\n",
       "    <tr>\n",
       "      <th>4136</th>\n",
       "      <td>WD177</td>\n",
       "      <td>Science (Mol. Biology with Biopharm.,Food Scie...</td>\n",
       "      <td>NaN</td>\n",
       "      <td>NaN</td>\n",
       "      <td>6/7</td>\n",
       "    </tr>\n",
       "    <tr>\n",
       "      <th>4137</th>\n",
       "      <td>WD182</td>\n",
       "      <td>Electrical Engineering</td>\n",
       "      <td>NaN</td>\n",
       "      <td>NaN</td>\n",
       "      <td>6/7</td>\n",
       "    </tr>\n",
       "  </tbody>\n",
       "</table>\n",
       "<p>4138 rows × 5 columns</p>\n",
       "</div>"
      ],
      "text/plain": [
       "       code                                              title level  \\\n",
       "0     AL801     Software Design for Virtual Reality and Gaming     8   \n",
       "1     AL802  Software Design in Artificial Intelligence for...     8   \n",
       "2     AL803  Software Design for Mobile Apps and Connected ...     8   \n",
       "3     AL805    Computer Engineering for Network Infrastructure     8   \n",
       "4     AL810                                 Quantity Surveying     8   \n",
       "...     ...                                                ...   ...   \n",
       "4133  WD173                                Hospitality Studies   NaN   \n",
       "4134  WD174                                            Tourism   NaN   \n",
       "4135  WD175                             Pharmaceutical Science   NaN   \n",
       "4136  WD177  Science (Mol. Biology with Biopharm.,Food Scie...   NaN   \n",
       "4137  WD182                             Electrical Engineering   NaN   \n",
       "\n",
       "     level2020 level2019  \n",
       "0          NaN       NaN  \n",
       "1          NaN       NaN  \n",
       "2          NaN       NaN  \n",
       "3          NaN       NaN  \n",
       "4          NaN       NaN  \n",
       "...        ...       ...  \n",
       "4133       NaN       6/7  \n",
       "4134       NaN       6/7  \n",
       "4135       NaN       6/7  \n",
       "4136       NaN       6/7  \n",
       "4137       NaN       6/7  \n",
       "\n",
       "[4138 rows x 5 columns]"
      ]
     },
     "execution_count": 87,
     "metadata": {},
     "output_type": "execute_result"
    }
   ],
   "source": [
    "allcourses"
   ]
  },
  {
   "cell_type": "markdown",
   "id": "8589c812-bc6d-42b7-9e40-b76a470ed0b5",
   "metadata": {},
   "source": [
    "<br>"
   ]
  },
  {
   "cell_type": "markdown",
   "id": "019ad6cd-b269-4d56-b781-482e57b2c47c",
   "metadata": {},
   "source": [
    "<br>"
   ]
  },
  {
   "cell_type": "code",
   "execution_count": 88,
   "id": "cca0094f-0448-4925-82f4-fe7af7146939",
   "metadata": {
    "tags": []
   },
   "outputs": [
    {
     "data": {
      "text/html": [
       "<div>\n",
       "<style scoped>\n",
       "    .dataframe tbody tr th:only-of-type {\n",
       "        vertical-align: middle;\n",
       "    }\n",
       "\n",
       "    .dataframe tbody tr th {\n",
       "        vertical-align: top;\n",
       "    }\n",
       "\n",
       "    .dataframe thead th {\n",
       "        text-align: right;\n",
       "    }\n",
       "</style>\n",
       "<table border=\"1\" class=\"dataframe\">\n",
       "  <thead>\n",
       "    <tr style=\"text-align: right;\">\n",
       "      <th></th>\n",
       "      <th>code</th>\n",
       "      <th>title</th>\n",
       "      <th>level</th>\n",
       "      <th>level2020</th>\n",
       "      <th>level2019</th>\n",
       "    </tr>\n",
       "  </thead>\n",
       "  <tbody>\n",
       "    <tr>\n",
       "      <th>175</th>\n",
       "      <td>AC120</td>\n",
       "      <td>International Business</td>\n",
       "      <td>8</td>\n",
       "      <td>NaN</td>\n",
       "      <td>NaN</td>\n",
       "    </tr>\n",
       "    <tr>\n",
       "      <th>1365</th>\n",
       "      <td>AC120</td>\n",
       "      <td>International Business</td>\n",
       "      <td>NaN</td>\n",
       "      <td>8</td>\n",
       "      <td>NaN</td>\n",
       "    </tr>\n",
       "    <tr>\n",
       "      <th>3465</th>\n",
       "      <td>AC120</td>\n",
       "      <td>International Business</td>\n",
       "      <td>NaN</td>\n",
       "      <td>NaN</td>\n",
       "      <td>8</td>\n",
       "    </tr>\n",
       "    <tr>\n",
       "      <th>1366</th>\n",
       "      <td>AC137</td>\n",
       "      <td>Liberal Arts</td>\n",
       "      <td>NaN</td>\n",
       "      <td>8</td>\n",
       "      <td>NaN</td>\n",
       "    </tr>\n",
       "    <tr>\n",
       "      <th>176</th>\n",
       "      <td>AC137</td>\n",
       "      <td>Liberal Arts</td>\n",
       "      <td>8</td>\n",
       "      <td>NaN</td>\n",
       "      <td>NaN</td>\n",
       "    </tr>\n",
       "    <tr>\n",
       "      <th>...</th>\n",
       "      <td>...</td>\n",
       "      <td>...</td>\n",
       "      <td>...</td>\n",
       "      <td>...</td>\n",
       "      <td>...</td>\n",
       "    </tr>\n",
       "    <tr>\n",
       "      <th>3337</th>\n",
       "      <td>WD230</td>\n",
       "      <td>Mechanical and Manufacturing Engineering</td>\n",
       "      <td>NaN</td>\n",
       "      <td>NaN</td>\n",
       "      <td>8</td>\n",
       "    </tr>\n",
       "    <tr>\n",
       "      <th>946</th>\n",
       "      <td>WD230</td>\n",
       "      <td>Mechanical and Manufacturing Engineering</td>\n",
       "      <td>8</td>\n",
       "      <td>NaN</td>\n",
       "      <td>NaN</td>\n",
       "    </tr>\n",
       "    <tr>\n",
       "      <th>2828</th>\n",
       "      <td>WD230</td>\n",
       "      <td>Mechanical and Manufacturing Engineering</td>\n",
       "      <td>NaN</td>\n",
       "      <td>8</td>\n",
       "      <td>NaN</td>\n",
       "    </tr>\n",
       "    <tr>\n",
       "      <th>947</th>\n",
       "      <td>WD231</td>\n",
       "      <td>Early Childhood Care and Education</td>\n",
       "      <td>8</td>\n",
       "      <td>NaN</td>\n",
       "      <td>NaN</td>\n",
       "    </tr>\n",
       "    <tr>\n",
       "      <th>948</th>\n",
       "      <td>WD232</td>\n",
       "      <td>Business Information Systems</td>\n",
       "      <td>8</td>\n",
       "      <td>NaN</td>\n",
       "      <td>NaN</td>\n",
       "    </tr>\n",
       "  </tbody>\n",
       "</table>\n",
       "<p>4138 rows × 5 columns</p>\n",
       "</div>"
      ],
      "text/plain": [
       "       code                                     title level level2020  \\\n",
       "175   AC120                    International Business     8       NaN   \n",
       "1365  AC120                    International Business   NaN         8   \n",
       "3465  AC120                    International Business   NaN       NaN   \n",
       "1366  AC137                              Liberal Arts   NaN         8   \n",
       "176   AC137                              Liberal Arts     8       NaN   \n",
       "...     ...                                       ...   ...       ...   \n",
       "3337  WD230  Mechanical and Manufacturing Engineering   NaN       NaN   \n",
       "946   WD230  Mechanical and Manufacturing Engineering     8       NaN   \n",
       "2828  WD230  Mechanical and Manufacturing Engineering   NaN         8   \n",
       "947   WD231        Early Childhood Care and Education     8       NaN   \n",
       "948   WD232              Business Information Systems     8       NaN   \n",
       "\n",
       "     level2019  \n",
       "175        NaN  \n",
       "1365       NaN  \n",
       "3465         8  \n",
       "1366       NaN  \n",
       "176        NaN  \n",
       "...        ...  \n",
       "3337         8  \n",
       "946        NaN  \n",
       "2828       NaN  \n",
       "947        NaN  \n",
       "948        NaN  \n",
       "\n",
       "[4138 rows x 5 columns]"
      ]
     },
     "execution_count": 88,
     "metadata": {},
     "output_type": "execute_result"
    }
   ],
   "source": [
    "# Using code as the main column to sort by\n",
    "allcourses.sort_values('code')"
   ]
  },
  {
   "cell_type": "markdown",
   "id": "4facae13-c617-4fb9-aa97-ca5238383320",
   "metadata": {},
   "source": [
    "<br>"
   ]
  },
  {
   "cell_type": "markdown",
   "id": "c18bfba6-563d-464e-9bcd-dc27865c9dcb",
   "metadata": {},
   "source": [
    "<br>"
   ]
  },
  {
   "cell_type": "code",
   "execution_count": 89,
   "id": "43d7f5e6-b919-4c31-b4bc-61d273259797",
   "metadata": {},
   "outputs": [
    {
     "data": {
      "text/html": [
       "<div>\n",
       "<style scoped>\n",
       "    .dataframe tbody tr th:only-of-type {\n",
       "        vertical-align: middle;\n",
       "    }\n",
       "\n",
       "    .dataframe tbody tr th {\n",
       "        vertical-align: top;\n",
       "    }\n",
       "\n",
       "    .dataframe thead th {\n",
       "        text-align: right;\n",
       "    }\n",
       "</style>\n",
       "<table border=\"1\" class=\"dataframe\">\n",
       "  <thead>\n",
       "    <tr style=\"text-align: right;\">\n",
       "      <th></th>\n",
       "      <th>code</th>\n",
       "      <th>title</th>\n",
       "      <th>level</th>\n",
       "      <th>level2020</th>\n",
       "      <th>level2019</th>\n",
       "    </tr>\n",
       "  </thead>\n",
       "  <tbody>\n",
       "  </tbody>\n",
       "</table>\n",
       "</div>"
      ],
      "text/plain": [
       "Empty DataFrame\n",
       "Columns: [code, title, level, level2020, level2019]\n",
       "Index: []"
      ]
     },
     "execution_count": 89,
     "metadata": {},
     "output_type": "execute_result"
    }
   ],
   "source": [
    "# Finding duplicate rows i.e. courses ran in multiple years\n",
    "allcourses[allcourses.duplicated()]"
   ]
  },
  {
   "cell_type": "markdown",
   "id": "df7b5b80-f840-4b54-a0ea-53a944905408",
   "metadata": {},
   "source": [
    "<br>"
   ]
  },
  {
   "cell_type": "code",
   "execution_count": 90,
   "id": "6719fb49-3217-4570-a107-aa7ece1607c7",
   "metadata": {},
   "outputs": [
    {
     "data": {
      "text/html": [
       "<div>\n",
       "<style scoped>\n",
       "    .dataframe tbody tr th:only-of-type {\n",
       "        vertical-align: middle;\n",
       "    }\n",
       "\n",
       "    .dataframe tbody tr th {\n",
       "        vertical-align: top;\n",
       "    }\n",
       "\n",
       "    .dataframe thead th {\n",
       "        text-align: right;\n",
       "    }\n",
       "</style>\n",
       "<table border=\"1\" class=\"dataframe\">\n",
       "  <thead>\n",
       "    <tr style=\"text-align: right;\">\n",
       "      <th></th>\n",
       "      <th>code</th>\n",
       "      <th>title</th>\n",
       "      <th>level</th>\n",
       "      <th>level2020</th>\n",
       "      <th>level2019</th>\n",
       "    </tr>\n",
       "  </thead>\n",
       "  <tbody>\n",
       "    <tr>\n",
       "      <th>0</th>\n",
       "      <td>AL801</td>\n",
       "      <td>Software Design for Virtual Reality and Gaming</td>\n",
       "      <td>8</td>\n",
       "      <td>NaN</td>\n",
       "      <td>NaN</td>\n",
       "    </tr>\n",
       "    <tr>\n",
       "      <th>1</th>\n",
       "      <td>AL802</td>\n",
       "      <td>Software Design in Artificial Intelligence for...</td>\n",
       "      <td>8</td>\n",
       "      <td>NaN</td>\n",
       "      <td>NaN</td>\n",
       "    </tr>\n",
       "    <tr>\n",
       "      <th>2</th>\n",
       "      <td>AL803</td>\n",
       "      <td>Software Design for Mobile Apps and Connected ...</td>\n",
       "      <td>8</td>\n",
       "      <td>NaN</td>\n",
       "      <td>NaN</td>\n",
       "    </tr>\n",
       "    <tr>\n",
       "      <th>3</th>\n",
       "      <td>AL805</td>\n",
       "      <td>Computer Engineering for Network Infrastructure</td>\n",
       "      <td>8</td>\n",
       "      <td>NaN</td>\n",
       "      <td>NaN</td>\n",
       "    </tr>\n",
       "    <tr>\n",
       "      <th>4</th>\n",
       "      <td>AL810</td>\n",
       "      <td>Quantity Surveying</td>\n",
       "      <td>8</td>\n",
       "      <td>NaN</td>\n",
       "      <td>NaN</td>\n",
       "    </tr>\n",
       "    <tr>\n",
       "      <th>...</th>\n",
       "      <td>...</td>\n",
       "      <td>...</td>\n",
       "      <td>...</td>\n",
       "      <td>...</td>\n",
       "      <td>...</td>\n",
       "    </tr>\n",
       "    <tr>\n",
       "      <th>4133</th>\n",
       "      <td>WD173</td>\n",
       "      <td>Hospitality Studies</td>\n",
       "      <td>NaN</td>\n",
       "      <td>NaN</td>\n",
       "      <td>6/7</td>\n",
       "    </tr>\n",
       "    <tr>\n",
       "      <th>4134</th>\n",
       "      <td>WD174</td>\n",
       "      <td>Tourism</td>\n",
       "      <td>NaN</td>\n",
       "      <td>NaN</td>\n",
       "      <td>6/7</td>\n",
       "    </tr>\n",
       "    <tr>\n",
       "      <th>4135</th>\n",
       "      <td>WD175</td>\n",
       "      <td>Pharmaceutical Science</td>\n",
       "      <td>NaN</td>\n",
       "      <td>NaN</td>\n",
       "      <td>6/7</td>\n",
       "    </tr>\n",
       "    <tr>\n",
       "      <th>4136</th>\n",
       "      <td>WD177</td>\n",
       "      <td>Science (Mol. Biology with Biopharm.,Food Scie...</td>\n",
       "      <td>NaN</td>\n",
       "      <td>NaN</td>\n",
       "      <td>6/7</td>\n",
       "    </tr>\n",
       "    <tr>\n",
       "      <th>4137</th>\n",
       "      <td>WD182</td>\n",
       "      <td>Electrical Engineering</td>\n",
       "      <td>NaN</td>\n",
       "      <td>NaN</td>\n",
       "      <td>6/7</td>\n",
       "    </tr>\n",
       "  </tbody>\n",
       "</table>\n",
       "<p>4138 rows × 5 columns</p>\n",
       "</div>"
      ],
      "text/plain": [
       "       code                                              title level  \\\n",
       "0     AL801     Software Design for Virtual Reality and Gaming     8   \n",
       "1     AL802  Software Design in Artificial Intelligence for...     8   \n",
       "2     AL803  Software Design for Mobile Apps and Connected ...     8   \n",
       "3     AL805    Computer Engineering for Network Infrastructure     8   \n",
       "4     AL810                                 Quantity Surveying     8   \n",
       "...     ...                                                ...   ...   \n",
       "4133  WD173                                Hospitality Studies   NaN   \n",
       "4134  WD174                                            Tourism   NaN   \n",
       "4135  WD175                             Pharmaceutical Science   NaN   \n",
       "4136  WD177  Science (Mol. Biology with Biopharm.,Food Scie...   NaN   \n",
       "4137  WD182                             Electrical Engineering   NaN   \n",
       "\n",
       "     level2020 level2019  \n",
       "0          NaN       NaN  \n",
       "1          NaN       NaN  \n",
       "2          NaN       NaN  \n",
       "3          NaN       NaN  \n",
       "4          NaN       NaN  \n",
       "...        ...       ...  \n",
       "4133       NaN       6/7  \n",
       "4134       NaN       6/7  \n",
       "4135       NaN       6/7  \n",
       "4136       NaN       6/7  \n",
       "4137       NaN       6/7  \n",
       "\n",
       "[4138 rows x 5 columns]"
      ]
     },
     "execution_count": 90,
     "metadata": {},
     "output_type": "execute_result"
    }
   ],
   "source": [
    "# Dropping duplicates\n",
    "allcourses.drop_duplicates()"
   ]
  },
  {
   "cell_type": "markdown",
   "id": "bd39d85d-0e69-4f66-beae-6dcc6104dd29",
   "metadata": {},
   "source": [
    "<br>"
   ]
  },
  {
   "cell_type": "markdown",
   "id": "eab6990e-1d2f-4d82-a3cc-61238c1c6131",
   "metadata": {},
   "source": [
    "<br>"
   ]
  },
  {
   "cell_type": "code",
   "execution_count": 91,
   "id": "d213470f-d2e6-4298-beac-51d8aee1399d",
   "metadata": {},
   "outputs": [
    {
     "data": {
      "text/html": [
       "<div>\n",
       "<style scoped>\n",
       "    .dataframe tbody tr th:only-of-type {\n",
       "        vertical-align: middle;\n",
       "    }\n",
       "\n",
       "    .dataframe tbody tr th {\n",
       "        vertical-align: top;\n",
       "    }\n",
       "\n",
       "    .dataframe thead th {\n",
       "        text-align: right;\n",
       "    }\n",
       "</style>\n",
       "<table border=\"1\" class=\"dataframe\">\n",
       "  <thead>\n",
       "    <tr style=\"text-align: right;\">\n",
       "      <th></th>\n",
       "      <th>code</th>\n",
       "      <th>title</th>\n",
       "      <th>level</th>\n",
       "      <th>level2020</th>\n",
       "      <th>level2019</th>\n",
       "    </tr>\n",
       "  </thead>\n",
       "  <tbody>\n",
       "    <tr>\n",
       "      <th>1365</th>\n",
       "      <td>AC120</td>\n",
       "      <td>International Business</td>\n",
       "      <td>NaN</td>\n",
       "      <td>8</td>\n",
       "      <td>NaN</td>\n",
       "    </tr>\n",
       "    <tr>\n",
       "      <th>1366</th>\n",
       "      <td>AC137</td>\n",
       "      <td>Liberal Arts</td>\n",
       "      <td>NaN</td>\n",
       "      <td>8</td>\n",
       "      <td>NaN</td>\n",
       "    </tr>\n",
       "    <tr>\n",
       "      <th>1367</th>\n",
       "      <td>AD101</td>\n",
       "      <td>First Year Art &amp; Design (Common Entry,portfolio)</td>\n",
       "      <td>NaN</td>\n",
       "      <td>8</td>\n",
       "      <td>NaN</td>\n",
       "    </tr>\n",
       "    <tr>\n",
       "      <th>1368</th>\n",
       "      <td>AD102</td>\n",
       "      <td>Graphic Design and Moving Image Design (portfo...</td>\n",
       "      <td>NaN</td>\n",
       "      <td>8</td>\n",
       "      <td>NaN</td>\n",
       "    </tr>\n",
       "    <tr>\n",
       "      <th>1369</th>\n",
       "      <td>AD103</td>\n",
       "      <td>Textile &amp; Surface Design and Jewellery &amp; Objec...</td>\n",
       "      <td>NaN</td>\n",
       "      <td>8</td>\n",
       "      <td>NaN</td>\n",
       "    </tr>\n",
       "    <tr>\n",
       "      <th>...</th>\n",
       "      <td>...</td>\n",
       "      <td>...</td>\n",
       "      <td>...</td>\n",
       "      <td>...</td>\n",
       "      <td>...</td>\n",
       "    </tr>\n",
       "    <tr>\n",
       "      <th>4133</th>\n",
       "      <td>WD173</td>\n",
       "      <td>Hospitality Studies</td>\n",
       "      <td>NaN</td>\n",
       "      <td>NaN</td>\n",
       "      <td>6/7</td>\n",
       "    </tr>\n",
       "    <tr>\n",
       "      <th>4134</th>\n",
       "      <td>WD174</td>\n",
       "      <td>Tourism</td>\n",
       "      <td>NaN</td>\n",
       "      <td>NaN</td>\n",
       "      <td>6/7</td>\n",
       "    </tr>\n",
       "    <tr>\n",
       "      <th>4135</th>\n",
       "      <td>WD175</td>\n",
       "      <td>Pharmaceutical Science</td>\n",
       "      <td>NaN</td>\n",
       "      <td>NaN</td>\n",
       "      <td>6/7</td>\n",
       "    </tr>\n",
       "    <tr>\n",
       "      <th>4136</th>\n",
       "      <td>WD177</td>\n",
       "      <td>Science (Mol. Biology with Biopharm.,Food Scie...</td>\n",
       "      <td>NaN</td>\n",
       "      <td>NaN</td>\n",
       "      <td>6/7</td>\n",
       "    </tr>\n",
       "    <tr>\n",
       "      <th>4137</th>\n",
       "      <td>WD182</td>\n",
       "      <td>Electrical Engineering</td>\n",
       "      <td>NaN</td>\n",
       "      <td>NaN</td>\n",
       "      <td>6/7</td>\n",
       "    </tr>\n",
       "  </tbody>\n",
       "</table>\n",
       "<p>2372 rows × 5 columns</p>\n",
       "</div>"
      ],
      "text/plain": [
       "       code                                              title level  \\\n",
       "1365  AC120                             International Business   NaN   \n",
       "1366  AC137                                       Liberal Arts   NaN   \n",
       "1367  AD101   First Year Art & Design (Common Entry,portfolio)   NaN   \n",
       "1368  AD102  Graphic Design and Moving Image Design (portfo...   NaN   \n",
       "1369  AD103  Textile & Surface Design and Jewellery & Objec...   NaN   \n",
       "...     ...                                                ...   ...   \n",
       "4133  WD173                                Hospitality Studies   NaN   \n",
       "4134  WD174                                            Tourism   NaN   \n",
       "4135  WD175                             Pharmaceutical Science   NaN   \n",
       "4136  WD177  Science (Mol. Biology with Biopharm.,Food Scie...   NaN   \n",
       "4137  WD182                             Electrical Engineering   NaN   \n",
       "\n",
       "     level2020 level2019  \n",
       "1365         8       NaN  \n",
       "1366         8       NaN  \n",
       "1367         8       NaN  \n",
       "1368         8       NaN  \n",
       "1369         8       NaN  \n",
       "...        ...       ...  \n",
       "4133       NaN       6/7  \n",
       "4134       NaN       6/7  \n",
       "4135       NaN       6/7  \n",
       "4136       NaN       6/7  \n",
       "4137       NaN       6/7  \n",
       "\n",
       "[2372 rows x 5 columns]"
      ]
     },
     "execution_count": 91,
     "metadata": {},
     "output_type": "execute_result"
    }
   ],
   "source": [
    "# Duplicates which share the same code\n",
    "allcourses[allcourses.duplicated(subset=['code'])]"
   ]
  },
  {
   "cell_type": "markdown",
   "id": "04695e98-1e85-42ab-b872-6485cddfd08b",
   "metadata": {},
   "source": [
    "<br>"
   ]
  },
  {
   "cell_type": "markdown",
   "id": "d958a15a-9148-4ca9-bc1a-55910c4b64df",
   "metadata": {},
   "source": [
    "<br>"
   ]
  },
  {
   "cell_type": "code",
   "execution_count": 92,
   "id": "25bd85f4-a5cc-4433-a89c-70644781c97c",
   "metadata": {},
   "outputs": [],
   "source": [
    "# Dataframe has dropped duplicates which shared a code\n",
    "allcourses.drop_duplicates(subset=['code'], inplace=True, ignore_index=True)"
   ]
  },
  {
   "cell_type": "markdown",
   "id": "ae3cadc3-3e68-487d-9c5d-611d39483a1f",
   "metadata": {},
   "source": [
    "<br>"
   ]
  },
  {
   "cell_type": "markdown",
   "id": "75d23006-f17a-4780-affb-a240f1a9dbbf",
   "metadata": {},
   "source": [
    "<br>"
   ]
  },
  {
   "cell_type": "code",
   "execution_count": 93,
   "id": "12d1925c-a35b-497e-b257-bba5ff9533a8",
   "metadata": {},
   "outputs": [
    {
     "data": {
      "text/html": [
       "<div>\n",
       "<style scoped>\n",
       "    .dataframe tbody tr th:only-of-type {\n",
       "        vertical-align: middle;\n",
       "    }\n",
       "\n",
       "    .dataframe tbody tr th {\n",
       "        vertical-align: top;\n",
       "    }\n",
       "\n",
       "    .dataframe thead th {\n",
       "        text-align: right;\n",
       "    }\n",
       "</style>\n",
       "<table border=\"1\" class=\"dataframe\">\n",
       "  <thead>\n",
       "    <tr style=\"text-align: right;\">\n",
       "      <th></th>\n",
       "      <th>code</th>\n",
       "      <th>title</th>\n",
       "      <th>level</th>\n",
       "      <th>level2020</th>\n",
       "      <th>level2019</th>\n",
       "    </tr>\n",
       "  </thead>\n",
       "  <tbody>\n",
       "    <tr>\n",
       "      <th>0</th>\n",
       "      <td>AL801</td>\n",
       "      <td>Software Design for Virtual Reality and Gaming</td>\n",
       "      <td>8</td>\n",
       "      <td>NaN</td>\n",
       "      <td>NaN</td>\n",
       "    </tr>\n",
       "    <tr>\n",
       "      <th>1</th>\n",
       "      <td>AL802</td>\n",
       "      <td>Software Design in Artificial Intelligence for...</td>\n",
       "      <td>8</td>\n",
       "      <td>NaN</td>\n",
       "      <td>NaN</td>\n",
       "    </tr>\n",
       "    <tr>\n",
       "      <th>2</th>\n",
       "      <td>AL803</td>\n",
       "      <td>Software Design for Mobile Apps and Connected ...</td>\n",
       "      <td>8</td>\n",
       "      <td>NaN</td>\n",
       "      <td>NaN</td>\n",
       "    </tr>\n",
       "    <tr>\n",
       "      <th>3</th>\n",
       "      <td>AL805</td>\n",
       "      <td>Computer Engineering for Network Infrastructure</td>\n",
       "      <td>8</td>\n",
       "      <td>NaN</td>\n",
       "      <td>NaN</td>\n",
       "    </tr>\n",
       "    <tr>\n",
       "      <th>4</th>\n",
       "      <td>AL810</td>\n",
       "      <td>Quantity Surveying</td>\n",
       "      <td>8</td>\n",
       "      <td>NaN</td>\n",
       "      <td>NaN</td>\n",
       "    </tr>\n",
       "    <tr>\n",
       "      <th>...</th>\n",
       "      <td>...</td>\n",
       "      <td>...</td>\n",
       "      <td>...</td>\n",
       "      <td>...</td>\n",
       "      <td>...</td>\n",
       "    </tr>\n",
       "    <tr>\n",
       "      <th>1761</th>\n",
       "      <td>SG403</td>\n",
       "      <td>Applied Archaeology</td>\n",
       "      <td>NaN</td>\n",
       "      <td>NaN</td>\n",
       "      <td>6/7</td>\n",
       "    </tr>\n",
       "    <tr>\n",
       "      <th>1762</th>\n",
       "      <td>SG432</td>\n",
       "      <td>Environmental Protection</td>\n",
       "      <td>NaN</td>\n",
       "      <td>NaN</td>\n",
       "      <td>6/7</td>\n",
       "    </tr>\n",
       "    <tr>\n",
       "      <th>1763</th>\n",
       "      <td>TL712</td>\n",
       "      <td>Computing with Digital Media</td>\n",
       "      <td>NaN</td>\n",
       "      <td>NaN</td>\n",
       "      <td>6/7</td>\n",
       "    </tr>\n",
       "    <tr>\n",
       "      <th>1764</th>\n",
       "      <td>TL719</td>\n",
       "      <td>Culinary Arts</td>\n",
       "      <td>NaN</td>\n",
       "      <td>NaN</td>\n",
       "      <td>6/7</td>\n",
       "    </tr>\n",
       "    <tr>\n",
       "      <th>1765</th>\n",
       "      <td>TL746</td>\n",
       "      <td>Engineering in Mechatronics Engineering</td>\n",
       "      <td>NaN</td>\n",
       "      <td>NaN</td>\n",
       "      <td>6/7</td>\n",
       "    </tr>\n",
       "  </tbody>\n",
       "</table>\n",
       "<p>1766 rows × 5 columns</p>\n",
       "</div>"
      ],
      "text/plain": [
       "       code                                              title level  \\\n",
       "0     AL801     Software Design for Virtual Reality and Gaming     8   \n",
       "1     AL802  Software Design in Artificial Intelligence for...     8   \n",
       "2     AL803  Software Design for Mobile Apps and Connected ...     8   \n",
       "3     AL805    Computer Engineering for Network Infrastructure     8   \n",
       "4     AL810                                 Quantity Surveying     8   \n",
       "...     ...                                                ...   ...   \n",
       "1761  SG403                                Applied Archaeology   NaN   \n",
       "1762  SG432                           Environmental Protection   NaN   \n",
       "1763  TL712                       Computing with Digital Media   NaN   \n",
       "1764  TL719                                      Culinary Arts   NaN   \n",
       "1765  TL746            Engineering in Mechatronics Engineering   NaN   \n",
       "\n",
       "     level2020 level2019  \n",
       "0          NaN       NaN  \n",
       "1          NaN       NaN  \n",
       "2          NaN       NaN  \n",
       "3          NaN       NaN  \n",
       "4          NaN       NaN  \n",
       "...        ...       ...  \n",
       "1761       NaN       6/7  \n",
       "1762       NaN       6/7  \n",
       "1763       NaN       6/7  \n",
       "1764       NaN       6/7  \n",
       "1765       NaN       6/7  \n",
       "\n",
       "[1766 rows x 5 columns]"
      ]
     },
     "execution_count": 93,
     "metadata": {},
     "output_type": "execute_result"
    }
   ],
   "source": [
    "allcourses"
   ]
  },
  {
   "cell_type": "markdown",
   "id": "df2ddf43-cec4-4254-ac46-0a189342d6d8",
   "metadata": {},
   "source": [
    "<br>"
   ]
  },
  {
   "cell_type": "code",
   "execution_count": null,
   "id": "32bc9e70-3939-4b22-8d4b-dfc383f8c4ed",
   "metadata": {},
   "outputs": [],
   "source": []
  },
  {
   "cell_type": "markdown",
   "id": "a82b69f2-0a74-4fe1-9b97-f29d4c7d3164",
   "metadata": {},
   "source": [
    "<br>"
   ]
  },
  {
   "cell_type": "markdown",
   "id": "de850894-7bd4-4acd-86b4-c29148cc4143",
   "metadata": {},
   "source": [
    "<br>"
   ]
  },
  {
   "cell_type": "markdown",
   "id": "2df5fd82-9ce4-49eb-b564-7cf65259fbb3",
   "metadata": {},
   "source": [
    "### Joining Points and Levels"
   ]
  },
  {
   "cell_type": "markdown",
   "id": "ea6ec768-ca4c-426f-b88e-c05c981434ce",
   "metadata": {},
   "source": [
    "<br>"
   ]
  },
  {
   "cell_type": "markdown",
   "id": "7ee7736b-8023-47e4-a900-4c7e9ae8b705",
   "metadata": {},
   "source": [
    "<br>"
   ]
  },
  {
   "cell_type": "code",
   "execution_count": 94,
   "id": "d1c1e4b9-e503-4f48-8287-6e3d89ebe746",
   "metadata": {},
   "outputs": [],
   "source": [
    "# Setting the index as the code column\n",
    "total2021.set_index('code', inplace=True)\n",
    "\n",
    "# Column headings\n",
    "total2021.columns = ['title', 'level', 'points_r1_2021', 'points_r2_2021']\n"
   ]
  },
  {
   "cell_type": "markdown",
   "id": "57ae9089-5846-4ff6-9763-5a0eb7fdb1f1",
   "metadata": {},
   "source": [
    "<br>"
   ]
  },
  {
   "cell_type": "code",
   "execution_count": 95,
   "id": "ea895118-0fc1-4b93-ab6c-d72b9c9ea31d",
   "metadata": {},
   "outputs": [
    {
     "data": {
      "text/html": [
       "<div>\n",
       "<style scoped>\n",
       "    .dataframe tbody tr th:only-of-type {\n",
       "        vertical-align: middle;\n",
       "    }\n",
       "\n",
       "    .dataframe tbody tr th {\n",
       "        vertical-align: top;\n",
       "    }\n",
       "\n",
       "    .dataframe thead th {\n",
       "        text-align: right;\n",
       "    }\n",
       "</style>\n",
       "<table border=\"1\" class=\"dataframe\">\n",
       "  <thead>\n",
       "    <tr style=\"text-align: right;\">\n",
       "      <th></th>\n",
       "      <th>title</th>\n",
       "      <th>level</th>\n",
       "      <th>points_r1_2021</th>\n",
       "      <th>points_r2_2021</th>\n",
       "    </tr>\n",
       "    <tr>\n",
       "      <th>code</th>\n",
       "      <th></th>\n",
       "      <th></th>\n",
       "      <th></th>\n",
       "      <th></th>\n",
       "    </tr>\n",
       "  </thead>\n",
       "  <tbody>\n",
       "    <tr>\n",
       "      <th>AL801</th>\n",
       "      <td>Software Design for Virtual Reality and Gaming</td>\n",
       "      <td>8</td>\n",
       "      <td>300</td>\n",
       "      <td>NaN</td>\n",
       "    </tr>\n",
       "    <tr>\n",
       "      <th>AL802</th>\n",
       "      <td>Software Design in Artificial Intelligence for...</td>\n",
       "      <td>8</td>\n",
       "      <td>313</td>\n",
       "      <td>NaN</td>\n",
       "    </tr>\n",
       "    <tr>\n",
       "      <th>AL803</th>\n",
       "      <td>Software Design for Mobile Apps and Connected ...</td>\n",
       "      <td>8</td>\n",
       "      <td>350</td>\n",
       "      <td>NaN</td>\n",
       "    </tr>\n",
       "    <tr>\n",
       "      <th>AL805</th>\n",
       "      <td>Computer Engineering for Network Infrastructure</td>\n",
       "      <td>8</td>\n",
       "      <td>321</td>\n",
       "      <td>NaN</td>\n",
       "    </tr>\n",
       "    <tr>\n",
       "      <th>AL810</th>\n",
       "      <td>Quantity Surveying</td>\n",
       "      <td>8</td>\n",
       "      <td>328</td>\n",
       "      <td>NaN</td>\n",
       "    </tr>\n",
       "    <tr>\n",
       "      <th>...</th>\n",
       "      <td>...</td>\n",
       "      <td>...</td>\n",
       "      <td>...</td>\n",
       "      <td>...</td>\n",
       "    </tr>\n",
       "    <tr>\n",
       "      <th>WD188</th>\n",
       "      <td>Applied Health Care</td>\n",
       "      <td>6/7</td>\n",
       "      <td>220</td>\n",
       "      <td>NaN</td>\n",
       "    </tr>\n",
       "    <tr>\n",
       "      <th>WD205</th>\n",
       "      <td>Molecular Biology with Biopharmaceutical Science</td>\n",
       "      <td>6/7</td>\n",
       "      <td>AQA</td>\n",
       "      <td>262v</td>\n",
       "    </tr>\n",
       "    <tr>\n",
       "      <th>WD206</th>\n",
       "      <td>Electronic Engineering</td>\n",
       "      <td>6/7</td>\n",
       "      <td>180</td>\n",
       "      <td>NaN</td>\n",
       "    </tr>\n",
       "    <tr>\n",
       "      <th>WD207</th>\n",
       "      <td>Mechanical Engineering</td>\n",
       "      <td>6/7</td>\n",
       "      <td>172</td>\n",
       "      <td>NaN</td>\n",
       "    </tr>\n",
       "    <tr>\n",
       "      <th>WD208</th>\n",
       "      <td>Manufacturing Engineering</td>\n",
       "      <td>6/7</td>\n",
       "      <td>317</td>\n",
       "      <td>NaN</td>\n",
       "    </tr>\n",
       "  </tbody>\n",
       "</table>\n",
       "<p>1365 rows × 4 columns</p>\n",
       "</div>"
      ],
      "text/plain": [
       "                                                   title level points_r1_2021  \\\n",
       "code                                                                            \n",
       "AL801     Software Design for Virtual Reality and Gaming     8            300   \n",
       "AL802  Software Design in Artificial Intelligence for...     8            313   \n",
       "AL803  Software Design for Mobile Apps and Connected ...     8            350   \n",
       "AL805    Computer Engineering for Network Infrastructure     8            321   \n",
       "AL810                                 Quantity Surveying     8            328   \n",
       "...                                                  ...   ...            ...   \n",
       "WD188                                Applied Health Care   6/7            220   \n",
       "WD205   Molecular Biology with Biopharmaceutical Science   6/7            AQA   \n",
       "WD206                             Electronic Engineering   6/7            180   \n",
       "WD207                             Mechanical Engineering   6/7            172   \n",
       "WD208                          Manufacturing Engineering   6/7            317   \n",
       "\n",
       "      points_r2_2021  \n",
       "code                  \n",
       "AL801            NaN  \n",
       "AL802            NaN  \n",
       "AL803            NaN  \n",
       "AL805            NaN  \n",
       "AL810            NaN  \n",
       "...              ...  \n",
       "WD188            NaN  \n",
       "WD205           262v  \n",
       "WD206            NaN  \n",
       "WD207            NaN  \n",
       "WD208            NaN  \n",
       "\n",
       "[1365 rows x 4 columns]"
      ]
     },
     "execution_count": 95,
     "metadata": {},
     "output_type": "execute_result"
    }
   ],
   "source": [
    "total2021"
   ]
  },
  {
   "cell_type": "markdown",
   "id": "9aa14f4b-7eb6-406c-86f0-69e02fb9af3b",
   "metadata": {},
   "source": [
    "<br>"
   ]
  },
  {
   "cell_type": "markdown",
   "id": "740f2933-fc63-48c5-9de2-7050b5f70606",
   "metadata": {},
   "source": [
    "<br>"
   ]
  },
  {
   "cell_type": "code",
   "execution_count": 96,
   "id": "bc7b9a79-1cb4-493c-b1ba-ce950ce5a2d6",
   "metadata": {},
   "outputs": [],
   "source": [
    "# Setting the index as the code column\n",
    "allcourses.set_index('code', inplace=True)"
   ]
  },
  {
   "cell_type": "markdown",
   "id": "8c478ad7-1b0f-4422-8343-b727f2ae66c6",
   "metadata": {},
   "source": [
    "<br>"
   ]
  },
  {
   "cell_type": "code",
   "execution_count": 98,
   "id": "dabd1bc6-c61c-413b-947d-885ea372724b",
   "metadata": {},
   "outputs": [],
   "source": [
    "allcourses = allcourses.join(total2021[['points_r1_2021', 'points_r2_2021']])"
   ]
  },
  {
   "cell_type": "code",
   "execution_count": 99,
   "id": "293b714f-eb30-4901-b917-fe11e2a7305b",
   "metadata": {},
   "outputs": [
    {
     "data": {
      "text/html": [
       "<div>\n",
       "<style scoped>\n",
       "    .dataframe tbody tr th:only-of-type {\n",
       "        vertical-align: middle;\n",
       "    }\n",
       "\n",
       "    .dataframe tbody tr th {\n",
       "        vertical-align: top;\n",
       "    }\n",
       "\n",
       "    .dataframe thead th {\n",
       "        text-align: right;\n",
       "    }\n",
       "</style>\n",
       "<table border=\"1\" class=\"dataframe\">\n",
       "  <thead>\n",
       "    <tr style=\"text-align: right;\">\n",
       "      <th></th>\n",
       "      <th>title</th>\n",
       "      <th>level</th>\n",
       "      <th>level2020</th>\n",
       "      <th>level2019</th>\n",
       "      <th>points_r1_2021</th>\n",
       "      <th>points_r2_2021</th>\n",
       "    </tr>\n",
       "    <tr>\n",
       "      <th>code</th>\n",
       "      <th></th>\n",
       "      <th></th>\n",
       "      <th></th>\n",
       "      <th></th>\n",
       "      <th></th>\n",
       "      <th></th>\n",
       "    </tr>\n",
       "  </thead>\n",
       "  <tbody>\n",
       "    <tr>\n",
       "      <th>AL801</th>\n",
       "      <td>Software Design for Virtual Reality and Gaming</td>\n",
       "      <td>8</td>\n",
       "      <td>NaN</td>\n",
       "      <td>NaN</td>\n",
       "      <td>300</td>\n",
       "      <td>NaN</td>\n",
       "    </tr>\n",
       "    <tr>\n",
       "      <th>AL802</th>\n",
       "      <td>Software Design in Artificial Intelligence for...</td>\n",
       "      <td>8</td>\n",
       "      <td>NaN</td>\n",
       "      <td>NaN</td>\n",
       "      <td>313</td>\n",
       "      <td>NaN</td>\n",
       "    </tr>\n",
       "    <tr>\n",
       "      <th>AL803</th>\n",
       "      <td>Software Design for Mobile Apps and Connected ...</td>\n",
       "      <td>8</td>\n",
       "      <td>NaN</td>\n",
       "      <td>NaN</td>\n",
       "      <td>350</td>\n",
       "      <td>NaN</td>\n",
       "    </tr>\n",
       "    <tr>\n",
       "      <th>AL805</th>\n",
       "      <td>Computer Engineering for Network Infrastructure</td>\n",
       "      <td>8</td>\n",
       "      <td>NaN</td>\n",
       "      <td>NaN</td>\n",
       "      <td>321</td>\n",
       "      <td>NaN</td>\n",
       "    </tr>\n",
       "    <tr>\n",
       "      <th>AL810</th>\n",
       "      <td>Quantity Surveying</td>\n",
       "      <td>8</td>\n",
       "      <td>NaN</td>\n",
       "      <td>NaN</td>\n",
       "      <td>328</td>\n",
       "      <td>NaN</td>\n",
       "    </tr>\n",
       "    <tr>\n",
       "      <th>...</th>\n",
       "      <td>...</td>\n",
       "      <td>...</td>\n",
       "      <td>...</td>\n",
       "      <td>...</td>\n",
       "      <td>...</td>\n",
       "      <td>...</td>\n",
       "    </tr>\n",
       "    <tr>\n",
       "      <th>SG403</th>\n",
       "      <td>Applied Archaeology</td>\n",
       "      <td>NaN</td>\n",
       "      <td>NaN</td>\n",
       "      <td>6/7</td>\n",
       "      <td>NaN</td>\n",
       "      <td>NaN</td>\n",
       "    </tr>\n",
       "    <tr>\n",
       "      <th>SG432</th>\n",
       "      <td>Environmental Protection</td>\n",
       "      <td>NaN</td>\n",
       "      <td>NaN</td>\n",
       "      <td>6/7</td>\n",
       "      <td>NaN</td>\n",
       "      <td>NaN</td>\n",
       "    </tr>\n",
       "    <tr>\n",
       "      <th>TL712</th>\n",
       "      <td>Computing with Digital Media</td>\n",
       "      <td>NaN</td>\n",
       "      <td>NaN</td>\n",
       "      <td>6/7</td>\n",
       "      <td>NaN</td>\n",
       "      <td>NaN</td>\n",
       "    </tr>\n",
       "    <tr>\n",
       "      <th>TL719</th>\n",
       "      <td>Culinary Arts</td>\n",
       "      <td>NaN</td>\n",
       "      <td>NaN</td>\n",
       "      <td>6/7</td>\n",
       "      <td>NaN</td>\n",
       "      <td>NaN</td>\n",
       "    </tr>\n",
       "    <tr>\n",
       "      <th>TL746</th>\n",
       "      <td>Engineering in Mechatronics Engineering</td>\n",
       "      <td>NaN</td>\n",
       "      <td>NaN</td>\n",
       "      <td>6/7</td>\n",
       "      <td>NaN</td>\n",
       "      <td>NaN</td>\n",
       "    </tr>\n",
       "  </tbody>\n",
       "</table>\n",
       "<p>1766 rows × 6 columns</p>\n",
       "</div>"
      ],
      "text/plain": [
       "                                                   title level level2020  \\\n",
       "code                                                                       \n",
       "AL801     Software Design for Virtual Reality and Gaming     8       NaN   \n",
       "AL802  Software Design in Artificial Intelligence for...     8       NaN   \n",
       "AL803  Software Design for Mobile Apps and Connected ...     8       NaN   \n",
       "AL805    Computer Engineering for Network Infrastructure     8       NaN   \n",
       "AL810                                 Quantity Surveying     8       NaN   \n",
       "...                                                  ...   ...       ...   \n",
       "SG403                                Applied Archaeology   NaN       NaN   \n",
       "SG432                           Environmental Protection   NaN       NaN   \n",
       "TL712                       Computing with Digital Media   NaN       NaN   \n",
       "TL719                                      Culinary Arts   NaN       NaN   \n",
       "TL746            Engineering in Mechatronics Engineering   NaN       NaN   \n",
       "\n",
       "      level2019 points_r1_2021 points_r2_2021  \n",
       "code                                           \n",
       "AL801       NaN            300            NaN  \n",
       "AL802       NaN            313            NaN  \n",
       "AL803       NaN            350            NaN  \n",
       "AL805       NaN            321            NaN  \n",
       "AL810       NaN            328            NaN  \n",
       "...         ...            ...            ...  \n",
       "SG403       6/7            NaN            NaN  \n",
       "SG432       6/7            NaN            NaN  \n",
       "TL712       6/7            NaN            NaN  \n",
       "TL719       6/7            NaN            NaN  \n",
       "TL746       6/7            NaN            NaN  \n",
       "\n",
       "[1766 rows x 6 columns]"
      ]
     },
     "execution_count": 99,
     "metadata": {},
     "output_type": "execute_result"
    }
   ],
   "source": [
    "allcourses"
   ]
  },
  {
   "cell_type": "markdown",
   "id": "f174fb16-dda7-4cf3-8790-5f4879138ce9",
   "metadata": {},
   "source": [
    "<br>"
   ]
  },
  {
   "cell_type": "markdown",
   "id": "15766a7a-9d21-4fc0-a493-4dc6b412a1f2",
   "metadata": {},
   "source": [
    "<br>"
   ]
  },
  {
   "cell_type": "code",
   "execution_count": 100,
   "id": "e661dd87-8051-4eb7-9819-c90ccaf03c4f",
   "metadata": {},
   "outputs": [
    {
     "data": {
      "text/html": [
       "<div>\n",
       "<style scoped>\n",
       "    .dataframe tbody tr th:only-of-type {\n",
       "        vertical-align: middle;\n",
       "    }\n",
       "\n",
       "    .dataframe tbody tr th {\n",
       "        vertical-align: top;\n",
       "    }\n",
       "\n",
       "    .dataframe thead th {\n",
       "        text-align: right;\n",
       "    }\n",
       "</style>\n",
       "<table border=\"1\" class=\"dataframe\">\n",
       "  <thead>\n",
       "    <tr style=\"text-align: right;\">\n",
       "      <th></th>\n",
       "      <th>code</th>\n",
       "      <th>level</th>\n",
       "      <th>points_r1_2020</th>\n",
       "      <th>points_r2_2020</th>\n",
       "    </tr>\n",
       "  </thead>\n",
       "  <tbody>\n",
       "    <tr>\n",
       "      <th>0</th>\n",
       "      <td>AC120</td>\n",
       "      <td>8</td>\n",
       "      <td>209</td>\n",
       "      <td>NaN</td>\n",
       "    </tr>\n",
       "    <tr>\n",
       "      <th>1</th>\n",
       "      <td>AC137</td>\n",
       "      <td>8</td>\n",
       "      <td>252</td>\n",
       "      <td>NaN</td>\n",
       "    </tr>\n",
       "    <tr>\n",
       "      <th>2</th>\n",
       "      <td>AD101</td>\n",
       "      <td>8</td>\n",
       "      <td>#+matric</td>\n",
       "      <td>NaN</td>\n",
       "    </tr>\n",
       "    <tr>\n",
       "      <th>3</th>\n",
       "      <td>AD102</td>\n",
       "      <td>8</td>\n",
       "      <td>#+matric</td>\n",
       "      <td>NaN</td>\n",
       "    </tr>\n",
       "    <tr>\n",
       "      <th>4</th>\n",
       "      <td>AD103</td>\n",
       "      <td>8</td>\n",
       "      <td>#+matric</td>\n",
       "      <td>NaN</td>\n",
       "    </tr>\n",
       "    <tr>\n",
       "      <th>...</th>\n",
       "      <td>...</td>\n",
       "      <td>...</td>\n",
       "      <td>...</td>\n",
       "      <td>...</td>\n",
       "    </tr>\n",
       "    <tr>\n",
       "      <th>1459</th>\n",
       "      <td>WD208</td>\n",
       "      <td>7</td>\n",
       "      <td>188</td>\n",
       "      <td>NaN</td>\n",
       "    </tr>\n",
       "    <tr>\n",
       "      <th>1460</th>\n",
       "      <td>WD210</td>\n",
       "      <td>8</td>\n",
       "      <td>279</td>\n",
       "      <td>NaN</td>\n",
       "    </tr>\n",
       "    <tr>\n",
       "      <th>1461</th>\n",
       "      <td>WD211</td>\n",
       "      <td>8</td>\n",
       "      <td>271</td>\n",
       "      <td>NaN</td>\n",
       "    </tr>\n",
       "    <tr>\n",
       "      <th>1462</th>\n",
       "      <td>WD212</td>\n",
       "      <td>8</td>\n",
       "      <td>270</td>\n",
       "      <td>NaN</td>\n",
       "    </tr>\n",
       "    <tr>\n",
       "      <th>1463</th>\n",
       "      <td>WD230</td>\n",
       "      <td>8</td>\n",
       "      <td>253</td>\n",
       "      <td>NaN</td>\n",
       "    </tr>\n",
       "  </tbody>\n",
       "</table>\n",
       "<p>1464 rows × 4 columns</p>\n",
       "</div>"
      ],
      "text/plain": [
       "       code level points_r1_2020 points_r2_2020\n",
       "0     AC120     8            209            NaN\n",
       "1     AC137     8            252            NaN\n",
       "2     AD101     8       #+matric            NaN\n",
       "3     AD102     8       #+matric            NaN\n",
       "4     AD103     8       #+matric            NaN\n",
       "...     ...   ...            ...            ...\n",
       "1459  WD208     7            188            NaN\n",
       "1460  WD210     8            279            NaN\n",
       "1461  WD211     8            271            NaN\n",
       "1462  WD212     8            270            NaN\n",
       "1463  WD230     8            253            NaN\n",
       "\n",
       "[1464 rows x 4 columns]"
      ]
     },
     "execution_count": 100,
     "metadata": {},
     "output_type": "execute_result"
    }
   ],
   "source": [
    "df2020_r1 = df2020[['COURSE CODE2', 'LEVEL', 'R1 POINTS', 'R2 POINTS']]\n",
    "df2020_r1.columns = ['code', 'level' ,'points_r1_2020', 'points_r2_2020']\n",
    "df2020_r1"
   ]
  },
  {
   "cell_type": "markdown",
   "id": "0be2b16b-5d6c-420a-8db0-d9733d631a78",
   "metadata": {},
   "source": [
    "<br>"
   ]
  },
  {
   "cell_type": "markdown",
   "id": "f198914d-4da7-4f96-8b8e-31781f19c59f",
   "metadata": {},
   "source": [
    "<br>"
   ]
  },
  {
   "cell_type": "code",
   "execution_count": 101,
   "id": "fb6f0858-73e3-46b8-b6a5-5f26a590cc4a",
   "metadata": {},
   "outputs": [
    {
     "data": {
      "text/html": [
       "<div>\n",
       "<style scoped>\n",
       "    .dataframe tbody tr th:only-of-type {\n",
       "        vertical-align: middle;\n",
       "    }\n",
       "\n",
       "    .dataframe tbody tr th {\n",
       "        vertical-align: top;\n",
       "    }\n",
       "\n",
       "    .dataframe thead th {\n",
       "        text-align: right;\n",
       "    }\n",
       "</style>\n",
       "<table border=\"1\" class=\"dataframe\">\n",
       "  <thead>\n",
       "    <tr style=\"text-align: right;\">\n",
       "      <th></th>\n",
       "      <th>level</th>\n",
       "      <th>points_r1_2020</th>\n",
       "      <th>points_r2_2020</th>\n",
       "    </tr>\n",
       "    <tr>\n",
       "      <th>code</th>\n",
       "      <th></th>\n",
       "      <th></th>\n",
       "      <th></th>\n",
       "    </tr>\n",
       "  </thead>\n",
       "  <tbody>\n",
       "    <tr>\n",
       "      <th>AC120</th>\n",
       "      <td>8</td>\n",
       "      <td>209</td>\n",
       "      <td>NaN</td>\n",
       "    </tr>\n",
       "    <tr>\n",
       "      <th>AC137</th>\n",
       "      <td>8</td>\n",
       "      <td>252</td>\n",
       "      <td>NaN</td>\n",
       "    </tr>\n",
       "    <tr>\n",
       "      <th>AD101</th>\n",
       "      <td>8</td>\n",
       "      <td>#+matric</td>\n",
       "      <td>NaN</td>\n",
       "    </tr>\n",
       "    <tr>\n",
       "      <th>AD102</th>\n",
       "      <td>8</td>\n",
       "      <td>#+matric</td>\n",
       "      <td>NaN</td>\n",
       "    </tr>\n",
       "    <tr>\n",
       "      <th>AD103</th>\n",
       "      <td>8</td>\n",
       "      <td>#+matric</td>\n",
       "      <td>NaN</td>\n",
       "    </tr>\n",
       "    <tr>\n",
       "      <th>...</th>\n",
       "      <td>...</td>\n",
       "      <td>...</td>\n",
       "      <td>...</td>\n",
       "    </tr>\n",
       "    <tr>\n",
       "      <th>WD208</th>\n",
       "      <td>7</td>\n",
       "      <td>188</td>\n",
       "      <td>NaN</td>\n",
       "    </tr>\n",
       "    <tr>\n",
       "      <th>WD210</th>\n",
       "      <td>8</td>\n",
       "      <td>279</td>\n",
       "      <td>NaN</td>\n",
       "    </tr>\n",
       "    <tr>\n",
       "      <th>WD211</th>\n",
       "      <td>8</td>\n",
       "      <td>271</td>\n",
       "      <td>NaN</td>\n",
       "    </tr>\n",
       "    <tr>\n",
       "      <th>WD212</th>\n",
       "      <td>8</td>\n",
       "      <td>270</td>\n",
       "      <td>NaN</td>\n",
       "    </tr>\n",
       "    <tr>\n",
       "      <th>WD230</th>\n",
       "      <td>8</td>\n",
       "      <td>253</td>\n",
       "      <td>NaN</td>\n",
       "    </tr>\n",
       "  </tbody>\n",
       "</table>\n",
       "<p>1464 rows × 3 columns</p>\n",
       "</div>"
      ],
      "text/plain": [
       "      level points_r1_2020 points_r2_2020\n",
       "code                                     \n",
       "AC120     8            209            NaN\n",
       "AC137     8            252            NaN\n",
       "AD101     8       #+matric            NaN\n",
       "AD102     8       #+matric            NaN\n",
       "AD103     8       #+matric            NaN\n",
       "...     ...            ...            ...\n",
       "WD208     7            188            NaN\n",
       "WD210     8            279            NaN\n",
       "WD211     8            271            NaN\n",
       "WD212     8            270            NaN\n",
       "WD230     8            253            NaN\n",
       "\n",
       "[1464 rows x 3 columns]"
      ]
     },
     "execution_count": 101,
     "metadata": {},
     "output_type": "execute_result"
    }
   ],
   "source": [
    "# Set the index to the code column.\n",
    "df2020_r1.set_index('code', inplace=True)\n",
    "df2020_r1"
   ]
  },
  {
   "cell_type": "code",
   "execution_count": 102,
   "id": "13f91afd-554d-4b4a-8a85-d4acb679aa3a",
   "metadata": {},
   "outputs": [
    {
     "data": {
      "text/html": [
       "<div>\n",
       "<style scoped>\n",
       "    .dataframe tbody tr th:only-of-type {\n",
       "        vertical-align: middle;\n",
       "    }\n",
       "\n",
       "    .dataframe tbody tr th {\n",
       "        vertical-align: top;\n",
       "    }\n",
       "\n",
       "    .dataframe thead th {\n",
       "        text-align: right;\n",
       "    }\n",
       "</style>\n",
       "<table border=\"1\" class=\"dataframe\">\n",
       "  <thead>\n",
       "    <tr style=\"text-align: right;\">\n",
       "      <th></th>\n",
       "      <th>title</th>\n",
       "      <th>level</th>\n",
       "      <th>level2020</th>\n",
       "      <th>level2019</th>\n",
       "      <th>points_r1_2021</th>\n",
       "      <th>points_r2_2021</th>\n",
       "    </tr>\n",
       "    <tr>\n",
       "      <th>code</th>\n",
       "      <th></th>\n",
       "      <th></th>\n",
       "      <th></th>\n",
       "      <th></th>\n",
       "      <th></th>\n",
       "      <th></th>\n",
       "    </tr>\n",
       "  </thead>\n",
       "  <tbody>\n",
       "    <tr>\n",
       "      <th>AL801</th>\n",
       "      <td>Software Design for Virtual Reality and Gaming</td>\n",
       "      <td>8</td>\n",
       "      <td>NaN</td>\n",
       "      <td>NaN</td>\n",
       "      <td>300</td>\n",
       "      <td>NaN</td>\n",
       "    </tr>\n",
       "    <tr>\n",
       "      <th>AL802</th>\n",
       "      <td>Software Design in Artificial Intelligence for...</td>\n",
       "      <td>8</td>\n",
       "      <td>NaN</td>\n",
       "      <td>NaN</td>\n",
       "      <td>313</td>\n",
       "      <td>NaN</td>\n",
       "    </tr>\n",
       "    <tr>\n",
       "      <th>AL803</th>\n",
       "      <td>Software Design for Mobile Apps and Connected ...</td>\n",
       "      <td>8</td>\n",
       "      <td>NaN</td>\n",
       "      <td>NaN</td>\n",
       "      <td>350</td>\n",
       "      <td>NaN</td>\n",
       "    </tr>\n",
       "    <tr>\n",
       "      <th>AL805</th>\n",
       "      <td>Computer Engineering for Network Infrastructure</td>\n",
       "      <td>8</td>\n",
       "      <td>NaN</td>\n",
       "      <td>NaN</td>\n",
       "      <td>321</td>\n",
       "      <td>NaN</td>\n",
       "    </tr>\n",
       "    <tr>\n",
       "      <th>AL810</th>\n",
       "      <td>Quantity Surveying</td>\n",
       "      <td>8</td>\n",
       "      <td>NaN</td>\n",
       "      <td>NaN</td>\n",
       "      <td>328</td>\n",
       "      <td>NaN</td>\n",
       "    </tr>\n",
       "    <tr>\n",
       "      <th>...</th>\n",
       "      <td>...</td>\n",
       "      <td>...</td>\n",
       "      <td>...</td>\n",
       "      <td>...</td>\n",
       "      <td>...</td>\n",
       "      <td>...</td>\n",
       "    </tr>\n",
       "    <tr>\n",
       "      <th>SG403</th>\n",
       "      <td>Applied Archaeology</td>\n",
       "      <td>NaN</td>\n",
       "      <td>NaN</td>\n",
       "      <td>6/7</td>\n",
       "      <td>NaN</td>\n",
       "      <td>NaN</td>\n",
       "    </tr>\n",
       "    <tr>\n",
       "      <th>SG432</th>\n",
       "      <td>Environmental Protection</td>\n",
       "      <td>NaN</td>\n",
       "      <td>NaN</td>\n",
       "      <td>6/7</td>\n",
       "      <td>NaN</td>\n",
       "      <td>NaN</td>\n",
       "    </tr>\n",
       "    <tr>\n",
       "      <th>TL712</th>\n",
       "      <td>Computing with Digital Media</td>\n",
       "      <td>NaN</td>\n",
       "      <td>NaN</td>\n",
       "      <td>6/7</td>\n",
       "      <td>NaN</td>\n",
       "      <td>NaN</td>\n",
       "    </tr>\n",
       "    <tr>\n",
       "      <th>TL719</th>\n",
       "      <td>Culinary Arts</td>\n",
       "      <td>NaN</td>\n",
       "      <td>NaN</td>\n",
       "      <td>6/7</td>\n",
       "      <td>NaN</td>\n",
       "      <td>NaN</td>\n",
       "    </tr>\n",
       "    <tr>\n",
       "      <th>TL746</th>\n",
       "      <td>Engineering in Mechatronics Engineering</td>\n",
       "      <td>NaN</td>\n",
       "      <td>NaN</td>\n",
       "      <td>6/7</td>\n",
       "      <td>NaN</td>\n",
       "      <td>NaN</td>\n",
       "    </tr>\n",
       "  </tbody>\n",
       "</table>\n",
       "<p>1766 rows × 6 columns</p>\n",
       "</div>"
      ],
      "text/plain": [
       "                                                   title level level2020  \\\n",
       "code                                                                       \n",
       "AL801     Software Design for Virtual Reality and Gaming     8       NaN   \n",
       "AL802  Software Design in Artificial Intelligence for...     8       NaN   \n",
       "AL803  Software Design for Mobile Apps and Connected ...     8       NaN   \n",
       "AL805    Computer Engineering for Network Infrastructure     8       NaN   \n",
       "AL810                                 Quantity Surveying     8       NaN   \n",
       "...                                                  ...   ...       ...   \n",
       "SG403                                Applied Archaeology   NaN       NaN   \n",
       "SG432                           Environmental Protection   NaN       NaN   \n",
       "TL712                       Computing with Digital Media   NaN       NaN   \n",
       "TL719                                      Culinary Arts   NaN       NaN   \n",
       "TL746            Engineering in Mechatronics Engineering   NaN       NaN   \n",
       "\n",
       "      level2019 points_r1_2021 points_r2_2021  \n",
       "code                                           \n",
       "AL801       NaN            300            NaN  \n",
       "AL802       NaN            313            NaN  \n",
       "AL803       NaN            350            NaN  \n",
       "AL805       NaN            321            NaN  \n",
       "AL810       NaN            328            NaN  \n",
       "...         ...            ...            ...  \n",
       "SG403       6/7            NaN            NaN  \n",
       "SG432       6/7            NaN            NaN  \n",
       "TL712       6/7            NaN            NaN  \n",
       "TL719       6/7            NaN            NaN  \n",
       "TL746       6/7            NaN            NaN  \n",
       "\n",
       "[1766 rows x 6 columns]"
      ]
     },
     "execution_count": 102,
     "metadata": {},
     "output_type": "execute_result"
    }
   ],
   "source": [
    "allcourses"
   ]
  },
  {
   "cell_type": "markdown",
   "id": "7f73426b-49b8-4c76-aa51-127489a685bc",
   "metadata": {},
   "source": [
    "<br>"
   ]
  },
  {
   "cell_type": "markdown",
   "id": "981b7df9-8335-480c-a866-00cc66f52744",
   "metadata": {},
   "source": [
    "<br>"
   ]
  },
  {
   "cell_type": "code",
   "execution_count": 103,
   "id": "b51d8671-1f7f-4559-865c-f9b25e941237",
   "metadata": {},
   "outputs": [
    {
     "data": {
      "text/html": [
       "<div>\n",
       "<style scoped>\n",
       "    .dataframe tbody tr th:only-of-type {\n",
       "        vertical-align: middle;\n",
       "    }\n",
       "\n",
       "    .dataframe tbody tr th {\n",
       "        vertical-align: top;\n",
       "    }\n",
       "\n",
       "    .dataframe thead th {\n",
       "        text-align: right;\n",
       "    }\n",
       "</style>\n",
       "<table border=\"1\" class=\"dataframe\">\n",
       "  <thead>\n",
       "    <tr style=\"text-align: right;\">\n",
       "      <th></th>\n",
       "      <th>title</th>\n",
       "      <th>level</th>\n",
       "      <th>level2020</th>\n",
       "      <th>level2019</th>\n",
       "      <th>points_r1_2021</th>\n",
       "      <th>points_r2_2021</th>\n",
       "      <th>levellevel_2020</th>\n",
       "      <th>points_r1_2020</th>\n",
       "      <th>points_r2_2020</th>\n",
       "    </tr>\n",
       "    <tr>\n",
       "      <th>code</th>\n",
       "      <th></th>\n",
       "      <th></th>\n",
       "      <th></th>\n",
       "      <th></th>\n",
       "      <th></th>\n",
       "      <th></th>\n",
       "      <th></th>\n",
       "      <th></th>\n",
       "      <th></th>\n",
       "    </tr>\n",
       "  </thead>\n",
       "  <tbody>\n",
       "    <tr>\n",
       "      <th>AL801</th>\n",
       "      <td>Software Design for Virtual Reality and Gaming</td>\n",
       "      <td>8</td>\n",
       "      <td>NaN</td>\n",
       "      <td>NaN</td>\n",
       "      <td>300</td>\n",
       "      <td>NaN</td>\n",
       "      <td>8</td>\n",
       "      <td>303</td>\n",
       "      <td>NaN</td>\n",
       "    </tr>\n",
       "    <tr>\n",
       "      <th>AL802</th>\n",
       "      <td>Software Design in Artificial Intelligence for...</td>\n",
       "      <td>8</td>\n",
       "      <td>NaN</td>\n",
       "      <td>NaN</td>\n",
       "      <td>313</td>\n",
       "      <td>NaN</td>\n",
       "      <td>8</td>\n",
       "      <td>332</td>\n",
       "      <td>NaN</td>\n",
       "    </tr>\n",
       "    <tr>\n",
       "      <th>AL803</th>\n",
       "      <td>Software Design for Mobile Apps and Connected ...</td>\n",
       "      <td>8</td>\n",
       "      <td>NaN</td>\n",
       "      <td>NaN</td>\n",
       "      <td>350</td>\n",
       "      <td>NaN</td>\n",
       "      <td>8</td>\n",
       "      <td>337</td>\n",
       "      <td>NaN</td>\n",
       "    </tr>\n",
       "    <tr>\n",
       "      <th>AL805</th>\n",
       "      <td>Computer Engineering for Network Infrastructure</td>\n",
       "      <td>8</td>\n",
       "      <td>NaN</td>\n",
       "      <td>NaN</td>\n",
       "      <td>321</td>\n",
       "      <td>NaN</td>\n",
       "      <td>8</td>\n",
       "      <td>333</td>\n",
       "      <td>NaN</td>\n",
       "    </tr>\n",
       "    <tr>\n",
       "      <th>AL810</th>\n",
       "      <td>Quantity Surveying</td>\n",
       "      <td>8</td>\n",
       "      <td>NaN</td>\n",
       "      <td>NaN</td>\n",
       "      <td>328</td>\n",
       "      <td>NaN</td>\n",
       "      <td>8</td>\n",
       "      <td>319</td>\n",
       "      <td>NaN</td>\n",
       "    </tr>\n",
       "    <tr>\n",
       "      <th>...</th>\n",
       "      <td>...</td>\n",
       "      <td>...</td>\n",
       "      <td>...</td>\n",
       "      <td>...</td>\n",
       "      <td>...</td>\n",
       "      <td>...</td>\n",
       "      <td>...</td>\n",
       "      <td>...</td>\n",
       "      <td>...</td>\n",
       "    </tr>\n",
       "    <tr>\n",
       "      <th>SG403</th>\n",
       "      <td>Applied Archaeology</td>\n",
       "      <td>NaN</td>\n",
       "      <td>NaN</td>\n",
       "      <td>6/7</td>\n",
       "      <td>NaN</td>\n",
       "      <td>NaN</td>\n",
       "      <td>NaN</td>\n",
       "      <td>NaN</td>\n",
       "      <td>NaN</td>\n",
       "    </tr>\n",
       "    <tr>\n",
       "      <th>SG432</th>\n",
       "      <td>Environmental Protection</td>\n",
       "      <td>NaN</td>\n",
       "      <td>NaN</td>\n",
       "      <td>6/7</td>\n",
       "      <td>NaN</td>\n",
       "      <td>NaN</td>\n",
       "      <td>NaN</td>\n",
       "      <td>NaN</td>\n",
       "      <td>NaN</td>\n",
       "    </tr>\n",
       "    <tr>\n",
       "      <th>TL712</th>\n",
       "      <td>Computing with Digital Media</td>\n",
       "      <td>NaN</td>\n",
       "      <td>NaN</td>\n",
       "      <td>6/7</td>\n",
       "      <td>NaN</td>\n",
       "      <td>NaN</td>\n",
       "      <td>NaN</td>\n",
       "      <td>NaN</td>\n",
       "      <td>NaN</td>\n",
       "    </tr>\n",
       "    <tr>\n",
       "      <th>TL719</th>\n",
       "      <td>Culinary Arts</td>\n",
       "      <td>NaN</td>\n",
       "      <td>NaN</td>\n",
       "      <td>6/7</td>\n",
       "      <td>NaN</td>\n",
       "      <td>NaN</td>\n",
       "      <td>NaN</td>\n",
       "      <td>NaN</td>\n",
       "      <td>NaN</td>\n",
       "    </tr>\n",
       "    <tr>\n",
       "      <th>TL746</th>\n",
       "      <td>Engineering in Mechatronics Engineering</td>\n",
       "      <td>NaN</td>\n",
       "      <td>NaN</td>\n",
       "      <td>6/7</td>\n",
       "      <td>NaN</td>\n",
       "      <td>NaN</td>\n",
       "      <td>NaN</td>\n",
       "      <td>NaN</td>\n",
       "      <td>NaN</td>\n",
       "    </tr>\n",
       "  </tbody>\n",
       "</table>\n",
       "<p>1766 rows × 9 columns</p>\n",
       "</div>"
      ],
      "text/plain": [
       "                                                   title level level2020  \\\n",
       "code                                                                       \n",
       "AL801     Software Design for Virtual Reality and Gaming     8       NaN   \n",
       "AL802  Software Design in Artificial Intelligence for...     8       NaN   \n",
       "AL803  Software Design for Mobile Apps and Connected ...     8       NaN   \n",
       "AL805    Computer Engineering for Network Infrastructure     8       NaN   \n",
       "AL810                                 Quantity Surveying     8       NaN   \n",
       "...                                                  ...   ...       ...   \n",
       "SG403                                Applied Archaeology   NaN       NaN   \n",
       "SG432                           Environmental Protection   NaN       NaN   \n",
       "TL712                       Computing with Digital Media   NaN       NaN   \n",
       "TL719                                      Culinary Arts   NaN       NaN   \n",
       "TL746            Engineering in Mechatronics Engineering   NaN       NaN   \n",
       "\n",
       "      level2019 points_r1_2021 points_r2_2021 levellevel_2020 points_r1_2020  \\\n",
       "code                                                                           \n",
       "AL801       NaN            300            NaN               8            303   \n",
       "AL802       NaN            313            NaN               8            332   \n",
       "AL803       NaN            350            NaN               8            337   \n",
       "AL805       NaN            321            NaN               8            333   \n",
       "AL810       NaN            328            NaN               8            319   \n",
       "...         ...            ...            ...             ...            ...   \n",
       "SG403       6/7            NaN            NaN             NaN            NaN   \n",
       "SG432       6/7            NaN            NaN             NaN            NaN   \n",
       "TL712       6/7            NaN            NaN             NaN            NaN   \n",
       "TL719       6/7            NaN            NaN             NaN            NaN   \n",
       "TL746       6/7            NaN            NaN             NaN            NaN   \n",
       "\n",
       "      points_r2_2020  \n",
       "code                  \n",
       "AL801            NaN  \n",
       "AL802            NaN  \n",
       "AL803            NaN  \n",
       "AL805            NaN  \n",
       "AL810            NaN  \n",
       "...              ...  \n",
       "SG403            NaN  \n",
       "SG432            NaN  \n",
       "TL712            NaN  \n",
       "TL719            NaN  \n",
       "TL746            NaN  \n",
       "\n",
       "[1766 rows x 9 columns]"
      ]
     },
     "execution_count": 103,
     "metadata": {},
     "output_type": "execute_result"
    }
   ],
   "source": [
    "# Join 2020 points to allcourses.\n",
    "allcourses = allcourses.join(df2020_r1, rsuffix='level_2020')\n",
    "allcourses"
   ]
  },
  {
   "cell_type": "markdown",
   "id": "96ccdc94-de0b-4464-888a-6b9edf22e3aa",
   "metadata": {},
   "source": [
    "<br>"
   ]
  },
  {
   "cell_type": "markdown",
   "id": "9c06b361-5873-4bd8-b2f1-dea09fa6d2af",
   "metadata": {},
   "source": [
    "<br>"
   ]
  },
  {
   "cell_type": "code",
   "execution_count": 104,
   "id": "9ec6b82c-d541-4eaa-93d9-365c7d380821",
   "metadata": {},
   "outputs": [
    {
     "data": {
      "text/html": [
       "<div>\n",
       "<style scoped>\n",
       "    .dataframe tbody tr th:only-of-type {\n",
       "        vertical-align: middle;\n",
       "    }\n",
       "\n",
       "    .dataframe tbody tr th {\n",
       "        vertical-align: top;\n",
       "    }\n",
       "\n",
       "    .dataframe thead th {\n",
       "        text-align: right;\n",
       "    }\n",
       "</style>\n",
       "<table border=\"1\" class=\"dataframe\">\n",
       "  <thead>\n",
       "    <tr style=\"text-align: right;\">\n",
       "      <th></th>\n",
       "      <th>code</th>\n",
       "      <th>points_r1_2019</th>\n",
       "      <th>level_2019</th>\n",
       "    </tr>\n",
       "  </thead>\n",
       "  <tbody>\n",
       "    <tr>\n",
       "      <th>0</th>\n",
       "      <td>Course Code INSTITUTION and COURSE</td>\n",
       "      <td>EOS</td>\n",
       "      <td>8</td>\n",
       "    </tr>\n",
       "    <tr>\n",
       "      <th>1</th>\n",
       "      <td>AL801</td>\n",
       "      <td>304</td>\n",
       "      <td>8</td>\n",
       "    </tr>\n",
       "    <tr>\n",
       "      <th>2</th>\n",
       "      <td>AL802</td>\n",
       "      <td>301</td>\n",
       "      <td>8</td>\n",
       "    </tr>\n",
       "    <tr>\n",
       "      <th>3</th>\n",
       "      <td>AL803</td>\n",
       "      <td>309</td>\n",
       "      <td>8</td>\n",
       "    </tr>\n",
       "    <tr>\n",
       "      <th>4</th>\n",
       "      <td>AL805</td>\n",
       "      <td>329</td>\n",
       "      <td>8</td>\n",
       "    </tr>\n",
       "    <tr>\n",
       "      <th>...</th>\n",
       "      <td>...</td>\n",
       "      <td>...</td>\n",
       "      <td>...</td>\n",
       "    </tr>\n",
       "    <tr>\n",
       "      <th>1304</th>\n",
       "      <td>WD173</td>\n",
       "      <td>182.0</td>\n",
       "      <td>6/7</td>\n",
       "    </tr>\n",
       "    <tr>\n",
       "      <th>1305</th>\n",
       "      <td>WD174</td>\n",
       "      <td>134.0</td>\n",
       "      <td>6/7</td>\n",
       "    </tr>\n",
       "    <tr>\n",
       "      <th>1306</th>\n",
       "      <td>WD175</td>\n",
       "      <td>207.0</td>\n",
       "      <td>6/7</td>\n",
       "    </tr>\n",
       "    <tr>\n",
       "      <th>1307</th>\n",
       "      <td>WD177</td>\n",
       "      <td>NaN</td>\n",
       "      <td>6/7</td>\n",
       "    </tr>\n",
       "    <tr>\n",
       "      <th>1308</th>\n",
       "      <td>WD182</td>\n",
       "      <td>188.0</td>\n",
       "      <td>6/7</td>\n",
       "    </tr>\n",
       "  </tbody>\n",
       "</table>\n",
       "<p>1309 rows × 3 columns</p>\n",
       "</div>"
      ],
      "text/plain": [
       "                                    code points_r1_2019 level_2019\n",
       "0     Course Code INSTITUTION and COURSE            EOS          8\n",
       "1                                  AL801            304          8\n",
       "2                                  AL802            301          8\n",
       "3                                  AL803            309          8\n",
       "4                                  AL805            329          8\n",
       "...                                  ...            ...        ...\n",
       "1304                               WD173          182.0        6/7\n",
       "1305                               WD174          134.0        6/7\n",
       "1306                               WD175          207.0        6/7\n",
       "1307                               WD177            NaN        6/7\n",
       "1308                               WD182          188.0        6/7\n",
       "\n",
       "[1309 rows x 3 columns]"
      ]
     },
     "execution_count": 104,
     "metadata": {},
     "output_type": "execute_result"
    }
   ],
   "source": [
    "df2019_r1 = total2019[['code', 'points', 'level']]\n",
    "df2019_r1.columns = ['code', 'points_r1_2019', 'level_2019']\n",
    "df2019_r1"
   ]
  },
  {
   "cell_type": "markdown",
   "id": "07d85baa-24fe-47e4-8e02-77f928920b3a",
   "metadata": {},
   "source": [
    "<br>"
   ]
  },
  {
   "cell_type": "markdown",
   "id": "1a9449b3-a52f-4299-903d-86da43014c5b",
   "metadata": {},
   "source": [
    "<br>"
   ]
  },
  {
   "cell_type": "code",
   "execution_count": 105,
   "id": "67742a91-5044-47ff-a96a-1aa51c3c0604",
   "metadata": {
    "tags": []
   },
   "outputs": [
    {
     "data": {
      "text/html": [
       "<div>\n",
       "<style scoped>\n",
       "    .dataframe tbody tr th:only-of-type {\n",
       "        vertical-align: middle;\n",
       "    }\n",
       "\n",
       "    .dataframe tbody tr th {\n",
       "        vertical-align: top;\n",
       "    }\n",
       "\n",
       "    .dataframe thead th {\n",
       "        text-align: right;\n",
       "    }\n",
       "</style>\n",
       "<table border=\"1\" class=\"dataframe\">\n",
       "  <thead>\n",
       "    <tr style=\"text-align: right;\">\n",
       "      <th></th>\n",
       "      <th>points_r1_2019</th>\n",
       "      <th>level_2019</th>\n",
       "    </tr>\n",
       "    <tr>\n",
       "      <th>code</th>\n",
       "      <th></th>\n",
       "      <th></th>\n",
       "    </tr>\n",
       "  </thead>\n",
       "  <tbody>\n",
       "    <tr>\n",
       "      <th>Course Code INSTITUTION and COURSE</th>\n",
       "      <td>EOS</td>\n",
       "      <td>8</td>\n",
       "    </tr>\n",
       "    <tr>\n",
       "      <th>AL801</th>\n",
       "      <td>304</td>\n",
       "      <td>8</td>\n",
       "    </tr>\n",
       "    <tr>\n",
       "      <th>AL802</th>\n",
       "      <td>301</td>\n",
       "      <td>8</td>\n",
       "    </tr>\n",
       "    <tr>\n",
       "      <th>AL803</th>\n",
       "      <td>309</td>\n",
       "      <td>8</td>\n",
       "    </tr>\n",
       "    <tr>\n",
       "      <th>AL805</th>\n",
       "      <td>329</td>\n",
       "      <td>8</td>\n",
       "    </tr>\n",
       "    <tr>\n",
       "      <th>...</th>\n",
       "      <td>...</td>\n",
       "      <td>...</td>\n",
       "    </tr>\n",
       "    <tr>\n",
       "      <th>WD173</th>\n",
       "      <td>182.0</td>\n",
       "      <td>6/7</td>\n",
       "    </tr>\n",
       "    <tr>\n",
       "      <th>WD174</th>\n",
       "      <td>134.0</td>\n",
       "      <td>6/7</td>\n",
       "    </tr>\n",
       "    <tr>\n",
       "      <th>WD175</th>\n",
       "      <td>207.0</td>\n",
       "      <td>6/7</td>\n",
       "    </tr>\n",
       "    <tr>\n",
       "      <th>WD177</th>\n",
       "      <td>NaN</td>\n",
       "      <td>6/7</td>\n",
       "    </tr>\n",
       "    <tr>\n",
       "      <th>WD182</th>\n",
       "      <td>188.0</td>\n",
       "      <td>6/7</td>\n",
       "    </tr>\n",
       "  </tbody>\n",
       "</table>\n",
       "<p>1309 rows × 2 columns</p>\n",
       "</div>"
      ],
      "text/plain": [
       "                                   points_r1_2019 level_2019\n",
       "code                                                        \n",
       "Course Code INSTITUTION and COURSE            EOS          8\n",
       "AL801                                         304          8\n",
       "AL802                                         301          8\n",
       "AL803                                         309          8\n",
       "AL805                                         329          8\n",
       "...                                           ...        ...\n",
       "WD173                                       182.0        6/7\n",
       "WD174                                       134.0        6/7\n",
       "WD175                                       207.0        6/7\n",
       "WD177                                         NaN        6/7\n",
       "WD182                                       188.0        6/7\n",
       "\n",
       "[1309 rows x 2 columns]"
      ]
     },
     "execution_count": 105,
     "metadata": {},
     "output_type": "execute_result"
    }
   ],
   "source": [
    "# Set the index to the code column.\n",
    "df2019_r1.set_index('code', inplace=True)\n",
    "df2019_r1"
   ]
  },
  {
   "cell_type": "markdown",
   "id": "d83a7127-0fd1-4341-8e88-dd1fa61a95cd",
   "metadata": {},
   "source": [
    "<br>"
   ]
  },
  {
   "cell_type": "markdown",
   "id": "2fd61247-3fff-44f0-9345-f52163bd4813",
   "metadata": {},
   "source": [
    "<br>"
   ]
  },
  {
   "cell_type": "code",
   "execution_count": 106,
   "id": "3f72592b-a024-4311-bba1-48205a03685a",
   "metadata": {},
   "outputs": [
    {
     "data": {
      "text/html": [
       "<div>\n",
       "<style scoped>\n",
       "    .dataframe tbody tr th:only-of-type {\n",
       "        vertical-align: middle;\n",
       "    }\n",
       "\n",
       "    .dataframe tbody tr th {\n",
       "        vertical-align: top;\n",
       "    }\n",
       "\n",
       "    .dataframe thead th {\n",
       "        text-align: right;\n",
       "    }\n",
       "</style>\n",
       "<table border=\"1\" class=\"dataframe\">\n",
       "  <thead>\n",
       "    <tr style=\"text-align: right;\">\n",
       "      <th></th>\n",
       "      <th>title</th>\n",
       "      <th>level</th>\n",
       "      <th>level2020</th>\n",
       "      <th>level2019</th>\n",
       "      <th>points_r1_2021</th>\n",
       "      <th>points_r2_2021</th>\n",
       "      <th>levellevel_2020</th>\n",
       "      <th>points_r1_2020</th>\n",
       "      <th>points_r2_2020</th>\n",
       "      <th>points_r1_2019</th>\n",
       "      <th>level_2019</th>\n",
       "    </tr>\n",
       "    <tr>\n",
       "      <th>code</th>\n",
       "      <th></th>\n",
       "      <th></th>\n",
       "      <th></th>\n",
       "      <th></th>\n",
       "      <th></th>\n",
       "      <th></th>\n",
       "      <th></th>\n",
       "      <th></th>\n",
       "      <th></th>\n",
       "      <th></th>\n",
       "      <th></th>\n",
       "    </tr>\n",
       "  </thead>\n",
       "  <tbody>\n",
       "    <tr>\n",
       "      <th>AL801</th>\n",
       "      <td>Software Design for Virtual Reality and Gaming</td>\n",
       "      <td>8</td>\n",
       "      <td>NaN</td>\n",
       "      <td>NaN</td>\n",
       "      <td>300</td>\n",
       "      <td>NaN</td>\n",
       "      <td>8</td>\n",
       "      <td>303</td>\n",
       "      <td>NaN</td>\n",
       "      <td>304</td>\n",
       "      <td>8</td>\n",
       "    </tr>\n",
       "    <tr>\n",
       "      <th>AL802</th>\n",
       "      <td>Software Design in Artificial Intelligence for...</td>\n",
       "      <td>8</td>\n",
       "      <td>NaN</td>\n",
       "      <td>NaN</td>\n",
       "      <td>313</td>\n",
       "      <td>NaN</td>\n",
       "      <td>8</td>\n",
       "      <td>332</td>\n",
       "      <td>NaN</td>\n",
       "      <td>301</td>\n",
       "      <td>8</td>\n",
       "    </tr>\n",
       "    <tr>\n",
       "      <th>AL803</th>\n",
       "      <td>Software Design for Mobile Apps and Connected ...</td>\n",
       "      <td>8</td>\n",
       "      <td>NaN</td>\n",
       "      <td>NaN</td>\n",
       "      <td>350</td>\n",
       "      <td>NaN</td>\n",
       "      <td>8</td>\n",
       "      <td>337</td>\n",
       "      <td>NaN</td>\n",
       "      <td>309</td>\n",
       "      <td>8</td>\n",
       "    </tr>\n",
       "    <tr>\n",
       "      <th>AL805</th>\n",
       "      <td>Computer Engineering for Network Infrastructure</td>\n",
       "      <td>8</td>\n",
       "      <td>NaN</td>\n",
       "      <td>NaN</td>\n",
       "      <td>321</td>\n",
       "      <td>NaN</td>\n",
       "      <td>8</td>\n",
       "      <td>333</td>\n",
       "      <td>NaN</td>\n",
       "      <td>329</td>\n",
       "      <td>8</td>\n",
       "    </tr>\n",
       "    <tr>\n",
       "      <th>AL810</th>\n",
       "      <td>Quantity Surveying</td>\n",
       "      <td>8</td>\n",
       "      <td>NaN</td>\n",
       "      <td>NaN</td>\n",
       "      <td>328</td>\n",
       "      <td>NaN</td>\n",
       "      <td>8</td>\n",
       "      <td>319</td>\n",
       "      <td>NaN</td>\n",
       "      <td>307</td>\n",
       "      <td>8</td>\n",
       "    </tr>\n",
       "    <tr>\n",
       "      <th>...</th>\n",
       "      <td>...</td>\n",
       "      <td>...</td>\n",
       "      <td>...</td>\n",
       "      <td>...</td>\n",
       "      <td>...</td>\n",
       "      <td>...</td>\n",
       "      <td>...</td>\n",
       "      <td>...</td>\n",
       "      <td>...</td>\n",
       "      <td>...</td>\n",
       "      <td>...</td>\n",
       "    </tr>\n",
       "    <tr>\n",
       "      <th>SG403</th>\n",
       "      <td>Applied Archaeology</td>\n",
       "      <td>NaN</td>\n",
       "      <td>NaN</td>\n",
       "      <td>6/7</td>\n",
       "      <td>NaN</td>\n",
       "      <td>NaN</td>\n",
       "      <td>NaN</td>\n",
       "      <td>NaN</td>\n",
       "      <td>NaN</td>\n",
       "      <td>297</td>\n",
       "      <td>6/7</td>\n",
       "    </tr>\n",
       "    <tr>\n",
       "      <th>SG432</th>\n",
       "      <td>Environmental Protection</td>\n",
       "      <td>NaN</td>\n",
       "      <td>NaN</td>\n",
       "      <td>6/7</td>\n",
       "      <td>NaN</td>\n",
       "      <td>NaN</td>\n",
       "      <td>NaN</td>\n",
       "      <td>NaN</td>\n",
       "      <td>NaN</td>\n",
       "      <td>279</td>\n",
       "      <td>6/7</td>\n",
       "    </tr>\n",
       "    <tr>\n",
       "      <th>TL712</th>\n",
       "      <td>Computing with Digital Media</td>\n",
       "      <td>NaN</td>\n",
       "      <td>NaN</td>\n",
       "      <td>6/7</td>\n",
       "      <td>NaN</td>\n",
       "      <td>NaN</td>\n",
       "      <td>NaN</td>\n",
       "      <td>NaN</td>\n",
       "      <td>NaN</td>\n",
       "      <td>243.0</td>\n",
       "      <td>6/7</td>\n",
       "    </tr>\n",
       "    <tr>\n",
       "      <th>TL719</th>\n",
       "      <td>Culinary Arts</td>\n",
       "      <td>NaN</td>\n",
       "      <td>NaN</td>\n",
       "      <td>6/7</td>\n",
       "      <td>NaN</td>\n",
       "      <td>NaN</td>\n",
       "      <td>NaN</td>\n",
       "      <td>NaN</td>\n",
       "      <td>NaN</td>\n",
       "      <td>321.0</td>\n",
       "      <td>6/7</td>\n",
       "    </tr>\n",
       "    <tr>\n",
       "      <th>TL746</th>\n",
       "      <td>Engineering in Mechatronics Engineering</td>\n",
       "      <td>NaN</td>\n",
       "      <td>NaN</td>\n",
       "      <td>6/7</td>\n",
       "      <td>NaN</td>\n",
       "      <td>NaN</td>\n",
       "      <td>NaN</td>\n",
       "      <td>NaN</td>\n",
       "      <td>NaN</td>\n",
       "      <td>NaN</td>\n",
       "      <td>6/7</td>\n",
       "    </tr>\n",
       "  </tbody>\n",
       "</table>\n",
       "<p>1766 rows × 11 columns</p>\n",
       "</div>"
      ],
      "text/plain": [
       "                                                   title level level2020  \\\n",
       "code                                                                       \n",
       "AL801     Software Design for Virtual Reality and Gaming     8       NaN   \n",
       "AL802  Software Design in Artificial Intelligence for...     8       NaN   \n",
       "AL803  Software Design for Mobile Apps and Connected ...     8       NaN   \n",
       "AL805    Computer Engineering for Network Infrastructure     8       NaN   \n",
       "AL810                                 Quantity Surveying     8       NaN   \n",
       "...                                                  ...   ...       ...   \n",
       "SG403                                Applied Archaeology   NaN       NaN   \n",
       "SG432                           Environmental Protection   NaN       NaN   \n",
       "TL712                       Computing with Digital Media   NaN       NaN   \n",
       "TL719                                      Culinary Arts   NaN       NaN   \n",
       "TL746            Engineering in Mechatronics Engineering   NaN       NaN   \n",
       "\n",
       "      level2019 points_r1_2021 points_r2_2021 levellevel_2020 points_r1_2020  \\\n",
       "code                                                                           \n",
       "AL801       NaN            300            NaN               8            303   \n",
       "AL802       NaN            313            NaN               8            332   \n",
       "AL803       NaN            350            NaN               8            337   \n",
       "AL805       NaN            321            NaN               8            333   \n",
       "AL810       NaN            328            NaN               8            319   \n",
       "...         ...            ...            ...             ...            ...   \n",
       "SG403       6/7            NaN            NaN             NaN            NaN   \n",
       "SG432       6/7            NaN            NaN             NaN            NaN   \n",
       "TL712       6/7            NaN            NaN             NaN            NaN   \n",
       "TL719       6/7            NaN            NaN             NaN            NaN   \n",
       "TL746       6/7            NaN            NaN             NaN            NaN   \n",
       "\n",
       "      points_r2_2020 points_r1_2019 level_2019  \n",
       "code                                            \n",
       "AL801            NaN            304          8  \n",
       "AL802            NaN            301          8  \n",
       "AL803            NaN            309          8  \n",
       "AL805            NaN            329          8  \n",
       "AL810            NaN            307          8  \n",
       "...              ...            ...        ...  \n",
       "SG403            NaN            297        6/7  \n",
       "SG432            NaN            279        6/7  \n",
       "TL712            NaN          243.0        6/7  \n",
       "TL719            NaN          321.0        6/7  \n",
       "TL746            NaN            NaN        6/7  \n",
       "\n",
       "[1766 rows x 11 columns]"
      ]
     },
     "execution_count": 106,
     "metadata": {},
     "output_type": "execute_result"
    }
   ],
   "source": [
    "# Join 2019 points to allcourses.\n",
    "allcourses = allcourses.join(df2019_r1, rsuffix='2019')\n",
    "allcourses"
   ]
  },
  {
   "cell_type": "markdown",
   "id": "5f9efdff-8589-421d-9c34-411f0f9b20a7",
   "metadata": {},
   "source": [
    "<br>"
   ]
  },
  {
   "cell_type": "markdown",
   "id": "9b433451-8da9-47a6-b54b-a3d38714a197",
   "metadata": {},
   "source": [
    "<br>"
   ]
  },
  {
   "cell_type": "markdown",
   "id": "70616792-b23f-4fc2-8bf5-c88707fcb2c1",
   "metadata": {},
   "source": [
    "Going to drop the 2021 and 2020 round 2 points as I don't have any for information for 2019."
   ]
  },
  {
   "cell_type": "markdown",
   "id": "c17cdd9b-548d-4f66-951b-3d031cf5fab0",
   "metadata": {},
   "source": [
    "<br>"
   ]
  },
  {
   "cell_type": "markdown",
   "id": "37029db0-834b-4424-b213-38b8c7f01684",
   "metadata": {},
   "source": [
    "<br>"
   ]
  },
  {
   "cell_type": "code",
   "execution_count": 107,
   "id": "53658d12-3641-4481-a9fa-af0453081847",
   "metadata": {},
   "outputs": [],
   "source": [
    "# Dropping columns not using\n",
    "allcourses = allcourses.drop(['points_r2_2021', 'points_r2_2020', 'level2020', 'level2019'], axis=1)"
   ]
  },
  {
   "cell_type": "code",
   "execution_count": 108,
   "id": "cb82d830-31cc-4f7d-81bf-60ebd1896590",
   "metadata": {},
   "outputs": [
    {
     "data": {
      "text/html": [
       "<div>\n",
       "<style scoped>\n",
       "    .dataframe tbody tr th:only-of-type {\n",
       "        vertical-align: middle;\n",
       "    }\n",
       "\n",
       "    .dataframe tbody tr th {\n",
       "        vertical-align: top;\n",
       "    }\n",
       "\n",
       "    .dataframe thead th {\n",
       "        text-align: right;\n",
       "    }\n",
       "</style>\n",
       "<table border=\"1\" class=\"dataframe\">\n",
       "  <thead>\n",
       "    <tr style=\"text-align: right;\">\n",
       "      <th></th>\n",
       "      <th>title</th>\n",
       "      <th>level</th>\n",
       "      <th>points_r1_2021</th>\n",
       "      <th>levellevel_2020</th>\n",
       "      <th>points_r1_2020</th>\n",
       "      <th>points_r1_2019</th>\n",
       "      <th>level_2019</th>\n",
       "    </tr>\n",
       "    <tr>\n",
       "      <th>code</th>\n",
       "      <th></th>\n",
       "      <th></th>\n",
       "      <th></th>\n",
       "      <th></th>\n",
       "      <th></th>\n",
       "      <th></th>\n",
       "      <th></th>\n",
       "    </tr>\n",
       "  </thead>\n",
       "  <tbody>\n",
       "    <tr>\n",
       "      <th>AL801</th>\n",
       "      <td>Software Design for Virtual Reality and Gaming</td>\n",
       "      <td>8</td>\n",
       "      <td>300</td>\n",
       "      <td>8</td>\n",
       "      <td>303</td>\n",
       "      <td>304</td>\n",
       "      <td>8</td>\n",
       "    </tr>\n",
       "    <tr>\n",
       "      <th>AL802</th>\n",
       "      <td>Software Design in Artificial Intelligence for...</td>\n",
       "      <td>8</td>\n",
       "      <td>313</td>\n",
       "      <td>8</td>\n",
       "      <td>332</td>\n",
       "      <td>301</td>\n",
       "      <td>8</td>\n",
       "    </tr>\n",
       "    <tr>\n",
       "      <th>AL803</th>\n",
       "      <td>Software Design for Mobile Apps and Connected ...</td>\n",
       "      <td>8</td>\n",
       "      <td>350</td>\n",
       "      <td>8</td>\n",
       "      <td>337</td>\n",
       "      <td>309</td>\n",
       "      <td>8</td>\n",
       "    </tr>\n",
       "    <tr>\n",
       "      <th>AL805</th>\n",
       "      <td>Computer Engineering for Network Infrastructure</td>\n",
       "      <td>8</td>\n",
       "      <td>321</td>\n",
       "      <td>8</td>\n",
       "      <td>333</td>\n",
       "      <td>329</td>\n",
       "      <td>8</td>\n",
       "    </tr>\n",
       "    <tr>\n",
       "      <th>AL810</th>\n",
       "      <td>Quantity Surveying</td>\n",
       "      <td>8</td>\n",
       "      <td>328</td>\n",
       "      <td>8</td>\n",
       "      <td>319</td>\n",
       "      <td>307</td>\n",
       "      <td>8</td>\n",
       "    </tr>\n",
       "    <tr>\n",
       "      <th>...</th>\n",
       "      <td>...</td>\n",
       "      <td>...</td>\n",
       "      <td>...</td>\n",
       "      <td>...</td>\n",
       "      <td>...</td>\n",
       "      <td>...</td>\n",
       "      <td>...</td>\n",
       "    </tr>\n",
       "    <tr>\n",
       "      <th>SG403</th>\n",
       "      <td>Applied Archaeology</td>\n",
       "      <td>NaN</td>\n",
       "      <td>NaN</td>\n",
       "      <td>NaN</td>\n",
       "      <td>NaN</td>\n",
       "      <td>297</td>\n",
       "      <td>6/7</td>\n",
       "    </tr>\n",
       "    <tr>\n",
       "      <th>SG432</th>\n",
       "      <td>Environmental Protection</td>\n",
       "      <td>NaN</td>\n",
       "      <td>NaN</td>\n",
       "      <td>NaN</td>\n",
       "      <td>NaN</td>\n",
       "      <td>279</td>\n",
       "      <td>6/7</td>\n",
       "    </tr>\n",
       "    <tr>\n",
       "      <th>TL712</th>\n",
       "      <td>Computing with Digital Media</td>\n",
       "      <td>NaN</td>\n",
       "      <td>NaN</td>\n",
       "      <td>NaN</td>\n",
       "      <td>NaN</td>\n",
       "      <td>243.0</td>\n",
       "      <td>6/7</td>\n",
       "    </tr>\n",
       "    <tr>\n",
       "      <th>TL719</th>\n",
       "      <td>Culinary Arts</td>\n",
       "      <td>NaN</td>\n",
       "      <td>NaN</td>\n",
       "      <td>NaN</td>\n",
       "      <td>NaN</td>\n",
       "      <td>321.0</td>\n",
       "      <td>6/7</td>\n",
       "    </tr>\n",
       "    <tr>\n",
       "      <th>TL746</th>\n",
       "      <td>Engineering in Mechatronics Engineering</td>\n",
       "      <td>NaN</td>\n",
       "      <td>NaN</td>\n",
       "      <td>NaN</td>\n",
       "      <td>NaN</td>\n",
       "      <td>NaN</td>\n",
       "      <td>6/7</td>\n",
       "    </tr>\n",
       "  </tbody>\n",
       "</table>\n",
       "<p>1766 rows × 7 columns</p>\n",
       "</div>"
      ],
      "text/plain": [
       "                                                   title level points_r1_2021  \\\n",
       "code                                                                            \n",
       "AL801     Software Design for Virtual Reality and Gaming     8            300   \n",
       "AL802  Software Design in Artificial Intelligence for...     8            313   \n",
       "AL803  Software Design for Mobile Apps and Connected ...     8            350   \n",
       "AL805    Computer Engineering for Network Infrastructure     8            321   \n",
       "AL810                                 Quantity Surveying     8            328   \n",
       "...                                                  ...   ...            ...   \n",
       "SG403                                Applied Archaeology   NaN            NaN   \n",
       "SG432                           Environmental Protection   NaN            NaN   \n",
       "TL712                       Computing with Digital Media   NaN            NaN   \n",
       "TL719                                      Culinary Arts   NaN            NaN   \n",
       "TL746            Engineering in Mechatronics Engineering   NaN            NaN   \n",
       "\n",
       "      levellevel_2020 points_r1_2020 points_r1_2019 level_2019  \n",
       "code                                                            \n",
       "AL801               8            303            304          8  \n",
       "AL802               8            332            301          8  \n",
       "AL803               8            337            309          8  \n",
       "AL805               8            333            329          8  \n",
       "AL810               8            319            307          8  \n",
       "...               ...            ...            ...        ...  \n",
       "SG403             NaN            NaN            297        6/7  \n",
       "SG432             NaN            NaN            279        6/7  \n",
       "TL712             NaN            NaN          243.0        6/7  \n",
       "TL719             NaN            NaN          321.0        6/7  \n",
       "TL746             NaN            NaN            NaN        6/7  \n",
       "\n",
       "[1766 rows x 7 columns]"
      ]
     },
     "execution_count": 108,
     "metadata": {},
     "output_type": "execute_result"
    }
   ],
   "source": [
    "allcourses"
   ]
  },
  {
   "cell_type": "markdown",
   "id": "5896b4ef-6dd2-4a64-b303-a8c804d49dbf",
   "metadata": {},
   "source": [
    "<br>"
   ]
  },
  {
   "cell_type": "markdown",
   "id": "a506ddba-842e-4a31-ab75-bfd67c50f16c",
   "metadata": {},
   "source": [
    "<br>"
   ]
  },
  {
   "cell_type": "markdown",
   "id": "7b690f1b-93e8-4e0f-a2f1-cd59fbad25ef",
   "metadata": {},
   "source": [
    "<br>"
   ]
  },
  {
   "cell_type": "markdown",
   "id": "04cec776-ed6e-4161-9258-4313feb734dc",
   "metadata": {},
   "source": [
    "<br>"
   ]
  },
  {
   "cell_type": "code",
   "execution_count": 109,
   "id": "2b43403e-6a22-40f9-9f9c-488da018ac6a",
   "metadata": {},
   "outputs": [],
   "source": [
    "# Renaming the column\n",
    "allcourses.rename(columns={'level':'level_2021', 'levellevel_2020': 'level_2020'},inplace=True)"
   ]
  },
  {
   "cell_type": "code",
   "execution_count": 110,
   "id": "783498e1-b3db-4690-9bea-9e05f1fc2bac",
   "metadata": {},
   "outputs": [
    {
     "data": {
      "text/html": [
       "<div>\n",
       "<style scoped>\n",
       "    .dataframe tbody tr th:only-of-type {\n",
       "        vertical-align: middle;\n",
       "    }\n",
       "\n",
       "    .dataframe tbody tr th {\n",
       "        vertical-align: top;\n",
       "    }\n",
       "\n",
       "    .dataframe thead th {\n",
       "        text-align: right;\n",
       "    }\n",
       "</style>\n",
       "<table border=\"1\" class=\"dataframe\">\n",
       "  <thead>\n",
       "    <tr style=\"text-align: right;\">\n",
       "      <th></th>\n",
       "      <th>title</th>\n",
       "      <th>level_2021</th>\n",
       "      <th>points_r1_2021</th>\n",
       "      <th>level_2020</th>\n",
       "      <th>points_r1_2020</th>\n",
       "      <th>points_r1_2019</th>\n",
       "      <th>level_2019</th>\n",
       "    </tr>\n",
       "    <tr>\n",
       "      <th>code</th>\n",
       "      <th></th>\n",
       "      <th></th>\n",
       "      <th></th>\n",
       "      <th></th>\n",
       "      <th></th>\n",
       "      <th></th>\n",
       "      <th></th>\n",
       "    </tr>\n",
       "  </thead>\n",
       "  <tbody>\n",
       "    <tr>\n",
       "      <th>AL801</th>\n",
       "      <td>Software Design for Virtual Reality and Gaming</td>\n",
       "      <td>8</td>\n",
       "      <td>300</td>\n",
       "      <td>8</td>\n",
       "      <td>303</td>\n",
       "      <td>304</td>\n",
       "      <td>8</td>\n",
       "    </tr>\n",
       "    <tr>\n",
       "      <th>AL802</th>\n",
       "      <td>Software Design in Artificial Intelligence for...</td>\n",
       "      <td>8</td>\n",
       "      <td>313</td>\n",
       "      <td>8</td>\n",
       "      <td>332</td>\n",
       "      <td>301</td>\n",
       "      <td>8</td>\n",
       "    </tr>\n",
       "    <tr>\n",
       "      <th>AL803</th>\n",
       "      <td>Software Design for Mobile Apps and Connected ...</td>\n",
       "      <td>8</td>\n",
       "      <td>350</td>\n",
       "      <td>8</td>\n",
       "      <td>337</td>\n",
       "      <td>309</td>\n",
       "      <td>8</td>\n",
       "    </tr>\n",
       "    <tr>\n",
       "      <th>AL805</th>\n",
       "      <td>Computer Engineering for Network Infrastructure</td>\n",
       "      <td>8</td>\n",
       "      <td>321</td>\n",
       "      <td>8</td>\n",
       "      <td>333</td>\n",
       "      <td>329</td>\n",
       "      <td>8</td>\n",
       "    </tr>\n",
       "    <tr>\n",
       "      <th>AL810</th>\n",
       "      <td>Quantity Surveying</td>\n",
       "      <td>8</td>\n",
       "      <td>328</td>\n",
       "      <td>8</td>\n",
       "      <td>319</td>\n",
       "      <td>307</td>\n",
       "      <td>8</td>\n",
       "    </tr>\n",
       "    <tr>\n",
       "      <th>...</th>\n",
       "      <td>...</td>\n",
       "      <td>...</td>\n",
       "      <td>...</td>\n",
       "      <td>...</td>\n",
       "      <td>...</td>\n",
       "      <td>...</td>\n",
       "      <td>...</td>\n",
       "    </tr>\n",
       "    <tr>\n",
       "      <th>SG403</th>\n",
       "      <td>Applied Archaeology</td>\n",
       "      <td>NaN</td>\n",
       "      <td>NaN</td>\n",
       "      <td>NaN</td>\n",
       "      <td>NaN</td>\n",
       "      <td>297</td>\n",
       "      <td>6/7</td>\n",
       "    </tr>\n",
       "    <tr>\n",
       "      <th>SG432</th>\n",
       "      <td>Environmental Protection</td>\n",
       "      <td>NaN</td>\n",
       "      <td>NaN</td>\n",
       "      <td>NaN</td>\n",
       "      <td>NaN</td>\n",
       "      <td>279</td>\n",
       "      <td>6/7</td>\n",
       "    </tr>\n",
       "    <tr>\n",
       "      <th>TL712</th>\n",
       "      <td>Computing with Digital Media</td>\n",
       "      <td>NaN</td>\n",
       "      <td>NaN</td>\n",
       "      <td>NaN</td>\n",
       "      <td>NaN</td>\n",
       "      <td>243.0</td>\n",
       "      <td>6/7</td>\n",
       "    </tr>\n",
       "    <tr>\n",
       "      <th>TL719</th>\n",
       "      <td>Culinary Arts</td>\n",
       "      <td>NaN</td>\n",
       "      <td>NaN</td>\n",
       "      <td>NaN</td>\n",
       "      <td>NaN</td>\n",
       "      <td>321.0</td>\n",
       "      <td>6/7</td>\n",
       "    </tr>\n",
       "    <tr>\n",
       "      <th>TL746</th>\n",
       "      <td>Engineering in Mechatronics Engineering</td>\n",
       "      <td>NaN</td>\n",
       "      <td>NaN</td>\n",
       "      <td>NaN</td>\n",
       "      <td>NaN</td>\n",
       "      <td>NaN</td>\n",
       "      <td>6/7</td>\n",
       "    </tr>\n",
       "  </tbody>\n",
       "</table>\n",
       "<p>1766 rows × 7 columns</p>\n",
       "</div>"
      ],
      "text/plain": [
       "                                                   title level_2021  \\\n",
       "code                                                                  \n",
       "AL801     Software Design for Virtual Reality and Gaming          8   \n",
       "AL802  Software Design in Artificial Intelligence for...          8   \n",
       "AL803  Software Design for Mobile Apps and Connected ...          8   \n",
       "AL805    Computer Engineering for Network Infrastructure          8   \n",
       "AL810                                 Quantity Surveying          8   \n",
       "...                                                  ...        ...   \n",
       "SG403                                Applied Archaeology        NaN   \n",
       "SG432                           Environmental Protection        NaN   \n",
       "TL712                       Computing with Digital Media        NaN   \n",
       "TL719                                      Culinary Arts        NaN   \n",
       "TL746            Engineering in Mechatronics Engineering        NaN   \n",
       "\n",
       "      points_r1_2021 level_2020 points_r1_2020 points_r1_2019 level_2019  \n",
       "code                                                                      \n",
       "AL801            300          8            303            304          8  \n",
       "AL802            313          8            332            301          8  \n",
       "AL803            350          8            337            309          8  \n",
       "AL805            321          8            333            329          8  \n",
       "AL810            328          8            319            307          8  \n",
       "...              ...        ...            ...            ...        ...  \n",
       "SG403            NaN        NaN            NaN            297        6/7  \n",
       "SG432            NaN        NaN            NaN            279        6/7  \n",
       "TL712            NaN        NaN            NaN          243.0        6/7  \n",
       "TL719            NaN        NaN            NaN          321.0        6/7  \n",
       "TL746            NaN        NaN            NaN            NaN        6/7  \n",
       "\n",
       "[1766 rows x 7 columns]"
      ]
     },
     "execution_count": 110,
     "metadata": {},
     "output_type": "execute_result"
    }
   ],
   "source": [
    "allcourses"
   ]
  },
  {
   "cell_type": "markdown",
   "id": "b3ccdc17-9afd-4806-9d9c-b31cec5ca79a",
   "metadata": {},
   "source": [
    "<br>"
   ]
  },
  {
   "cell_type": "markdown",
   "id": "e3ca8e3b-721f-4c12-84ae-83a2e7d0af26",
   "metadata": {},
   "source": [
    "<br>"
   ]
  },
  {
   "cell_type": "code",
   "execution_count": 112,
   "id": "e3932701-aa23-475b-b58a-40b580922c80",
   "metadata": {},
   "outputs": [
    {
     "data": {
      "text/plain": [
       "title             Counselling Skills and Psychotherapy Studies\n",
       "level_2021                                                 NaN\n",
       "points_r1_2021                                             NaN\n",
       "level_2020                                                   7\n",
       "points_r1_2020                                             300\n",
       "points_r1_2019                                             238\n",
       "level_2019                                                 6/7\n",
       "Name: CI001, dtype: object"
      ]
     },
     "execution_count": 112,
     "metadata": {},
     "output_type": "execute_result"
    }
   ],
   "source": [
    "# Checking random course\n",
    "allcourses.loc['CI001']"
   ]
  },
  {
   "cell_type": "markdown",
   "id": "7fe70468-40ab-4893-be7b-1deb964f5400",
   "metadata": {},
   "source": [
    "<br>"
   ]
  },
  {
   "cell_type": "code",
   "execution_count": 113,
   "id": "68895063-dc07-4358-a720-a81892b2d1b8",
   "metadata": {},
   "outputs": [
    {
     "data": {
      "text/plain": [
       "8      949\n",
       "6/7    416\n",
       "Name: level_2021, dtype: int64"
      ]
     },
     "execution_count": 113,
     "metadata": {},
     "output_type": "execute_result"
    }
   ],
   "source": [
    "allcourses['level_2021'].value_counts()"
   ]
  },
  {
   "cell_type": "markdown",
   "id": "b24d16c3-9c40-44e3-926d-2af7ab1d6d38",
   "metadata": {},
   "source": [
    "<br>"
   ]
  },
  {
   "cell_type": "markdown",
   "id": "f3dd990c-97cc-447f-965a-1e10517b6317",
   "metadata": {},
   "source": [
    "<br>"
   ]
  },
  {
   "cell_type": "code",
   "execution_count": 114,
   "id": "6236caa4-e254-4ce5-8e0a-56cf69e16128",
   "metadata": {},
   "outputs": [
    {
     "data": {
      "text/plain": [
       "8    1027\n",
       "7     346\n",
       "6      91\n",
       "Name: level_2020, dtype: int64"
      ]
     },
     "execution_count": 114,
     "metadata": {},
     "output_type": "execute_result"
    }
   ],
   "source": [
    "allcourses['level_2020'].value_counts()"
   ]
  },
  {
   "cell_type": "markdown",
   "id": "cefcb817-4b7a-4e65-b7fa-d4fddd4bd3e3",
   "metadata": {},
   "source": [
    "<br>"
   ]
  },
  {
   "cell_type": "markdown",
   "id": "1fb3b10b-2c54-4595-88d9-cb36df34de92",
   "metadata": {},
   "source": [
    "<br>"
   ]
  },
  {
   "cell_type": "code",
   "execution_count": 115,
   "id": "c296e338-dee9-4dcc-b6cd-f6670f28af62",
   "metadata": {},
   "outputs": [
    {
     "data": {
      "text/plain": [
       "8      931\n",
       "6/7    378\n",
       "Name: level_2019, dtype: int64"
      ]
     },
     "execution_count": 115,
     "metadata": {},
     "output_type": "execute_result"
    }
   ],
   "source": [
    "allcourses['level_2019'].value_counts()"
   ]
  },
  {
   "cell_type": "markdown",
   "id": "db3880a4-d3d6-4b0c-9bd4-35771215bffb",
   "metadata": {},
   "source": [
    "<br>"
   ]
  },
  {
   "cell_type": "markdown",
   "id": "6b504549-bafa-47c2-bdcc-d6b790353aee",
   "metadata": {},
   "source": [
    "<br>"
   ]
  },
  {
   "cell_type": "markdown",
   "id": "35405ffc-1150-44b8-bc63-436043290d03",
   "metadata": {
    "tags": []
   },
   "source": [
    "<br>"
   ]
  },
  {
   "cell_type": "markdown",
   "id": "000aacb3-fdb0-4cff-8b15-ba90d01c89e9",
   "metadata": {},
   "source": [
    "***\n",
    "\n",
    "## Data\n",
    "\n",
    "***"
   ]
  },
  {
   "cell_type": "markdown",
   "id": "0b93ceb5-951f-402b-a972-bfb33c2fcf0e",
   "metadata": {},
   "source": [
    "<br>"
   ]
  },
  {
   "cell_type": "markdown",
   "id": "623db951-a9b9-4f47-bf3a-fb1a174343b5",
   "metadata": {},
   "source": [
    "<br>"
   ]
  },
  {
   "cell_type": "code",
   "execution_count": 116,
   "id": "8e7410fc-bd22-423c-b7f1-3f97d0c99bb1",
   "metadata": {},
   "outputs": [
    {
     "name": "stdout",
     "output_type": "stream",
     "text": [
      "<class 'pandas.core.frame.DataFrame'>\n",
      "Index: 1766 entries, AL801 to TL746\n",
      "Data columns (total 7 columns):\n",
      " #   Column          Non-Null Count  Dtype \n",
      "---  ------          --------------  ----- \n",
      " 0   title           1765 non-null   object\n",
      " 1   level_2021      1365 non-null   object\n",
      " 2   points_r1_2021  1336 non-null   object\n",
      " 3   level_2020      1464 non-null   object\n",
      " 4   points_r1_2020  1437 non-null   object\n",
      " 5   points_r1_2019  1297 non-null   object\n",
      " 6   level_2019      1309 non-null   object\n",
      "dtypes: object(7)\n",
      "memory usage: 174.9+ KB\n"
     ]
    }
   ],
   "source": [
    "allcourses.info()"
   ]
  },
  {
   "cell_type": "markdown",
   "id": "49e36253-d993-4a41-877e-7e138e5354bd",
   "metadata": {},
   "source": [
    "<br>"
   ]
  },
  {
   "cell_type": "markdown",
   "id": "cbff42d7-28dd-4cf8-8578-d232c221d345",
   "metadata": {},
   "source": [
    "<br>"
   ]
  },
  {
   "cell_type": "markdown",
   "id": "e01705ce-fc2c-4d94-a25d-563cf9ca0d26",
   "metadata": {},
   "source": [
    "<br>"
   ]
  },
  {
   "cell_type": "markdown",
   "id": "a2df55d3-7440-4c3d-99d5-d181d86e63ec",
   "metadata": {},
   "source": [
    "<br>"
   ]
  },
  {
   "cell_type": "code",
   "execution_count": 120,
   "id": "2ff7eb8a-2e59-4a0c-8c55-fb71ef63f031",
   "metadata": {},
   "outputs": [
    {
     "data": {
      "text/html": [
       "<div>\n",
       "<style scoped>\n",
       "    .dataframe tbody tr th:only-of-type {\n",
       "        vertical-align: middle;\n",
       "    }\n",
       "\n",
       "    .dataframe tbody tr th {\n",
       "        vertical-align: top;\n",
       "    }\n",
       "\n",
       "    .dataframe thead th {\n",
       "        text-align: right;\n",
       "    }\n",
       "</style>\n",
       "<table border=\"1\" class=\"dataframe\">\n",
       "  <thead>\n",
       "    <tr style=\"text-align: right;\">\n",
       "      <th></th>\n",
       "      <th>code</th>\n",
       "      <th>title</th>\n",
       "      <th>level</th>\n",
       "      <th>pointsR1</th>\n",
       "      <th>pointsR2</th>\n",
       "    </tr>\n",
       "  </thead>\n",
       "  <tbody>\n",
       "    <tr>\n",
       "      <th>count</th>\n",
       "      <td>949</td>\n",
       "      <td>949</td>\n",
       "      <td>949</td>\n",
       "      <td>928</td>\n",
       "      <td>258</td>\n",
       "    </tr>\n",
       "    <tr>\n",
       "      <th>unique</th>\n",
       "      <td>949</td>\n",
       "      <td>709</td>\n",
       "      <td>1</td>\n",
       "      <td>377</td>\n",
       "      <td>180</td>\n",
       "    </tr>\n",
       "    <tr>\n",
       "      <th>top</th>\n",
       "      <td>AL801</td>\n",
       "      <td>Business</td>\n",
       "      <td>8</td>\n",
       "      <td>300</td>\n",
       "      <td>613*</td>\n",
       "    </tr>\n",
       "    <tr>\n",
       "      <th>freq</th>\n",
       "      <td>1</td>\n",
       "      <td>12</td>\n",
       "      <td>949</td>\n",
       "      <td>18</td>\n",
       "      <td>5</td>\n",
       "    </tr>\n",
       "  </tbody>\n",
       "</table>\n",
       "</div>"
      ],
      "text/plain": [
       "         code     title level pointsR1 pointsR2\n",
       "count     949       949   949      928      258\n",
       "unique    949       709     1      377      180\n",
       "top     AL801  Business     8      300     613*\n",
       "freq        1        12   949       18        5"
      ]
     },
     "execution_count": 120,
     "metadata": {},
     "output_type": "execute_result"
    }
   ],
   "source": []
  },
  {
   "cell_type": "code",
   "execution_count": null,
   "id": "c2c09172-ba47-412f-b8e8-6d8edeba5295",
   "metadata": {},
   "outputs": [],
   "source": []
  },
  {
   "cell_type": "code",
   "execution_count": null,
   "id": "1647a015-c7ce-4db6-bd2c-54988cac2254",
   "metadata": {},
   "outputs": [],
   "source": []
  },
  {
   "cell_type": "code",
   "execution_count": null,
   "id": "23a6da1a-c327-4174-ba13-1c071b401c93",
   "metadata": {},
   "outputs": [],
   "source": []
  },
  {
   "cell_type": "code",
   "execution_count": null,
   "id": "3f3866f4-9517-4edc-bdf6-cbcc8075d07b",
   "metadata": {},
   "outputs": [],
   "source": []
  },
  {
   "cell_type": "markdown",
   "id": "004236b0-90a7-4b88-9d92-0dbe3ea91072",
   "metadata": {},
   "source": [
    "## References"
   ]
  },
  {
   "cell_type": "code",
   "execution_count": null,
   "id": "23df8f7f-94e9-4be5-866a-c1f261e3f30a",
   "metadata": {},
   "outputs": [],
   "source": []
  },
  {
   "cell_type": "code",
   "execution_count": null,
   "id": "f6f2d5f8-0dc1-4c35-9e21-433a8718f13b",
   "metadata": {},
   "outputs": [],
   "source": []
  },
  {
   "cell_type": "markdown",
   "id": "04e20723-e2aa-4bdb-b20f-35438621d47b",
   "metadata": {
    "tags": []
   },
   "source": [
    "# End"
   ]
  }
 ],
 "metadata": {
  "kernelspec": {
   "display_name": "Python 3 (ipykernel)",
   "language": "python",
   "name": "python3"
  },
  "language_info": {
   "codemirror_mode": {
    "name": "ipython",
    "version": 3
   },
   "file_extension": ".py",
   "mimetype": "text/x-python",
   "name": "python",
   "nbconvert_exporter": "python",
   "pygments_lexer": "ipython3",
   "version": "3.8.11"
  }
 },
 "nbformat": 4,
 "nbformat_minor": 5
}
