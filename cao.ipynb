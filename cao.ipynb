{
 "cells": [
  {
   "cell_type": "markdown",
   "id": "2c0078d9-c75c-4670-be55-be4a97fe7a97",
   "metadata": {},
   "source": [
    "***\n",
    "# Fundamentals of Data Analytics Assessment - CAO Points Analysis\n",
    "\n",
    "***"
   ]
  },
  {
   "cell_type": "markdown",
   "id": "6a3c1074-da99-4537-9901-04bd51826745",
   "metadata": {},
   "source": []
  },
  {
   "cell_type": "markdown",
   "id": "5be800b5-254a-420f-9dfd-d8b2fdf7694d",
   "metadata": {},
   "source": [
    "\"The purpose of the Central Applications Office (CAO) is to process centrally applications for undergraduate courses in Irish Higher Education Institutions\" [1]. "
   ]
  },
  {
   "cell_type": "markdown",
   "id": "72d612cf-7f62-4332-b08c-0ddf29369c30",
   "metadata": {},
   "source": [
    "<br>"
   ]
  },
  {
   "cell_type": "markdown",
   "id": "7da576ae-2c98-49e9-82cf-ec37b965a297",
   "metadata": {},
   "source": [
    "[Regular Expression Documentation]('https://docs.python.org/3/library/re.html')"
   ]
  },
  {
   "cell_type": "markdown",
   "id": "245a30cf-2681-4834-90e2-e1e60924a54b",
   "metadata": {},
   "source": [
    "#### Importing Libraries "
   ]
  },
  {
   "cell_type": "code",
   "execution_count": 1,
   "id": "3c7a5527-7104-4d1f-b55a-d8e73c8ff791",
   "metadata": {},
   "outputs": [],
   "source": [
    "\n",
    "# Convenient HTTP requests.\n",
    "import requests as rq\n",
    "\n",
    "# Regular expressions.\n",
    "import re\n",
    "\n",
    "# Dates and times.\n",
    "import datetime as dt\n",
    "\n",
    "# Data frames.\n",
    "import pandas as pd\n",
    "\n",
    "# For downloading.\n",
    "import urllib.request as urlrq"
   ]
  },
  {
   "cell_type": "markdown",
   "id": "9b33be11-d3f3-4f66-bc40-6ece30d25b41",
   "metadata": {},
   "source": [
    "<br>"
   ]
  },
  {
   "cell_type": "code",
   "execution_count": 2,
   "id": "395755db-d99d-4659-9050-02420fe1e734",
   "metadata": {},
   "outputs": [],
   "source": [
    "# Get the current date and time.\n",
    "now = dt.datetime.now()\n",
    "\n",
    "# Format as a string.\n",
    "nowstr = now.strftime('%Y%m%d_%H%M%S')"
   ]
  },
  {
   "cell_type": "markdown",
   "id": "fd5c01c8-5817-4446-95fd-9855ed7d66f7",
   "metadata": {},
   "source": [
    "<br>"
   ]
  },
  {
   "cell_type": "markdown",
   "id": "840fc654-02a1-4f77-b94e-d7a6fc585cb8",
   "metadata": {},
   "source": [
    "****"
   ]
  },
  {
   "cell_type": "markdown",
   "id": "2aa5078d-8e64-4db6-a5e3-3db67e072754",
   "metadata": {},
   "source": [
    "## 2021 CAO Points\n",
    "[2021 CAO points]('http://www2.cao.ie/points/l8.php')\n",
    "***\n"
   ]
  },
  {
   "cell_type": "markdown",
   "id": "1e73ef99-f889-4de6-997e-ae24e02beeda",
   "metadata": {},
   "source": [
    "<br>"
   ]
  },
  {
   "cell_type": "markdown",
   "id": "a3d2866a-e216-4c54-8412-b7c36922e67c",
   "metadata": {},
   "source": [
    "#### Server Request"
   ]
  },
  {
   "cell_type": "code",
   "execution_count": 3,
   "id": "2583b1a1-ff73-49ac-b3e4-966864a109c7",
   "metadata": {},
   "outputs": [
    {
     "data": {
      "text/plain": [
       "<Response [200]>"
      ]
     },
     "execution_count": 3,
     "metadata": {},
     "output_type": "execute_result"
    }
   ],
   "source": [
    "# Fetch the CAO points URL.\n",
    "resp = rq.get('http://www2.cao.ie/points/l8.php')\n",
    "\n",
    "# 200 = ok. 404 = error: not found\n",
    "resp"
   ]
  },
  {
   "cell_type": "markdown",
   "id": "fb9649f7-16b5-4c73-9ff9-175b4775357a",
   "metadata": {},
   "source": [
    "<br>"
   ]
  },
  {
   "cell_type": "markdown",
   "id": "4cd80dc0-381a-4b99-9353-96ff01a9b338",
   "metadata": {},
   "source": [
    "<br>"
   ]
  },
  {
   "cell_type": "markdown",
   "id": "c3621bc2-7982-480a-a702-2da6b4774b55",
   "metadata": {},
   "source": [
    "### Save Orignal Dataset\n",
    "\n",
    "***"
   ]
  },
  {
   "cell_type": "code",
   "execution_count": 7,
   "id": "9e192d38-4be5-4222-a255-c145e82313eb",
   "metadata": {},
   "outputs": [],
   "source": [
    "# Create a file path for the original data.\n",
    "pathhtml = 'datasets/cao2021_' + nowstr + '.html'"
   ]
  },
  {
   "cell_type": "markdown",
   "id": "15323943-da07-460d-b482-e884336b9bb8",
   "metadata": {
    "tags": []
   },
   "source": [
    "Error on server\n",
    "\n",
    "Technically, the server says we should decode as per:\n",
    "\n",
    "Content-Type: text/html; charset=iso-8859-1\n",
    "However, one line uses \\x96 which isn't defined in iso-8859-1.\n",
    "\n",
    "Therefore we use the similar decoding standard cp1252, which is very similar but includes #x96."
   ]
  },
  {
   "cell_type": "code",
   "execution_count": 8,
   "id": "3ed4cd4a-fe33-44d4-af33-6ad0db290c37",
   "metadata": {},
   "outputs": [],
   "source": [
    "# The server uses the wrong encoding, fix it.\n",
    "original_encoding = resp.encoding\n",
    "\n",
    "# Change to cp1252.\n",
    "resp.encoding = 'cp1252'"
   ]
  },
  {
   "cell_type": "code",
   "execution_count": 9,
   "id": "9e13c1cb-bc41-4cf2-b27e-f5963ba7fa89",
   "metadata": {},
   "outputs": [],
   "source": [
    "# Save the original html file.\n",
    "with open(pathhtml, 'w') as f:\n",
    "    f.write(resp.text)"
   ]
  },
  {
   "cell_type": "code",
   "execution_count": null,
   "id": "fff13551-cee2-4ba9-978c-7a8ef3738c85",
   "metadata": {},
   "outputs": [],
   "source": []
  },
  {
   "cell_type": "markdown",
   "id": "c5a1fa7c-cafe-4831-8376-2ecdf1619655",
   "metadata": {},
   "source": [
    "## Use regular expressions to select lines we want"
   ]
  },
  {
   "cell_type": "code",
   "execution_count": 10,
   "id": "25f002ee-3fcf-43a9-ac74-e40f4a8fd24b",
   "metadata": {},
   "outputs": [],
   "source": [
    "# Compile the regular expression for matching lines.\n",
    "re_course = re.compile(r'([A-Z]{2}[0-9]{3})(.*)')"
   ]
  },
  {
   "cell_type": "markdown",
   "id": "0f671e4e-626e-4cba-acaf-ad4aa40cadc4",
   "metadata": {},
   "source": [
    "## Loop through the lines of the response"
   ]
  },
  {
   "cell_type": "code",
   "execution_count": 13,
   "id": "f8899bd5-672c-4474-97a1-493d7fa9031f",
   "metadata": {},
   "outputs": [],
   "source": [
    "# The file path for the csv file.\n",
    "path2021 = 'datasets/cao2021_csv_' + nowstr + '.csv'"
   ]
  },
  {
   "cell_type": "code",
   "execution_count": 14,
   "id": "50056c4b-8298-4d91-b7c4-7d82e5ccbcea",
   "metadata": {},
   "outputs": [
    {
     "name": "stdout",
     "output_type": "stream",
     "text": [
      "Total number of lines is 949.\n"
     ]
    }
   ],
   "source": [
    "# Keep track of how many courses we process.\n",
    "no_lines = 0\n",
    "\n",
    "# Open the csv file for writing.\n",
    "with open(path2021, 'w') as f:\n",
    "    # Write a header row.\n",
    "    f.write(','.join(['code', 'title', 'pointsR1', 'pointsR2']) + '\\n')\n",
    "    # Loop through lines of the response.\n",
    "    for line in resp.iter_lines():\n",
    "        # Decode the line, using the wrong encoding!\n",
    "        dline = line.decode('cp1252')\n",
    "        # Match only the lines representing courses.\n",
    "        if re_course.fullmatch(dline):\n",
    "            # Add one to the lines counter.\n",
    "            no_lines = no_lines + 1\n",
    "            # The course code.\n",
    "            course_code = dline[:5]\n",
    "            # The course title.\n",
    "            course_title = dline[7:57].strip()\n",
    "            # Round one points.\n",
    "            course_points = re.split(' +', dline[60:])\n",
    "            if len(course_points) != 2:\n",
    "                course_points = course_points[:2]\n",
    "            # Join the fields using a comma.\n",
    "            linesplit = [course_code, course_title, course_points[0], course_points[1]]\n",
    "            # Rejoin the substrings with commas in between.\n",
    "            f.write(','.join(linesplit) + '\\n')\n",
    "\n",
    "# Print the total number of processed lines.\n",
    "print(f\"Total number of lines is {no_lines}.\")"
   ]
  },
  {
   "cell_type": "markdown",
   "id": "f3e85b27-949d-44cf-8452-d5230f58b149",
   "metadata": {},
   "source": [
    "NB: it was verified as of 03/11/2021 that there were 949 courses exactly in the CAO 2021 points list."
   ]
  },
  {
   "cell_type": "code",
   "execution_count": null,
   "id": "a1c3bf7a-60e6-48bd-bbdd-9a7316c7fff5",
   "metadata": {},
   "outputs": [],
   "source": []
  },
  {
   "cell_type": "code",
   "execution_count": 15,
   "id": "32d70a9b-ba92-47a0-a0c5-3a1036e7e11c",
   "metadata": {},
   "outputs": [],
   "source": [
    "df2021 = pd.read_csv(path2021, encoding='cp1252')"
   ]
  },
  {
   "cell_type": "code",
   "execution_count": 16,
   "id": "252823fd-3dd6-4e7f-822a-c882b43224b8",
   "metadata": {},
   "outputs": [
    {
     "data": {
      "text/html": [
       "<div>\n",
       "<style scoped>\n",
       "    .dataframe tbody tr th:only-of-type {\n",
       "        vertical-align: middle;\n",
       "    }\n",
       "\n",
       "    .dataframe tbody tr th {\n",
       "        vertical-align: top;\n",
       "    }\n",
       "\n",
       "    .dataframe thead th {\n",
       "        text-align: right;\n",
       "    }\n",
       "</style>\n",
       "<table border=\"1\" class=\"dataframe\">\n",
       "  <thead>\n",
       "    <tr style=\"text-align: right;\">\n",
       "      <th></th>\n",
       "      <th>code</th>\n",
       "      <th>title</th>\n",
       "      <th>pointsR1</th>\n",
       "      <th>pointsR2</th>\n",
       "    </tr>\n",
       "  </thead>\n",
       "  <tbody>\n",
       "    <tr>\n",
       "      <th>0</th>\n",
       "      <td>AL801</td>\n",
       "      <td>Software Design for Virtual Reality and Gaming</td>\n",
       "      <td>300</td>\n",
       "      <td>NaN</td>\n",
       "    </tr>\n",
       "    <tr>\n",
       "      <th>1</th>\n",
       "      <td>AL802</td>\n",
       "      <td>Software Design in Artificial Intelligence for...</td>\n",
       "      <td>313</td>\n",
       "      <td>NaN</td>\n",
       "    </tr>\n",
       "    <tr>\n",
       "      <th>2</th>\n",
       "      <td>AL803</td>\n",
       "      <td>Software Design for Mobile Apps and Connected ...</td>\n",
       "      <td>350</td>\n",
       "      <td>NaN</td>\n",
       "    </tr>\n",
       "    <tr>\n",
       "      <th>3</th>\n",
       "      <td>AL805</td>\n",
       "      <td>Computer Engineering for Network Infrastructure</td>\n",
       "      <td>321</td>\n",
       "      <td>NaN</td>\n",
       "    </tr>\n",
       "    <tr>\n",
       "      <th>4</th>\n",
       "      <td>AL810</td>\n",
       "      <td>Quantity Surveying</td>\n",
       "      <td>328</td>\n",
       "      <td>NaN</td>\n",
       "    </tr>\n",
       "    <tr>\n",
       "      <th>...</th>\n",
       "      <td>...</td>\n",
       "      <td>...</td>\n",
       "      <td>...</td>\n",
       "      <td>...</td>\n",
       "    </tr>\n",
       "    <tr>\n",
       "      <th>944</th>\n",
       "      <td>WD211</td>\n",
       "      <td>Creative Computing</td>\n",
       "      <td>270</td>\n",
       "      <td>NaN</td>\n",
       "    </tr>\n",
       "    <tr>\n",
       "      <th>945</th>\n",
       "      <td>WD212</td>\n",
       "      <td>Recreation and Sport Management</td>\n",
       "      <td>262</td>\n",
       "      <td>NaN</td>\n",
       "    </tr>\n",
       "    <tr>\n",
       "      <th>946</th>\n",
       "      <td>WD230</td>\n",
       "      <td>Mechanical and Manufacturing Engineering</td>\n",
       "      <td>230</td>\n",
       "      <td>230</td>\n",
       "    </tr>\n",
       "    <tr>\n",
       "      <th>947</th>\n",
       "      <td>WD231</td>\n",
       "      <td>Early Childhood Care and Education</td>\n",
       "      <td>266</td>\n",
       "      <td>NaN</td>\n",
       "    </tr>\n",
       "    <tr>\n",
       "      <th>948</th>\n",
       "      <td>WD232</td>\n",
       "      <td>Business Information Systems</td>\n",
       "      <td>261</td>\n",
       "      <td>261</td>\n",
       "    </tr>\n",
       "  </tbody>\n",
       "</table>\n",
       "<p>949 rows × 4 columns</p>\n",
       "</div>"
      ],
      "text/plain": [
       "      code                                              title pointsR1  \\\n",
       "0    AL801     Software Design for Virtual Reality and Gaming      300   \n",
       "1    AL802  Software Design in Artificial Intelligence for...      313   \n",
       "2    AL803  Software Design for Mobile Apps and Connected ...      350   \n",
       "3    AL805    Computer Engineering for Network Infrastructure      321   \n",
       "4    AL810                                 Quantity Surveying      328   \n",
       "..     ...                                                ...      ...   \n",
       "944  WD211                                 Creative Computing      270   \n",
       "945  WD212                    Recreation and Sport Management      262   \n",
       "946  WD230           Mechanical and Manufacturing Engineering      230   \n",
       "947  WD231                 Early Childhood Care and Education      266   \n",
       "948  WD232                       Business Information Systems      261   \n",
       "\n",
       "    pointsR2  \n",
       "0        NaN  \n",
       "1        NaN  \n",
       "2        NaN  \n",
       "3        NaN  \n",
       "4        NaN  \n",
       "..       ...  \n",
       "944      NaN  \n",
       "945      NaN  \n",
       "946      230  \n",
       "947      NaN  \n",
       "948      261  \n",
       "\n",
       "[949 rows x 4 columns]"
      ]
     },
     "execution_count": 16,
     "metadata": {},
     "output_type": "execute_result"
    }
   ],
   "source": [
    "df2021"
   ]
  },
  {
   "cell_type": "code",
   "execution_count": null,
   "id": "d8bdb9a7-818e-4ed9-b73e-0152f2b2c629",
   "metadata": {},
   "outputs": [],
   "source": []
  },
  {
   "cell_type": "code",
   "execution_count": null,
   "id": "f67805c7-ff41-4f60-a529-70d17fb3a56a",
   "metadata": {},
   "outputs": [],
   "source": []
  },
  {
   "cell_type": "code",
   "execution_count": null,
   "id": "6701de59-b46f-4af3-8d8c-4260104ab023",
   "metadata": {},
   "outputs": [],
   "source": []
  },
  {
   "cell_type": "code",
   "execution_count": null,
   "id": "8e90d9eb-e7ae-4297-982c-bdae93ab0522",
   "metadata": {},
   "outputs": [],
   "source": []
  },
  {
   "cell_type": "code",
   "execution_count": null,
   "id": "ffa2d633-b84c-4129-a0cf-2c6eeb4f965b",
   "metadata": {},
   "outputs": [],
   "source": []
  },
  {
   "cell_type": "code",
   "execution_count": null,
   "id": "12d1925c-a35b-497e-b257-bba5ff9533a8",
   "metadata": {},
   "outputs": [],
   "source": []
  },
  {
   "cell_type": "code",
   "execution_count": 12,
   "id": "efe76f0e-55ad-4ed7-bd23-1f6770008d55",
   "metadata": {},
   "outputs": [],
   "source": [
    "# Getting current dat and time\n",
    "now = dt.datetime.now()\n",
    "\n",
    "# Format as a string (year-month-day hour:minute:second)\n",
    "string_now = now.strftime('%Y%m%d_%H%M%S')"
   ]
  },
  {
   "cell_type": "code",
   "execution_count": 17,
   "id": "9e4fa271-c93a-47ee-9d35-3666a1bbe4d4",
   "metadata": {},
   "outputs": [],
   "source": [
    "# File path to orginal data\n",
    "path = (r'C:\\Users\\katie\\Documents\\FofData-assessment\\datasets\\cao_data/cao2021_' + string_now + '.html')"
   ]
  },
  {
   "cell_type": "markdown",
   "id": "5cdf71c8-b429-4f1f-9621-3643190e652d",
   "metadata": {},
   "source": [
    "### Webserver Error\n",
    "\n",
    "***"
   ]
  },
  {
   "cell_type": "markdown",
   "id": "4eec4f37-ae3a-4c08-b82d-d6b27b2d5dcb",
   "metadata": {},
   "source": [
    "Webserver error - server says decode as:\n",
    "\n",
    "    Content-Type: text/html; charset=iso-8859-1\n",
    "However, one line uses \\x96 which isn't defined in iso-8859-1. \n",
    "\n",
    "Therefore, a similar decoding standard cp1252 was used. It is similar but inculdes \\x96"
   ]
  },
  {
   "cell_type": "code",
   "execution_count": 18,
   "id": "15f9b238-85a3-45b7-8723-c52d61a57768",
   "metadata": {},
   "outputs": [],
   "source": [
    "# Fixing the webserves wrong encoding\n",
    "orignal_encoding = response.encoding\n",
    "\n",
    "# Changing to cp1252\n",
    "response.encoding = 'cp1252'"
   ]
  },
  {
   "cell_type": "code",
   "execution_count": 19,
   "id": "77b2b09d-c342-4a8c-9244-dac115ec5cad",
   "metadata": {},
   "outputs": [
    {
     "ename": "FileNotFoundError",
     "evalue": "[Errno 2] No such file or directory: 'C:\\\\Users\\\\katie\\\\Documents\\\\FofData-assessment\\\\datasets\\\\cao_data/cao2021_20211107_215405.html'",
     "output_type": "error",
     "traceback": [
      "\u001b[1;31m---------------------------------------------------------------------------\u001b[0m",
      "\u001b[1;31mFileNotFoundError\u001b[0m                         Traceback (most recent call last)",
      "\u001b[1;32m~\\AppData\\Local\\Temp/ipykernel_7788/2249574289.py\u001b[0m in \u001b[0;36m<module>\u001b[1;34m\u001b[0m\n\u001b[0;32m      1\u001b[0m \u001b[1;31m# Saving the orginal html file.\u001b[0m\u001b[1;33m\u001b[0m\u001b[1;33m\u001b[0m\u001b[1;33m\u001b[0m\u001b[0m\n\u001b[1;32m----> 2\u001b[1;33m \u001b[1;32mwith\u001b[0m \u001b[0mopen\u001b[0m\u001b[1;33m(\u001b[0m\u001b[0mpath\u001b[0m\u001b[1;33m,\u001b[0m \u001b[1;34m'w'\u001b[0m\u001b[1;33m)\u001b[0m \u001b[1;32mas\u001b[0m \u001b[0mf\u001b[0m\u001b[1;33m:\u001b[0m \u001b[1;31m# Opening path in write mode\u001b[0m\u001b[1;33m\u001b[0m\u001b[1;33m\u001b[0m\u001b[0m\n\u001b[0m\u001b[0;32m      3\u001b[0m     \u001b[0mf\u001b[0m\u001b[1;33m.\u001b[0m\u001b[0mwrite\u001b[0m\u001b[1;33m(\u001b[0m\u001b[0mresponse\u001b[0m\u001b[1;33m.\u001b[0m\u001b[0mtext\u001b[0m\u001b[1;33m)\u001b[0m\u001b[1;33m\u001b[0m\u001b[1;33m\u001b[0m\u001b[0m\n",
      "\u001b[1;31mFileNotFoundError\u001b[0m: [Errno 2] No such file or directory: 'C:\\\\Users\\\\katie\\\\Documents\\\\FofData-assessment\\\\datasets\\\\cao_data/cao2021_20211107_215405.html'"
     ]
    }
   ],
   "source": [
    "# Saving the orginal html file.\n",
    "with open(path, 'w') as f: # Opening path in write mode\n",
    "    f.write(response.text)"
   ]
  },
  {
   "cell_type": "markdown",
   "id": "b1a18f57-b106-4840-ab14-7770b0a7d95b",
   "metadata": {
    "tags": []
   },
   "source": [
    "### Getting relevant data using Regular expressions\n",
    "\n",
    "***"
   ]
  },
  {
   "cell_type": "markdown",
   "id": "82d772ba-5ab3-4aba-aa8f-304c2b9091f3",
   "metadata": {
    "tags": []
   },
   "source": [
    "To get the relevant lines from the response request, we use a regular expression. It is more efficent that recalling the expression everytime."
   ]
  },
  {
   "cell_type": "code",
   "execution_count": 7,
   "id": "0da303cf-3803-4b56-814b-ef9c8ebd48a0",
   "metadata": {},
   "outputs": [],
   "source": [
    "# Complie regualr expression for any matching lines. \n",
    "re_course = re.compile(r'([A-Z]{2}[0-9]{3})  (.*)([0-9]{3})(\\*?) *') #r for raw data"
   ]
  },
  {
   "cell_type": "markdown",
   "id": "f1eb2df0-7ce6-4e9b-a495-793abca2a5ec",
   "metadata": {},
   "source": [
    "Loop through the response for matches "
   ]
  },
  {
   "cell_type": "code",
   "execution_count": 8,
   "id": "7e44b907-9525-4a07-9fc3-e558a92cda2d",
   "metadata": {},
   "outputs": [],
   "source": [
    "# Path to csv file\n",
    "path = 'cao_data\\cao2021_csv_' +  string_now + '.csv'"
   ]
  },
  {
   "cell_type": "code",
   "execution_count": 9,
   "id": "6852fd56-19f4-4a83-8b59-ca848dc68284",
   "metadata": {},
   "outputs": [
    {
     "ename": "FileNotFoundError",
     "evalue": "[Errno 2] No such file or directory: 'cao_data\\\\cao2021_csv_20211107_214759.csv'",
     "output_type": "error",
     "traceback": [
      "\u001b[1;31m---------------------------------------------------------------------------\u001b[0m",
      "\u001b[1;31mFileNotFoundError\u001b[0m                         Traceback (most recent call last)",
      "\u001b[1;32m~\\AppData\\Local\\Temp/ipykernel_7788/1152198396.py\u001b[0m in \u001b[0;36m<module>\u001b[1;34m\u001b[0m\n\u001b[0;32m      8\u001b[0m \u001b[1;33m\u001b[0m\u001b[0m\n\u001b[0;32m      9\u001b[0m \u001b[1;31m# Open the csv file for writing.\u001b[0m\u001b[1;33m\u001b[0m\u001b[1;33m\u001b[0m\u001b[1;33m\u001b[0m\u001b[0m\n\u001b[1;32m---> 10\u001b[1;33m \u001b[1;32mwith\u001b[0m \u001b[0mopen\u001b[0m\u001b[1;33m(\u001b[0m\u001b[0mpath\u001b[0m\u001b[1;33m,\u001b[0m \u001b[1;34m'w'\u001b[0m\u001b[1;33m)\u001b[0m \u001b[1;32mas\u001b[0m \u001b[0mf\u001b[0m\u001b[1;33m:\u001b[0m\u001b[1;33m\u001b[0m\u001b[1;33m\u001b[0m\u001b[0m\n\u001b[0m\u001b[0;32m     11\u001b[0m \u001b[1;31m# Open the csv file for writing.\u001b[0m\u001b[1;33m\u001b[0m\u001b[1;33m\u001b[0m\u001b[1;33m\u001b[0m\u001b[0m\n\u001b[0;32m     12\u001b[0m \u001b[1;31m#with open(path, 'w') as f:\u001b[0m\u001b[1;33m\u001b[0m\u001b[1;33m\u001b[0m\u001b[1;33m\u001b[0m\u001b[0m\n",
      "\u001b[1;31mFileNotFoundError\u001b[0m: [Errno 2] No such file or directory: 'cao_data\\\\cao2021_csv_20211107_214759.csv'"
     ]
    }
   ],
   "source": [
    "# Keeping track of the number of courses\n",
    "no_lines = 0\n",
    "\n",
    "path = 'cao_data\\cao2021_csv_' + string_now + '.csv'\n",
    "\n",
    "# Keep track of how many courses we process.\n",
    "no_lines = 0\n",
    "\n",
    "# Open the csv file for writing.\n",
    "with open(path, 'w') as f:\n",
    "# Open the csv file for writing.\n",
    "#with open(path, 'w') as f:\n",
    "    # Loop through lines of the response.\n",
    "    for line in response.iter_lines():\n",
    "            # Decode the line, using the wrong encoding!\n",
    "            dline = line.decode('cp1252')\n",
    "            # Match only the lines representing courses.\n",
    "            if re_course.fullmatch(dline):\n",
    "                # Add one to the lines counter.\n",
    "                no_lines = no_lines + 1\n",
    "                csv_version = re_course.sub(r'\\1,\\2,\\3,\\4', dline) # Getting relevant parts for lines which match\n",
    "                #print(csv_version) # Print CSV style\n",
    "                f.write(csv_version + '/n')\n",
    "\n",
    "        # Number of courses matched\n",
    "print(f'Total number of lines matched: {no_lines}.')\n",
    "    "
   ]
  },
  {
   "cell_type": "code",
   "execution_count": null,
   "id": "154b7326-dbc4-4293-834f-fbbe31ae6b84",
   "metadata": {},
   "outputs": [],
   "source": []
  },
  {
   "cell_type": "markdown",
   "id": "004236b0-90a7-4b88-9d92-0dbe3ea91072",
   "metadata": {},
   "source": [
    "## References"
   ]
  },
  {
   "cell_type": "code",
   "execution_count": null,
   "id": "23df8f7f-94e9-4be5-866a-c1f261e3f30a",
   "metadata": {},
   "outputs": [],
   "source": []
  },
  {
   "cell_type": "markdown",
   "id": "04e20723-e2aa-4bdb-b20f-35438621d47b",
   "metadata": {},
   "source": [
    "## End"
   ]
  },
  {
   "cell_type": "code",
   "execution_count": null,
   "id": "f6f2d5f8-0dc1-4c35-9e21-433a8718f13b",
   "metadata": {},
   "outputs": [],
   "source": []
  }
 ],
 "metadata": {
  "kernelspec": {
   "display_name": "Python 3 (ipykernel)",
   "language": "python",
   "name": "python3"
  },
  "language_info": {
   "codemirror_mode": {
    "name": "ipython",
    "version": 3
   },
   "file_extension": ".py",
   "mimetype": "text/x-python",
   "name": "python",
   "nbconvert_exporter": "python",
   "pygments_lexer": "ipython3",
   "version": "3.8.11"
  }
 },
 "nbformat": 4,
 "nbformat_minor": 5
}
