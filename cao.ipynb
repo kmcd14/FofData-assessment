{
 "cells": [
  {
   "cell_type": "markdown",
   "id": "2c0078d9-c75c-4670-be55-be4a97fe7a97",
   "metadata": {},
   "source": [
    "***\n",
    "# Fundamentals of Data Analytics Assessment - CAO Points Analysis\n",
    "\n",
    "***"
   ]
  },
  {
   "cell_type": "markdown",
   "id": "02294eb2-979e-4976-a498-476091a41d1c",
   "metadata": {},
   "source": [
    "<br>"
   ]
  },
  {
   "cell_type": "markdown",
   "id": "d63554fa-55df-4b77-a008-c68aafa8e1ab",
   "metadata": {},
   "source": [
    "<br>"
   ]
  },
  {
   "cell_type": "markdown",
   "id": "bad35837-a52c-4257-acea-af0c8d52ddf7",
   "metadata": {},
   "source": [
    "![img](images/cao_logo.png)"
   ]
  },
  {
   "cell_type": "markdown",
   "id": "37ffe398-fc0f-4b0c-9395-cb1ef9f5fb60",
   "metadata": {},
   "source": [
    "<br>"
   ]
  },
  {
   "cell_type": "markdown",
   "id": "6eea91ab-a2ce-4cd5-bde8-31324275b29f",
   "metadata": {},
   "source": [
    "<br>"
   ]
  },
  {
   "cell_type": "markdown",
   "id": "5be800b5-254a-420f-9dfd-d8b2fdf7694d",
   "metadata": {},
   "source": [
    "Students who wish to study at third level in the Republic of Ireland apply to colleges and universities through the Central Applications Office (CAO) [1]. <i>\"The purpose of the Central Applications Office (CAO) is to process centrally applications for undergraduate courses in Irish Higher Education Institutions\"</i> [2].\n",
    " \n",
    "<i>“The CAO awards points to students based on their achievements in the Leaving Certificate examination. A student's points are calculated according to these tables (see below), counting their best six subjects only”</i> [3]. A student can study a subject at higher or ordinary level - more points are awarded for higher level papers. Since 2012, the maximum number of points a student can receive is 625 points [3]."
   ]
  },
  {
   "cell_type": "markdown",
   "id": "ef2fc72d-de2e-4f2a-8f4f-35bf4d44f3ca",
   "metadata": {},
   "source": [
    "<br>"
   ]
  },
  {
   "cell_type": "markdown",
   "id": "e4bab817-3790-4c98-b7f3-3d58823b329d",
   "metadata": {},
   "source": [
    "<br>"
   ]
  },
  {
   "cell_type": "markdown",
   "id": "1df013cc-743b-40ae-b8eb-45f10665f9f4",
   "metadata": {},
   "source": [
    "![img](images/points.jpg)"
   ]
  },
  {
   "cell_type": "markdown",
   "id": "1069f164-1c49-455d-9d57-b733c2ee36b1",
   "metadata": {},
   "source": [
    "<br>"
   ]
  },
  {
   "cell_type": "markdown",
   "id": "72d612cf-7f62-4332-b08c-0ddf29369c30",
   "metadata": {},
   "source": [
    "The entry points needed for a course is dependent on demand. This means the points requirements for a course varies year on year.  "
   ]
  },
  {
   "cell_type": "markdown",
   "id": "6a64e0dd-615e-403f-8c60-cdc3bb5b6cc9",
   "metadata": {},
   "source": [
    "<br>"
   ]
  },
  {
   "cell_type": "markdown",
   "id": "aeb202ca-f80e-453f-85be-3ee71482e53a",
   "metadata": {},
   "source": [
    "This notebook will focus on comparing the CAO points for 2019, 2020 and 2021 and provide an overview of how to load the points from the CAO website into a `pandas` dataframe."
   ]
  },
  {
   "cell_type": "markdown",
   "id": "cb71cf6c-c7e8-4cdc-98ad-a89e58d6b309",
   "metadata": {},
   "source": [
    "<br>"
   ]
  },
  {
   "cell_type": "markdown",
   "id": "4e4ba9d5-d304-422b-b9f3-8ff9fc85daf5",
   "metadata": {},
   "source": [
    "***\n",
    "***"
   ]
  },
  {
   "cell_type": "markdown",
   "id": "d2fbf056-1af5-4117-9bc5-21b31d9491bb",
   "metadata": {},
   "source": [
    "<br>"
   ]
  },
  {
   "cell_type": "markdown",
   "id": "245a30cf-2681-4834-90e2-e1e60924a54b",
   "metadata": {
    "tags": []
   },
   "source": [
    "### Importing Libraries "
   ]
  },
  {
   "cell_type": "markdown",
   "id": "5e8fa903-bcca-4b9a-86a3-7f960e02c81c",
   "metadata": {},
   "source": [
    "<br>"
   ]
  },
  {
   "cell_type": "code",
   "execution_count": 1,
   "id": "3c7a5527-7104-4d1f-b55a-d8e73c8ff791",
   "metadata": {},
   "outputs": [],
   "source": [
    "# Convenient HTTP requests.\n",
    "import requests as rq\n",
    "\n",
    "# Regular expressions.\n",
    "import re\n",
    "\n",
    "# Dates and times.\n",
    "import datetime as dt\n",
    "\n",
    "# Data frames.\n",
    "import pandas as pd\n",
    "\n",
    "# Working with data\n",
    "import numpy as np\n",
    "\n",
    "# For downloading.\n",
    "import urllib.request as urlrq\n",
    "\n",
    "# For scraping data from pdf\n",
    "import camelot\n",
    "\n",
    "# Unzipping folders \n",
    "from zipfile import ZipFile\n",
    "\n",
    "# To merge csv files into one\n",
    "import os, glob\n",
    "\n",
    "# Common string operations\n",
    "import string as str"
   ]
  },
  {
   "cell_type": "markdown",
   "id": "9b33be11-d3f3-4f66-bc40-6ece30d25b41",
   "metadata": {},
   "source": [
    "<br>"
   ]
  },
  {
   "cell_type": "code",
   "execution_count": 2,
   "id": "6e0f32fe-c26c-4530-93ce-facefa26e33b",
   "metadata": {
    "tags": []
   },
   "outputs": [],
   "source": [
    "# Visualisation\n",
    "import matplotlib.pyplot as plt\n",
    "\n",
    "# Visualisation\n",
    "import seaborn as sns\n",
    "\n",
    "# Standard plot size.\n",
    "plt.rcParams['figure.figsize'] = (15, 10)\n",
    "\n",
    "# Selecting a colour scheme.\n",
    "plt.style.use('ggplot')\n",
    "\n",
    "# Configures matplotlib to show figures embedded in the notebook. \n",
    "%matplotlib inline"
   ]
  },
  {
   "cell_type": "markdown",
   "id": "b89f4df0-5c31-411e-be5d-d8b8c96b9e6e",
   "metadata": {},
   "source": [
    "<br>"
   ]
  },
  {
   "cell_type": "code",
   "execution_count": 3,
   "id": "395755db-d99d-4659-9050-02420fe1e734",
   "metadata": {},
   "outputs": [],
   "source": [
    "# Get the current date and time.\n",
    "now = dt.datetime.now()\n",
    "\n",
    "# Format as a string.\n",
    "nowstr = now.strftime('%Y%m%d_%H%M%S')"
   ]
  },
  {
   "cell_type": "markdown",
   "id": "ba5cf470-c57f-476b-a2e4-6644e029092c",
   "metadata": {},
   "source": [
    "<br>"
   ]
  },
  {
   "cell_type": "markdown",
   "id": "6240a63f-0fbe-4916-93db-7bfa63d8b64b",
   "metadata": {},
   "source": [
    "<br>"
   ]
  },
  {
   "cell_type": "markdown",
   "id": "840fc654-02a1-4f77-b94e-d7a6fc585cb8",
   "metadata": {},
   "source": [
    "***\n",
    "****"
   ]
  },
  {
   "cell_type": "markdown",
   "id": "6fb4b446-1db2-43f4-8501-b44e58f80670",
   "metadata": {},
   "source": [
    "<br>"
   ]
  },
  {
   "cell_type": "markdown",
   "id": "2aa5078d-8e64-4db6-a5e3-3db67e072754",
   "metadata": {
    "tags": []
   },
   "source": [
    "## 2021 CAO Points\n"
   ]
  },
  {
   "cell_type": "markdown",
   "id": "d4c6ded2-751a-4e24-a35d-5c69988f0ef9",
   "metadata": {},
   "source": [
    "<br>"
   ]
  },
  {
   "cell_type": "markdown",
   "id": "1cc0235a-1e4f-46b0-9fa3-8377dbd737c1",
   "metadata": {},
   "source": [
    "***"
   ]
  },
  {
   "cell_type": "markdown",
   "id": "27285d69-5edd-48c9-a4d3-a6bf41e19258",
   "metadata": {},
   "source": [
    "<br>"
   ]
  },
  {
   "cell_type": "markdown",
   "id": "1e73ef99-f889-4de6-997e-ae24e02beeda",
   "metadata": {
    "tags": []
   },
   "source": [
    "### Level 8  \n",
    "[Link to 2021 CAO points (Level 8)]('http://www2.cao.ie/points/l8.php')"
   ]
  },
  {
   "cell_type": "markdown",
   "id": "974f1721-c387-4266-b44a-81c3a45dda5f",
   "metadata": {},
   "source": [
    "<br>"
   ]
  },
  {
   "cell_type": "markdown",
   "id": "d6b2b713-f69f-4fae-824a-be4bb3d70b9e",
   "metadata": {},
   "source": [
    "<br>"
   ]
  },
  {
   "cell_type": "markdown",
   "id": "e0d124e8-c8f9-4ae8-b124-e59947fa3ea9",
   "metadata": {},
   "source": [
    "As the 2021 points are stored as a html file on the CAO website, we must make a request to the server they are stored on. We can easily do this by using the python requests package which makes HTTP requests easily and simple and \"human friendly\". <i>\"The HTTP request returns a Response Object with all the response data (content, encoding, status, etc)\" </i>[4]."
   ]
  },
  {
   "cell_type": "markdown",
   "id": "1fa31644-6478-4f0c-8642-e0b2618c557d",
   "metadata": {},
   "source": [
    "<br>"
   ]
  },
  {
   "cell_type": "markdown",
   "id": "166bd36a-0ef3-4abf-bf9b-88e3cb4b9aee",
   "metadata": {},
   "source": [
    "<br>"
   ]
  },
  {
   "cell_type": "markdown",
   "id": "a3d2866a-e216-4c54-8412-b7c36922e67c",
   "metadata": {},
   "source": [
    "#### Server Request"
   ]
  },
  {
   "cell_type": "markdown",
   "id": "ade64918-8be0-499c-b40a-b11d9b7c09f0",
   "metadata": {},
   "source": [
    "<br>"
   ]
  },
  {
   "cell_type": "code",
   "execution_count": 4,
   "id": "fdeaf161-a1e7-48cd-9150-3c5cadbf5dcc",
   "metadata": {},
   "outputs": [
    {
     "data": {
      "text/plain": [
       "<Response [200]>"
      ]
     },
     "execution_count": 4,
     "metadata": {},
     "output_type": "execute_result"
    }
   ],
   "source": [
    "# Get the CAO points URL\n",
    "resp = rq.get('http://www2.cao.ie/points/l8.php')\n",
    "\n",
    "# 200 = ok. 404 = error: not found\n",
    "resp"
   ]
  },
  {
   "cell_type": "markdown",
   "id": "fb9649f7-16b5-4c73-9ff9-175b4775357a",
   "metadata": {},
   "source": [
    "<br>"
   ]
  },
  {
   "cell_type": "markdown",
   "id": "4cd80dc0-381a-4b99-9353-96ff01a9b338",
   "metadata": {},
   "source": [
    "<br>"
   ]
  },
  {
   "cell_type": "markdown",
   "id": "c3621bc2-7982-480a-a702-2da6b4774b55",
   "metadata": {},
   "source": [
    "#### Save Orignal Dataset\n"
   ]
  },
  {
   "cell_type": "markdown",
   "id": "58e28297-ccd7-419a-a6d6-ab68d3c0e543",
   "metadata": {},
   "source": [
    "<br>"
   ]
  },
  {
   "cell_type": "markdown",
   "id": "07de229f-7ba3-43ad-a2ce-56996874e569",
   "metadata": {},
   "source": [
    "To save the original `HTML` file from the request we need to create a path in our repository. Using the datetime module we can convert the response request date to the day the request was made."
   ]
  },
  {
   "cell_type": "markdown",
   "id": "51c5751c-3804-46b3-bfaf-3c2cf397b331",
   "metadata": {},
   "source": [
    "<br>"
   ]
  },
  {
   "cell_type": "code",
   "execution_count": 5,
   "id": "996fea51-ab05-498d-a2bd-837027f3d767",
   "metadata": {},
   "outputs": [],
   "source": [
    "# Create a file path for the original data.\n",
    "pathhtml = 'datasets/cao2021_' + nowstr + '.html'"
   ]
  },
  {
   "cell_type": "markdown",
   "id": "cf6ebf8d-6a79-4307-a7f7-911dfa56863f",
   "metadata": {},
   "source": [
    "<br>"
   ]
  },
  {
   "cell_type": "markdown",
   "id": "e9ed88f8-b296-4916-b481-872d43de0060",
   "metadata": {},
   "source": [
    "<br>"
   ]
  },
  {
   "cell_type": "markdown",
   "id": "5cdf71c8-b429-4f1f-9621-3643190e652d",
   "metadata": {
    "tags": []
   },
   "source": [
    "### Webserver Error\n"
   ]
  },
  {
   "cell_type": "markdown",
   "id": "df377b24-31f0-423d-a081-9ad8b8493425",
   "metadata": {},
   "source": [
    "<br>"
   ]
  },
  {
   "cell_type": "markdown",
   "id": "6edeba3b-bfc1-4a4b-9be5-8058c6931ace",
   "metadata": {},
   "source": [
    "The CAO website throws an error - it tells us to decode in `iso-8859-1` but, this isn't possible as some of the lines includes` \\x96 `- a fada - which isn't recognised in `iso-8859-1`. To combat this, we use the decoding standard `cp1252` which includes `\\x96` which allows the fada to be understood. "
   ]
  },
  {
   "cell_type": "markdown",
   "id": "91acdea8-8c39-4e60-b861-b631b0e6f90c",
   "metadata": {},
   "source": [
    "<br>"
   ]
  },
  {
   "cell_type": "markdown",
   "id": "4eec4f37-ae3a-4c08-b82d-d6b27b2d5dcb",
   "metadata": {
    "tags": []
   },
   "source": [
    "Webserver error - server says decode as:\n",
    "\n",
    "    Content-Type: text/html; charset=iso-8859-1\n",
    "    \n",
    "However, one line uses `\\x96` which isn't defined in `iso-8859-1`. \n",
    "\n",
    "Therefore, a similar decoding standard `cp1252` was used. It is similar but includes  `\\x96`"
   ]
  },
  {
   "cell_type": "markdown",
   "id": "5bedcd32-d8a4-4875-9838-1a68fdb8cbbb",
   "metadata": {},
   "source": [
    "<br>"
   ]
  },
  {
   "cell_type": "markdown",
   "id": "6f914425-bd48-4f60-b408-b0ea9265c756",
   "metadata": {},
   "source": [
    "<br>"
   ]
  },
  {
   "cell_type": "code",
   "execution_count": 6,
   "id": "3ed4cd4a-fe33-44d4-af33-6ad0db290c37",
   "metadata": {},
   "outputs": [],
   "source": [
    "# Fixing the webserves wrong encoding\n",
    "original_encoding = resp.encoding\n",
    "\n",
    "# Changing to cp1252\n",
    "resp.encoding = 'cp1252'"
   ]
  },
  {
   "cell_type": "markdown",
   "id": "c9a538ec-57bf-4a23-9257-ecab6226bb8a",
   "metadata": {},
   "source": [
    "<br>"
   ]
  },
  {
   "cell_type": "code",
   "execution_count": 7,
   "id": "9e13c1cb-bc41-4cf2-b27e-f5963ba7fa89",
   "metadata": {
    "tags": []
   },
   "outputs": [],
   "source": [
    "# Save the original html file.\n",
    "with open(pathhtml, 'w') as f: # Opening path in write mode\n",
    "    f.write(resp.text)"
   ]
  },
  {
   "cell_type": "markdown",
   "id": "d15e34bd-881b-40e5-93d5-94102983d4d2",
   "metadata": {},
   "source": [
    "<br>"
   ]
  },
  {
   "cell_type": "markdown",
   "id": "2213eddf-fe90-4f3d-957b-9bc3e8f3a37f",
   "metadata": {},
   "source": [
    "<br>"
   ]
  },
  {
   "cell_type": "markdown",
   "id": "d453fb67-90fd-4b9a-b270-7df035d6ec2d",
   "metadata": {},
   "source": [
    "<br>"
   ]
  },
  {
   "cell_type": "markdown",
   "id": "b1a18f57-b106-4840-ab14-7770b0a7d95b",
   "metadata": {
    "tags": []
   },
   "source": [
    "### Getting The Data\n"
   ]
  },
  {
   "cell_type": "markdown",
   "id": "7da576ae-2c98-49e9-82cf-ec37b965a297",
   "metadata": {},
   "source": [
    "[Link To Regular Expression Documentation]('https://docs.python.org/3/library/re.html')"
   ]
  },
  {
   "cell_type": "markdown",
   "id": "429662e9-3764-47e7-8b94-9d7c9f8c19a0",
   "metadata": {},
   "source": [
    "<br>"
   ]
  },
  {
   "cell_type": "markdown",
   "id": "82d772ba-5ab3-4aba-aa8f-304c2b9091f3",
   "metadata": {},
   "source": [
    "To get the relevant lines from the response request, we employ a regular expression. A regular expression <i>\"...is a sequence of characters that specifies a search pattern\"</i> [5]. You can think of them as a search and find function. We use a regular expression as it more efficient than constantly recalling an expression over and over."
   ]
  },
  {
   "cell_type": "markdown",
   "id": "dfa0d8ba-41e9-4cb2-947e-c53b912b6069",
   "metadata": {},
   "source": [
    "<br>"
   ]
  },
  {
   "cell_type": "code",
   "execution_count": 8,
   "id": "bbf9f96c-2bfb-4802-a503-c27dd6ee1e0a",
   "metadata": {},
   "outputs": [],
   "source": [
    "# Compile regular expression for matching lines.\n",
    "re_course = re.compile(r'([A-Z]{2}[0-9]{3})(.*)') # r for raw data"
   ]
  },
  {
   "cell_type": "markdown",
   "id": "7164c276-7e42-4917-9271-dd809da88b7e",
   "metadata": {},
   "source": [
    "<br>"
   ]
  },
  {
   "cell_type": "markdown",
   "id": "245cd976-acc6-4196-9385-c4487f610ead",
   "metadata": {},
   "source": [
    "<br>"
   ]
  },
  {
   "cell_type": "markdown",
   "id": "f1eb2df0-7ce6-4e9b-a495-793abca2a5ec",
   "metadata": {},
   "source": [
    "We will then use this expression to loop through the response from earlier for any matches of the regular expression and save these matches in a CSV file. "
   ]
  },
  {
   "cell_type": "markdown",
   "id": "e4998823-be2e-44a6-a9d8-5ec6942c50b3",
   "metadata": {},
   "source": [
    "<br>"
   ]
  },
  {
   "cell_type": "code",
   "execution_count": 9,
   "id": "f8899bd5-672c-4474-97a1-493d7fa9031f",
   "metadata": {},
   "outputs": [],
   "source": [
    "# Path to csv file\n",
    "path2021 = 'datasets/cao2021_csv_' + nowstr + '.csv'"
   ]
  },
  {
   "cell_type": "markdown",
   "id": "3188aa0b-17ef-404d-99a9-946076f21c75",
   "metadata": {},
   "source": [
    "<br>"
   ]
  },
  {
   "cell_type": "code",
   "execution_count": 10,
   "id": "06aa7072-68f2-4d2d-9dff-1c950b284e5c",
   "metadata": {},
   "outputs": [
    {
     "name": "stdout",
     "output_type": "stream",
     "text": [
      "Total number of lines is 949.\n"
     ]
    }
   ],
   "source": [
    "# Tracking number of courses matched\n",
    "no_lines = 0\n",
    "\n",
    "\n",
    "\n",
    "# Open the csv file for writing.\n",
    "with open(path2021, 'w') as f:\n",
    "    # Write a header row.\n",
    "    f.write(','.join(['code', 'title', 'pointsR1', 'pointsR2']) + '\\n')\n",
    "    # Loop through lines of the response.\n",
    "    for line in resp.iter_lines():\n",
    "        # Decode the line, using the wrong encoding!\n",
    "        dline = line.decode('cp1252')\n",
    "        # Match only the lines representing courses.\n",
    "        if re_course.fullmatch(dline):\n",
    "            # Add one to the lines counter.\n",
    "            no_lines = no_lines + 1\n",
    "            # The course code.\n",
    "            course_code = dline[:5] # i.e first 5 characters\n",
    "            # The course title.\n",
    "            course_title = dline[7:57].strip() # Strip gets rid of whitespace\n",
    "            # Round one points.\n",
    "            course_points = re.split(' +', dline[60:]) # split into substringd from index 60 \n",
    "            if len(course_points) != 2: # This is because last course has an extra substring\n",
    "                course_points = course_points[:2]\n",
    "            # Join the fields using a comma.\n",
    "            linesplit = [course_code, course_title, course_points[0], course_points[1]]\n",
    "            # Rejoin the substrings with commas in between.\n",
    "            f.write(','.join(linesplit) + '\\n')\n",
    "\n",
    "            \n",
    "            \n",
    "            \n",
    "            \n",
    "# Number of courses matched\n",
    "print(f\"Total number of lines is {no_lines}.\")"
   ]
  },
  {
   "cell_type": "markdown",
   "id": "c39f3281-2ae8-4ac1-b0dd-636e184f7897",
   "metadata": {},
   "source": [
    "<br>"
   ]
  },
  {
   "cell_type": "markdown",
   "id": "1216a7ae-d58e-442c-8bee-c3c9d65d69b0",
   "metadata": {},
   "source": [
    "<br>"
   ]
  },
  {
   "cell_type": "markdown",
   "id": "0e07b846-3906-4e6d-80d8-b7f8c3762160",
   "metadata": {},
   "source": [
    "<br>"
   ]
  },
  {
   "cell_type": "markdown",
   "id": "83cad955-40cf-4be2-bfae-368faa0eea59",
   "metadata": {},
   "source": [
    "<br>"
   ]
  },
  {
   "cell_type": "code",
   "execution_count": 11,
   "id": "bdf89fe4-174a-459a-b218-a56e63a72ff5",
   "metadata": {},
   "outputs": [],
   "source": [
    "# Reading dataframe\n",
    "df2021 = pd.read_csv(path2021, encoding='cp1252')"
   ]
  },
  {
   "cell_type": "code",
   "execution_count": 12,
   "id": "faeba46f-1781-4df2-8e88-4bdf0fb75ae5",
   "metadata": {},
   "outputs": [
    {
     "data": {
      "text/html": [
       "<div>\n",
       "<style scoped>\n",
       "    .dataframe tbody tr th:only-of-type {\n",
       "        vertical-align: middle;\n",
       "    }\n",
       "\n",
       "    .dataframe tbody tr th {\n",
       "        vertical-align: top;\n",
       "    }\n",
       "\n",
       "    .dataframe thead th {\n",
       "        text-align: right;\n",
       "    }\n",
       "</style>\n",
       "<table border=\"1\" class=\"dataframe\">\n",
       "  <thead>\n",
       "    <tr style=\"text-align: right;\">\n",
       "      <th></th>\n",
       "      <th>code</th>\n",
       "      <th>title</th>\n",
       "      <th>pointsR1</th>\n",
       "      <th>pointsR2</th>\n",
       "    </tr>\n",
       "  </thead>\n",
       "  <tbody>\n",
       "    <tr>\n",
       "      <th>0</th>\n",
       "      <td>AL801</td>\n",
       "      <td>Software Design for Virtual Reality and Gaming</td>\n",
       "      <td>300</td>\n",
       "      <td>NaN</td>\n",
       "    </tr>\n",
       "    <tr>\n",
       "      <th>1</th>\n",
       "      <td>AL802</td>\n",
       "      <td>Software Design in Artificial Intelligence for...</td>\n",
       "      <td>313</td>\n",
       "      <td>NaN</td>\n",
       "    </tr>\n",
       "    <tr>\n",
       "      <th>2</th>\n",
       "      <td>AL803</td>\n",
       "      <td>Software Design for Mobile Apps and Connected ...</td>\n",
       "      <td>350</td>\n",
       "      <td>NaN</td>\n",
       "    </tr>\n",
       "    <tr>\n",
       "      <th>3</th>\n",
       "      <td>AL805</td>\n",
       "      <td>Computer Engineering for Network Infrastructure</td>\n",
       "      <td>321</td>\n",
       "      <td>NaN</td>\n",
       "    </tr>\n",
       "    <tr>\n",
       "      <th>4</th>\n",
       "      <td>AL810</td>\n",
       "      <td>Quantity Surveying</td>\n",
       "      <td>328</td>\n",
       "      <td>NaN</td>\n",
       "    </tr>\n",
       "    <tr>\n",
       "      <th>...</th>\n",
       "      <td>...</td>\n",
       "      <td>...</td>\n",
       "      <td>...</td>\n",
       "      <td>...</td>\n",
       "    </tr>\n",
       "    <tr>\n",
       "      <th>944</th>\n",
       "      <td>WD211</td>\n",
       "      <td>Creative Computing</td>\n",
       "      <td>270</td>\n",
       "      <td>NaN</td>\n",
       "    </tr>\n",
       "    <tr>\n",
       "      <th>945</th>\n",
       "      <td>WD212</td>\n",
       "      <td>Recreation and Sport Management</td>\n",
       "      <td>262</td>\n",
       "      <td>NaN</td>\n",
       "    </tr>\n",
       "    <tr>\n",
       "      <th>946</th>\n",
       "      <td>WD230</td>\n",
       "      <td>Mechanical and Manufacturing Engineering</td>\n",
       "      <td>230</td>\n",
       "      <td>230</td>\n",
       "    </tr>\n",
       "    <tr>\n",
       "      <th>947</th>\n",
       "      <td>WD231</td>\n",
       "      <td>Early Childhood Care and Education</td>\n",
       "      <td>266</td>\n",
       "      <td>NaN</td>\n",
       "    </tr>\n",
       "    <tr>\n",
       "      <th>948</th>\n",
       "      <td>WD232</td>\n",
       "      <td>Business Information Systems</td>\n",
       "      <td>261</td>\n",
       "      <td>261</td>\n",
       "    </tr>\n",
       "  </tbody>\n",
       "</table>\n",
       "<p>949 rows × 4 columns</p>\n",
       "</div>"
      ],
      "text/plain": [
       "      code                                              title pointsR1  \\\n",
       "0    AL801     Software Design for Virtual Reality and Gaming      300   \n",
       "1    AL802  Software Design in Artificial Intelligence for...      313   \n",
       "2    AL803  Software Design for Mobile Apps and Connected ...      350   \n",
       "3    AL805    Computer Engineering for Network Infrastructure      321   \n",
       "4    AL810                                 Quantity Surveying      328   \n",
       "..     ...                                                ...      ...   \n",
       "944  WD211                                 Creative Computing      270   \n",
       "945  WD212                    Recreation and Sport Management      262   \n",
       "946  WD230           Mechanical and Manufacturing Engineering      230   \n",
       "947  WD231                 Early Childhood Care and Education      266   \n",
       "948  WD232                       Business Information Systems      261   \n",
       "\n",
       "    pointsR2  \n",
       "0        NaN  \n",
       "1        NaN  \n",
       "2        NaN  \n",
       "3        NaN  \n",
       "4        NaN  \n",
       "..       ...  \n",
       "944      NaN  \n",
       "945      NaN  \n",
       "946      230  \n",
       "947      NaN  \n",
       "948      261  \n",
       "\n",
       "[949 rows x 4 columns]"
      ]
     },
     "execution_count": 12,
     "metadata": {},
     "output_type": "execute_result"
    }
   ],
   "source": [
    "df2021"
   ]
  },
  {
   "cell_type": "markdown",
   "id": "383616b7-5390-4800-b65c-1aae713107fc",
   "metadata": {},
   "source": [
    "<br>"
   ]
  },
  {
   "cell_type": "markdown",
   "id": "ff526da2-87b2-4a81-8e7e-2990d905f4b7",
   "metadata": {},
   "source": [
    "<br>"
   ]
  },
  {
   "cell_type": "markdown",
   "id": "e0bc925c-9fa2-46f9-a1c5-072d04a99d78",
   "metadata": {},
   "source": [
    "As we know these are all level 8 courses, we will also insert a new column into the dataframe to show this."
   ]
  },
  {
   "cell_type": "markdown",
   "id": "59277e35-d59e-4232-9e70-fe7166ace82f",
   "metadata": {},
   "source": [
    "<br>"
   ]
  },
  {
   "cell_type": "markdown",
   "id": "5a343c01-e070-4274-b7f1-01ff4c7f9a33",
   "metadata": {},
   "source": [
    "<br>"
   ]
  },
  {
   "cell_type": "code",
   "execution_count": 13,
   "id": "d77614a8-ea9a-4529-87b2-f873eb2cd78d",
   "metadata": {},
   "outputs": [
    {
     "data": {
      "text/html": [
       "<div>\n",
       "<style scoped>\n",
       "    .dataframe tbody tr th:only-of-type {\n",
       "        vertical-align: middle;\n",
       "    }\n",
       "\n",
       "    .dataframe tbody tr th {\n",
       "        vertical-align: top;\n",
       "    }\n",
       "\n",
       "    .dataframe thead th {\n",
       "        text-align: right;\n",
       "    }\n",
       "</style>\n",
       "<table border=\"1\" class=\"dataframe\">\n",
       "  <thead>\n",
       "    <tr style=\"text-align: right;\">\n",
       "      <th></th>\n",
       "      <th>code</th>\n",
       "      <th>title</th>\n",
       "      <th>level</th>\n",
       "      <th>pointsR1</th>\n",
       "      <th>pointsR2</th>\n",
       "    </tr>\n",
       "  </thead>\n",
       "  <tbody>\n",
       "    <tr>\n",
       "      <th>0</th>\n",
       "      <td>AL801</td>\n",
       "      <td>Software Design for Virtual Reality and Gaming</td>\n",
       "      <td>8</td>\n",
       "      <td>300</td>\n",
       "      <td>NaN</td>\n",
       "    </tr>\n",
       "    <tr>\n",
       "      <th>1</th>\n",
       "      <td>AL802</td>\n",
       "      <td>Software Design in Artificial Intelligence for...</td>\n",
       "      <td>8</td>\n",
       "      <td>313</td>\n",
       "      <td>NaN</td>\n",
       "    </tr>\n",
       "    <tr>\n",
       "      <th>2</th>\n",
       "      <td>AL803</td>\n",
       "      <td>Software Design for Mobile Apps and Connected ...</td>\n",
       "      <td>8</td>\n",
       "      <td>350</td>\n",
       "      <td>NaN</td>\n",
       "    </tr>\n",
       "    <tr>\n",
       "      <th>3</th>\n",
       "      <td>AL805</td>\n",
       "      <td>Computer Engineering for Network Infrastructure</td>\n",
       "      <td>8</td>\n",
       "      <td>321</td>\n",
       "      <td>NaN</td>\n",
       "    </tr>\n",
       "    <tr>\n",
       "      <th>4</th>\n",
       "      <td>AL810</td>\n",
       "      <td>Quantity Surveying</td>\n",
       "      <td>8</td>\n",
       "      <td>328</td>\n",
       "      <td>NaN</td>\n",
       "    </tr>\n",
       "    <tr>\n",
       "      <th>...</th>\n",
       "      <td>...</td>\n",
       "      <td>...</td>\n",
       "      <td>...</td>\n",
       "      <td>...</td>\n",
       "      <td>...</td>\n",
       "    </tr>\n",
       "    <tr>\n",
       "      <th>944</th>\n",
       "      <td>WD211</td>\n",
       "      <td>Creative Computing</td>\n",
       "      <td>8</td>\n",
       "      <td>270</td>\n",
       "      <td>NaN</td>\n",
       "    </tr>\n",
       "    <tr>\n",
       "      <th>945</th>\n",
       "      <td>WD212</td>\n",
       "      <td>Recreation and Sport Management</td>\n",
       "      <td>8</td>\n",
       "      <td>262</td>\n",
       "      <td>NaN</td>\n",
       "    </tr>\n",
       "    <tr>\n",
       "      <th>946</th>\n",
       "      <td>WD230</td>\n",
       "      <td>Mechanical and Manufacturing Engineering</td>\n",
       "      <td>8</td>\n",
       "      <td>230</td>\n",
       "      <td>230</td>\n",
       "    </tr>\n",
       "    <tr>\n",
       "      <th>947</th>\n",
       "      <td>WD231</td>\n",
       "      <td>Early Childhood Care and Education</td>\n",
       "      <td>8</td>\n",
       "      <td>266</td>\n",
       "      <td>NaN</td>\n",
       "    </tr>\n",
       "    <tr>\n",
       "      <th>948</th>\n",
       "      <td>WD232</td>\n",
       "      <td>Business Information Systems</td>\n",
       "      <td>8</td>\n",
       "      <td>261</td>\n",
       "      <td>261</td>\n",
       "    </tr>\n",
       "  </tbody>\n",
       "</table>\n",
       "<p>949 rows × 5 columns</p>\n",
       "</div>"
      ],
      "text/plain": [
       "      code                                              title level pointsR1  \\\n",
       "0    AL801     Software Design for Virtual Reality and Gaming     8      300   \n",
       "1    AL802  Software Design in Artificial Intelligence for...     8      313   \n",
       "2    AL803  Software Design for Mobile Apps and Connected ...     8      350   \n",
       "3    AL805    Computer Engineering for Network Infrastructure     8      321   \n",
       "4    AL810                                 Quantity Surveying     8      328   \n",
       "..     ...                                                ...   ...      ...   \n",
       "944  WD211                                 Creative Computing     8      270   \n",
       "945  WD212                    Recreation and Sport Management     8      262   \n",
       "946  WD230           Mechanical and Manufacturing Engineering     8      230   \n",
       "947  WD231                 Early Childhood Care and Education     8      266   \n",
       "948  WD232                       Business Information Systems     8      261   \n",
       "\n",
       "    pointsR2  \n",
       "0        NaN  \n",
       "1        NaN  \n",
       "2        NaN  \n",
       "3        NaN  \n",
       "4        NaN  \n",
       "..       ...  \n",
       "944      NaN  \n",
       "945      NaN  \n",
       "946      230  \n",
       "947      NaN  \n",
       "948      261  \n",
       "\n",
       "[949 rows x 5 columns]"
      ]
     },
     "execution_count": 13,
     "metadata": {},
     "output_type": "execute_result"
    }
   ],
   "source": [
    "# Creating a new column at the second index with the value 8\n",
    "df2021.insert(2, 'level', '8')\n",
    "df2021"
   ]
  },
  {
   "cell_type": "markdown",
   "id": "e8ac8746-8313-414b-b859-bc45eeb5e9f9",
   "metadata": {},
   "source": [
    "<br>"
   ]
  },
  {
   "cell_type": "markdown",
   "id": "f98a4e99-d6a4-412a-8ec3-25f575a79046",
   "metadata": {},
   "source": [
    "<br>"
   ]
  },
  {
   "cell_type": "markdown",
   "id": "cc5b8e3f-e03e-4853-8956-ee011fa7963d",
   "metadata": {},
   "source": [
    "<br>"
   ]
  },
  {
   "cell_type": "markdown",
   "id": "7c3da752-a60c-44d6-a240-708bc1be83b6",
   "metadata": {},
   "source": [
    "***"
   ]
  },
  {
   "cell_type": "markdown",
   "id": "6b409506-5c4c-493b-aa4c-7d03a7f9b1a9",
   "metadata": {},
   "source": [
    "<br>"
   ]
  },
  {
   "cell_type": "markdown",
   "id": "1aab34a7-c8c5-4cba-9eee-7ef7aa6b077c",
   "metadata": {},
   "source": [
    "## Level 6/7 Courses\n",
    "\n",
    "[Link to 2021 level 6 & 7 Courses](http://www2.cao.ie/points/l76.php)"
   ]
  },
  {
   "cell_type": "markdown",
   "id": "b3146e6c-25c5-434c-89d9-d1d97ecde758",
   "metadata": {},
   "source": [
    "<br>"
   ]
  },
  {
   "cell_type": "markdown",
   "id": "6b5dc59e-95ca-4614-9d49-9c1766fabf33",
   "metadata": {},
   "source": [
    "To retrieve the 2021 level 6 and 7 courses we repeat this process."
   ]
  },
  {
   "cell_type": "markdown",
   "id": "f9319905-d530-4899-b2fa-077a27af82df",
   "metadata": {},
   "source": [
    "<br>"
   ]
  },
  {
   "cell_type": "markdown",
   "id": "cff6020f-a909-41e7-ae84-4744f652e541",
   "metadata": {
    "tags": []
   },
   "source": [
    "### Server Request"
   ]
  },
  {
   "cell_type": "markdown",
   "id": "3b0d7712-0fc6-4cc2-bb0c-a06dfa611a6a",
   "metadata": {},
   "source": [
    "<br>"
   ]
  },
  {
   "cell_type": "code",
   "execution_count": 14,
   "id": "efbc09b7-338f-43a6-9d26-bb52a6c2c58b",
   "metadata": {},
   "outputs": [
    {
     "data": {
      "text/plain": [
       "<Response [200]>"
      ]
     },
     "execution_count": 14,
     "metadata": {},
     "output_type": "execute_result"
    }
   ],
   "source": [
    "# Fetch the CAO points URL.\n",
    "resp = rq.get('http://www2.cao.ie/points/l76.php')\n",
    "\n",
    "# 200 = ok. 404 = error: not found\n",
    "resp"
   ]
  },
  {
   "cell_type": "markdown",
   "id": "79929c73-415a-45c5-9478-60ca639834bd",
   "metadata": {},
   "source": [
    "<br>"
   ]
  },
  {
   "cell_type": "markdown",
   "id": "96b0df1b-2d22-4243-9013-1405e3a0ec1b",
   "metadata": {},
   "source": [
    "<br>"
   ]
  },
  {
   "cell_type": "markdown",
   "id": "0a0b8e9e-d117-4a4c-85c0-892cd35f2bb2",
   "metadata": {},
   "source": [
    "### Save Orignal Dataset\n",
    "\n"
   ]
  },
  {
   "cell_type": "markdown",
   "id": "ef24a6bb-3d6a-4695-9220-744a1aee7337",
   "metadata": {},
   "source": [
    "<br>"
   ]
  },
  {
   "cell_type": "code",
   "execution_count": 15,
   "id": "db4494f6-0970-44af-9474-653558bae464",
   "metadata": {},
   "outputs": [],
   "source": [
    "# Create a file path for the original data.\n",
    "pathhtml_2 = 'datasets/cao2021_2' + nowstr + '.html'"
   ]
  },
  {
   "cell_type": "markdown",
   "id": "94c44744-0a54-4a73-9514-50158373a7c1",
   "metadata": {},
   "source": [
    "<br>"
   ]
  },
  {
   "cell_type": "markdown",
   "id": "42bd2da8-4946-45a3-9b0d-e2afea32c96e",
   "metadata": {},
   "source": [
    "<br>"
   ]
  },
  {
   "cell_type": "markdown",
   "id": "4a95eaa4-52f8-4ea4-a854-8cab1ccf369e",
   "metadata": {
    "tags": []
   },
   "source": [
    "### Webserver Error\n"
   ]
  },
  {
   "cell_type": "markdown",
   "id": "9391e500-df62-4fe9-8d14-404e01c3a90a",
   "metadata": {},
   "source": [
    "<br>"
   ]
  },
  {
   "cell_type": "code",
   "execution_count": 16,
   "id": "b89901fa-e71a-4305-b15e-6cd698ca68fc",
   "metadata": {},
   "outputs": [],
   "source": [
    "# Fixing the webserves wrong encoding\n",
    "original_encoding = resp.encoding\n",
    "\n",
    "# Changing to cp1252\n",
    "resp.encoding = 'cp1252'"
   ]
  },
  {
   "cell_type": "markdown",
   "id": "9623d244-f191-415a-a687-c4eeffd5f663",
   "metadata": {},
   "source": [
    "<br>"
   ]
  },
  {
   "cell_type": "code",
   "execution_count": 17,
   "id": "401249fd-d330-432a-ab36-8f934040b51a",
   "metadata": {},
   "outputs": [],
   "source": [
    "# Save the original html file.\n",
    "with open(pathhtml_2, 'w') as f: # Opening path in write mode\n",
    "    f.write(resp.text)"
   ]
  },
  {
   "cell_type": "markdown",
   "id": "cd1f429b-f17a-46b1-9163-dc50bc8c4763",
   "metadata": {},
   "source": [
    "<br>"
   ]
  },
  {
   "cell_type": "markdown",
   "id": "b8cbd674-72ce-4c52-9471-89deb07c38e6",
   "metadata": {},
   "source": [
    "<br>"
   ]
  },
  {
   "cell_type": "markdown",
   "id": "6cccb32a-f400-4d8d-804e-539453b5cd7a",
   "metadata": {
    "tags": []
   },
   "source": [
    "### Getting The Data\n"
   ]
  },
  {
   "cell_type": "markdown",
   "id": "74d89d2f-f04b-4f25-a21a-502e1c6378f1",
   "metadata": {},
   "source": [
    "<br>"
   ]
  },
  {
   "cell_type": "code",
   "execution_count": 18,
   "id": "784e211e-2996-4828-a826-1a3ce50ecdec",
   "metadata": {},
   "outputs": [],
   "source": [
    "# Compile regular expression for matching lines.\n",
    "re_course = re.compile(r'([A-Z]{2}[0-9]{3})(.*)') # r for raw data"
   ]
  },
  {
   "cell_type": "markdown",
   "id": "389c7dd2-1eff-481c-8b27-c390b2237a45",
   "metadata": {},
   "source": [
    "<br>"
   ]
  },
  {
   "cell_type": "markdown",
   "id": "1595586f-b75e-43cd-a8c6-24df405bd597",
   "metadata": {},
   "source": [
    "<br>"
   ]
  },
  {
   "cell_type": "code",
   "execution_count": 19,
   "id": "0d5b8009-8b24-4b9d-acc2-9e847a2e8157",
   "metadata": {},
   "outputs": [],
   "source": [
    "# Path to csv file\n",
    "path2021_2 = 'datasets/cao2021_2_csv_' + nowstr + '.csv'"
   ]
  },
  {
   "cell_type": "markdown",
   "id": "c6174aaa-11ac-48a4-be0d-07bec4b2e1c6",
   "metadata": {},
   "source": [
    "<br>"
   ]
  },
  {
   "cell_type": "code",
   "execution_count": 20,
   "id": "3da4a8b5-dae3-44e5-a20d-c69584022cab",
   "metadata": {},
   "outputs": [
    {
     "name": "stdout",
     "output_type": "stream",
     "text": [
      "Total number of lines is 416.\n"
     ]
    }
   ],
   "source": [
    "\n",
    "# Tracking number of courses matched\n",
    "no_lines = 0\n",
    "\n",
    "\n",
    "\n",
    "# Open the csv file for writing.\n",
    "with open(path2021_2, 'w') as f:\n",
    "    # Write a header row.\n",
    "    f.write(','.join(['code', 'title', 'pointsR1', 'pointsR2']) + '\\n')\n",
    "    # Loop through lines of the response.\n",
    "    for line in resp.iter_lines():\n",
    "        # Decode the line, using the wrong encoding!\n",
    "        dline = line.decode('cp1252')\n",
    "        # Match only the lines representing courses.\n",
    "        if re_course.fullmatch(dline):\n",
    "            # Add one to the lines counter.\n",
    "            no_lines = no_lines + 1\n",
    "            # The course code.\n",
    "            course_code = dline[:5]\n",
    "            # The course title.\n",
    "            course_title = dline[7:57].strip()\n",
    "            # Round one points.\n",
    "            course_points = re.split(' +', dline[60:])\n",
    "            if len(course_points) != 2:\n",
    "                course_points = course_points[:2]\n",
    "            # Join the fields using a comma.\n",
    "            linesplit = [course_code, course_title, course_points[0], course_points[1]]\n",
    "            # Rejoin the substrings with commas in between.\n",
    "            f.write(','.join(linesplit) + '\\n')\n",
    "\n",
    "\n",
    "            \n",
    "# Number of courses matched\n",
    "print(f\"Total number of lines is {no_lines}.\")"
   ]
  },
  {
   "cell_type": "markdown",
   "id": "3b4791c0-8c90-416e-bd6b-a31c4e4bb6f2",
   "metadata": {},
   "source": [
    "<br>"
   ]
  },
  {
   "cell_type": "markdown",
   "id": "7a376bae-8e4c-4704-8834-34c004563fbc",
   "metadata": {},
   "source": [
    "<br>"
   ]
  },
  {
   "cell_type": "code",
   "execution_count": 21,
   "id": "817fe374-d355-4132-8350-e5d851d1ee79",
   "metadata": {},
   "outputs": [],
   "source": [
    "# Reading dataframe\n",
    "df2021_2 = pd.read_csv(path2021_2, encoding='cp1252')"
   ]
  },
  {
   "cell_type": "markdown",
   "id": "6f7bed73-a292-4fd5-b568-1109cb49cb98",
   "metadata": {},
   "source": [
    "<br>"
   ]
  },
  {
   "cell_type": "markdown",
   "id": "58f6da4f-586f-4e9b-badb-c16163f45bcb",
   "metadata": {},
   "source": [
    "Unfortunately, the 2021 level 6 and 7 courses aren't distinguished from each other. So, I've decided to insert them as '6/7' under a new column heading 'level'. This will distinguish them from the courses we know for certain are level 8."
   ]
  },
  {
   "cell_type": "markdown",
   "id": "7f0227af-71cc-4e66-93fa-da9766893feb",
   "metadata": {},
   "source": [
    "<br>"
   ]
  },
  {
   "cell_type": "code",
   "execution_count": 22,
   "id": "dee67ba5-7f38-4e8a-8090-c3d078a0e1d4",
   "metadata": {},
   "outputs": [
    {
     "data": {
      "text/html": [
       "<div>\n",
       "<style scoped>\n",
       "    .dataframe tbody tr th:only-of-type {\n",
       "        vertical-align: middle;\n",
       "    }\n",
       "\n",
       "    .dataframe tbody tr th {\n",
       "        vertical-align: top;\n",
       "    }\n",
       "\n",
       "    .dataframe thead th {\n",
       "        text-align: right;\n",
       "    }\n",
       "</style>\n",
       "<table border=\"1\" class=\"dataframe\">\n",
       "  <thead>\n",
       "    <tr style=\"text-align: right;\">\n",
       "      <th></th>\n",
       "      <th>code</th>\n",
       "      <th>title</th>\n",
       "      <th>level</th>\n",
       "      <th>pointsR1</th>\n",
       "      <th>pointsR2</th>\n",
       "    </tr>\n",
       "  </thead>\n",
       "  <tbody>\n",
       "    <tr>\n",
       "      <th>0</th>\n",
       "      <td>AL605</td>\n",
       "      <td>Music and Instrument Technology</td>\n",
       "      <td>6/7</td>\n",
       "      <td>211</td>\n",
       "      <td>NaN</td>\n",
       "    </tr>\n",
       "    <tr>\n",
       "      <th>1</th>\n",
       "      <td>AL630</td>\n",
       "      <td>Pharmacy Technician</td>\n",
       "      <td>6/7</td>\n",
       "      <td>308</td>\n",
       "      <td>NaN</td>\n",
       "    </tr>\n",
       "    <tr>\n",
       "      <th>2</th>\n",
       "      <td>AL631</td>\n",
       "      <td>Dental Nursing</td>\n",
       "      <td>6/7</td>\n",
       "      <td>311</td>\n",
       "      <td>NaN</td>\n",
       "    </tr>\n",
       "    <tr>\n",
       "      <th>3</th>\n",
       "      <td>AL632</td>\n",
       "      <td>Applied Science</td>\n",
       "      <td>6/7</td>\n",
       "      <td>297</td>\n",
       "      <td>NaN</td>\n",
       "    </tr>\n",
       "    <tr>\n",
       "      <th>4</th>\n",
       "      <td>AL650</td>\n",
       "      <td>Business</td>\n",
       "      <td>6/7</td>\n",
       "      <td>AQA</td>\n",
       "      <td>AQA</td>\n",
       "    </tr>\n",
       "    <tr>\n",
       "      <th>...</th>\n",
       "      <td>...</td>\n",
       "      <td>...</td>\n",
       "      <td>...</td>\n",
       "      <td>...</td>\n",
       "      <td>...</td>\n",
       "    </tr>\n",
       "    <tr>\n",
       "      <th>411</th>\n",
       "      <td>WD188</td>\n",
       "      <td>Applied Health Care</td>\n",
       "      <td>6/7</td>\n",
       "      <td>220</td>\n",
       "      <td>NaN</td>\n",
       "    </tr>\n",
       "    <tr>\n",
       "      <th>412</th>\n",
       "      <td>WD205</td>\n",
       "      <td>Molecular Biology with Biopharmaceutical Science</td>\n",
       "      <td>6/7</td>\n",
       "      <td>AQA</td>\n",
       "      <td>262v</td>\n",
       "    </tr>\n",
       "    <tr>\n",
       "      <th>413</th>\n",
       "      <td>WD206</td>\n",
       "      <td>Electronic Engineering</td>\n",
       "      <td>6/7</td>\n",
       "      <td>180</td>\n",
       "      <td>NaN</td>\n",
       "    </tr>\n",
       "    <tr>\n",
       "      <th>414</th>\n",
       "      <td>WD207</td>\n",
       "      <td>Mechanical Engineering</td>\n",
       "      <td>6/7</td>\n",
       "      <td>172</td>\n",
       "      <td>NaN</td>\n",
       "    </tr>\n",
       "    <tr>\n",
       "      <th>415</th>\n",
       "      <td>WD208</td>\n",
       "      <td>Manufacturing Engineering</td>\n",
       "      <td>6/7</td>\n",
       "      <td>317</td>\n",
       "      <td>NaN</td>\n",
       "    </tr>\n",
       "  </tbody>\n",
       "</table>\n",
       "<p>416 rows × 5 columns</p>\n",
       "</div>"
      ],
      "text/plain": [
       "      code                                             title level pointsR1  \\\n",
       "0    AL605                   Music and Instrument Technology   6/7      211   \n",
       "1    AL630                               Pharmacy Technician   6/7      308   \n",
       "2    AL631                                    Dental Nursing   6/7      311   \n",
       "3    AL632                                   Applied Science   6/7      297   \n",
       "4    AL650                                          Business   6/7      AQA   \n",
       "..     ...                                               ...   ...      ...   \n",
       "411  WD188                               Applied Health Care   6/7      220   \n",
       "412  WD205  Molecular Biology with Biopharmaceutical Science   6/7      AQA   \n",
       "413  WD206                            Electronic Engineering   6/7      180   \n",
       "414  WD207                            Mechanical Engineering   6/7      172   \n",
       "415  WD208                         Manufacturing Engineering   6/7      317   \n",
       "\n",
       "    pointsR2  \n",
       "0        NaN  \n",
       "1        NaN  \n",
       "2        NaN  \n",
       "3        NaN  \n",
       "4        AQA  \n",
       "..       ...  \n",
       "411      NaN  \n",
       "412     262v  \n",
       "413      NaN  \n",
       "414      NaN  \n",
       "415      NaN  \n",
       "\n",
       "[416 rows x 5 columns]"
      ]
     },
     "execution_count": 22,
     "metadata": {},
     "output_type": "execute_result"
    }
   ],
   "source": [
    "# Creating a new column at the second index\n",
    "df2021_2.insert(2, 'level', '6/7')\n",
    "df2021_2"
   ]
  },
  {
   "cell_type": "markdown",
   "id": "95ce2a5e-76a5-4bdc-9668-3691939523d3",
   "metadata": {},
   "source": [
    "\n"
   ]
  },
  {
   "cell_type": "markdown",
   "id": "fe9dc1f9-bfb8-42df-88a0-953861e7581d",
   "metadata": {},
   "source": [
    "<br>"
   ]
  },
  {
   "cell_type": "markdown",
   "id": "9486ad30-3df9-40ee-85c9-d79f74a2398e",
   "metadata": {},
   "source": [
    "<br>"
   ]
  },
  {
   "cell_type": "markdown",
   "id": "85e7fdcf-31e4-4350-8898-ba84f842839f",
   "metadata": {},
   "source": [
    "<br>"
   ]
  },
  {
   "cell_type": "markdown",
   "id": "13fbf9c3-a159-4fcb-8d8b-548f3be117c4",
   "metadata": {
    "tags": []
   },
   "source": [
    "***\n",
    "\n",
    "## 2020 Points\n",
    "***\n",
    "\n",
    "https://www.cao.ie/index.php?page=points&p=2020"
   ]
  },
  {
   "cell_type": "markdown",
   "id": "4d5c7f40-f09c-4678-a180-2a2bd07447de",
   "metadata": {},
   "source": [
    "<br>"
   ]
  },
  {
   "cell_type": "markdown",
   "id": "fb5c93f6-ffe2-44b7-b92c-8173cf56ee2d",
   "metadata": {},
   "source": [
    "Luckily the 2020 points are already available in a excel file. This equates to a simpler workload! Additionally, level 6, 7 and 8 are all included and are clearly marked."
   ]
  },
  {
   "cell_type": "markdown",
   "id": "17e62e68-f5c0-4424-a311-5b2e051393cf",
   "metadata": {},
   "source": [
    "<br>"
   ]
  },
  {
   "cell_type": "markdown",
   "id": "ba69bb01-2fd0-467d-951e-3f89a2859cb7",
   "metadata": {},
   "source": [
    "<br>"
   ]
  },
  {
   "cell_type": "code",
   "execution_count": 23,
   "id": "63ae4676-e6e7-475b-bab0-c7646301c80e",
   "metadata": {},
   "outputs": [],
   "source": [
    "# Saving the URL as a variable\n",
    "url2020 = 'http://www2.cao.ie/points/CAOPointsCharts2020.xlsx'"
   ]
  },
  {
   "cell_type": "markdown",
   "id": "fb29f22d-7345-4c71-860a-e80332e936f5",
   "metadata": {},
   "source": [
    "<br>"
   ]
  },
  {
   "cell_type": "markdown",
   "id": "1ae06735-c174-45bc-b6f0-6f50355101c5",
   "metadata": {},
   "source": [
    "<br>"
   ]
  },
  {
   "cell_type": "markdown",
   "id": "9db25757-97c2-47ad-9ac5-804d9243c43f",
   "metadata": {},
   "source": [
    "### Saving Orginal Data"
   ]
  },
  {
   "cell_type": "markdown",
   "id": "8bf1250d-d135-42d5-8413-81139ff61559",
   "metadata": {
    "tags": []
   },
   "source": [
    "<br>"
   ]
  },
  {
   "cell_type": "markdown",
   "id": "2a5c2f1a-9574-4f90-9c4b-8a9efb06bef4",
   "metadata": {
    "tags": []
   },
   "source": [
    "We must save a copy of the original file; we do this with the `datetime` module which keeps tabs on when the request was made."
   ]
  },
  {
   "cell_type": "markdown",
   "id": "24d1f79a-7353-405e-9840-a5d5c9434607",
   "metadata": {
    "tags": []
   },
   "source": [
    "<br>"
   ]
  },
  {
   "cell_type": "code",
   "execution_count": 24,
   "id": "2ac30704-1a02-44a0-afb2-97b63bd6416d",
   "metadata": {},
   "outputs": [],
   "source": [
    "# Create a file path for original data\n",
    "pathxlsx = 'datasets/cao2020_' + nowstr + '.xlsx'"
   ]
  },
  {
   "cell_type": "markdown",
   "id": "04152d20-4be0-4911-8ab3-b4777e103bd9",
   "metadata": {},
   "source": [
    "<br>"
   ]
  },
  {
   "cell_type": "markdown",
   "id": "b2b97824-4fea-4f60-a579-284178b43c28",
   "metadata": {},
   "source": [
    "<br>"
   ]
  },
  {
   "cell_type": "markdown",
   "id": "013f22b3-09e2-400a-85ca-23772816124e",
   "metadata": {},
   "source": [
    "### Retrieve Data"
   ]
  },
  {
   "cell_type": "markdown",
   "id": "6155312a-4a0f-40e8-8d1e-bff2ec40cd85",
   "metadata": {},
   "source": [
    "<br>"
   ]
  },
  {
   "cell_type": "markdown",
   "id": "78b4caf6-cae1-4873-b3f2-7081ccb03f51",
   "metadata": {
    "tags": []
   },
   "source": [
    "To get the data we can use the `Urllib` package. `Urlib` is a <i>\"...URL handling module for python. It is used to fetch URLs\"</i> [6]. The retrieve method downloads <i>\"...the remote data directly to the local [disk]\"</i> [7]. "
   ]
  },
  {
   "cell_type": "markdown",
   "id": "72c506b7-328d-4447-93dd-34c9d2c19437",
   "metadata": {},
   "source": [
    "  <br>"
   ]
  },
  {
   "cell_type": "code",
   "execution_count": 25,
   "id": "6351f1ef-6d9c-42e3-8552-5c434839e8e3",
   "metadata": {},
   "outputs": [
    {
     "data": {
      "text/plain": [
       "('datasets/cao2020_20211229_173454.xlsx',\n",
       " <http.client.HTTPMessage at 0x24c92f12460>)"
      ]
     },
     "execution_count": 25,
     "metadata": {},
     "output_type": "execute_result"
    }
   ],
   "source": [
    "# Getting data\n",
    "urlrq.urlretrieve(url2020, pathxlsx)"
   ]
  },
  {
   "cell_type": "markdown",
   "id": "aa120ab7-e85a-468e-94b0-ad985abc823e",
   "metadata": {},
   "source": [
    "<br>"
   ]
  },
  {
   "cell_type": "markdown",
   "id": "c77ddd6a-b666-4b0e-b6aa-ef53438e364e",
   "metadata": {},
   "source": [
    "<br>"
   ]
  },
  {
   "cell_type": "markdown",
   "id": "640690d4-6218-401e-b491-82f72bde68dd",
   "metadata": {},
   "source": [
    "### Loading The Spreadsheet"
   ]
  },
  {
   "cell_type": "markdown",
   "id": "f3709b83-b426-4e7d-a7e7-ab2d66a4d6e4",
   "metadata": {
    "tags": []
   },
   "source": [
    "<br>"
   ]
  },
  {
   "cell_type": "markdown",
   "id": "ba9c1d91-6e7b-4fff-a8c4-084b4c56fac4",
   "metadata": {},
   "source": [
    "We can now load the data into the notebook by using `pandas`. The first 10 lines of the file include a blurb about the CAO so we will skip the first 10 rows to avoid pulling them into the newly created dataframe."
   ]
  },
  {
   "cell_type": "markdown",
   "id": "d9bbfd36-ac8a-4176-88b3-a9a8d74c10d7",
   "metadata": {
    "tags": []
   },
   "source": [
    "<br>"
   ]
  },
  {
   "cell_type": "code",
   "execution_count": 26,
   "id": "7d1b9d88-2296-44e2-83bc-55021640d157",
   "metadata": {},
   "outputs": [],
   "source": [
    "# Download and parse the excel spreadsheet. First few rows where a blurb\n",
    "df2020 = pd.read_excel(url2020, skiprows=10)"
   ]
  },
  {
   "cell_type": "code",
   "execution_count": 27,
   "id": "61e8dc44-4dc4-4472-ad7f-0bdea4a04e38",
   "metadata": {
    "tags": []
   },
   "outputs": [
    {
     "data": {
      "text/html": [
       "<div>\n",
       "<style scoped>\n",
       "    .dataframe tbody tr th:only-of-type {\n",
       "        vertical-align: middle;\n",
       "    }\n",
       "\n",
       "    .dataframe tbody tr th {\n",
       "        vertical-align: top;\n",
       "    }\n",
       "\n",
       "    .dataframe thead th {\n",
       "        text-align: right;\n",
       "    }\n",
       "</style>\n",
       "<table border=\"1\" class=\"dataframe\">\n",
       "  <thead>\n",
       "    <tr style=\"text-align: right;\">\n",
       "      <th></th>\n",
       "      <th>CATEGORY (i.e.ISCED description)</th>\n",
       "      <th>COURSE TITLE</th>\n",
       "      <th>COURSE CODE2</th>\n",
       "      <th>R1 POINTS</th>\n",
       "      <th>R1 Random *</th>\n",
       "      <th>R2 POINTS</th>\n",
       "      <th>R2 Random*</th>\n",
       "      <th>EOS</th>\n",
       "      <th>EOS Random *</th>\n",
       "      <th>EOS Mid-point</th>\n",
       "      <th>...</th>\n",
       "      <th>avp</th>\n",
       "      <th>v</th>\n",
       "      <th>Column1</th>\n",
       "      <th>Column2</th>\n",
       "      <th>Column3</th>\n",
       "      <th>Column4</th>\n",
       "      <th>Column5</th>\n",
       "      <th>Column6</th>\n",
       "      <th>Column7</th>\n",
       "      <th>Column8</th>\n",
       "    </tr>\n",
       "  </thead>\n",
       "  <tbody>\n",
       "    <tr>\n",
       "      <th>0</th>\n",
       "      <td>Business and administration</td>\n",
       "      <td>International Business</td>\n",
       "      <td>AC120</td>\n",
       "      <td>209</td>\n",
       "      <td>NaN</td>\n",
       "      <td>NaN</td>\n",
       "      <td>NaN</td>\n",
       "      <td>209</td>\n",
       "      <td>NaN</td>\n",
       "      <td>280</td>\n",
       "      <td>...</td>\n",
       "      <td>NaN</td>\n",
       "      <td>NaN</td>\n",
       "      <td>NaN</td>\n",
       "      <td>NaN</td>\n",
       "      <td>NaN</td>\n",
       "      <td>NaN</td>\n",
       "      <td>NaN</td>\n",
       "      <td>NaN</td>\n",
       "      <td>NaN</td>\n",
       "      <td>NaN</td>\n",
       "    </tr>\n",
       "    <tr>\n",
       "      <th>1</th>\n",
       "      <td>Humanities (except languages)</td>\n",
       "      <td>Liberal Arts</td>\n",
       "      <td>AC137</td>\n",
       "      <td>252</td>\n",
       "      <td>NaN</td>\n",
       "      <td>NaN</td>\n",
       "      <td>NaN</td>\n",
       "      <td>252</td>\n",
       "      <td>NaN</td>\n",
       "      <td>270</td>\n",
       "      <td>...</td>\n",
       "      <td>NaN</td>\n",
       "      <td>NaN</td>\n",
       "      <td>NaN</td>\n",
       "      <td>NaN</td>\n",
       "      <td>NaN</td>\n",
       "      <td>NaN</td>\n",
       "      <td>NaN</td>\n",
       "      <td>NaN</td>\n",
       "      <td>NaN</td>\n",
       "      <td>NaN</td>\n",
       "    </tr>\n",
       "    <tr>\n",
       "      <th>2</th>\n",
       "      <td>Arts</td>\n",
       "      <td>First Year Art &amp; Design (Common Entry,portfolio)</td>\n",
       "      <td>AD101</td>\n",
       "      <td>#+matric</td>\n",
       "      <td>NaN</td>\n",
       "      <td>NaN</td>\n",
       "      <td>NaN</td>\n",
       "      <td>#+matric</td>\n",
       "      <td>NaN</td>\n",
       "      <td>#+matric</td>\n",
       "      <td>...</td>\n",
       "      <td>NaN</td>\n",
       "      <td>NaN</td>\n",
       "      <td>NaN</td>\n",
       "      <td>NaN</td>\n",
       "      <td>NaN</td>\n",
       "      <td>NaN</td>\n",
       "      <td>NaN</td>\n",
       "      <td>NaN</td>\n",
       "      <td>NaN</td>\n",
       "      <td>NaN</td>\n",
       "    </tr>\n",
       "    <tr>\n",
       "      <th>3</th>\n",
       "      <td>Arts</td>\n",
       "      <td>Graphic Design and Moving Image Design (portfo...</td>\n",
       "      <td>AD102</td>\n",
       "      <td>#+matric</td>\n",
       "      <td>NaN</td>\n",
       "      <td>NaN</td>\n",
       "      <td>NaN</td>\n",
       "      <td>#+matric</td>\n",
       "      <td>NaN</td>\n",
       "      <td>#+matric</td>\n",
       "      <td>...</td>\n",
       "      <td>NaN</td>\n",
       "      <td>NaN</td>\n",
       "      <td>NaN</td>\n",
       "      <td>NaN</td>\n",
       "      <td>NaN</td>\n",
       "      <td>NaN</td>\n",
       "      <td>NaN</td>\n",
       "      <td>NaN</td>\n",
       "      <td>NaN</td>\n",
       "      <td>NaN</td>\n",
       "    </tr>\n",
       "    <tr>\n",
       "      <th>4</th>\n",
       "      <td>Arts</td>\n",
       "      <td>Textile &amp; Surface Design and Jewellery &amp; Objec...</td>\n",
       "      <td>AD103</td>\n",
       "      <td>#+matric</td>\n",
       "      <td>NaN</td>\n",
       "      <td>NaN</td>\n",
       "      <td>NaN</td>\n",
       "      <td>#+matric</td>\n",
       "      <td>NaN</td>\n",
       "      <td>#+matric</td>\n",
       "      <td>...</td>\n",
       "      <td>NaN</td>\n",
       "      <td>NaN</td>\n",
       "      <td>NaN</td>\n",
       "      <td>NaN</td>\n",
       "      <td>NaN</td>\n",
       "      <td>NaN</td>\n",
       "      <td>NaN</td>\n",
       "      <td>NaN</td>\n",
       "      <td>NaN</td>\n",
       "      <td>NaN</td>\n",
       "    </tr>\n",
       "    <tr>\n",
       "      <th>...</th>\n",
       "      <td>...</td>\n",
       "      <td>...</td>\n",
       "      <td>...</td>\n",
       "      <td>...</td>\n",
       "      <td>...</td>\n",
       "      <td>...</td>\n",
       "      <td>...</td>\n",
       "      <td>...</td>\n",
       "      <td>...</td>\n",
       "      <td>...</td>\n",
       "      <td>...</td>\n",
       "      <td>...</td>\n",
       "      <td>...</td>\n",
       "      <td>...</td>\n",
       "      <td>...</td>\n",
       "      <td>...</td>\n",
       "      <td>...</td>\n",
       "      <td>...</td>\n",
       "      <td>...</td>\n",
       "      <td>...</td>\n",
       "      <td>...</td>\n",
       "    </tr>\n",
       "    <tr>\n",
       "      <th>1459</th>\n",
       "      <td>Manufacturing and processing</td>\n",
       "      <td>Manufacturing Engineering</td>\n",
       "      <td>WD208</td>\n",
       "      <td>188</td>\n",
       "      <td>NaN</td>\n",
       "      <td>NaN</td>\n",
       "      <td>NaN</td>\n",
       "      <td>188</td>\n",
       "      <td>NaN</td>\n",
       "      <td>339</td>\n",
       "      <td>...</td>\n",
       "      <td>NaN</td>\n",
       "      <td>NaN</td>\n",
       "      <td>NaN</td>\n",
       "      <td>NaN</td>\n",
       "      <td>NaN</td>\n",
       "      <td>NaN</td>\n",
       "      <td>NaN</td>\n",
       "      <td>NaN</td>\n",
       "      <td>NaN</td>\n",
       "      <td>NaN</td>\n",
       "    </tr>\n",
       "    <tr>\n",
       "      <th>1460</th>\n",
       "      <td>Information and Communication Technologies (ICTs)</td>\n",
       "      <td>Software Systems Development</td>\n",
       "      <td>WD210</td>\n",
       "      <td>279</td>\n",
       "      <td>NaN</td>\n",
       "      <td>NaN</td>\n",
       "      <td>NaN</td>\n",
       "      <td>279</td>\n",
       "      <td>NaN</td>\n",
       "      <td>337</td>\n",
       "      <td>...</td>\n",
       "      <td>NaN</td>\n",
       "      <td>NaN</td>\n",
       "      <td>NaN</td>\n",
       "      <td>NaN</td>\n",
       "      <td>NaN</td>\n",
       "      <td>NaN</td>\n",
       "      <td>NaN</td>\n",
       "      <td>NaN</td>\n",
       "      <td>NaN</td>\n",
       "      <td>NaN</td>\n",
       "    </tr>\n",
       "    <tr>\n",
       "      <th>1461</th>\n",
       "      <td>Information and Communication Technologies (ICTs)</td>\n",
       "      <td>Creative Computing</td>\n",
       "      <td>WD211</td>\n",
       "      <td>271</td>\n",
       "      <td>NaN</td>\n",
       "      <td>NaN</td>\n",
       "      <td>NaN</td>\n",
       "      <td>271</td>\n",
       "      <td>NaN</td>\n",
       "      <td>318</td>\n",
       "      <td>...</td>\n",
       "      <td>NaN</td>\n",
       "      <td>NaN</td>\n",
       "      <td>NaN</td>\n",
       "      <td>NaN</td>\n",
       "      <td>NaN</td>\n",
       "      <td>NaN</td>\n",
       "      <td>NaN</td>\n",
       "      <td>NaN</td>\n",
       "      <td>NaN</td>\n",
       "      <td>NaN</td>\n",
       "    </tr>\n",
       "    <tr>\n",
       "      <th>1462</th>\n",
       "      <td>Personal services</td>\n",
       "      <td>Recreation and Sport Management</td>\n",
       "      <td>WD212</td>\n",
       "      <td>270</td>\n",
       "      <td>NaN</td>\n",
       "      <td>NaN</td>\n",
       "      <td>NaN</td>\n",
       "      <td>270</td>\n",
       "      <td>NaN</td>\n",
       "      <td>349</td>\n",
       "      <td>...</td>\n",
       "      <td>NaN</td>\n",
       "      <td>NaN</td>\n",
       "      <td>NaN</td>\n",
       "      <td>NaN</td>\n",
       "      <td>NaN</td>\n",
       "      <td>NaN</td>\n",
       "      <td>NaN</td>\n",
       "      <td>NaN</td>\n",
       "      <td>NaN</td>\n",
       "      <td>NaN</td>\n",
       "    </tr>\n",
       "    <tr>\n",
       "      <th>1463</th>\n",
       "      <td>Engineering and engineering trades</td>\n",
       "      <td>Mechanical and Manufacturing Engineering</td>\n",
       "      <td>WD230</td>\n",
       "      <td>253</td>\n",
       "      <td>NaN</td>\n",
       "      <td>NaN</td>\n",
       "      <td>NaN</td>\n",
       "      <td>253</td>\n",
       "      <td>NaN</td>\n",
       "      <td>369</td>\n",
       "      <td>...</td>\n",
       "      <td>NaN</td>\n",
       "      <td>NaN</td>\n",
       "      <td>NaN</td>\n",
       "      <td>NaN</td>\n",
       "      <td>NaN</td>\n",
       "      <td>NaN</td>\n",
       "      <td>NaN</td>\n",
       "      <td>NaN</td>\n",
       "      <td>NaN</td>\n",
       "      <td>NaN</td>\n",
       "    </tr>\n",
       "  </tbody>\n",
       "</table>\n",
       "<p>1464 rows × 23 columns</p>\n",
       "</div>"
      ],
      "text/plain": [
       "                       CATEGORY (i.e.ISCED description)  \\\n",
       "0                           Business and administration   \n",
       "1                         Humanities (except languages)   \n",
       "2                                                  Arts   \n",
       "3                                                  Arts   \n",
       "4                                                  Arts   \n",
       "...                                                 ...   \n",
       "1459                       Manufacturing and processing   \n",
       "1460  Information and Communication Technologies (ICTs)   \n",
       "1461  Information and Communication Technologies (ICTs)   \n",
       "1462                                  Personal services   \n",
       "1463                 Engineering and engineering trades   \n",
       "\n",
       "                                           COURSE TITLE COURSE CODE2  \\\n",
       "0                                International Business        AC120   \n",
       "1                                          Liberal Arts        AC137   \n",
       "2      First Year Art & Design (Common Entry,portfolio)        AD101   \n",
       "3     Graphic Design and Moving Image Design (portfo...        AD102   \n",
       "4     Textile & Surface Design and Jewellery & Objec...        AD103   \n",
       "...                                                 ...          ...   \n",
       "1459                          Manufacturing Engineering        WD208   \n",
       "1460                       Software Systems Development        WD210   \n",
       "1461                                 Creative Computing        WD211   \n",
       "1462                    Recreation and Sport Management        WD212   \n",
       "1463           Mechanical and Manufacturing Engineering        WD230   \n",
       "\n",
       "     R1 POINTS R1 Random * R2 POINTS R2 Random*       EOS EOS Random *  \\\n",
       "0          209         NaN       NaN        NaN       209          NaN   \n",
       "1          252         NaN       NaN        NaN       252          NaN   \n",
       "2     #+matric         NaN       NaN        NaN  #+matric          NaN   \n",
       "3     #+matric         NaN       NaN        NaN  #+matric          NaN   \n",
       "4     #+matric         NaN       NaN        NaN  #+matric          NaN   \n",
       "...        ...         ...       ...        ...       ...          ...   \n",
       "1459       188         NaN       NaN        NaN       188          NaN   \n",
       "1460       279         NaN       NaN        NaN       279          NaN   \n",
       "1461       271         NaN       NaN        NaN       271          NaN   \n",
       "1462       270         NaN       NaN        NaN       270          NaN   \n",
       "1463       253         NaN       NaN        NaN       253          NaN   \n",
       "\n",
       "     EOS Mid-point  ...  avp    v Column1 Column2 Column3  Column4  Column5  \\\n",
       "0              280  ...  NaN  NaN     NaN     NaN     NaN      NaN      NaN   \n",
       "1              270  ...  NaN  NaN     NaN     NaN     NaN      NaN      NaN   \n",
       "2         #+matric  ...  NaN  NaN     NaN     NaN     NaN      NaN      NaN   \n",
       "3         #+matric  ...  NaN  NaN     NaN     NaN     NaN      NaN      NaN   \n",
       "4         #+matric  ...  NaN  NaN     NaN     NaN     NaN      NaN      NaN   \n",
       "...            ...  ...  ...  ...     ...     ...     ...      ...      ...   \n",
       "1459           339  ...  NaN  NaN     NaN     NaN     NaN      NaN      NaN   \n",
       "1460           337  ...  NaN  NaN     NaN     NaN     NaN      NaN      NaN   \n",
       "1461           318  ...  NaN  NaN     NaN     NaN     NaN      NaN      NaN   \n",
       "1462           349  ...  NaN  NaN     NaN     NaN     NaN      NaN      NaN   \n",
       "1463           369  ...  NaN  NaN     NaN     NaN     NaN      NaN      NaN   \n",
       "\n",
       "      Column6  Column7  Column8  \n",
       "0         NaN      NaN      NaN  \n",
       "1         NaN      NaN      NaN  \n",
       "2         NaN      NaN      NaN  \n",
       "3         NaN      NaN      NaN  \n",
       "4         NaN      NaN      NaN  \n",
       "...       ...      ...      ...  \n",
       "1459      NaN      NaN      NaN  \n",
       "1460      NaN      NaN      NaN  \n",
       "1461      NaN      NaN      NaN  \n",
       "1462      NaN      NaN      NaN  \n",
       "1463      NaN      NaN      NaN  \n",
       "\n",
       "[1464 rows x 23 columns]"
      ]
     },
     "execution_count": 27,
     "metadata": {},
     "output_type": "execute_result"
    }
   ],
   "source": [
    "# Checking the dataframe\n",
    "df2020"
   ]
  },
  {
   "cell_type": "markdown",
   "id": "8a071385-e973-455e-ac45-d29dd3f97274",
   "metadata": {},
   "source": [
    "<br>"
   ]
  },
  {
   "cell_type": "markdown",
   "id": "2166e32c-7f98-406e-84e0-34ea7eb83861",
   "metadata": {
    "tags": []
   },
   "source": [
    "<br>"
   ]
  },
  {
   "cell_type": "markdown",
   "id": "edaa7e56-e319-4576-b607-933305980e5d",
   "metadata": {
    "tags": []
   },
   "source": [
    "<br>"
   ]
  },
  {
   "cell_type": "code",
   "execution_count": 28,
   "id": "7704e4f8-9c33-42b6-9f76-52a00a4b8030",
   "metadata": {},
   "outputs": [
    {
     "data": {
      "text/plain": [
       "CATEGORY (i.e.ISCED description)    Engineering and engineering trades\n",
       "COURSE TITLE                                    Mechanical Engineering\n",
       "COURSE CODE2                                                     SG333\n",
       "R1 POINTS                                                          216\n",
       "R1 Random *                                                        NaN\n",
       "R2 POINTS                                                          NaN\n",
       "R2 Random*                                                         NaN\n",
       "EOS                                                                216\n",
       "EOS Random *                                                       NaN\n",
       "EOS Mid-point                                                      347\n",
       "LEVEL                                                                7\n",
       "HEI                                     Institute of Technology, Sligo\n",
       "Test/Interview #                                                   NaN\n",
       "avp                                                                NaN\n",
       "v                                                                  NaN\n",
       "Column1                                                            NaN\n",
       "Column2                                                            NaN\n",
       "Column3                                                            NaN\n",
       "Column4                                                            NaN\n",
       "Column5                                                            NaN\n",
       "Column6                                                            NaN\n",
       "Column7                                                            NaN\n",
       "Column8                                                            NaN\n",
       "Name: 1000, dtype: object"
      ]
     },
     "execution_count": 28,
     "metadata": {},
     "output_type": "execute_result"
    }
   ],
   "source": [
    "# Checking random row\n",
    "df2020.iloc[1000]"
   ]
  },
  {
   "cell_type": "markdown",
   "id": "b0fabd96-74da-4158-bb60-1e9b82d16eff",
   "metadata": {
    "tags": []
   },
   "source": [
    "<br>"
   ]
  },
  {
   "cell_type": "markdown",
   "id": "4106260e-b052-4dcb-b206-936ecb080d6d",
   "metadata": {
    "tags": []
   },
   "source": [
    "<br>"
   ]
  },
  {
   "cell_type": "code",
   "execution_count": 29,
   "id": "7397853c-33af-4365-ba08-5540cd693e26",
   "metadata": {},
   "outputs": [
    {
     "data": {
      "text/plain": [
       "CATEGORY (i.e.ISCED description)          Engineering and engineering trades\n",
       "COURSE TITLE                        Mechanical and Manufacturing Engineering\n",
       "COURSE CODE2                                                           WD230\n",
       "R1 POINTS                                                                253\n",
       "R1 Random *                                                              NaN\n",
       "R2 POINTS                                                                NaN\n",
       "R2 Random*                                                               NaN\n",
       "EOS                                                                      253\n",
       "EOS Random *                                                             NaN\n",
       "EOS Mid-point                                                            369\n",
       "LEVEL                                                                      8\n",
       "HEI                                        Waterford Institute of Technology\n",
       "Test/Interview #                                                         NaN\n",
       "avp                                                                      NaN\n",
       "v                                                                        NaN\n",
       "Column1                                                                  NaN\n",
       "Column2                                                                  NaN\n",
       "Column3                                                                  NaN\n",
       "Column4                                                                  NaN\n",
       "Column5                                                                  NaN\n",
       "Column6                                                                  NaN\n",
       "Column7                                                                  NaN\n",
       "Column8                                                                  NaN\n",
       "Name: 1463, dtype: object"
      ]
     },
     "execution_count": 29,
     "metadata": {},
     "output_type": "execute_result"
    }
   ],
   "source": [
    "# -1 is always last row/element\n",
    "df2020.iloc[-1]"
   ]
  },
  {
   "cell_type": "markdown",
   "id": "a8821b05-a3b4-4bf1-bdb8-24b385122e02",
   "metadata": {},
   "source": [
    "<br>"
   ]
  },
  {
   "cell_type": "markdown",
   "id": "8a7978dd-0786-4d43-bf98-6499274ce4ea",
   "metadata": {
    "tags": []
   },
   "source": [
    "<br>"
   ]
  },
  {
   "cell_type": "markdown",
   "id": "8b194c63-82f2-4b61-b286-0aaa6d59fe52",
   "metadata": {
    "tags": []
   },
   "source": [
    "<br>"
   ]
  },
  {
   "cell_type": "markdown",
   "id": "88d13c49-9ae3-48f8-921a-e7779615c867",
   "metadata": {},
   "source": [
    "<br>"
   ]
  },
  {
   "cell_type": "markdown",
   "id": "ac577818-2200-4763-b339-a1eb27670aa8",
   "metadata": {},
   "source": [
    "<br>"
   ]
  },
  {
   "cell_type": "markdown",
   "id": "896349eb-c73b-4276-8cac-bf5728266009",
   "metadata": {},
   "source": [
    "### Storing The Dataframe"
   ]
  },
  {
   "cell_type": "markdown",
   "id": "bf4ce6c8-7b1c-48a5-946f-de8c8f9476b8",
   "metadata": {},
   "source": [
    "<br>"
   ]
  },
  {
   "cell_type": "markdown",
   "id": "5df3a1d8-5210-4d22-8bf5-b1646ce15ee7",
   "metadata": {
    "tags": []
   },
   "source": [
    "Storing the dataframe we created with the other files in the project directory. "
   ]
  },
  {
   "cell_type": "markdown",
   "id": "68e766f5-fbaa-488c-a24c-f227711d05f4",
   "metadata": {
    "tags": []
   },
   "source": [
    "<br>"
   ]
  },
  {
   "cell_type": "code",
   "execution_count": 30,
   "id": "0568deaf-0c6d-44ce-ae88-4b3b13c9b7ef",
   "metadata": {},
   "outputs": [],
   "source": [
    "# Creating a path for dataframe\n",
    "path2020 = 'datasets/cao2020_' + nowstr + '.csv'"
   ]
  },
  {
   "cell_type": "markdown",
   "id": "65266843-e9ac-4d5b-8194-d11f28d8c31b",
   "metadata": {},
   "source": [
    "<br>"
   ]
  },
  {
   "cell_type": "code",
   "execution_count": 31,
   "id": "b6635892-5211-4c84-b7c8-c1d1793ca56a",
   "metadata": {},
   "outputs": [],
   "source": [
    "# Saving dataframe to disk\n",
    "df2020.to_csv(path2020)"
   ]
  },
  {
   "cell_type": "markdown",
   "id": "dbc6ddd1-c2df-4662-9927-bcfdb8db8025",
   "metadata": {},
   "source": [
    "<br>"
   ]
  },
  {
   "cell_type": "markdown",
   "id": "e6c4e18d-3f92-41b0-bde7-ac8b9291e75c",
   "metadata": {},
   "source": [
    "<br>"
   ]
  },
  {
   "cell_type": "markdown",
   "id": "154eb60c-5114-408b-86b7-a3853172b2ab",
   "metadata": {
    "tags": []
   },
   "source": [
    "<br>"
   ]
  },
  {
   "cell_type": "markdown",
   "id": "14b77010-9bd5-4ea8-aeb5-b374d90ecde9",
   "metadata": {},
   "source": [
    "<br>"
   ]
  },
  {
   "cell_type": "markdown",
   "id": "eaad733a-a9c6-4ac6-9181-edcb3fa83e67",
   "metadata": {},
   "source": [
    "***\n",
    "\n",
    "## 2019 Points\n",
    "***\n",
    "\n"
   ]
  },
  {
   "cell_type": "markdown",
   "id": "9190e7c4-7703-491c-a946-6d2a576f8ec2",
   "metadata": {
    "tags": []
   },
   "source": [
    "<br>"
   ]
  },
  {
   "cell_type": "markdown",
   "id": "28f0f3c9-86cc-49ad-875c-3c8d2dbcdbca",
   "metadata": {},
   "source": [
    "### Level 8 Courses\n",
    "https://www.cao.ie/index.php?page=points&p=2019"
   ]
  },
  {
   "cell_type": "markdown",
   "id": "e69f8c48-b27c-47c7-8e2e-85473a8c3483",
   "metadata": {},
   "source": [
    "<br>"
   ]
  },
  {
   "cell_type": "markdown",
   "id": "6697ee42-9880-4bea-9650-63ec4a0f1418",
   "metadata": {},
   "source": [
    "The 2019 CAO points are stored in PDF files. Only round 1 points are available for 2019."
   ]
  },
  {
   "cell_type": "markdown",
   "id": "f00ea9e4-95ff-453d-b068-1fc3f6fad36c",
   "metadata": {
    "tags": []
   },
   "source": [
    "<br>"
   ]
  },
  {
   "cell_type": "markdown",
   "id": "bf4fe6ce-4c58-4c4a-9dda-b02e438dc8c4",
   "metadata": {},
   "source": [
    "I decided to use the package `Camelot` to extract the data from the files. More information can be found in the `README` file of this projects repository and [the official documentation for Camelot can be found here](https://camelot-py.readthedocs.io/en/master/user/quickstart.html).\n",
    "\n",
    "`Camelot` has a number of [dependencies](https://camelot-py.readthedocs.io/en/master/user/install-deps.html) which must be installed before the package can be used. I found [this](https://www.youtube.com/watch?v=LoiHI-IB3lY&t=308s) video extremely useful in getting Camelot up and running."
   ]
  },
  {
   "cell_type": "markdown",
   "id": "0e78193c-9efe-457c-a2f0-d59cbcffa36e",
   "metadata": {},
   "source": [
    "<br>"
   ]
  },
  {
   "cell_type": "markdown",
   "id": "a5505736-2bdc-42c4-bd0a-e454569903c6",
   "metadata": {
    "tags": []
   },
   "source": [
    "<br>"
   ]
  },
  {
   "cell_type": "markdown",
   "id": "4410b807-ca1d-4e66-ad6b-8d6d4edc74c1",
   "metadata": {
    "tags": []
   },
   "source": [
    "### Getting The Data"
   ]
  },
  {
   "cell_type": "markdown",
   "id": "13f6240b-1cdf-4418-bd57-5ccd5dcabfac",
   "metadata": {
    "tags": []
   },
   "source": [
    "<br>"
   ]
  },
  {
   "cell_type": "code",
   "execution_count": 47,
   "id": "b6290947-5ec8-4221-b219-6ee477b386f8",
   "metadata": {},
   "outputs": [],
   "source": [
    "# Checking all pages of pdf for data\n",
    "pdf = camelot.read_pdf('datasets/2019_points.pdf', pages='all')"
   ]
  },
  {
   "cell_type": "markdown",
   "id": "bc9bdf69-e3c6-4ffe-8b84-43bdd9fa276a",
   "metadata": {},
   "source": [
    "<br>"
   ]
  },
  {
   "cell_type": "code",
   "execution_count": 48,
   "id": "b6688b33-fd18-4e9a-bfb7-618278b3c71d",
   "metadata": {},
   "outputs": [
    {
     "name": "stdout",
     "output_type": "stream",
     "text": [
      "<class 'camelot.core.TableList'>\n"
     ]
    }
   ],
   "source": [
    "# Checking the type\n",
    "print(type(pdf))"
   ]
  },
  {
   "cell_type": "markdown",
   "id": "76bf14b0-d7d2-47db-8af3-a39641bcbe88",
   "metadata": {},
   "source": [
    "<br>"
   ]
  },
  {
   "cell_type": "markdown",
   "id": "1c903d9b-1808-44ea-8dea-134b42a92eaf",
   "metadata": {},
   "source": [
    "<br>"
   ]
  },
  {
   "cell_type": "markdown",
   "id": "24510c92-34c7-4290-958f-32afccf0ea76",
   "metadata": {
    "tags": []
   },
   "source": [
    "Note: The number of pages in the 2019 level 8 courses PDF is 18."
   ]
  },
  {
   "cell_type": "markdown",
   "id": "8fd995a3-fc9b-475d-be10-1b3cc20c2d23",
   "metadata": {
    "tags": []
   },
   "source": [
    "<br>"
   ]
  },
  {
   "cell_type": "code",
   "execution_count": 49,
   "id": "9349d243-3ede-47be-9f31-24b6a32e64c1",
   "metadata": {},
   "outputs": [
    {
     "data": {
      "text/plain": [
       "<TableList n=18>"
      ]
     },
     "execution_count": 49,
     "metadata": {},
     "output_type": "execute_result"
    }
   ],
   "source": [
    "# Checking the number of tables found\n",
    "pdf"
   ]
  },
  {
   "cell_type": "markdown",
   "id": "6cec9936-378f-4391-b84f-83c15a7cbdd0",
   "metadata": {},
   "source": [
    "<br>"
   ]
  },
  {
   "cell_type": "code",
   "execution_count": 50,
   "id": "6406c41f-4804-4579-aa82-c655977e13e2",
   "metadata": {},
   "outputs": [
    {
     "data": {
      "text/plain": [
       "{'accuracy': 100.0, 'whitespace': 2.73, 'order': 1, 'page': 2}"
      ]
     },
     "execution_count": 50,
     "metadata": {},
     "output_type": "execute_result"
    }
   ],
   "source": [
    "# checking tothe accuracy\n",
    "pdf[1].parsing_report"
   ]
  },
  {
   "cell_type": "markdown",
   "id": "74d1b3e8-6e4b-4724-b701-b6d2a6aa0ce0",
   "metadata": {},
   "source": [
    "<br>"
   ]
  },
  {
   "cell_type": "markdown",
   "id": "29de53f0-10fe-4213-87f1-8fd9918a463a",
   "metadata": {
    "tags": []
   },
   "source": [
    "From the parsing report we can see the table was extracted correctly. You can check this with all pages."
   ]
  },
  {
   "cell_type": "markdown",
   "id": "ea17836d-3eff-477d-9ce0-85ff2cfef465",
   "metadata": {
    "tags": []
   },
   "source": [
    "<br>"
   ]
  },
  {
   "cell_type": "markdown",
   "id": "67be9f3e-d646-4b65-8781-9ffb5a9e90c8",
   "metadata": {
    "tags": []
   },
   "source": [
    "<br>"
   ]
  },
  {
   "cell_type": "markdown",
   "id": "4d4bb406-ff93-4950-bd7c-50d25afafc00",
   "metadata": {
    "tags": []
   },
   "source": [
    "### Exporting Data"
   ]
  },
  {
   "cell_type": "markdown",
   "id": "658aef01-bf3d-4bb9-a8fa-b05169429bc6",
   "metadata": {
    "tags": []
   },
   "source": [
    "<br>"
   ]
  },
  {
   "cell_type": "markdown",
   "id": "a5a8546c-5151-4382-a37d-a679588e2f69",
   "metadata": {
    "tags": []
   },
   "source": [
    "The next step is to export the data found into a CSV file so we can convert it into a dataframe. "
   ]
  },
  {
   "cell_type": "markdown",
   "id": "7c1c6c48-5341-49ba-9b2f-fd84d83a112e",
   "metadata": {
    "tags": []
   },
   "source": [
    "<br>"
   ]
  },
  {
   "cell_type": "code",
   "execution_count": 51,
   "id": "b2ad6ee8-336b-4e35-9afd-b57460b202ab",
   "metadata": {},
   "outputs": [],
   "source": [
    "# Exporting tables into a csv file\n",
    "pdf.export('datasets/2019_points.csv', f='csv', compress=True)"
   ]
  },
  {
   "cell_type": "markdown",
   "id": "35d84728-66ae-41ad-b97d-62b0f3c1f85a",
   "metadata": {},
   "source": [
    "<br>"
   ]
  },
  {
   "cell_type": "markdown",
   "id": "58484861-945a-4f5d-a369-9757f2c6a530",
   "metadata": {
    "tags": []
   },
   "source": [
    "<br>"
   ]
  },
  {
   "cell_type": "markdown",
   "id": "c2872bbb-4bd8-4b63-bc57-18ad97282f06",
   "metadata": {
    "tags": []
   },
   "source": [
    "To unzip the CSV files with use the Zipfile package [8]. "
   ]
  },
  {
   "cell_type": "markdown",
   "id": "d6e03c2b-6002-4fbf-813a-e73bdf8c6e5e",
   "metadata": {},
   "source": [
    "<br>"
   ]
  },
  {
   "cell_type": "code",
   "execution_count": 52,
   "id": "80a4bf4c-ef2d-41d4-a6aa-6da29c9f0794",
   "metadata": {},
   "outputs": [],
   "source": [
    "# Loop through zipped folder for files\n",
    "with ZipFile('datasets/2019_points.zip', 'r') as df:\n",
    "   # Extract all the contents of zip file in current directory\n",
    "   df.extractall('datasets/2019_points')"
   ]
  },
  {
   "cell_type": "markdown",
   "id": "249ddd8c-9d12-45a3-a516-b8b3377d262a",
   "metadata": {},
   "source": [
    "<br>"
   ]
  },
  {
   "cell_type": "markdown",
   "id": "f27194a1-2ebf-49ac-9d31-838d0394df23",
   "metadata": {
    "tags": []
   },
   "source": [
    "<br>"
   ]
  },
  {
   "cell_type": "markdown",
   "id": "58e03b82-c878-4be4-bad2-6e1743def21c",
   "metadata": {},
   "source": [
    "### Merging CSV Files"
   ]
  },
  {
   "cell_type": "markdown",
   "id": "6ecfd8a3-ca50-4ee4-b513-9317924249fc",
   "metadata": {
    "tags": []
   },
   "source": [
    "<br>"
   ]
  },
  {
   "cell_type": "markdown",
   "id": "29e95987-a88d-4386-b046-eb5d5e3a118b",
   "metadata": {
    "tags": []
   },
   "source": [
    "As `camelot` exports each table as a single file, we need to merge them all into one dataframe. We can do this by using the `Glob` module. `Glob`, which stands for global, is part of the standard Python library. \n",
    "\n",
    "It is used to <i>\"...search for a specific file pattern, or perhaps more usefully, search for files where the filename matches a certain pattern by using wildcard characters\"</i> [9]."
   ]
  },
  {
   "cell_type": "markdown",
   "id": "47928ba3-c025-4a54-8871-c72c688c5c9c",
   "metadata": {
    "tags": []
   },
   "source": [
    "<br>"
   ]
  },
  {
   "cell_type": "markdown",
   "id": "d3323cf2-4c9f-47db-818b-6a215cc9fcf1",
   "metadata": {
    "tags": []
   },
   "source": [
    "<br>"
   ]
  },
  {
   "cell_type": "code",
   "execution_count": 53,
   "id": "afc9e0bb-fdee-4f39-be49-3915fad5cfa6",
   "metadata": {},
   "outputs": [],
   "source": [
    "# The path to use\n",
    "path = 'datasets/2019_points/'"
   ]
  },
  {
   "cell_type": "markdown",
   "id": "6eff422b-6969-4fd7-80e4-054380f2d66f",
   "metadata": {
    "tags": []
   },
   "source": [
    "<br>"
   ]
  },
  {
   "cell_type": "code",
   "execution_count": 54,
   "id": "84be02b6-a453-4882-893a-87e0e181a276",
   "metadata": {},
   "outputs": [],
   "source": [
    "# Find csvs which match this pattern\n",
    "filelist = glob.glob(path + '2019_*.csv')\n",
    "\n",
    "# Merge them together with these column headings\n",
    "df2019 = pd.concat([pd.read_csv(file, names=['code','title','points','median' ]) for file in filelist])"
   ]
  },
  {
   "cell_type": "markdown",
   "id": "33f91e8a-5be5-4274-a135-85e6131b0c58",
   "metadata": {
    "tags": []
   },
   "source": [
    "<br>"
   ]
  },
  {
   "cell_type": "markdown",
   "id": "f9cdee5a-177c-4165-8e8c-f6f84d3f3be9",
   "metadata": {},
   "source": [
    "<br>"
   ]
  },
  {
   "cell_type": "markdown",
   "id": "c2209205-1898-4cfb-8206-59583804f2ea",
   "metadata": {
    "tags": []
   },
   "source": [
    "<br>"
   ]
  },
  {
   "cell_type": "markdown",
   "id": "005784e7-8557-470b-b731-650308610d37",
   "metadata": {
    "tags": []
   },
   "source": [
    "As we know these are all level 8 courses, we will also insert a new column into the dataframe to show this. We will also clean up the dataframe a bit by dropping the old heading and by getting rid of the rows which only contain the name of the third level institutes."
   ]
  },
  {
   "cell_type": "markdown",
   "id": "327cdb87-844e-449c-832a-3ae1fccac36f",
   "metadata": {
    "tags": []
   },
   "source": [
    "<br>"
   ]
  },
  {
   "cell_type": "markdown",
   "id": "a828dc68-33b0-488d-83de-87e04b67acba",
   "metadata": {
    "tags": []
   },
   "source": [
    "<br>"
   ]
  },
  {
   "cell_type": "code",
   "execution_count": 40,
   "id": "244978ec-2258-414a-b753-29ba7b2ad0a8",
   "metadata": {},
   "outputs": [],
   "source": [
    "# Creating a new column at the second index\n",
    "df2019.insert(2, 'level', '8')"
   ]
  },
  {
   "cell_type": "markdown",
   "id": "18978a65-f797-4bf0-a78c-1d3a20f17555",
   "metadata": {
    "tags": []
   },
   "source": [
    "<br>"
   ]
  },
  {
   "cell_type": "code",
   "execution_count": 41,
   "id": "2619d2ae-1acd-4ec8-81f1-0b09889e25a3",
   "metadata": {},
   "outputs": [
    {
     "data": {
      "text/html": [
       "<div>\n",
       "<style scoped>\n",
       "    .dataframe tbody tr th:only-of-type {\n",
       "        vertical-align: middle;\n",
       "    }\n",
       "\n",
       "    .dataframe tbody tr th {\n",
       "        vertical-align: top;\n",
       "    }\n",
       "\n",
       "    .dataframe thead th {\n",
       "        text-align: right;\n",
       "    }\n",
       "</style>\n",
       "<table border=\"1\" class=\"dataframe\">\n",
       "  <thead>\n",
       "    <tr style=\"text-align: right;\">\n",
       "      <th></th>\n",
       "      <th>code</th>\n",
       "      <th>title</th>\n",
       "      <th>level</th>\n",
       "      <th>points</th>\n",
       "      <th>median</th>\n",
       "    </tr>\n",
       "  </thead>\n",
       "  <tbody>\n",
       "    <tr>\n",
       "      <th>1</th>\n",
       "      <td>NaN</td>\n",
       "      <td>Athlone Institute of Technology</td>\n",
       "      <td>8</td>\n",
       "      <td>NaN</td>\n",
       "      <td>NaN</td>\n",
       "    </tr>\n",
       "    <tr>\n",
       "      <th>2</th>\n",
       "      <td>AL801</td>\n",
       "      <td>Software Design with Virtual Reality and Gaming</td>\n",
       "      <td>8</td>\n",
       "      <td>304</td>\n",
       "      <td>328</td>\n",
       "    </tr>\n",
       "    <tr>\n",
       "      <th>3</th>\n",
       "      <td>AL802</td>\n",
       "      <td>Software Design with Cloud Computing</td>\n",
       "      <td>8</td>\n",
       "      <td>301</td>\n",
       "      <td>306</td>\n",
       "    </tr>\n",
       "    <tr>\n",
       "      <th>4</th>\n",
       "      <td>AL803</td>\n",
       "      <td>Software Design with Mobile Apps and Connected...</td>\n",
       "      <td>8</td>\n",
       "      <td>309</td>\n",
       "      <td>337</td>\n",
       "    </tr>\n",
       "    <tr>\n",
       "      <th>5</th>\n",
       "      <td>AL805</td>\n",
       "      <td>Network Management and Cloud Infrastructure</td>\n",
       "      <td>8</td>\n",
       "      <td>329</td>\n",
       "      <td>442</td>\n",
       "    </tr>\n",
       "    <tr>\n",
       "      <th>...</th>\n",
       "      <td>...</td>\n",
       "      <td>...</td>\n",
       "      <td>...</td>\n",
       "      <td>...</td>\n",
       "      <td>...</td>\n",
       "    </tr>\n",
       "    <tr>\n",
       "      <th>50</th>\n",
       "      <td>TR032</td>\n",
       "      <td>Engineering</td>\n",
       "      <td>8</td>\n",
       "      <td>487*</td>\n",
       "      <td>520.0</td>\n",
       "    </tr>\n",
       "    <tr>\n",
       "      <th>51</th>\n",
       "      <td>TR033</td>\n",
       "      <td>Computer Science</td>\n",
       "      <td>8</td>\n",
       "      <td>465*</td>\n",
       "      <td>488.0</td>\n",
       "    </tr>\n",
       "    <tr>\n",
       "      <th>52</th>\n",
       "      <td>TR034</td>\n",
       "      <td>Management Science and Information Systems Stu...</td>\n",
       "      <td>8</td>\n",
       "      <td>589*</td>\n",
       "      <td>602.0</td>\n",
       "    </tr>\n",
       "    <tr>\n",
       "      <th>53</th>\n",
       "      <td>TR035</td>\n",
       "      <td>Theoretical Physics</td>\n",
       "      <td>8</td>\n",
       "      <td>554</td>\n",
       "      <td>601.0</td>\n",
       "    </tr>\n",
       "    <tr>\n",
       "      <th>54</th>\n",
       "      <td>TR038</td>\n",
       "      <td>Engineering with Management</td>\n",
       "      <td>8</td>\n",
       "      <td>499</td>\n",
       "      <td>543.0</td>\n",
       "    </tr>\n",
       "  </tbody>\n",
       "</table>\n",
       "<p>948 rows × 5 columns</p>\n",
       "</div>"
      ],
      "text/plain": [
       "     code                                              title level points  \\\n",
       "1     NaN                    Athlone Institute of Technology     8    NaN   \n",
       "2   AL801    Software Design with Virtual Reality and Gaming     8    304   \n",
       "3   AL802               Software Design with Cloud Computing     8    301   \n",
       "4   AL803  Software Design with Mobile Apps and Connected...     8    309   \n",
       "5   AL805        Network Management and Cloud Infrastructure     8    329   \n",
       "..    ...                                                ...   ...    ...   \n",
       "50  TR032                                        Engineering     8   487*   \n",
       "51  TR033                                   Computer Science     8   465*   \n",
       "52  TR034  Management Science and Information Systems Stu...     8   589*   \n",
       "53  TR035                                Theoretical Physics     8    554   \n",
       "54  TR038                        Engineering with Management     8    499   \n",
       "\n",
       "   median  \n",
       "1     NaN  \n",
       "2     328  \n",
       "3     306  \n",
       "4     337  \n",
       "5     442  \n",
       "..    ...  \n",
       "50  520.0  \n",
       "51  488.0  \n",
       "52  602.0  \n",
       "53  601.0  \n",
       "54  543.0  \n",
       "\n",
       "[948 rows x 5 columns]"
      ]
     },
     "execution_count": 41,
     "metadata": {},
     "output_type": "execute_result"
    }
   ],
   "source": [
    "# Dropping old heading\n",
    "df2019.drop(0)"
   ]
  },
  {
   "cell_type": "markdown",
   "id": "b51b7525-e0bb-466c-b86c-bcf2728af00f",
   "metadata": {
    "tags": []
   },
   "source": [
    "<br>"
   ]
  },
  {
   "cell_type": "code",
   "execution_count": 42,
   "id": "3cb4c584-ac09-4a1b-bff5-a1ce2dece574",
   "metadata": {},
   "outputs": [],
   "source": [
    "# Getting rid of rows containing institute names only\n",
    "df2019 = df2019[df2019['code'].notnull()]"
   ]
  },
  {
   "cell_type": "markdown",
   "id": "16249be5-d1ce-4b51-a155-6f05ca8bf4d7",
   "metadata": {},
   "source": [
    "<br>"
   ]
  },
  {
   "cell_type": "code",
   "execution_count": 43,
   "id": "ba70f573-6af3-4f58-b04a-4aecd7343448",
   "metadata": {
    "tags": []
   },
   "outputs": [
    {
     "data": {
      "text/html": [
       "<div>\n",
       "<style scoped>\n",
       "    .dataframe tbody tr th:only-of-type {\n",
       "        vertical-align: middle;\n",
       "    }\n",
       "\n",
       "    .dataframe tbody tr th {\n",
       "        vertical-align: top;\n",
       "    }\n",
       "\n",
       "    .dataframe thead th {\n",
       "        text-align: right;\n",
       "    }\n",
       "</style>\n",
       "<table border=\"1\" class=\"dataframe\">\n",
       "  <thead>\n",
       "    <tr style=\"text-align: right;\">\n",
       "      <th></th>\n",
       "      <th>code</th>\n",
       "      <th>title</th>\n",
       "      <th>level</th>\n",
       "      <th>points</th>\n",
       "      <th>median</th>\n",
       "    </tr>\n",
       "  </thead>\n",
       "  <tbody>\n",
       "    <tr>\n",
       "      <th>50</th>\n",
       "      <td>TR032</td>\n",
       "      <td>Engineering</td>\n",
       "      <td>8</td>\n",
       "      <td>487*</td>\n",
       "      <td>520.0</td>\n",
       "    </tr>\n",
       "    <tr>\n",
       "      <th>51</th>\n",
       "      <td>TR033</td>\n",
       "      <td>Computer Science</td>\n",
       "      <td>8</td>\n",
       "      <td>465*</td>\n",
       "      <td>488.0</td>\n",
       "    </tr>\n",
       "    <tr>\n",
       "      <th>52</th>\n",
       "      <td>TR034</td>\n",
       "      <td>Management Science and Information Systems Stu...</td>\n",
       "      <td>8</td>\n",
       "      <td>589*</td>\n",
       "      <td>602.0</td>\n",
       "    </tr>\n",
       "    <tr>\n",
       "      <th>53</th>\n",
       "      <td>TR035</td>\n",
       "      <td>Theoretical Physics</td>\n",
       "      <td>8</td>\n",
       "      <td>554</td>\n",
       "      <td>601.0</td>\n",
       "    </tr>\n",
       "    <tr>\n",
       "      <th>54</th>\n",
       "      <td>TR038</td>\n",
       "      <td>Engineering with Management</td>\n",
       "      <td>8</td>\n",
       "      <td>499</td>\n",
       "      <td>543.0</td>\n",
       "    </tr>\n",
       "  </tbody>\n",
       "</table>\n",
       "</div>"
      ],
      "text/plain": [
       "     code                                              title level points  \\\n",
       "50  TR032                                        Engineering     8   487*   \n",
       "51  TR033                                   Computer Science     8   465*   \n",
       "52  TR034  Management Science and Information Systems Stu...     8   589*   \n",
       "53  TR035                                Theoretical Physics     8    554   \n",
       "54  TR038                        Engineering with Management     8    499   \n",
       "\n",
       "   median  \n",
       "50  520.0  \n",
       "51  488.0  \n",
       "52  602.0  \n",
       "53  601.0  \n",
       "54  543.0  "
      ]
     },
     "execution_count": 43,
     "metadata": {},
     "output_type": "execute_result"
    }
   ],
   "source": [
    "# Checking last 5 rows\n",
    "df2019.tail()"
   ]
  },
  {
   "cell_type": "markdown",
   "id": "8260ae18-9577-49b1-abcd-3038d2d11829",
   "metadata": {
    "tags": []
   },
   "source": [
    "<br>"
   ]
  },
  {
   "cell_type": "markdown",
   "id": "bd42ad6f-600e-450a-9fce-882325e9ca51",
   "metadata": {},
   "source": [
    "<br>"
   ]
  },
  {
   "cell_type": "markdown",
   "id": "e4bd875b-76e6-4b1a-a260-81fba6e48e4a",
   "metadata": {},
   "source": [
    "<br>"
   ]
  },
  {
   "cell_type": "markdown",
   "id": "ed0812d2-50c2-47c3-b1d6-f80a086e4bb4",
   "metadata": {},
   "source": [
    "<br>"
   ]
  },
  {
   "cell_type": "markdown",
   "id": "d75975ea-bf69-4cb0-9f2a-216655885581",
   "metadata": {},
   "source": [
    "<br>"
   ]
  },
  {
   "cell_type": "markdown",
   "id": "959c3229-da80-4b0a-9fcb-f9c464654de0",
   "metadata": {
    "tags": []
   },
   "source": [
    "***"
   ]
  },
  {
   "cell_type": "markdown",
   "id": "ae9cae1d-97a9-4991-958f-a35d8dbbcab0",
   "metadata": {},
   "source": [
    "<br>"
   ]
  },
  {
   "cell_type": "markdown",
   "id": "a382a48d-7eae-4d8b-b464-f6b0bd3a423e",
   "metadata": {
    "tags": []
   },
   "source": [
    "### Level 6 & 7 Courses"
   ]
  },
  {
   "cell_type": "markdown",
   "id": "bc54a4b0-1e40-4cfc-8768-3778d8388ece",
   "metadata": {
    "tags": []
   },
   "source": [
    "http://www2.cao.ie/points/lvl76_19.pdf"
   ]
  },
  {
   "cell_type": "markdown",
   "id": "0ee90755-980d-43a6-b8cf-d161b88aa540",
   "metadata": {
    "tags": []
   },
   "source": [
    "<br>"
   ]
  },
  {
   "cell_type": "markdown",
   "id": "5a325a13-625a-4a21-95d1-2e7b7dc253bb",
   "metadata": {
    "tags": []
   },
   "source": [
    "To retrieve the 2019 level 6 and 7 courses we repeat this process."
   ]
  },
  {
   "cell_type": "markdown",
   "id": "68be944e-a976-49c1-ad65-6570103cbf65",
   "metadata": {
    "tags": []
   },
   "source": [
    "<br>"
   ]
  },
  {
   "cell_type": "markdown",
   "id": "055059e0-5559-4b26-ae15-2e52ee255ace",
   "metadata": {
    "tags": []
   },
   "source": [
    "### Getting The Data"
   ]
  },
  {
   "cell_type": "markdown",
   "id": "5ea1d38c-8331-428b-84fa-7c17c76cbd3c",
   "metadata": {
    "tags": []
   },
   "source": [
    "<br>"
   ]
  },
  {
   "cell_type": "markdown",
   "id": "53fd8c61-ecb6-4ff0-8b9a-07c30df4c98c",
   "metadata": {
    "tags": []
   },
   "source": [
    "There are 10 pages in the level 6 and 7 courses PDF."
   ]
  },
  {
   "cell_type": "markdown",
   "id": "8fb794ed-87a1-4be2-98b4-de0b87705cfa",
   "metadata": {
    "tags": []
   },
   "source": [
    "<br>"
   ]
  },
  {
   "cell_type": "code",
   "execution_count": 40,
   "id": "30b0352a-9300-4784-a1f5-7734d65efb50",
   "metadata": {},
   "outputs": [],
   "source": [
    "# Checking all pages of pdf for data\n",
    "pdf_2 = camelot.read_pdf('datasets/2019_points_2.pdf', pages='all')"
   ]
  },
  {
   "cell_type": "markdown",
   "id": "5dc2e623-380c-4d7f-ac04-b04c6fd5e55c",
   "metadata": {
    "tags": []
   },
   "source": [
    "<br>"
   ]
  },
  {
   "cell_type": "code",
   "execution_count": 41,
   "id": "2b96527d-dfb4-46d4-85ed-c8c571e3082f",
   "metadata": {},
   "outputs": [
    {
     "data": {
      "text/plain": [
       "<TableList n=10>"
      ]
     },
     "execution_count": 41,
     "metadata": {},
     "output_type": "execute_result"
    }
   ],
   "source": [
    "# Checking the number of tables, should be 10\n",
    "pdf_2"
   ]
  },
  {
   "cell_type": "markdown",
   "id": "9d62af47-be9a-4689-a510-9ed4c1adeac2",
   "metadata": {
    "tags": []
   },
   "source": [
    "<br>"
   ]
  },
  {
   "cell_type": "markdown",
   "id": "b90975f2-f2c5-4bf3-b3aa-d4feb2561566",
   "metadata": {
    "tags": []
   },
   "source": [
    "<br>"
   ]
  },
  {
   "cell_type": "code",
   "execution_count": 42,
   "id": "5ea24a78-755f-4705-96fc-fd4a595adeee",
   "metadata": {},
   "outputs": [
    {
     "data": {
      "text/plain": [
       "{'accuracy': 100.0, 'whitespace': 9.26, 'order': 1, 'page': 4}"
      ]
     },
     "execution_count": 42,
     "metadata": {},
     "output_type": "execute_result"
    }
   ],
   "source": [
    "# checking to make sure it worked\n",
    "pdf_2[3].parsing_report"
   ]
  },
  {
   "cell_type": "markdown",
   "id": "3f7db0fb-e1a6-4bbb-b023-89ee903761a1",
   "metadata": {},
   "source": [
    "<br>"
   ]
  },
  {
   "cell_type": "markdown",
   "id": "cbf49701-77b5-4a26-bdea-846b391fe5d1",
   "metadata": {},
   "source": [
    "<br>"
   ]
  },
  {
   "cell_type": "markdown",
   "id": "cac03a30-b85b-4942-b17e-3403af15f606",
   "metadata": {
    "tags": []
   },
   "source": [
    "<br>"
   ]
  },
  {
   "cell_type": "markdown",
   "id": "deb900e6-996b-405a-80f8-538b9164e4eb",
   "metadata": {
    "tags": []
   },
   "source": [
    "### Exporting The Data"
   ]
  },
  {
   "cell_type": "markdown",
   "id": "1d1cccaa-99a7-4918-a1a9-6ca76e089767",
   "metadata": {
    "tags": []
   },
   "source": [
    "<br>"
   ]
  },
  {
   "cell_type": "markdown",
   "id": "b1c88dc7-0c9b-4696-b99f-dce406b0fd25",
   "metadata": {
    "tags": []
   },
   "source": [
    "<br>"
   ]
  },
  {
   "cell_type": "code",
   "execution_count": 43,
   "id": "ae34aae1-fef4-4b97-8b22-81a5d8e70597",
   "metadata": {},
   "outputs": [],
   "source": [
    "# Exporting tables into a csv file\n",
    "pdf_2.export('datasets/2019_points_2.csv', f='csv', compress=True)"
   ]
  },
  {
   "cell_type": "markdown",
   "id": "515c6ba6-ccf7-48d6-a85d-9956e615497c",
   "metadata": {
    "tags": []
   },
   "source": [
    "<br>"
   ]
  },
  {
   "cell_type": "markdown",
   "id": "fada7eb3-3f2e-4135-9dfa-0d9337d970f7",
   "metadata": {
    "tags": []
   },
   "source": [
    "<br>"
   ]
  },
  {
   "cell_type": "code",
   "execution_count": 44,
   "id": "00ae28cc-8991-44ae-b025-c2d634e3d6f0",
   "metadata": {},
   "outputs": [],
   "source": [
    "# Unzipping the folder - multiple tables are exported as a zip\n",
    "# Loop through zipped folder for files\n",
    "with ZipFile('datasets/2019_points_2.zip', 'r') as df:\n",
    "   # Extract all the contents of zip file in current directory\n",
    "   df.extractall('datasets/2019_points_2')"
   ]
  },
  {
   "cell_type": "markdown",
   "id": "9f41928e-f3d2-4461-ab42-9dde3092fa45",
   "metadata": {
    "tags": []
   },
   "source": [
    "<br>"
   ]
  },
  {
   "cell_type": "markdown",
   "id": "f5c79474-4efe-4c53-9f1c-d5e01e0b2899",
   "metadata": {
    "tags": []
   },
   "source": [
    "<br>"
   ]
  },
  {
   "cell_type": "markdown",
   "id": "09c5b4c6-8072-456e-a474-b7af76ec3524",
   "metadata": {},
   "source": [
    "### Merging CSV Files"
   ]
  },
  {
   "cell_type": "markdown",
   "id": "74a55e87-56c6-416a-94ac-a6e2cc718504",
   "metadata": {},
   "source": [
    "<br>"
   ]
  },
  {
   "cell_type": "code",
   "execution_count": 45,
   "id": "1d349b61-b086-4b9f-97ac-51950d7d44bf",
   "metadata": {},
   "outputs": [],
   "source": [
    "# Creating a path\n",
    "path = 'datasets/2019_points_2/'"
   ]
  },
  {
   "cell_type": "markdown",
   "id": "c29cf108-674e-4599-be78-865488462994",
   "metadata": {},
   "source": [
    "<br>"
   ]
  },
  {
   "cell_type": "markdown",
   "id": "f776d555-a480-4d5f-a558-83f9cb3e0d21",
   "metadata": {},
   "source": [
    "<br>"
   ]
  },
  {
   "cell_type": "code",
   "execution_count": 46,
   "id": "144859d4-5442-4c50-8038-bf44d2b5cc8d",
   "metadata": {},
   "outputs": [],
   "source": [
    "# Find csvs which match this pattern\n",
    "filelist = glob.glob(path + '2019_*.csv')\n",
    "\n",
    "# Merge them together with these column headings. Leaving blurb from pdf without skiprows\n",
    "df2019_2 = pd.concat([pd.read_csv(file, names=['code','title','points','median'], skiprows=10) for file in filelist])"
   ]
  },
  {
   "cell_type": "markdown",
   "id": "340beab7-1284-45ae-9711-3f8031f51c7b",
   "metadata": {},
   "source": [
    "<br>"
   ]
  },
  {
   "cell_type": "markdown",
   "id": "6ae4ae4f-2bb4-4b62-93dc-ac95a32c1fd0",
   "metadata": {},
   "source": [
    "<br>"
   ]
  },
  {
   "cell_type": "markdown",
   "id": "7b3abf8b-7209-42ea-8ffa-6d7d76097a00",
   "metadata": {
    "tags": []
   },
   "source": [
    "Unfortunately, the 2019 level 6 and 7 courses aren't distinguished from each other. In tandem with 2021, I decided to insert them as '6/7' under a new column heading 'level'. This will distinguish them from the courses we know for certain are level 8. Additionally, we will get rid of the rows which only contain the name of the third level institutes."
   ]
  },
  {
   "cell_type": "markdown",
   "id": "38c4bf16-a076-4be6-b560-056d5de98787",
   "metadata": {},
   "source": [
    "<br>"
   ]
  },
  {
   "cell_type": "markdown",
   "id": "46d5274f-6dc8-48b0-b9b9-fddf79f2cfec",
   "metadata": {},
   "source": [
    "<br>"
   ]
  },
  {
   "cell_type": "code",
   "execution_count": 51,
   "id": "7dba18ef-17ce-4b06-9dc3-de0cb69d8e6c",
   "metadata": {},
   "outputs": [],
   "source": [
    "# Creating a new column at the second index\n",
    "df2019_2.insert(2, 'level', '6/7')"
   ]
  },
  {
   "cell_type": "markdown",
   "id": "4eed9c85-00ed-44a7-9c91-5a39eadea9d0",
   "metadata": {},
   "source": [
    "<br>"
   ]
  },
  {
   "cell_type": "code",
   "execution_count": 52,
   "id": "9847cb4e-3fcd-439d-a852-215b91e09835",
   "metadata": {},
   "outputs": [],
   "source": [
    "# Getting rid of rows containing institute names only\n",
    "df2019_2 = df2019_2[df2019_2['code'].notnull()]"
   ]
  },
  {
   "cell_type": "markdown",
   "id": "c90131b7-0cb8-4a3f-a3b4-d649315568f1",
   "metadata": {},
   "source": [
    "<br>"
   ]
  },
  {
   "cell_type": "code",
   "execution_count": 53,
   "id": "aa6e2b8d-4a92-49ee-b8de-9b37510315cd",
   "metadata": {},
   "outputs": [
    {
     "data": {
      "text/html": [
       "<div>\n",
       "<style scoped>\n",
       "    .dataframe tbody tr th:only-of-type {\n",
       "        vertical-align: middle;\n",
       "    }\n",
       "\n",
       "    .dataframe tbody tr th {\n",
       "        vertical-align: top;\n",
       "    }\n",
       "\n",
       "    .dataframe thead th {\n",
       "        text-align: right;\n",
       "    }\n",
       "</style>\n",
       "<table border=\"1\" class=\"dataframe\">\n",
       "  <thead>\n",
       "    <tr style=\"text-align: right;\">\n",
       "      <th></th>\n",
       "      <th>code</th>\n",
       "      <th>title</th>\n",
       "      <th>level</th>\n",
       "      <th>points</th>\n",
       "      <th>median</th>\n",
       "    </tr>\n",
       "  </thead>\n",
       "  <tbody>\n",
       "    <tr>\n",
       "      <th>0</th>\n",
       "      <td>AL600</td>\n",
       "      <td>Software Design</td>\n",
       "      <td>6/7</td>\n",
       "      <td>205</td>\n",
       "      <td>306.0</td>\n",
       "    </tr>\n",
       "    <tr>\n",
       "      <th>1</th>\n",
       "      <td>AL601</td>\n",
       "      <td>Computer Engineering</td>\n",
       "      <td>6/7</td>\n",
       "      <td>196</td>\n",
       "      <td>272.0</td>\n",
       "    </tr>\n",
       "    <tr>\n",
       "      <th>2</th>\n",
       "      <td>AL602</td>\n",
       "      <td>Mechanical Engineering</td>\n",
       "      <td>6/7</td>\n",
       "      <td>258</td>\n",
       "      <td>424.0</td>\n",
       "    </tr>\n",
       "    <tr>\n",
       "      <th>3</th>\n",
       "      <td>AL604</td>\n",
       "      <td>Civil Engineering</td>\n",
       "      <td>6/7</td>\n",
       "      <td>252</td>\n",
       "      <td>360.0</td>\n",
       "    </tr>\n",
       "    <tr>\n",
       "      <th>4</th>\n",
       "      <td>AL630</td>\n",
       "      <td>Pharmacy Technician</td>\n",
       "      <td>6/7</td>\n",
       "      <td>306</td>\n",
       "      <td>366.0</td>\n",
       "    </tr>\n",
       "  </tbody>\n",
       "</table>\n",
       "</div>"
      ],
      "text/plain": [
       "    code                   title level points  median\n",
       "0  AL600         Software Design   6/7    205   306.0\n",
       "1  AL601    Computer Engineering   6/7    196   272.0\n",
       "2  AL602  Mechanical Engineering   6/7    258   424.0\n",
       "3  AL604       Civil Engineering   6/7    252   360.0\n",
       "4  AL630     Pharmacy Technician   6/7    306   366.0"
      ]
     },
     "execution_count": 53,
     "metadata": {},
     "output_type": "execute_result"
    }
   ],
   "source": [
    "# Checking pandas dataframe\n",
    "df2019_2. head()"
   ]
  },
  {
   "cell_type": "markdown",
   "id": "40d5e7e3-02f0-4036-b0da-f1da62a92580",
   "metadata": {},
   "source": [
    "<br>"
   ]
  },
  {
   "cell_type": "markdown",
   "id": "6f19caf5-5a06-4f2d-b7f2-0c16f1d7a0cc",
   "metadata": {},
   "source": [
    "<br>"
   ]
  },
  {
   "cell_type": "markdown",
   "id": "ecca7434-813d-4798-98d3-8dc3f132f230",
   "metadata": {},
   "source": [
    "<br>"
   ]
  },
  {
   "cell_type": "markdown",
   "id": "05da86c2-debc-4a85-b875-82d221042467",
   "metadata": {},
   "source": [
    "<br>"
   ]
  },
  {
   "cell_type": "markdown",
   "id": "79bc792c-9f11-400f-bce8-9705e712c44f",
   "metadata": {},
   "source": [
    "<br>"
   ]
  },
  {
   "cell_type": "markdown",
   "id": "9bff566f-4040-4dc3-897c-68dd0a9b2a87",
   "metadata": {},
   "source": [
    "***\n",
    "## Cleaning Up Dataframes & Data \n",
    "***"
   ]
  },
  {
   "cell_type": "markdown",
   "id": "c6782286-3f8a-469b-b21b-0d7741e2f6b0",
   "metadata": {},
   "source": [
    "<br>"
   ]
  },
  {
   "cell_type": "markdown",
   "id": "acb3aa50-c0ef-4fd2-868c-3b3f47e943d4",
   "metadata": {
    "tags": []
   },
   "source": [
    "Let's clean up our dataframes by choosing the columns we will be using, merging the level 6, 7 and 8 level courses for 2019 and 2021 together and any duplicate values.'"
   ]
  },
  {
   "cell_type": "markdown",
   "id": "7ce2da40-65b9-42a2-8dfe-a889de23d590",
   "metadata": {},
   "source": [
    "<br>"
   ]
  },
  {
   "cell_type": "markdown",
   "id": "a9e4ce20-e386-4f62-af05-077a05a0685d",
   "metadata": {
    "tags": []
   },
   "source": [
    "### 2021"
   ]
  },
  {
   "cell_type": "markdown",
   "id": "1b56ec2d-3b29-4750-825e-b33ad94edca3",
   "metadata": {},
   "source": [
    "<br>"
   ]
  },
  {
   "cell_type": "code",
   "execution_count": 54,
   "id": "60eb8732-1e74-4c0a-b42c-50df2065b742",
   "metadata": {},
   "outputs": [],
   "source": [
    "# Selecting columns level 8\n",
    "level_8_2021 = df2021[['code', 'title', 'level',  'pointsR1', 'pointsR2']]"
   ]
  },
  {
   "cell_type": "markdown",
   "id": "03cfad87-7bff-41ee-bfa5-9517bf4e0b17",
   "metadata": {},
   "source": [
    "<br>"
   ]
  },
  {
   "cell_type": "code",
   "execution_count": 55,
   "id": "1f6ee91c-3c8f-4652-ba79-4623ad185e82",
   "metadata": {},
   "outputs": [],
   "source": [
    "# Selecting columns level 6/7\n",
    "level_6_2021 = df2021_2[['code', 'title', 'level',  'pointsR1', 'pointsR2']]"
   ]
  },
  {
   "cell_type": "markdown",
   "id": "b3672a01-6f87-41de-9159-0624e4f38661",
   "metadata": {},
   "source": [
    "<br>"
   ]
  },
  {
   "cell_type": "markdown",
   "id": "a1c99463-29fe-46ef-8821-99a29ad39d17",
   "metadata": {},
   "source": [
    "<br>"
   ]
  },
  {
   "cell_type": "markdown",
   "id": "a20ecdc2-246c-46e8-9258-ddeda935d1dd",
   "metadata": {},
   "source": [
    "`Pandas` makes it super simple for us to combine our dataframes by performing concatenation. The `.concat()` method allows us <i>\"...to append either columns or rows from one DataFrame to another\"</i> [10]."
   ]
  },
  {
   "cell_type": "markdown",
   "id": "d33fbf99-6f31-48f2-9a51-bfcf7fddadae",
   "metadata": {},
   "source": [
    "<br>"
   ]
  },
  {
   "cell_type": "markdown",
   "id": "6cdd76d1-ec09-4161-b505-6500e4e01e64",
   "metadata": {},
   "source": [
    "![img](images/concat.png)"
   ]
  },
  {
   "cell_type": "markdown",
   "id": "1731ad91-48c2-41b3-bb00-0e62cf5d153a",
   "metadata": {},
   "source": [
    "<br>"
   ]
  },
  {
   "cell_type": "markdown",
   "id": "c1ef5b59-b66c-4b15-a8eb-f776dce546ae",
   "metadata": {},
   "source": [
    "<br>"
   ]
  },
  {
   "cell_type": "code",
   "execution_count": 56,
   "id": "d186a1af-013c-499f-85d6-25dad2d41590",
   "metadata": {},
   "outputs": [
    {
     "data": {
      "text/html": [
       "<div>\n",
       "<style scoped>\n",
       "    .dataframe tbody tr th:only-of-type {\n",
       "        vertical-align: middle;\n",
       "    }\n",
       "\n",
       "    .dataframe tbody tr th {\n",
       "        vertical-align: top;\n",
       "    }\n",
       "\n",
       "    .dataframe thead th {\n",
       "        text-align: right;\n",
       "    }\n",
       "</style>\n",
       "<table border=\"1\" class=\"dataframe\">\n",
       "  <thead>\n",
       "    <tr style=\"text-align: right;\">\n",
       "      <th></th>\n",
       "      <th>code</th>\n",
       "      <th>title</th>\n",
       "      <th>level</th>\n",
       "      <th>pointsR1</th>\n",
       "      <th>pointsR2</th>\n",
       "    </tr>\n",
       "  </thead>\n",
       "  <tbody>\n",
       "    <tr>\n",
       "      <th>0</th>\n",
       "      <td>AL801</td>\n",
       "      <td>Software Design for Virtual Reality and Gaming</td>\n",
       "      <td>8</td>\n",
       "      <td>300</td>\n",
       "      <td>NaN</td>\n",
       "    </tr>\n",
       "    <tr>\n",
       "      <th>1</th>\n",
       "      <td>AL802</td>\n",
       "      <td>Software Design in Artificial Intelligence for...</td>\n",
       "      <td>8</td>\n",
       "      <td>313</td>\n",
       "      <td>NaN</td>\n",
       "    </tr>\n",
       "    <tr>\n",
       "      <th>2</th>\n",
       "      <td>AL803</td>\n",
       "      <td>Software Design for Mobile Apps and Connected ...</td>\n",
       "      <td>8</td>\n",
       "      <td>350</td>\n",
       "      <td>NaN</td>\n",
       "    </tr>\n",
       "    <tr>\n",
       "      <th>3</th>\n",
       "      <td>AL805</td>\n",
       "      <td>Computer Engineering for Network Infrastructure</td>\n",
       "      <td>8</td>\n",
       "      <td>321</td>\n",
       "      <td>NaN</td>\n",
       "    </tr>\n",
       "    <tr>\n",
       "      <th>4</th>\n",
       "      <td>AL810</td>\n",
       "      <td>Quantity Surveying</td>\n",
       "      <td>8</td>\n",
       "      <td>328</td>\n",
       "      <td>NaN</td>\n",
       "    </tr>\n",
       "    <tr>\n",
       "      <th>...</th>\n",
       "      <td>...</td>\n",
       "      <td>...</td>\n",
       "      <td>...</td>\n",
       "      <td>...</td>\n",
       "      <td>...</td>\n",
       "    </tr>\n",
       "    <tr>\n",
       "      <th>1360</th>\n",
       "      <td>WD188</td>\n",
       "      <td>Applied Health Care</td>\n",
       "      <td>6/7</td>\n",
       "      <td>220</td>\n",
       "      <td>NaN</td>\n",
       "    </tr>\n",
       "    <tr>\n",
       "      <th>1361</th>\n",
       "      <td>WD205</td>\n",
       "      <td>Molecular Biology with Biopharmaceutical Science</td>\n",
       "      <td>6/7</td>\n",
       "      <td>AQA</td>\n",
       "      <td>262v</td>\n",
       "    </tr>\n",
       "    <tr>\n",
       "      <th>1362</th>\n",
       "      <td>WD206</td>\n",
       "      <td>Electronic Engineering</td>\n",
       "      <td>6/7</td>\n",
       "      <td>180</td>\n",
       "      <td>NaN</td>\n",
       "    </tr>\n",
       "    <tr>\n",
       "      <th>1363</th>\n",
       "      <td>WD207</td>\n",
       "      <td>Mechanical Engineering</td>\n",
       "      <td>6/7</td>\n",
       "      <td>172</td>\n",
       "      <td>NaN</td>\n",
       "    </tr>\n",
       "    <tr>\n",
       "      <th>1364</th>\n",
       "      <td>WD208</td>\n",
       "      <td>Manufacturing Engineering</td>\n",
       "      <td>6/7</td>\n",
       "      <td>317</td>\n",
       "      <td>NaN</td>\n",
       "    </tr>\n",
       "  </tbody>\n",
       "</table>\n",
       "<p>1365 rows × 5 columns</p>\n",
       "</div>"
      ],
      "text/plain": [
       "       code                                              title level pointsR1  \\\n",
       "0     AL801     Software Design for Virtual Reality and Gaming     8      300   \n",
       "1     AL802  Software Design in Artificial Intelligence for...     8      313   \n",
       "2     AL803  Software Design for Mobile Apps and Connected ...     8      350   \n",
       "3     AL805    Computer Engineering for Network Infrastructure     8      321   \n",
       "4     AL810                                 Quantity Surveying     8      328   \n",
       "...     ...                                                ...   ...      ...   \n",
       "1360  WD188                                Applied Health Care   6/7      220   \n",
       "1361  WD205   Molecular Biology with Biopharmaceutical Science   6/7      AQA   \n",
       "1362  WD206                             Electronic Engineering   6/7      180   \n",
       "1363  WD207                             Mechanical Engineering   6/7      172   \n",
       "1364  WD208                          Manufacturing Engineering   6/7      317   \n",
       "\n",
       "     pointsR2  \n",
       "0         NaN  \n",
       "1         NaN  \n",
       "2         NaN  \n",
       "3         NaN  \n",
       "4         NaN  \n",
       "...       ...  \n",
       "1360      NaN  \n",
       "1361     262v  \n",
       "1362      NaN  \n",
       "1363      NaN  \n",
       "1364      NaN  \n",
       "\n",
       "[1365 rows x 5 columns]"
      ]
     },
     "execution_count": 56,
     "metadata": {},
     "output_type": "execute_result"
    }
   ],
   "source": [
    "# Concatenating level 8 and 6/7 2021 courses\n",
    "total2021 = pd.concat([level_8_2021, level_6_2021], ignore_index=True)\n",
    "total2021"
   ]
  },
  {
   "cell_type": "markdown",
   "id": "697cdd25-c5af-41a1-abeb-ff1f776d5c3d",
   "metadata": {},
   "source": [
    "<br>"
   ]
  },
  {
   "cell_type": "markdown",
   "id": "5ed9157c-6881-4ae5-a533-db76be35e835",
   "metadata": {},
   "source": [
    "<br>"
   ]
  },
  {
   "cell_type": "markdown",
   "id": "25112745-8e20-450f-882b-439496b533b9",
   "metadata": {
    "tags": []
   },
   "source": [
    "<br>"
   ]
  },
  {
   "cell_type": "markdown",
   "id": "85fd5608-4e2f-4707-a0a6-ca1b71aca24e",
   "metadata": {},
   "source": [
    "### 2020"
   ]
  },
  {
   "cell_type": "markdown",
   "id": "9945a09f-263c-4eeb-8ac2-e739ec517fb6",
   "metadata": {},
   "source": [
    "<br>"
   ]
  },
  {
   "cell_type": "markdown",
   "id": "072a296c-2a5c-4eac-b289-1963170be5de",
   "metadata": {},
   "source": [
    "As all courses are inculded in the one file for 2020 points we don't need to combine them. We will however create a new dataframe by choosing the column titles we will be using."
   ]
  },
  {
   "cell_type": "markdown",
   "id": "f5077656-a206-4362-a63e-c1b1e7209ca2",
   "metadata": {},
   "source": [
    "<br>"
   ]
  },
  {
   "cell_type": "code",
   "execution_count": 57,
   "id": "a1076ed4-0a05-438d-b50c-5f4e705cb347",
   "metadata": {},
   "outputs": [],
   "source": [
    "# Selecting coloumns\n",
    "total2020 = df2020[['COURSE CODE2','COURSE TITLE', 'LEVEL']]"
   ]
  },
  {
   "cell_type": "markdown",
   "id": "19b80b11-395d-4f21-bf68-f405ab0594b9",
   "metadata": {},
   "source": [
    "<br>"
   ]
  },
  {
   "cell_type": "code",
   "execution_count": 58,
   "id": "3c5705a5-c59e-4b71-a6ce-2379d212af95",
   "metadata": {},
   "outputs": [],
   "source": [
    "# Renaming columns\n",
    "total2020.columns = ['code', 'title', 'level']"
   ]
  },
  {
   "cell_type": "markdown",
   "id": "81262f07-27f1-47d5-a4c8-776251cb7f67",
   "metadata": {},
   "source": [
    "<br>"
   ]
  },
  {
   "cell_type": "code",
   "execution_count": 59,
   "id": "b0f57f5c-ef78-4ad2-883d-8f21711bfbb6",
   "metadata": {},
   "outputs": [
    {
     "data": {
      "text/html": [
       "<div>\n",
       "<style scoped>\n",
       "    .dataframe tbody tr th:only-of-type {\n",
       "        vertical-align: middle;\n",
       "    }\n",
       "\n",
       "    .dataframe tbody tr th {\n",
       "        vertical-align: top;\n",
       "    }\n",
       "\n",
       "    .dataframe thead th {\n",
       "        text-align: right;\n",
       "    }\n",
       "</style>\n",
       "<table border=\"1\" class=\"dataframe\">\n",
       "  <thead>\n",
       "    <tr style=\"text-align: right;\">\n",
       "      <th></th>\n",
       "      <th>code</th>\n",
       "      <th>title</th>\n",
       "      <th>level</th>\n",
       "    </tr>\n",
       "  </thead>\n",
       "  <tbody>\n",
       "    <tr>\n",
       "      <th>0</th>\n",
       "      <td>AC120</td>\n",
       "      <td>International Business</td>\n",
       "      <td>8</td>\n",
       "    </tr>\n",
       "    <tr>\n",
       "      <th>1</th>\n",
       "      <td>AC137</td>\n",
       "      <td>Liberal Arts</td>\n",
       "      <td>8</td>\n",
       "    </tr>\n",
       "    <tr>\n",
       "      <th>2</th>\n",
       "      <td>AD101</td>\n",
       "      <td>First Year Art &amp; Design (Common Entry,portfolio)</td>\n",
       "      <td>8</td>\n",
       "    </tr>\n",
       "    <tr>\n",
       "      <th>3</th>\n",
       "      <td>AD102</td>\n",
       "      <td>Graphic Design and Moving Image Design (portfo...</td>\n",
       "      <td>8</td>\n",
       "    </tr>\n",
       "    <tr>\n",
       "      <th>4</th>\n",
       "      <td>AD103</td>\n",
       "      <td>Textile &amp; Surface Design and Jewellery &amp; Objec...</td>\n",
       "      <td>8</td>\n",
       "    </tr>\n",
       "    <tr>\n",
       "      <th>...</th>\n",
       "      <td>...</td>\n",
       "      <td>...</td>\n",
       "      <td>...</td>\n",
       "    </tr>\n",
       "    <tr>\n",
       "      <th>1459</th>\n",
       "      <td>WD208</td>\n",
       "      <td>Manufacturing Engineering</td>\n",
       "      <td>7</td>\n",
       "    </tr>\n",
       "    <tr>\n",
       "      <th>1460</th>\n",
       "      <td>WD210</td>\n",
       "      <td>Software Systems Development</td>\n",
       "      <td>8</td>\n",
       "    </tr>\n",
       "    <tr>\n",
       "      <th>1461</th>\n",
       "      <td>WD211</td>\n",
       "      <td>Creative Computing</td>\n",
       "      <td>8</td>\n",
       "    </tr>\n",
       "    <tr>\n",
       "      <th>1462</th>\n",
       "      <td>WD212</td>\n",
       "      <td>Recreation and Sport Management</td>\n",
       "      <td>8</td>\n",
       "    </tr>\n",
       "    <tr>\n",
       "      <th>1463</th>\n",
       "      <td>WD230</td>\n",
       "      <td>Mechanical and Manufacturing Engineering</td>\n",
       "      <td>8</td>\n",
       "    </tr>\n",
       "  </tbody>\n",
       "</table>\n",
       "<p>1464 rows × 3 columns</p>\n",
       "</div>"
      ],
      "text/plain": [
       "       code                                              title  level\n",
       "0     AC120                             International Business      8\n",
       "1     AC137                                       Liberal Arts      8\n",
       "2     AD101   First Year Art & Design (Common Entry,portfolio)      8\n",
       "3     AD102  Graphic Design and Moving Image Design (portfo...      8\n",
       "4     AD103  Textile & Surface Design and Jewellery & Objec...      8\n",
       "...     ...                                                ...    ...\n",
       "1459  WD208                          Manufacturing Engineering      7\n",
       "1460  WD210                       Software Systems Development      8\n",
       "1461  WD211                                 Creative Computing      8\n",
       "1462  WD212                    Recreation and Sport Management      8\n",
       "1463  WD230           Mechanical and Manufacturing Engineering      8\n",
       "\n",
       "[1464 rows x 3 columns]"
      ]
     },
     "execution_count": 59,
     "metadata": {},
     "output_type": "execute_result"
    }
   ],
   "source": [
    "total2020"
   ]
  },
  {
   "cell_type": "markdown",
   "id": "e0a39eed-bd5a-4e4d-af3d-b9952187ebf8",
   "metadata": {},
   "source": [
    "<br>"
   ]
  },
  {
   "cell_type": "markdown",
   "id": "0cc9f153-2686-4b7d-b3ae-0bdd278a3958",
   "metadata": {},
   "source": [
    "<br>"
   ]
  },
  {
   "cell_type": "markdown",
   "id": "e516cc8e-351f-4534-8cc3-d5e6e0d0fd76",
   "metadata": {
    "tags": []
   },
   "source": [
    "<br>"
   ]
  },
  {
   "cell_type": "markdown",
   "id": "25116ad5-adb5-4224-b99c-d948aa11adb6",
   "metadata": {
    "tags": []
   },
   "source": [
    "### 2019"
   ]
  },
  {
   "cell_type": "markdown",
   "id": "b3722891-0b7e-4081-84d7-f2b0e7d5755c",
   "metadata": {},
   "source": [
    "<br>"
   ]
  },
  {
   "cell_type": "code",
   "execution_count": 60,
   "id": "bbdcc35c-f126-4511-a89e-1dbdc80ba256",
   "metadata": {},
   "outputs": [],
   "source": [
    "# Selecting columns level 8\n",
    "level_8_2019 = df2019[['code', 'title', 'level', 'points']]"
   ]
  },
  {
   "cell_type": "markdown",
   "id": "95989399-cd6c-47de-afec-bfd591c8b4cd",
   "metadata": {},
   "source": [
    "<br>"
   ]
  },
  {
   "cell_type": "code",
   "execution_count": 61,
   "id": "074633d1-2d1c-4d1b-a538-b16767d3c15b",
   "metadata": {},
   "outputs": [],
   "source": [
    "# Selecting columns level 6/7\n",
    "level_6_2019 = df2019_2[['code', 'title', 'level', 'points']]"
   ]
  },
  {
   "cell_type": "markdown",
   "id": "72c3d4e7-1efc-4834-8e11-c40445525fe2",
   "metadata": {},
   "source": [
    "<br>"
   ]
  },
  {
   "cell_type": "code",
   "execution_count": 62,
   "id": "38ad5005-f7ac-40ff-82e1-bd6aeacb4f98",
   "metadata": {},
   "outputs": [
    {
     "data": {
      "text/html": [
       "<div>\n",
       "<style scoped>\n",
       "    .dataframe tbody tr th:only-of-type {\n",
       "        vertical-align: middle;\n",
       "    }\n",
       "\n",
       "    .dataframe tbody tr th {\n",
       "        vertical-align: top;\n",
       "    }\n",
       "\n",
       "    .dataframe thead th {\n",
       "        text-align: right;\n",
       "    }\n",
       "</style>\n",
       "<table border=\"1\" class=\"dataframe\">\n",
       "  <thead>\n",
       "    <tr style=\"text-align: right;\">\n",
       "      <th></th>\n",
       "      <th>code</th>\n",
       "      <th>title</th>\n",
       "      <th>level</th>\n",
       "      <th>points</th>\n",
       "    </tr>\n",
       "  </thead>\n",
       "  <tbody>\n",
       "    <tr>\n",
       "      <th>0</th>\n",
       "      <td>Course Code INSTITUTION and COURSE</td>\n",
       "      <td>NaN</td>\n",
       "      <td>8</td>\n",
       "      <td>EOS</td>\n",
       "    </tr>\n",
       "    <tr>\n",
       "      <th>1</th>\n",
       "      <td>AL801</td>\n",
       "      <td>Software Design with Virtual Reality and Gaming</td>\n",
       "      <td>8</td>\n",
       "      <td>304</td>\n",
       "    </tr>\n",
       "    <tr>\n",
       "      <th>2</th>\n",
       "      <td>AL802</td>\n",
       "      <td>Software Design with Cloud Computing</td>\n",
       "      <td>8</td>\n",
       "      <td>301</td>\n",
       "    </tr>\n",
       "    <tr>\n",
       "      <th>3</th>\n",
       "      <td>AL803</td>\n",
       "      <td>Software Design with Mobile Apps and Connected...</td>\n",
       "      <td>8</td>\n",
       "      <td>309</td>\n",
       "    </tr>\n",
       "    <tr>\n",
       "      <th>4</th>\n",
       "      <td>AL805</td>\n",
       "      <td>Network Management and Cloud Infrastructure</td>\n",
       "      <td>8</td>\n",
       "      <td>329</td>\n",
       "    </tr>\n",
       "    <tr>\n",
       "      <th>...</th>\n",
       "      <td>...</td>\n",
       "      <td>...</td>\n",
       "      <td>...</td>\n",
       "      <td>...</td>\n",
       "    </tr>\n",
       "    <tr>\n",
       "      <th>1304</th>\n",
       "      <td>WD173</td>\n",
       "      <td>Hospitality Studies</td>\n",
       "      <td>6/7</td>\n",
       "      <td>182.0</td>\n",
       "    </tr>\n",
       "    <tr>\n",
       "      <th>1305</th>\n",
       "      <td>WD174</td>\n",
       "      <td>Tourism</td>\n",
       "      <td>6/7</td>\n",
       "      <td>134.0</td>\n",
       "    </tr>\n",
       "    <tr>\n",
       "      <th>1306</th>\n",
       "      <td>WD175</td>\n",
       "      <td>Pharmaceutical Science</td>\n",
       "      <td>6/7</td>\n",
       "      <td>207.0</td>\n",
       "    </tr>\n",
       "    <tr>\n",
       "      <th>1307</th>\n",
       "      <td>WD177</td>\n",
       "      <td>Science (Mol. Biology with Biopharm.,Food Scie...</td>\n",
       "      <td>6/7</td>\n",
       "      <td>NaN</td>\n",
       "    </tr>\n",
       "    <tr>\n",
       "      <th>1308</th>\n",
       "      <td>WD182</td>\n",
       "      <td>Electrical Engineering</td>\n",
       "      <td>6/7</td>\n",
       "      <td>188.0</td>\n",
       "    </tr>\n",
       "  </tbody>\n",
       "</table>\n",
       "<p>1309 rows × 4 columns</p>\n",
       "</div>"
      ],
      "text/plain": [
       "                                    code  \\\n",
       "0     Course Code INSTITUTION and COURSE   \n",
       "1                                  AL801   \n",
       "2                                  AL802   \n",
       "3                                  AL803   \n",
       "4                                  AL805   \n",
       "...                                  ...   \n",
       "1304                               WD173   \n",
       "1305                               WD174   \n",
       "1306                               WD175   \n",
       "1307                               WD177   \n",
       "1308                               WD182   \n",
       "\n",
       "                                                  title level points  \n",
       "0                                                   NaN     8    EOS  \n",
       "1       Software Design with Virtual Reality and Gaming     8    304  \n",
       "2                  Software Design with Cloud Computing     8    301  \n",
       "3     Software Design with Mobile Apps and Connected...     8    309  \n",
       "4           Network Management and Cloud Infrastructure     8    329  \n",
       "...                                                 ...   ...    ...  \n",
       "1304                                Hospitality Studies   6/7  182.0  \n",
       "1305                                            Tourism   6/7  134.0  \n",
       "1306                             Pharmaceutical Science   6/7  207.0  \n",
       "1307  Science (Mol. Biology with Biopharm.,Food Scie...   6/7    NaN  \n",
       "1308                             Electrical Engineering   6/7  188.0  \n",
       "\n",
       "[1309 rows x 4 columns]"
      ]
     },
     "execution_count": 62,
     "metadata": {},
     "output_type": "execute_result"
    }
   ],
   "source": [
    "# Concatenating level 8 and 6/7 2021 courses\n",
    "total2019= pd.concat([level_8_2019, level_6_2019], ignore_index=True)\n",
    "total2019"
   ]
  },
  {
   "cell_type": "markdown",
   "id": "b353a614-4bfe-4295-9680-780cabaa6a61",
   "metadata": {
    "tags": []
   },
   "source": [
    "<br>"
   ]
  },
  {
   "cell_type": "markdown",
   "id": "b03aac71-895e-4406-92c8-bf0bf265e1a8",
   "metadata": {},
   "source": [
    "<br>"
   ]
  },
  {
   "cell_type": "markdown",
   "id": "73479988-9abd-4cf0-9163-df81994f0702",
   "metadata": {},
   "source": [
    "<br>"
   ]
  },
  {
   "cell_type": "markdown",
   "id": "51c9bc33-94ee-4c6f-8295-c3c607289a53",
   "metadata": {},
   "source": [
    "<br>"
   ]
  },
  {
   "cell_type": "markdown",
   "id": "9489531b-ef14-45a5-8a9e-d08128e2f6fa",
   "metadata": {
    "tags": []
   },
   "source": [
    "### All Courses"
   ]
  },
  {
   "cell_type": "markdown",
   "id": "8b2e012c-8006-42c2-ab91-c32d8666ad42",
   "metadata": {
    "tags": []
   },
   "source": [
    "<br>"
   ]
  },
  {
   "cell_type": "markdown",
   "id": "acaec4c7-b931-41b2-8d43-212b1e9a5e39",
   "metadata": {
    "tags": []
   },
   "source": [
    "Now that we have three smaller dataframes for each year, it's time to combine the code, title and level for each year into one. This will enable us to join the points for each year later on."
   ]
  },
  {
   "cell_type": "markdown",
   "id": "a9639bda-4b8f-49bd-8ee2-cfc426ced046",
   "metadata": {
    "tags": []
   },
   "source": [
    "<br>"
   ]
  },
  {
   "cell_type": "code",
   "execution_count": 63,
   "id": "01b7ecc1-6680-430e-b01c-1a419e844743",
   "metadata": {},
   "outputs": [
    {
     "data": {
      "text/html": [
       "<div>\n",
       "<style scoped>\n",
       "    .dataframe tbody tr th:only-of-type {\n",
       "        vertical-align: middle;\n",
       "    }\n",
       "\n",
       "    .dataframe tbody tr th {\n",
       "        vertical-align: top;\n",
       "    }\n",
       "\n",
       "    .dataframe thead th {\n",
       "        text-align: right;\n",
       "    }\n",
       "</style>\n",
       "<table border=\"1\" class=\"dataframe\">\n",
       "  <thead>\n",
       "    <tr style=\"text-align: right;\">\n",
       "      <th></th>\n",
       "      <th>code</th>\n",
       "      <th>title</th>\n",
       "      <th>level</th>\n",
       "    </tr>\n",
       "  </thead>\n",
       "  <tbody>\n",
       "    <tr>\n",
       "      <th>0</th>\n",
       "      <td>AL801</td>\n",
       "      <td>Software Design for Virtual Reality and Gaming</td>\n",
       "      <td>8</td>\n",
       "    </tr>\n",
       "    <tr>\n",
       "      <th>1</th>\n",
       "      <td>AL802</td>\n",
       "      <td>Software Design in Artificial Intelligence for...</td>\n",
       "      <td>8</td>\n",
       "    </tr>\n",
       "    <tr>\n",
       "      <th>2</th>\n",
       "      <td>AL803</td>\n",
       "      <td>Software Design for Mobile Apps and Connected ...</td>\n",
       "      <td>8</td>\n",
       "    </tr>\n",
       "    <tr>\n",
       "      <th>3</th>\n",
       "      <td>AL805</td>\n",
       "      <td>Computer Engineering for Network Infrastructure</td>\n",
       "      <td>8</td>\n",
       "    </tr>\n",
       "    <tr>\n",
       "      <th>4</th>\n",
       "      <td>AL810</td>\n",
       "      <td>Quantity Surveying</td>\n",
       "      <td>8</td>\n",
       "    </tr>\n",
       "    <tr>\n",
       "      <th>...</th>\n",
       "      <td>...</td>\n",
       "      <td>...</td>\n",
       "      <td>...</td>\n",
       "    </tr>\n",
       "    <tr>\n",
       "      <th>1360</th>\n",
       "      <td>WD188</td>\n",
       "      <td>Applied Health Care</td>\n",
       "      <td>6/7</td>\n",
       "    </tr>\n",
       "    <tr>\n",
       "      <th>1361</th>\n",
       "      <td>WD205</td>\n",
       "      <td>Molecular Biology with Biopharmaceutical Science</td>\n",
       "      <td>6/7</td>\n",
       "    </tr>\n",
       "    <tr>\n",
       "      <th>1362</th>\n",
       "      <td>WD206</td>\n",
       "      <td>Electronic Engineering</td>\n",
       "      <td>6/7</td>\n",
       "    </tr>\n",
       "    <tr>\n",
       "      <th>1363</th>\n",
       "      <td>WD207</td>\n",
       "      <td>Mechanical Engineering</td>\n",
       "      <td>6/7</td>\n",
       "    </tr>\n",
       "    <tr>\n",
       "      <th>1364</th>\n",
       "      <td>WD208</td>\n",
       "      <td>Manufacturing Engineering</td>\n",
       "      <td>6/7</td>\n",
       "    </tr>\n",
       "  </tbody>\n",
       "</table>\n",
       "<p>1365 rows × 3 columns</p>\n",
       "</div>"
      ],
      "text/plain": [
       "       code                                              title level\n",
       "0     AL801     Software Design for Virtual Reality and Gaming     8\n",
       "1     AL802  Software Design in Artificial Intelligence for...     8\n",
       "2     AL803  Software Design for Mobile Apps and Connected ...     8\n",
       "3     AL805    Computer Engineering for Network Infrastructure     8\n",
       "4     AL810                                 Quantity Surveying     8\n",
       "...     ...                                                ...   ...\n",
       "1360  WD188                                Applied Health Care   6/7\n",
       "1361  WD205   Molecular Biology with Biopharmaceutical Science   6/7\n",
       "1362  WD206                             Electronic Engineering   6/7\n",
       "1363  WD207                             Mechanical Engineering   6/7\n",
       "1364  WD208                          Manufacturing Engineering   6/7\n",
       "\n",
       "[1365 rows x 3 columns]"
      ]
     },
     "execution_count": 63,
     "metadata": {},
     "output_type": "execute_result"
    }
   ],
   "source": [
    "# Choosing columns\n",
    "courses2021 = total2021[['code', 'title', 'level']]\n",
    "courses2021"
   ]
  },
  {
   "cell_type": "markdown",
   "id": "c62d001a-7b13-4850-8f3a-809cf4e251b6",
   "metadata": {
    "tags": []
   },
   "source": [
    "<br>"
   ]
  },
  {
   "cell_type": "markdown",
   "id": "f0a470c9-8e35-4785-89fa-741280907a2e",
   "metadata": {
    "tags": []
   },
   "source": [
    "<br>"
   ]
  },
  {
   "cell_type": "markdown",
   "id": "e450d04c-1669-406b-9f99-76c1607fadfb",
   "metadata": {
    "tags": []
   },
   "source": [
    "<br>"
   ]
  },
  {
   "cell_type": "code",
   "execution_count": 64,
   "id": "9270fdd1-8e6f-426d-afce-e1f71db97bad",
   "metadata": {},
   "outputs": [
    {
     "data": {
      "text/html": [
       "<div>\n",
       "<style scoped>\n",
       "    .dataframe tbody tr th:only-of-type {\n",
       "        vertical-align: middle;\n",
       "    }\n",
       "\n",
       "    .dataframe tbody tr th {\n",
       "        vertical-align: top;\n",
       "    }\n",
       "\n",
       "    .dataframe thead th {\n",
       "        text-align: right;\n",
       "    }\n",
       "</style>\n",
       "<table border=\"1\" class=\"dataframe\">\n",
       "  <thead>\n",
       "    <tr style=\"text-align: right;\">\n",
       "      <th></th>\n",
       "      <th>code</th>\n",
       "      <th>title</th>\n",
       "      <th>level2020</th>\n",
       "    </tr>\n",
       "  </thead>\n",
       "  <tbody>\n",
       "    <tr>\n",
       "      <th>0</th>\n",
       "      <td>AC120</td>\n",
       "      <td>International Business</td>\n",
       "      <td>8</td>\n",
       "    </tr>\n",
       "    <tr>\n",
       "      <th>1</th>\n",
       "      <td>AC137</td>\n",
       "      <td>Liberal Arts</td>\n",
       "      <td>8</td>\n",
       "    </tr>\n",
       "    <tr>\n",
       "      <th>2</th>\n",
       "      <td>AD101</td>\n",
       "      <td>First Year Art &amp; Design (Common Entry,portfolio)</td>\n",
       "      <td>8</td>\n",
       "    </tr>\n",
       "    <tr>\n",
       "      <th>3</th>\n",
       "      <td>AD102</td>\n",
       "      <td>Graphic Design and Moving Image Design (portfo...</td>\n",
       "      <td>8</td>\n",
       "    </tr>\n",
       "    <tr>\n",
       "      <th>4</th>\n",
       "      <td>AD103</td>\n",
       "      <td>Textile &amp; Surface Design and Jewellery &amp; Objec...</td>\n",
       "      <td>8</td>\n",
       "    </tr>\n",
       "    <tr>\n",
       "      <th>...</th>\n",
       "      <td>...</td>\n",
       "      <td>...</td>\n",
       "      <td>...</td>\n",
       "    </tr>\n",
       "    <tr>\n",
       "      <th>1459</th>\n",
       "      <td>WD208</td>\n",
       "      <td>Manufacturing Engineering</td>\n",
       "      <td>7</td>\n",
       "    </tr>\n",
       "    <tr>\n",
       "      <th>1460</th>\n",
       "      <td>WD210</td>\n",
       "      <td>Software Systems Development</td>\n",
       "      <td>8</td>\n",
       "    </tr>\n",
       "    <tr>\n",
       "      <th>1461</th>\n",
       "      <td>WD211</td>\n",
       "      <td>Creative Computing</td>\n",
       "      <td>8</td>\n",
       "    </tr>\n",
       "    <tr>\n",
       "      <th>1462</th>\n",
       "      <td>WD212</td>\n",
       "      <td>Recreation and Sport Management</td>\n",
       "      <td>8</td>\n",
       "    </tr>\n",
       "    <tr>\n",
       "      <th>1463</th>\n",
       "      <td>WD230</td>\n",
       "      <td>Mechanical and Manufacturing Engineering</td>\n",
       "      <td>8</td>\n",
       "    </tr>\n",
       "  </tbody>\n",
       "</table>\n",
       "<p>1464 rows × 3 columns</p>\n",
       "</div>"
      ],
      "text/plain": [
       "       code                                              title  level2020\n",
       "0     AC120                             International Business          8\n",
       "1     AC137                                       Liberal Arts          8\n",
       "2     AD101   First Year Art & Design (Common Entry,portfolio)          8\n",
       "3     AD102  Graphic Design and Moving Image Design (portfo...          8\n",
       "4     AD103  Textile & Surface Design and Jewellery & Objec...          8\n",
       "...     ...                                                ...        ...\n",
       "1459  WD208                          Manufacturing Engineering          7\n",
       "1460  WD210                       Software Systems Development          8\n",
       "1461  WD211                                 Creative Computing          8\n",
       "1462  WD212                    Recreation and Sport Management          8\n",
       "1463  WD230           Mechanical and Manufacturing Engineering          8\n",
       "\n",
       "[1464 rows x 3 columns]"
      ]
     },
     "execution_count": 64,
     "metadata": {},
     "output_type": "execute_result"
    }
   ],
   "source": [
    "# Choosing column\n",
    "courses2020 = df2020[['COURSE CODE2','COURSE TITLE', 'LEVEL']]\n",
    "\n",
    "# Renaming columns\n",
    "courses2020.columns = ['code', 'title', 'level2020']\n",
    "\n",
    "courses2020"
   ]
  },
  {
   "cell_type": "markdown",
   "id": "24881b07-f981-4286-ba63-e8aa68150d3a",
   "metadata": {},
   "source": [
    "<br>"
   ]
  },
  {
   "cell_type": "markdown",
   "id": "50001844-390c-4d2b-aafc-fe0a06042bae",
   "metadata": {
    "tags": []
   },
   "source": [
    "<br>"
   ]
  },
  {
   "cell_type": "markdown",
   "id": "61ac3f79-4a0f-4e8a-898d-434d3e89e228",
   "metadata": {
    "tags": []
   },
   "source": [
    "<br>"
   ]
  },
  {
   "cell_type": "code",
   "execution_count": 65,
   "id": "cef3d520-98ee-489b-9aa6-cde7937272ed",
   "metadata": {},
   "outputs": [
    {
     "data": {
      "text/html": [
       "<div>\n",
       "<style scoped>\n",
       "    .dataframe tbody tr th:only-of-type {\n",
       "        vertical-align: middle;\n",
       "    }\n",
       "\n",
       "    .dataframe tbody tr th {\n",
       "        vertical-align: top;\n",
       "    }\n",
       "\n",
       "    .dataframe thead th {\n",
       "        text-align: right;\n",
       "    }\n",
       "</style>\n",
       "<table border=\"1\" class=\"dataframe\">\n",
       "  <thead>\n",
       "    <tr style=\"text-align: right;\">\n",
       "      <th></th>\n",
       "      <th>code</th>\n",
       "      <th>title</th>\n",
       "      <th>level2019</th>\n",
       "    </tr>\n",
       "  </thead>\n",
       "  <tbody>\n",
       "    <tr>\n",
       "      <th>0</th>\n",
       "      <td>Course Code INSTITUTION and COURSE</td>\n",
       "      <td>NaN</td>\n",
       "      <td>8</td>\n",
       "    </tr>\n",
       "    <tr>\n",
       "      <th>1</th>\n",
       "      <td>AL801</td>\n",
       "      <td>Software Design with Virtual Reality and Gaming</td>\n",
       "      <td>8</td>\n",
       "    </tr>\n",
       "    <tr>\n",
       "      <th>2</th>\n",
       "      <td>AL802</td>\n",
       "      <td>Software Design with Cloud Computing</td>\n",
       "      <td>8</td>\n",
       "    </tr>\n",
       "    <tr>\n",
       "      <th>3</th>\n",
       "      <td>AL803</td>\n",
       "      <td>Software Design with Mobile Apps and Connected...</td>\n",
       "      <td>8</td>\n",
       "    </tr>\n",
       "    <tr>\n",
       "      <th>4</th>\n",
       "      <td>AL805</td>\n",
       "      <td>Network Management and Cloud Infrastructure</td>\n",
       "      <td>8</td>\n",
       "    </tr>\n",
       "    <tr>\n",
       "      <th>...</th>\n",
       "      <td>...</td>\n",
       "      <td>...</td>\n",
       "      <td>...</td>\n",
       "    </tr>\n",
       "    <tr>\n",
       "      <th>1304</th>\n",
       "      <td>WD173</td>\n",
       "      <td>Hospitality Studies</td>\n",
       "      <td>6/7</td>\n",
       "    </tr>\n",
       "    <tr>\n",
       "      <th>1305</th>\n",
       "      <td>WD174</td>\n",
       "      <td>Tourism</td>\n",
       "      <td>6/7</td>\n",
       "    </tr>\n",
       "    <tr>\n",
       "      <th>1306</th>\n",
       "      <td>WD175</td>\n",
       "      <td>Pharmaceutical Science</td>\n",
       "      <td>6/7</td>\n",
       "    </tr>\n",
       "    <tr>\n",
       "      <th>1307</th>\n",
       "      <td>WD177</td>\n",
       "      <td>Science (Mol. Biology with Biopharm.,Food Scie...</td>\n",
       "      <td>6/7</td>\n",
       "    </tr>\n",
       "    <tr>\n",
       "      <th>1308</th>\n",
       "      <td>WD182</td>\n",
       "      <td>Electrical Engineering</td>\n",
       "      <td>6/7</td>\n",
       "    </tr>\n",
       "  </tbody>\n",
       "</table>\n",
       "<p>1309 rows × 3 columns</p>\n",
       "</div>"
      ],
      "text/plain": [
       "                                    code  \\\n",
       "0     Course Code INSTITUTION and COURSE   \n",
       "1                                  AL801   \n",
       "2                                  AL802   \n",
       "3                                  AL803   \n",
       "4                                  AL805   \n",
       "...                                  ...   \n",
       "1304                               WD173   \n",
       "1305                               WD174   \n",
       "1306                               WD175   \n",
       "1307                               WD177   \n",
       "1308                               WD182   \n",
       "\n",
       "                                                  title level2019  \n",
       "0                                                   NaN         8  \n",
       "1       Software Design with Virtual Reality and Gaming         8  \n",
       "2                  Software Design with Cloud Computing         8  \n",
       "3     Software Design with Mobile Apps and Connected...         8  \n",
       "4           Network Management and Cloud Infrastructure         8  \n",
       "...                                                 ...       ...  \n",
       "1304                                Hospitality Studies       6/7  \n",
       "1305                                            Tourism       6/7  \n",
       "1306                             Pharmaceutical Science       6/7  \n",
       "1307  Science (Mol. Biology with Biopharm.,Food Scie...       6/7  \n",
       "1308                             Electrical Engineering       6/7  \n",
       "\n",
       "[1309 rows x 3 columns]"
      ]
     },
     "execution_count": 65,
     "metadata": {},
     "output_type": "execute_result"
    }
   ],
   "source": [
    "# Choosing columns\n",
    "courses2019 = total2019[['code', 'title', 'level']]\n",
    "\n",
    "# Renaming columns\n",
    "courses2019.columns = ['code', 'title', 'level2019']\n",
    "\n",
    "courses2019"
   ]
  },
  {
   "cell_type": "markdown",
   "id": "92b554c0-d347-45bf-80b1-5dfedcf59257",
   "metadata": {
    "tags": []
   },
   "source": [
    "<br>"
   ]
  },
  {
   "cell_type": "markdown",
   "id": "8d353870-a1a8-4e80-b42b-f053f88b8617",
   "metadata": {
    "tags": []
   },
   "source": [
    "<br>"
   ]
  },
  {
   "cell_type": "code",
   "execution_count": 66,
   "id": "210ee548-4bb2-49ee-8612-0d1d3c060cc3",
   "metadata": {},
   "outputs": [
    {
     "data": {
      "text/html": [
       "<div>\n",
       "<style scoped>\n",
       "    .dataframe tbody tr th:only-of-type {\n",
       "        vertical-align: middle;\n",
       "    }\n",
       "\n",
       "    .dataframe tbody tr th {\n",
       "        vertical-align: top;\n",
       "    }\n",
       "\n",
       "    .dataframe thead th {\n",
       "        text-align: right;\n",
       "    }\n",
       "</style>\n",
       "<table border=\"1\" class=\"dataframe\">\n",
       "  <thead>\n",
       "    <tr style=\"text-align: right;\">\n",
       "      <th></th>\n",
       "      <th>code</th>\n",
       "      <th>title</th>\n",
       "      <th>level2019</th>\n",
       "    </tr>\n",
       "  </thead>\n",
       "  <tbody>\n",
       "    <tr>\n",
       "      <th>1</th>\n",
       "      <td>AL801</td>\n",
       "      <td>Software Design with Virtual Reality and Gaming</td>\n",
       "      <td>8</td>\n",
       "    </tr>\n",
       "    <tr>\n",
       "      <th>2</th>\n",
       "      <td>AL802</td>\n",
       "      <td>Software Design with Cloud Computing</td>\n",
       "      <td>8</td>\n",
       "    </tr>\n",
       "    <tr>\n",
       "      <th>3</th>\n",
       "      <td>AL803</td>\n",
       "      <td>Software Design with Mobile Apps and Connected...</td>\n",
       "      <td>8</td>\n",
       "    </tr>\n",
       "    <tr>\n",
       "      <th>4</th>\n",
       "      <td>AL805</td>\n",
       "      <td>Network Management and Cloud Infrastructure</td>\n",
       "      <td>8</td>\n",
       "    </tr>\n",
       "    <tr>\n",
       "      <th>5</th>\n",
       "      <td>AL810</td>\n",
       "      <td>Quantity Surveying</td>\n",
       "      <td>8</td>\n",
       "    </tr>\n",
       "    <tr>\n",
       "      <th>...</th>\n",
       "      <td>...</td>\n",
       "      <td>...</td>\n",
       "      <td>...</td>\n",
       "    </tr>\n",
       "    <tr>\n",
       "      <th>1304</th>\n",
       "      <td>WD173</td>\n",
       "      <td>Hospitality Studies</td>\n",
       "      <td>6/7</td>\n",
       "    </tr>\n",
       "    <tr>\n",
       "      <th>1305</th>\n",
       "      <td>WD174</td>\n",
       "      <td>Tourism</td>\n",
       "      <td>6/7</td>\n",
       "    </tr>\n",
       "    <tr>\n",
       "      <th>1306</th>\n",
       "      <td>WD175</td>\n",
       "      <td>Pharmaceutical Science</td>\n",
       "      <td>6/7</td>\n",
       "    </tr>\n",
       "    <tr>\n",
       "      <th>1307</th>\n",
       "      <td>WD177</td>\n",
       "      <td>Science (Mol. Biology with Biopharm.,Food Scie...</td>\n",
       "      <td>6/7</td>\n",
       "    </tr>\n",
       "    <tr>\n",
       "      <th>1308</th>\n",
       "      <td>WD182</td>\n",
       "      <td>Electrical Engineering</td>\n",
       "      <td>6/7</td>\n",
       "    </tr>\n",
       "  </tbody>\n",
       "</table>\n",
       "<p>1308 rows × 3 columns</p>\n",
       "</div>"
      ],
      "text/plain": [
       "       code                                              title level2019\n",
       "1     AL801    Software Design with Virtual Reality and Gaming         8\n",
       "2     AL802               Software Design with Cloud Computing         8\n",
       "3     AL803  Software Design with Mobile Apps and Connected...         8\n",
       "4     AL805        Network Management and Cloud Infrastructure         8\n",
       "5     AL810                                 Quantity Surveying         8\n",
       "...     ...                                                ...       ...\n",
       "1304  WD173                                Hospitality Studies       6/7\n",
       "1305  WD174                                            Tourism       6/7\n",
       "1306  WD175                             Pharmaceutical Science       6/7\n",
       "1307  WD177  Science (Mol. Biology with Biopharm.,Food Scie...       6/7\n",
       "1308  WD182                             Electrical Engineering       6/7\n",
       "\n",
       "[1308 rows x 3 columns]"
      ]
     },
     "execution_count": 66,
     "metadata": {},
     "output_type": "execute_result"
    }
   ],
   "source": [
    "# Dropping old header row\n",
    "courses2019.drop(0)"
   ]
  },
  {
   "cell_type": "markdown",
   "id": "bf6d0a7f-363f-485c-8964-566b86b1dfb2",
   "metadata": {
    "tags": []
   },
   "source": [
    "<br>"
   ]
  },
  {
   "cell_type": "markdown",
   "id": "8589c812-bc6d-42b7-9e40-b76a470ed0b5",
   "metadata": {},
   "source": [
    "<br>"
   ]
  },
  {
   "cell_type": "markdown",
   "id": "019ad6cd-b269-4d56-b781-482e57b2c47c",
   "metadata": {},
   "source": [
    "<br>"
   ]
  },
  {
   "cell_type": "code",
   "execution_count": 67,
   "id": "b167a280-8e10-4fe7-9fd2-04bb7cac6c21",
   "metadata": {},
   "outputs": [],
   "source": [
    "# Combining the above into one\n",
    "allcourses = pd.concat([courses2021, courses2020, courses2019], ignore_index=True)"
   ]
  },
  {
   "cell_type": "markdown",
   "id": "29a1597b-ac78-4f68-b0a8-bc43a49edfa6",
   "metadata": {
    "tags": []
   },
   "source": [
    "<br>"
   ]
  },
  {
   "cell_type": "code",
   "execution_count": 68,
   "id": "1d17e5aa-cad6-4465-a6c4-e4afd84e9183",
   "metadata": {},
   "outputs": [
    {
     "data": {
      "text/html": [
       "<div>\n",
       "<style scoped>\n",
       "    .dataframe tbody tr th:only-of-type {\n",
       "        vertical-align: middle;\n",
       "    }\n",
       "\n",
       "    .dataframe tbody tr th {\n",
       "        vertical-align: top;\n",
       "    }\n",
       "\n",
       "    .dataframe thead th {\n",
       "        text-align: right;\n",
       "    }\n",
       "</style>\n",
       "<table border=\"1\" class=\"dataframe\">\n",
       "  <thead>\n",
       "    <tr style=\"text-align: right;\">\n",
       "      <th></th>\n",
       "      <th>code</th>\n",
       "      <th>title</th>\n",
       "      <th>level</th>\n",
       "      <th>level2020</th>\n",
       "      <th>level2019</th>\n",
       "    </tr>\n",
       "  </thead>\n",
       "  <tbody>\n",
       "    <tr>\n",
       "      <th>0</th>\n",
       "      <td>AL801</td>\n",
       "      <td>Software Design for Virtual Reality and Gaming</td>\n",
       "      <td>8</td>\n",
       "      <td>NaN</td>\n",
       "      <td>NaN</td>\n",
       "    </tr>\n",
       "    <tr>\n",
       "      <th>1</th>\n",
       "      <td>AL802</td>\n",
       "      <td>Software Design in Artificial Intelligence for...</td>\n",
       "      <td>8</td>\n",
       "      <td>NaN</td>\n",
       "      <td>NaN</td>\n",
       "    </tr>\n",
       "    <tr>\n",
       "      <th>2</th>\n",
       "      <td>AL803</td>\n",
       "      <td>Software Design for Mobile Apps and Connected ...</td>\n",
       "      <td>8</td>\n",
       "      <td>NaN</td>\n",
       "      <td>NaN</td>\n",
       "    </tr>\n",
       "    <tr>\n",
       "      <th>3</th>\n",
       "      <td>AL805</td>\n",
       "      <td>Computer Engineering for Network Infrastructure</td>\n",
       "      <td>8</td>\n",
       "      <td>NaN</td>\n",
       "      <td>NaN</td>\n",
       "    </tr>\n",
       "    <tr>\n",
       "      <th>4</th>\n",
       "      <td>AL810</td>\n",
       "      <td>Quantity Surveying</td>\n",
       "      <td>8</td>\n",
       "      <td>NaN</td>\n",
       "      <td>NaN</td>\n",
       "    </tr>\n",
       "    <tr>\n",
       "      <th>...</th>\n",
       "      <td>...</td>\n",
       "      <td>...</td>\n",
       "      <td>...</td>\n",
       "      <td>...</td>\n",
       "      <td>...</td>\n",
       "    </tr>\n",
       "    <tr>\n",
       "      <th>4133</th>\n",
       "      <td>WD173</td>\n",
       "      <td>Hospitality Studies</td>\n",
       "      <td>NaN</td>\n",
       "      <td>NaN</td>\n",
       "      <td>6/7</td>\n",
       "    </tr>\n",
       "    <tr>\n",
       "      <th>4134</th>\n",
       "      <td>WD174</td>\n",
       "      <td>Tourism</td>\n",
       "      <td>NaN</td>\n",
       "      <td>NaN</td>\n",
       "      <td>6/7</td>\n",
       "    </tr>\n",
       "    <tr>\n",
       "      <th>4135</th>\n",
       "      <td>WD175</td>\n",
       "      <td>Pharmaceutical Science</td>\n",
       "      <td>NaN</td>\n",
       "      <td>NaN</td>\n",
       "      <td>6/7</td>\n",
       "    </tr>\n",
       "    <tr>\n",
       "      <th>4136</th>\n",
       "      <td>WD177</td>\n",
       "      <td>Science (Mol. Biology with Biopharm.,Food Scie...</td>\n",
       "      <td>NaN</td>\n",
       "      <td>NaN</td>\n",
       "      <td>6/7</td>\n",
       "    </tr>\n",
       "    <tr>\n",
       "      <th>4137</th>\n",
       "      <td>WD182</td>\n",
       "      <td>Electrical Engineering</td>\n",
       "      <td>NaN</td>\n",
       "      <td>NaN</td>\n",
       "      <td>6/7</td>\n",
       "    </tr>\n",
       "  </tbody>\n",
       "</table>\n",
       "<p>4138 rows × 5 columns</p>\n",
       "</div>"
      ],
      "text/plain": [
       "       code                                              title level  \\\n",
       "0     AL801     Software Design for Virtual Reality and Gaming     8   \n",
       "1     AL802  Software Design in Artificial Intelligence for...     8   \n",
       "2     AL803  Software Design for Mobile Apps and Connected ...     8   \n",
       "3     AL805    Computer Engineering for Network Infrastructure     8   \n",
       "4     AL810                                 Quantity Surveying     8   \n",
       "...     ...                                                ...   ...   \n",
       "4133  WD173                                Hospitality Studies   NaN   \n",
       "4134  WD174                                            Tourism   NaN   \n",
       "4135  WD175                             Pharmaceutical Science   NaN   \n",
       "4136  WD177  Science (Mol. Biology with Biopharm.,Food Scie...   NaN   \n",
       "4137  WD182                             Electrical Engineering   NaN   \n",
       "\n",
       "      level2020 level2019  \n",
       "0           NaN       NaN  \n",
       "1           NaN       NaN  \n",
       "2           NaN       NaN  \n",
       "3           NaN       NaN  \n",
       "4           NaN       NaN  \n",
       "...         ...       ...  \n",
       "4133        NaN       6/7  \n",
       "4134        NaN       6/7  \n",
       "4135        NaN       6/7  \n",
       "4136        NaN       6/7  \n",
       "4137        NaN       6/7  \n",
       "\n",
       "[4138 rows x 5 columns]"
      ]
     },
     "execution_count": 68,
     "metadata": {},
     "output_type": "execute_result"
    }
   ],
   "source": [
    "# Sorting values in ascending by the code column\n",
    "allcourses.sort_values('code')\n",
    "\n",
    "allcourses"
   ]
  },
  {
   "cell_type": "markdown",
   "id": "4facae13-c617-4fb9-aa97-ca5238383320",
   "metadata": {},
   "source": [
    "<br>"
   ]
  },
  {
   "cell_type": "markdown",
   "id": "2028e4a7-893b-439f-9b1f-e0299f11350b",
   "metadata": {
    "tags": []
   },
   "source": [
    "<br>"
   ]
  },
  {
   "cell_type": "markdown",
   "id": "c18bfba6-563d-464e-9bcd-dc27865c9dcb",
   "metadata": {},
   "source": [
    "As we can see above there are duplicate rows i.e., courses which have ran in multiple years, so they appear more than once. Let's get rid of these duplicates."
   ]
  },
  {
   "cell_type": "markdown",
   "id": "d2c11b56-481d-4da5-861d-289cc2a43912",
   "metadata": {
    "tags": []
   },
   "source": [
    "<br>"
   ]
  },
  {
   "cell_type": "code",
   "execution_count": 69,
   "id": "3237e483-2c9a-4b81-b6cd-34fc45ad3417",
   "metadata": {},
   "outputs": [
    {
     "data": {
      "text/html": [
       "<div>\n",
       "<style scoped>\n",
       "    .dataframe tbody tr th:only-of-type {\n",
       "        vertical-align: middle;\n",
       "    }\n",
       "\n",
       "    .dataframe tbody tr th {\n",
       "        vertical-align: top;\n",
       "    }\n",
       "\n",
       "    .dataframe thead th {\n",
       "        text-align: right;\n",
       "    }\n",
       "</style>\n",
       "<table border=\"1\" class=\"dataframe\">\n",
       "  <thead>\n",
       "    <tr style=\"text-align: right;\">\n",
       "      <th></th>\n",
       "      <th>code</th>\n",
       "      <th>title</th>\n",
       "      <th>level</th>\n",
       "      <th>level2020</th>\n",
       "      <th>level2019</th>\n",
       "    </tr>\n",
       "  </thead>\n",
       "  <tbody>\n",
       "  </tbody>\n",
       "</table>\n",
       "</div>"
      ],
      "text/plain": [
       "Empty DataFrame\n",
       "Columns: [code, title, level, level2020, level2019]\n",
       "Index: []"
      ]
     },
     "execution_count": 69,
     "metadata": {},
     "output_type": "execute_result"
    }
   ],
   "source": [
    "# Finding duplicate rows\n",
    "allcourses[allcourses.duplicated()]"
   ]
  },
  {
   "cell_type": "markdown",
   "id": "fa5d4069-7fee-44e3-9701-d1fa420a1976",
   "metadata": {
    "tags": []
   },
   "source": [
    "<br>"
   ]
  },
  {
   "cell_type": "code",
   "execution_count": 70,
   "id": "1cf53099-e5e9-4664-ac2c-58915440f7f7",
   "metadata": {},
   "outputs": [
    {
     "data": {
      "text/html": [
       "<div>\n",
       "<style scoped>\n",
       "    .dataframe tbody tr th:only-of-type {\n",
       "        vertical-align: middle;\n",
       "    }\n",
       "\n",
       "    .dataframe tbody tr th {\n",
       "        vertical-align: top;\n",
       "    }\n",
       "\n",
       "    .dataframe thead th {\n",
       "        text-align: right;\n",
       "    }\n",
       "</style>\n",
       "<table border=\"1\" class=\"dataframe\">\n",
       "  <thead>\n",
       "    <tr style=\"text-align: right;\">\n",
       "      <th></th>\n",
       "      <th>code</th>\n",
       "      <th>title</th>\n",
       "      <th>level</th>\n",
       "      <th>level2020</th>\n",
       "      <th>level2019</th>\n",
       "    </tr>\n",
       "  </thead>\n",
       "  <tbody>\n",
       "    <tr>\n",
       "      <th>0</th>\n",
       "      <td>AL801</td>\n",
       "      <td>Software Design for Virtual Reality and Gaming</td>\n",
       "      <td>8</td>\n",
       "      <td>NaN</td>\n",
       "      <td>NaN</td>\n",
       "    </tr>\n",
       "    <tr>\n",
       "      <th>1</th>\n",
       "      <td>AL802</td>\n",
       "      <td>Software Design in Artificial Intelligence for...</td>\n",
       "      <td>8</td>\n",
       "      <td>NaN</td>\n",
       "      <td>NaN</td>\n",
       "    </tr>\n",
       "    <tr>\n",
       "      <th>2</th>\n",
       "      <td>AL803</td>\n",
       "      <td>Software Design for Mobile Apps and Connected ...</td>\n",
       "      <td>8</td>\n",
       "      <td>NaN</td>\n",
       "      <td>NaN</td>\n",
       "    </tr>\n",
       "    <tr>\n",
       "      <th>3</th>\n",
       "      <td>AL805</td>\n",
       "      <td>Computer Engineering for Network Infrastructure</td>\n",
       "      <td>8</td>\n",
       "      <td>NaN</td>\n",
       "      <td>NaN</td>\n",
       "    </tr>\n",
       "    <tr>\n",
       "      <th>4</th>\n",
       "      <td>AL810</td>\n",
       "      <td>Quantity Surveying</td>\n",
       "      <td>8</td>\n",
       "      <td>NaN</td>\n",
       "      <td>NaN</td>\n",
       "    </tr>\n",
       "    <tr>\n",
       "      <th>...</th>\n",
       "      <td>...</td>\n",
       "      <td>...</td>\n",
       "      <td>...</td>\n",
       "      <td>...</td>\n",
       "      <td>...</td>\n",
       "    </tr>\n",
       "    <tr>\n",
       "      <th>4133</th>\n",
       "      <td>WD173</td>\n",
       "      <td>Hospitality Studies</td>\n",
       "      <td>NaN</td>\n",
       "      <td>NaN</td>\n",
       "      <td>6/7</td>\n",
       "    </tr>\n",
       "    <tr>\n",
       "      <th>4134</th>\n",
       "      <td>WD174</td>\n",
       "      <td>Tourism</td>\n",
       "      <td>NaN</td>\n",
       "      <td>NaN</td>\n",
       "      <td>6/7</td>\n",
       "    </tr>\n",
       "    <tr>\n",
       "      <th>4135</th>\n",
       "      <td>WD175</td>\n",
       "      <td>Pharmaceutical Science</td>\n",
       "      <td>NaN</td>\n",
       "      <td>NaN</td>\n",
       "      <td>6/7</td>\n",
       "    </tr>\n",
       "    <tr>\n",
       "      <th>4136</th>\n",
       "      <td>WD177</td>\n",
       "      <td>Science (Mol. Biology with Biopharm.,Food Scie...</td>\n",
       "      <td>NaN</td>\n",
       "      <td>NaN</td>\n",
       "      <td>6/7</td>\n",
       "    </tr>\n",
       "    <tr>\n",
       "      <th>4137</th>\n",
       "      <td>WD182</td>\n",
       "      <td>Electrical Engineering</td>\n",
       "      <td>NaN</td>\n",
       "      <td>NaN</td>\n",
       "      <td>6/7</td>\n",
       "    </tr>\n",
       "  </tbody>\n",
       "</table>\n",
       "<p>4138 rows × 5 columns</p>\n",
       "</div>"
      ],
      "text/plain": [
       "       code                                              title level  \\\n",
       "0     AL801     Software Design for Virtual Reality and Gaming     8   \n",
       "1     AL802  Software Design in Artificial Intelligence for...     8   \n",
       "2     AL803  Software Design for Mobile Apps and Connected ...     8   \n",
       "3     AL805    Computer Engineering for Network Infrastructure     8   \n",
       "4     AL810                                 Quantity Surveying     8   \n",
       "...     ...                                                ...   ...   \n",
       "4133  WD173                                Hospitality Studies   NaN   \n",
       "4134  WD174                                            Tourism   NaN   \n",
       "4135  WD175                             Pharmaceutical Science   NaN   \n",
       "4136  WD177  Science (Mol. Biology with Biopharm.,Food Scie...   NaN   \n",
       "4137  WD182                             Electrical Engineering   NaN   \n",
       "\n",
       "      level2020 level2019  \n",
       "0           NaN       NaN  \n",
       "1           NaN       NaN  \n",
       "2           NaN       NaN  \n",
       "3           NaN       NaN  \n",
       "4           NaN       NaN  \n",
       "...         ...       ...  \n",
       "4133        NaN       6/7  \n",
       "4134        NaN       6/7  \n",
       "4135        NaN       6/7  \n",
       "4136        NaN       6/7  \n",
       "4137        NaN       6/7  \n",
       "\n",
       "[4138 rows x 5 columns]"
      ]
     },
     "execution_count": 70,
     "metadata": {},
     "output_type": "execute_result"
    }
   ],
   "source": [
    "# Dropping duplicates\n",
    "allcourses.drop_duplicates()"
   ]
  },
  {
   "cell_type": "markdown",
   "id": "df7b5b80-f840-4b54-a0ea-53a944905408",
   "metadata": {},
   "source": [
    "<br>"
   ]
  },
  {
   "cell_type": "code",
   "execution_count": 71,
   "id": "9b3654e5-f864-4b75-9860-abdf544df3a3",
   "metadata": {},
   "outputs": [
    {
     "data": {
      "text/html": [
       "<div>\n",
       "<style scoped>\n",
       "    .dataframe tbody tr th:only-of-type {\n",
       "        vertical-align: middle;\n",
       "    }\n",
       "\n",
       "    .dataframe tbody tr th {\n",
       "        vertical-align: top;\n",
       "    }\n",
       "\n",
       "    .dataframe thead th {\n",
       "        text-align: right;\n",
       "    }\n",
       "</style>\n",
       "<table border=\"1\" class=\"dataframe\">\n",
       "  <thead>\n",
       "    <tr style=\"text-align: right;\">\n",
       "      <th></th>\n",
       "      <th>code</th>\n",
       "      <th>title</th>\n",
       "      <th>level</th>\n",
       "      <th>level2020</th>\n",
       "      <th>level2019</th>\n",
       "    </tr>\n",
       "  </thead>\n",
       "  <tbody>\n",
       "    <tr>\n",
       "      <th>0</th>\n",
       "      <td>AL801</td>\n",
       "      <td>Software Design for Virtual Reality and Gaming</td>\n",
       "      <td>8</td>\n",
       "      <td>NaN</td>\n",
       "      <td>NaN</td>\n",
       "    </tr>\n",
       "    <tr>\n",
       "      <th>1</th>\n",
       "      <td>AL802</td>\n",
       "      <td>Software Design in Artificial Intelligence for...</td>\n",
       "      <td>8</td>\n",
       "      <td>NaN</td>\n",
       "      <td>NaN</td>\n",
       "    </tr>\n",
       "    <tr>\n",
       "      <th>2</th>\n",
       "      <td>AL803</td>\n",
       "      <td>Software Design for Mobile Apps and Connected ...</td>\n",
       "      <td>8</td>\n",
       "      <td>NaN</td>\n",
       "      <td>NaN</td>\n",
       "    </tr>\n",
       "    <tr>\n",
       "      <th>3</th>\n",
       "      <td>AL805</td>\n",
       "      <td>Computer Engineering for Network Infrastructure</td>\n",
       "      <td>8</td>\n",
       "      <td>NaN</td>\n",
       "      <td>NaN</td>\n",
       "    </tr>\n",
       "    <tr>\n",
       "      <th>4</th>\n",
       "      <td>AL810</td>\n",
       "      <td>Quantity Surveying</td>\n",
       "      <td>8</td>\n",
       "      <td>NaN</td>\n",
       "      <td>NaN</td>\n",
       "    </tr>\n",
       "    <tr>\n",
       "      <th>...</th>\n",
       "      <td>...</td>\n",
       "      <td>...</td>\n",
       "      <td>...</td>\n",
       "      <td>...</td>\n",
       "      <td>...</td>\n",
       "    </tr>\n",
       "    <tr>\n",
       "      <th>1761</th>\n",
       "      <td>SG403</td>\n",
       "      <td>Applied Archaeology</td>\n",
       "      <td>NaN</td>\n",
       "      <td>NaN</td>\n",
       "      <td>6/7</td>\n",
       "    </tr>\n",
       "    <tr>\n",
       "      <th>1762</th>\n",
       "      <td>SG432</td>\n",
       "      <td>Environmental Protection</td>\n",
       "      <td>NaN</td>\n",
       "      <td>NaN</td>\n",
       "      <td>6/7</td>\n",
       "    </tr>\n",
       "    <tr>\n",
       "      <th>1763</th>\n",
       "      <td>TL712</td>\n",
       "      <td>Computing with Digital Media</td>\n",
       "      <td>NaN</td>\n",
       "      <td>NaN</td>\n",
       "      <td>6/7</td>\n",
       "    </tr>\n",
       "    <tr>\n",
       "      <th>1764</th>\n",
       "      <td>TL719</td>\n",
       "      <td>Culinary Arts</td>\n",
       "      <td>NaN</td>\n",
       "      <td>NaN</td>\n",
       "      <td>6/7</td>\n",
       "    </tr>\n",
       "    <tr>\n",
       "      <th>1765</th>\n",
       "      <td>TL746</td>\n",
       "      <td>Engineering in Mechatronics Engineering</td>\n",
       "      <td>NaN</td>\n",
       "      <td>NaN</td>\n",
       "      <td>6/7</td>\n",
       "    </tr>\n",
       "  </tbody>\n",
       "</table>\n",
       "<p>1766 rows × 5 columns</p>\n",
       "</div>"
      ],
      "text/plain": [
       "       code                                              title level  \\\n",
       "0     AL801     Software Design for Virtual Reality and Gaming     8   \n",
       "1     AL802  Software Design in Artificial Intelligence for...     8   \n",
       "2     AL803  Software Design for Mobile Apps and Connected ...     8   \n",
       "3     AL805    Computer Engineering for Network Infrastructure     8   \n",
       "4     AL810                                 Quantity Surveying     8   \n",
       "...     ...                                                ...   ...   \n",
       "1761  SG403                                Applied Archaeology   NaN   \n",
       "1762  SG432                           Environmental Protection   NaN   \n",
       "1763  TL712                       Computing with Digital Media   NaN   \n",
       "1764  TL719                                      Culinary Arts   NaN   \n",
       "1765  TL746            Engineering in Mechatronics Engineering   NaN   \n",
       "\n",
       "      level2020 level2019  \n",
       "0           NaN       NaN  \n",
       "1           NaN       NaN  \n",
       "2           NaN       NaN  \n",
       "3           NaN       NaN  \n",
       "4           NaN       NaN  \n",
       "...         ...       ...  \n",
       "1761        NaN       6/7  \n",
       "1762        NaN       6/7  \n",
       "1763        NaN       6/7  \n",
       "1764        NaN       6/7  \n",
       "1765        NaN       6/7  \n",
       "\n",
       "[1766 rows x 5 columns]"
      ]
     },
     "execution_count": 71,
     "metadata": {},
     "output_type": "execute_result"
    }
   ],
   "source": [
    "# Dropping duplicates which shared a code\n",
    "allcourses.drop_duplicates(subset=['code'], inplace=True, ignore_index=True)\n",
    "\n",
    "allcourses"
   ]
  },
  {
   "cell_type": "markdown",
   "id": "eab6990e-1d2f-4d82-a3cc-61238c1c6131",
   "metadata": {},
   "source": [
    "<br>"
   ]
  },
  {
   "cell_type": "markdown",
   "id": "d958a15a-9148-4ca9-bc1a-55910c4b64df",
   "metadata": {},
   "source": [
    "<br>"
   ]
  },
  {
   "cell_type": "markdown",
   "id": "ae3cadc3-3e68-487d-9c5d-611d39483a1f",
   "metadata": {},
   "source": [
    "When `inplace = True`, data is modified in place [11]."
   ]
  },
  {
   "cell_type": "markdown",
   "id": "75d23006-f17a-4780-affb-a240f1a9dbbf",
   "metadata": {},
   "source": [
    "<br>"
   ]
  },
  {
   "cell_type": "markdown",
   "id": "de850894-7bd4-4acd-86b4-c29148cc4143",
   "metadata": {},
   "source": [
    "<br>"
   ]
  },
  {
   "cell_type": "markdown",
   "id": "2df5fd82-9ce4-49eb-b564-7cf65259fbb3",
   "metadata": {
    "tags": []
   },
   "source": [
    "***\n",
    "## Joining Points and Levels\n",
    "***"
   ]
  },
  {
   "cell_type": "markdown",
   "id": "45fff9ef-6118-4a73-a9f5-05e27a51a927",
   "metadata": {},
   "source": [
    "<br>"
   ]
  },
  {
   "cell_type": "markdown",
   "id": "df2ddf43-cec4-4254-ac46-0a189342d6d8",
   "metadata": {},
   "source": [
    "<br>"
   ]
  },
  {
   "cell_type": "markdown",
   "id": "a82b69f2-0a74-4fe1-9b97-f29d4c7d3164",
   "metadata": {},
   "source": [
    "When a dataframe is made up of more than one dataframe we can set/change the index of this dataframe using pandas.\n",
    "\n",
    "<i>\"[An] Index is like an address, that’s how any data point across the dataframe or series can be accessed. Rows and columns both have indexes, rows indices are called as index and for columns its general column names\"</i> [12]. \n",
    "\n",
    "As the 2019 points data doesn't include round 2 points data, I've decided against using them for this analysis. We will only be using the round 1 points.\n"
   ]
  },
  {
   "cell_type": "markdown",
   "id": "749764c1-a4c2-4a7b-b801-1889c02e8e2c",
   "metadata": {},
   "source": [
    "<br>"
   ]
  },
  {
   "cell_type": "markdown",
   "id": "7ee7736b-8023-47e4-a900-4c7e9ae8b705",
   "metadata": {},
   "source": [
    "<br>"
   ]
  },
  {
   "cell_type": "code",
   "execution_count": 72,
   "id": "d1c1e4b9-e503-4f48-8287-6e3d89ebe746",
   "metadata": {},
   "outputs": [],
   "source": [
    "# Setting the index as the code column\n",
    "total2021.set_index('code', inplace=True)\n",
    "\n",
    "# Column headings\n",
    "total2021.columns = ['title', 'level', 'points_r1_2021', 'points_r2_2021']"
   ]
  },
  {
   "cell_type": "markdown",
   "id": "57ae9089-5846-4ff6-9763-5a0eb7fdb1f1",
   "metadata": {},
   "source": [
    "<br>"
   ]
  },
  {
   "cell_type": "code",
   "execution_count": 73,
   "id": "61f3d7c4-e45c-447d-abf9-0b80457f33d5",
   "metadata": {},
   "outputs": [],
   "source": [
    "# Setting the index of allcourses as the code column\n",
    "allcourses.set_index('code', inplace=True)"
   ]
  },
  {
   "cell_type": "markdown",
   "id": "9aa14f4b-7eb6-406c-86f0-69e02fb9af3b",
   "metadata": {},
   "source": [
    "<br>"
   ]
  },
  {
   "cell_type": "markdown",
   "id": "7c8fcb88-402b-4603-a978-6ab968e21649",
   "metadata": {},
   "source": [
    "<br>"
   ]
  },
  {
   "cell_type": "markdown",
   "id": "b70584a9-c493-42d9-9fb5-bba3cc074f69",
   "metadata": {},
   "source": [
    "<i>\"`join()` is an object function that lives on your DataFrame\"</i> [13]. By using .`join()`, it allows you choose which dataframe to join on. By default, pandas does a left join. "
   ]
  },
  {
   "cell_type": "markdown",
   "id": "740f2933-fc63-48c5-9de2-7050b5f70606",
   "metadata": {},
   "source": [
    "<br>"
   ]
  },
  {
   "cell_type": "markdown",
   "id": "8c478ad7-1b0f-4422-8343-b727f2ae66c6",
   "metadata": {},
   "source": [
    "![img](images/join.webp)"
   ]
  },
  {
   "cell_type": "markdown",
   "id": "a6eeb4bc-6c06-47a0-8d98-7cb6ea36a412",
   "metadata": {},
   "source": [
    "<br>"
   ]
  },
  {
   "cell_type": "markdown",
   "id": "7ea604fc-87c4-4a00-8624-a5e416648822",
   "metadata": {},
   "source": [
    "The next step is to join the points from each year to our dataframe which contains the course code and title."
   ]
  },
  {
   "cell_type": "markdown",
   "id": "68c68a1b-1d56-44ec-a758-048eaf5e3df9",
   "metadata": {},
   "source": [
    "<br>"
   ]
  },
  {
   "cell_type": "code",
   "execution_count": 74,
   "id": "dabd1bc6-c61c-413b-947d-885ea372724b",
   "metadata": {},
   "outputs": [],
   "source": [
    "# Joining 2021 points to the dataframe \n",
    "allcourses = allcourses.join(total2021[['points_r1_2021']])"
   ]
  },
  {
   "cell_type": "markdown",
   "id": "f174fb16-dda7-4cf3-8790-5f4879138ce9",
   "metadata": {},
   "source": [
    "<br>"
   ]
  },
  {
   "cell_type": "markdown",
   "id": "15766a7a-9d21-4fc0-a493-4dc6b412a1f2",
   "metadata": {},
   "source": [
    "<br>"
   ]
  },
  {
   "cell_type": "code",
   "execution_count": 75,
   "id": "e661dd87-8051-4eb7-9819-c90ccaf03c4f",
   "metadata": {},
   "outputs": [],
   "source": [
    "# Getting columns with points\n",
    "df2020_r1 = df2020[['COURSE CODE2', 'LEVEL', 'R1 POINTS', 'R2 POINTS']]\n",
    "\n",
    "# Changing titles\n",
    "df2020_r1.columns = ['code', 'level' ,'points_r1_2020', 'points_r2_2020']\n"
   ]
  },
  {
   "cell_type": "markdown",
   "id": "0be2b16b-5d6c-420a-8db0-d9733d631a78",
   "metadata": {},
   "source": [
    "<br>"
   ]
  },
  {
   "cell_type": "markdown",
   "id": "b1d21934-9772-4853-ba70-2cac1ed4996c",
   "metadata": {},
   "source": [
    "<br>"
   ]
  },
  {
   "cell_type": "code",
   "execution_count": 76,
   "id": "fb6f0858-73e3-46b8-b6a5-5f26a590cc4a",
   "metadata": {},
   "outputs": [],
   "source": [
    "# Setting the index as the code column\n",
    "df2020_r1.set_index('code', inplace=True)"
   ]
  },
  {
   "cell_type": "markdown",
   "id": "10d34257-8786-4868-92b6-5a603423e53f",
   "metadata": {},
   "source": [
    "<br>"
   ]
  },
  {
   "cell_type": "markdown",
   "id": "d883b4ae-b254-4d6e-ae40-ecccc618850c",
   "metadata": {},
   "source": [
    "<br>"
   ]
  },
  {
   "cell_type": "code",
   "execution_count": 77,
   "id": "c4f37b55-1346-411b-b0cc-34ff8949f3d0",
   "metadata": {},
   "outputs": [],
   "source": [
    "# Join 2020 points to allcourses.\n",
    "allcourses = allcourses.join(df2020_r1, rsuffix='level2020')"
   ]
  },
  {
   "cell_type": "markdown",
   "id": "7f73426b-49b8-4c76-aa51-127489a685bc",
   "metadata": {},
   "source": [
    "<br>"
   ]
  },
  {
   "cell_type": "markdown",
   "id": "2b19a22e-2b4d-482c-b358-ec80dd1e37de",
   "metadata": {},
   "source": [
    "<br>"
   ]
  },
  {
   "cell_type": "markdown",
   "id": "981b7df9-8335-480c-a866-00cc66f52744",
   "metadata": {},
   "source": [
    "By passing, in this case - `rsuffix` (right suffix), we're specifying <i>\"...a suffix to add to any overlapping columns\"</i> [14]. On the above join an error is thrown if the suffix isn't specified. We repeat for 2019 points."
   ]
  },
  {
   "cell_type": "markdown",
   "id": "d8998835-e294-480c-af00-4be2972b742c",
   "metadata": {},
   "source": [
    "<br>"
   ]
  },
  {
   "cell_type": "markdown",
   "id": "2002db0d-b595-42c2-9ce4-c25cfac51843",
   "metadata": {},
   "source": [
    "<br>"
   ]
  },
  {
   "cell_type": "code",
   "execution_count": 78,
   "id": "71fa45f9-55d7-449f-965c-67fec4b4eb82",
   "metadata": {},
   "outputs": [],
   "source": [
    "# Getting columns with points\n",
    "df2019_r1 = total2019[['code', 'points', 'level']]\n",
    "\n",
    "# Changing titles\n",
    "df2019_r1.columns = ['code', 'points_r1_2019', 'level_2019']"
   ]
  },
  {
   "cell_type": "markdown",
   "id": "96ccdc94-de0b-4464-888a-6b9edf22e3aa",
   "metadata": {},
   "source": [
    "<br>"
   ]
  },
  {
   "cell_type": "code",
   "execution_count": 79,
   "id": "de0c0697-66b5-4265-9c7d-0d7b25afbf61",
   "metadata": {},
   "outputs": [],
   "source": [
    "# Set the index to the code column.\n",
    "df2019_r1.set_index('code', inplace=True)"
   ]
  },
  {
   "cell_type": "markdown",
   "id": "94ad7dad-9fb0-4d07-965c-21a1b639b7b7",
   "metadata": {},
   "source": [
    "<br>"
   ]
  },
  {
   "cell_type": "code",
   "execution_count": 80,
   "id": "3f72592b-a024-4311-bba1-48205a03685a",
   "metadata": {},
   "outputs": [],
   "source": [
    "# Join 2019 points to allcourses\n",
    "allcourses = allcourses.join(df2019_r1, rsuffix='2019')"
   ]
  },
  {
   "cell_type": "markdown",
   "id": "5f9efdff-8589-421d-9c34-411f0f9b20a7",
   "metadata": {},
   "source": [
    "<br>"
   ]
  },
  {
   "cell_type": "code",
   "execution_count": 81,
   "id": "53658d12-3641-4481-a9fa-af0453081847",
   "metadata": {},
   "outputs": [],
   "source": [
    "# Dropping columns not using\n",
    "allcourses = allcourses.drop(['level2020', 'level2019', 'points_r2_2020'], axis=1)"
   ]
  },
  {
   "cell_type": "markdown",
   "id": "4dc90097-34c0-40dd-ad45-d27ed943283f",
   "metadata": {},
   "source": [
    "<br>"
   ]
  },
  {
   "cell_type": "code",
   "execution_count": 82,
   "id": "c752e2cd-a1bc-4a3f-98aa-0a40a652249e",
   "metadata": {},
   "outputs": [
    {
     "data": {
      "text/html": [
       "<div>\n",
       "<style scoped>\n",
       "    .dataframe tbody tr th:only-of-type {\n",
       "        vertical-align: middle;\n",
       "    }\n",
       "\n",
       "    .dataframe tbody tr th {\n",
       "        vertical-align: top;\n",
       "    }\n",
       "\n",
       "    .dataframe thead th {\n",
       "        text-align: right;\n",
       "    }\n",
       "</style>\n",
       "<table border=\"1\" class=\"dataframe\">\n",
       "  <thead>\n",
       "    <tr style=\"text-align: right;\">\n",
       "      <th></th>\n",
       "      <th>title</th>\n",
       "      <th>level</th>\n",
       "      <th>points_r1_2021</th>\n",
       "      <th>levellevel2020</th>\n",
       "      <th>points_r1_2020</th>\n",
       "      <th>points_r1_2019</th>\n",
       "      <th>level_2019</th>\n",
       "    </tr>\n",
       "    <tr>\n",
       "      <th>code</th>\n",
       "      <th></th>\n",
       "      <th></th>\n",
       "      <th></th>\n",
       "      <th></th>\n",
       "      <th></th>\n",
       "      <th></th>\n",
       "      <th></th>\n",
       "    </tr>\n",
       "  </thead>\n",
       "  <tbody>\n",
       "    <tr>\n",
       "      <th>AL801</th>\n",
       "      <td>Software Design for Virtual Reality and Gaming</td>\n",
       "      <td>8</td>\n",
       "      <td>300</td>\n",
       "      <td>8.0</td>\n",
       "      <td>303</td>\n",
       "      <td>304</td>\n",
       "      <td>8</td>\n",
       "    </tr>\n",
       "    <tr>\n",
       "      <th>AL802</th>\n",
       "      <td>Software Design in Artificial Intelligence for...</td>\n",
       "      <td>8</td>\n",
       "      <td>313</td>\n",
       "      <td>8.0</td>\n",
       "      <td>332</td>\n",
       "      <td>301</td>\n",
       "      <td>8</td>\n",
       "    </tr>\n",
       "    <tr>\n",
       "      <th>AL803</th>\n",
       "      <td>Software Design for Mobile Apps and Connected ...</td>\n",
       "      <td>8</td>\n",
       "      <td>350</td>\n",
       "      <td>8.0</td>\n",
       "      <td>337</td>\n",
       "      <td>309</td>\n",
       "      <td>8</td>\n",
       "    </tr>\n",
       "    <tr>\n",
       "      <th>AL805</th>\n",
       "      <td>Computer Engineering for Network Infrastructure</td>\n",
       "      <td>8</td>\n",
       "      <td>321</td>\n",
       "      <td>8.0</td>\n",
       "      <td>333</td>\n",
       "      <td>329</td>\n",
       "      <td>8</td>\n",
       "    </tr>\n",
       "    <tr>\n",
       "      <th>AL810</th>\n",
       "      <td>Quantity Surveying</td>\n",
       "      <td>8</td>\n",
       "      <td>328</td>\n",
       "      <td>8.0</td>\n",
       "      <td>319</td>\n",
       "      <td>307</td>\n",
       "      <td>8</td>\n",
       "    </tr>\n",
       "    <tr>\n",
       "      <th>...</th>\n",
       "      <td>...</td>\n",
       "      <td>...</td>\n",
       "      <td>...</td>\n",
       "      <td>...</td>\n",
       "      <td>...</td>\n",
       "      <td>...</td>\n",
       "      <td>...</td>\n",
       "    </tr>\n",
       "    <tr>\n",
       "      <th>SG403</th>\n",
       "      <td>Applied Archaeology</td>\n",
       "      <td>NaN</td>\n",
       "      <td>NaN</td>\n",
       "      <td>NaN</td>\n",
       "      <td>NaN</td>\n",
       "      <td>297</td>\n",
       "      <td>6/7</td>\n",
       "    </tr>\n",
       "    <tr>\n",
       "      <th>SG432</th>\n",
       "      <td>Environmental Protection</td>\n",
       "      <td>NaN</td>\n",
       "      <td>NaN</td>\n",
       "      <td>NaN</td>\n",
       "      <td>NaN</td>\n",
       "      <td>279</td>\n",
       "      <td>6/7</td>\n",
       "    </tr>\n",
       "    <tr>\n",
       "      <th>TL712</th>\n",
       "      <td>Computing with Digital Media</td>\n",
       "      <td>NaN</td>\n",
       "      <td>NaN</td>\n",
       "      <td>NaN</td>\n",
       "      <td>NaN</td>\n",
       "      <td>243.0</td>\n",
       "      <td>6/7</td>\n",
       "    </tr>\n",
       "    <tr>\n",
       "      <th>TL719</th>\n",
       "      <td>Culinary Arts</td>\n",
       "      <td>NaN</td>\n",
       "      <td>NaN</td>\n",
       "      <td>NaN</td>\n",
       "      <td>NaN</td>\n",
       "      <td>321.0</td>\n",
       "      <td>6/7</td>\n",
       "    </tr>\n",
       "    <tr>\n",
       "      <th>TL746</th>\n",
       "      <td>Engineering in Mechatronics Engineering</td>\n",
       "      <td>NaN</td>\n",
       "      <td>NaN</td>\n",
       "      <td>NaN</td>\n",
       "      <td>NaN</td>\n",
       "      <td>NaN</td>\n",
       "      <td>6/7</td>\n",
       "    </tr>\n",
       "  </tbody>\n",
       "</table>\n",
       "<p>1766 rows × 7 columns</p>\n",
       "</div>"
      ],
      "text/plain": [
       "                                                   title level points_r1_2021  \\\n",
       "code                                                                            \n",
       "AL801     Software Design for Virtual Reality and Gaming     8            300   \n",
       "AL802  Software Design in Artificial Intelligence for...     8            313   \n",
       "AL803  Software Design for Mobile Apps and Connected ...     8            350   \n",
       "AL805    Computer Engineering for Network Infrastructure     8            321   \n",
       "AL810                                 Quantity Surveying     8            328   \n",
       "...                                                  ...   ...            ...   \n",
       "SG403                                Applied Archaeology   NaN            NaN   \n",
       "SG432                           Environmental Protection   NaN            NaN   \n",
       "TL712                       Computing with Digital Media   NaN            NaN   \n",
       "TL719                                      Culinary Arts   NaN            NaN   \n",
       "TL746            Engineering in Mechatronics Engineering   NaN            NaN   \n",
       "\n",
       "       levellevel2020 points_r1_2020 points_r1_2019 level_2019  \n",
       "code                                                            \n",
       "AL801             8.0            303            304          8  \n",
       "AL802             8.0            332            301          8  \n",
       "AL803             8.0            337            309          8  \n",
       "AL805             8.0            333            329          8  \n",
       "AL810             8.0            319            307          8  \n",
       "...               ...            ...            ...        ...  \n",
       "SG403             NaN            NaN            297        6/7  \n",
       "SG432             NaN            NaN            279        6/7  \n",
       "TL712             NaN            NaN          243.0        6/7  \n",
       "TL719             NaN            NaN          321.0        6/7  \n",
       "TL746             NaN            NaN            NaN        6/7  \n",
       "\n",
       "[1766 rows x 7 columns]"
      ]
     },
     "execution_count": 82,
     "metadata": {},
     "output_type": "execute_result"
    }
   ],
   "source": [
    "allcourses"
   ]
  },
  {
   "cell_type": "markdown",
   "id": "37029db0-834b-4424-b213-38b8c7f01684",
   "metadata": {},
   "source": [
    "<br>"
   ]
  },
  {
   "cell_type": "markdown",
   "id": "57212aaf-ab44-404f-964f-3b6d33709cd6",
   "metadata": {},
   "source": [
    "<br>"
   ]
  },
  {
   "cell_type": "code",
   "execution_count": 83,
   "id": "b7d213aa-1508-4ba6-b3a2-dd6188c88b5c",
   "metadata": {},
   "outputs": [],
   "source": [
    "# Renaming the columns\n",
    "allcourses.rename(columns={'level':'level_2021', 'levellevel2020': 'level_2020'}, inplace=True)"
   ]
  },
  {
   "cell_type": "markdown",
   "id": "5896b4ef-6dd2-4a64-b303-a8c804d49dbf",
   "metadata": {},
   "source": [
    "<br>"
   ]
  },
  {
   "cell_type": "markdown",
   "id": "a506ddba-842e-4a31-ab75-bfd67c50f16c",
   "metadata": {},
   "source": [
    "<br>"
   ]
  },
  {
   "cell_type": "code",
   "execution_count": 84,
   "id": "d4c9adf5-7b9c-4f49-869b-a5ecaeb9bf83",
   "metadata": {},
   "outputs": [
    {
     "data": {
      "text/plain": [
       "title             Counselling Skills and Psychotherapy Studies\n",
       "level_2021                                                 NaN\n",
       "points_r1_2021                                             NaN\n",
       "level_2020                                                 7.0\n",
       "points_r1_2020                                             300\n",
       "points_r1_2019                                             238\n",
       "level_2019                                                 6/7\n",
       "Name: CI001, dtype: object"
      ]
     },
     "execution_count": 84,
     "metadata": {},
     "output_type": "execute_result"
    }
   ],
   "source": [
    "# Checking random course\n",
    "allcourses.loc['CI001'] # Code is the index "
   ]
  },
  {
   "cell_type": "markdown",
   "id": "7b690f1b-93e8-4e0f-a2f1-cd59fbad25ef",
   "metadata": {},
   "source": [
    "<br>"
   ]
  },
  {
   "cell_type": "markdown",
   "id": "8eb6ee80-b7bc-4e86-aa79-b3a716c47041",
   "metadata": {},
   "source": [
    "<br>"
   ]
  },
  {
   "cell_type": "markdown",
   "id": "273f57aa-7af0-4d06-a8dd-61f058a1b863",
   "metadata": {},
   "source": [
    "<br>"
   ]
  },
  {
   "cell_type": "code",
   "execution_count": 85,
   "id": "5dff974a-1d1c-4883-ac85-43063e1fbf8e",
   "metadata": {},
   "outputs": [
    {
     "data": {
      "text/html": [
       "<div>\n",
       "<style scoped>\n",
       "    .dataframe tbody tr th:only-of-type {\n",
       "        vertical-align: middle;\n",
       "    }\n",
       "\n",
       "    .dataframe tbody tr th {\n",
       "        vertical-align: top;\n",
       "    }\n",
       "\n",
       "    .dataframe thead th {\n",
       "        text-align: right;\n",
       "    }\n",
       "</style>\n",
       "<table border=\"1\" class=\"dataframe\">\n",
       "  <thead>\n",
       "    <tr style=\"text-align: right;\">\n",
       "      <th></th>\n",
       "      <th>title</th>\n",
       "      <th>level_2021</th>\n",
       "      <th>points_r1_2021</th>\n",
       "      <th>level_2020</th>\n",
       "      <th>points_r1_2020</th>\n",
       "      <th>points_r1_2019</th>\n",
       "      <th>level_2019</th>\n",
       "    </tr>\n",
       "    <tr>\n",
       "      <th>code</th>\n",
       "      <th></th>\n",
       "      <th></th>\n",
       "      <th></th>\n",
       "      <th></th>\n",
       "      <th></th>\n",
       "      <th></th>\n",
       "      <th></th>\n",
       "    </tr>\n",
       "  </thead>\n",
       "  <tbody>\n",
       "    <tr>\n",
       "      <th>LM123</th>\n",
       "      <td>Biological and Chemical Sc. (Biosci/Envir Sci/Ind</td>\n",
       "      <td>8</td>\n",
       "      <td>498*</td>\n",
       "      <td>8.0</td>\n",
       "      <td>441</td>\n",
       "      <td>412</td>\n",
       "      <td>8</td>\n",
       "    </tr>\n",
       "    <tr>\n",
       "      <th>LM124</th>\n",
       "      <td>Mathematics (Math Science/Maths and Physics/Ec...</td>\n",
       "      <td>8</td>\n",
       "      <td>455</td>\n",
       "      <td>8.0</td>\n",
       "      <td>437</td>\n",
       "      <td>427</td>\n",
       "      <td>8</td>\n",
       "    </tr>\n",
       "    <tr>\n",
       "      <th>LM125</th>\n",
       "      <td>Physics (Applied Physics or Mathematics and Ph...</td>\n",
       "      <td>8</td>\n",
       "      <td>489</td>\n",
       "      <td>8.0</td>\n",
       "      <td>404</td>\n",
       "      <td>405</td>\n",
       "      <td>8</td>\n",
       "    </tr>\n",
       "    <tr>\n",
       "      <th>LM150</th>\n",
       "      <td>General Nursing</td>\n",
       "      <td>8</td>\n",
       "      <td>498*</td>\n",
       "      <td>8.0</td>\n",
       "      <td>475</td>\n",
       "      <td>440*</td>\n",
       "      <td>8</td>\n",
       "    </tr>\n",
       "    <tr>\n",
       "      <th>LM152</th>\n",
       "      <td>Mental Health Nursing</td>\n",
       "      <td>8</td>\n",
       "      <td>478</td>\n",
       "      <td>8.0</td>\n",
       "      <td>419</td>\n",
       "      <td>388</td>\n",
       "      <td>8</td>\n",
       "    </tr>\n",
       "    <tr>\n",
       "      <th>LM154</th>\n",
       "      <td>Intellectual Disability Nursing</td>\n",
       "      <td>8</td>\n",
       "      <td>462</td>\n",
       "      <td>8.0</td>\n",
       "      <td>420</td>\n",
       "      <td>381*</td>\n",
       "      <td>8</td>\n",
       "    </tr>\n",
       "    <tr>\n",
       "      <th>LM156</th>\n",
       "      <td>Midwifery</td>\n",
       "      <td>8</td>\n",
       "      <td>521*</td>\n",
       "      <td>8.0</td>\n",
       "      <td>469</td>\n",
       "      <td>429</td>\n",
       "      <td>8</td>\n",
       "    </tr>\n",
       "    <tr>\n",
       "      <th>MU001</th>\n",
       "      <td>Theology and Arts</td>\n",
       "      <td>8</td>\n",
       "      <td>294</td>\n",
       "      <td>8.0</td>\n",
       "      <td>290</td>\n",
       "      <td>290</td>\n",
       "      <td>8</td>\n",
       "    </tr>\n",
       "    <tr>\n",
       "      <th>MU002</th>\n",
       "      <td>Theology</td>\n",
       "      <td>8</td>\n",
       "      <td>NaN</td>\n",
       "      <td>8.0</td>\n",
       "      <td>440</td>\n",
       "      <td>292</td>\n",
       "      <td>8</td>\n",
       "    </tr>\n",
       "    <tr>\n",
       "      <th>MH001</th>\n",
       "      <td>Education - Primary Teaching (Froebel)</td>\n",
       "      <td>8</td>\n",
       "      <td>564</td>\n",
       "      <td>8.0</td>\n",
       "      <td>507</td>\n",
       "      <td>496*</td>\n",
       "      <td>8</td>\n",
       "    </tr>\n",
       "  </tbody>\n",
       "</table>\n",
       "</div>"
      ],
      "text/plain": [
       "                                                   title level_2021  \\\n",
       "code                                                                  \n",
       "LM123  Biological and Chemical Sc. (Biosci/Envir Sci/Ind          8   \n",
       "LM124  Mathematics (Math Science/Maths and Physics/Ec...          8   \n",
       "LM125  Physics (Applied Physics or Mathematics and Ph...          8   \n",
       "LM150                                    General Nursing          8   \n",
       "LM152                              Mental Health Nursing          8   \n",
       "LM154                    Intellectual Disability Nursing          8   \n",
       "LM156                                          Midwifery          8   \n",
       "MU001                                  Theology and Arts          8   \n",
       "MU002                                           Theology          8   \n",
       "MH001             Education - Primary Teaching (Froebel)          8   \n",
       "\n",
       "      points_r1_2021  level_2020 points_r1_2020 points_r1_2019 level_2019  \n",
       "code                                                                       \n",
       "LM123           498*         8.0            441            412          8  \n",
       "LM124            455         8.0            437            427          8  \n",
       "LM125            489         8.0            404            405          8  \n",
       "LM150           498*         8.0            475           440*          8  \n",
       "LM152            478         8.0            419            388          8  \n",
       "LM154            462         8.0            420           381*          8  \n",
       "LM156           521*         8.0            469            429          8  \n",
       "MU001            294         8.0            290            290          8  \n",
       "MU002            NaN         8.0            440            292          8  \n",
       "MH001            564         8.0            507           496*          8  "
      ]
     },
     "execution_count": 85,
     "metadata": {},
     "output_type": "execute_result"
    }
   ],
   "source": [
    "# Checking random rows\n",
    "allcourses.iloc[800:810, 0:7]"
   ]
  },
  {
   "cell_type": "markdown",
   "id": "4dd3f819-35a9-4073-94d8-049faa00b25b",
   "metadata": {},
   "source": [
    "<br>"
   ]
  },
  {
   "cell_type": "markdown",
   "id": "cac80e2a-ff51-4944-8a03-adc3df714a23",
   "metadata": {},
   "source": [
    "<br>"
   ]
  },
  {
   "cell_type": "markdown",
   "id": "04cec776-ed6e-4161-9258-4313feb734dc",
   "metadata": {},
   "source": [
    "<br>"
   ]
  },
  {
   "cell_type": "markdown",
   "id": "a10a959d-2a42-4fa2-aeb4-5e095f84aedd",
   "metadata": {},
   "source": [
    "<br>"
   ]
  },
  {
   "cell_type": "markdown",
   "id": "b3ccdc17-9afd-4806-9d9c-b31cec5ca79a",
   "metadata": {},
   "source": [
    "### Changing DataType\n",
    "***"
   ]
  },
  {
   "cell_type": "markdown",
   "id": "e3ca8e3b-721f-4c12-84ae-83a2e7d0af26",
   "metadata": {},
   "source": [
    "<br>"
   ]
  },
  {
   "cell_type": "code",
   "execution_count": 86,
   "id": "2b79b9c4-701b-4ceb-b628-f607dcb2c60d",
   "metadata": {},
   "outputs": [
    {
     "name": "stdout",
     "output_type": "stream",
     "text": [
      "<class 'pandas.core.frame.DataFrame'>\n",
      "Index: 1766 entries, AL801 to TL746\n",
      "Data columns (total 7 columns):\n",
      " #   Column          Non-Null Count  Dtype  \n",
      "---  ------          --------------  -----  \n",
      " 0   title           1765 non-null   object \n",
      " 1   level_2021      1365 non-null   object \n",
      " 2   points_r1_2021  1336 non-null   object \n",
      " 3   level_2020      1464 non-null   float64\n",
      " 4   points_r1_2020  1437 non-null   object \n",
      " 5   points_r1_2019  1297 non-null   object \n",
      " 6   level_2019      1309 non-null   object \n",
      "dtypes: float64(1), object(6)\n",
      "memory usage: 174.9+ KB\n"
     ]
    }
   ],
   "source": [
    "allcourses.info()"
   ]
  },
  {
   "cell_type": "markdown",
   "id": "b24d16c3-9c40-44e3-926d-2af7ab1d6d38",
   "metadata": {},
   "source": [
    "<br>"
   ]
  },
  {
   "cell_type": "markdown",
   "id": "ea8919ff-f743-4b18-ab02-ec6d20adcae2",
   "metadata": {},
   "source": [
    "<br>"
   ]
  },
  {
   "cell_type": "markdown",
   "id": "a6101fc8-b438-46fc-8f64-83790a9b0a0c",
   "metadata": {
    "tags": []
   },
   "source": [
    "As mentioned earlier, the 2020 points do provide the level for each course. The levels are saved as an integer. As we had to add our own levels into 2021 and 2019, where '6/7' was used. So, I am going to convert the level column values into a string type to match 2019 and 2021."
   ]
  },
  {
   "cell_type": "markdown",
   "id": "b4cf3b6c-1fd2-42f5-8358-9c6ee5b6f964",
   "metadata": {
    "tags": []
   },
   "source": [
    "<br>"
   ]
  },
  {
   "cell_type": "markdown",
   "id": "005ae5cd-0651-4811-aa99-4f220c2d11f2",
   "metadata": {
    "tags": []
   },
   "source": [
    "<br>"
   ]
  },
  {
   "cell_type": "code",
   "execution_count": 87,
   "id": "4dfde92c-0785-4807-9a22-fd79bde27848",
   "metadata": {},
   "outputs": [],
   "source": [
    "# Converting level column values into strings\n",
    "allcourses['level_2020'] = allcourses['level_2020'].astype('string')"
   ]
  },
  {
   "cell_type": "markdown",
   "id": "e576819d-ca88-4b80-a009-1d3394e86ace",
   "metadata": {
    "tags": []
   },
   "source": [
    "<br>"
   ]
  },
  {
   "cell_type": "markdown",
   "id": "7b6529a9-9bca-445e-a845-bad0c0abfdd9",
   "metadata": {
    "tags": []
   },
   "source": [
    "<br>"
   ]
  },
  {
   "cell_type": "markdown",
   "id": "0893dcad-1cea-436c-9140-ef7f5cf873f3",
   "metadata": {},
   "source": [
    "As we can see above the datatype that the points are saved as strings. We need to change this into a numerical value so we can perform statistical operations such as - max, min, mean, etc. - on the data. \n",
    "\n",
    "Some of the points values have special characters next to them to indicate extra elements - interview, portfolio, etc. - required for a course. We need to remove these characters before we can covert the strings to numeric values, an error is thrown if not. \n",
    "\n",
    "Note: 2020 points don't contain special characters in the same cell as points."
   ]
  },
  {
   "cell_type": "markdown",
   "id": "17c63d1e-2e0f-4257-ba71-a1cc75919c67",
   "metadata": {
    "tags": []
   },
   "source": [
    "<br>"
   ]
  },
  {
   "cell_type": "markdown",
   "id": "a55aa9fd-d515-40eb-952e-027c3af23b7e",
   "metadata": {},
   "source": [
    "<br>"
   ]
  },
  {
   "cell_type": "code",
   "execution_count": 89,
   "id": "de9b291d-ce53-42a2-a09f-b0345c2680b6",
   "metadata": {},
   "outputs": [],
   "source": [
    "# 2021 points\n",
    "allcourses['points_r1_2021'] = allcourses['points_r1_2021'].str.replace(r'\\D', '', regex=True)\n",
    "\n",
    "# 2019 points\n",
    "allcourses['points_r1_2019'] = allcourses['points_r1_2019'].str.replace(r'\\D', '', regex=True)"
   ]
  },
  {
   "cell_type": "markdown",
   "id": "f85ea0d7-256c-48de-9ad8-79cbd26ff21d",
   "metadata": {
    "tags": []
   },
   "source": [
    "<br>"
   ]
  },
  {
   "cell_type": "markdown",
   "id": "7923968a-09ab-473c-a9a6-ec6a59dd4539",
   "metadata": {
    "tags": []
   },
   "source": [
    "<br>"
   ]
  },
  {
   "cell_type": "code",
   "execution_count": 90,
   "id": "919c80d3-6d41-409e-ae44-3d45ac8f8ac5",
   "metadata": {},
   "outputs": [
    {
     "data": {
      "text/plain": [
       "title             Popular Music at CIT Cork School of Music\n",
       "level_2021                                                8\n",
       "points_r1_2021                                         1028\n",
       "level_2020                                              8.0\n",
       "points_r1_2020                                         1088\n",
       "points_r1_2019                                          972\n",
       "level_2019                                                8\n",
       "Name: CR125, dtype: object"
      ]
     },
     "execution_count": 90,
     "metadata": {},
     "output_type": "execute_result"
    }
   ],
   "source": [
    "# Checking a courses which previously had a special character\n",
    "allcourses.loc['CR125']"
   ]
  },
  {
   "cell_type": "markdown",
   "id": "676d5b4b-fa73-4a6b-bf32-88156b3e434c",
   "metadata": {
    "tags": []
   },
   "source": [
    "<br>"
   ]
  },
  {
   "cell_type": "markdown",
   "id": "cb73c253-83d8-4976-9504-4b42b52d88e4",
   "metadata": {},
   "source": [
    "<br>"
   ]
  },
  {
   "cell_type": "code",
   "execution_count": 91,
   "id": "a48a0dfb-50bb-460b-b83b-3df555defeb4",
   "metadata": {},
   "outputs": [],
   "source": [
    "# Converting points columns to numeric values\n",
    "cols = ['points_r1_2021', 'points_r1_2020', 'points_r1_2019']\n",
    "allcourses[cols] = allcourses[cols].apply(pd.to_numeric, errors='coerce', axis=1)"
   ]
  },
  {
   "cell_type": "markdown",
   "id": "f8bc63f7-a6cd-4912-9bed-3a46bc99d65f",
   "metadata": {},
   "source": [
    "<br>"
   ]
  },
  {
   "cell_type": "markdown",
   "id": "c5a76924-261c-4cca-9662-bb8bfce9a3e8",
   "metadata": {},
   "source": [
    "<br>"
   ]
  },
  {
   "cell_type": "code",
   "execution_count": 92,
   "id": "1cd4e01e-d5a8-4bdb-b954-9944433338e1",
   "metadata": {},
   "outputs": [
    {
     "name": "stdout",
     "output_type": "stream",
     "text": [
      "<class 'pandas.core.frame.DataFrame'>\n",
      "Index: 1766 entries, AL801 to TL746\n",
      "Data columns (total 7 columns):\n",
      " #   Column          Non-Null Count  Dtype  \n",
      "---  ------          --------------  -----  \n",
      " 0   title           1765 non-null   object \n",
      " 1   level_2021      1365 non-null   object \n",
      " 2   points_r1_2021  1317 non-null   float64\n",
      " 3   level_2020      1464 non-null   string \n",
      " 4   points_r1_2020  1387 non-null   float64\n",
      " 5   points_r1_2019  1227 non-null   float64\n",
      " 6   level_2019      1309 non-null   object \n",
      "dtypes: float64(3), object(3), string(1)\n",
      "memory usage: 174.9+ KB\n"
     ]
    }
   ],
   "source": [
    "allcourses.info()"
   ]
  },
  {
   "cell_type": "markdown",
   "id": "f3dd990c-97cc-447f-965a-1e10517b6317",
   "metadata": {},
   "source": [
    "<br>"
   ]
  },
  {
   "cell_type": "markdown",
   "id": "44e0e50f-a719-4dcd-8d3d-1d875e8bcabd",
   "metadata": {},
   "source": [
    "<br>"
   ]
  },
  {
   "cell_type": "markdown",
   "id": "333602dc-5ccd-428b-86f8-499279dfdb6a",
   "metadata": {},
   "source": [
    "<br>"
   ]
  },
  {
   "cell_type": "markdown",
   "id": "854cff3b-3841-433e-8836-96a3dc5a440d",
   "metadata": {},
   "source": [
    "<br>"
   ]
  },
  {
   "cell_type": "markdown",
   "id": "3b56a609-bc35-4d7a-9310-e8d34da7ec05",
   "metadata": {
    "tags": []
   },
   "source": [
    "***\n",
    "## Data Analysis\n",
    "***"
   ]
  },
  {
   "cell_type": "markdown",
   "id": "ebf63ec8-ed4a-4c2c-84f8-448819127901",
   "metadata": {},
   "source": [
    "<br>"
   ]
  },
  {
   "cell_type": "markdown",
   "id": "619070d7-caff-42e3-8ea3-25147dd44c08",
   "metadata": {},
   "source": [
    "<br>"
   ]
  },
  {
   "cell_type": "markdown",
   "id": "e31f2d70-8771-41d2-b391-b6df62c5678b",
   "metadata": {},
   "source": [
    "![img](images/covid.jpg)"
   ]
  },
  {
   "cell_type": "markdown",
   "id": "db9cb963-81c0-4bd3-a310-a04c20e91bdd",
   "metadata": {},
   "source": [
    "<br>"
   ]
  },
  {
   "cell_type": "markdown",
   "id": "0493b7a8-daf0-43c1-93e9-6a017ce10005",
   "metadata": {},
   "source": [
    "<br>"
   ]
  },
  {
   "cell_type": "markdown",
   "id": "bb30204a-9833-4e58-821f-c341c88716b9",
   "metadata": {},
   "source": [
    "Before we start with a points comparison, it is important to note the impact Covid-19 had on the leaving certificate and CAO points. \n",
    "\n",
    "On the 21st of May 2020, the government announced that due to medical evidence the leaving certificate exam would be cancelled [15]. In its place students were offered the option of calculated grades or to sit the exam at a later date. In figures released by The Department of Education revealed over 98% students had registered for calculated grades [16].\n",
    "\n",
    "In 2021, students again had the option of sitting exams, receiving accredited grades or a mixture of both [17]. \n",
    "\n",
    "There was an overall concern that accredited grades along with a record number of applicants would drive up CAO points for courses across the board. Let’s investigate if that was indeed the case."
   ]
  },
  {
   "cell_type": "markdown",
   "id": "cefcb817-4b7a-4e65-b7fa-d4fddd4bd3e3",
   "metadata": {},
   "source": [
    "<br>"
   ]
  },
  {
   "cell_type": "markdown",
   "id": "4561b9ac-9433-4090-b6f1-06dbc8f77653",
   "metadata": {},
   "source": [
    "<br>"
   ]
  },
  {
   "cell_type": "markdown",
   "id": "162ce946-8bef-40e9-a384-791494a3504c",
   "metadata": {},
   "source": [
    "<br>"
   ]
  },
  {
   "cell_type": "code",
   "execution_count": 93,
   "id": "314b5b45-99bb-4c46-9721-e26aadad80c1",
   "metadata": {},
   "outputs": [
    {
     "data": {
      "text/html": [
       "<div>\n",
       "<style scoped>\n",
       "    .dataframe tbody tr th:only-of-type {\n",
       "        vertical-align: middle;\n",
       "    }\n",
       "\n",
       "    .dataframe tbody tr th {\n",
       "        vertical-align: top;\n",
       "    }\n",
       "\n",
       "    .dataframe thead th {\n",
       "        text-align: right;\n",
       "    }\n",
       "</style>\n",
       "<table border=\"1\" class=\"dataframe\">\n",
       "  <thead>\n",
       "    <tr style=\"text-align: right;\">\n",
       "      <th></th>\n",
       "      <th>points_r1_2021</th>\n",
       "      <th>points_r1_2020</th>\n",
       "      <th>points_r1_2019</th>\n",
       "    </tr>\n",
       "  </thead>\n",
       "  <tbody>\n",
       "    <tr>\n",
       "      <th>count</th>\n",
       "      <td>1317.000000</td>\n",
       "      <td>1387.000000</td>\n",
       "      <td>1227.000000</td>\n",
       "    </tr>\n",
       "    <tr>\n",
       "      <th>mean</th>\n",
       "      <td>361.665148</td>\n",
       "      <td>350.217015</td>\n",
       "      <td>340.366748</td>\n",
       "    </tr>\n",
       "    <tr>\n",
       "      <th>std</th>\n",
       "      <td>139.025919</td>\n",
       "      <td>134.311616</td>\n",
       "      <td>132.806330</td>\n",
       "    </tr>\n",
       "    <tr>\n",
       "      <th>min</th>\n",
       "      <td>57.000000</td>\n",
       "      <td>55.000000</td>\n",
       "      <td>55.000000</td>\n",
       "    </tr>\n",
       "    <tr>\n",
       "      <th>25%</th>\n",
       "      <td>260.000000</td>\n",
       "      <td>252.000000</td>\n",
       "      <td>252.000000</td>\n",
       "    </tr>\n",
       "    <tr>\n",
       "      <th>50%</th>\n",
       "      <td>325.000000</td>\n",
       "      <td>316.000000</td>\n",
       "      <td>307.000000</td>\n",
       "    </tr>\n",
       "    <tr>\n",
       "      <th>75%</th>\n",
       "      <td>462.000000</td>\n",
       "      <td>430.500000</td>\n",
       "      <td>409.500000</td>\n",
       "    </tr>\n",
       "    <tr>\n",
       "      <th>max</th>\n",
       "      <td>1028.000000</td>\n",
       "      <td>1088.000000</td>\n",
       "      <td>979.000000</td>\n",
       "    </tr>\n",
       "  </tbody>\n",
       "</table>\n",
       "</div>"
      ],
      "text/plain": [
       "       points_r1_2021  points_r1_2020  points_r1_2019\n",
       "count     1317.000000     1387.000000     1227.000000\n",
       "mean       361.665148      350.217015      340.366748\n",
       "std        139.025919      134.311616      132.806330\n",
       "min         57.000000       55.000000       55.000000\n",
       "25%        260.000000      252.000000      252.000000\n",
       "50%        325.000000      316.000000      307.000000\n",
       "75%        462.000000      430.500000      409.500000\n",
       "max       1028.000000     1088.000000      979.000000"
      ]
     },
     "execution_count": 93,
     "metadata": {},
     "output_type": "execute_result"
    }
   ],
   "source": [
    "# Overview \n",
    "allcourses.describe()"
   ]
  },
  {
   "cell_type": "markdown",
   "id": "1fb3b10b-2c54-4595-88d9-cb36df34de92",
   "metadata": {},
   "source": [
    "<br>"
   ]
  },
  {
   "cell_type": "markdown",
   "id": "7075f59a-b51b-477d-b6be-e0161c89d91e",
   "metadata": {},
   "source": [
    "We can use the `.groupby()` method to group <i>\"...the data according to the categories and apply a function to the categories\"</i> [24]. We can then use various aggregate functions to analyse the data.\n",
    "\n",
    "We'll use the course levels provided by 2020 as we know these are correctly labelled.\n"
   ]
  },
  {
   "cell_type": "markdown",
   "id": "8faaec5a-217a-47b6-9ce9-2f9086a97a28",
   "metadata": {},
   "source": [
    "<br>"
   ]
  },
  {
   "cell_type": "code",
   "execution_count": 94,
   "id": "5be9f087-ca8d-4339-93eb-429d95a67720",
   "metadata": {},
   "outputs": [
    {
     "data": {
      "text/html": [
       "<div>\n",
       "<style scoped>\n",
       "    .dataframe tbody tr th:only-of-type {\n",
       "        vertical-align: middle;\n",
       "    }\n",
       "\n",
       "    .dataframe tbody tr th {\n",
       "        vertical-align: top;\n",
       "    }\n",
       "\n",
       "    .dataframe thead tr th {\n",
       "        text-align: left;\n",
       "    }\n",
       "\n",
       "    .dataframe thead tr:last-of-type th {\n",
       "        text-align: right;\n",
       "    }\n",
       "</style>\n",
       "<table border=\"1\" class=\"dataframe\">\n",
       "  <thead>\n",
       "    <tr>\n",
       "      <th></th>\n",
       "      <th colspan=\"4\" halign=\"left\">points_r1_2019</th>\n",
       "      <th colspan=\"4\" halign=\"left\">points_r1_2020</th>\n",
       "      <th colspan=\"4\" halign=\"left\">points_r1_2021</th>\n",
       "    </tr>\n",
       "    <tr>\n",
       "      <th></th>\n",
       "      <th>mean</th>\n",
       "      <th>std</th>\n",
       "      <th>amin</th>\n",
       "      <th>amax</th>\n",
       "      <th>mean</th>\n",
       "      <th>std</th>\n",
       "      <th>amin</th>\n",
       "      <th>amax</th>\n",
       "      <th>mean</th>\n",
       "      <th>std</th>\n",
       "      <th>amin</th>\n",
       "      <th>amax</th>\n",
       "    </tr>\n",
       "    <tr>\n",
       "      <th>level_2020</th>\n",
       "      <th></th>\n",
       "      <th></th>\n",
       "      <th></th>\n",
       "      <th></th>\n",
       "      <th></th>\n",
       "      <th></th>\n",
       "      <th></th>\n",
       "      <th></th>\n",
       "      <th></th>\n",
       "      <th></th>\n",
       "      <th></th>\n",
       "      <th></th>\n",
       "    </tr>\n",
       "  </thead>\n",
       "  <tbody>\n",
       "    <tr>\n",
       "      <th>6.0</th>\n",
       "      <td>227.586957</td>\n",
       "      <td>71.481956</td>\n",
       "      <td>128.0</td>\n",
       "      <td>454.0</td>\n",
       "      <td>235.283784</td>\n",
       "      <td>69.185183</td>\n",
       "      <td>149.0</td>\n",
       "      <td>473.0</td>\n",
       "      <td>243.724638</td>\n",
       "      <td>88.867364</td>\n",
       "      <td>120.0</td>\n",
       "      <td>502.0</td>\n",
       "    </tr>\n",
       "    <tr>\n",
       "      <th>7.0</th>\n",
       "      <td>238.588889</td>\n",
       "      <td>98.528888</td>\n",
       "      <td>100.0</td>\n",
       "      <td>700.0</td>\n",
       "      <td>245.714286</td>\n",
       "      <td>88.084202</td>\n",
       "      <td>100.0</td>\n",
       "      <td>781.0</td>\n",
       "      <td>256.902280</td>\n",
       "      <td>99.383937</td>\n",
       "      <td>100.0</td>\n",
       "      <td>775.0</td>\n",
       "    </tr>\n",
       "    <tr>\n",
       "      <th>8.0</th>\n",
       "      <td>384.831836</td>\n",
       "      <td>127.853080</td>\n",
       "      <td>55.0</td>\n",
       "      <td>979.0</td>\n",
       "      <td>393.800813</td>\n",
       "      <td>126.253491</td>\n",
       "      <td>55.0</td>\n",
       "      <td>1088.0</td>\n",
       "      <td>408.978261</td>\n",
       "      <td>127.961471</td>\n",
       "      <td>57.0</td>\n",
       "      <td>1028.0</td>\n",
       "    </tr>\n",
       "  </tbody>\n",
       "</table>\n",
       "</div>"
      ],
      "text/plain": [
       "           points_r1_2019                           points_r1_2020  \\\n",
       "                     mean         std   amin   amax           mean   \n",
       "level_2020                                                           \n",
       "6.0            227.586957   71.481956  128.0  454.0     235.283784   \n",
       "7.0            238.588889   98.528888  100.0  700.0     245.714286   \n",
       "8.0            384.831836  127.853080   55.0  979.0     393.800813   \n",
       "\n",
       "                                      points_r1_2021                     \\\n",
       "                   std   amin    amax           mean         std   amin   \n",
       "level_2020                                                                \n",
       "6.0          69.185183  149.0   473.0     243.724638   88.867364  120.0   \n",
       "7.0          88.084202  100.0   781.0     256.902280   99.383937  100.0   \n",
       "8.0         126.253491   55.0  1088.0     408.978261  127.961471   57.0   \n",
       "\n",
       "                    \n",
       "              amax  \n",
       "level_2020          \n",
       "6.0          502.0  \n",
       "7.0          775.0  \n",
       "8.0         1028.0  "
      ]
     },
     "execution_count": 94,
     "metadata": {},
     "output_type": "execute_result"
    }
   ],
   "source": [
    "# Columns to use\n",
    "c = ['points_r1_2019', 'points_r1_2020', 'points_r1_2021']\n",
    "\n",
    "# Groupby\n",
    "allcourses.groupby(['level_2020'])[c].agg([np.mean, np.std, np.min, np.max])"
   ]
  },
  {
   "cell_type": "markdown",
   "id": "ca6ffa99-13a2-4ec7-bd73-b1cd2a431de5",
   "metadata": {},
   "source": [
    "<br>"
   ]
  },
  {
   "cell_type": "markdown",
   "id": "bcecb6f0-7ba4-4886-aee9-0f8a1de1f468",
   "metadata": {},
   "source": [
    "Just from this quick overview, we can see that points have increased over the years. "
   ]
  },
  {
   "cell_type": "markdown",
   "id": "41bab107-f2a1-4130-9229-265e2adfe1c3",
   "metadata": {},
   "source": [
    "<br>"
   ]
  },
  {
   "cell_type": "markdown",
   "id": "a1e70f20-f905-4214-85af-f6172b7f90dc",
   "metadata": {},
   "source": [
    "<br>"
   ]
  },
  {
   "cell_type": "code",
   "execution_count": 95,
   "id": "c296e338-dee9-4dcc-b6cd-f6670f28af62",
   "metadata": {},
   "outputs": [
    {
     "data": {
      "text/plain": [
       "1765"
      ]
     },
     "execution_count": 95,
     "metadata": {},
     "output_type": "execute_result"
    }
   ],
   "source": [
    "# Number of courses titles\n",
    "allcourses['title'].count()"
   ]
  },
  {
   "cell_type": "markdown",
   "id": "396b43b6-7bed-4053-8b4c-0639b3b051d6",
   "metadata": {},
   "source": [
    "<br>"
   ]
  },
  {
   "cell_type": "markdown",
   "id": "4ad34671-2373-4875-9c6b-63c64d614ef1",
   "metadata": {},
   "source": [
    "<br>"
   ]
  },
  {
   "cell_type": "markdown",
   "id": "71f7f47b-f0aa-47e0-84be-e30b515c7f0a",
   "metadata": {},
   "source": [
    "There are 1765 courses in our dataframe. It's important to note that this does not mean there was 1765 courses available to candidates each year. The number of courses varies year on year. If there's low demand for courses, they may cease that and subsequent years. Additionally, new courses may be added. E.g., a course that was available in 2019 may not be running in 2020."
   ]
  },
  {
   "cell_type": "markdown",
   "id": "3ffe2b4a-40e3-4de5-afc3-a272ea9f7ffe",
   "metadata": {},
   "source": [
    "<br>"
   ]
  },
  {
   "cell_type": "markdown",
   "id": "6b504549-bafa-47c2-bdcc-d6b790353aee",
   "metadata": {},
   "source": [
    "<br>"
   ]
  },
  {
   "cell_type": "code",
   "execution_count": 96,
   "id": "8b017ae0-306f-47d9-969c-fe29c14a8fb7",
   "metadata": {},
   "outputs": [
    {
     "data": {
      "text/plain": [
       "8      931\n",
       "6/7    378\n",
       "Name: level_2019, dtype: int64"
      ]
     },
     "execution_count": 96,
     "metadata": {},
     "output_type": "execute_result"
    }
   ],
   "source": [
    "# Breakdown of 2019 courses\n",
    "allcourses['level_2019'].value_counts()"
   ]
  },
  {
   "cell_type": "markdown",
   "id": "ce0e6157-158f-42c6-a959-7b59c879224e",
   "metadata": {},
   "source": [
    "<br>"
   ]
  },
  {
   "cell_type": "markdown",
   "id": "c143601f-8c56-4b23-9e50-570093529b41",
   "metadata": {},
   "source": [
    "<br>"
   ]
  },
  {
   "cell_type": "code",
   "execution_count": 97,
   "id": "e4fe0e8e-6c61-4b8b-bedd-a547da20549d",
   "metadata": {},
   "outputs": [
    {
     "data": {
      "text/plain": [
       "8.0    1027\n",
       "7.0     346\n",
       "6.0      91\n",
       "Name: level_2020, dtype: Int64"
      ]
     },
     "execution_count": 97,
     "metadata": {},
     "output_type": "execute_result"
    }
   ],
   "source": [
    "# Breakdown of 2020 courses\n",
    "allcourses['level_2020'].value_counts()"
   ]
  },
  {
   "cell_type": "markdown",
   "id": "1d6e4273-f4f8-48a3-be10-369fd949429c",
   "metadata": {},
   "source": [
    "<br>"
   ]
  },
  {
   "cell_type": "markdown",
   "id": "d35b3a45-7ae4-4505-b565-637f4fc15621",
   "metadata": {},
   "source": [
    "<br>"
   ]
  },
  {
   "cell_type": "code",
   "execution_count": 98,
   "id": "7b705e6f-9905-4d80-8743-aa9c47095c6f",
   "metadata": {},
   "outputs": [
    {
     "data": {
      "text/plain": [
       "8      949\n",
       "6/7    416\n",
       "Name: level_2021, dtype: int64"
      ]
     },
     "execution_count": 98,
     "metadata": {},
     "output_type": "execute_result"
    }
   ],
   "source": [
    "# Breakdown of 2021 courses\n",
    "allcourses['level_2021'].value_counts()"
   ]
  },
  {
   "cell_type": "markdown",
   "id": "35405ffc-1150-44b8-bc63-436043290d03",
   "metadata": {
    "tags": []
   },
   "source": [
    "<br>"
   ]
  },
  {
   "cell_type": "markdown",
   "id": "d9f77fc1-3731-46a4-ab88-d189d8f6e813",
   "metadata": {
    "tags": []
   },
   "source": [
    "<br>"
   ]
  },
  {
   "cell_type": "markdown",
   "id": "2399a59b-84e6-4351-b9d3-5d0683c0e092",
   "metadata": {},
   "source": [
    "Let's visualise these numbers using a count plot."
   ]
  },
  {
   "cell_type": "markdown",
   "id": "c3852a63-6061-45ba-9255-3eec1ce91a93",
   "metadata": {},
   "source": [
    "<br>"
   ]
  },
  {
   "cell_type": "code",
   "execution_count": 99,
   "id": "1ac854b6-cacd-4134-92c7-d69c35888147",
   "metadata": {},
   "outputs": [
    {
     "data": {
      "text/plain": [
       "<AxesSubplot:xlabel='level_2021', ylabel='count'>"
      ]
     },
     "execution_count": 99,
     "metadata": {},
     "output_type": "execute_result"
    },
    {
     "data": {
      "image/png": "[encoded data removed]",
      "text/plain": [
       "<Figure size 1080x720 with 3 Axes>"
      ]
     },
     "metadata": {
      "needs_background": "light"
     },
     "output_type": "display_data"
    }
   ],
   "source": [
    "# Figure Size\n",
    "plt.rcParams['figure.figsize'] = (15, 10)\n",
    "\n",
    "# Generating a countplot for each year\n",
    "\n",
    "# nrows, ncols, the first plot\n",
    "plt.subplot(1,3,1)\n",
    "sns.countplot(x='level_2019', data=allcourses)\n",
    "\n",
    "# nrows, ncols, the second plot\n",
    "plt.subplot(1,3,2)\n",
    "sns.countplot(x='level_2020', data=allcourses)\n",
    "\n",
    "# nrows, ncols, the thrid plot\n",
    "plt.subplot(1,3,3)\n",
    "sns.countplot(x='level_2021', data=allcourses)\n"
   ]
  },
  {
   "cell_type": "markdown",
   "id": "0bd1afd5-1d41-4e51-8d3a-0c922da821ea",
   "metadata": {
    "tags": []
   },
   "source": [
    "<br>"
   ]
  },
  {
   "cell_type": "markdown",
   "id": "795957d3-4d83-425a-a92a-94012661ae5d",
   "metadata": {
    "tags": []
   },
   "source": [
    "<br>"
   ]
  },
  {
   "cell_type": "markdown",
   "id": "32aab8cc-f61c-492f-9174-3d15e53c0c6d",
   "metadata": {},
   "source": [
    "<br>"
   ]
  },
  {
   "cell_type": "markdown",
   "id": "fa3b6428-9573-44d3-ac0e-8cd192eb1e50",
   "metadata": {},
   "source": [
    "2020 was the year which offered students the greatest number of courses."
   ]
  },
  {
   "cell_type": "markdown",
   "id": "0b93ceb5-951f-402b-a972-bfb33c2fcf0e",
   "metadata": {},
   "source": [
    "<br>"
   ]
  },
  {
   "cell_type": "markdown",
   "id": "34eda028-2d1c-407a-b044-7fd2b3d84c0e",
   "metadata": {},
   "source": [
    "<br>"
   ]
  },
  {
   "cell_type": "code",
   "execution_count": 100,
   "id": "a877338f-2a63-4d5d-84bd-d93171f90492",
   "metadata": {},
   "outputs": [
    {
     "data": {
      "text/plain": [
       "350.21701514059123"
      ]
     },
     "execution_count": 100,
     "metadata": {},
     "output_type": "execute_result"
    }
   ],
   "source": [
    "# Average number of points 2020\n",
    "allcourses['points_r1_2020'].mean()"
   ]
  },
  {
   "cell_type": "markdown",
   "id": "3ea8cb97-0248-414c-9623-da1106655ce0",
   "metadata": {},
   "source": [
    "<br>"
   ]
  },
  {
   "cell_type": "markdown",
   "id": "aecd9c02-aefd-4abd-957f-0ce9d46719db",
   "metadata": {},
   "source": [
    "<br>"
   ]
  },
  {
   "cell_type": "markdown",
   "id": "3d33ffc9-f868-4bda-b5e1-418e5441eba3",
   "metadata": {},
   "source": [
    "<br>"
   ]
  },
  {
   "cell_type": "markdown",
   "id": "1269a9e1-cc9c-4989-9042-42214554d5ca",
   "metadata": {},
   "source": [
    "Next, let's take a look at the points. "
   ]
  },
  {
   "cell_type": "markdown",
   "id": "4a89459b-94ec-4a56-b77f-9593767fa441",
   "metadata": {},
   "source": [
    "<br>"
   ]
  },
  {
   "cell_type": "markdown",
   "id": "c51ec793-32d5-4be9-8e75-5ed5e4aad7cf",
   "metadata": {},
   "source": [
    "<br>"
   ]
  },
  {
   "cell_type": "markdown",
   "id": "e6cefdde-fe41-4c8e-9cf0-2c97f41e63da",
   "metadata": {},
   "source": [
    "#### KDE Plot"
   ]
  },
  {
   "cell_type": "markdown",
   "id": "e02ce42f-88ea-44ac-a05b-f5c20be2d9d8",
   "metadata": {},
   "source": [
    "<br>"
   ]
  },
  {
   "cell_type": "markdown",
   "id": "b5c1ddd5-f6ce-452b-80d8-ce9bbccfb7c4",
   "metadata": {},
   "source": [
    "<i>\"A kernel density estimate (KDE) plot is a method for visualizing the distribution of observations in a dataset\"</i> [18].\n",
    "\n",
    "The KDE plot is generated by <i>“…drawing a small continuous curve (also called kernel) for every individual data point along an axis, all of these curves are then added together to obtain a single smooth density estimation”</i> [19]."
   ]
  },
  {
   "cell_type": "markdown",
   "id": "b4c07158-609a-41ca-a58c-68b280594cfc",
   "metadata": {},
   "source": [
    "To generate the KDE plot we can use `pandas` built in visualisation `.plot()`. This method is a wrapper for `pyplot.plot()` and the result is a graph identical to the one you produced with `Matplotlib` [23]."
   ]
  },
  {
   "cell_type": "markdown",
   "id": "5c6aafac-4098-45ec-b132-4ceb3d5b50e6",
   "metadata": {},
   "source": [
    "<br>"
   ]
  },
  {
   "cell_type": "code",
   "execution_count": 101,
   "id": "a0dce2be-dfb1-4556-9b65-07dbbf8f8217",
   "metadata": {},
   "outputs": [
    {
     "data": {
      "text/plain": [
       "([<matplotlib.axis.XTick at 0x2c526555e80>,\n",
       "  <matplotlib.axis.XTick at 0x2c526555e50>,\n",
       "  <matplotlib.axis.XTick at 0x2c5265b81c0>,\n",
       "  <matplotlib.axis.XTick at 0x2c5265b8b50>,\n",
       "  <matplotlib.axis.XTick at 0x2c5265c72e0>,\n",
       "  <matplotlib.axis.XTick at 0x2c5265c7a30>,\n",
       "  <matplotlib.axis.XTick at 0x2c5265ca1c0>,\n",
       "  <matplotlib.axis.XTick at 0x2c5265c7d60>,\n",
       "  <matplotlib.axis.XTick at 0x2c5265b8bb0>,\n",
       "  <matplotlib.axis.XTick at 0x2c5265cab50>,\n",
       "  <matplotlib.axis.XTick at 0x2c5265cd2e0>,\n",
       "  <matplotlib.axis.XTick at 0x2c526555520>,\n",
       "  <matplotlib.axis.XTick at 0x2c5265dabe0>,\n",
       "  <matplotlib.axis.XTick at 0x2c5265df370>,\n",
       "  <matplotlib.axis.XTick at 0x2c5265dadc0>],\n",
       " [Text(0, 0, ''),\n",
       "  Text(0, 0, ''),\n",
       "  Text(0, 0, ''),\n",
       "  Text(0, 0, ''),\n",
       "  Text(0, 0, ''),\n",
       "  Text(0, 0, ''),\n",
       "  Text(0, 0, ''),\n",
       "  Text(0, 0, ''),\n",
       "  Text(0, 0, ''),\n",
       "  Text(0, 0, ''),\n",
       "  Text(0, 0, ''),\n",
       "  Text(0, 0, ''),\n",
       "  Text(0, 0, ''),\n",
       "  Text(0, 0, ''),\n",
       "  Text(0, 0, '')])"
      ]
     },
     "execution_count": 101,
     "metadata": {},
     "output_type": "execute_result"
    },
    {
     "data": {
      "image/png": "[encoded data removed]",
      "text/plain": [
       "<Figure size 1080x720 with 1 Axes>"
      ]
     },
     "metadata": {
      "needs_background": "light"
     },
     "output_type": "display_data"
    }
   ],
   "source": [
    "# Generating a kde plot for points \n",
    "allcourses['points_r1_2021'].plot.kde(label='2021', linestyle='-', linewidth=3)\n",
    "allcourses['points_r1_2020'].plot.kde(label='2020', linestyle='--', linewidth=3)\n",
    "allcourses['points_r1_2019'].plot.kde(label='2019', linestyle=':', linewidth=3)\n",
    "\n",
    "# Adding a legend\n",
    "plt.legend()\n",
    "\n",
    "# Adding ticks to xaxis\n",
    "plt.xticks(np.arange(-500, 1650, step=150))"
   ]
  },
  {
   "cell_type": "markdown",
   "id": "e6a4567a-9df6-46fe-a358-76f78d47fa01",
   "metadata": {},
   "source": [
    "<br>"
   ]
  },
  {
   "cell_type": "markdown",
   "id": "0f75e625-b36b-412a-9bf1-2a7331dc43e3",
   "metadata": {},
   "source": [
    "<br>"
   ]
  },
  {
   "cell_type": "markdown",
   "id": "700aed10-2e1c-44f8-b06f-16d523fa1a55",
   "metadata": {},
   "source": [
    "From the above plot we can see that the majority of courses require in and around 300 points."
   ]
  },
  {
   "cell_type": "markdown",
   "id": "c0f2f489-520c-485f-a125-52ff0c4d5b3a",
   "metadata": {},
   "source": [
    "<br>"
   ]
  },
  {
   "cell_type": "markdown",
   "id": "731ac593-fc33-4e49-bd34-7b5e16017915",
   "metadata": {},
   "source": [
    "<br>"
   ]
  },
  {
   "cell_type": "markdown",
   "id": "590cc7aa-3126-42dd-9cce-a6d7e18c90b9",
   "metadata": {},
   "source": [
    "<br>"
   ]
  },
  {
   "cell_type": "markdown",
   "id": "0cf6ca86-3c2e-4879-bf03-cec0a12d7f00",
   "metadata": {},
   "source": [
    "#### Pairplot"
   ]
  },
  {
   "cell_type": "markdown",
   "id": "e27d9d51-167d-4f8d-8ec3-3d72a27a21b6",
   "metadata": {},
   "source": [
    "<br>"
   ]
  },
  {
   "cell_type": "markdown",
   "id": "026e96d1-a3aa-4009-adb2-c6a08bc88ded",
   "metadata": {},
   "source": [
    "We can use a pair plot to plot any pairwise relationships in our data [20]. I'm going to use the 2020 level as the hue as it is the only year, we know for sure which course is a level 6 or 7."
   ]
  },
  {
   "cell_type": "markdown",
   "id": "bebad356-53da-4897-8cac-d54ebaf16c59",
   "metadata": {},
   "source": [
    "<br>"
   ]
  },
  {
   "cell_type": "code",
   "execution_count": 102,
   "id": "fd946ce3-8b56-454b-be6f-6a5862616f9f",
   "metadata": {},
   "outputs": [
    {
     "data": {
      "text/plain": [
       "<seaborn.axisgrid.PairGrid at 0x2c5265df8e0>"
      ]
     },
     "execution_count": 102,
     "metadata": {},
     "output_type": "execute_result"
    },
    {
     "data": {
      "image/png": "[encoded data removed]",
      "text/plain": [
       "<Figure size 602.375x540 with 12 Axes>"
      ]
     },
     "metadata": {
      "needs_background": "light"
     },
     "output_type": "display_data"
    }
   ],
   "source": [
    "# Generating a pairplot\n",
    "sns.pairplot(data=allcourses, hue='level_2020')"
   ]
  },
  {
   "cell_type": "markdown",
   "id": "4746439e-f137-4f6b-8ade-332a01eef9ec",
   "metadata": {},
   "source": [
    "<br>"
   ]
  },
  {
   "cell_type": "markdown",
   "id": "859a9c1e-ad03-41f1-9246-d5bfb37d6fd9",
   "metadata": {},
   "source": [
    "<br>"
   ]
  },
  {
   "cell_type": "markdown",
   "id": "905c69f5-1d22-4b17-b59c-63233c8ede33",
   "metadata": {},
   "source": [
    "We can see there are some outliers in the data, and we will look at the further on. Another observation is that there seems to be the most difference between 2019. I would expect this as 2019 whereas a direct result of the written exams and 2021 was the second year accredited grades where an option."
   ]
  },
  {
   "cell_type": "markdown",
   "id": "17f95cef-f696-4070-aae0-a219e530d91d",
   "metadata": {},
   "source": [
    "<br>"
   ]
  },
  {
   "cell_type": "markdown",
   "id": "1694cdb8-159a-43c4-b13b-4e58e3cbebb1",
   "metadata": {},
   "source": [
    "<br>"
   ]
  },
  {
   "cell_type": "markdown",
   "id": "327df853-ccd4-4ebe-aef3-ef00d8a3e221",
   "metadata": {},
   "source": [
    "### Top 10 Highest Course Points Per Year"
   ]
  },
  {
   "cell_type": "markdown",
   "id": "c72a69b3-9fac-4309-add9-4687476de2f0",
   "metadata": {},
   "source": [
    "<br>"
   ]
  },
  {
   "cell_type": "markdown",
   "id": "853678c0-a909-4fc9-b5b3-de149fab36d1",
   "metadata": {},
   "source": [
    "We can do sort a column in ascending or descending order by using the pandas method `.sort_values()` [21]."
   ]
  },
  {
   "cell_type": "markdown",
   "id": "b4c909fd-79a7-4f5d-9c4b-a6ba54ac01fc",
   "metadata": {},
   "source": [
    "<br>"
   ]
  },
  {
   "cell_type": "markdown",
   "id": "a6cf22bf-a4a9-49c5-91ec-ce228ad2a583",
   "metadata": {},
   "source": [
    "### 2019"
   ]
  },
  {
   "cell_type": "markdown",
   "id": "af77ef0b-8393-4d02-b5f7-c5a700192a4e",
   "metadata": {},
   "source": [
    "<br>"
   ]
  },
  {
   "cell_type": "code",
   "execution_count": 103,
   "id": "3ff3213d-403b-4182-a2da-01860772ccc2",
   "metadata": {
    "tags": []
   },
   "outputs": [
    {
     "data": {
      "text/html": [
       "<div>\n",
       "<style scoped>\n",
       "    .dataframe tbody tr th:only-of-type {\n",
       "        vertical-align: middle;\n",
       "    }\n",
       "\n",
       "    .dataframe tbody tr th {\n",
       "        vertical-align: top;\n",
       "    }\n",
       "\n",
       "    .dataframe thead th {\n",
       "        text-align: right;\n",
       "    }\n",
       "</style>\n",
       "<table border=\"1\" class=\"dataframe\">\n",
       "  <thead>\n",
       "    <tr style=\"text-align: right;\">\n",
       "      <th></th>\n",
       "      <th>title</th>\n",
       "      <th>level_2021</th>\n",
       "      <th>points_r1_2021</th>\n",
       "      <th>level_2020</th>\n",
       "      <th>points_r1_2020</th>\n",
       "      <th>points_r1_2019</th>\n",
       "      <th>level_2019</th>\n",
       "    </tr>\n",
       "    <tr>\n",
       "      <th>code</th>\n",
       "      <th></th>\n",
       "      <th></th>\n",
       "      <th></th>\n",
       "      <th></th>\n",
       "      <th></th>\n",
       "      <th></th>\n",
       "      <th></th>\n",
       "    </tr>\n",
       "  </thead>\n",
       "  <tbody>\n",
       "    <tr>\n",
       "      <th>CR210</th>\n",
       "      <td>Contemporary Applied Art (Ceramics  Glass  Tex...</td>\n",
       "      <td>8</td>\n",
       "      <td>450.0</td>\n",
       "      <td>8.0</td>\n",
       "      <td>NaN</td>\n",
       "      <td>979.0</td>\n",
       "      <td>8</td>\n",
       "    </tr>\n",
       "    <tr>\n",
       "      <th>CR125</th>\n",
       "      <td>Popular Music at CIT Cork School of Music</td>\n",
       "      <td>8</td>\n",
       "      <td>1028.0</td>\n",
       "      <td>8.0</td>\n",
       "      <td>1088.0</td>\n",
       "      <td>972.0</td>\n",
       "      <td>8</td>\n",
       "    </tr>\n",
       "    <tr>\n",
       "      <th>DL834</th>\n",
       "      <td>Film and Television Production</td>\n",
       "      <td>NaN</td>\n",
       "      <td>NaN</td>\n",
       "      <td>8.0</td>\n",
       "      <td>990.0</td>\n",
       "      <td>933.0</td>\n",
       "      <td>8</td>\n",
       "    </tr>\n",
       "    <tr>\n",
       "      <th>CR225</th>\n",
       "      <td>Photography with New Media at CIT Crawford Col...</td>\n",
       "      <td>8</td>\n",
       "      <td>435.0</td>\n",
       "      <td>8.0</td>\n",
       "      <td>NaN</td>\n",
       "      <td>920.0</td>\n",
       "      <td>8</td>\n",
       "    </tr>\n",
       "    <tr>\n",
       "      <th>LC114</th>\n",
       "      <td>Fashion and Textiles for Product and Costume (...</td>\n",
       "      <td>8</td>\n",
       "      <td>914.0</td>\n",
       "      <td>8.0</td>\n",
       "      <td>880.0</td>\n",
       "      <td>900.0</td>\n",
       "      <td>8</td>\n",
       "    </tr>\n",
       "    <tr>\n",
       "      <th>DL831</th>\n",
       "      <td>Design for Stage and Screen (Production Design)</td>\n",
       "      <td>NaN</td>\n",
       "      <td>NaN</td>\n",
       "      <td>8.0</td>\n",
       "      <td>781.0</td>\n",
       "      <td>893.0</td>\n",
       "      <td>8</td>\n",
       "    </tr>\n",
       "    <tr>\n",
       "      <th>DL830</th>\n",
       "      <td>Design for Stage and Screen (Character Makeup ...</td>\n",
       "      <td>NaN</td>\n",
       "      <td>NaN</td>\n",
       "      <td>8.0</td>\n",
       "      <td>939.0</td>\n",
       "      <td>879.0</td>\n",
       "      <td>8</td>\n",
       "    </tr>\n",
       "    <tr>\n",
       "      <th>CR126</th>\n",
       "      <td>Popular Music: Drums at CIT Cork School of Music</td>\n",
       "      <td>NaN</td>\n",
       "      <td>NaN</td>\n",
       "      <td>8.0</td>\n",
       "      <td>801.0</td>\n",
       "      <td>878.0</td>\n",
       "      <td>8</td>\n",
       "    </tr>\n",
       "    <tr>\n",
       "      <th>CR129</th>\n",
       "      <td>Popular Music: Voice at CIT Cork School of Music</td>\n",
       "      <td>NaN</td>\n",
       "      <td>NaN</td>\n",
       "      <td>8.0</td>\n",
       "      <td>841.0</td>\n",
       "      <td>857.0</td>\n",
       "      <td>8</td>\n",
       "    </tr>\n",
       "    <tr>\n",
       "      <th>DL832</th>\n",
       "      <td>Animation</td>\n",
       "      <td>8</td>\n",
       "      <td>989.0</td>\n",
       "      <td>8.0</td>\n",
       "      <td>920.0</td>\n",
       "      <td>855.0</td>\n",
       "      <td>8</td>\n",
       "    </tr>\n",
       "  </tbody>\n",
       "</table>\n",
       "</div>"
      ],
      "text/plain": [
       "                                                   title level_2021  \\\n",
       "code                                                                  \n",
       "CR210  Contemporary Applied Art (Ceramics  Glass  Tex...          8   \n",
       "CR125          Popular Music at CIT Cork School of Music          8   \n",
       "DL834                     Film and Television Production        NaN   \n",
       "CR225  Photography with New Media at CIT Crawford Col...          8   \n",
       "LC114  Fashion and Textiles for Product and Costume (...          8   \n",
       "DL831    Design for Stage and Screen (Production Design)        NaN   \n",
       "DL830  Design for Stage and Screen (Character Makeup ...        NaN   \n",
       "CR126   Popular Music: Drums at CIT Cork School of Music        NaN   \n",
       "CR129   Popular Music: Voice at CIT Cork School of Music        NaN   \n",
       "DL832                                          Animation          8   \n",
       "\n",
       "       points_r1_2021 level_2020  points_r1_2020  points_r1_2019 level_2019  \n",
       "code                                                                         \n",
       "CR210           450.0        8.0             NaN           979.0          8  \n",
       "CR125          1028.0        8.0          1088.0           972.0          8  \n",
       "DL834             NaN        8.0           990.0           933.0          8  \n",
       "CR225           435.0        8.0             NaN           920.0          8  \n",
       "LC114           914.0        8.0           880.0           900.0          8  \n",
       "DL831             NaN        8.0           781.0           893.0          8  \n",
       "DL830             NaN        8.0           939.0           879.0          8  \n",
       "CR126             NaN        8.0           801.0           878.0          8  \n",
       "CR129             NaN        8.0           841.0           857.0          8  \n",
       "DL832           989.0        8.0           920.0           855.0          8  "
      ]
     },
     "execution_count": 103,
     "metadata": {},
     "output_type": "execute_result"
    }
   ],
   "source": [
    "# Top 10 course points by 2019\n",
    "allcourses.sort_values(by=['points_r1_2019', 'title'], ascending=False).head(10)"
   ]
  },
  {
   "cell_type": "markdown",
   "id": "c8fac882-85bf-4fad-ac9f-02fbeb78b52e",
   "metadata": {},
   "source": [
    "<br>"
   ]
  },
  {
   "cell_type": "markdown",
   "id": "48f1581b-a4e9-4850-bd4c-2813d4c43102",
   "metadata": {},
   "source": [
    "<br>"
   ]
  },
  {
   "cell_type": "markdown",
   "id": "16938d12-7010-4fa9-9aad-c2aeeb824a8b",
   "metadata": {},
   "source": [
    "Some observations:\n",
    "\n",
    "- Unsurprisingly, the top 10 consists of level 8 courses.\n",
    "- Half of 2019's (5) courses with top points, have been dropped in 2021. \n",
    "- I find the trajectory of 2019's top course - CR210 - interesting. It seems to have been either dropped in 2020 or an alternative method of selecting students was employed following Covid uncertainty. Additionally, there is a massive drop in points required for 2021. Below I will work out how much of a decrease in points this is."
   ]
  },
  {
   "cell_type": "markdown",
   "id": "67736032-49eb-4f24-9472-efceb636778e",
   "metadata": {},
   "source": [
    "<br>"
   ]
  },
  {
   "cell_type": "markdown",
   "id": "ed77d153-caa0-424e-a07c-9a439f6fb9fb",
   "metadata": {},
   "source": [
    "<br>"
   ]
  },
  {
   "cell_type": "code",
   "execution_count": 104,
   "id": "bf996448-fd76-4a8a-87c9-8b6f2e7cb792",
   "metadata": {},
   "outputs": [
    {
     "data": {
      "text/plain": [
       "54.03472931562819"
      ]
     },
     "execution_count": 104,
     "metadata": {},
     "output_type": "execute_result"
    }
   ],
   "source": [
    "# Finding the % decrease\n",
    "points_2021 = 450\n",
    "points_2019 = 979\n",
    "\n",
    "decrease = points_2019 - points_2021\n",
    "\n",
    "decrease / points_2019 * 100"
   ]
  },
  {
   "cell_type": "markdown",
   "id": "a5c5e5dd-1acf-4a1a-9528-da582e124354",
   "metadata": {},
   "source": [
    "<br>"
   ]
  },
  {
   "cell_type": "markdown",
   "id": "6303380e-a8ae-44fe-a96e-ce931d264617",
   "metadata": {},
   "source": [
    "There is a 54% decrease in 2019's top course in 2021."
   ]
  },
  {
   "cell_type": "markdown",
   "id": "25dbfbaf-4e92-4878-b81e-9ca8671be5f9",
   "metadata": {},
   "source": [
    "<br>"
   ]
  },
  {
   "cell_type": "markdown",
   "id": "439a9f47-5e73-4933-9d29-d7a75f009bd1",
   "metadata": {},
   "source": [
    "You probably notice that these top 10 courses exceed the limit of 625 points which is the maximum a student can be awarded in sitting/accredited in the exam. Thus, meaning these courses required additional entry requirements such as interview, portfolio, audition. \n",
    "\n",
    "Let's see what the top courses based solely on points the maximum points a student can score on exams only. There's a good chance this will also filter out the major outliers seen in the pair plot above."
   ]
  },
  {
   "cell_type": "markdown",
   "id": "d3814e95-b514-454a-a2d5-e853b1567705",
   "metadata": {},
   "source": [
    "<br>"
   ]
  },
  {
   "cell_type": "markdown",
   "id": "72dd1f84-38bb-49af-b2d8-0583ace36286",
   "metadata": {},
   "source": [
    "<br>"
   ]
  },
  {
   "cell_type": "code",
   "execution_count": 105,
   "id": "d64c0f43-f507-41c7-8ed1-20a09592783a",
   "metadata": {},
   "outputs": [
    {
     "data": {
      "text/html": [
       "<div>\n",
       "<style scoped>\n",
       "    .dataframe tbody tr th:only-of-type {\n",
       "        vertical-align: middle;\n",
       "    }\n",
       "\n",
       "    .dataframe tbody tr th {\n",
       "        vertical-align: top;\n",
       "    }\n",
       "\n",
       "    .dataframe thead th {\n",
       "        text-align: right;\n",
       "    }\n",
       "</style>\n",
       "<table border=\"1\" class=\"dataframe\">\n",
       "  <thead>\n",
       "    <tr style=\"text-align: right;\">\n",
       "      <th></th>\n",
       "      <th>title</th>\n",
       "      <th>level_2021</th>\n",
       "      <th>points_r1_2021</th>\n",
       "      <th>level_2020</th>\n",
       "      <th>points_r1_2020</th>\n",
       "      <th>points_r1_2019</th>\n",
       "      <th>level_2019</th>\n",
       "    </tr>\n",
       "    <tr>\n",
       "      <th>code</th>\n",
       "      <th></th>\n",
       "      <th></th>\n",
       "      <th></th>\n",
       "      <th></th>\n",
       "      <th></th>\n",
       "      <th></th>\n",
       "      <th></th>\n",
       "    </tr>\n",
       "  </thead>\n",
       "  <tbody>\n",
       "    <tr>\n",
       "      <th>CR220</th>\n",
       "      <td>Fine Art at CIT Crawford College of Art and De...</td>\n",
       "      <td>8</td>\n",
       "      <td>400.0</td>\n",
       "      <td>8.0</td>\n",
       "      <td>NaN</td>\n",
       "      <td>620.0</td>\n",
       "      <td>8</td>\n",
       "    </tr>\n",
       "    <tr>\n",
       "      <th>DN670</th>\n",
       "      <td>Economics and Finance</td>\n",
       "      <td>8</td>\n",
       "      <td>625.0</td>\n",
       "      <td>8.0</td>\n",
       "      <td>613.0</td>\n",
       "      <td>601.0</td>\n",
       "      <td>8</td>\n",
       "    </tr>\n",
       "    <tr>\n",
       "      <th>CK702</th>\n",
       "      <td>Dentistry</td>\n",
       "      <td>8</td>\n",
       "      <td>625.0</td>\n",
       "      <td>8.0</td>\n",
       "      <td>613.0</td>\n",
       "      <td>590.0</td>\n",
       "      <td>8</td>\n",
       "    </tr>\n",
       "    <tr>\n",
       "      <th>TR052</th>\n",
       "      <td>Dental Science</td>\n",
       "      <td>8</td>\n",
       "      <td>625.0</td>\n",
       "      <td>8.0</td>\n",
       "      <td>613.0</td>\n",
       "      <td>590.0</td>\n",
       "      <td>8</td>\n",
       "    </tr>\n",
       "    <tr>\n",
       "      <th>TR034</th>\n",
       "      <td>Management Science and Information Systems Stu...</td>\n",
       "      <td>8</td>\n",
       "      <td>625.0</td>\n",
       "      <td>8.0</td>\n",
       "      <td>613.0</td>\n",
       "      <td>589.0</td>\n",
       "      <td>8</td>\n",
       "    </tr>\n",
       "    <tr>\n",
       "      <th>CR600</th>\n",
       "      <td>Visual Communications at CIT Crawford College ...</td>\n",
       "      <td>8</td>\n",
       "      <td>280.0</td>\n",
       "      <td>8.0</td>\n",
       "      <td>NaN</td>\n",
       "      <td>587.0</td>\n",
       "      <td>8</td>\n",
       "    </tr>\n",
       "    <tr>\n",
       "      <th>CR127</th>\n",
       "      <td>Popular Music: Electric Guitar at CIT Cork Sch...</td>\n",
       "      <td>NaN</td>\n",
       "      <td>NaN</td>\n",
       "      <td>8.0</td>\n",
       "      <td>838.0</td>\n",
       "      <td>584.0</td>\n",
       "      <td>8</td>\n",
       "    </tr>\n",
       "    <tr>\n",
       "      <th>DL827</th>\n",
       "      <td>Art</td>\n",
       "      <td>8</td>\n",
       "      <td>574.0</td>\n",
       "      <td>8.0</td>\n",
       "      <td>572.0</td>\n",
       "      <td>583.0</td>\n",
       "      <td>8</td>\n",
       "    </tr>\n",
       "    <tr>\n",
       "      <th>DN230</th>\n",
       "      <td>Actuarial and Financial Studies</td>\n",
       "      <td>8</td>\n",
       "      <td>613.0</td>\n",
       "      <td>8.0</td>\n",
       "      <td>601.0</td>\n",
       "      <td>577.0</td>\n",
       "      <td>8</td>\n",
       "    </tr>\n",
       "    <tr>\n",
       "      <th>CK703</th>\n",
       "      <td>Pharmacy</td>\n",
       "      <td>8</td>\n",
       "      <td>613.0</td>\n",
       "      <td>8.0</td>\n",
       "      <td>590.0</td>\n",
       "      <td>577.0</td>\n",
       "      <td>8</td>\n",
       "    </tr>\n",
       "    <tr>\n",
       "      <th>TR017</th>\n",
       "      <td>Law and Business</td>\n",
       "      <td>NaN</td>\n",
       "      <td>NaN</td>\n",
       "      <td>8.0</td>\n",
       "      <td>602.0</td>\n",
       "      <td>576.0</td>\n",
       "      <td>8</td>\n",
       "    </tr>\n",
       "    <tr>\n",
       "      <th>DN300</th>\n",
       "      <td>Veterinary Medicine - Undergraduate Entry</td>\n",
       "      <td>8</td>\n",
       "      <td>601.0</td>\n",
       "      <td>8.0</td>\n",
       "      <td>589.0</td>\n",
       "      <td>567.0</td>\n",
       "      <td>8</td>\n",
       "    </tr>\n",
       "    <tr>\n",
       "      <th>TR020</th>\n",
       "      <td>Law and Political Science</td>\n",
       "      <td>NaN</td>\n",
       "      <td>NaN</td>\n",
       "      <td>8.0</td>\n",
       "      <td>602.0</td>\n",
       "      <td>567.0</td>\n",
       "      <td>8</td>\n",
       "    </tr>\n",
       "    <tr>\n",
       "      <th>TR031</th>\n",
       "      <td>Mathematics</td>\n",
       "      <td>8</td>\n",
       "      <td>579.0</td>\n",
       "      <td>8.0</td>\n",
       "      <td>531.0</td>\n",
       "      <td>566.0</td>\n",
       "      <td>8</td>\n",
       "    </tr>\n",
       "    <tr>\n",
       "      <th>TR015</th>\n",
       "      <td>Philosophy  Political Science  Economics and S...</td>\n",
       "      <td>8</td>\n",
       "      <td>613.0</td>\n",
       "      <td>8.0</td>\n",
       "      <td>589.0</td>\n",
       "      <td>566.0</td>\n",
       "      <td>8</td>\n",
       "    </tr>\n",
       "  </tbody>\n",
       "</table>\n",
       "</div>"
      ],
      "text/plain": [
       "                                                   title level_2021  \\\n",
       "code                                                                  \n",
       "CR220  Fine Art at CIT Crawford College of Art and De...          8   \n",
       "DN670                              Economics and Finance          8   \n",
       "CK702                                          Dentistry          8   \n",
       "TR052                                     Dental Science          8   \n",
       "TR034  Management Science and Information Systems Stu...          8   \n",
       "CR600  Visual Communications at CIT Crawford College ...          8   \n",
       "CR127  Popular Music: Electric Guitar at CIT Cork Sch...        NaN   \n",
       "DL827                                                Art          8   \n",
       "DN230                    Actuarial and Financial Studies          8   \n",
       "CK703                                           Pharmacy          8   \n",
       "TR017                                   Law and Business        NaN   \n",
       "DN300          Veterinary Medicine - Undergraduate Entry          8   \n",
       "TR020                          Law and Political Science        NaN   \n",
       "TR031                                        Mathematics          8   \n",
       "TR015  Philosophy  Political Science  Economics and S...          8   \n",
       "\n",
       "       points_r1_2021 level_2020  points_r1_2020  points_r1_2019 level_2019  \n",
       "code                                                                         \n",
       "CR220           400.0        8.0             NaN           620.0          8  \n",
       "DN670           625.0        8.0           613.0           601.0          8  \n",
       "CK702           625.0        8.0           613.0           590.0          8  \n",
       "TR052           625.0        8.0           613.0           590.0          8  \n",
       "TR034           625.0        8.0           613.0           589.0          8  \n",
       "CR600           280.0        8.0             NaN           587.0          8  \n",
       "CR127             NaN        8.0           838.0           584.0          8  \n",
       "DL827           574.0        8.0           572.0           583.0          8  \n",
       "DN230           613.0        8.0           601.0           577.0          8  \n",
       "CK703           613.0        8.0           590.0           577.0          8  \n",
       "TR017             NaN        8.0           602.0           576.0          8  \n",
       "DN300           601.0        8.0           589.0           567.0          8  \n",
       "TR020             NaN        8.0           602.0           567.0          8  \n",
       "TR031           579.0        8.0           531.0           566.0          8  \n",
       "TR015           613.0        8.0           589.0           566.0          8  "
      ]
     },
     "execution_count": 105,
     "metadata": {},
     "output_type": "execute_result"
    }
   ],
   "source": [
    "# Top 10 courses <= 625 points\n",
    "top_2019 = allcourses[allcourses.points_r1_2019 <= 625].sort_values('points_r1_2019',ascending=False)\n",
    "\n",
    "# Filtering out courses which contain '('\n",
    "top_2019[~top_2019.title.str.contains('\\(')].head(15)"
   ]
  },
  {
   "cell_type": "markdown",
   "id": "ba4b9412-ceba-43f1-b16d-a3c97318ad9d",
   "metadata": {},
   "source": [
    "<br>"
   ]
  },
  {
   "cell_type": "markdown",
   "id": "f3a82548-73c6-42ca-a1e8-097bc0616850",
   "metadata": {},
   "source": [
    "That looks a lot better. I've chosen to look at the top 15 course points as I did some research and - CR220, CR600, CR127, DL827 - require an interview, portfolio or audition but as this wasn't included in the title they are included in the filter."
   ]
  },
  {
   "cell_type": "markdown",
   "id": "2ce84539-d8a9-48ae-a275-81433e181f81",
   "metadata": {},
   "source": [
    "<br>"
   ]
  },
  {
   "cell_type": "markdown",
   "id": "fc3a04ff-ea47-4302-8351-b2834e73f229",
   "metadata": {},
   "source": [
    "- Although it required additional requirements the trajectory of CR220 is interesting. It went from commanding 620 points in 2019, not being offered in 2020 and then dropping a massive 180 points for 2021.\n",
    "- Another huge drop was CR220. The top course (inc. additional requirements) required 620 points in 2019. The course wasn't offered in 2020. It was offered again in 2021 but with a massive 307 point drop, now requiring 400 points.\n",
    "- 3 of 2019's top courses are no longer offered in 2021. \n",
    "- For 3/4 of the courses which had extra requirements all had a big drop in points in 2021. \n",
    "- For the most part there does seem to have been a points inflation since the move to accredited grades. We will work out the percentage later on."
   ]
  },
  {
   "cell_type": "markdown",
   "id": "924f093a-3c71-446c-b640-6da33965a19d",
   "metadata": {},
   "source": [
    "<br>"
   ]
  },
  {
   "cell_type": "markdown",
   "id": "1cbb7d1e-55d6-4551-9250-a9f0174b7002",
   "metadata": {},
   "source": [
    "<br>"
   ]
  },
  {
   "cell_type": "code",
   "execution_count": 106,
   "id": "0e866f89-165a-4a1e-b40d-0187ce5a29a2",
   "metadata": {},
   "outputs": [
    {
     "data": {
      "text/plain": [
       "<matplotlib.legend.Legend at 0x2c526c6e1c0>"
      ]
     },
     "execution_count": 106,
     "metadata": {},
     "output_type": "execute_result"
    },
    {
     "data": {
      "image/png": "[encoded data removed]",
      "text/plain": [
       "<Figure size 1080x720 with 1 Axes>"
      ]
     },
     "metadata": {
      "needs_background": "light"
     },
     "output_type": "display_data"
    }
   ],
   "source": [
    "# Generating a barplot \n",
    "top_2019[~top_2019.title.str.contains('\\(')].head(15).plot.barh()\n",
    "\n",
    "# Labeling y-axis\n",
    "plt.ylabel('Points')\n",
    "\n",
    "\n",
    "# Adding a legend\n",
    "plt.legend(loc='upper right')"
   ]
  },
  {
   "cell_type": "markdown",
   "id": "e2862bff-1987-4e7c-83c8-915151c47907",
   "metadata": {},
   "source": [
    "<br>"
   ]
  },
  {
   "cell_type": "markdown",
   "id": "0716874c-d9e3-4e03-9065-c7f27408065b",
   "metadata": {},
   "source": [
    "<br>"
   ]
  },
  {
   "cell_type": "markdown",
   "id": "34a7c6b1-3086-4c96-9210-80755548d9d4",
   "metadata": {},
   "source": [
    "<br>"
   ]
  },
  {
   "cell_type": "markdown",
   "id": "a15e1d29-9497-4008-a8d3-02040ecc11ce",
   "metadata": {},
   "source": [
    "Let's have a look at the last 5 rows i.e., courses which require the least amount of points."
   ]
  },
  {
   "cell_type": "markdown",
   "id": "0730a8e6-0512-48b9-b4e7-49ff0487ad51",
   "metadata": {
    "tags": []
   },
   "source": [
    "<br>"
   ]
  },
  {
   "cell_type": "code",
   "execution_count": 107,
   "id": "39dd8d3b-8820-440f-8eb8-8ecd1170e896",
   "metadata": {},
   "outputs": [
    {
     "data": {
      "text/html": [
       "<div>\n",
       "<style scoped>\n",
       "    .dataframe tbody tr th:only-of-type {\n",
       "        vertical-align: middle;\n",
       "    }\n",
       "\n",
       "    .dataframe tbody tr th {\n",
       "        vertical-align: top;\n",
       "    }\n",
       "\n",
       "    .dataframe thead th {\n",
       "        text-align: right;\n",
       "    }\n",
       "</style>\n",
       "<table border=\"1\" class=\"dataframe\">\n",
       "  <thead>\n",
       "    <tr style=\"text-align: right;\">\n",
       "      <th></th>\n",
       "      <th>title</th>\n",
       "      <th>level_2021</th>\n",
       "      <th>points_r1_2021</th>\n",
       "      <th>level_2020</th>\n",
       "      <th>points_r1_2020</th>\n",
       "      <th>points_r1_2019</th>\n",
       "      <th>level_2019</th>\n",
       "    </tr>\n",
       "    <tr>\n",
       "      <th>code</th>\n",
       "      <th></th>\n",
       "      <th></th>\n",
       "      <th></th>\n",
       "      <th></th>\n",
       "      <th></th>\n",
       "      <th></th>\n",
       "      <th></th>\n",
       "    </tr>\n",
       "  </thead>\n",
       "  <tbody>\n",
       "    <tr>\n",
       "      <th>DB576</th>\n",
       "      <td>Film and Creative Media</td>\n",
       "      <td>6/7</td>\n",
       "      <td>101.0</td>\n",
       "      <td>7.0</td>\n",
       "      <td>NaN</td>\n",
       "      <td>100.0</td>\n",
       "      <td>6/7</td>\n",
       "    </tr>\n",
       "    <tr>\n",
       "      <th>RC101</th>\n",
       "      <td>Medicine - Graduate Entry (GAMSAT required)</td>\n",
       "      <td>8</td>\n",
       "      <td>NaN</td>\n",
       "      <td>8.0</td>\n",
       "      <td>NaN</td>\n",
       "      <td>60.0</td>\n",
       "      <td>8</td>\n",
       "    </tr>\n",
       "    <tr>\n",
       "      <th>DN401</th>\n",
       "      <td>Medicine - Graduate Entry (GAMSAT required)</td>\n",
       "      <td>8</td>\n",
       "      <td>61.0</td>\n",
       "      <td>8.0</td>\n",
       "      <td>NaN</td>\n",
       "      <td>59.0</td>\n",
       "      <td>8</td>\n",
       "    </tr>\n",
       "    <tr>\n",
       "      <th>CK791</th>\n",
       "      <td>Medicine  - Graduate Entry (GAMSAT required)</td>\n",
       "      <td>8</td>\n",
       "      <td>60.0</td>\n",
       "      <td>8.0</td>\n",
       "      <td>57.0</td>\n",
       "      <td>58.0</td>\n",
       "      <td>8</td>\n",
       "    </tr>\n",
       "    <tr>\n",
       "      <th>LM101</th>\n",
       "      <td>Medicine  - Graduate Entry (GAMSAT required)</td>\n",
       "      <td>8</td>\n",
       "      <td>57.0</td>\n",
       "      <td>8.0</td>\n",
       "      <td>55.0</td>\n",
       "      <td>55.0</td>\n",
       "      <td>8</td>\n",
       "    </tr>\n",
       "  </tbody>\n",
       "</table>\n",
       "</div>"
      ],
      "text/plain": [
       "                                              title level_2021  \\\n",
       "code                                                             \n",
       "DB576                       Film and Creative Media        6/7   \n",
       "RC101   Medicine - Graduate Entry (GAMSAT required)          8   \n",
       "DN401   Medicine - Graduate Entry (GAMSAT required)          8   \n",
       "CK791  Medicine  - Graduate Entry (GAMSAT required)          8   \n",
       "LM101  Medicine  - Graduate Entry (GAMSAT required)          8   \n",
       "\n",
       "       points_r1_2021 level_2020  points_r1_2020  points_r1_2019 level_2019  \n",
       "code                                                                         \n",
       "DB576           101.0        7.0             NaN           100.0        6/7  \n",
       "RC101             NaN        8.0             NaN            60.0          8  \n",
       "DN401            61.0        8.0             NaN            59.0          8  \n",
       "CK791            60.0        8.0            57.0            58.0          8  \n",
       "LM101            57.0        8.0            55.0            55.0          8  "
      ]
     },
     "execution_count": 107,
     "metadata": {},
     "output_type": "execute_result"
    }
   ],
   "source": [
    "# Last 5 rows\n",
    "top_2019.tail()"
   ]
  },
  {
   "cell_type": "markdown",
   "id": "34e888d1-af8e-4045-90a6-e2ca5c8b8288",
   "metadata": {},
   "source": [
    "<br>"
   ]
  },
  {
   "cell_type": "markdown",
   "id": "49b5293b-6bfe-497f-ab3d-dad040195945",
   "metadata": {},
   "source": [
    "<br>"
   ]
  },
  {
   "cell_type": "markdown",
   "id": "86e7be99-dc5e-4900-ab55-dea587719eb2",
   "metadata": {},
   "source": [
    "The bottom 4 courses are quite misleading. All these courses require a GAMSAT*.\n",
    "\n",
    "*Graduate Medical School Admissions Test (GAMSAT) <i>\"is a standardised exam designed, scored and developed by ACER to assist in the admissions of students to graduate-entry programmes (medicine, dentistry, optometry, pharmacy, podiatry) open to graduates of any discipline. GRADUATE ENTRY IRISH MEDICAL SCHOOLS. There are 4 medicals schools in Ireland which require the GAMSAT as part of their admissions criteria.\"</i> [34]."
   ]
  },
  {
   "cell_type": "markdown",
   "id": "e01705ce-fc2c-4d94-a25d-563cf9ca0d26",
   "metadata": {},
   "source": [
    "\n"
   ]
  },
  {
   "cell_type": "markdown",
   "id": "5de539e4-f31e-420f-b3ea-24416157f2b8",
   "metadata": {},
   "source": [
    "<br>"
   ]
  },
  {
   "cell_type": "markdown",
   "id": "545884a0-a99c-4ffa-8903-94e1ad73068f",
   "metadata": {},
   "source": [
    "Considering we now know that in 2019, the first course without an additional requirement starts at 601 points and the last being 100 points. Let's use these as the benchmarks to get an overall summary of the data. I think this will give us a fairer view of the data."
   ]
  },
  {
   "cell_type": "markdown",
   "id": "29a50ac7-88cb-4053-8ff2-bee3110917f2",
   "metadata": {},
   "source": [
    "<br>"
   ]
  },
  {
   "cell_type": "code",
   "execution_count": 108,
   "id": "2e99d14e-cb57-4deb-a5d4-4375c8aafae3",
   "metadata": {},
   "outputs": [
    {
     "data": {
      "text/html": [
       "<div>\n",
       "<style scoped>\n",
       "    .dataframe tbody tr th:only-of-type {\n",
       "        vertical-align: middle;\n",
       "    }\n",
       "\n",
       "    .dataframe tbody tr th {\n",
       "        vertical-align: top;\n",
       "    }\n",
       "\n",
       "    .dataframe thead th {\n",
       "        text-align: right;\n",
       "    }\n",
       "</style>\n",
       "<table border=\"1\" class=\"dataframe\">\n",
       "  <thead>\n",
       "    <tr style=\"text-align: right;\">\n",
       "      <th></th>\n",
       "      <th>points_r1_2019</th>\n",
       "    </tr>\n",
       "  </thead>\n",
       "  <tbody>\n",
       "    <tr>\n",
       "      <th>count</th>\n",
       "      <td>1179.000000</td>\n",
       "    </tr>\n",
       "    <tr>\n",
       "      <th>mean</th>\n",
       "      <td>326.059372</td>\n",
       "    </tr>\n",
       "    <tr>\n",
       "      <th>std</th>\n",
       "      <td>106.001361</td>\n",
       "    </tr>\n",
       "    <tr>\n",
       "      <th>min</th>\n",
       "      <td>100.000000</td>\n",
       "    </tr>\n",
       "    <tr>\n",
       "      <th>25%</th>\n",
       "      <td>251.000000</td>\n",
       "    </tr>\n",
       "    <tr>\n",
       "      <th>50%</th>\n",
       "      <td>307.000000</td>\n",
       "    </tr>\n",
       "    <tr>\n",
       "      <th>75%</th>\n",
       "      <td>401.000000</td>\n",
       "    </tr>\n",
       "    <tr>\n",
       "      <th>max</th>\n",
       "      <td>601.000000</td>\n",
       "    </tr>\n",
       "  </tbody>\n",
       "</table>\n",
       "</div>"
      ],
      "text/plain": [
       "       points_r1_2019\n",
       "count     1179.000000\n",
       "mean       326.059372\n",
       "std        106.001361\n",
       "min        100.000000\n",
       "25%        251.000000\n",
       "50%        307.000000\n",
       "75%        401.000000\n",
       "max        601.000000"
      ]
     },
     "execution_count": 108,
     "metadata": {},
     "output_type": "execute_result"
    }
   ],
   "source": [
    "# Overview of 2019 points\n",
    "stats_19 = allcourses[(allcourses['points_r1_2019'] >= 100) & (allcourses['points_r1_2019'] <= 601) ].describe().drop(['points_r1_2021', 'points_r1_2020'], axis=1)\n",
    "\n",
    "stats_19"
   ]
  },
  {
   "cell_type": "markdown",
   "id": "58d8093b-d2d5-4e24-821a-baf086f91ab9",
   "metadata": {},
   "source": [
    "<br>"
   ]
  },
  {
   "cell_type": "markdown",
   "id": "e79a3f55-f37e-472f-aed4-1ba322ca18dc",
   "metadata": {},
   "source": [
    "<br>"
   ]
  },
  {
   "cell_type": "markdown",
   "id": "7380d21f-2285-4202-976a-1e1c20161fde",
   "metadata": {},
   "source": [
    "<br>"
   ]
  },
  {
   "cell_type": "markdown",
   "id": "6c1d1731-aacf-4312-a8d6-dd696e4c236e",
   "metadata": {},
   "source": [
    "### 2020"
   ]
  },
  {
   "cell_type": "markdown",
   "id": "eb3c2b10-20ff-4b5b-bc1f-1de73b8794aa",
   "metadata": {},
   "source": [
    "<br>"
   ]
  },
  {
   "cell_type": "markdown",
   "id": "2ec1b301-d2da-47de-a59e-99a237cb19de",
   "metadata": {},
   "source": [
    "<br>"
   ]
  },
  {
   "cell_type": "code",
   "execution_count": 109,
   "id": "d0632421-c56a-409d-82e6-a059f6ea5348",
   "metadata": {},
   "outputs": [
    {
     "data": {
      "text/html": [
       "<div>\n",
       "<style scoped>\n",
       "    .dataframe tbody tr th:only-of-type {\n",
       "        vertical-align: middle;\n",
       "    }\n",
       "\n",
       "    .dataframe tbody tr th {\n",
       "        vertical-align: top;\n",
       "    }\n",
       "\n",
       "    .dataframe thead th {\n",
       "        text-align: right;\n",
       "    }\n",
       "</style>\n",
       "<table border=\"1\" class=\"dataframe\">\n",
       "  <thead>\n",
       "    <tr style=\"text-align: right;\">\n",
       "      <th></th>\n",
       "      <th>title</th>\n",
       "      <th>level_2021</th>\n",
       "      <th>points_r1_2021</th>\n",
       "      <th>level_2020</th>\n",
       "      <th>points_r1_2020</th>\n",
       "      <th>points_r1_2019</th>\n",
       "      <th>level_2019</th>\n",
       "    </tr>\n",
       "    <tr>\n",
       "      <th>code</th>\n",
       "      <th></th>\n",
       "      <th></th>\n",
       "      <th></th>\n",
       "      <th></th>\n",
       "      <th></th>\n",
       "      <th></th>\n",
       "      <th></th>\n",
       "    </tr>\n",
       "  </thead>\n",
       "  <tbody>\n",
       "    <tr>\n",
       "      <th>CK702</th>\n",
       "      <td>Dentistry</td>\n",
       "      <td>8</td>\n",
       "      <td>625.0</td>\n",
       "      <td>8.0</td>\n",
       "      <td>613.0</td>\n",
       "      <td>590.0</td>\n",
       "      <td>8</td>\n",
       "    </tr>\n",
       "    <tr>\n",
       "      <th>TR034</th>\n",
       "      <td>Management Science and Information Systems Stu...</td>\n",
       "      <td>8</td>\n",
       "      <td>625.0</td>\n",
       "      <td>8.0</td>\n",
       "      <td>613.0</td>\n",
       "      <td>589.0</td>\n",
       "      <td>8</td>\n",
       "    </tr>\n",
       "    <tr>\n",
       "      <th>TR052</th>\n",
       "      <td>Dental Science</td>\n",
       "      <td>8</td>\n",
       "      <td>625.0</td>\n",
       "      <td>8.0</td>\n",
       "      <td>613.0</td>\n",
       "      <td>590.0</td>\n",
       "      <td>8</td>\n",
       "    </tr>\n",
       "    <tr>\n",
       "      <th>DN670</th>\n",
       "      <td>Economics and Finance</td>\n",
       "      <td>8</td>\n",
       "      <td>625.0</td>\n",
       "      <td>8.0</td>\n",
       "      <td>613.0</td>\n",
       "      <td>601.0</td>\n",
       "      <td>8</td>\n",
       "    </tr>\n",
       "    <tr>\n",
       "      <th>TR020</th>\n",
       "      <td>Law and Political Science</td>\n",
       "      <td>NaN</td>\n",
       "      <td>NaN</td>\n",
       "      <td>8.0</td>\n",
       "      <td>602.0</td>\n",
       "      <td>567.0</td>\n",
       "      <td>8</td>\n",
       "    </tr>\n",
       "    <tr>\n",
       "      <th>TR017</th>\n",
       "      <td>Law and Business</td>\n",
       "      <td>NaN</td>\n",
       "      <td>NaN</td>\n",
       "      <td>8.0</td>\n",
       "      <td>602.0</td>\n",
       "      <td>576.0</td>\n",
       "      <td>8</td>\n",
       "    </tr>\n",
       "    <tr>\n",
       "      <th>DN230</th>\n",
       "      <td>Actuarial and Financial Studies</td>\n",
       "      <td>8</td>\n",
       "      <td>613.0</td>\n",
       "      <td>8.0</td>\n",
       "      <td>601.0</td>\n",
       "      <td>577.0</td>\n",
       "      <td>8</td>\n",
       "    </tr>\n",
       "    <tr>\n",
       "      <th>DN440</th>\n",
       "      <td>Biomedical  Health and Life Sciences</td>\n",
       "      <td>8</td>\n",
       "      <td>613.0</td>\n",
       "      <td>8.0</td>\n",
       "      <td>590.0</td>\n",
       "      <td>565.0</td>\n",
       "      <td>8</td>\n",
       "    </tr>\n",
       "    <tr>\n",
       "      <th>CK703</th>\n",
       "      <td>Pharmacy</td>\n",
       "      <td>8</td>\n",
       "      <td>613.0</td>\n",
       "      <td>8.0</td>\n",
       "      <td>590.0</td>\n",
       "      <td>577.0</td>\n",
       "      <td>8</td>\n",
       "    </tr>\n",
       "    <tr>\n",
       "      <th>TR072</th>\n",
       "      <td>Pharmacy</td>\n",
       "      <td>8</td>\n",
       "      <td>613.0</td>\n",
       "      <td>8.0</td>\n",
       "      <td>590.0</td>\n",
       "      <td>555.0</td>\n",
       "      <td>8</td>\n",
       "    </tr>\n",
       "    <tr>\n",
       "      <th>DN300</th>\n",
       "      <td>Veterinary Medicine - Undergraduate Entry</td>\n",
       "      <td>8</td>\n",
       "      <td>601.0</td>\n",
       "      <td>8.0</td>\n",
       "      <td>589.0</td>\n",
       "      <td>567.0</td>\n",
       "      <td>8</td>\n",
       "    </tr>\n",
       "    <tr>\n",
       "      <th>LM100</th>\n",
       "      <td>Physiotherapy</td>\n",
       "      <td>8</td>\n",
       "      <td>613.0</td>\n",
       "      <td>8.0</td>\n",
       "      <td>589.0</td>\n",
       "      <td>565.0</td>\n",
       "      <td>8</td>\n",
       "    </tr>\n",
       "    <tr>\n",
       "      <th>TR080</th>\n",
       "      <td>Global Business</td>\n",
       "      <td>8</td>\n",
       "      <td>613.0</td>\n",
       "      <td>8.0</td>\n",
       "      <td>589.0</td>\n",
       "      <td>565.0</td>\n",
       "      <td>8</td>\n",
       "    </tr>\n",
       "    <tr>\n",
       "      <th>TR015</th>\n",
       "      <td>Philosophy  Political Science  Economics and S...</td>\n",
       "      <td>8</td>\n",
       "      <td>613.0</td>\n",
       "      <td>8.0</td>\n",
       "      <td>589.0</td>\n",
       "      <td>566.0</td>\n",
       "      <td>8</td>\n",
       "    </tr>\n",
       "    <tr>\n",
       "      <th>MI008</th>\n",
       "      <td>Education and Psychology - Primary Teaching</td>\n",
       "      <td>8</td>\n",
       "      <td>590.0</td>\n",
       "      <td>8.0</td>\n",
       "      <td>588.0</td>\n",
       "      <td>543.0</td>\n",
       "      <td>8</td>\n",
       "    </tr>\n",
       "  </tbody>\n",
       "</table>\n",
       "</div>"
      ],
      "text/plain": [
       "                                                   title level_2021  \\\n",
       "code                                                                  \n",
       "CK702                                          Dentistry          8   \n",
       "TR034  Management Science and Information Systems Stu...          8   \n",
       "TR052                                     Dental Science          8   \n",
       "DN670                              Economics and Finance          8   \n",
       "TR020                          Law and Political Science        NaN   \n",
       "TR017                                   Law and Business        NaN   \n",
       "DN230                    Actuarial and Financial Studies          8   \n",
       "DN440               Biomedical  Health and Life Sciences          8   \n",
       "CK703                                           Pharmacy          8   \n",
       "TR072                                           Pharmacy          8   \n",
       "DN300          Veterinary Medicine - Undergraduate Entry          8   \n",
       "LM100                                      Physiotherapy          8   \n",
       "TR080                                    Global Business          8   \n",
       "TR015  Philosophy  Political Science  Economics and S...          8   \n",
       "MI008        Education and Psychology - Primary Teaching          8   \n",
       "\n",
       "       points_r1_2021 level_2020  points_r1_2020  points_r1_2019 level_2019  \n",
       "code                                                                         \n",
       "CK702           625.0        8.0           613.0           590.0          8  \n",
       "TR034           625.0        8.0           613.0           589.0          8  \n",
       "TR052           625.0        8.0           613.0           590.0          8  \n",
       "DN670           625.0        8.0           613.0           601.0          8  \n",
       "TR020             NaN        8.0           602.0           567.0          8  \n",
       "TR017             NaN        8.0           602.0           576.0          8  \n",
       "DN230           613.0        8.0           601.0           577.0          8  \n",
       "DN440           613.0        8.0           590.0           565.0          8  \n",
       "CK703           613.0        8.0           590.0           577.0          8  \n",
       "TR072           613.0        8.0           590.0           555.0          8  \n",
       "DN300           601.0        8.0           589.0           567.0          8  \n",
       "LM100           613.0        8.0           589.0           565.0          8  \n",
       "TR080           613.0        8.0           589.0           565.0          8  \n",
       "TR015           613.0        8.0           589.0           566.0          8  \n",
       "MI008           590.0        8.0           588.0           543.0          8  "
      ]
     },
     "execution_count": 109,
     "metadata": {},
     "output_type": "execute_result"
    }
   ],
   "source": [
    "# Top 10 courses <= 625 points\n",
    "top_2020 = allcourses[allcourses.points_r1_2020 <= 625].sort_values('points_r1_2020',ascending=False)\n",
    "\n",
    "# Filtering out courses which contain '('\n",
    "top_2020[~top_2020.title.str.contains('\\(')].head(15)"
   ]
  },
  {
   "cell_type": "markdown",
   "id": "4ea7fc5d-078e-4695-9f37-4c571c3258a1",
   "metadata": {},
   "source": [
    "<br>"
   ]
  },
  {
   "cell_type": "markdown",
   "id": "99043964-d815-4ac6-9608-8abd2c5029d5",
   "metadata": {},
   "source": [
    "<br>"
   ]
  },
  {
   "cell_type": "markdown",
   "id": "c9a8ce77-0f0d-427e-8161-4ce50e11af60",
   "metadata": {},
   "source": [
    "Some observations:\n",
    "\n",
    "- Once again it is level 8 courses which occupy the top 15 places. \n",
    "- None of the top 15 courses (after filtering) have additional requirements.\n",
    "- All 15 courses where pre-existing i.e., they have ran for at least one year.\n",
    "- Points for all 15 courses increased. "
   ]
  },
  {
   "cell_type": "markdown",
   "id": "2a4bc1c5-0f59-4ebb-8277-d4fce5e58fd1",
   "metadata": {},
   "source": [
    "<br>"
   ]
  },
  {
   "cell_type": "markdown",
   "id": "13b820c0-bbde-4944-9707-2206a9c6c5c5",
   "metadata": {},
   "source": [
    "<br>"
   ]
  },
  {
   "cell_type": "code",
   "execution_count": 110,
   "id": "eac8cd25-8e38-4415-aa46-55eafb896e61",
   "metadata": {},
   "outputs": [
    {
     "data": {
      "text/plain": [
       "<matplotlib.legend.Legend at 0x2c526fd9430>"
      ]
     },
     "execution_count": 110,
     "metadata": {},
     "output_type": "execute_result"
    },
    {
     "data": {
      "image/png": "[encoded data removed]",
      "text/plain": [
       "<Figure size 1080x720 with 1 Axes>"
      ]
     },
     "metadata": {
      "needs_background": "light"
     },
     "output_type": "display_data"
    }
   ],
   "source": [
    "# Generating a barplot \n",
    "top_2020[~top_2020.title.str.contains('\\(')].head(15).plot.barh()\n",
    "\n",
    "# Adding a legend\n",
    "plt.legend(loc='upper right')"
   ]
  },
  {
   "cell_type": "markdown",
   "id": "540cd5c6-2f1d-4f60-8b8e-c25d01961bc6",
   "metadata": {},
   "source": [
    "<br>"
   ]
  },
  {
   "cell_type": "markdown",
   "id": "de8034bd-00af-418b-bf29-0b140a99fab1",
   "metadata": {},
   "source": [
    "<br>"
   ]
  },
  {
   "cell_type": "markdown",
   "id": "b1f0d472-a00b-4ac9-9af7-e1bf579c229b",
   "metadata": {},
   "source": [
    "<br>"
   ]
  },
  {
   "cell_type": "code",
   "execution_count": 111,
   "id": "20173062-bc95-4086-ab7c-b1ac8466ebf6",
   "metadata": {},
   "outputs": [
    {
     "data": {
      "text/html": [
       "<div>\n",
       "<style scoped>\n",
       "    .dataframe tbody tr th:only-of-type {\n",
       "        vertical-align: middle;\n",
       "    }\n",
       "\n",
       "    .dataframe tbody tr th {\n",
       "        vertical-align: top;\n",
       "    }\n",
       "\n",
       "    .dataframe thead th {\n",
       "        text-align: right;\n",
       "    }\n",
       "</style>\n",
       "<table border=\"1\" class=\"dataframe\">\n",
       "  <thead>\n",
       "    <tr style=\"text-align: right;\">\n",
       "      <th></th>\n",
       "      <th>title</th>\n",
       "      <th>level_2021</th>\n",
       "      <th>points_r1_2021</th>\n",
       "      <th>level_2020</th>\n",
       "      <th>points_r1_2020</th>\n",
       "      <th>points_r1_2019</th>\n",
       "      <th>level_2019</th>\n",
       "    </tr>\n",
       "    <tr>\n",
       "      <th>code</th>\n",
       "      <th></th>\n",
       "      <th></th>\n",
       "      <th></th>\n",
       "      <th></th>\n",
       "      <th></th>\n",
       "      <th></th>\n",
       "      <th></th>\n",
       "    </tr>\n",
       "  </thead>\n",
       "  <tbody>\n",
       "    <tr>\n",
       "      <th>TU792</th>\n",
       "      <td>Community and Youth Development</td>\n",
       "      <td>6/7</td>\n",
       "      <td>NaN</td>\n",
       "      <td>7.0</td>\n",
       "      <td>101.0</td>\n",
       "      <td>NaN</td>\n",
       "      <td>NaN</td>\n",
       "    </tr>\n",
       "    <tr>\n",
       "      <th>DK712</th>\n",
       "      <td>Digital Marketing and Public Relations</td>\n",
       "      <td>6/7</td>\n",
       "      <td>206.0</td>\n",
       "      <td>7.0</td>\n",
       "      <td>100.0</td>\n",
       "      <td>147.0</td>\n",
       "      <td>6/7</td>\n",
       "    </tr>\n",
       "    <tr>\n",
       "      <th>CR035</th>\n",
       "      <td>Community Development</td>\n",
       "      <td>6/7</td>\n",
       "      <td>133.0</td>\n",
       "      <td>7.0</td>\n",
       "      <td>100.0</td>\n",
       "      <td>162.0</td>\n",
       "      <td>6/7</td>\n",
       "    </tr>\n",
       "    <tr>\n",
       "      <th>CK791</th>\n",
       "      <td>Medicine  - Graduate Entry (GAMSAT required)</td>\n",
       "      <td>8</td>\n",
       "      <td>60.0</td>\n",
       "      <td>8.0</td>\n",
       "      <td>57.0</td>\n",
       "      <td>58.0</td>\n",
       "      <td>8</td>\n",
       "    </tr>\n",
       "    <tr>\n",
       "      <th>LM101</th>\n",
       "      <td>Medicine  - Graduate Entry (GAMSAT required)</td>\n",
       "      <td>8</td>\n",
       "      <td>57.0</td>\n",
       "      <td>8.0</td>\n",
       "      <td>55.0</td>\n",
       "      <td>55.0</td>\n",
       "      <td>8</td>\n",
       "    </tr>\n",
       "  </tbody>\n",
       "</table>\n",
       "</div>"
      ],
      "text/plain": [
       "                                              title level_2021  \\\n",
       "code                                                             \n",
       "TU792               Community and Youth Development        6/7   \n",
       "DK712        Digital Marketing and Public Relations        6/7   \n",
       "CR035                         Community Development        6/7   \n",
       "CK791  Medicine  - Graduate Entry (GAMSAT required)          8   \n",
       "LM101  Medicine  - Graduate Entry (GAMSAT required)          8   \n",
       "\n",
       "       points_r1_2021 level_2020  points_r1_2020  points_r1_2019 level_2019  \n",
       "code                                                                         \n",
       "TU792             NaN        7.0           101.0             NaN        NaN  \n",
       "DK712           206.0        7.0           100.0           147.0        6/7  \n",
       "CR035           133.0        7.0           100.0           162.0        6/7  \n",
       "CK791            60.0        8.0            57.0            58.0          8  \n",
       "LM101            57.0        8.0            55.0            55.0          8  "
      ]
     },
     "execution_count": 111,
     "metadata": {},
     "output_type": "execute_result"
    }
   ],
   "source": [
    "# Last 5 rows\n",
    "top_2020.tail()"
   ]
  },
  {
   "cell_type": "markdown",
   "id": "ff384f24-99a0-4d06-9506-4e6ec689f38c",
   "metadata": {},
   "source": [
    "<br>"
   ]
  },
  {
   "cell_type": "markdown",
   "id": "cabec8a2-2354-4382-bbc7-cf60611d4b67",
   "metadata": {},
   "source": [
    "<br>"
   ]
  },
  {
   "cell_type": "markdown",
   "id": "663bc23e-2c3a-4f59-903c-51984b81d95d",
   "metadata": {},
   "source": [
    "- Only 2 courses require a GAMSAT this time. We can see from `top_2019.tail()` further back up the notebook that RC101 and DN401 aren't in the 2020 points.\n",
    "- There was a points drop for DK712 and CR035 from 2019."
   ]
  },
  {
   "cell_type": "markdown",
   "id": "82c65631-9344-4716-82c8-0ac24b86d64c",
   "metadata": {},
   "source": [
    "<br>"
   ]
  },
  {
   "cell_type": "markdown",
   "id": "640e146b-e4fd-459c-8c49-6bab99dd3c33",
   "metadata": {},
   "source": [
    "<br>"
   ]
  },
  {
   "cell_type": "code",
   "execution_count": 112,
   "id": "aee0e28a-9249-47a3-9d6d-658f6ff98d18",
   "metadata": {},
   "outputs": [
    {
     "data": {
      "text/html": [
       "<div>\n",
       "<style scoped>\n",
       "    .dataframe tbody tr th:only-of-type {\n",
       "        vertical-align: middle;\n",
       "    }\n",
       "\n",
       "    .dataframe tbody tr th {\n",
       "        vertical-align: top;\n",
       "    }\n",
       "\n",
       "    .dataframe thead th {\n",
       "        text-align: right;\n",
       "    }\n",
       "</style>\n",
       "<table border=\"1\" class=\"dataframe\">\n",
       "  <thead>\n",
       "    <tr style=\"text-align: right;\">\n",
       "      <th></th>\n",
       "      <th>points_r1_2020</th>\n",
       "    </tr>\n",
       "  </thead>\n",
       "  <tbody>\n",
       "    <tr>\n",
       "      <th>count</th>\n",
       "      <td>1344.000000</td>\n",
       "    </tr>\n",
       "    <tr>\n",
       "      <th>mean</th>\n",
       "      <td>337.772321</td>\n",
       "    </tr>\n",
       "    <tr>\n",
       "      <th>std</th>\n",
       "      <td>112.153311</td>\n",
       "    </tr>\n",
       "    <tr>\n",
       "      <th>min</th>\n",
       "      <td>100.000000</td>\n",
       "    </tr>\n",
       "    <tr>\n",
       "      <th>25%</th>\n",
       "      <td>252.000000</td>\n",
       "    </tr>\n",
       "    <tr>\n",
       "      <th>50%</th>\n",
       "      <td>309.000000</td>\n",
       "    </tr>\n",
       "    <tr>\n",
       "      <th>75%</th>\n",
       "      <td>419.250000</td>\n",
       "    </tr>\n",
       "    <tr>\n",
       "      <th>max</th>\n",
       "      <td>613.000000</td>\n",
       "    </tr>\n",
       "  </tbody>\n",
       "</table>\n",
       "</div>"
      ],
      "text/plain": [
       "       points_r1_2020\n",
       "count     1344.000000\n",
       "mean       337.772321\n",
       "std        112.153311\n",
       "min        100.000000\n",
       "25%        252.000000\n",
       "50%        309.000000\n",
       "75%        419.250000\n",
       "max        613.000000"
      ]
     },
     "execution_count": 112,
     "metadata": {},
     "output_type": "execute_result"
    }
   ],
   "source": [
    "# Overview of 2020 points. 100 lowest & 613 highest points\n",
    "stats_20 = allcourses[(allcourses['points_r1_2020'] >= 100) & (allcourses['points_r1_2020'] <= 613) ].describe().drop(['points_r1_2021', 'points_r1_2019'], axis=1)\n",
    "\n",
    "stats_20"
   ]
  },
  {
   "cell_type": "markdown",
   "id": "6054d951-de72-47fb-a7d0-690d33a82303",
   "metadata": {},
   "source": [
    "<br>"
   ]
  },
  {
   "cell_type": "markdown",
   "id": "e689f75f-8675-4283-9e07-927864fc65cc",
   "metadata": {},
   "source": [
    "<br>"
   ]
  },
  {
   "cell_type": "markdown",
   "id": "f12a0d6d-a231-4b0c-89d2-189adee04a1a",
   "metadata": {},
   "source": [
    "All these stats have increased from 2019. "
   ]
  },
  {
   "cell_type": "markdown",
   "id": "6a7dd7e3-a388-446c-bf1f-31382a555d65",
   "metadata": {},
   "source": [
    "<br>"
   ]
  },
  {
   "cell_type": "markdown",
   "id": "398d9bfa-cc38-4bb9-ac68-06735c5b4269",
   "metadata": {},
   "source": [
    "<br>"
   ]
  },
  {
   "cell_type": "markdown",
   "id": "e7ebe7c1-9fc9-4520-806f-83206b731c0e",
   "metadata": {},
   "source": [
    "<br>"
   ]
  },
  {
   "cell_type": "markdown",
   "id": "49ebd1f7-2ae6-4a7e-9858-c08f622cee63",
   "metadata": {},
   "source": [
    "### 2021"
   ]
  },
  {
   "cell_type": "markdown",
   "id": "f0afefa3-f498-450f-b8e8-95dc2ae38a7a",
   "metadata": {},
   "source": [
    "<br>"
   ]
  },
  {
   "cell_type": "code",
   "execution_count": 113,
   "id": "6dd9cf1c-2573-461a-bc26-b7fb6aade23a",
   "metadata": {},
   "outputs": [
    {
     "data": {
      "text/html": [
       "<div>\n",
       "<style scoped>\n",
       "    .dataframe tbody tr th:only-of-type {\n",
       "        vertical-align: middle;\n",
       "    }\n",
       "\n",
       "    .dataframe tbody tr th {\n",
       "        vertical-align: top;\n",
       "    }\n",
       "\n",
       "    .dataframe thead th {\n",
       "        text-align: right;\n",
       "    }\n",
       "</style>\n",
       "<table border=\"1\" class=\"dataframe\">\n",
       "  <thead>\n",
       "    <tr style=\"text-align: right;\">\n",
       "      <th></th>\n",
       "      <th>title</th>\n",
       "      <th>level_2021</th>\n",
       "      <th>points_r1_2021</th>\n",
       "      <th>level_2020</th>\n",
       "      <th>points_r1_2020</th>\n",
       "      <th>points_r1_2019</th>\n",
       "      <th>level_2019</th>\n",
       "    </tr>\n",
       "    <tr>\n",
       "      <th>code</th>\n",
       "      <th></th>\n",
       "      <th></th>\n",
       "      <th></th>\n",
       "      <th></th>\n",
       "      <th></th>\n",
       "      <th></th>\n",
       "      <th></th>\n",
       "    </tr>\n",
       "  </thead>\n",
       "  <tbody>\n",
       "    <tr>\n",
       "      <th>DN670</th>\n",
       "      <td>Economics and Finance</td>\n",
       "      <td>8</td>\n",
       "      <td>625.0</td>\n",
       "      <td>8.0</td>\n",
       "      <td>613.0</td>\n",
       "      <td>601.0</td>\n",
       "      <td>8</td>\n",
       "    </tr>\n",
       "    <tr>\n",
       "      <th>TR052</th>\n",
       "      <td>Dental Science</td>\n",
       "      <td>8</td>\n",
       "      <td>625.0</td>\n",
       "      <td>8.0</td>\n",
       "      <td>613.0</td>\n",
       "      <td>590.0</td>\n",
       "      <td>8</td>\n",
       "    </tr>\n",
       "    <tr>\n",
       "      <th>CK702</th>\n",
       "      <td>Dentistry</td>\n",
       "      <td>8</td>\n",
       "      <td>625.0</td>\n",
       "      <td>8.0</td>\n",
       "      <td>613.0</td>\n",
       "      <td>590.0</td>\n",
       "      <td>8</td>\n",
       "    </tr>\n",
       "    <tr>\n",
       "      <th>TR034</th>\n",
       "      <td>Management Science and Information Systems Stu...</td>\n",
       "      <td>8</td>\n",
       "      <td>625.0</td>\n",
       "      <td>8.0</td>\n",
       "      <td>613.0</td>\n",
       "      <td>589.0</td>\n",
       "      <td>8</td>\n",
       "    </tr>\n",
       "    <tr>\n",
       "      <th>TU795</th>\n",
       "      <td>Visual Merchandising and Display</td>\n",
       "      <td>6/7</td>\n",
       "      <td>618.0</td>\n",
       "      <td>7.0</td>\n",
       "      <td>481.0</td>\n",
       "      <td>NaN</td>\n",
       "      <td>NaN</td>\n",
       "    </tr>\n",
       "    <tr>\n",
       "      <th>LM100</th>\n",
       "      <td>Physiotherapy</td>\n",
       "      <td>8</td>\n",
       "      <td>613.0</td>\n",
       "      <td>8.0</td>\n",
       "      <td>589.0</td>\n",
       "      <td>565.0</td>\n",
       "      <td>8</td>\n",
       "    </tr>\n",
       "    <tr>\n",
       "      <th>DN230</th>\n",
       "      <td>Actuarial and Financial Studies</td>\n",
       "      <td>8</td>\n",
       "      <td>613.0</td>\n",
       "      <td>8.0</td>\n",
       "      <td>601.0</td>\n",
       "      <td>577.0</td>\n",
       "      <td>8</td>\n",
       "    </tr>\n",
       "    <tr>\n",
       "      <th>DN440</th>\n",
       "      <td>Biomedical  Health and Life Sciences</td>\n",
       "      <td>8</td>\n",
       "      <td>613.0</td>\n",
       "      <td>8.0</td>\n",
       "      <td>590.0</td>\n",
       "      <td>565.0</td>\n",
       "      <td>8</td>\n",
       "    </tr>\n",
       "    <tr>\n",
       "      <th>TR080</th>\n",
       "      <td>Global Business</td>\n",
       "      <td>8</td>\n",
       "      <td>613.0</td>\n",
       "      <td>8.0</td>\n",
       "      <td>589.0</td>\n",
       "      <td>565.0</td>\n",
       "      <td>8</td>\n",
       "    </tr>\n",
       "    <tr>\n",
       "      <th>TR072</th>\n",
       "      <td>Pharmacy</td>\n",
       "      <td>8</td>\n",
       "      <td>613.0</td>\n",
       "      <td>8.0</td>\n",
       "      <td>590.0</td>\n",
       "      <td>555.0</td>\n",
       "      <td>8</td>\n",
       "    </tr>\n",
       "    <tr>\n",
       "      <th>GY303</th>\n",
       "      <td>Biomedical Science</td>\n",
       "      <td>8</td>\n",
       "      <td>613.0</td>\n",
       "      <td>8.0</td>\n",
       "      <td>556.0</td>\n",
       "      <td>533.0</td>\n",
       "      <td>8</td>\n",
       "    </tr>\n",
       "    <tr>\n",
       "      <th>CK703</th>\n",
       "      <td>Pharmacy</td>\n",
       "      <td>8</td>\n",
       "      <td>613.0</td>\n",
       "      <td>8.0</td>\n",
       "      <td>590.0</td>\n",
       "      <td>577.0</td>\n",
       "      <td>8</td>\n",
       "    </tr>\n",
       "    <tr>\n",
       "      <th>RC005</th>\n",
       "      <td>Pharmacy</td>\n",
       "      <td>8</td>\n",
       "      <td>613.0</td>\n",
       "      <td>8.0</td>\n",
       "      <td>579.0</td>\n",
       "      <td>555.0</td>\n",
       "      <td>8</td>\n",
       "    </tr>\n",
       "    <tr>\n",
       "      <th>TR015</th>\n",
       "      <td>Philosophy  Political Science  Economics and S...</td>\n",
       "      <td>8</td>\n",
       "      <td>613.0</td>\n",
       "      <td>8.0</td>\n",
       "      <td>589.0</td>\n",
       "      <td>566.0</td>\n",
       "      <td>8</td>\n",
       "    </tr>\n",
       "    <tr>\n",
       "      <th>CR700</th>\n",
       "      <td>Theatre and Drama Studies at CIT Cork School o...</td>\n",
       "      <td>8</td>\n",
       "      <td>609.0</td>\n",
       "      <td>8.0</td>\n",
       "      <td>740.0</td>\n",
       "      <td>768.0</td>\n",
       "      <td>8</td>\n",
       "    </tr>\n",
       "  </tbody>\n",
       "</table>\n",
       "</div>"
      ],
      "text/plain": [
       "                                                   title level_2021  \\\n",
       "code                                                                  \n",
       "DN670                              Economics and Finance          8   \n",
       "TR052                                     Dental Science          8   \n",
       "CK702                                          Dentistry          8   \n",
       "TR034  Management Science and Information Systems Stu...          8   \n",
       "TU795                   Visual Merchandising and Display        6/7   \n",
       "LM100                                      Physiotherapy          8   \n",
       "DN230                    Actuarial and Financial Studies          8   \n",
       "DN440               Biomedical  Health and Life Sciences          8   \n",
       "TR080                                    Global Business          8   \n",
       "TR072                                           Pharmacy          8   \n",
       "GY303                                 Biomedical Science          8   \n",
       "CK703                                           Pharmacy          8   \n",
       "RC005                                           Pharmacy          8   \n",
       "TR015  Philosophy  Political Science  Economics and S...          8   \n",
       "CR700  Theatre and Drama Studies at CIT Cork School o...          8   \n",
       "\n",
       "       points_r1_2021 level_2020  points_r1_2020  points_r1_2019 level_2019  \n",
       "code                                                                         \n",
       "DN670           625.0        8.0           613.0           601.0          8  \n",
       "TR052           625.0        8.0           613.0           590.0          8  \n",
       "CK702           625.0        8.0           613.0           590.0          8  \n",
       "TR034           625.0        8.0           613.0           589.0          8  \n",
       "TU795           618.0        7.0           481.0             NaN        NaN  \n",
       "LM100           613.0        8.0           589.0           565.0          8  \n",
       "DN230           613.0        8.0           601.0           577.0          8  \n",
       "DN440           613.0        8.0           590.0           565.0          8  \n",
       "TR080           613.0        8.0           589.0           565.0          8  \n",
       "TR072           613.0        8.0           590.0           555.0          8  \n",
       "GY303           613.0        8.0           556.0           533.0          8  \n",
       "CK703           613.0        8.0           590.0           577.0          8  \n",
       "RC005           613.0        8.0           579.0           555.0          8  \n",
       "TR015           613.0        8.0           589.0           566.0          8  \n",
       "CR700           609.0        8.0           740.0           768.0          8  "
      ]
     },
     "execution_count": 113,
     "metadata": {},
     "output_type": "execute_result"
    }
   ],
   "source": [
    "# Top 10 courses <= 625 points\n",
    "top_2021 = allcourses[allcourses.points_r1_2021 <= 625].sort_values('points_r1_2021',ascending=False)\n",
    "\n",
    "# Filtering out courses which contain '('\n",
    "top_2021[~top_2021.title.str.contains('\\(')].head(15) "
   ]
  },
  {
   "cell_type": "markdown",
   "id": "c7747848-e09f-4162-ac9b-5a99e121156e",
   "metadata": {},
   "source": [
    "<br>"
   ]
  },
  {
   "cell_type": "markdown",
   "id": "937528e0-43ef-4d84-b9e8-97b3b3c55535",
   "metadata": {},
   "source": [
    "<br>"
   ]
  },
  {
   "cell_type": "markdown",
   "id": "eb75a060-d598-4f53-b68d-4aacb6d127c8",
   "metadata": {},
   "source": [
    "Some observations:\n",
    "\n",
    "- For the first time a level 7 course makes the top 15. Just to note TU795 has additionally requirements and isn't totally points based. It increased by 24 points in 2021.\n",
    "- All but 1 course - TU795 - have ran over multiple years. \n",
    "- The top 4 courses are the same as 2020.\n",
    "- CR700 (has additional requirements) has a big drop in points, 159 points since 2019. \n",
    "- All courses which have no additional requirements have increased again."
   ]
  },
  {
   "cell_type": "markdown",
   "id": "b7807115-6dc9-475b-9769-38d116488d2e",
   "metadata": {},
   "source": [
    "<br>"
   ]
  },
  {
   "cell_type": "markdown",
   "id": "1d79426e-1998-44cc-80b7-cb7b8236b3d9",
   "metadata": {},
   "source": [
    "<br>"
   ]
  },
  {
   "cell_type": "code",
   "execution_count": 114,
   "id": "c1b05245-98ee-41c0-b916-effb0de670e1",
   "metadata": {},
   "outputs": [
    {
     "data": {
      "text/plain": [
       "<matplotlib.legend.Legend at 0x2c52700bf70>"
      ]
     },
     "execution_count": 114,
     "metadata": {},
     "output_type": "execute_result"
    },
    {
     "data": {
      "image/png": "[encoded data removed]",
      "text/plain": [
       "<Figure size 1080x720 with 1 Axes>"
      ]
     },
     "metadata": {
      "needs_background": "light"
     },
     "output_type": "display_data"
    }
   ],
   "source": [
    "# Generating a barplot \n",
    "top_2021[~top_2021.title.str.contains('\\(')].head(15) .plot.barh()\n",
    "\n",
    "# Labeling y-axis \n",
    "plt.xlabel('Points')\n",
    "\n",
    "# Adding a leggend\n",
    "plt.legend(loc='upper left')"
   ]
  },
  {
   "cell_type": "markdown",
   "id": "5bed00f5-5516-45de-915b-d08e834a14ed",
   "metadata": {},
   "source": [
    "<br>"
   ]
  },
  {
   "cell_type": "markdown",
   "id": "821a895a-a4cf-4324-b731-dbcdaa9141e8",
   "metadata": {},
   "source": [
    "<br>"
   ]
  },
  {
   "cell_type": "markdown",
   "id": "8c61940c-fa14-4ba4-9a41-5674a5a2688d",
   "metadata": {},
   "source": [
    "<br>"
   ]
  },
  {
   "cell_type": "code",
   "execution_count": 115,
   "id": "d7dd7883-131e-43d3-8e2f-76f57d4d2a36",
   "metadata": {
    "tags": []
   },
   "outputs": [
    {
     "data": {
      "text/html": [
       "<div>\n",
       "<style scoped>\n",
       "    .dataframe tbody tr th:only-of-type {\n",
       "        vertical-align: middle;\n",
       "    }\n",
       "\n",
       "    .dataframe tbody tr th {\n",
       "        vertical-align: top;\n",
       "    }\n",
       "\n",
       "    .dataframe thead th {\n",
       "        text-align: right;\n",
       "    }\n",
       "</style>\n",
       "<table border=\"1\" class=\"dataframe\">\n",
       "  <thead>\n",
       "    <tr style=\"text-align: right;\">\n",
       "      <th></th>\n",
       "      <th>title</th>\n",
       "      <th>level_2021</th>\n",
       "      <th>points_r1_2021</th>\n",
       "      <th>level_2020</th>\n",
       "      <th>points_r1_2020</th>\n",
       "      <th>points_r1_2019</th>\n",
       "      <th>level_2019</th>\n",
       "    </tr>\n",
       "    <tr>\n",
       "      <th>code</th>\n",
       "      <th></th>\n",
       "      <th></th>\n",
       "      <th></th>\n",
       "      <th></th>\n",
       "      <th></th>\n",
       "      <th></th>\n",
       "      <th></th>\n",
       "    </tr>\n",
       "  </thead>\n",
       "  <tbody>\n",
       "    <tr>\n",
       "      <th>DB576</th>\n",
       "      <td>Film and Creative Media</td>\n",
       "      <td>6/7</td>\n",
       "      <td>101.0</td>\n",
       "      <td>7.0</td>\n",
       "      <td>NaN</td>\n",
       "      <td>100.0</td>\n",
       "      <td>6/7</td>\n",
       "    </tr>\n",
       "    <tr>\n",
       "      <th>TL780</th>\n",
       "      <td>Early Childhood Care and Education</td>\n",
       "      <td>6/7</td>\n",
       "      <td>100.0</td>\n",
       "      <td>7.0</td>\n",
       "      <td>234.0</td>\n",
       "      <td>NaN</td>\n",
       "      <td>6/7</td>\n",
       "    </tr>\n",
       "    <tr>\n",
       "      <th>DN401</th>\n",
       "      <td>Medicine - Graduate Entry (GAMSAT required)</td>\n",
       "      <td>8</td>\n",
       "      <td>61.0</td>\n",
       "      <td>8.0</td>\n",
       "      <td>NaN</td>\n",
       "      <td>59.0</td>\n",
       "      <td>8</td>\n",
       "    </tr>\n",
       "    <tr>\n",
       "      <th>CK791</th>\n",
       "      <td>Medicine  - Graduate Entry (GAMSAT required)</td>\n",
       "      <td>8</td>\n",
       "      <td>60.0</td>\n",
       "      <td>8.0</td>\n",
       "      <td>57.0</td>\n",
       "      <td>58.0</td>\n",
       "      <td>8</td>\n",
       "    </tr>\n",
       "    <tr>\n",
       "      <th>LM101</th>\n",
       "      <td>Medicine  - Graduate Entry (GAMSAT required)</td>\n",
       "      <td>8</td>\n",
       "      <td>57.0</td>\n",
       "      <td>8.0</td>\n",
       "      <td>55.0</td>\n",
       "      <td>55.0</td>\n",
       "      <td>8</td>\n",
       "    </tr>\n",
       "  </tbody>\n",
       "</table>\n",
       "</div>"
      ],
      "text/plain": [
       "                                              title level_2021  \\\n",
       "code                                                             \n",
       "DB576                       Film and Creative Media        6/7   \n",
       "TL780            Early Childhood Care and Education        6/7   \n",
       "DN401   Medicine - Graduate Entry (GAMSAT required)          8   \n",
       "CK791  Medicine  - Graduate Entry (GAMSAT required)          8   \n",
       "LM101  Medicine  - Graduate Entry (GAMSAT required)          8   \n",
       "\n",
       "       points_r1_2021 level_2020  points_r1_2020  points_r1_2019 level_2019  \n",
       "code                                                                         \n",
       "DB576           101.0        7.0             NaN           100.0        6/7  \n",
       "TL780           100.0        7.0           234.0             NaN        6/7  \n",
       "DN401            61.0        8.0             NaN            59.0          8  \n",
       "CK791            60.0        8.0            57.0            58.0          8  \n",
       "LM101            57.0        8.0            55.0            55.0          8  "
      ]
     },
     "execution_count": 115,
     "metadata": {},
     "output_type": "execute_result"
    }
   ],
   "source": [
    "# Bottom 5 rows\n",
    "top_2021.tail()"
   ]
  },
  {
   "cell_type": "markdown",
   "id": "ccf374c5-97cf-4c68-88f0-0411a40476d5",
   "metadata": {},
   "source": [
    "<br>"
   ]
  },
  {
   "cell_type": "markdown",
   "id": "0e3d7484-0263-451c-8a68-175341c200cc",
   "metadata": {},
   "source": [
    "<br>"
   ]
  },
  {
   "cell_type": "markdown",
   "id": "5ee36ff1-d02b-4903-8ac1-c6bdd1d46620",
   "metadata": {},
   "source": [
    "- There's a big drop in points for TL780 - 134. It will be interesting to see if the course is offered in 2022."
   ]
  },
  {
   "cell_type": "markdown",
   "id": "0bdb5523-a12e-4e03-9535-9ee531b77159",
   "metadata": {},
   "source": [
    "<br>"
   ]
  },
  {
   "cell_type": "markdown",
   "id": "3e77400a-c975-4e52-b165-68a1fe05cac6",
   "metadata": {},
   "source": [
    "<br>"
   ]
  },
  {
   "cell_type": "markdown",
   "id": "2ede4b28-7385-4da5-90a5-50257495047b",
   "metadata": {},
   "source": [
    "<br>"
   ]
  },
  {
   "cell_type": "code",
   "execution_count": 116,
   "id": "5f2055d2-6d2e-4f06-b8f6-0b9b31705140",
   "metadata": {},
   "outputs": [
    {
     "data": {
      "text/html": [
       "<div>\n",
       "<style scoped>\n",
       "    .dataframe tbody tr th:only-of-type {\n",
       "        vertical-align: middle;\n",
       "    }\n",
       "\n",
       "    .dataframe tbody tr th {\n",
       "        vertical-align: top;\n",
       "    }\n",
       "\n",
       "    .dataframe thead th {\n",
       "        text-align: right;\n",
       "    }\n",
       "</style>\n",
       "<table border=\"1\" class=\"dataframe\">\n",
       "  <thead>\n",
       "    <tr style=\"text-align: right;\">\n",
       "      <th></th>\n",
       "      <th>points_r1_2021</th>\n",
       "    </tr>\n",
       "  </thead>\n",
       "  <tbody>\n",
       "    <tr>\n",
       "      <th>count</th>\n",
       "      <td>1177.000000</td>\n",
       "    </tr>\n",
       "    <tr>\n",
       "      <th>mean</th>\n",
       "      <td>353.434155</td>\n",
       "    </tr>\n",
       "    <tr>\n",
       "      <th>std</th>\n",
       "      <td>120.612747</td>\n",
       "    </tr>\n",
       "    <tr>\n",
       "      <th>min</th>\n",
       "      <td>100.000000</td>\n",
       "    </tr>\n",
       "    <tr>\n",
       "      <th>25%</th>\n",
       "      <td>261.000000</td>\n",
       "    </tr>\n",
       "    <tr>\n",
       "      <th>50%</th>\n",
       "      <td>321.000000</td>\n",
       "    </tr>\n",
       "    <tr>\n",
       "      <th>75%</th>\n",
       "      <td>451.000000</td>\n",
       "    </tr>\n",
       "    <tr>\n",
       "      <th>max</th>\n",
       "      <td>718.000000</td>\n",
       "    </tr>\n",
       "  </tbody>\n",
       "</table>\n",
       "</div>"
      ],
      "text/plain": [
       "       points_r1_2021\n",
       "count     1177.000000\n",
       "mean       353.434155\n",
       "std        120.612747\n",
       "min        100.000000\n",
       "25%        261.000000\n",
       "50%        321.000000\n",
       "75%        451.000000\n",
       "max        718.000000"
      ]
     },
     "execution_count": 116,
     "metadata": {},
     "output_type": "execute_result"
    }
   ],
   "source": [
    "# Overview of 2021 points. 100 lowest & 625 highest points\n",
    "stats_21 = allcourses[(allcourses['points_r1_2020'] >= 100) & (allcourses['points_r1_2020'] <= 625) ].describe().drop(['points_r1_2020', 'points_r1_2019'], axis=1)\n",
    "\n",
    "stats_21"
   ]
  },
  {
   "cell_type": "markdown",
   "id": "49f156f5-9450-41f1-9e3c-1fbd66f5acc1",
   "metadata": {},
   "source": [
    "<br>"
   ]
  },
  {
   "cell_type": "markdown",
   "id": "83f68534-d64a-4762-99fb-faab42d2ab06",
   "metadata": {},
   "source": [
    "<br>"
   ]
  },
  {
   "cell_type": "markdown",
   "id": "666ff2f6-8bb0-422c-bab9-e8a6ad58c621",
   "metadata": {},
   "source": [
    "***"
   ]
  },
  {
   "cell_type": "markdown",
   "id": "1624828e-6bfc-44e7-870a-2c5556aa8004",
   "metadata": {},
   "source": [
    "<br>"
   ]
  },
  {
   "cell_type": "markdown",
   "id": "3e964195-1a2c-41f6-9ddf-51ce1e174a02",
   "metadata": {},
   "source": [
    "<br>"
   ]
  },
  {
   "cell_type": "markdown",
   "id": "33431950-02e9-4acb-a4f6-eb0f0938883f",
   "metadata": {},
   "source": [
    "### Histogram"
   ]
  },
  {
   "cell_type": "markdown",
   "id": "1b9c8dec-05c3-4ffe-8e9a-3985182a5562",
   "metadata": {},
   "source": [
    "<br>"
   ]
  },
  {
   "cell_type": "markdown",
   "id": "a734e39a-7fd2-4bc3-be2c-09eba0138eac",
   "metadata": {},
   "source": [
    "<br>"
   ]
  },
  {
   "cell_type": "code",
   "execution_count": 117,
   "id": "4341c640-d58a-4ec0-a690-09abd72c8fa5",
   "metadata": {},
   "outputs": [
    {
     "data": {
      "text/plain": [
       "<matplotlib.legend.Legend at 0x2c5270492b0>"
      ]
     },
     "execution_count": 117,
     "metadata": {},
     "output_type": "execute_result"
    },
    {
     "data": {
      "image/png": "[encoded data removed]",
      "text/plain": [
       "<Figure size 1080x720 with 1 Axes>"
      ]
     },
     "metadata": {
      "needs_background": "light"
     },
     "output_type": "display_data"
    }
   ],
   "source": [
    "# Generating a histogram for points \n",
    "top_2021['points_r1_2021'].plot.hist(label='2021', bins=10, alpha=0.5, color='orange')\n",
    "top_2020['points_r1_2020'].plot.hist(label='2020', bins=10, alpha=0.5, color='blue')\n",
    "top_2019['points_r1_2019'].plot.hist(label='2019', bins=10, alpha=0.5, color='green')\n",
    "\n",
    "# Adding a legend\n",
    "plt.legend()\n",
    "\n",
    "# Adding ticks to xaxis\n",
    "#plt.xticks(np.arange(-500, 1650, step=150))"
   ]
  },
  {
   "cell_type": "markdown",
   "id": "a1e2d956-5fe7-4dc6-b5d5-3ce35341214c",
   "metadata": {},
   "source": [
    "<br>"
   ]
  },
  {
   "cell_type": "markdown",
   "id": "f4b0dc45-9c72-4954-87ac-849b5da15479",
   "metadata": {},
   "source": [
    "<br>"
   ]
  },
  {
   "cell_type": "markdown",
   "id": "bb20a08c-0a1c-4fac-aaa3-766cf3e7e204",
   "metadata": {},
   "source": [
    "<br>"
   ]
  },
  {
   "cell_type": "markdown",
   "id": "48916044-2f65-44a2-81eb-045de2b2d920",
   "metadata": {},
   "source": [
    "As we know which courses are level 8 for sure, we can check how these points have changed."
   ]
  },
  {
   "cell_type": "markdown",
   "id": "4d514649-52a4-441f-80da-21d86c6cb026",
   "metadata": {},
   "source": [
    "<br>"
   ]
  },
  {
   "cell_type": "markdown",
   "id": "4073a217-c90e-4d4b-84fe-8fa3137b523e",
   "metadata": {},
   "source": [
    "<br>"
   ]
  },
  {
   "cell_type": "code",
   "execution_count": 118,
   "id": "f074736b-d1ed-4cf5-bedb-e68b2b3c9cc4",
   "metadata": {},
   "outputs": [
    {
     "data": {
      "text/plain": [
       "<AxesSubplot:ylabel='Frequency'>"
      ]
     },
     "execution_count": 118,
     "metadata": {},
     "output_type": "execute_result"
    },
    {
     "data": {
      "image/png": "[encoded data removed]",
      "text/plain": [
       "<Figure size 1080x720 with 1 Axes>"
      ]
     },
     "metadata": {
      "needs_background": "light"
     },
     "output_type": "display_data"
    }
   ],
   "source": [
    "# Generating a histogram\n",
    "level_8 = allcourses[allcourses['level_2021'] == '8' ].plot.hist(bins=10, alpha=0.7)\n",
    "level_8"
   ]
  },
  {
   "cell_type": "markdown",
   "id": "d1310cf1-697a-4675-b4f4-5018f56d4384",
   "metadata": {},
   "source": [
    "<br>"
   ]
  },
  {
   "cell_type": "markdown",
   "id": "99edfa26-a3b5-4f06-9cd3-6d4e6c0e2b62",
   "metadata": {},
   "source": [
    "<br>"
   ]
  },
  {
   "cell_type": "markdown",
   "id": "db581b84-4028-4ace-b96b-c2bbc0be4ca8",
   "metadata": {},
   "source": [
    "<br>"
   ]
  },
  {
   "cell_type": "markdown",
   "id": "f0112714-1455-45e4-8883-f94545ab0056",
   "metadata": {},
   "source": [
    "Some observations:\n",
    "\n",
    "- The majority of courses require in and around 300 points.\n",
    "- There is a rise in points across the board.\n",
    "- The implementation of accredited points from 2020 seems to have had a big effect on the number courses which now require 450+ points. \n",
    "- Compared to 2019, the number of courses requiring 500+ points is over double.\n",
    "- 2020 pushed up entry points requirements across the board and as a result the requirements for courses on the high points side increased to reconcile the inflation."
   ]
  },
  {
   "cell_type": "markdown",
   "id": "3642b5e8-f98e-4e64-af8c-5423cd2e3c0e",
   "metadata": {},
   "source": [
    "<br>"
   ]
  },
  {
   "cell_type": "markdown",
   "id": "2925ba04-08a8-43f0-b404-e4d161177129",
   "metadata": {},
   "source": [
    "<br>"
   ]
  },
  {
   "cell_type": "markdown",
   "id": "03b10120-0002-43e2-be11-738686aeeed3",
   "metadata": {},
   "source": [
    "<br>"
   ]
  },
  {
   "cell_type": "markdown",
   "id": "a1bb3928-291b-47e6-83b8-256821439e3b",
   "metadata": {},
   "source": [
    "<br>"
   ]
  },
  {
   "cell_type": "markdown",
   "id": "eb0bb966-cecf-493e-9e70-93008de83afe",
   "metadata": {},
   "source": [
    "### Boxplot"
   ]
  },
  {
   "cell_type": "markdown",
   "id": "9ed93d55-8bac-4bca-9c9b-affd1307e99a",
   "metadata": {},
   "source": [
    "<br>"
   ]
  },
  {
   "cell_type": "markdown",
   "id": "675c4870-b9a0-4ce4-ab09-97077db0c6b0",
   "metadata": {},
   "source": [
    "Let's have another look at the distribution of the points now, we have removed major outliers i.e. points which exceed 625 points."
   ]
  },
  {
   "cell_type": "markdown",
   "id": "a0dc5d42-316d-421a-a9e1-73545003864a",
   "metadata": {},
   "source": [
    "<br>"
   ]
  },
  {
   "cell_type": "markdown",
   "id": "fb98924f-75e2-49bd-8ef7-0156655218cb",
   "metadata": {},
   "source": [
    "<br>"
   ]
  },
  {
   "cell_type": "code",
   "execution_count": 119,
   "id": "8de81e0f-20bf-4a6c-bac2-e8852af2e4ca",
   "metadata": {},
   "outputs": [
    {
     "data": {
      "text/plain": [
       "<AxesSubplot:>"
      ]
     },
     "execution_count": 119,
     "metadata": {},
     "output_type": "execute_result"
    },
    {
     "data": {
      "image/png": "[encoded data removed]",
      "text/plain": [
       "<Figure size 1080x720 with 3 Axes>"
      ]
     },
     "metadata": {
      "needs_background": "light"
     },
     "output_type": "display_data"
    }
   ],
   "source": [
    "# Generating boxplots\n",
    "\n",
    "# nrows, ncols, the first plot\n",
    "plt.subplot(1,3,1)\n",
    "(top_2019['points_r1_2019']).plot.box()\n",
    "\n",
    "# nrows, ncols, the second plot\n",
    "plt.subplot(1,3,2)\n",
    "(top_2020['points_r1_2020']).plot.box()\n",
    "\n",
    "# nrows, ncols, the thrid plot\n",
    "plt.subplot(1,3,3)\n",
    "(top_2021['points_r1_2021']).plot.box()"
   ]
  },
  {
   "cell_type": "markdown",
   "id": "6133ad8c-1c5a-4770-81fa-32d366ca1b21",
   "metadata": {},
   "source": [
    "<br>"
   ]
  },
  {
   "cell_type": "markdown",
   "id": "b73a15eb-fc7d-47c7-a0bf-882100a31949",
   "metadata": {},
   "source": [
    "Some observations: \n",
    "\n",
    "- No major outliers, which makes sense.\n",
    "- The median (blue line in the box) has increased with each subsequent year. \n",
    "-  The mean (box) has increased over the years too. "
   ]
  },
  {
   "cell_type": "markdown",
   "id": "ab1d5620-9cf3-42ed-b413-5e006349ba7e",
   "metadata": {},
   "source": [
    "<br>"
   ]
  },
  {
   "cell_type": "markdown",
   "id": "88b31497-a393-49c7-a966-b1fba59f71bb",
   "metadata": {},
   "source": [
    "Let's work out how the mean has changed over the 3 years."
   ]
  },
  {
   "cell_type": "markdown",
   "id": "b2b6a674-070b-4757-9ddd-6b3ebfbdf480",
   "metadata": {
    "tags": []
   },
   "source": [
    "<br>"
   ]
  },
  {
   "cell_type": "code",
   "execution_count": 120,
   "id": "eeb3a1d4-8289-444c-948f-c12418ddc165",
   "metadata": {},
   "outputs": [],
   "source": [
    "# Getting average points for each\n",
    "average_2019 = top_2019['points_r1_2019'].mean()\n",
    "average_2020 = top_2020['points_r1_2020'].mean() \n",
    "average_2021 = top_2021['points_r1_2021'].mean()"
   ]
  },
  {
   "cell_type": "markdown",
   "id": "31fa96e6-f2a8-47aa-8e6b-7899e86b0057",
   "metadata": {
    "tags": []
   },
   "source": [
    "<br>"
   ]
  },
  {
   "cell_type": "markdown",
   "id": "a815520d-a529-4b70-9f3c-2f3347df7c5b",
   "metadata": {
    "tags": []
   },
   "source": [
    "<br>"
   ]
  },
  {
   "cell_type": "markdown",
   "id": "9ff9f1fa-dca9-4033-9e97-e0644dee52d1",
   "metadata": {
    "tags": []
   },
   "source": [
    "<br>"
   ]
  },
  {
   "cell_type": "code",
   "execution_count": 121,
   "id": "94bbc1de-4e2c-4e54-9844-403ba553b517",
   "metadata": {},
   "outputs": [
    {
     "name": "stdout",
     "output_type": "stream",
     "text": [
      "An increase of: 3.501528290730442\n"
     ]
    }
   ],
   "source": [
    "# Getting the increase\n",
    "avg_increase = average_2020 - average_2019\n",
    "\n",
    "# Getting the %\n",
    "increase_percent = (avg_increase/average_2019)*100\n",
    "\n",
    "print('An increase of:', increase_percent)"
   ]
  },
  {
   "cell_type": "markdown",
   "id": "c9856874-900c-47b0-86a9-857c9ecdaed2",
   "metadata": {
    "tags": []
   },
   "source": [
    "<br>"
   ]
  },
  {
   "cell_type": "markdown",
   "id": "b4bc5695-1edf-4692-8b91-8ae5b35e0a71",
   "metadata": {
    "tags": []
   },
   "source": [
    "<br>"
   ]
  },
  {
   "cell_type": "code",
   "execution_count": 122,
   "id": "25a026df-5940-4f9d-bb5f-a17c571e4b57",
   "metadata": {},
   "outputs": [
    {
     "data": {
      "text/plain": [
       "<matplotlib.legend.Legend at 0x2c529907c70>"
      ]
     },
     "execution_count": 122,
     "metadata": {},
     "output_type": "execute_result"
    },
    {
     "data": {
      "image/png": "[encoded data removed]",
      "text/plain": [
       "<Figure size 1080x576 with 1 Axes>"
      ]
     },
     "metadata": {
      "needs_background": "light"
     },
     "output_type": "display_data"
    }
   ],
   "source": [
    "# Creating an figure\n",
    "fig,ax = plt.subplots(figsize=(15,8))\n",
    "\n",
    "# Generating a scatterplot\n",
    "sns.scatterplot(x=top_2020['points_r1_2020'],y=top_2019['points_r1_2019'])\n",
    "\n",
    "# Adding a title\n",
    "plt.title(\"Average Points 2019 vs 2020\")\n",
    "\n",
    "# Adding lines to show average for 2019 and 2020\n",
    "ax.axhline(top_2019['points_r1_2019'].mean(), linestyle=\"-\", color=\"black\", label='2019') \n",
    "ax.axhline(top_2020['points_r1_2020'].mean(), linestyle=\"-\", color=\"blue\", label='2020') \n",
    "\n",
    "# Adding a legend\n",
    "plt.legend()"
   ]
  },
  {
   "cell_type": "markdown",
   "id": "8b687891-d03e-4267-bfae-1d878e10b545",
   "metadata": {
    "tags": []
   },
   "source": [
    "<br>"
   ]
  },
  {
   "cell_type": "markdown",
   "id": "41dc8195-dee5-4ecc-b2c1-3db37afc4420",
   "metadata": {
    "tags": []
   },
   "source": [
    "<br>"
   ]
  },
  {
   "cell_type": "markdown",
   "id": "3a3e2623-9a21-4432-a26a-b340122cc90f",
   "metadata": {
    "tags": []
   },
   "source": [
    "<br>"
   ]
  },
  {
   "cell_type": "markdown",
   "id": "6ceb639d-871d-4d1a-9f97-9065de1f6b55",
   "metadata": {
    "tags": []
   },
   "source": [
    "<br>"
   ]
  },
  {
   "cell_type": "markdown",
   "id": "c851fbaa-479e-400e-99d8-89c9402972f7",
   "metadata": {
    "tags": []
   },
   "source": [
    "<br>"
   ]
  },
  {
   "cell_type": "markdown",
   "id": "8b671041-da57-4851-af91-3f607290a012",
   "metadata": {},
   "source": [
    "<br>"
   ]
  },
  {
   "cell_type": "code",
   "execution_count": 123,
   "id": "48e7e00c-c288-43c3-b595-42496737e4af",
   "metadata": {},
   "outputs": [
    {
     "name": "stdout",
     "output_type": "stream",
     "text": [
      "An average increase of: 3.8598273466896362 between 2020 and 2021\n"
     ]
    }
   ],
   "source": [
    "# Getting the increase\n",
    "avg_increase = average_2021 - average_2020\n",
    "\n",
    "# Getting the %\n",
    "increase_percent = (avg_increase/average_2020)*100\n",
    "\n",
    "print('An average increase of: {} between 2020 and 2021'.format(increase_percent))"
   ]
  },
  {
   "cell_type": "markdown",
   "id": "6c552fad-65d1-450d-aa3b-080e8e77dda9",
   "metadata": {},
   "source": [
    "<br>"
   ]
  },
  {
   "cell_type": "markdown",
   "id": "ceadc202-5553-478c-95b0-d480716c0a3a",
   "metadata": {
    "tags": []
   },
   "source": [
    "<br>"
   ]
  },
  {
   "cell_type": "code",
   "execution_count": 124,
   "id": "d0ced7e8-fae7-4448-9cda-2308eb4bde18",
   "metadata": {},
   "outputs": [
    {
     "data": {
      "text/plain": [
       "<matplotlib.legend.Legend at 0x2c52b28fb80>"
      ]
     },
     "execution_count": 124,
     "metadata": {},
     "output_type": "execute_result"
    },
    {
     "data": {
      "image/png": "[encoded data removed]",
      "text/plain": [
       "<Figure size 1080x576 with 1 Axes>"
      ]
     },
     "metadata": {
      "needs_background": "light"
     },
     "output_type": "display_data"
    }
   ],
   "source": [
    "# Creating an figure\n",
    "fig,ax = plt.subplots(figsize=(15,8))\n",
    "\n",
    "# Generating a scatterplot\n",
    "sns.scatterplot(x=top_2021['points_r1_2021'], y=top_2020['points_r1_2020'])\n",
    "\n",
    "# Adding a title\n",
    "plt.title(\"Average Points 2020 vs 2021\")\n",
    "\n",
    "# Adding lines to show average for 2019 and 2020\n",
    "ax.axhline(top_2020['points_r1_2020'].mean(), linestyle=\"-\", color=\"black\", label='2020') \n",
    "ax.axhline(top_2021['points_r1_2021'].mean(), linestyle=\"-\", color=\"blue\", label='2021') \n",
    "\n",
    "# Adding a legend\n",
    "plt.legend()"
   ]
  },
  {
   "cell_type": "markdown",
   "id": "ec3470e8-b348-4bf3-9e61-4305d09b81a4",
   "metadata": {},
   "source": [
    "<br>"
   ]
  },
  {
   "cell_type": "markdown",
   "id": "799a2f85-a50a-4614-92aa-f9e32587c818",
   "metadata": {},
   "source": [
    "<br>"
   ]
  },
  {
   "cell_type": "markdown",
   "id": "11d2b26f-68e9-4768-91fc-d6fe557905b8",
   "metadata": {
    "tags": []
   },
   "source": [
    "<br>"
   ]
  },
  {
   "cell_type": "markdown",
   "id": "3928d669-5d1c-403c-a9a8-a07bd2f8bbc7",
   "metadata": {
    "tags": []
   },
   "source": [
    "<br>"
   ]
  },
  {
   "cell_type": "markdown",
   "id": "7858649f-8a6f-4b6b-9ebb-8c4f04c545f3",
   "metadata": {
    "tags": []
   },
   "source": [
    "<br>"
   ]
  },
  {
   "cell_type": "markdown",
   "id": "d2af2dfa-5524-4eca-8ecb-0b49ed487fa7",
   "metadata": {
    "tags": []
   },
   "source": [
    "<br>"
   ]
  },
  {
   "cell_type": "code",
   "execution_count": 125,
   "id": "d3b78c5e-5c47-4c0f-ab25-85a86c8e4679",
   "metadata": {},
   "outputs": [
    {
     "name": "stdout",
     "output_type": "stream",
     "text": [
      "An average increase of: 7.496508583937766 between 2019 and 2021\n"
     ]
    }
   ],
   "source": [
    "# Getting the increase\n",
    "avg_increase = average_2021 - average_2019\n",
    "\n",
    "# Getting the %\n",
    "increase_percent = (avg_increase/average_2019)*100\n",
    "\n",
    "print('An average increase of: {} between 2019 and 2021'.format(increase_percent))"
   ]
  },
  {
   "cell_type": "markdown",
   "id": "d825c0fc-00fb-49bd-8046-3c841b32858d",
   "metadata": {},
   "source": [
    "<br>"
   ]
  },
  {
   "cell_type": "markdown",
   "id": "73945118-ed75-46b2-b70c-238cd46d92f5",
   "metadata": {},
   "source": [
    "<br>"
   ]
  },
  {
   "cell_type": "code",
   "execution_count": 126,
   "id": "02f620b4-ff24-4c82-99eb-923b4882bb6a",
   "metadata": {},
   "outputs": [
    {
     "data": {
      "text/plain": [
       "<matplotlib.legend.Legend at 0x2c52b302fa0>"
      ]
     },
     "execution_count": 126,
     "metadata": {},
     "output_type": "execute_result"
    },
    {
     "data": {
      "image/png": "[encoded data removed]",
      "text/plain": [
       "<Figure size 1080x576 with 1 Axes>"
      ]
     },
     "metadata": {
      "needs_background": "light"
     },
     "output_type": "display_data"
    }
   ],
   "source": [
    "# Creating an figure\n",
    "fig,ax = plt.subplots(figsize=(15,8))\n",
    "\n",
    "# Generating a scatterplot\n",
    "sns.scatterplot(x=top_2021['points_r1_2021'],y=top_2019['points_r1_2019'])\n",
    "\n",
    "# Adding a title\n",
    "plt.title(\"Average Points 2019 vs 2021\")\n",
    "\n",
    "# Adding lines to show average for 2019 and 2020\n",
    "ax.axhline(top_2019['points_r1_2019'].mean(), linestyle=\"-\", color=\"black\", label='2019') \n",
    "ax.axhline(top_2021['points_r1_2021'].mean(), linestyle=\"-\", color=\"blue\", label='2021') \n",
    "\n",
    "# Adding a legend\n",
    "plt.legend()"
   ]
  },
  {
   "cell_type": "markdown",
   "id": "74df6047-b38f-4e60-bf9c-4b42b25c3e49",
   "metadata": {},
   "source": [
    "<br>"
   ]
  },
  {
   "cell_type": "markdown",
   "id": "0f156c19-6190-4e21-997e-a33fe567935d",
   "metadata": {},
   "source": [
    "<br>"
   ]
  },
  {
   "cell_type": "markdown",
   "id": "cebe3e86-fe9a-4068-9d12-015c324db5b9",
   "metadata": {
    "tags": []
   },
   "source": [
    "<br>"
   ]
  },
  {
   "cell_type": "markdown",
   "id": "9d975fb3-dec8-4b56-a79c-feb01dbb5794",
   "metadata": {
    "tags": []
   },
   "source": [
    "<br>"
   ]
  },
  {
   "cell_type": "markdown",
   "id": "66fbfbed-51ef-449d-bf61-5af08fa52e90",
   "metadata": {
    "tags": []
   },
   "source": [
    "<br>"
   ]
  },
  {
   "cell_type": "markdown",
   "id": "d7d691e5-a7dc-47d3-874a-b7aace6773a5",
   "metadata": {},
   "source": [
    "### Heatmap"
   ]
  },
  {
   "cell_type": "markdown",
   "id": "48185e68-f2ca-49d3-93ae-53db2450dfd8",
   "metadata": {},
   "source": [
    "<br>"
   ]
  },
  {
   "cell_type": "code",
   "execution_count": 127,
   "id": "6a05c024-cf69-4e50-8ac9-28613c280cbe",
   "metadata": {},
   "outputs": [
    {
     "data": {
      "text/html": [
       "<div>\n",
       "<style scoped>\n",
       "    .dataframe tbody tr th:only-of-type {\n",
       "        vertical-align: middle;\n",
       "    }\n",
       "\n",
       "    .dataframe tbody tr th {\n",
       "        vertical-align: top;\n",
       "    }\n",
       "\n",
       "    .dataframe thead th {\n",
       "        text-align: right;\n",
       "    }\n",
       "</style>\n",
       "<table border=\"1\" class=\"dataframe\">\n",
       "  <thead>\n",
       "    <tr style=\"text-align: right;\">\n",
       "      <th></th>\n",
       "      <th>points_r1_2021</th>\n",
       "      <th>points_r1_2020</th>\n",
       "      <th>points_r1_2019</th>\n",
       "    </tr>\n",
       "  </thead>\n",
       "  <tbody>\n",
       "    <tr>\n",
       "      <th>points_r1_2021</th>\n",
       "      <td>1.000000</td>\n",
       "      <td>0.960016</td>\n",
       "      <td>0.910599</td>\n",
       "    </tr>\n",
       "    <tr>\n",
       "      <th>points_r1_2020</th>\n",
       "      <td>0.960016</td>\n",
       "      <td>1.000000</td>\n",
       "      <td>0.955069</td>\n",
       "    </tr>\n",
       "    <tr>\n",
       "      <th>points_r1_2019</th>\n",
       "      <td>0.910599</td>\n",
       "      <td>0.955069</td>\n",
       "      <td>1.000000</td>\n",
       "    </tr>\n",
       "  </tbody>\n",
       "</table>\n",
       "</div>"
      ],
      "text/plain": [
       "                points_r1_2021  points_r1_2020  points_r1_2019\n",
       "points_r1_2021        1.000000        0.960016        0.910599\n",
       "points_r1_2020        0.960016        1.000000        0.955069\n",
       "points_r1_2019        0.910599        0.955069        1.000000"
      ]
     },
     "execution_count": 127,
     "metadata": {},
     "output_type": "execute_result"
    }
   ],
   "source": [
    "corr = allcourses.corr()\n",
    "corr"
   ]
  },
  {
   "cell_type": "markdown",
   "id": "a3153a84-525f-4eae-be90-67df1b8fe04f",
   "metadata": {},
   "source": [
    "<br>"
   ]
  },
  {
   "cell_type": "markdown",
   "id": "2d49d373-b113-40de-97b3-b4b710255afa",
   "metadata": {},
   "source": [
    "<br>"
   ]
  },
  {
   "cell_type": "code",
   "execution_count": 128,
   "id": "5a778c6e-b65d-4338-9198-33c5f4f0ca62",
   "metadata": {},
   "outputs": [
    {
     "data": {
      "text/plain": [
       "<AxesSubplot:>"
      ]
     },
     "execution_count": 128,
     "metadata": {},
     "output_type": "execute_result"
    },
    {
     "data": {
      "image/png": "[encoded data removed]",
      "text/plain": [
       "<Figure size 1080x720 with 2 Axes>"
      ]
     },
     "metadata": {
      "needs_background": "light"
     },
     "output_type": "display_data"
    }
   ],
   "source": [
    "sns.heatmap(corr, annot=True, linewidth=1, cmap='coolwarm', square=True)"
   ]
  },
  {
   "cell_type": "markdown",
   "id": "dbbc526c-89ec-468f-93e2-776d035a73f3",
   "metadata": {},
   "source": [
    "<br>"
   ]
  },
  {
   "cell_type": "markdown",
   "id": "0f16b63a-8eca-433e-859f-38a5f5335152",
   "metadata": {},
   "source": [
    "<br>"
   ]
  },
  {
   "cell_type": "markdown",
   "id": "a4468a40-107a-47d0-baa5-f849cd59a93d",
   "metadata": {},
   "source": [
    "The heatmap is as expected in that sequent years are more related to each other that 2019 and 2021. It is interesting that 2020 is equal 0.96 in relation to both 2019 and 2021. The colour of the squares would suggest it has slightly more correlation with 2021's points. The output from the `.corr()` method above confirms this."
   ]
  },
  {
   "cell_type": "markdown",
   "id": "66a9226a-9a68-4d40-b697-55cd2c7981b2",
   "metadata": {},
   "source": [
    "<br>"
   ]
  },
  {
   "cell_type": "markdown",
   "id": "7c6a0ba9-1289-4090-91f7-b0d0732e1fb3",
   "metadata": {},
   "source": [
    "<br>"
   ]
  },
  {
   "cell_type": "markdown",
   "id": "33caa9fe-707b-4ec6-9d14-c78fccb734d0",
   "metadata": {},
   "source": [
    "### Points Increase"
   ]
  },
  {
   "cell_type": "markdown",
   "id": "4c1b4f01-7d58-412e-b0a6-b91d7f440971",
   "metadata": {},
   "source": [
    "<br>"
   ]
  },
  {
   "cell_type": "markdown",
   "id": "ce132d34-51c1-4af9-901b-faae6915fe66",
   "metadata": {},
   "source": [
    "So now we are certain that in the majority of cases, course points have risen over the past three years, let's try and work out by how much. "
   ]
  },
  {
   "cell_type": "markdown",
   "id": "ae9b8cf2-626b-4e37-8c79-5e29b580f811",
   "metadata": {},
   "source": [
    "<br>"
   ]
  },
  {
   "cell_type": "markdown",
   "id": "b531d730-3799-492f-8aea-e7f2b70f3496",
   "metadata": {},
   "source": [
    "<br>"
   ]
  },
  {
   "cell_type": "code",
   "execution_count": 129,
   "id": "b902e622-10b6-41b0-8a13-0aefcc239c8d",
   "metadata": {},
   "outputs": [],
   "source": [
    "# Getting sum points for each\n",
    "sum_2019 = allcourses['points_r1_2019'].sum()\n",
    "sum_2020 = allcourses['points_r1_2020'].sum() \n",
    "sum_2021 = allcourses['points_r1_2021'].sum()"
   ]
  },
  {
   "cell_type": "markdown",
   "id": "1b0c8e26-5d97-48b0-b9da-a47c33f31df7",
   "metadata": {
    "tags": []
   },
   "source": [
    "<br>"
   ]
  },
  {
   "cell_type": "code",
   "execution_count": 130,
   "id": "99912e03-1189-4d21-8b79-8ace10521f61",
   "metadata": {},
   "outputs": [
    {
     "name": "stdout",
     "output_type": "stream",
     "text": [
      "An increase of: 16.311328209180374 between 2019 and 2020\n"
     ]
    }
   ],
   "source": [
    "# Getting the increase\n",
    "sum_increase =  sum_2020 - sum_2019\n",
    "\n",
    "# Getting the %\n",
    "sum_percent = (sum_increase/sum_2019)*100\n",
    "\n",
    "print('An increase of: {} between 2019 and 2020'.format(sum_percent))"
   ]
  },
  {
   "cell_type": "markdown",
   "id": "9b82f839-9b76-4b1c-bf5f-6edbf8aea42b",
   "metadata": {
    "tags": []
   },
   "source": [
    "<br>"
   ]
  },
  {
   "cell_type": "markdown",
   "id": "2b0ae9b8-cce7-42c5-8d71-73e6fdcaee6f",
   "metadata": {
    "tags": []
   },
   "source": [
    "<br>"
   ]
  },
  {
   "cell_type": "code",
   "execution_count": 131,
   "id": "bf7a2ed1-023d-45d1-aa3a-81e2d5fcdc98",
   "metadata": {},
   "outputs": [
    {
     "name": "stdout",
     "output_type": "stream",
     "text": [
      "An increase of: 14.051433086703542 between 2019 and 2021\n"
     ]
    }
   ],
   "source": [
    "# Getting the increase\n",
    "sum_increase =  sum_2021 - sum_2019\n",
    "\n",
    "# Getting the %\n",
    "sum_percent = (sum_increase/sum_2019)*100\n",
    "\n",
    "print('An increase of: {} between 2019 and 2021'.format(sum_percent))"
   ]
  },
  {
   "cell_type": "markdown",
   "id": "bd187737-35fd-423b-b76b-88cdf8c73e29",
   "metadata": {
    "tags": []
   },
   "source": [
    "<br>"
   ]
  },
  {
   "cell_type": "markdown",
   "id": "21490cc8-9234-4ac9-9412-d76b74f0d93d",
   "metadata": {
    "tags": []
   },
   "source": [
    "<br>"
   ]
  },
  {
   "cell_type": "code",
   "execution_count": 132,
   "id": "0fd68df7-3b84-418a-a812-703a7acf1b8b",
   "metadata": {},
   "outputs": [
    {
     "name": "stdout",
     "output_type": "stream",
     "text": [
      "An increase of: -1.9429707813262351 between 2020 and 2021\n"
     ]
    }
   ],
   "source": [
    "# Getting the increase\n",
    "sum_increase =  sum_2021 - sum_2020\n",
    "\n",
    "# Getting the %\n",
    "sum_percent = (sum_increase/sum_2020)*100\n",
    "\n",
    "print('An increase of: {} between 2020 and 2021'.format(sum_percent))"
   ]
  },
  {
   "cell_type": "markdown",
   "id": "1b66e61e-2c94-405e-92ab-9b54701eb1ef",
   "metadata": {},
   "source": [
    "<br>"
   ]
  },
  {
   "cell_type": "markdown",
   "id": "8aa3b4a0-4fd3-44b5-880e-9ebf38234cb7",
   "metadata": {},
   "source": [
    "<br>"
   ]
  },
  {
   "cell_type": "markdown",
   "id": "dcf7d642-286d-45b6-a386-07d9ed6bff74",
   "metadata": {},
   "source": [
    "I'm not totally confident in these numbers, as I think we have to take into account that 2020 offered more courses than both 2019 and 2021 and this would make the points sum greater. I think this needs to be taken into consideration. I'm going to try another method of checking if points have risen between courses. "
   ]
  },
  {
   "cell_type": "markdown",
   "id": "b0740848-7b89-4fbc-8d04-ed371fba55cc",
   "metadata": {},
   "source": [
    "<br>"
   ]
  },
  {
   "cell_type": "markdown",
   "id": "0d64454a-aefc-44c6-b211-eeef1bfc6960",
   "metadata": {},
   "source": [
    "Using the `.gt()` function we can return whether a value in one column is greater than a value in another column [22].  We have to specify which columns we want to compare using `.iloc[]`"
   ]
  },
  {
   "cell_type": "markdown",
   "id": "743e64e2-1ef4-44da-903a-d5754330bd8c",
   "metadata": {},
   "source": [
    "<br>"
   ]
  },
  {
   "cell_type": "code",
   "execution_count": 133,
   "id": "69cee5ec-e112-4b2f-87f3-392d9df9bf90",
   "metadata": {},
   "outputs": [
    {
     "data": {
      "text/plain": [
       "code\n",
       "AL801    False\n",
       "AL802    False\n",
       "AL803     True\n",
       "AL805    False\n",
       "AL810     True\n",
       "         ...  \n",
       "SG403    False\n",
       "SG432    False\n",
       "TL712    False\n",
       "TL719    False\n",
       "TL746    False\n",
       "Length: 1766, dtype: bool"
      ]
     },
     "execution_count": 133,
     "metadata": {},
     "output_type": "execute_result"
    }
   ],
   "source": [
    "# Checking  2020 against 2021\n",
    "course_diff = allcourses.iloc[:,2].gt(allcourses.iloc[:,4],axis = 0)\n",
    "course_diff"
   ]
  },
  {
   "cell_type": "markdown",
   "id": "def766ea-803c-42a1-92a7-fea5c8de214c",
   "metadata": {
    "tags": []
   },
   "source": [
    "<br>"
   ]
  },
  {
   "cell_type": "markdown",
   "id": "9089d3a8-b859-4e28-bbdd-94a14adc84ea",
   "metadata": {
    "tags": []
   },
   "source": [
    "<br>"
   ]
  },
  {
   "cell_type": "code",
   "execution_count": 134,
   "id": "001c8bf4-5aa8-4d0b-866c-80d790f00df6",
   "metadata": {},
   "outputs": [
    {
     "data": {
      "text/plain": [
       "True"
      ]
     },
     "execution_count": 134,
     "metadata": {},
     "output_type": "execute_result"
    }
   ],
   "source": [
    "# Checking a random row\n",
    "course_diff.iloc[200]"
   ]
  },
  {
   "cell_type": "markdown",
   "id": "6ab3618f-2f72-431d-b75d-8e9385a59147",
   "metadata": {
    "tags": []
   },
   "source": [
    "<br>"
   ]
  },
  {
   "cell_type": "markdown",
   "id": "06ea44dd-f019-42f8-a4bb-659cbaf619c5",
   "metadata": {},
   "source": [
    "Let's check the total "
   ]
  },
  {
   "cell_type": "markdown",
   "id": "218b2c8e-2506-437d-ae59-afb30e32336c",
   "metadata": {
    "tags": []
   },
   "source": [
    "<br>"
   ]
  },
  {
   "cell_type": "code",
   "execution_count": 135,
   "id": "4971bf26-141c-4da1-bd89-8f370172ab4f",
   "metadata": {},
   "outputs": [
    {
     "data": {
      "text/plain": [
       "False    921\n",
       "True     845\n",
       "dtype: int64"
      ]
     },
     "execution_count": 135,
     "metadata": {},
     "output_type": "execute_result"
    }
   ],
   "source": [
    "# How many courses increased points (True) Vs didn't (False)\n",
    "diff_count = course_diff.value_counts()\n",
    "diff_count"
   ]
  },
  {
   "cell_type": "markdown",
   "id": "07fdbb39-13a1-4bfc-af5f-8f17799ba6d3",
   "metadata": {
    "tags": []
   },
   "source": [
    "<br>"
   ]
  },
  {
   "cell_type": "markdown",
   "id": "68cd9c46-3b5a-46ca-9c92-f2b9c543cd11",
   "metadata": {
    "tags": []
   },
   "source": [
    "<br>"
   ]
  },
  {
   "cell_type": "code",
   "execution_count": 136,
   "id": "1cf7f8ae-ffe2-4b47-b948-ec248b075deb",
   "metadata": {},
   "outputs": [
    {
     "data": {
      "text/plain": [
       "<matplotlib.patches.Circle at 0x2c52ba0cf40>"
      ]
     },
     "execution_count": 136,
     "metadata": {},
     "output_type": "execute_result"
    },
    {
     "data": {
      "image/png": "[encoded data removed]",
      "text/plain": [
       "<Figure size 1080x720 with 1 Axes>"
      ]
     },
     "metadata": {},
     "output_type": "display_data"
    }
   ],
   "source": [
    "# Setting Labels\n",
    "diff_count_labels = ['# of courses WITH a points increase', '# of courses with NO points increase']\n",
    "\n",
    "# Generating a piechart\n",
    "plt.pie(diff_count, labels=diff_count_labels, autopct='%1.1f%%') # Data, lables, colours, %\n",
    "\n",
    "# Adding a title\n",
    "plt.title(\"% Of Courses With A Points in 2021 Vs 2020\")\n",
    "\n",
    "# Adding a circle at the center to make it a donut chart\n",
    "my_circle=plt.Circle( (0,0), 0.8, color='white')\n",
    "\n",
    "# Current figure\n",
    "p=plt.gcf()\n",
    "p.gca().add_artist(my_circle)"
   ]
  },
  {
   "cell_type": "markdown",
   "id": "dcaf1e44-1258-4ff7-ab07-1ab9b2a9f958",
   "metadata": {},
   "source": [
    "<br>"
   ]
  },
  {
   "cell_type": "markdown",
   "id": "5a7a39df-6505-46da-a33b-f1135ea5b0f9",
   "metadata": {},
   "source": [
    "<br>"
   ]
  },
  {
   "cell_type": "markdown",
   "id": "072c2126-19c5-4e2c-8981-089bb3949f44",
   "metadata": {},
   "source": [
    "We can see that 52.2% of courses offered in 2021 increased in points over courses in 2020."
   ]
  },
  {
   "cell_type": "markdown",
   "id": "fbda16d4-3dbf-4520-8347-23fc524ddfe5",
   "metadata": {},
   "source": [
    "<br>"
   ]
  },
  {
   "cell_type": "code",
   "execution_count": 253,
   "id": "23a6da1a-c327-4174-ba13-1c071b401c93",
   "metadata": {},
   "outputs": [
    {
     "name": "stdout",
     "output_type": "stream",
     "text": [
      "2021 points skewness: 0.844959\n",
      "2021 points kurtosis: 1.103898\n",
      "******************************\n",
      "2020 points skewness: 1.134000\n",
      "2020 points kurtosis: 2.156431\n",
      "******************************\n",
      "2019 points skewness: 1.217851\n",
      "2019 points kurtosis: 2.656230\n"
     ]
    }
   ],
   "source": [
    "# Getting skew and kurtosis for 2021 points\n",
    "print(\"2021 points skewness: %f\" % allcourses['points_r1_2021'].skew())\n",
    "print(\"2021 points kurtosis: %f\" % allcourses['points_r1_2021'].kurt())\n",
    "\n",
    "# Formatting\n",
    "print('******************************')\n",
    "\n",
    "# Getting skew and kurtosis for 2020 points\n",
    "print(\"2020 points skewness: %f\" % allcourses['points_r1_2020'].skew())\n",
    "print(\"2020 points kurtosis: %f\" % allcourses['points_r1_2020'].kurt())\n",
    "\n",
    "# Formatting\n",
    "print('******************************')\n",
    "\n",
    "# Getting skew and kurtosis for 2019 points\n",
    "print(\"2019 points skewness: %f\" % allcourses['points_r1_2019'].skew())\n",
    "print(\"2019 points kurtosis: %f\" % allcourses['points_r1_2019'].kurt())"
   ]
  },
  {
   "cell_type": "code",
   "execution_count": null,
   "id": "43d775ce-f7d0-4e95-862f-b49841b5483e",
   "metadata": {},
   "outputs": [],
   "source": [
    "# plot the four datasets on the same graph\n",
    "sns.lmplot('x', 'y', data=df, fit_reg=False, hue='dataset')"
   ]
  },
  {
   "cell_type": "markdown",
   "id": "54ab3fc6-aa69-4cf4-9c27-b3024e6a1e60",
   "metadata": {},
   "source": [
    "<br>"
   ]
  },
  {
   "cell_type": "markdown",
   "id": "7459a9a5-4496-4394-a7ff-4b12bbea846e",
   "metadata": {},
   "source": [
    "***\n",
    "## Conculsion\n",
    "***\n"
   ]
  },
  {
   "cell_type": "markdown",
   "id": "975ea71c-b43d-4f40-bfe0-8d5e06283020",
   "metadata": {},
   "source": [
    "<br>"
   ]
  },
  {
   "cell_type": "markdown",
   "id": "607e4ee2-3f45-4f63-8f4f-696b13fae8a9",
   "metadata": {},
   "source": [
    "- `Pandas` is an extremely robust and powerful software for analysing and manipulating data. \n",
    "- We can say that the introduction of accredited grades has led to an inflation in CAO entry point requirements. \n",
    "- The big rise in 2020 seems to have pushed points up across the board with courses now compensating for the inflation by increasing their points entry requirements.\n",
    "- 52.2% of 2021's course point requirements were increased from 2020.\n",
    "- Out of the three years, 2020 had the most courses on offer for candidates.\n",
    "- For all years, the majority of courses required within the region of 300-375 points.\n",
    "- Three of the top 15 courses in 2019, were not offered in 2021.\n",
    "- The data for all years can be skewed by courses requiring additionally entry requirements e.g., Medicine being 50 points but outside of the CAO needed a GAMSAT or other courses needed an interview, audition or portfolio which added to their totals and pushed points beyond 625 - which is the highest a student can achieve from a leaving cert exam alone.\n",
    "- The top courses in 2020 ran over multiple years.\n",
    "- The top 4 courses in 2020 and 2021 stayed the same.\n",
    "- There was a point rise across the board in 2020. \n",
    "- The “mid-level” courses had a substantial increase, just under double the amount of courses requiring 350+ points.\n",
    "- In 2021, the number of courses requiring 500+ points is over double from 2029."
   ]
  },
  {
   "cell_type": "markdown",
   "id": "d93e2814-10c7-460b-919b-6896de7c3b6a",
   "metadata": {},
   "source": [
    "<br>"
   ]
  },
  {
   "cell_type": "markdown",
   "id": "94212084-635c-45a3-a1a7-0b27f7720e90",
   "metadata": {},
   "source": [
    "<br>"
   ]
  },
  {
   "cell_type": "markdown",
   "id": "004236b0-90a7-4b88-9d92-0dbe3ea91072",
   "metadata": {},
   "source": [
    "***\n",
    "\n",
    "## References\n",
    "\n",
    "***"
   ]
  },
  {
   "cell_type": "markdown",
   "id": "ff9cc6e1-9f4d-4ec1-9da6-29a1af9bd616",
   "metadata": {},
   "source": [
    "<br>"
   ]
  },
  {
   "cell_type": "markdown",
   "id": "7623a120-5e8c-48e6-921d-862fea1fcffe",
   "metadata": {},
   "source": [
    "[1].\tCollege application and entrance requirements [Internet]. Citizensinformation.ie. [cited 2021 Dec 2]. Available from: https://www.citizensinformation.ie/en/education/third_level_education/applying_to_college/application_procedures_and_entry_requirements.html\n",
    " \t \n",
    "[2]\tCAO Handbook 2022 [Internet]. Proactive.ie. [cited 2021 Nov 7]. Available from: https://flipbook.proactive.ie/view/959938320/2/\n",
    " \t \n",
    "[3]\tWikipedia contributors. Central Applications Office [Internet]. Wikipedia, The Free Encyclopedia. 2021 [cited 2021 Dec 2]. Available from: https://en.wikipedia.org/w/index.php?title=Central_Applications_Office&oldid=1031228739\n",
    " \t \n",
    "[4]\tPython Requests Module [Internet]. W3schools.com. [cited 2021 Dec 2]. Available from: https://www.w3schools.com/python/module_requests.asp\n",
    " \t \n",
    "[5]\tWikipedia contributors. Regular expression [Internet]. Wikipedia, The Free Encyclopedia. 2021 [cited 2021 Dec 2]. Available from: https://en.wikipedia.org/w/index.php?title=Regular_expression&oldid=1057425717\n",
    " \t \n",
    "[6]\tPython Urllib Module [Internet]. Geeksforgeeks.org. 2018 [cited 2021 Dec 3]. Available from: https://www.geeksforgeeks.org/python-urllib-module/\n",
    " \t \n",
    "[7] \tHow to use urlretrieve in Python 3 [Internet]. Programmer.ink. [cited 2021 Dec 3]. Available from: https://programmer.ink/think/how-to-use-urlretrieve-in-python-3.html\n",
    " \t \n",
    "[8] \tUnzipping files in Python [Internet]. Stackoverflow.com. [cited 2021 Dec 3]. Available from: https://stackoverflow.com/questions/3451111/unzipping-files-in-python\n",
    " \t \n",
    "[9]\tBoyle T. The Python Glob Module [Internet]. Towards Data Science. 2021 [cited 2021 Dec 3]. Available from: https://towardsdatascience.com/the-python-glob-module-47d82f4cbd2d\n",
    " \t \n",
    "[10]\tCombining DataFrames with pandas – data analysis and visualization in python for ecologists [Internet]. Datacarpentry.org. [cited 2021 Dec 6]. Available from: https://datacarpentry.org/python-ecology-lesson/05-merging-data/\n",
    " \t \n",
    "[11]\tWhat does inplace mean in Pandas? [Internet]. Geeksforgeeks.org. 2020 [cited 2021 Dec 6]. Available from: https://www.geeksforgeeks.org/what-does-inplace-mean-in-pandas/\n",
    " \t \n",
    "[12]\tSharma M. Pandas Index Explained [Internet]. Towards Data Science. 2019 [cited 2021 Dec 6]. Available from: https://towardsdatascience.com/pandas-index-explained-b131beaf6f7b\n",
    " \t \n",
    "[13].\tPython R. Combining Data in Pandas With merge(), .join(), and concat() [Internet]. Realpython.com. Real Python; 2020 [cited 2021 Dec 6]. Available from: https://realpython.com/pandas-merge-join-and-concat/\n",
    " \t \n",
    "[14]\tLee W-M. Joining Pandas DataFrames [Internet]. Towards Data Science. 2021 [cited 2021 Dec 6]. Available from: https://towardsdatascience.com/joining-pandas-dataframes-472e4a045bac\n",
    " \t \n",
    "[15]\tWikipedia contributors. Leaving Certificate (Ireland) [Internet]. Wikipedia, The Free Encyclopedia. 2021 [cited 2021 Dec 8]. Available from: https://en.wikipedia.org/w/index.php?title=Leaving_Certificate_(Ireland)&oldid=1056259798\n",
    " \t \n",
    "[16]\tLibreri S. Leaving Cert portal deadline extended as 98% register [Internet]. RTÉ. 2020 [cited 2021 Dec 8]. Available from: https://www.rte.ie/news/education/2020/0528/1143237-leaving-cert/\n",
    " \t \n",
    "[17]\tIndependent. ie Newsdesk. Leaving Cert Results: How 2021 grades compare to previous years – and a reminder of the 2020 CAO points. Irish independent [Internet]. 2021 Sep 3 [cited 2021 Dec 8]; Available from: https://www.independent.ie/irish-news/education/leaving-cert-how-2021-grades-compare-to-previous-years-and-a-reminder-of-the-2020-cao-points-40814264.html\n",
    " \t \n",
    "[18]\tseaborn.kdeplot — seaborn 0.11.2 documentation [Internet]. Pydata.org. [cited 2021 Dec 8]. Available from: https://seaborn.pydata.org/generated/seaborn.kdeplot.html\n",
    " \t \n",
    "[19]\tajaytech. KDE plots - Ajay tech [Internet]. Ajaytech.co. 2020 [cited 2021 Dec 8]. Available from: https://ajaytech.co/2020/05/03/kdeplots/\n",
    " \t \n",
    "[20]\tseaborn.pairplot — seaborn 0.11.2 documentation [Internet]. Pydata.org. [cited 2021 Dec 9]. Available from: https://seaborn.pydata.org/generated/seaborn.pairplot.html\n",
    " \t \n",
    "[21]\tPython [Internet]. Geeksforgeeks.org. 2018 [cited 2021 Dec 10]. Available from: https://www.geeksforgeeks.org/python-pandas-dataframe-sort_values-set-1/\n",
    " \t \n",
    "[22]\tpandas.DataFrame.ge — pandas 1.3.5 documentation [Internet]. Pydata.org. [cited 2021 Dec 13]. Available from: https://pandas.pydata.org/docs/reference/api/pandas.DataFrame.ge.html\n",
    " \t \n",
    "[23]\tPython R. Plot with pandas: Python data visualization for beginners [Internet]. Realpython.com. Real Python; 2020 [cited 2021 Dec 14]. Available from: https://realpython.com/pandas-plot-python/\n",
    " \t \n",
    "[24]\tPython [Internet]. Geeksforgeeks.org. 2018 [cited 2021 Dec 14]. Available from: https://www.geeksforgeeks.org/python-pandas-dataframe-groupby/\n",
    " \t \n",
    "[34] gamsatpreparationcoursesireland. Ireland’s Medical schools: GAMSAT scores, cuttoffs and GPAs [Internet]. Gamsatpreparationcoursesireland.ie. [cited 2021 Dec 29]. Available from: https://www.gamsatpreparationcoursesireland.ie/gamsat-ireland-irishmedicalschools/"
   ]
  },
  {
   "cell_type": "markdown",
   "id": "2b59e994-590f-44a9-b57e-7dfe3e424cbc",
   "metadata": {},
   "source": [
    "<br>"
   ]
  },
  {
   "cell_type": "markdown",
   "id": "7f29048f-d8a6-4186-9723-bb64ca33cc26",
   "metadata": {},
   "source": [
    "#### Other References Used (Code Solution Help)\n"
   ]
  },
  {
   "cell_type": "markdown",
   "id": "2aa39575-b57d-43a6-a51c-42abcd916bc5",
   "metadata": {},
   "source": [
    "<br>"
   ]
  },
  {
   "cell_type": "markdown",
   "id": "f35bd0b8-2247-40fe-b3e7-a4a74fea3ef3",
   "metadata": {},
   "source": [
    "\n",
    "[25] \tFix OSError: Unable to locate Ghostscript on paths for Python Beginners - Python Tutorial [Internet]. Tutorial Example. 2019 [cited 2021 Dec 16]. Available from: https://www.tutorialexample.com/fix-oserror-unable-to-locate-ghostscript-on-paths-for-python-beginners-python-tutorial/\n",
    " \t \n",
    "[26] \tDu F. Extract tabular data from PDF with Camelot Using Python [Internet]. Youtube; 2019 [cited 2021 Dec 16]. Available from: https://www.youtube.com/watch?v=LoiHI-IB3lY\n",
    " \t \n",
    "[27] \tHow to move a column to first position in pandas DataFrame? [Internet]. GeeksforGeeks. 2021 [cited 2021 Dec 16]. Available from: https://www.geeksforgeeks.org/how-to-move-a-column-to-first-position-in-pandas-dataframe/\n",
    " \t \n",
    "[28]\tHow to remove special characers from a column of dataframe using module re? [Internet]. Stack Overflow. [cited 2021 Dec 16]. Available from: https://stackoverflow.com/questions/33257344/how-to-remove-special-characers-from-a-column-of-dataframe-using-module-re\n",
    " \t \n",
    "[29]\tPandas: To_numeric for multiple columns [Internet]. Stack Overflow. [cited 2021 Dec 16]. Available from: https://stackoverflow.com/questions/36814100/pandas-to-numeric-for-multiple-columns\n",
    " \t \n",
    "[30]\tPandas: change data type of Series to String [Internet]. Stack Overflow. [cited 2021 Dec 16]. Available from: https://stackoverflow.com/questions/22231592/pandas-change-data-type-of-series-to-string\n",
    " \t \n",
    "[31]\tRegex symbol list and regex examples [Internet]. Codexpedia.com. [cited 2021 Dec 16]. Available from: https://www.codexpedia.com/regex/regex-symbol-list-and-regex-examples/\n",
    " \t \n",
    "[32]\tJupyterLab Notebook cells going missing [Internet]. Stack Overflow. [cited 2021 Dec 16]. Available from: https://stackoverflow.com/questions/68994024/jupyterlab-notebook-cells-going-missing\n",
    " \t \n",
    "[33]\tHow to select rows in Pandas dataframe based on string matching in multiple columns [Internet]. Stack Overflow. [cited 2021 Dec 16]. Available from: https://stackoverflow.com/questions/58559581/how-to-select-rows-in-pandas-dataframe-based-on-string-matching-in-multiple-colu\n",
    " \t \n"
   ]
  },
  {
   "cell_type": "markdown",
   "id": "78096c17-ce1b-4f27-9d2b-5ffa5cd0f4fe",
   "metadata": {},
   "source": [
    "<br>"
   ]
  },
  {
   "cell_type": "markdown",
   "id": "c21970ac-38d1-47b7-badc-410df2a66888",
   "metadata": {},
   "source": [
    "### Images\n",
    "\n",
    "- [README Header](https://agile.com.np/wp-content/uploads/2020/12/data-analytics-image-big-data.jpg)\n",
    "- [CAO Logo](https://www.icareer.ie/wp-content/uploads/2016/12/Untitled-1.jpg)\n",
    "- [Points](https://www.irishtimes.com/polopoly_fs/1.3596890!/image/image.jpg)\n",
    "- [Concat](https://pandas.pydata.org/pandas-docs/stable/_images/merging_concat_basic.png)\n",
    "- [Join](https://www.datasciencemadesimple.com/wp-content/uploads/2017/09/join-or-merge-in-python-pandas-1.png?ezimgfmt=ng:webp/ngcb1)\n",
    "- [Covid](https://www.bswrehab.com/-/media/project/baylorrehab/dotcom/usa/images/about-us/in-the-news/covid19visitationpolicy.jpg?h=256&iar=0&w=256&t=20200926000839&hash=B45A283413C03E8AFECD850719453F0F)"
   ]
  },
  {
   "cell_type": "markdown",
   "id": "1d849585-771a-4945-936f-6bb3d5b8f454",
   "metadata": {},
   "source": [
    "<br>"
   ]
  },
  {
   "cell_type": "markdown",
   "id": "eef4ba22-2751-46b1-895c-51a803c3d05c",
   "metadata": {},
   "source": [
    "***"
   ]
  },
  {
   "cell_type": "markdown",
   "id": "451b052e-cf14-4a22-956b-527aa3e29106",
   "metadata": {},
   "source": [
    "<br>"
   ]
  },
  {
   "cell_type": "markdown",
   "id": "04e20723-e2aa-4bdb-b20f-35438621d47b",
   "metadata": {
    "tags": []
   },
   "source": [
    "# End"
   ]
  }
 ],
 "metadata": {
  "kernelspec": {
   "display_name": "Python 3 (ipykernel)",
   "language": "python",
   "name": "python3"
  },
  "language_info": {
   "codemirror_mode": {
    "name": "ipython",
    "version": 3
   },
   "file_extension": ".py",
   "mimetype": "text/x-python",
   "name": "python",
   "nbconvert_exporter": "python",
   "pygments_lexer": "ipython3",
   "version": "3.8.11"
  }
 },
 "nbformat": 4,
 "nbformat_minor": 5
}
