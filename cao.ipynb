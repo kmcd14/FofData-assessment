{
 "cells": [
  {
   "cell_type": "markdown",
   "id": "2c0078d9-c75c-4670-be55-be4a97fe7a97",
   "metadata": {},
   "source": [
    "***\n",
    "# Fundamentals of Data Analytics Assessment - CAO Points Analysis\n",
    "\n",
    "***"
   ]
  },
  {
   "cell_type": "markdown",
   "id": "02294eb2-979e-4976-a498-476091a41d1c",
   "metadata": {},
   "source": [
    "<br>"
   ]
  },
  {
   "cell_type": "markdown",
   "id": "d63554fa-55df-4b77-a008-c68aafa8e1ab",
   "metadata": {},
   "source": [
    "<br>"
   ]
  },
  {
   "cell_type": "markdown",
   "id": "bad35837-a52c-4257-acea-af0c8d52ddf7",
   "metadata": {},
   "source": [
    "![img](images/cao_logo.png)"
   ]
  },
  {
   "cell_type": "markdown",
   "id": "37ffe398-fc0f-4b0c-9395-cb1ef9f5fb60",
   "metadata": {},
   "source": [
    "<br>"
   ]
  },
  {
   "cell_type": "markdown",
   "id": "6eea91ab-a2ce-4cd5-bde8-31324275b29f",
   "metadata": {},
   "source": [
    "<br>"
   ]
  },
  {
   "cell_type": "markdown",
   "id": "5be800b5-254a-420f-9dfd-d8b2fdf7694d",
   "metadata": {},
   "source": [
    "Students who wish to study at third level in the Republic of Ireland apply to colleges and universities through the Central Applications Office (CAO) [1]. \"The purpose of the Central Applications Office (CAO) is to process centrally applications for undergraduate courses in Irish Higher Education Institutions\" [2].\n",
    " \n",
    "“The CAO awards points to students based on their achievements in the Leaving Certificate examination. A student's points are calculated according to these tables (see below), counting their best six subjects only” [3]. A student can study a subject at higher or ordinary level - more points are awarded for higher level papers. Since 2012, the maximum number of points a student can receive is 625 points [3].\n",
    "\n"
   ]
  },
  {
   "cell_type": "markdown",
   "id": "ef2fc72d-de2e-4f2a-8f4f-35bf4d44f3ca",
   "metadata": {},
   "source": [
    "<br>"
   ]
  },
  {
   "cell_type": "markdown",
   "id": "e4bab817-3790-4c98-b7f3-3d58823b329d",
   "metadata": {},
   "source": [
    "<br>"
   ]
  },
  {
   "cell_type": "markdown",
   "id": "1df013cc-743b-40ae-b8eb-45f10665f9f4",
   "metadata": {},
   "source": [
    "![img](images/points.jpg)"
   ]
  },
  {
   "cell_type": "markdown",
   "id": "1069f164-1c49-455d-9d57-b733c2ee36b1",
   "metadata": {},
   "source": [
    "<br>"
   ]
  },
  {
   "cell_type": "markdown",
   "id": "72d612cf-7f62-4332-b08c-0ddf29369c30",
   "metadata": {},
   "source": [
    "The entry points needed for a course is dependent on demand. This means the points requirements for a course varies year on year.  "
   ]
  },
  {
   "cell_type": "markdown",
   "id": "6a64e0dd-615e-403f-8c60-cdc3bb5b6cc9",
   "metadata": {},
   "source": [
    "<br>"
   ]
  },
  {
   "cell_type": "markdown",
   "id": "aeb202ca-f80e-453f-85be-3ee71482e53a",
   "metadata": {},
   "source": [
    "This notebook will focus on comparing the CAO points for 2019, 2020 and 2021 and provide an overview of how to load the points from the CAO website into a pandas dataframe."
   ]
  },
  {
   "cell_type": "markdown",
   "id": "cb71cf6c-c7e8-4cdc-98ad-a89e58d6b309",
   "metadata": {},
   "source": [
    "<br>"
   ]
  },
  {
   "cell_type": "markdown",
   "id": "4e4ba9d5-d304-422b-b9f3-8ff9fc85daf5",
   "metadata": {},
   "source": [
    "***\n",
    "***"
   ]
  },
  {
   "cell_type": "markdown",
   "id": "d2fbf056-1af5-4117-9bc5-21b31d9491bb",
   "metadata": {},
   "source": [
    "<br>"
   ]
  },
  {
   "cell_type": "markdown",
   "id": "245a30cf-2681-4834-90e2-e1e60924a54b",
   "metadata": {
    "tags": []
   },
   "source": [
    "### Importing Libraries "
   ]
  },
  {
   "cell_type": "markdown",
   "id": "5e8fa903-bcca-4b9a-86a3-7f960e02c81c",
   "metadata": {},
   "source": [
    "<br>"
   ]
  },
  {
   "cell_type": "code",
   "execution_count": 1,
   "id": "3c7a5527-7104-4d1f-b55a-d8e73c8ff791",
   "metadata": {},
   "outputs": [],
   "source": [
    "# Convenient HTTP requests.\n",
    "import requests as rq\n",
    "\n",
    "# Regular expressions.\n",
    "import re\n",
    "\n",
    "# Dates and times.\n",
    "import datetime as dt\n",
    "\n",
    "# Data frames.\n",
    "import pandas as pd\n",
    "\n",
    "# Working with data\n",
    "import numpy as np\n",
    "\n",
    "# For downloading.\n",
    "import urllib.request as urlrq\n",
    "\n",
    "# For scraping data from pdf\n",
    "import camelot\n",
    "\n",
    "# Unzipping folders \n",
    "from zipfile import ZipFile\n",
    "\n",
    "# To merge csv files into one\n",
    "import os, glob\n",
    "\n",
    "# Common string operations\n",
    "import string as str"
   ]
  },
  {
   "cell_type": "markdown",
   "id": "9b33be11-d3f3-4f66-bc40-6ece30d25b41",
   "metadata": {},
   "source": [
    "<br>"
   ]
  },
  {
   "cell_type": "code",
   "execution_count": 2,
   "id": "6e0f32fe-c26c-4530-93ce-facefa26e33b",
   "metadata": {
    "tags": []
   },
   "outputs": [],
   "source": [
    "# Visualisation\n",
    "import matplotlib.pyplot as plt\n",
    "\n",
    "# Visualisation\n",
    "import seaborn as sns\n",
    "\n",
    "# Standard plot size.\n",
    "plt.rcParams['figure.figsize'] = (15, 10)\n",
    "\n",
    "# Selecting a colour scheme.\n",
    "plt.style.use('ggplot')\n",
    "\n",
    "# Configures matplotlib to show figures embedded in the notebook. \n",
    "%matplotlib inline"
   ]
  },
  {
   "cell_type": "markdown",
   "id": "b89f4df0-5c31-411e-be5d-d8b8c96b9e6e",
   "metadata": {},
   "source": [
    "<br>"
   ]
  },
  {
   "cell_type": "code",
   "execution_count": 3,
   "id": "395755db-d99d-4659-9050-02420fe1e734",
   "metadata": {},
   "outputs": [],
   "source": [
    "# Get the current date and time.\n",
    "now = dt.datetime.now()\n",
    "\n",
    "# Format as a string.\n",
    "nowstr = now.strftime('%Y%m%d_%H%M%S')"
   ]
  },
  {
   "cell_type": "markdown",
   "id": "ba5cf470-c57f-476b-a2e4-6644e029092c",
   "metadata": {},
   "source": [
    "<br>"
   ]
  },
  {
   "cell_type": "markdown",
   "id": "6240a63f-0fbe-4916-93db-7bfa63d8b64b",
   "metadata": {},
   "source": [
    "<br>"
   ]
  },
  {
   "cell_type": "markdown",
   "id": "840fc654-02a1-4f77-b94e-d7a6fc585cb8",
   "metadata": {},
   "source": [
    "***\n",
    "****"
   ]
  },
  {
   "cell_type": "markdown",
   "id": "6fb4b446-1db2-43f4-8501-b44e58f80670",
   "metadata": {},
   "source": [
    "<br>"
   ]
  },
  {
   "cell_type": "markdown",
   "id": "2aa5078d-8e64-4db6-a5e3-3db67e072754",
   "metadata": {
    "tags": []
   },
   "source": [
    "## 2021 CAO Points\n"
   ]
  },
  {
   "cell_type": "markdown",
   "id": "d4c6ded2-751a-4e24-a35d-5c69988f0ef9",
   "metadata": {},
   "source": [
    "<br>"
   ]
  },
  {
   "cell_type": "markdown",
   "id": "1cc0235a-1e4f-46b0-9fa3-8377dbd737c1",
   "metadata": {},
   "source": [
    "***"
   ]
  },
  {
   "cell_type": "markdown",
   "id": "27285d69-5edd-48c9-a4d3-a6bf41e19258",
   "metadata": {},
   "source": [
    "<br>"
   ]
  },
  {
   "cell_type": "markdown",
   "id": "1e73ef99-f889-4de6-997e-ae24e02beeda",
   "metadata": {
    "tags": []
   },
   "source": [
    "### Level 8  \n",
    "[Link to 2021 CAO points (Level 8)]('http://www2.cao.ie/points/l8.php')"
   ]
  },
  {
   "cell_type": "markdown",
   "id": "974f1721-c387-4266-b44a-81c3a45dda5f",
   "metadata": {},
   "source": [
    "<br>"
   ]
  },
  {
   "cell_type": "markdown",
   "id": "d6b2b713-f69f-4fae-824a-be4bb3d70b9e",
   "metadata": {},
   "source": [
    "<br>"
   ]
  },
  {
   "cell_type": "markdown",
   "id": "e0d124e8-c8f9-4ae8-b124-e59947fa3ea9",
   "metadata": {},
   "source": [
    "As the 2021 points are storedas a html file on the CAO website, we must make a request to the server the are stored on. We can easily do this by using the python requests package which makes HTTP requests easily and simple and \"human friendly\". \"The HTTP request returns a Response Object with all the response data (content, encoding, status, etc)\" [4]."
   ]
  },
  {
   "cell_type": "markdown",
   "id": "1fa31644-6478-4f0c-8642-e0b2618c557d",
   "metadata": {},
   "source": [
    "<br>"
   ]
  },
  {
   "cell_type": "markdown",
   "id": "166bd36a-0ef3-4abf-bf9b-88e3cb4b9aee",
   "metadata": {},
   "source": [
    "<br>"
   ]
  },
  {
   "cell_type": "markdown",
   "id": "a3d2866a-e216-4c54-8412-b7c36922e67c",
   "metadata": {},
   "source": [
    "#### Server Request"
   ]
  },
  {
   "cell_type": "markdown",
   "id": "ade64918-8be0-499c-b40a-b11d9b7c09f0",
   "metadata": {},
   "source": [
    "<br>"
   ]
  },
  {
   "cell_type": "code",
   "execution_count": 4,
   "id": "fdeaf161-a1e7-48cd-9150-3c5cadbf5dcc",
   "metadata": {},
   "outputs": [
    {
     "data": {
      "text/plain": [
       "<Response [200]>"
      ]
     },
     "execution_count": 4,
     "metadata": {},
     "output_type": "execute_result"
    }
   ],
   "source": [
    "# Get the CAO points URL\n",
    "resp = rq.get('http://www2.cao.ie/points/l8.php')\n",
    "\n",
    "# 200 = ok. 404 = error: not found\n",
    "resp"
   ]
  },
  {
   "cell_type": "markdown",
   "id": "fb9649f7-16b5-4c73-9ff9-175b4775357a",
   "metadata": {},
   "source": [
    "<br>"
   ]
  },
  {
   "cell_type": "markdown",
   "id": "4cd80dc0-381a-4b99-9353-96ff01a9b338",
   "metadata": {},
   "source": [
    "<br>"
   ]
  },
  {
   "cell_type": "markdown",
   "id": "c3621bc2-7982-480a-a702-2da6b4774b55",
   "metadata": {},
   "source": [
    "#### Save Orignal Dataset\n"
   ]
  },
  {
   "cell_type": "markdown",
   "id": "58e28297-ccd7-419a-a6d6-ab68d3c0e543",
   "metadata": {},
   "source": [
    "<br>"
   ]
  },
  {
   "cell_type": "markdown",
   "id": "07de229f-7ba3-43ad-a2ce-56996874e569",
   "metadata": {},
   "source": [
    "To save the orignal HTML file from the request we need to create a path in our repository. Using the datetime module we can convert the response request date to the day the request was made. "
   ]
  },
  {
   "cell_type": "markdown",
   "id": "51c5751c-3804-46b3-bfaf-3c2cf397b331",
   "metadata": {},
   "source": [
    "<br>"
   ]
  },
  {
   "cell_type": "code",
   "execution_count": 5,
   "id": "996fea51-ab05-498d-a2bd-837027f3d767",
   "metadata": {},
   "outputs": [],
   "source": [
    "# Create a file path for the original data.\n",
    "pathhtml = 'datasets/cao2021_' + nowstr + '.html'"
   ]
  },
  {
   "cell_type": "markdown",
   "id": "cf6ebf8d-6a79-4307-a7f7-911dfa56863f",
   "metadata": {},
   "source": [
    "<br>"
   ]
  },
  {
   "cell_type": "markdown",
   "id": "e9ed88f8-b296-4916-b481-872d43de0060",
   "metadata": {},
   "source": [
    "<br>"
   ]
  },
  {
   "cell_type": "markdown",
   "id": "5cdf71c8-b429-4f1f-9621-3643190e652d",
   "metadata": {
    "tags": []
   },
   "source": [
    "### Webserver Error\n"
   ]
  },
  {
   "cell_type": "markdown",
   "id": "df377b24-31f0-423d-a081-9ad8b8493425",
   "metadata": {},
   "source": [
    "<br>"
   ]
  },
  {
   "cell_type": "markdown",
   "id": "6edeba3b-bfc1-4a4b-9be5-8058c6931ace",
   "metadata": {},
   "source": [
    "The CAO website throws an error - it tells us to decode in iso-8859-1 but, this isn't possible as some of the lines inculdes \\x96 - a fada - which isn't recongised in iso-8859-1. To combat this we use tje decoding standard cp1252 which inculdes \\x96 which allows the fada to be understood. "
   ]
  },
  {
   "cell_type": "markdown",
   "id": "91acdea8-8c39-4e60-b861-b631b0e6f90c",
   "metadata": {},
   "source": [
    "<br>"
   ]
  },
  {
   "cell_type": "markdown",
   "id": "4eec4f37-ae3a-4c08-b82d-d6b27b2d5dcb",
   "metadata": {
    "tags": []
   },
   "source": [
    "Webserver error - server says decode as:\n",
    "\n",
    "    Content-Type: text/html; charset=iso-8859-1\n",
    "However, one line uses \\x96 which isn't defined in iso-8859-1. \n",
    "\n",
    "Therefore, a similar decoding standard cp1252 was used. It is similar but inculdes #\\x96"
   ]
  },
  {
   "cell_type": "markdown",
   "id": "5bedcd32-d8a4-4875-9838-1a68fdb8cbbb",
   "metadata": {},
   "source": [
    "<br>"
   ]
  },
  {
   "cell_type": "markdown",
   "id": "6f914425-bd48-4f60-b408-b0ea9265c756",
   "metadata": {},
   "source": [
    "<br>"
   ]
  },
  {
   "cell_type": "code",
   "execution_count": 6,
   "id": "3ed4cd4a-fe33-44d4-af33-6ad0db290c37",
   "metadata": {},
   "outputs": [],
   "source": [
    "# Fixing the webserves wrong encoding\n",
    "original_encoding = resp.encoding\n",
    "\n",
    "# Changing to cp1252\n",
    "resp.encoding = 'cp1252'"
   ]
  },
  {
   "cell_type": "markdown",
   "id": "c9a538ec-57bf-4a23-9257-ecab6226bb8a",
   "metadata": {},
   "source": [
    "<br>"
   ]
  },
  {
   "cell_type": "code",
   "execution_count": 7,
   "id": "9e13c1cb-bc41-4cf2-b27e-f5963ba7fa89",
   "metadata": {
    "tags": []
   },
   "outputs": [],
   "source": [
    "# Save the original html file.\n",
    "with open(pathhtml, 'w') as f: # Opening path in write mode\n",
    "    f.write(resp.text)"
   ]
  },
  {
   "cell_type": "markdown",
   "id": "d15e34bd-881b-40e5-93d5-94102983d4d2",
   "metadata": {},
   "source": [
    "<br>"
   ]
  },
  {
   "cell_type": "markdown",
   "id": "2213eddf-fe90-4f3d-957b-9bc3e8f3a37f",
   "metadata": {},
   "source": [
    "<br>"
   ]
  },
  {
   "cell_type": "markdown",
   "id": "d453fb67-90fd-4b9a-b270-7df035d6ec2d",
   "metadata": {},
   "source": [
    "<br>"
   ]
  },
  {
   "cell_type": "markdown",
   "id": "b1a18f57-b106-4840-ab14-7770b0a7d95b",
   "metadata": {
    "tags": []
   },
   "source": [
    "### Getting The Data\n"
   ]
  },
  {
   "cell_type": "markdown",
   "id": "7da576ae-2c98-49e9-82cf-ec37b965a297",
   "metadata": {},
   "source": [
    "[Link To Regular Expression Documentation]('https://docs.python.org/3/library/re.html')"
   ]
  },
  {
   "cell_type": "markdown",
   "id": "429662e9-3764-47e7-8b94-9d7c9f8c19a0",
   "metadata": {},
   "source": [
    "<br>"
   ]
  },
  {
   "cell_type": "markdown",
   "id": "82d772ba-5ab3-4aba-aa8f-304c2b9091f3",
   "metadata": {},
   "source": [
    "To get the relevant lines from the response request, we employ a regular expression. A regualr expression \"...is a sequence of characters that specifies a search pattern\" [5]. You can think of them as as a search and find function. We use a regular expression as it  more efficent than constantly recalling an expression over and over."
   ]
  },
  {
   "cell_type": "markdown",
   "id": "dfa0d8ba-41e9-4cb2-947e-c53b912b6069",
   "metadata": {},
   "source": [
    "<br>"
   ]
  },
  {
   "cell_type": "code",
   "execution_count": 8,
   "id": "bbf9f96c-2bfb-4802-a503-c27dd6ee1e0a",
   "metadata": {},
   "outputs": [],
   "source": [
    "# Compile regular expression for matching lines.\n",
    "re_course = re.compile(r'([A-Z]{2}[0-9]{3})(.*)') # r for raw data"
   ]
  },
  {
   "cell_type": "markdown",
   "id": "7164c276-7e42-4917-9271-dd809da88b7e",
   "metadata": {},
   "source": [
    "<br>"
   ]
  },
  {
   "cell_type": "markdown",
   "id": "245cd976-acc6-4196-9385-c4487f610ead",
   "metadata": {},
   "source": [
    "<br>"
   ]
  },
  {
   "cell_type": "markdown",
   "id": "f1eb2df0-7ce6-4e9b-a495-793abca2a5ec",
   "metadata": {},
   "source": [
    "We will then use this expression to loop through the response from earlier for any matches of the regular expression and save these matches in a CSV file. "
   ]
  },
  {
   "cell_type": "markdown",
   "id": "f3e85b27-949d-44cf-8452-d5230f58b149",
   "metadata": {},
   "source": [
    "NB: verified as of 03/11/2021 that there were 949 courses on the CAO Level 8 2021 points list."
   ]
  },
  {
   "cell_type": "markdown",
   "id": "e4998823-be2e-44a6-a9d8-5ec6942c50b3",
   "metadata": {},
   "source": [
    "<br>"
   ]
  },
  {
   "cell_type": "markdown",
   "id": "8e6f2a8c-62b4-4973-a048-0644049e6c1e",
   "metadata": {},
   "source": [
    "<br>"
   ]
  },
  {
   "cell_type": "code",
   "execution_count": 9,
   "id": "f8899bd5-672c-4474-97a1-493d7fa9031f",
   "metadata": {},
   "outputs": [],
   "source": [
    "# Path to csv file\n",
    "path2021 = 'datasets/cao2021_csv_' + nowstr + '.csv'"
   ]
  },
  {
   "cell_type": "markdown",
   "id": "3188aa0b-17ef-404d-99a9-946076f21c75",
   "metadata": {},
   "source": [
    "<br>"
   ]
  },
  {
   "cell_type": "code",
   "execution_count": 10,
   "id": "06aa7072-68f2-4d2d-9dff-1c950b284e5c",
   "metadata": {},
   "outputs": [
    {
     "name": "stdout",
     "output_type": "stream",
     "text": [
      "Total number of lines is 949.\n"
     ]
    }
   ],
   "source": [
    "# Tracking number of courses matched\n",
    "no_lines = 0\n",
    "\n",
    "\n",
    "\n",
    "# Open the csv file for writing.\n",
    "with open(path2021, 'w') as f:\n",
    "    # Write a header row.\n",
    "    f.write(','.join(['code', 'title', 'pointsR1', 'pointsR2']) + '\\n')\n",
    "    # Loop through lines of the response.\n",
    "    for line in resp.iter_lines():\n",
    "        # Decode the line, using the wrong encoding!\n",
    "        dline = line.decode('cp1252')\n",
    "        # Match only the lines representing courses.\n",
    "        if re_course.fullmatch(dline):\n",
    "            # Add one to the lines counter.\n",
    "            no_lines = no_lines + 1\n",
    "            # The course code.\n",
    "            course_code = dline[:5] # i.e first 5 characters\n",
    "            # The course title.\n",
    "            course_title = dline[7:57].strip() # Strip gets rid of whitespace\n",
    "            # Round one points.\n",
    "            course_points = re.split(' +', dline[60:]) # split into substringd from index 60 \n",
    "            if len(course_points) != 2: # This is because last course has an extra substring\n",
    "                course_points = course_points[:2]\n",
    "            # Join the fields using a comma.\n",
    "            linesplit = [course_code, course_title, course_points[0], course_points[1]]\n",
    "            # Rejoin the substrings with commas in between.\n",
    "            f.write(','.join(linesplit) + '\\n')\n",
    "\n",
    "            \n",
    "            \n",
    "            \n",
    "            \n",
    "# Number of courses matched\n",
    "print(f\"Total number of lines is {no_lines}.\")"
   ]
  },
  {
   "cell_type": "markdown",
   "id": "c39f3281-2ae8-4ac1-b0dd-636e184f7897",
   "metadata": {},
   "source": [
    "<br>"
   ]
  },
  {
   "cell_type": "markdown",
   "id": "1216a7ae-d58e-442c-8bee-c3c9d65d69b0",
   "metadata": {},
   "source": [
    "<br>"
   ]
  },
  {
   "cell_type": "markdown",
   "id": "0e07b846-3906-4e6d-80d8-b7f8c3762160",
   "metadata": {},
   "source": [
    "<br>"
   ]
  },
  {
   "cell_type": "markdown",
   "id": "83cad955-40cf-4be2-bfae-368faa0eea59",
   "metadata": {},
   "source": [
    "<br>"
   ]
  },
  {
   "cell_type": "code",
   "execution_count": 11,
   "id": "bdf89fe4-174a-459a-b218-a56e63a72ff5",
   "metadata": {},
   "outputs": [],
   "source": [
    "# Reading dataframe\n",
    "df2021 = pd.read_csv(path2021, encoding='cp1252')"
   ]
  },
  {
   "cell_type": "code",
   "execution_count": 12,
   "id": "faeba46f-1781-4df2-8e88-4bdf0fb75ae5",
   "metadata": {},
   "outputs": [
    {
     "data": {
      "text/html": [
       "<div>\n",
       "<style scoped>\n",
       "    .dataframe tbody tr th:only-of-type {\n",
       "        vertical-align: middle;\n",
       "    }\n",
       "\n",
       "    .dataframe tbody tr th {\n",
       "        vertical-align: top;\n",
       "    }\n",
       "\n",
       "    .dataframe thead th {\n",
       "        text-align: right;\n",
       "    }\n",
       "</style>\n",
       "<table border=\"1\" class=\"dataframe\">\n",
       "  <thead>\n",
       "    <tr style=\"text-align: right;\">\n",
       "      <th></th>\n",
       "      <th>code</th>\n",
       "      <th>title</th>\n",
       "      <th>pointsR1</th>\n",
       "      <th>pointsR2</th>\n",
       "    </tr>\n",
       "  </thead>\n",
       "  <tbody>\n",
       "    <tr>\n",
       "      <th>0</th>\n",
       "      <td>AL801</td>\n",
       "      <td>Software Design for Virtual Reality and Gaming</td>\n",
       "      <td>300</td>\n",
       "      <td>NaN</td>\n",
       "    </tr>\n",
       "    <tr>\n",
       "      <th>1</th>\n",
       "      <td>AL802</td>\n",
       "      <td>Software Design in Artificial Intelligence for...</td>\n",
       "      <td>313</td>\n",
       "      <td>NaN</td>\n",
       "    </tr>\n",
       "    <tr>\n",
       "      <th>2</th>\n",
       "      <td>AL803</td>\n",
       "      <td>Software Design for Mobile Apps and Connected ...</td>\n",
       "      <td>350</td>\n",
       "      <td>NaN</td>\n",
       "    </tr>\n",
       "    <tr>\n",
       "      <th>3</th>\n",
       "      <td>AL805</td>\n",
       "      <td>Computer Engineering for Network Infrastructure</td>\n",
       "      <td>321</td>\n",
       "      <td>NaN</td>\n",
       "    </tr>\n",
       "    <tr>\n",
       "      <th>4</th>\n",
       "      <td>AL810</td>\n",
       "      <td>Quantity Surveying</td>\n",
       "      <td>328</td>\n",
       "      <td>NaN</td>\n",
       "    </tr>\n",
       "    <tr>\n",
       "      <th>...</th>\n",
       "      <td>...</td>\n",
       "      <td>...</td>\n",
       "      <td>...</td>\n",
       "      <td>...</td>\n",
       "    </tr>\n",
       "    <tr>\n",
       "      <th>944</th>\n",
       "      <td>WD211</td>\n",
       "      <td>Creative Computing</td>\n",
       "      <td>270</td>\n",
       "      <td>NaN</td>\n",
       "    </tr>\n",
       "    <tr>\n",
       "      <th>945</th>\n",
       "      <td>WD212</td>\n",
       "      <td>Recreation and Sport Management</td>\n",
       "      <td>262</td>\n",
       "      <td>NaN</td>\n",
       "    </tr>\n",
       "    <tr>\n",
       "      <th>946</th>\n",
       "      <td>WD230</td>\n",
       "      <td>Mechanical and Manufacturing Engineering</td>\n",
       "      <td>230</td>\n",
       "      <td>230</td>\n",
       "    </tr>\n",
       "    <tr>\n",
       "      <th>947</th>\n",
       "      <td>WD231</td>\n",
       "      <td>Early Childhood Care and Education</td>\n",
       "      <td>266</td>\n",
       "      <td>NaN</td>\n",
       "    </tr>\n",
       "    <tr>\n",
       "      <th>948</th>\n",
       "      <td>WD232</td>\n",
       "      <td>Business Information Systems</td>\n",
       "      <td>261</td>\n",
       "      <td>261</td>\n",
       "    </tr>\n",
       "  </tbody>\n",
       "</table>\n",
       "<p>949 rows × 4 columns</p>\n",
       "</div>"
      ],
      "text/plain": [
       "      code                                              title pointsR1  \\\n",
       "0    AL801     Software Design for Virtual Reality and Gaming      300   \n",
       "1    AL802  Software Design in Artificial Intelligence for...      313   \n",
       "2    AL803  Software Design for Mobile Apps and Connected ...      350   \n",
       "3    AL805    Computer Engineering for Network Infrastructure      321   \n",
       "4    AL810                                 Quantity Surveying      328   \n",
       "..     ...                                                ...      ...   \n",
       "944  WD211                                 Creative Computing      270   \n",
       "945  WD212                    Recreation and Sport Management      262   \n",
       "946  WD230           Mechanical and Manufacturing Engineering      230   \n",
       "947  WD231                 Early Childhood Care and Education      266   \n",
       "948  WD232                       Business Information Systems      261   \n",
       "\n",
       "    pointsR2  \n",
       "0        NaN  \n",
       "1        NaN  \n",
       "2        NaN  \n",
       "3        NaN  \n",
       "4        NaN  \n",
       "..       ...  \n",
       "944      NaN  \n",
       "945      NaN  \n",
       "946      230  \n",
       "947      NaN  \n",
       "948      261  \n",
       "\n",
       "[949 rows x 4 columns]"
      ]
     },
     "execution_count": 12,
     "metadata": {},
     "output_type": "execute_result"
    }
   ],
   "source": [
    "df2021"
   ]
  },
  {
   "cell_type": "markdown",
   "id": "383616b7-5390-4800-b65c-1aae713107fc",
   "metadata": {},
   "source": [
    "<br>"
   ]
  },
  {
   "cell_type": "markdown",
   "id": "ff526da2-87b2-4a81-8e7e-2990d905f4b7",
   "metadata": {},
   "source": [
    "<br>"
   ]
  },
  {
   "cell_type": "markdown",
   "id": "e0bc925c-9fa2-46f9-a1c5-072d04a99d78",
   "metadata": {},
   "source": [
    "As we know these are all level 8 courses, we will also insert a new column into the dataframe to show this."
   ]
  },
  {
   "cell_type": "markdown",
   "id": "59277e35-d59e-4232-9e70-fe7166ace82f",
   "metadata": {},
   "source": [
    "<br>"
   ]
  },
  {
   "cell_type": "markdown",
   "id": "5a343c01-e070-4274-b7f1-01ff4c7f9a33",
   "metadata": {},
   "source": [
    "<br>"
   ]
  },
  {
   "cell_type": "code",
   "execution_count": 13,
   "id": "d77614a8-ea9a-4529-87b2-f873eb2cd78d",
   "metadata": {},
   "outputs": [
    {
     "data": {
      "text/html": [
       "<div>\n",
       "<style scoped>\n",
       "    .dataframe tbody tr th:only-of-type {\n",
       "        vertical-align: middle;\n",
       "    }\n",
       "\n",
       "    .dataframe tbody tr th {\n",
       "        vertical-align: top;\n",
       "    }\n",
       "\n",
       "    .dataframe thead th {\n",
       "        text-align: right;\n",
       "    }\n",
       "</style>\n",
       "<table border=\"1\" class=\"dataframe\">\n",
       "  <thead>\n",
       "    <tr style=\"text-align: right;\">\n",
       "      <th></th>\n",
       "      <th>code</th>\n",
       "      <th>title</th>\n",
       "      <th>level</th>\n",
       "      <th>pointsR1</th>\n",
       "      <th>pointsR2</th>\n",
       "    </tr>\n",
       "  </thead>\n",
       "  <tbody>\n",
       "    <tr>\n",
       "      <th>0</th>\n",
       "      <td>AL801</td>\n",
       "      <td>Software Design for Virtual Reality and Gaming</td>\n",
       "      <td>8</td>\n",
       "      <td>300</td>\n",
       "      <td>NaN</td>\n",
       "    </tr>\n",
       "    <tr>\n",
       "      <th>1</th>\n",
       "      <td>AL802</td>\n",
       "      <td>Software Design in Artificial Intelligence for...</td>\n",
       "      <td>8</td>\n",
       "      <td>313</td>\n",
       "      <td>NaN</td>\n",
       "    </tr>\n",
       "    <tr>\n",
       "      <th>2</th>\n",
       "      <td>AL803</td>\n",
       "      <td>Software Design for Mobile Apps and Connected ...</td>\n",
       "      <td>8</td>\n",
       "      <td>350</td>\n",
       "      <td>NaN</td>\n",
       "    </tr>\n",
       "    <tr>\n",
       "      <th>3</th>\n",
       "      <td>AL805</td>\n",
       "      <td>Computer Engineering for Network Infrastructure</td>\n",
       "      <td>8</td>\n",
       "      <td>321</td>\n",
       "      <td>NaN</td>\n",
       "    </tr>\n",
       "    <tr>\n",
       "      <th>4</th>\n",
       "      <td>AL810</td>\n",
       "      <td>Quantity Surveying</td>\n",
       "      <td>8</td>\n",
       "      <td>328</td>\n",
       "      <td>NaN</td>\n",
       "    </tr>\n",
       "    <tr>\n",
       "      <th>...</th>\n",
       "      <td>...</td>\n",
       "      <td>...</td>\n",
       "      <td>...</td>\n",
       "      <td>...</td>\n",
       "      <td>...</td>\n",
       "    </tr>\n",
       "    <tr>\n",
       "      <th>944</th>\n",
       "      <td>WD211</td>\n",
       "      <td>Creative Computing</td>\n",
       "      <td>8</td>\n",
       "      <td>270</td>\n",
       "      <td>NaN</td>\n",
       "    </tr>\n",
       "    <tr>\n",
       "      <th>945</th>\n",
       "      <td>WD212</td>\n",
       "      <td>Recreation and Sport Management</td>\n",
       "      <td>8</td>\n",
       "      <td>262</td>\n",
       "      <td>NaN</td>\n",
       "    </tr>\n",
       "    <tr>\n",
       "      <th>946</th>\n",
       "      <td>WD230</td>\n",
       "      <td>Mechanical and Manufacturing Engineering</td>\n",
       "      <td>8</td>\n",
       "      <td>230</td>\n",
       "      <td>230</td>\n",
       "    </tr>\n",
       "    <tr>\n",
       "      <th>947</th>\n",
       "      <td>WD231</td>\n",
       "      <td>Early Childhood Care and Education</td>\n",
       "      <td>8</td>\n",
       "      <td>266</td>\n",
       "      <td>NaN</td>\n",
       "    </tr>\n",
       "    <tr>\n",
       "      <th>948</th>\n",
       "      <td>WD232</td>\n",
       "      <td>Business Information Systems</td>\n",
       "      <td>8</td>\n",
       "      <td>261</td>\n",
       "      <td>261</td>\n",
       "    </tr>\n",
       "  </tbody>\n",
       "</table>\n",
       "<p>949 rows × 5 columns</p>\n",
       "</div>"
      ],
      "text/plain": [
       "      code                                              title level pointsR1  \\\n",
       "0    AL801     Software Design for Virtual Reality and Gaming     8      300   \n",
       "1    AL802  Software Design in Artificial Intelligence for...     8      313   \n",
       "2    AL803  Software Design for Mobile Apps and Connected ...     8      350   \n",
       "3    AL805    Computer Engineering for Network Infrastructure     8      321   \n",
       "4    AL810                                 Quantity Surveying     8      328   \n",
       "..     ...                                                ...   ...      ...   \n",
       "944  WD211                                 Creative Computing     8      270   \n",
       "945  WD212                    Recreation and Sport Management     8      262   \n",
       "946  WD230           Mechanical and Manufacturing Engineering     8      230   \n",
       "947  WD231                 Early Childhood Care and Education     8      266   \n",
       "948  WD232                       Business Information Systems     8      261   \n",
       "\n",
       "    pointsR2  \n",
       "0        NaN  \n",
       "1        NaN  \n",
       "2        NaN  \n",
       "3        NaN  \n",
       "4        NaN  \n",
       "..       ...  \n",
       "944      NaN  \n",
       "945      NaN  \n",
       "946      230  \n",
       "947      NaN  \n",
       "948      261  \n",
       "\n",
       "[949 rows x 5 columns]"
      ]
     },
     "execution_count": 13,
     "metadata": {},
     "output_type": "execute_result"
    }
   ],
   "source": [
    "# Creating a new column at the second index with the value 8\n",
    "df2021.insert(2, 'level', '8')\n",
    "df2021"
   ]
  },
  {
   "cell_type": "markdown",
   "id": "e8ac8746-8313-414b-b859-bc45eeb5e9f9",
   "metadata": {},
   "source": [
    "<br>"
   ]
  },
  {
   "cell_type": "markdown",
   "id": "f98a4e99-d6a4-412a-8ec3-25f575a79046",
   "metadata": {},
   "source": [
    "<br>"
   ]
  },
  {
   "cell_type": "markdown",
   "id": "cc5b8e3f-e03e-4853-8956-ee011fa7963d",
   "metadata": {},
   "source": [
    "<br>"
   ]
  },
  {
   "cell_type": "markdown",
   "id": "7c3da752-a60c-44d6-a240-708bc1be83b6",
   "metadata": {},
   "source": [
    "***"
   ]
  },
  {
   "cell_type": "markdown",
   "id": "6b409506-5c4c-493b-aa4c-7d03a7f9b1a9",
   "metadata": {},
   "source": [
    "<br>"
   ]
  },
  {
   "cell_type": "markdown",
   "id": "1aab34a7-c8c5-4cba-9eee-7ef7aa6b077c",
   "metadata": {},
   "source": [
    "## Level 6/7 Courses"
   ]
  },
  {
   "cell_type": "markdown",
   "id": "b3146e6c-25c5-434c-89d9-d1d97ecde758",
   "metadata": {},
   "source": [
    "<br>"
   ]
  },
  {
   "cell_type": "markdown",
   "id": "6b5dc59e-95ca-4614-9d49-9c1766fabf33",
   "metadata": {},
   "source": [
    "To retrive the 2021 level 6 and 7 courses we repeat this process."
   ]
  },
  {
   "cell_type": "markdown",
   "id": "f9319905-d530-4899-b2fa-077a27af82df",
   "metadata": {},
   "source": [
    "<br>"
   ]
  },
  {
   "cell_type": "markdown",
   "id": "cff6020f-a909-41e7-ae84-4744f652e541",
   "metadata": {
    "tags": []
   },
   "source": [
    "### Server Request"
   ]
  },
  {
   "cell_type": "markdown",
   "id": "3b0d7712-0fc6-4cc2-bb0c-a06dfa611a6a",
   "metadata": {},
   "source": [
    "<br>"
   ]
  },
  {
   "cell_type": "code",
   "execution_count": 14,
   "id": "efbc09b7-338f-43a6-9d26-bb52a6c2c58b",
   "metadata": {},
   "outputs": [
    {
     "data": {
      "text/plain": [
       "<Response [200]>"
      ]
     },
     "execution_count": 14,
     "metadata": {},
     "output_type": "execute_result"
    }
   ],
   "source": [
    "# Fetch the CAO points URL.\n",
    "resp = rq.get('http://www2.cao.ie/points/l76.php')\n",
    "\n",
    "# 200 = ok. 404 = error: not found\n",
    "resp"
   ]
  },
  {
   "cell_type": "markdown",
   "id": "79929c73-415a-45c5-9478-60ca639834bd",
   "metadata": {},
   "source": [
    "<br>"
   ]
  },
  {
   "cell_type": "markdown",
   "id": "96b0df1b-2d22-4243-9013-1405e3a0ec1b",
   "metadata": {},
   "source": [
    "<br>"
   ]
  },
  {
   "cell_type": "markdown",
   "id": "0a0b8e9e-d117-4a4c-85c0-892cd35f2bb2",
   "metadata": {},
   "source": [
    "### Save Orignal Dataset\n",
    "\n"
   ]
  },
  {
   "cell_type": "markdown",
   "id": "ef24a6bb-3d6a-4695-9220-744a1aee7337",
   "metadata": {},
   "source": [
    "<br>"
   ]
  },
  {
   "cell_type": "code",
   "execution_count": 15,
   "id": "db4494f6-0970-44af-9474-653558bae464",
   "metadata": {},
   "outputs": [],
   "source": [
    "# Create a file path for the original data.\n",
    "pathhtml_2 = 'datasets/cao2021_2' + nowstr + '.html'"
   ]
  },
  {
   "cell_type": "markdown",
   "id": "94c44744-0a54-4a73-9514-50158373a7c1",
   "metadata": {},
   "source": [
    "<br>"
   ]
  },
  {
   "cell_type": "markdown",
   "id": "42bd2da8-4946-45a3-9b0d-e2afea32c96e",
   "metadata": {},
   "source": [
    "<br>"
   ]
  },
  {
   "cell_type": "markdown",
   "id": "4a95eaa4-52f8-4ea4-a854-8cab1ccf369e",
   "metadata": {
    "tags": []
   },
   "source": [
    "### Webserver Error\n"
   ]
  },
  {
   "cell_type": "markdown",
   "id": "9391e500-df62-4fe9-8d14-404e01c3a90a",
   "metadata": {},
   "source": [
    "<br>"
   ]
  },
  {
   "cell_type": "code",
   "execution_count": 16,
   "id": "b89901fa-e71a-4305-b15e-6cd698ca68fc",
   "metadata": {},
   "outputs": [],
   "source": [
    "# Fixing the webserves wrong encoding\n",
    "original_encoding = resp.encoding\n",
    "\n",
    "# Changing to cp1252\n",
    "resp.encoding = 'cp1252'"
   ]
  },
  {
   "cell_type": "markdown",
   "id": "9623d244-f191-415a-a687-c4eeffd5f663",
   "metadata": {},
   "source": [
    "<br>"
   ]
  },
  {
   "cell_type": "code",
   "execution_count": 17,
   "id": "401249fd-d330-432a-ab36-8f934040b51a",
   "metadata": {},
   "outputs": [],
   "source": [
    "# Save the original html file.\n",
    "with open(pathhtml_2, 'w') as f: # Opening path in write mode\n",
    "    f.write(resp.text)"
   ]
  },
  {
   "cell_type": "markdown",
   "id": "cd1f429b-f17a-46b1-9163-dc50bc8c4763",
   "metadata": {},
   "source": [
    "<br>"
   ]
  },
  {
   "cell_type": "markdown",
   "id": "b8cbd674-72ce-4c52-9471-89deb07c38e6",
   "metadata": {},
   "source": [
    "<br>"
   ]
  },
  {
   "cell_type": "markdown",
   "id": "6cccb32a-f400-4d8d-804e-539453b5cd7a",
   "metadata": {
    "tags": []
   },
   "source": [
    "### Getting The Data\n"
   ]
  },
  {
   "cell_type": "markdown",
   "id": "74d89d2f-f04b-4f25-a21a-502e1c6378f1",
   "metadata": {},
   "source": [
    "<br>"
   ]
  },
  {
   "cell_type": "code",
   "execution_count": 18,
   "id": "784e211e-2996-4828-a826-1a3ce50ecdec",
   "metadata": {},
   "outputs": [],
   "source": [
    "# Compile regular expression for matching lines.\n",
    "re_course = re.compile(r'([A-Z]{2}[0-9]{3})(.*)') # r for raw data"
   ]
  },
  {
   "cell_type": "markdown",
   "id": "389c7dd2-1eff-481c-8b27-c390b2237a45",
   "metadata": {},
   "source": [
    "<br>"
   ]
  },
  {
   "cell_type": "markdown",
   "id": "1595586f-b75e-43cd-a8c6-24df405bd597",
   "metadata": {},
   "source": [
    "<br>"
   ]
  },
  {
   "cell_type": "code",
   "execution_count": 19,
   "id": "0d5b8009-8b24-4b9d-acc2-9e847a2e8157",
   "metadata": {},
   "outputs": [],
   "source": [
    "# Path to csv file\n",
    "path2021_2 = 'datasets/cao2021_2_csv_' + nowstr + '.csv'"
   ]
  },
  {
   "cell_type": "markdown",
   "id": "c6174aaa-11ac-48a4-be0d-07bec4b2e1c6",
   "metadata": {},
   "source": [
    "<br>"
   ]
  },
  {
   "cell_type": "code",
   "execution_count": 20,
   "id": "3da4a8b5-dae3-44e5-a20d-c69584022cab",
   "metadata": {},
   "outputs": [
    {
     "name": "stdout",
     "output_type": "stream",
     "text": [
      "Total number of lines is 416.\n"
     ]
    }
   ],
   "source": [
    "\n",
    "# KTracking number of courses matched\n",
    "no_lines = 0\n",
    "\n",
    "\n",
    "\n",
    "# Open the csv file for writing.\n",
    "with open(path2021_2, 'w') as f:\n",
    "    # Write a header row.\n",
    "    f.write(','.join(['code', 'title', 'pointsR1', 'pointsR2']) + '\\n')\n",
    "    # Loop through lines of the response.\n",
    "    for line in resp.iter_lines():\n",
    "        # Decode the line, using the wrong encoding!\n",
    "        dline = line.decode('cp1252')\n",
    "        # Match only the lines representing courses.\n",
    "        if re_course.fullmatch(dline):\n",
    "            # Add one to the lines counter.\n",
    "            no_lines = no_lines + 1\n",
    "            # The course code.\n",
    "            course_code = dline[:5]\n",
    "            # The course title.\n",
    "            course_title = dline[7:57].strip()\n",
    "            # Round one points.\n",
    "            course_points = re.split(' +', dline[60:])\n",
    "            if len(course_points) != 2:\n",
    "                course_points = course_points[:2]\n",
    "            # Join the fields using a comma.\n",
    "            linesplit = [course_code, course_title, course_points[0], course_points[1]]\n",
    "            # Rejoin the substrings with commas in between.\n",
    "            f.write(','.join(linesplit) + '\\n')\n",
    "\n",
    "\n",
    "            \n",
    "# Number of courses matched\n",
    "print(f\"Total number of lines is {no_lines}.\")"
   ]
  },
  {
   "cell_type": "markdown",
   "id": "3b4791c0-8c90-416e-bd6b-a31c4e4bb6f2",
   "metadata": {},
   "source": [
    "<br>"
   ]
  },
  {
   "cell_type": "markdown",
   "id": "7a376bae-8e4c-4704-8834-34c004563fbc",
   "metadata": {},
   "source": [
    "<br>"
   ]
  },
  {
   "cell_type": "code",
   "execution_count": 21,
   "id": "817fe374-d355-4132-8350-e5d851d1ee79",
   "metadata": {},
   "outputs": [],
   "source": [
    "# Reading dataframe\n",
    "df2021_2 = pd.read_csv(path2021_2, encoding='cp1252')"
   ]
  },
  {
   "cell_type": "markdown",
   "id": "6f7bed73-a292-4fd5-b568-1109cb49cb98",
   "metadata": {},
   "source": [
    "<br>"
   ]
  },
  {
   "cell_type": "markdown",
   "id": "58f6da4f-586f-4e9b-badb-c16163f45bcb",
   "metadata": {},
   "source": [
    "Unfortunatly, the 2021 level 6 and 7 courses aren't distingushed from each other. So, I've decided to insert them as '6/7' under a new column heading 'level'. This will distingush them from the courses we know for certain are level 8."
   ]
  },
  {
   "cell_type": "markdown",
   "id": "7f0227af-71cc-4e66-93fa-da9766893feb",
   "metadata": {},
   "source": [
    "<br>"
   ]
  },
  {
   "cell_type": "code",
   "execution_count": 22,
   "id": "dee67ba5-7f38-4e8a-8090-c3d078a0e1d4",
   "metadata": {},
   "outputs": [
    {
     "data": {
      "text/html": [
       "<div>\n",
       "<style scoped>\n",
       "    .dataframe tbody tr th:only-of-type {\n",
       "        vertical-align: middle;\n",
       "    }\n",
       "\n",
       "    .dataframe tbody tr th {\n",
       "        vertical-align: top;\n",
       "    }\n",
       "\n",
       "    .dataframe thead th {\n",
       "        text-align: right;\n",
       "    }\n",
       "</style>\n",
       "<table border=\"1\" class=\"dataframe\">\n",
       "  <thead>\n",
       "    <tr style=\"text-align: right;\">\n",
       "      <th></th>\n",
       "      <th>code</th>\n",
       "      <th>title</th>\n",
       "      <th>level</th>\n",
       "      <th>pointsR1</th>\n",
       "      <th>pointsR2</th>\n",
       "    </tr>\n",
       "  </thead>\n",
       "  <tbody>\n",
       "    <tr>\n",
       "      <th>0</th>\n",
       "      <td>AL605</td>\n",
       "      <td>Music and Instrument Technology</td>\n",
       "      <td>6/7</td>\n",
       "      <td>211</td>\n",
       "      <td>NaN</td>\n",
       "    </tr>\n",
       "    <tr>\n",
       "      <th>1</th>\n",
       "      <td>AL630</td>\n",
       "      <td>Pharmacy Technician</td>\n",
       "      <td>6/7</td>\n",
       "      <td>308</td>\n",
       "      <td>NaN</td>\n",
       "    </tr>\n",
       "    <tr>\n",
       "      <th>2</th>\n",
       "      <td>AL631</td>\n",
       "      <td>Dental Nursing</td>\n",
       "      <td>6/7</td>\n",
       "      <td>311</td>\n",
       "      <td>NaN</td>\n",
       "    </tr>\n",
       "    <tr>\n",
       "      <th>3</th>\n",
       "      <td>AL632</td>\n",
       "      <td>Applied Science</td>\n",
       "      <td>6/7</td>\n",
       "      <td>297</td>\n",
       "      <td>NaN</td>\n",
       "    </tr>\n",
       "    <tr>\n",
       "      <th>4</th>\n",
       "      <td>AL650</td>\n",
       "      <td>Business</td>\n",
       "      <td>6/7</td>\n",
       "      <td>AQA</td>\n",
       "      <td>AQA</td>\n",
       "    </tr>\n",
       "    <tr>\n",
       "      <th>...</th>\n",
       "      <td>...</td>\n",
       "      <td>...</td>\n",
       "      <td>...</td>\n",
       "      <td>...</td>\n",
       "      <td>...</td>\n",
       "    </tr>\n",
       "    <tr>\n",
       "      <th>411</th>\n",
       "      <td>WD188</td>\n",
       "      <td>Applied Health Care</td>\n",
       "      <td>6/7</td>\n",
       "      <td>220</td>\n",
       "      <td>NaN</td>\n",
       "    </tr>\n",
       "    <tr>\n",
       "      <th>412</th>\n",
       "      <td>WD205</td>\n",
       "      <td>Molecular Biology with Biopharmaceutical Science</td>\n",
       "      <td>6/7</td>\n",
       "      <td>AQA</td>\n",
       "      <td>262v</td>\n",
       "    </tr>\n",
       "    <tr>\n",
       "      <th>413</th>\n",
       "      <td>WD206</td>\n",
       "      <td>Electronic Engineering</td>\n",
       "      <td>6/7</td>\n",
       "      <td>180</td>\n",
       "      <td>NaN</td>\n",
       "    </tr>\n",
       "    <tr>\n",
       "      <th>414</th>\n",
       "      <td>WD207</td>\n",
       "      <td>Mechanical Engineering</td>\n",
       "      <td>6/7</td>\n",
       "      <td>172</td>\n",
       "      <td>NaN</td>\n",
       "    </tr>\n",
       "    <tr>\n",
       "      <th>415</th>\n",
       "      <td>WD208</td>\n",
       "      <td>Manufacturing Engineering</td>\n",
       "      <td>6/7</td>\n",
       "      <td>317</td>\n",
       "      <td>NaN</td>\n",
       "    </tr>\n",
       "  </tbody>\n",
       "</table>\n",
       "<p>416 rows × 5 columns</p>\n",
       "</div>"
      ],
      "text/plain": [
       "      code                                             title level pointsR1  \\\n",
       "0    AL605                   Music and Instrument Technology   6/7      211   \n",
       "1    AL630                               Pharmacy Technician   6/7      308   \n",
       "2    AL631                                    Dental Nursing   6/7      311   \n",
       "3    AL632                                   Applied Science   6/7      297   \n",
       "4    AL650                                          Business   6/7      AQA   \n",
       "..     ...                                               ...   ...      ...   \n",
       "411  WD188                               Applied Health Care   6/7      220   \n",
       "412  WD205  Molecular Biology with Biopharmaceutical Science   6/7      AQA   \n",
       "413  WD206                            Electronic Engineering   6/7      180   \n",
       "414  WD207                            Mechanical Engineering   6/7      172   \n",
       "415  WD208                         Manufacturing Engineering   6/7      317   \n",
       "\n",
       "    pointsR2  \n",
       "0        NaN  \n",
       "1        NaN  \n",
       "2        NaN  \n",
       "3        NaN  \n",
       "4        AQA  \n",
       "..       ...  \n",
       "411      NaN  \n",
       "412     262v  \n",
       "413      NaN  \n",
       "414      NaN  \n",
       "415      NaN  \n",
       "\n",
       "[416 rows x 5 columns]"
      ]
     },
     "execution_count": 22,
     "metadata": {},
     "output_type": "execute_result"
    }
   ],
   "source": [
    "# Creating a new column at the second index\n",
    "df2021_2.insert(2, 'level', '6/7')\n",
    "df2021_2"
   ]
  },
  {
   "cell_type": "markdown",
   "id": "95ce2a5e-76a5-4bdc-9668-3691939523d3",
   "metadata": {},
   "source": [
    "\n"
   ]
  },
  {
   "cell_type": "markdown",
   "id": "fe9dc1f9-bfb8-42df-88a0-953861e7581d",
   "metadata": {},
   "source": [
    "<br>"
   ]
  },
  {
   "cell_type": "markdown",
   "id": "9486ad30-3df9-40ee-85c9-d79f74a2398e",
   "metadata": {},
   "source": [
    "<br>"
   ]
  },
  {
   "cell_type": "markdown",
   "id": "85e7fdcf-31e4-4350-8898-ba84f842839f",
   "metadata": {},
   "source": [
    "<br>"
   ]
  },
  {
   "cell_type": "markdown",
   "id": "13fbf9c3-a159-4fcb-8d8b-548f3be117c4",
   "metadata": {
    "tags": []
   },
   "source": [
    "***\n",
    "\n",
    "## 2020 Points\n",
    "***\n",
    "\n",
    "https://www.cao.ie/index.php?page=points&p=2020"
   ]
  },
  {
   "cell_type": "markdown",
   "id": "4d5c7f40-f09c-4678-a180-2a2bd07447de",
   "metadata": {},
   "source": [
    "<br>"
   ]
  },
  {
   "cell_type": "markdown",
   "id": "fb5c93f6-ffe2-44b7-b92c-8173cf56ee2d",
   "metadata": {},
   "source": [
    "Luckily the 2020 points are already available in a excel file. This equates to a simpler workload! Additionally, level 6, 7 and 8 are all inculded and are clearly marked."
   ]
  },
  {
   "cell_type": "markdown",
   "id": "17e62e68-f5c0-4424-a311-5b2e051393cf",
   "metadata": {},
   "source": [
    "<br>"
   ]
  },
  {
   "cell_type": "markdown",
   "id": "ba69bb01-2fd0-467d-951e-3f89a2859cb7",
   "metadata": {},
   "source": [
    "<br>"
   ]
  },
  {
   "cell_type": "code",
   "execution_count": 23,
   "id": "63ae4676-e6e7-475b-bab0-c7646301c80e",
   "metadata": {},
   "outputs": [],
   "source": [
    "# Saving the URL as a variable\n",
    "url2020 = 'http://www2.cao.ie/points/CAOPointsCharts2020.xlsx'"
   ]
  },
  {
   "cell_type": "markdown",
   "id": "fb29f22d-7345-4c71-860a-e80332e936f5",
   "metadata": {},
   "source": [
    "<br>"
   ]
  },
  {
   "cell_type": "markdown",
   "id": "1ae06735-c174-45bc-b6f0-6f50355101c5",
   "metadata": {},
   "source": [
    "<br>"
   ]
  },
  {
   "cell_type": "markdown",
   "id": "9db25757-97c2-47ad-9ac5-804d9243c43f",
   "metadata": {},
   "source": [
    "### Saving Orginal Data"
   ]
  },
  {
   "cell_type": "markdown",
   "id": "8bf1250d-d135-42d5-8413-81139ff61559",
   "metadata": {
    "tags": []
   },
   "source": [
    "<br>"
   ]
  },
  {
   "cell_type": "markdown",
   "id": "2a5c2f1a-9574-4f90-9c4b-8a9efb06bef4",
   "metadata": {
    "tags": []
   },
   "source": [
    "We must save a copt of the orignal file, we do this with the datetime module which keeps tabs on when the request was made. "
   ]
  },
  {
   "cell_type": "markdown",
   "id": "24d1f79a-7353-405e-9840-a5d5c9434607",
   "metadata": {
    "tags": []
   },
   "source": [
    "<br>"
   ]
  },
  {
   "cell_type": "code",
   "execution_count": 24,
   "id": "2ac30704-1a02-44a0-afb2-97b63bd6416d",
   "metadata": {},
   "outputs": [],
   "source": [
    "# Create a file path for original data\n",
    "pathxlsx = 'datasets/cao2020_' + nowstr + '.xlsx'"
   ]
  },
  {
   "cell_type": "markdown",
   "id": "04152d20-4be0-4911-8ab3-b4777e103bd9",
   "metadata": {},
   "source": [
    "<br>"
   ]
  },
  {
   "cell_type": "markdown",
   "id": "b2b97824-4fea-4f60-a579-284178b43c28",
   "metadata": {},
   "source": [
    "<br>"
   ]
  },
  {
   "cell_type": "markdown",
   "id": "013f22b3-09e2-400a-85ca-23772816124e",
   "metadata": {},
   "source": [
    "### Retrieve Data"
   ]
  },
  {
   "cell_type": "markdown",
   "id": "6155312a-4a0f-40e8-8d1e-bff2ec40cd85",
   "metadata": {},
   "source": [
    "<br>"
   ]
  },
  {
   "cell_type": "markdown",
   "id": "78b4caf6-cae1-4873-b3f2-7081ccb03f51",
   "metadata": {
    "tags": []
   },
   "source": [
    "To get the data we can use the Urllib package. Urlib is a \"...URL handling module for python. It is used to fetch URLs\" [6]. The retrieve method downloads \"...the remote data directly to the local [disk]\" [7]. "
   ]
  },
  {
   "cell_type": "code",
   "execution_count": 27,
   "id": "6351f1ef-6d9c-42e3-8552-5c434839e8e3",
   "metadata": {},
   "outputs": [
    {
     "data": {
      "text/plain": [
       "('datasets/cao2020_20211208_185749.xlsx',\n",
       " <http.client.HTTPMessage at 0x1d4f2563a30>)"
      ]
     },
     "execution_count": 27,
     "metadata": {},
     "output_type": "execute_result"
    }
   ],
   "source": [
    "# Getting data\n",
    "urlrq.urlretrieve(url2020, pathxlsx)"
   ]
  },
  {
   "cell_type": "markdown",
   "id": "aa120ab7-e85a-468e-94b0-ad985abc823e",
   "metadata": {},
   "source": [
    "<br>"
   ]
  },
  {
   "cell_type": "markdown",
   "id": "c77ddd6a-b666-4b0e-b6aa-ef53438e364e",
   "metadata": {},
   "source": [
    "<br>"
   ]
  },
  {
   "cell_type": "markdown",
   "id": "640690d4-6218-401e-b491-82f72bde68dd",
   "metadata": {},
   "source": [
    "### Loading The Spreadsheet"
   ]
  },
  {
   "cell_type": "markdown",
   "id": "f3709b83-b426-4e7d-a7e7-ab2d66a4d6e4",
   "metadata": {
    "tags": []
   },
   "source": [
    "<br>"
   ]
  },
  {
   "cell_type": "markdown",
   "id": "ba9c1d91-6e7b-4fff-a8c4-084b4c56fac4",
   "metadata": {},
   "source": [
    "We can now load the data into the notebook by using pandas. The first 10 lines of the file inculde a blurb about the CAO so we will skip the first 10 rows to avoid pulling them into the newly created dataframe. "
   ]
  },
  {
   "cell_type": "markdown",
   "id": "d9bbfd36-ac8a-4176-88b3-a9a8d74c10d7",
   "metadata": {
    "tags": []
   },
   "source": [
    "<br>"
   ]
  },
  {
   "cell_type": "code",
   "execution_count": 28,
   "id": "7d1b9d88-2296-44e2-83bc-55021640d157",
   "metadata": {},
   "outputs": [],
   "source": [
    "# Download and parse the excel spreadsheet. First few rows where a blurb\n",
    "df2020 = pd.read_excel(url2020, skiprows=10)"
   ]
  },
  {
   "cell_type": "code",
   "execution_count": 29,
   "id": "61e8dc44-4dc4-4472-ad7f-0bdea4a04e38",
   "metadata": {
    "tags": []
   },
   "outputs": [
    {
     "data": {
      "text/html": [
       "<div>\n",
       "<style scoped>\n",
       "    .dataframe tbody tr th:only-of-type {\n",
       "        vertical-align: middle;\n",
       "    }\n",
       "\n",
       "    .dataframe tbody tr th {\n",
       "        vertical-align: top;\n",
       "    }\n",
       "\n",
       "    .dataframe thead th {\n",
       "        text-align: right;\n",
       "    }\n",
       "</style>\n",
       "<table border=\"1\" class=\"dataframe\">\n",
       "  <thead>\n",
       "    <tr style=\"text-align: right;\">\n",
       "      <th></th>\n",
       "      <th>CATEGORY (i.e.ISCED description)</th>\n",
       "      <th>COURSE TITLE</th>\n",
       "      <th>COURSE CODE2</th>\n",
       "      <th>R1 POINTS</th>\n",
       "      <th>R1 Random *</th>\n",
       "      <th>R2 POINTS</th>\n",
       "      <th>R2 Random*</th>\n",
       "      <th>EOS</th>\n",
       "      <th>EOS Random *</th>\n",
       "      <th>EOS Mid-point</th>\n",
       "      <th>...</th>\n",
       "      <th>avp</th>\n",
       "      <th>v</th>\n",
       "      <th>Column1</th>\n",
       "      <th>Column2</th>\n",
       "      <th>Column3</th>\n",
       "      <th>Column4</th>\n",
       "      <th>Column5</th>\n",
       "      <th>Column6</th>\n",
       "      <th>Column7</th>\n",
       "      <th>Column8</th>\n",
       "    </tr>\n",
       "  </thead>\n",
       "  <tbody>\n",
       "    <tr>\n",
       "      <th>0</th>\n",
       "      <td>Business and administration</td>\n",
       "      <td>International Business</td>\n",
       "      <td>AC120</td>\n",
       "      <td>209</td>\n",
       "      <td>NaN</td>\n",
       "      <td>NaN</td>\n",
       "      <td>NaN</td>\n",
       "      <td>209</td>\n",
       "      <td>NaN</td>\n",
       "      <td>280</td>\n",
       "      <td>...</td>\n",
       "      <td>NaN</td>\n",
       "      <td>NaN</td>\n",
       "      <td>NaN</td>\n",
       "      <td>NaN</td>\n",
       "      <td>NaN</td>\n",
       "      <td>NaN</td>\n",
       "      <td>NaN</td>\n",
       "      <td>NaN</td>\n",
       "      <td>NaN</td>\n",
       "      <td>NaN</td>\n",
       "    </tr>\n",
       "    <tr>\n",
       "      <th>1</th>\n",
       "      <td>Humanities (except languages)</td>\n",
       "      <td>Liberal Arts</td>\n",
       "      <td>AC137</td>\n",
       "      <td>252</td>\n",
       "      <td>NaN</td>\n",
       "      <td>NaN</td>\n",
       "      <td>NaN</td>\n",
       "      <td>252</td>\n",
       "      <td>NaN</td>\n",
       "      <td>270</td>\n",
       "      <td>...</td>\n",
       "      <td>NaN</td>\n",
       "      <td>NaN</td>\n",
       "      <td>NaN</td>\n",
       "      <td>NaN</td>\n",
       "      <td>NaN</td>\n",
       "      <td>NaN</td>\n",
       "      <td>NaN</td>\n",
       "      <td>NaN</td>\n",
       "      <td>NaN</td>\n",
       "      <td>NaN</td>\n",
       "    </tr>\n",
       "    <tr>\n",
       "      <th>2</th>\n",
       "      <td>Arts</td>\n",
       "      <td>First Year Art &amp; Design (Common Entry,portfolio)</td>\n",
       "      <td>AD101</td>\n",
       "      <td>#+matric</td>\n",
       "      <td>NaN</td>\n",
       "      <td>NaN</td>\n",
       "      <td>NaN</td>\n",
       "      <td>#+matric</td>\n",
       "      <td>NaN</td>\n",
       "      <td>#+matric</td>\n",
       "      <td>...</td>\n",
       "      <td>NaN</td>\n",
       "      <td>NaN</td>\n",
       "      <td>NaN</td>\n",
       "      <td>NaN</td>\n",
       "      <td>NaN</td>\n",
       "      <td>NaN</td>\n",
       "      <td>NaN</td>\n",
       "      <td>NaN</td>\n",
       "      <td>NaN</td>\n",
       "      <td>NaN</td>\n",
       "    </tr>\n",
       "    <tr>\n",
       "      <th>3</th>\n",
       "      <td>Arts</td>\n",
       "      <td>Graphic Design and Moving Image Design (portfo...</td>\n",
       "      <td>AD102</td>\n",
       "      <td>#+matric</td>\n",
       "      <td>NaN</td>\n",
       "      <td>NaN</td>\n",
       "      <td>NaN</td>\n",
       "      <td>#+matric</td>\n",
       "      <td>NaN</td>\n",
       "      <td>#+matric</td>\n",
       "      <td>...</td>\n",
       "      <td>NaN</td>\n",
       "      <td>NaN</td>\n",
       "      <td>NaN</td>\n",
       "      <td>NaN</td>\n",
       "      <td>NaN</td>\n",
       "      <td>NaN</td>\n",
       "      <td>NaN</td>\n",
       "      <td>NaN</td>\n",
       "      <td>NaN</td>\n",
       "      <td>NaN</td>\n",
       "    </tr>\n",
       "    <tr>\n",
       "      <th>4</th>\n",
       "      <td>Arts</td>\n",
       "      <td>Textile &amp; Surface Design and Jewellery &amp; Objec...</td>\n",
       "      <td>AD103</td>\n",
       "      <td>#+matric</td>\n",
       "      <td>NaN</td>\n",
       "      <td>NaN</td>\n",
       "      <td>NaN</td>\n",
       "      <td>#+matric</td>\n",
       "      <td>NaN</td>\n",
       "      <td>#+matric</td>\n",
       "      <td>...</td>\n",
       "      <td>NaN</td>\n",
       "      <td>NaN</td>\n",
       "      <td>NaN</td>\n",
       "      <td>NaN</td>\n",
       "      <td>NaN</td>\n",
       "      <td>NaN</td>\n",
       "      <td>NaN</td>\n",
       "      <td>NaN</td>\n",
       "      <td>NaN</td>\n",
       "      <td>NaN</td>\n",
       "    </tr>\n",
       "    <tr>\n",
       "      <th>...</th>\n",
       "      <td>...</td>\n",
       "      <td>...</td>\n",
       "      <td>...</td>\n",
       "      <td>...</td>\n",
       "      <td>...</td>\n",
       "      <td>...</td>\n",
       "      <td>...</td>\n",
       "      <td>...</td>\n",
       "      <td>...</td>\n",
       "      <td>...</td>\n",
       "      <td>...</td>\n",
       "      <td>...</td>\n",
       "      <td>...</td>\n",
       "      <td>...</td>\n",
       "      <td>...</td>\n",
       "      <td>...</td>\n",
       "      <td>...</td>\n",
       "      <td>...</td>\n",
       "      <td>...</td>\n",
       "      <td>...</td>\n",
       "      <td>...</td>\n",
       "    </tr>\n",
       "    <tr>\n",
       "      <th>1459</th>\n",
       "      <td>Manufacturing and processing</td>\n",
       "      <td>Manufacturing Engineering</td>\n",
       "      <td>WD208</td>\n",
       "      <td>188</td>\n",
       "      <td>NaN</td>\n",
       "      <td>NaN</td>\n",
       "      <td>NaN</td>\n",
       "      <td>188</td>\n",
       "      <td>NaN</td>\n",
       "      <td>339</td>\n",
       "      <td>...</td>\n",
       "      <td>NaN</td>\n",
       "      <td>NaN</td>\n",
       "      <td>NaN</td>\n",
       "      <td>NaN</td>\n",
       "      <td>NaN</td>\n",
       "      <td>NaN</td>\n",
       "      <td>NaN</td>\n",
       "      <td>NaN</td>\n",
       "      <td>NaN</td>\n",
       "      <td>NaN</td>\n",
       "    </tr>\n",
       "    <tr>\n",
       "      <th>1460</th>\n",
       "      <td>Information and Communication Technologies (ICTs)</td>\n",
       "      <td>Software Systems Development</td>\n",
       "      <td>WD210</td>\n",
       "      <td>279</td>\n",
       "      <td>NaN</td>\n",
       "      <td>NaN</td>\n",
       "      <td>NaN</td>\n",
       "      <td>279</td>\n",
       "      <td>NaN</td>\n",
       "      <td>337</td>\n",
       "      <td>...</td>\n",
       "      <td>NaN</td>\n",
       "      <td>NaN</td>\n",
       "      <td>NaN</td>\n",
       "      <td>NaN</td>\n",
       "      <td>NaN</td>\n",
       "      <td>NaN</td>\n",
       "      <td>NaN</td>\n",
       "      <td>NaN</td>\n",
       "      <td>NaN</td>\n",
       "      <td>NaN</td>\n",
       "    </tr>\n",
       "    <tr>\n",
       "      <th>1461</th>\n",
       "      <td>Information and Communication Technologies (ICTs)</td>\n",
       "      <td>Creative Computing</td>\n",
       "      <td>WD211</td>\n",
       "      <td>271</td>\n",
       "      <td>NaN</td>\n",
       "      <td>NaN</td>\n",
       "      <td>NaN</td>\n",
       "      <td>271</td>\n",
       "      <td>NaN</td>\n",
       "      <td>318</td>\n",
       "      <td>...</td>\n",
       "      <td>NaN</td>\n",
       "      <td>NaN</td>\n",
       "      <td>NaN</td>\n",
       "      <td>NaN</td>\n",
       "      <td>NaN</td>\n",
       "      <td>NaN</td>\n",
       "      <td>NaN</td>\n",
       "      <td>NaN</td>\n",
       "      <td>NaN</td>\n",
       "      <td>NaN</td>\n",
       "    </tr>\n",
       "    <tr>\n",
       "      <th>1462</th>\n",
       "      <td>Personal services</td>\n",
       "      <td>Recreation and Sport Management</td>\n",
       "      <td>WD212</td>\n",
       "      <td>270</td>\n",
       "      <td>NaN</td>\n",
       "      <td>NaN</td>\n",
       "      <td>NaN</td>\n",
       "      <td>270</td>\n",
       "      <td>NaN</td>\n",
       "      <td>349</td>\n",
       "      <td>...</td>\n",
       "      <td>NaN</td>\n",
       "      <td>NaN</td>\n",
       "      <td>NaN</td>\n",
       "      <td>NaN</td>\n",
       "      <td>NaN</td>\n",
       "      <td>NaN</td>\n",
       "      <td>NaN</td>\n",
       "      <td>NaN</td>\n",
       "      <td>NaN</td>\n",
       "      <td>NaN</td>\n",
       "    </tr>\n",
       "    <tr>\n",
       "      <th>1463</th>\n",
       "      <td>Engineering and engineering trades</td>\n",
       "      <td>Mechanical and Manufacturing Engineering</td>\n",
       "      <td>WD230</td>\n",
       "      <td>253</td>\n",
       "      <td>NaN</td>\n",
       "      <td>NaN</td>\n",
       "      <td>NaN</td>\n",
       "      <td>253</td>\n",
       "      <td>NaN</td>\n",
       "      <td>369</td>\n",
       "      <td>...</td>\n",
       "      <td>NaN</td>\n",
       "      <td>NaN</td>\n",
       "      <td>NaN</td>\n",
       "      <td>NaN</td>\n",
       "      <td>NaN</td>\n",
       "      <td>NaN</td>\n",
       "      <td>NaN</td>\n",
       "      <td>NaN</td>\n",
       "      <td>NaN</td>\n",
       "      <td>NaN</td>\n",
       "    </tr>\n",
       "  </tbody>\n",
       "</table>\n",
       "<p>1464 rows × 23 columns</p>\n",
       "</div>"
      ],
      "text/plain": [
       "                       CATEGORY (i.e.ISCED description)  \\\n",
       "0                           Business and administration   \n",
       "1                         Humanities (except languages)   \n",
       "2                                                  Arts   \n",
       "3                                                  Arts   \n",
       "4                                                  Arts   \n",
       "...                                                 ...   \n",
       "1459                       Manufacturing and processing   \n",
       "1460  Information and Communication Technologies (ICTs)   \n",
       "1461  Information and Communication Technologies (ICTs)   \n",
       "1462                                  Personal services   \n",
       "1463                 Engineering and engineering trades   \n",
       "\n",
       "                                           COURSE TITLE COURSE CODE2  \\\n",
       "0                                International Business        AC120   \n",
       "1                                          Liberal Arts        AC137   \n",
       "2      First Year Art & Design (Common Entry,portfolio)        AD101   \n",
       "3     Graphic Design and Moving Image Design (portfo...        AD102   \n",
       "4     Textile & Surface Design and Jewellery & Objec...        AD103   \n",
       "...                                                 ...          ...   \n",
       "1459                          Manufacturing Engineering        WD208   \n",
       "1460                       Software Systems Development        WD210   \n",
       "1461                                 Creative Computing        WD211   \n",
       "1462                    Recreation and Sport Management        WD212   \n",
       "1463           Mechanical and Manufacturing Engineering        WD230   \n",
       "\n",
       "     R1 POINTS R1 Random * R2 POINTS R2 Random*       EOS EOS Random *  \\\n",
       "0          209         NaN       NaN        NaN       209          NaN   \n",
       "1          252         NaN       NaN        NaN       252          NaN   \n",
       "2     #+matric         NaN       NaN        NaN  #+matric          NaN   \n",
       "3     #+matric         NaN       NaN        NaN  #+matric          NaN   \n",
       "4     #+matric         NaN       NaN        NaN  #+matric          NaN   \n",
       "...        ...         ...       ...        ...       ...          ...   \n",
       "1459       188         NaN       NaN        NaN       188          NaN   \n",
       "1460       279         NaN       NaN        NaN       279          NaN   \n",
       "1461       271         NaN       NaN        NaN       271          NaN   \n",
       "1462       270         NaN       NaN        NaN       270          NaN   \n",
       "1463       253         NaN       NaN        NaN       253          NaN   \n",
       "\n",
       "     EOS Mid-point  ...  avp    v Column1 Column2 Column3  Column4  Column5  \\\n",
       "0              280  ...  NaN  NaN     NaN     NaN     NaN      NaN      NaN   \n",
       "1              270  ...  NaN  NaN     NaN     NaN     NaN      NaN      NaN   \n",
       "2         #+matric  ...  NaN  NaN     NaN     NaN     NaN      NaN      NaN   \n",
       "3         #+matric  ...  NaN  NaN     NaN     NaN     NaN      NaN      NaN   \n",
       "4         #+matric  ...  NaN  NaN     NaN     NaN     NaN      NaN      NaN   \n",
       "...            ...  ...  ...  ...     ...     ...     ...      ...      ...   \n",
       "1459           339  ...  NaN  NaN     NaN     NaN     NaN      NaN      NaN   \n",
       "1460           337  ...  NaN  NaN     NaN     NaN     NaN      NaN      NaN   \n",
       "1461           318  ...  NaN  NaN     NaN     NaN     NaN      NaN      NaN   \n",
       "1462           349  ...  NaN  NaN     NaN     NaN     NaN      NaN      NaN   \n",
       "1463           369  ...  NaN  NaN     NaN     NaN     NaN      NaN      NaN   \n",
       "\n",
       "      Column6  Column7  Column8  \n",
       "0         NaN      NaN      NaN  \n",
       "1         NaN      NaN      NaN  \n",
       "2         NaN      NaN      NaN  \n",
       "3         NaN      NaN      NaN  \n",
       "4         NaN      NaN      NaN  \n",
       "...       ...      ...      ...  \n",
       "1459      NaN      NaN      NaN  \n",
       "1460      NaN      NaN      NaN  \n",
       "1461      NaN      NaN      NaN  \n",
       "1462      NaN      NaN      NaN  \n",
       "1463      NaN      NaN      NaN  \n",
       "\n",
       "[1464 rows x 23 columns]"
      ]
     },
     "execution_count": 29,
     "metadata": {},
     "output_type": "execute_result"
    }
   ],
   "source": [
    "# Checking the dataframe\n",
    "df2020"
   ]
  },
  {
   "cell_type": "markdown",
   "id": "8a071385-e973-455e-ac45-d29dd3f97274",
   "metadata": {},
   "source": [
    "<br>"
   ]
  },
  {
   "cell_type": "markdown",
   "id": "2166e32c-7f98-406e-84e0-34ea7eb83861",
   "metadata": {
    "tags": []
   },
   "source": [
    "<br>"
   ]
  },
  {
   "cell_type": "markdown",
   "id": "edaa7e56-e319-4576-b607-933305980e5d",
   "metadata": {
    "tags": []
   },
   "source": [
    "<br>"
   ]
  },
  {
   "cell_type": "code",
   "execution_count": 30,
   "id": "7704e4f8-9c33-42b6-9f76-52a00a4b8030",
   "metadata": {},
   "outputs": [
    {
     "data": {
      "text/plain": [
       "CATEGORY (i.e.ISCED description)    Engineering and engineering trades\n",
       "COURSE TITLE                                    Mechanical Engineering\n",
       "COURSE CODE2                                                     SG333\n",
       "R1 POINTS                                                          216\n",
       "R1 Random *                                                        NaN\n",
       "R2 POINTS                                                          NaN\n",
       "R2 Random*                                                         NaN\n",
       "EOS                                                                216\n",
       "EOS Random *                                                       NaN\n",
       "EOS Mid-point                                                      347\n",
       "LEVEL                                                                7\n",
       "HEI                                     Institute of Technology, Sligo\n",
       "Test/Interview #                                                   NaN\n",
       "avp                                                                NaN\n",
       "v                                                                  NaN\n",
       "Column1                                                            NaN\n",
       "Column2                                                            NaN\n",
       "Column3                                                            NaN\n",
       "Column4                                                            NaN\n",
       "Column5                                                            NaN\n",
       "Column6                                                            NaN\n",
       "Column7                                                            NaN\n",
       "Column8                                                            NaN\n",
       "Name: 1000, dtype: object"
      ]
     },
     "execution_count": 30,
     "metadata": {},
     "output_type": "execute_result"
    }
   ],
   "source": [
    "# Checking random row\n",
    "df2020.iloc[1000]"
   ]
  },
  {
   "cell_type": "markdown",
   "id": "b0fabd96-74da-4158-bb60-1e9b82d16eff",
   "metadata": {
    "tags": []
   },
   "source": [
    "<br>"
   ]
  },
  {
   "cell_type": "markdown",
   "id": "4106260e-b052-4dcb-b206-936ecb080d6d",
   "metadata": {
    "tags": []
   },
   "source": [
    "<br>"
   ]
  },
  {
   "cell_type": "code",
   "execution_count": 31,
   "id": "7397853c-33af-4365-ba08-5540cd693e26",
   "metadata": {},
   "outputs": [
    {
     "data": {
      "text/plain": [
       "CATEGORY (i.e.ISCED description)          Engineering and engineering trades\n",
       "COURSE TITLE                        Mechanical and Manufacturing Engineering\n",
       "COURSE CODE2                                                           WD230\n",
       "R1 POINTS                                                                253\n",
       "R1 Random *                                                              NaN\n",
       "R2 POINTS                                                                NaN\n",
       "R2 Random*                                                               NaN\n",
       "EOS                                                                      253\n",
       "EOS Random *                                                             NaN\n",
       "EOS Mid-point                                                            369\n",
       "LEVEL                                                                      8\n",
       "HEI                                        Waterford Institute of Technology\n",
       "Test/Interview #                                                         NaN\n",
       "avp                                                                      NaN\n",
       "v                                                                        NaN\n",
       "Column1                                                                  NaN\n",
       "Column2                                                                  NaN\n",
       "Column3                                                                  NaN\n",
       "Column4                                                                  NaN\n",
       "Column5                                                                  NaN\n",
       "Column6                                                                  NaN\n",
       "Column7                                                                  NaN\n",
       "Column8                                                                  NaN\n",
       "Name: 1463, dtype: object"
      ]
     },
     "execution_count": 31,
     "metadata": {},
     "output_type": "execute_result"
    }
   ],
   "source": [
    "# -1 is always last row/element\n",
    "df2020.iloc[-1]"
   ]
  },
  {
   "cell_type": "markdown",
   "id": "a8821b05-a3b4-4bf1-bdb8-24b385122e02",
   "metadata": {},
   "source": [
    "<br>"
   ]
  },
  {
   "cell_type": "markdown",
   "id": "8a7978dd-0786-4d43-bf98-6499274ce4ea",
   "metadata": {
    "tags": []
   },
   "source": [
    "<br>"
   ]
  },
  {
   "cell_type": "markdown",
   "id": "8b194c63-82f2-4b61-b286-0aaa6d59fe52",
   "metadata": {
    "tags": []
   },
   "source": [
    "<br>"
   ]
  },
  {
   "cell_type": "markdown",
   "id": "88d13c49-9ae3-48f8-921a-e7779615c867",
   "metadata": {},
   "source": [
    "<br>"
   ]
  },
  {
   "cell_type": "markdown",
   "id": "ac577818-2200-4763-b339-a1eb27670aa8",
   "metadata": {},
   "source": [
    "<br>"
   ]
  },
  {
   "cell_type": "markdown",
   "id": "896349eb-c73b-4276-8cac-bf5728266009",
   "metadata": {},
   "source": [
    "### Storing The Dataframe"
   ]
  },
  {
   "cell_type": "markdown",
   "id": "bf4ce6c8-7b1c-48a5-946f-de8c8f9476b8",
   "metadata": {},
   "source": [
    "<br>"
   ]
  },
  {
   "cell_type": "markdown",
   "id": "5df3a1d8-5210-4d22-8bf5-b1646ce15ee7",
   "metadata": {
    "tags": []
   },
   "source": [
    "Storing the dataframe we created with the other files in the project directory.~"
   ]
  },
  {
   "cell_type": "markdown",
   "id": "68e766f5-fbaa-488c-a24c-f227711d05f4",
   "metadata": {
    "tags": []
   },
   "source": [
    "<br>"
   ]
  },
  {
   "cell_type": "code",
   "execution_count": 32,
   "id": "0568deaf-0c6d-44ce-ae88-4b3b13c9b7ef",
   "metadata": {},
   "outputs": [],
   "source": [
    "# Creating a path for dataframe\n",
    "path2020 = 'datasets/cao2020_' + nowstr + '.csv'"
   ]
  },
  {
   "cell_type": "markdown",
   "id": "65266843-e9ac-4d5b-8194-d11f28d8c31b",
   "metadata": {},
   "source": [
    "<br>"
   ]
  },
  {
   "cell_type": "code",
   "execution_count": 33,
   "id": "b6635892-5211-4c84-b7c8-c1d1793ca56a",
   "metadata": {},
   "outputs": [],
   "source": [
    "# Saving dataframe to disk\n",
    "df2020.to_csv(path2020)"
   ]
  },
  {
   "cell_type": "markdown",
   "id": "dbc6ddd1-c2df-4662-9927-bcfdb8db8025",
   "metadata": {},
   "source": [
    "<br>"
   ]
  },
  {
   "cell_type": "markdown",
   "id": "e6c4e18d-3f92-41b0-bde7-ac8b9291e75c",
   "metadata": {},
   "source": [
    "<br>"
   ]
  },
  {
   "cell_type": "markdown",
   "id": "154eb60c-5114-408b-86b7-a3853172b2ab",
   "metadata": {
    "tags": []
   },
   "source": [
    "<br>"
   ]
  },
  {
   "cell_type": "markdown",
   "id": "14b77010-9bd5-4ea8-aeb5-b374d90ecde9",
   "metadata": {},
   "source": [
    "<br>"
   ]
  },
  {
   "cell_type": "markdown",
   "id": "eaad733a-a9c6-4ac6-9181-edcb3fa83e67",
   "metadata": {},
   "source": [
    "***\n",
    "\n",
    "## 2019 Points\n",
    "***\n",
    "\n"
   ]
  },
  {
   "cell_type": "markdown",
   "id": "9190e7c4-7703-491c-a946-6d2a576f8ec2",
   "metadata": {
    "tags": []
   },
   "source": [
    "<br>"
   ]
  },
  {
   "cell_type": "markdown",
   "id": "28f0f3c9-86cc-49ad-875c-3c8d2dbcdbca",
   "metadata": {},
   "source": [
    "### Level 8 Courses\n",
    "https://www.cao.ie/index.php?page=points&p=2019"
   ]
  },
  {
   "cell_type": "markdown",
   "id": "e69f8c48-b27c-47c7-8e2e-85473a8c3483",
   "metadata": {},
   "source": [
    "<br>"
   ]
  },
  {
   "cell_type": "markdown",
   "id": "6697ee42-9880-4bea-9650-63ec4a0f1418",
   "metadata": {},
   "source": [
    "The 2019 CAO points are stored in PDF files. Only round 1 points are available for 2019."
   ]
  },
  {
   "cell_type": "markdown",
   "id": "f00ea9e4-95ff-453d-b068-1fc3f6fad36c",
   "metadata": {
    "tags": []
   },
   "source": [
    "<br>"
   ]
  },
  {
   "cell_type": "markdown",
   "id": "bf4fe6ce-4c58-4c4a-9dda-b02e438dc8c4",
   "metadata": {},
   "source": [
    "I decided to use the package Camelot to extract the data from the files. [The Documentation for Camelot can be found here](https://camelot-py.readthedocs.io/en/master/user/quickstart.html).\n",
    "\n",
    "Camelot has a number of [dependencies](https://camelot-py.readthedocs.io/en/master/user/install-deps.html) which must be installed before the package can be used.  I found [this](https://www.youtube.com/watch?v=LoiHI-IB3lY&t=308s) video extremely useful in getting Camelot up and running."
   ]
  },
  {
   "cell_type": "markdown",
   "id": "0e78193c-9efe-457c-a2f0-d59cbcffa36e",
   "metadata": {},
   "source": [
    "<br>"
   ]
  },
  {
   "cell_type": "markdown",
   "id": "a5505736-2bdc-42c4-bd0a-e454569903c6",
   "metadata": {
    "tags": []
   },
   "source": [
    "<br>"
   ]
  },
  {
   "cell_type": "markdown",
   "id": "4410b807-ca1d-4e66-ad6b-8d6d4edc74c1",
   "metadata": {
    "tags": []
   },
   "source": [
    "### Getting The Data"
   ]
  },
  {
   "cell_type": "markdown",
   "id": "13f6240b-1cdf-4418-bd57-5ccd5dcabfac",
   "metadata": {
    "tags": []
   },
   "source": [
    "<br>"
   ]
  },
  {
   "cell_type": "code",
   "execution_count": 34,
   "id": "b6290947-5ec8-4221-b219-6ee477b386f8",
   "metadata": {},
   "outputs": [],
   "source": [
    "# Checking all pages of pdf for data\n",
    "pdf = camelot.read_pdf('datasets/2019_points.pdf', pages='all')"
   ]
  },
  {
   "cell_type": "markdown",
   "id": "bc9bdf69-e3c6-4ffe-8b84-43bdd9fa276a",
   "metadata": {},
   "source": [
    "<br>"
   ]
  },
  {
   "cell_type": "code",
   "execution_count": 35,
   "id": "b6688b33-fd18-4e9a-bfb7-618278b3c71d",
   "metadata": {},
   "outputs": [
    {
     "name": "stdout",
     "output_type": "stream",
     "text": [
      "<class 'camelot.core.TableList'>\n"
     ]
    }
   ],
   "source": [
    "# Checking the type\n",
    "print(type(pdf))"
   ]
  },
  {
   "cell_type": "markdown",
   "id": "76bf14b0-d7d2-47db-8af3-a39641bcbe88",
   "metadata": {},
   "source": [
    "<br>"
   ]
  },
  {
   "cell_type": "markdown",
   "id": "1c903d9b-1808-44ea-8dea-134b42a92eaf",
   "metadata": {},
   "source": [
    "<br>"
   ]
  },
  {
   "cell_type": "markdown",
   "id": "24510c92-34c7-4290-958f-32afccf0ea76",
   "metadata": {
    "tags": []
   },
   "source": [
    "Note: The number of pages in the 2019 level 8 courses PDF is 18."
   ]
  },
  {
   "cell_type": "markdown",
   "id": "8fd995a3-fc9b-475d-be10-1b3cc20c2d23",
   "metadata": {
    "tags": []
   },
   "source": [
    "<br>"
   ]
  },
  {
   "cell_type": "code",
   "execution_count": 36,
   "id": "9349d243-3ede-47be-9f31-24b6a32e64c1",
   "metadata": {},
   "outputs": [
    {
     "data": {
      "text/plain": [
       "<TableList n=18>"
      ]
     },
     "execution_count": 36,
     "metadata": {},
     "output_type": "execute_result"
    }
   ],
   "source": [
    "# Checking the number of tables found\n",
    "pdf"
   ]
  },
  {
   "cell_type": "markdown",
   "id": "6cec9936-378f-4391-b84f-83c15a7cbdd0",
   "metadata": {},
   "source": [
    "<br>"
   ]
  },
  {
   "cell_type": "code",
   "execution_count": 37,
   "id": "6406c41f-4804-4579-aa82-c655977e13e2",
   "metadata": {},
   "outputs": [
    {
     "data": {
      "text/plain": [
       "{'accuracy': 100.0, 'whitespace': 2.73, 'order': 1, 'page': 2}"
      ]
     },
     "execution_count": 37,
     "metadata": {},
     "output_type": "execute_result"
    }
   ],
   "source": [
    "# checking tothe accuracy\n",
    "pdf[1].parsing_report"
   ]
  },
  {
   "cell_type": "markdown",
   "id": "74d1b3e8-6e4b-4724-b701-b6d2a6aa0ce0",
   "metadata": {},
   "source": [
    "<br>"
   ]
  },
  {
   "cell_type": "markdown",
   "id": "29de53f0-10fe-4213-87f1-8fd9918a463a",
   "metadata": {
    "tags": []
   },
   "source": [
    "From the parsing report we can see the table was extracted correctly. You can check this with all pages."
   ]
  },
  {
   "cell_type": "markdown",
   "id": "ea17836d-3eff-477d-9ce0-85ff2cfef465",
   "metadata": {
    "tags": []
   },
   "source": [
    "<br>"
   ]
  },
  {
   "cell_type": "markdown",
   "id": "67be9f3e-d646-4b65-8781-9ffb5a9e90c8",
   "metadata": {
    "tags": []
   },
   "source": [
    "<br>"
   ]
  },
  {
   "cell_type": "markdown",
   "id": "4d4bb406-ff93-4950-bd7c-50d25afafc00",
   "metadata": {
    "tags": []
   },
   "source": [
    "### Exporting Data"
   ]
  },
  {
   "cell_type": "markdown",
   "id": "658aef01-bf3d-4bb9-a8fa-b05169429bc6",
   "metadata": {
    "tags": []
   },
   "source": [
    "<br>"
   ]
  },
  {
   "cell_type": "markdown",
   "id": "a5a8546c-5151-4382-a37d-a679588e2f69",
   "metadata": {
    "tags": []
   },
   "source": [
    "The next step is to export the data found into a CSV file so we can convert it into a dataframe. By passing '''compress=True''' camelot will create a zipped folder in the specified path. This will prevent - 18 in this case - CSV files being stored. "
   ]
  },
  {
   "cell_type": "markdown",
   "id": "7c1c6c48-5341-49ba-9b2f-fd84d83a112e",
   "metadata": {
    "tags": []
   },
   "source": [
    "<br>"
   ]
  },
  {
   "cell_type": "code",
   "execution_count": 38,
   "id": "b2ad6ee8-336b-4e35-9afd-b57460b202ab",
   "metadata": {},
   "outputs": [],
   "source": [
    "# Exporting tables into a csv file\n",
    "pdf.export('datasets/2019_points.csv', f='csv', compress=True)"
   ]
  },
  {
   "cell_type": "markdown",
   "id": "35d84728-66ae-41ad-b97d-62b0f3c1f85a",
   "metadata": {},
   "source": [
    "<br>"
   ]
  },
  {
   "cell_type": "markdown",
   "id": "58484861-945a-4f5d-a369-9757f2c6a530",
   "metadata": {
    "tags": []
   },
   "source": [
    "<br>"
   ]
  },
  {
   "cell_type": "markdown",
   "id": "c2872bbb-4bd8-4b63-bc57-18ad97282f06",
   "metadata": {
    "tags": []
   },
   "source": [
    "To unzip the CSV files with use the Zipfile package [8]. "
   ]
  },
  {
   "cell_type": "markdown",
   "id": "d6e03c2b-6002-4fbf-813a-e73bdf8c6e5e",
   "metadata": {},
   "source": [
    "<br>"
   ]
  },
  {
   "cell_type": "code",
   "execution_count": 39,
   "id": "80a4bf4c-ef2d-41d4-a6aa-6da29c9f0794",
   "metadata": {},
   "outputs": [],
   "source": [
    "# Loop through zipped folder for files\n",
    "with ZipFile('datasets/2019_points.zip', 'r') as df:\n",
    "   # Extract all the contents of zip file in current directory\n",
    "   df.extractall('2019_points')"
   ]
  },
  {
   "cell_type": "markdown",
   "id": "249ddd8c-9d12-45a3-a516-b8b3377d262a",
   "metadata": {},
   "source": [
    "<br>"
   ]
  },
  {
   "cell_type": "markdown",
   "id": "f27194a1-2ebf-49ac-9d31-838d0394df23",
   "metadata": {
    "tags": []
   },
   "source": [
    "<br>"
   ]
  },
  {
   "cell_type": "markdown",
   "id": "58e03b82-c878-4be4-bad2-6e1743def21c",
   "metadata": {},
   "source": [
    "### Merging CSV Files"
   ]
  },
  {
   "cell_type": "markdown",
   "id": "6ecfd8a3-ca50-4ee4-b513-9317924249fc",
   "metadata": {
    "tags": []
   },
   "source": [
    "<br>"
   ]
  },
  {
   "cell_type": "markdown",
   "id": "29e95987-a88d-4386-b046-eb5d5e3a118b",
   "metadata": {
    "tags": []
   },
   "source": [
    "As camelot exports each table as a single file, we need to merge them all into one dataframe. We can do this by using the Glob module. Glob, which stands for global, is part of the standard Python library. \n",
    "\n",
    "It is used to \"...search for a specific file pattern, or perhaps more usefully, search for files where the filename matches a certain pattern by using wildcard characters\" [9]."
   ]
  },
  {
   "cell_type": "markdown",
   "id": "47928ba3-c025-4a54-8871-c72c688c5c9c",
   "metadata": {
    "tags": []
   },
   "source": [
    "<br>"
   ]
  },
  {
   "cell_type": "markdown",
   "id": "d3323cf2-4c9f-47db-818b-6a215cc9fcf1",
   "metadata": {
    "tags": []
   },
   "source": [
    "<br>"
   ]
  },
  {
   "cell_type": "code",
   "execution_count": 40,
   "id": "afc9e0bb-fdee-4f39-be49-3915fad5cfa6",
   "metadata": {},
   "outputs": [],
   "source": [
    "# The path to use\n",
    "path = '2019_points/'"
   ]
  },
  {
   "cell_type": "markdown",
   "id": "6eff422b-6969-4fd7-80e4-054380f2d66f",
   "metadata": {
    "tags": []
   },
   "source": [
    "<br>"
   ]
  },
  {
   "cell_type": "code",
   "execution_count": 41,
   "id": "84be02b6-a453-4882-893a-87e0e181a276",
   "metadata": {},
   "outputs": [],
   "source": [
    "# Find csvs which match this pattern\n",
    "filelist = glob.glob(path + '2019_*.csv')\n",
    "\n",
    "# Merge them together with these column headings\n",
    "df2019 = pd.concat([pd.read_csv(file, names=['code','title','points','median' ]) for file in filelist])"
   ]
  },
  {
   "cell_type": "markdown",
   "id": "33f91e8a-5be5-4274-a135-85e6131b0c58",
   "metadata": {
    "tags": []
   },
   "source": [
    "<br>"
   ]
  },
  {
   "cell_type": "markdown",
   "id": "f9cdee5a-177c-4165-8e8c-f6f84d3f3be9",
   "metadata": {},
   "source": [
    "<br>"
   ]
  },
  {
   "cell_type": "markdown",
   "id": "b104d844-f54d-490e-a41e-71615d1b4d63",
   "metadata": {
    "tags": []
   },
   "source": [
    "<br>"
   ]
  },
  {
   "cell_type": "markdown",
   "id": "974bfcfa-fa1e-476a-8ffc-911f65a508ba",
   "metadata": {
    "tags": []
   },
   "source": [
    "<br>"
   ]
  },
  {
   "cell_type": "markdown",
   "id": "c2209205-1898-4cfb-8206-59583804f2ea",
   "metadata": {
    "tags": []
   },
   "source": [
    "<br>"
   ]
  },
  {
   "cell_type": "markdown",
   "id": "005784e7-8557-470b-b731-650308610d37",
   "metadata": {
    "tags": []
   },
   "source": [
    "As we know these are all level 8 courses, we will also insert a new column into the dataframe to show this. We will also clean up the dataframe a bit by dropping the old heading and by getting rid of the rows which only contain the name of the third level institutes."
   ]
  },
  {
   "cell_type": "markdown",
   "id": "327cdb87-844e-449c-832a-3ae1fccac36f",
   "metadata": {
    "tags": []
   },
   "source": [
    "<br>"
   ]
  },
  {
   "cell_type": "markdown",
   "id": "a828dc68-33b0-488d-83de-87e04b67acba",
   "metadata": {
    "tags": []
   },
   "source": [
    "<br>"
   ]
  },
  {
   "cell_type": "code",
   "execution_count": 42,
   "id": "244978ec-2258-414a-b753-29ba7b2ad0a8",
   "metadata": {},
   "outputs": [],
   "source": [
    "# Creating a new column at the second index\n",
    "df2019.insert(2, 'level', '8')"
   ]
  },
  {
   "cell_type": "markdown",
   "id": "18978a65-f797-4bf0-a78c-1d3a20f17555",
   "metadata": {
    "tags": []
   },
   "source": [
    "<br>"
   ]
  },
  {
   "cell_type": "code",
   "execution_count": 43,
   "id": "2619d2ae-1acd-4ec8-81f1-0b09889e25a3",
   "metadata": {},
   "outputs": [
    {
     "data": {
      "text/html": [
       "<div>\n",
       "<style scoped>\n",
       "    .dataframe tbody tr th:only-of-type {\n",
       "        vertical-align: middle;\n",
       "    }\n",
       "\n",
       "    .dataframe tbody tr th {\n",
       "        vertical-align: top;\n",
       "    }\n",
       "\n",
       "    .dataframe thead th {\n",
       "        text-align: right;\n",
       "    }\n",
       "</style>\n",
       "<table border=\"1\" class=\"dataframe\">\n",
       "  <thead>\n",
       "    <tr style=\"text-align: right;\">\n",
       "      <th></th>\n",
       "      <th>code</th>\n",
       "      <th>title</th>\n",
       "      <th>level</th>\n",
       "      <th>points</th>\n",
       "      <th>median</th>\n",
       "    </tr>\n",
       "  </thead>\n",
       "  <tbody>\n",
       "    <tr>\n",
       "      <th>1</th>\n",
       "      <td>NaN</td>\n",
       "      <td>Athlone Institute of Technology</td>\n",
       "      <td>8</td>\n",
       "      <td>NaN</td>\n",
       "      <td>NaN</td>\n",
       "    </tr>\n",
       "    <tr>\n",
       "      <th>2</th>\n",
       "      <td>AL801</td>\n",
       "      <td>Software Design with Virtual Reality and Gaming</td>\n",
       "      <td>8</td>\n",
       "      <td>304</td>\n",
       "      <td>328</td>\n",
       "    </tr>\n",
       "    <tr>\n",
       "      <th>3</th>\n",
       "      <td>AL802</td>\n",
       "      <td>Software Design with Cloud Computing</td>\n",
       "      <td>8</td>\n",
       "      <td>301</td>\n",
       "      <td>306</td>\n",
       "    </tr>\n",
       "    <tr>\n",
       "      <th>4</th>\n",
       "      <td>AL803</td>\n",
       "      <td>Software Design with Mobile Apps and Connected...</td>\n",
       "      <td>8</td>\n",
       "      <td>309</td>\n",
       "      <td>337</td>\n",
       "    </tr>\n",
       "    <tr>\n",
       "      <th>5</th>\n",
       "      <td>AL805</td>\n",
       "      <td>Network Management and Cloud Infrastructure</td>\n",
       "      <td>8</td>\n",
       "      <td>329</td>\n",
       "      <td>442</td>\n",
       "    </tr>\n",
       "    <tr>\n",
       "      <th>...</th>\n",
       "      <td>...</td>\n",
       "      <td>...</td>\n",
       "      <td>...</td>\n",
       "      <td>...</td>\n",
       "      <td>...</td>\n",
       "    </tr>\n",
       "    <tr>\n",
       "      <th>50</th>\n",
       "      <td>TR032</td>\n",
       "      <td>Engineering</td>\n",
       "      <td>8</td>\n",
       "      <td>487*</td>\n",
       "      <td>520.0</td>\n",
       "    </tr>\n",
       "    <tr>\n",
       "      <th>51</th>\n",
       "      <td>TR033</td>\n",
       "      <td>Computer Science</td>\n",
       "      <td>8</td>\n",
       "      <td>465*</td>\n",
       "      <td>488.0</td>\n",
       "    </tr>\n",
       "    <tr>\n",
       "      <th>52</th>\n",
       "      <td>TR034</td>\n",
       "      <td>Management Science and Information Systems Stu...</td>\n",
       "      <td>8</td>\n",
       "      <td>589*</td>\n",
       "      <td>602.0</td>\n",
       "    </tr>\n",
       "    <tr>\n",
       "      <th>53</th>\n",
       "      <td>TR035</td>\n",
       "      <td>Theoretical Physics</td>\n",
       "      <td>8</td>\n",
       "      <td>554</td>\n",
       "      <td>601.0</td>\n",
       "    </tr>\n",
       "    <tr>\n",
       "      <th>54</th>\n",
       "      <td>TR038</td>\n",
       "      <td>Engineering with Management</td>\n",
       "      <td>8</td>\n",
       "      <td>499</td>\n",
       "      <td>543.0</td>\n",
       "    </tr>\n",
       "  </tbody>\n",
       "</table>\n",
       "<p>948 rows × 5 columns</p>\n",
       "</div>"
      ],
      "text/plain": [
       "     code                                              title level points  \\\n",
       "1     NaN                    Athlone Institute of Technology     8    NaN   \n",
       "2   AL801    Software Design with Virtual Reality and Gaming     8    304   \n",
       "3   AL802               Software Design with Cloud Computing     8    301   \n",
       "4   AL803  Software Design with Mobile Apps and Connected...     8    309   \n",
       "5   AL805        Network Management and Cloud Infrastructure     8    329   \n",
       "..    ...                                                ...   ...    ...   \n",
       "50  TR032                                        Engineering     8   487*   \n",
       "51  TR033                                   Computer Science     8   465*   \n",
       "52  TR034  Management Science and Information Systems Stu...     8   589*   \n",
       "53  TR035                                Theoretical Physics     8    554   \n",
       "54  TR038                        Engineering with Management     8    499   \n",
       "\n",
       "   median  \n",
       "1     NaN  \n",
       "2     328  \n",
       "3     306  \n",
       "4     337  \n",
       "5     442  \n",
       "..    ...  \n",
       "50  520.0  \n",
       "51  488.0  \n",
       "52  602.0  \n",
       "53  601.0  \n",
       "54  543.0  \n",
       "\n",
       "[948 rows x 5 columns]"
      ]
     },
     "execution_count": 43,
     "metadata": {},
     "output_type": "execute_result"
    }
   ],
   "source": [
    "# Dropping old heading\n",
    "df2019.drop(0)"
   ]
  },
  {
   "cell_type": "markdown",
   "id": "b51b7525-e0bb-466c-b86c-bcf2728af00f",
   "metadata": {
    "tags": []
   },
   "source": [
    "<br>"
   ]
  },
  {
   "cell_type": "code",
   "execution_count": 44,
   "id": "3cb4c584-ac09-4a1b-bff5-a1ce2dece574",
   "metadata": {},
   "outputs": [],
   "source": [
    "# Getting rid of rows containing institute names only\n",
    "df2019 = df2019[df2019['code'].notnull()]"
   ]
  },
  {
   "cell_type": "markdown",
   "id": "16249be5-d1ce-4b51-a155-6f05ca8bf4d7",
   "metadata": {},
   "source": [
    "<br>"
   ]
  },
  {
   "cell_type": "code",
   "execution_count": 45,
   "id": "ba70f573-6af3-4f58-b04a-4aecd7343448",
   "metadata": {
    "tags": []
   },
   "outputs": [
    {
     "data": {
      "text/html": [
       "<div>\n",
       "<style scoped>\n",
       "    .dataframe tbody tr th:only-of-type {\n",
       "        vertical-align: middle;\n",
       "    }\n",
       "\n",
       "    .dataframe tbody tr th {\n",
       "        vertical-align: top;\n",
       "    }\n",
       "\n",
       "    .dataframe thead th {\n",
       "        text-align: right;\n",
       "    }\n",
       "</style>\n",
       "<table border=\"1\" class=\"dataframe\">\n",
       "  <thead>\n",
       "    <tr style=\"text-align: right;\">\n",
       "      <th></th>\n",
       "      <th>code</th>\n",
       "      <th>title</th>\n",
       "      <th>level</th>\n",
       "      <th>points</th>\n",
       "      <th>median</th>\n",
       "    </tr>\n",
       "  </thead>\n",
       "  <tbody>\n",
       "    <tr>\n",
       "      <th>50</th>\n",
       "      <td>TR032</td>\n",
       "      <td>Engineering</td>\n",
       "      <td>8</td>\n",
       "      <td>487*</td>\n",
       "      <td>520.0</td>\n",
       "    </tr>\n",
       "    <tr>\n",
       "      <th>51</th>\n",
       "      <td>TR033</td>\n",
       "      <td>Computer Science</td>\n",
       "      <td>8</td>\n",
       "      <td>465*</td>\n",
       "      <td>488.0</td>\n",
       "    </tr>\n",
       "    <tr>\n",
       "      <th>52</th>\n",
       "      <td>TR034</td>\n",
       "      <td>Management Science and Information Systems Stu...</td>\n",
       "      <td>8</td>\n",
       "      <td>589*</td>\n",
       "      <td>602.0</td>\n",
       "    </tr>\n",
       "    <tr>\n",
       "      <th>53</th>\n",
       "      <td>TR035</td>\n",
       "      <td>Theoretical Physics</td>\n",
       "      <td>8</td>\n",
       "      <td>554</td>\n",
       "      <td>601.0</td>\n",
       "    </tr>\n",
       "    <tr>\n",
       "      <th>54</th>\n",
       "      <td>TR038</td>\n",
       "      <td>Engineering with Management</td>\n",
       "      <td>8</td>\n",
       "      <td>499</td>\n",
       "      <td>543.0</td>\n",
       "    </tr>\n",
       "  </tbody>\n",
       "</table>\n",
       "</div>"
      ],
      "text/plain": [
       "     code                                              title level points  \\\n",
       "50  TR032                                        Engineering     8   487*   \n",
       "51  TR033                                   Computer Science     8   465*   \n",
       "52  TR034  Management Science and Information Systems Stu...     8   589*   \n",
       "53  TR035                                Theoretical Physics     8    554   \n",
       "54  TR038                        Engineering with Management     8    499   \n",
       "\n",
       "   median  \n",
       "50  520.0  \n",
       "51  488.0  \n",
       "52  602.0  \n",
       "53  601.0  \n",
       "54  543.0  "
      ]
     },
     "execution_count": 45,
     "metadata": {},
     "output_type": "execute_result"
    }
   ],
   "source": [
    "# Checking last 5 rows\n",
    "df2019.tail()"
   ]
  },
  {
   "cell_type": "markdown",
   "id": "8260ae18-9577-49b1-abcd-3038d2d11829",
   "metadata": {
    "tags": []
   },
   "source": [
    "<br>"
   ]
  },
  {
   "cell_type": "markdown",
   "id": "bd42ad6f-600e-450a-9fce-882325e9ca51",
   "metadata": {},
   "source": [
    "<br>"
   ]
  },
  {
   "cell_type": "markdown",
   "id": "e4bd875b-76e6-4b1a-a260-81fba6e48e4a",
   "metadata": {},
   "source": [
    "<br>"
   ]
  },
  {
   "cell_type": "markdown",
   "id": "ed0812d2-50c2-47c3-b1d6-f80a086e4bb4",
   "metadata": {},
   "source": [
    "<br>"
   ]
  },
  {
   "cell_type": "markdown",
   "id": "d75975ea-bf69-4cb0-9f2a-216655885581",
   "metadata": {},
   "source": [
    "<br>"
   ]
  },
  {
   "cell_type": "markdown",
   "id": "959c3229-da80-4b0a-9fcb-f9c464654de0",
   "metadata": {
    "tags": []
   },
   "source": [
    "***"
   ]
  },
  {
   "cell_type": "markdown",
   "id": "ae9cae1d-97a9-4991-958f-a35d8dbbcab0",
   "metadata": {},
   "source": [
    "<br>"
   ]
  },
  {
   "cell_type": "markdown",
   "id": "a382a48d-7eae-4d8b-b464-f6b0bd3a423e",
   "metadata": {
    "tags": []
   },
   "source": [
    "### Level 6 & 7 Courses"
   ]
  },
  {
   "cell_type": "markdown",
   "id": "bc54a4b0-1e40-4cfc-8768-3778d8388ece",
   "metadata": {
    "tags": []
   },
   "source": [
    "http://www2.cao.ie/points/lvl76_19.pdf"
   ]
  },
  {
   "cell_type": "markdown",
   "id": "0ee90755-980d-43a6-b8cf-d161b88aa540",
   "metadata": {
    "tags": []
   },
   "source": [
    "<br>"
   ]
  },
  {
   "cell_type": "markdown",
   "id": "5a325a13-625a-4a21-95d1-2e7b7dc253bb",
   "metadata": {
    "tags": []
   },
   "source": [
    "To retrive the 2019 level 6 and 7 courses we repeat this process. "
   ]
  },
  {
   "cell_type": "markdown",
   "id": "68be944e-a976-49c1-ad65-6570103cbf65",
   "metadata": {
    "tags": []
   },
   "source": [
    "<br>"
   ]
  },
  {
   "cell_type": "markdown",
   "id": "055059e0-5559-4b26-ae15-2e52ee255ace",
   "metadata": {
    "tags": []
   },
   "source": [
    "### Getting The Data"
   ]
  },
  {
   "cell_type": "markdown",
   "id": "5ea1d38c-8331-428b-84fa-7c17c76cbd3c",
   "metadata": {
    "tags": []
   },
   "source": [
    "<br>"
   ]
  },
  {
   "cell_type": "markdown",
   "id": "53fd8c61-ecb6-4ff0-8b9a-07c30df4c98c",
   "metadata": {
    "tags": []
   },
   "source": [
    "There are 10 pages in the level 6 and 7 courses PDF."
   ]
  },
  {
   "cell_type": "markdown",
   "id": "8fb794ed-87a1-4be2-98b4-de0b87705cfa",
   "metadata": {
    "tags": []
   },
   "source": [
    "<br>"
   ]
  },
  {
   "cell_type": "code",
   "execution_count": 46,
   "id": "30b0352a-9300-4784-a1f5-7734d65efb50",
   "metadata": {},
   "outputs": [],
   "source": [
    "# Checking all pages of pdf for data\n",
    "pdf_2 = camelot.read_pdf('datasets/2019_points_2.pdf', pages='all')"
   ]
  },
  {
   "cell_type": "markdown",
   "id": "5dc2e623-380c-4d7f-ac04-b04c6fd5e55c",
   "metadata": {
    "tags": []
   },
   "source": [
    "<br>"
   ]
  },
  {
   "cell_type": "code",
   "execution_count": 47,
   "id": "2b96527d-dfb4-46d4-85ed-c8c571e3082f",
   "metadata": {},
   "outputs": [
    {
     "data": {
      "text/plain": [
       "<TableList n=10>"
      ]
     },
     "execution_count": 47,
     "metadata": {},
     "output_type": "execute_result"
    }
   ],
   "source": [
    "# Checking the number of tables, should be 10\n",
    "pdf_2"
   ]
  },
  {
   "cell_type": "markdown",
   "id": "9d62af47-be9a-4689-a510-9ed4c1adeac2",
   "metadata": {
    "tags": []
   },
   "source": [
    "<br>"
   ]
  },
  {
   "cell_type": "markdown",
   "id": "b90975f2-f2c5-4bf3-b3aa-d4feb2561566",
   "metadata": {
    "tags": []
   },
   "source": [
    "<br>"
   ]
  },
  {
   "cell_type": "code",
   "execution_count": 48,
   "id": "5ea24a78-755f-4705-96fc-fd4a595adeee",
   "metadata": {},
   "outputs": [
    {
     "data": {
      "text/plain": [
       "{'accuracy': 100.0, 'whitespace': 9.26, 'order': 1, 'page': 4}"
      ]
     },
     "execution_count": 48,
     "metadata": {},
     "output_type": "execute_result"
    }
   ],
   "source": [
    "# checking to make sure it worked\n",
    "pdf_2[3].parsing_report"
   ]
  },
  {
   "cell_type": "markdown",
   "id": "3f7db0fb-e1a6-4bbb-b023-89ee903761a1",
   "metadata": {},
   "source": [
    "<br>"
   ]
  },
  {
   "cell_type": "markdown",
   "id": "cbf49701-77b5-4a26-bdea-846b391fe5d1",
   "metadata": {},
   "source": [
    "<br>"
   ]
  },
  {
   "cell_type": "markdown",
   "id": "48774ca2-30e4-46e9-abec-1f32ca05d319",
   "metadata": {
    "tags": []
   },
   "source": [
    "<br>"
   ]
  },
  {
   "cell_type": "markdown",
   "id": "cac03a30-b85b-4942-b17e-3403af15f606",
   "metadata": {
    "tags": []
   },
   "source": [
    "<br>"
   ]
  },
  {
   "cell_type": "markdown",
   "id": "deb900e6-996b-405a-80f8-538b9164e4eb",
   "metadata": {
    "tags": []
   },
   "source": [
    "### Exporting The Data"
   ]
  },
  {
   "cell_type": "markdown",
   "id": "1d1cccaa-99a7-4918-a1a9-6ca76e089767",
   "metadata": {
    "tags": []
   },
   "source": [
    "<br>"
   ]
  },
  {
   "cell_type": "markdown",
   "id": "b1c88dc7-0c9b-4696-b99f-dce406b0fd25",
   "metadata": {
    "tags": []
   },
   "source": [
    "<br>"
   ]
  },
  {
   "cell_type": "code",
   "execution_count": 49,
   "id": "ae34aae1-fef4-4b97-8b22-81a5d8e70597",
   "metadata": {},
   "outputs": [],
   "source": [
    "# Exporting tables into a csv file\n",
    "pdf_2.export('datasets/2019_points_2.csv', f='csv', compress=True)"
   ]
  },
  {
   "cell_type": "markdown",
   "id": "515c6ba6-ccf7-48d6-a85d-9956e615497c",
   "metadata": {
    "tags": []
   },
   "source": [
    "<br>"
   ]
  },
  {
   "cell_type": "markdown",
   "id": "fada7eb3-3f2e-4135-9dfa-0d9337d970f7",
   "metadata": {
    "tags": []
   },
   "source": [
    "<br>"
   ]
  },
  {
   "cell_type": "code",
   "execution_count": 50,
   "id": "00ae28cc-8991-44ae-b025-c2d634e3d6f0",
   "metadata": {},
   "outputs": [],
   "source": [
    "# Unzipping the folder - multiple tables are exported as a zip\n",
    "# Loop through zipped folder for files\n",
    "with ZipFile('datasets/2019_points_2.zip', 'r') as df:\n",
    "   # Extract all the contents of zip file in current directory\n",
    "   df.extractall('2019_points_2')"
   ]
  },
  {
   "cell_type": "markdown",
   "id": "9f41928e-f3d2-4461-ab42-9dde3092fa45",
   "metadata": {
    "tags": []
   },
   "source": [
    "<br>"
   ]
  },
  {
   "cell_type": "markdown",
   "id": "f5c79474-4efe-4c53-9f1c-d5e01e0b2899",
   "metadata": {
    "tags": []
   },
   "source": [
    "<br>"
   ]
  },
  {
   "cell_type": "markdown",
   "id": "09c5b4c6-8072-456e-a474-b7af76ec3524",
   "metadata": {},
   "source": [
    "### Merging CSV Files"
   ]
  },
  {
   "cell_type": "markdown",
   "id": "74a55e87-56c6-416a-94ac-a6e2cc718504",
   "metadata": {},
   "source": [
    "<br>"
   ]
  },
  {
   "cell_type": "code",
   "execution_count": 51,
   "id": "1d349b61-b086-4b9f-97ac-51950d7d44bf",
   "metadata": {},
   "outputs": [],
   "source": [
    "# Creating a path\n",
    "path = '2019_points_2/'"
   ]
  },
  {
   "cell_type": "markdown",
   "id": "c29cf108-674e-4599-be78-865488462994",
   "metadata": {},
   "source": [
    "<br>"
   ]
  },
  {
   "cell_type": "markdown",
   "id": "f776d555-a480-4d5f-a558-83f9cb3e0d21",
   "metadata": {},
   "source": [
    "<br>"
   ]
  },
  {
   "cell_type": "code",
   "execution_count": 52,
   "id": "144859d4-5442-4c50-8038-bf44d2b5cc8d",
   "metadata": {},
   "outputs": [],
   "source": [
    "# Find csvs which match this pattern\n",
    "filelist = glob.glob(path + '2019_*.csv')\n",
    "\n",
    "# Merge them together with these column headings. Leaving blurb from pdf without skiprows\n",
    "df2019_2 = pd.concat([pd.read_csv(file, names=['code','title','points','median'], skiprows=10) for file in filelist])"
   ]
  },
  {
   "cell_type": "markdown",
   "id": "340beab7-1284-45ae-9711-3f8031f51c7b",
   "metadata": {},
   "source": [
    "<br>"
   ]
  },
  {
   "cell_type": "markdown",
   "id": "6ae4ae4f-2bb4-4b62-93dc-ac95a32c1fd0",
   "metadata": {},
   "source": [
    "<br>"
   ]
  },
  {
   "cell_type": "markdown",
   "id": "7b3abf8b-7209-42ea-8ffa-6d7d76097a00",
   "metadata": {
    "tags": []
   },
   "source": [
    "Unfortunatly, the 2019 level 6 and 7 courses aren't distingushed from each other. In tandem with 2021, I decided to insert them as '6/7' under a new column heading 'level'. This will distingush them from the courses we know for certain are level 8. Additionally, we will get rid of the rows which only contain the name of the third level institutes."
   ]
  },
  {
   "cell_type": "markdown",
   "id": "38c4bf16-a076-4be6-b560-056d5de98787",
   "metadata": {},
   "source": [
    "<br>"
   ]
  },
  {
   "cell_type": "markdown",
   "id": "46d5274f-6dc8-48b0-b9b9-fddf79f2cfec",
   "metadata": {},
   "source": [
    "<br>"
   ]
  },
  {
   "cell_type": "code",
   "execution_count": 53,
   "id": "7dba18ef-17ce-4b06-9dc3-de0cb69d8e6c",
   "metadata": {},
   "outputs": [],
   "source": [
    "# Creating a new column at the second index\n",
    "df2019_2.insert(2, 'level', '6/7')"
   ]
  },
  {
   "cell_type": "markdown",
   "id": "4eed9c85-00ed-44a7-9c91-5a39eadea9d0",
   "metadata": {},
   "source": [
    "<br>"
   ]
  },
  {
   "cell_type": "code",
   "execution_count": 54,
   "id": "9847cb4e-3fcd-439d-a852-215b91e09835",
   "metadata": {},
   "outputs": [],
   "source": [
    "# Getting rid of rows containing institute names only\n",
    "df2019_2 = df2019_2[df2019_2['code'].notnull()]"
   ]
  },
  {
   "cell_type": "markdown",
   "id": "c90131b7-0cb8-4a3f-a3b4-d649315568f1",
   "metadata": {},
   "source": [
    "<br>"
   ]
  },
  {
   "cell_type": "code",
   "execution_count": 55,
   "id": "aa6e2b8d-4a92-49ee-b8de-9b37510315cd",
   "metadata": {},
   "outputs": [
    {
     "data": {
      "text/html": [
       "<div>\n",
       "<style scoped>\n",
       "    .dataframe tbody tr th:only-of-type {\n",
       "        vertical-align: middle;\n",
       "    }\n",
       "\n",
       "    .dataframe tbody tr th {\n",
       "        vertical-align: top;\n",
       "    }\n",
       "\n",
       "    .dataframe thead th {\n",
       "        text-align: right;\n",
       "    }\n",
       "</style>\n",
       "<table border=\"1\" class=\"dataframe\">\n",
       "  <thead>\n",
       "    <tr style=\"text-align: right;\">\n",
       "      <th></th>\n",
       "      <th>code</th>\n",
       "      <th>title</th>\n",
       "      <th>level</th>\n",
       "      <th>points</th>\n",
       "      <th>median</th>\n",
       "    </tr>\n",
       "  </thead>\n",
       "  <tbody>\n",
       "    <tr>\n",
       "      <th>0</th>\n",
       "      <td>AL600</td>\n",
       "      <td>Software Design</td>\n",
       "      <td>6/7</td>\n",
       "      <td>205</td>\n",
       "      <td>306.0</td>\n",
       "    </tr>\n",
       "    <tr>\n",
       "      <th>1</th>\n",
       "      <td>AL601</td>\n",
       "      <td>Computer Engineering</td>\n",
       "      <td>6/7</td>\n",
       "      <td>196</td>\n",
       "      <td>272.0</td>\n",
       "    </tr>\n",
       "    <tr>\n",
       "      <th>2</th>\n",
       "      <td>AL602</td>\n",
       "      <td>Mechanical Engineering</td>\n",
       "      <td>6/7</td>\n",
       "      <td>258</td>\n",
       "      <td>424.0</td>\n",
       "    </tr>\n",
       "    <tr>\n",
       "      <th>3</th>\n",
       "      <td>AL604</td>\n",
       "      <td>Civil Engineering</td>\n",
       "      <td>6/7</td>\n",
       "      <td>252</td>\n",
       "      <td>360.0</td>\n",
       "    </tr>\n",
       "    <tr>\n",
       "      <th>4</th>\n",
       "      <td>AL630</td>\n",
       "      <td>Pharmacy Technician</td>\n",
       "      <td>6/7</td>\n",
       "      <td>306</td>\n",
       "      <td>366.0</td>\n",
       "    </tr>\n",
       "  </tbody>\n",
       "</table>\n",
       "</div>"
      ],
      "text/plain": [
       "    code                   title level points  median\n",
       "0  AL600         Software Design   6/7    205   306.0\n",
       "1  AL601    Computer Engineering   6/7    196   272.0\n",
       "2  AL602  Mechanical Engineering   6/7    258   424.0\n",
       "3  AL604       Civil Engineering   6/7    252   360.0\n",
       "4  AL630     Pharmacy Technician   6/7    306   366.0"
      ]
     },
     "execution_count": 55,
     "metadata": {},
     "output_type": "execute_result"
    }
   ],
   "source": [
    "# Checking pandas dataframe\n",
    "df2019_2. head()"
   ]
  },
  {
   "cell_type": "markdown",
   "id": "40d5e7e3-02f0-4036-b0da-f1da62a92580",
   "metadata": {},
   "source": [
    "<br>"
   ]
  },
  {
   "cell_type": "markdown",
   "id": "6f19caf5-5a06-4f2d-b7f2-0c16f1d7a0cc",
   "metadata": {},
   "source": [
    "<br>"
   ]
  },
  {
   "cell_type": "markdown",
   "id": "ecca7434-813d-4798-98d3-8dc3f132f230",
   "metadata": {},
   "source": [
    "<br>"
   ]
  },
  {
   "cell_type": "markdown",
   "id": "05da86c2-debc-4a85-b875-82d221042467",
   "metadata": {},
   "source": [
    "<br>"
   ]
  },
  {
   "cell_type": "markdown",
   "id": "79bc792c-9f11-400f-bce8-9705e712c44f",
   "metadata": {},
   "source": [
    "<br>"
   ]
  },
  {
   "cell_type": "markdown",
   "id": "9bff566f-4040-4dc3-897c-68dd0a9b2a87",
   "metadata": {},
   "source": [
    "***\n",
    "## Cleaning Up Dataframes & Data \n",
    "***"
   ]
  },
  {
   "cell_type": "markdown",
   "id": "c6782286-3f8a-469b-b21b-0d7741e2f6b0",
   "metadata": {},
   "source": [
    "<br>"
   ]
  },
  {
   "cell_type": "markdown",
   "id": "acb3aa50-c0ef-4fd2-868c-3b3f47e943d4",
   "metadata": {
    "tags": []
   },
   "source": [
    "Let's clean up our dataframes by choosing the columns we will be using, merging the level 6, 7 and 8 level courses for 2019 and 2021 together and any duplicate values.'"
   ]
  },
  {
   "cell_type": "markdown",
   "id": "7ce2da40-65b9-42a2-8dfe-a889de23d590",
   "metadata": {},
   "source": [
    "<br>"
   ]
  },
  {
   "cell_type": "markdown",
   "id": "a9e4ce20-e386-4f62-af05-077a05a0685d",
   "metadata": {
    "tags": []
   },
   "source": [
    "### 2021"
   ]
  },
  {
   "cell_type": "markdown",
   "id": "1b56ec2d-3b29-4750-825e-b33ad94edca3",
   "metadata": {},
   "source": [
    "<br>"
   ]
  },
  {
   "cell_type": "code",
   "execution_count": 56,
   "id": "60eb8732-1e74-4c0a-b42c-50df2065b742",
   "metadata": {},
   "outputs": [],
   "source": [
    "# Selecting columns level 8\n",
    "level_8_2021 = df2021[['code', 'title', 'level',  'pointsR1', 'pointsR2']]"
   ]
  },
  {
   "cell_type": "markdown",
   "id": "03cfad87-7bff-41ee-bfa5-9517bf4e0b17",
   "metadata": {},
   "source": [
    "<br>"
   ]
  },
  {
   "cell_type": "code",
   "execution_count": 57,
   "id": "1f6ee91c-3c8f-4652-ba79-4623ad185e82",
   "metadata": {},
   "outputs": [],
   "source": [
    "# Selecting columns level 6/7\n",
    "level_6_2021 = df2021_2[['code', 'title', 'level',  'pointsR1', 'pointsR2']]"
   ]
  },
  {
   "cell_type": "markdown",
   "id": "b3672a01-6f87-41de-9159-0624e4f38661",
   "metadata": {},
   "source": [
    "<br>"
   ]
  },
  {
   "cell_type": "markdown",
   "id": "a1c99463-29fe-46ef-8821-99a29ad39d17",
   "metadata": {},
   "source": [
    "<br>"
   ]
  },
  {
   "cell_type": "markdown",
   "id": "a20ecdc2-246c-46e8-9258-ddeda935d1dd",
   "metadata": {},
   "source": [
    "Pandas makes it super simple for us to combine our dataframes by performing concatenation. The concat method allows us \"...to append either columns or rows from one DataFrame to another\" [10]."
   ]
  },
  {
   "cell_type": "markdown",
   "id": "d33fbf99-6f31-48f2-9a51-bfcf7fddadae",
   "metadata": {},
   "source": [
    "<br>"
   ]
  },
  {
   "cell_type": "markdown",
   "id": "6cdd76d1-ec09-4161-b505-6500e4e01e64",
   "metadata": {},
   "source": [
    "![img](images/concat.png)"
   ]
  },
  {
   "cell_type": "markdown",
   "id": "1731ad91-48c2-41b3-bb00-0e62cf5d153a",
   "metadata": {},
   "source": [
    "<br>"
   ]
  },
  {
   "cell_type": "markdown",
   "id": "c1ef5b59-b66c-4b15-a8eb-f776dce546ae",
   "metadata": {},
   "source": [
    "<br>"
   ]
  },
  {
   "cell_type": "code",
   "execution_count": 58,
   "id": "d186a1af-013c-499f-85d6-25dad2d41590",
   "metadata": {},
   "outputs": [
    {
     "data": {
      "text/html": [
       "<div>\n",
       "<style scoped>\n",
       "    .dataframe tbody tr th:only-of-type {\n",
       "        vertical-align: middle;\n",
       "    }\n",
       "\n",
       "    .dataframe tbody tr th {\n",
       "        vertical-align: top;\n",
       "    }\n",
       "\n",
       "    .dataframe thead th {\n",
       "        text-align: right;\n",
       "    }\n",
       "</style>\n",
       "<table border=\"1\" class=\"dataframe\">\n",
       "  <thead>\n",
       "    <tr style=\"text-align: right;\">\n",
       "      <th></th>\n",
       "      <th>code</th>\n",
       "      <th>title</th>\n",
       "      <th>level</th>\n",
       "      <th>pointsR1</th>\n",
       "      <th>pointsR2</th>\n",
       "    </tr>\n",
       "  </thead>\n",
       "  <tbody>\n",
       "    <tr>\n",
       "      <th>0</th>\n",
       "      <td>AL801</td>\n",
       "      <td>Software Design for Virtual Reality and Gaming</td>\n",
       "      <td>8</td>\n",
       "      <td>300</td>\n",
       "      <td>NaN</td>\n",
       "    </tr>\n",
       "    <tr>\n",
       "      <th>1</th>\n",
       "      <td>AL802</td>\n",
       "      <td>Software Design in Artificial Intelligence for...</td>\n",
       "      <td>8</td>\n",
       "      <td>313</td>\n",
       "      <td>NaN</td>\n",
       "    </tr>\n",
       "    <tr>\n",
       "      <th>2</th>\n",
       "      <td>AL803</td>\n",
       "      <td>Software Design for Mobile Apps and Connected ...</td>\n",
       "      <td>8</td>\n",
       "      <td>350</td>\n",
       "      <td>NaN</td>\n",
       "    </tr>\n",
       "    <tr>\n",
       "      <th>3</th>\n",
       "      <td>AL805</td>\n",
       "      <td>Computer Engineering for Network Infrastructure</td>\n",
       "      <td>8</td>\n",
       "      <td>321</td>\n",
       "      <td>NaN</td>\n",
       "    </tr>\n",
       "    <tr>\n",
       "      <th>4</th>\n",
       "      <td>AL810</td>\n",
       "      <td>Quantity Surveying</td>\n",
       "      <td>8</td>\n",
       "      <td>328</td>\n",
       "      <td>NaN</td>\n",
       "    </tr>\n",
       "    <tr>\n",
       "      <th>...</th>\n",
       "      <td>...</td>\n",
       "      <td>...</td>\n",
       "      <td>...</td>\n",
       "      <td>...</td>\n",
       "      <td>...</td>\n",
       "    </tr>\n",
       "    <tr>\n",
       "      <th>1360</th>\n",
       "      <td>WD188</td>\n",
       "      <td>Applied Health Care</td>\n",
       "      <td>6/7</td>\n",
       "      <td>220</td>\n",
       "      <td>NaN</td>\n",
       "    </tr>\n",
       "    <tr>\n",
       "      <th>1361</th>\n",
       "      <td>WD205</td>\n",
       "      <td>Molecular Biology with Biopharmaceutical Science</td>\n",
       "      <td>6/7</td>\n",
       "      <td>AQA</td>\n",
       "      <td>262v</td>\n",
       "    </tr>\n",
       "    <tr>\n",
       "      <th>1362</th>\n",
       "      <td>WD206</td>\n",
       "      <td>Electronic Engineering</td>\n",
       "      <td>6/7</td>\n",
       "      <td>180</td>\n",
       "      <td>NaN</td>\n",
       "    </tr>\n",
       "    <tr>\n",
       "      <th>1363</th>\n",
       "      <td>WD207</td>\n",
       "      <td>Mechanical Engineering</td>\n",
       "      <td>6/7</td>\n",
       "      <td>172</td>\n",
       "      <td>NaN</td>\n",
       "    </tr>\n",
       "    <tr>\n",
       "      <th>1364</th>\n",
       "      <td>WD208</td>\n",
       "      <td>Manufacturing Engineering</td>\n",
       "      <td>6/7</td>\n",
       "      <td>317</td>\n",
       "      <td>NaN</td>\n",
       "    </tr>\n",
       "  </tbody>\n",
       "</table>\n",
       "<p>1365 rows × 5 columns</p>\n",
       "</div>"
      ],
      "text/plain": [
       "       code                                              title level pointsR1  \\\n",
       "0     AL801     Software Design for Virtual Reality and Gaming     8      300   \n",
       "1     AL802  Software Design in Artificial Intelligence for...     8      313   \n",
       "2     AL803  Software Design for Mobile Apps and Connected ...     8      350   \n",
       "3     AL805    Computer Engineering for Network Infrastructure     8      321   \n",
       "4     AL810                                 Quantity Surveying     8      328   \n",
       "...     ...                                                ...   ...      ...   \n",
       "1360  WD188                                Applied Health Care   6/7      220   \n",
       "1361  WD205   Molecular Biology with Biopharmaceutical Science   6/7      AQA   \n",
       "1362  WD206                             Electronic Engineering   6/7      180   \n",
       "1363  WD207                             Mechanical Engineering   6/7      172   \n",
       "1364  WD208                          Manufacturing Engineering   6/7      317   \n",
       "\n",
       "     pointsR2  \n",
       "0         NaN  \n",
       "1         NaN  \n",
       "2         NaN  \n",
       "3         NaN  \n",
       "4         NaN  \n",
       "...       ...  \n",
       "1360      NaN  \n",
       "1361     262v  \n",
       "1362      NaN  \n",
       "1363      NaN  \n",
       "1364      NaN  \n",
       "\n",
       "[1365 rows x 5 columns]"
      ]
     },
     "execution_count": 58,
     "metadata": {},
     "output_type": "execute_result"
    }
   ],
   "source": [
    "# Concatenating level 8 and 6/7 2021 courses\n",
    "total2021 = pd.concat([level_8_2021, level_6_2021], ignore_index=True)\n",
    "total2021"
   ]
  },
  {
   "cell_type": "markdown",
   "id": "697cdd25-c5af-41a1-abeb-ff1f776d5c3d",
   "metadata": {},
   "source": [
    "<br>"
   ]
  },
  {
   "cell_type": "markdown",
   "id": "5ed9157c-6881-4ae5-a533-db76be35e835",
   "metadata": {},
   "source": [
    "<br>"
   ]
  },
  {
   "cell_type": "markdown",
   "id": "25112745-8e20-450f-882b-439496b533b9",
   "metadata": {
    "tags": []
   },
   "source": [
    "<br>"
   ]
  },
  {
   "cell_type": "markdown",
   "id": "85fd5608-4e2f-4707-a0a6-ca1b71aca24e",
   "metadata": {},
   "source": [
    "### 2020"
   ]
  },
  {
   "cell_type": "markdown",
   "id": "9945a09f-263c-4eeb-8ac2-e739ec517fb6",
   "metadata": {},
   "source": [
    "<br>"
   ]
  },
  {
   "cell_type": "markdown",
   "id": "072a296c-2a5c-4eac-b289-1963170be5de",
   "metadata": {},
   "source": [
    "As all courses are inculded in the one file for 2020 points we don't need to combine them. We will however create a new dataframe by choosing the column titles we will be using."
   ]
  },
  {
   "cell_type": "markdown",
   "id": "f5077656-a206-4362-a63e-c1b1e7209ca2",
   "metadata": {},
   "source": [
    "<br>"
   ]
  },
  {
   "cell_type": "code",
   "execution_count": 59,
   "id": "a1076ed4-0a05-438d-b50c-5f4e705cb347",
   "metadata": {},
   "outputs": [],
   "source": [
    "# Selecting coloumns\n",
    "total2020 = df2020[['COURSE CODE2','COURSE TITLE', 'LEVEL']]"
   ]
  },
  {
   "cell_type": "markdown",
   "id": "19b80b11-395d-4f21-bf68-f405ab0594b9",
   "metadata": {},
   "source": [
    "<br>"
   ]
  },
  {
   "cell_type": "code",
   "execution_count": 60,
   "id": "3c5705a5-c59e-4b71-a6ce-2379d212af95",
   "metadata": {},
   "outputs": [],
   "source": [
    "# Renaming columns\n",
    "total2020.columns = ['code', 'title', 'level']"
   ]
  },
  {
   "cell_type": "markdown",
   "id": "81262f07-27f1-47d5-a4c8-776251cb7f67",
   "metadata": {},
   "source": [
    "<br>"
   ]
  },
  {
   "cell_type": "code",
   "execution_count": 61,
   "id": "b0f57f5c-ef78-4ad2-883d-8f21711bfbb6",
   "metadata": {},
   "outputs": [
    {
     "data": {
      "text/html": [
       "<div>\n",
       "<style scoped>\n",
       "    .dataframe tbody tr th:only-of-type {\n",
       "        vertical-align: middle;\n",
       "    }\n",
       "\n",
       "    .dataframe tbody tr th {\n",
       "        vertical-align: top;\n",
       "    }\n",
       "\n",
       "    .dataframe thead th {\n",
       "        text-align: right;\n",
       "    }\n",
       "</style>\n",
       "<table border=\"1\" class=\"dataframe\">\n",
       "  <thead>\n",
       "    <tr style=\"text-align: right;\">\n",
       "      <th></th>\n",
       "      <th>code</th>\n",
       "      <th>title</th>\n",
       "      <th>level</th>\n",
       "    </tr>\n",
       "  </thead>\n",
       "  <tbody>\n",
       "    <tr>\n",
       "      <th>0</th>\n",
       "      <td>AC120</td>\n",
       "      <td>International Business</td>\n",
       "      <td>8</td>\n",
       "    </tr>\n",
       "    <tr>\n",
       "      <th>1</th>\n",
       "      <td>AC137</td>\n",
       "      <td>Liberal Arts</td>\n",
       "      <td>8</td>\n",
       "    </tr>\n",
       "    <tr>\n",
       "      <th>2</th>\n",
       "      <td>AD101</td>\n",
       "      <td>First Year Art &amp; Design (Common Entry,portfolio)</td>\n",
       "      <td>8</td>\n",
       "    </tr>\n",
       "    <tr>\n",
       "      <th>3</th>\n",
       "      <td>AD102</td>\n",
       "      <td>Graphic Design and Moving Image Design (portfo...</td>\n",
       "      <td>8</td>\n",
       "    </tr>\n",
       "    <tr>\n",
       "      <th>4</th>\n",
       "      <td>AD103</td>\n",
       "      <td>Textile &amp; Surface Design and Jewellery &amp; Objec...</td>\n",
       "      <td>8</td>\n",
       "    </tr>\n",
       "    <tr>\n",
       "      <th>...</th>\n",
       "      <td>...</td>\n",
       "      <td>...</td>\n",
       "      <td>...</td>\n",
       "    </tr>\n",
       "    <tr>\n",
       "      <th>1459</th>\n",
       "      <td>WD208</td>\n",
       "      <td>Manufacturing Engineering</td>\n",
       "      <td>7</td>\n",
       "    </tr>\n",
       "    <tr>\n",
       "      <th>1460</th>\n",
       "      <td>WD210</td>\n",
       "      <td>Software Systems Development</td>\n",
       "      <td>8</td>\n",
       "    </tr>\n",
       "    <tr>\n",
       "      <th>1461</th>\n",
       "      <td>WD211</td>\n",
       "      <td>Creative Computing</td>\n",
       "      <td>8</td>\n",
       "    </tr>\n",
       "    <tr>\n",
       "      <th>1462</th>\n",
       "      <td>WD212</td>\n",
       "      <td>Recreation and Sport Management</td>\n",
       "      <td>8</td>\n",
       "    </tr>\n",
       "    <tr>\n",
       "      <th>1463</th>\n",
       "      <td>WD230</td>\n",
       "      <td>Mechanical and Manufacturing Engineering</td>\n",
       "      <td>8</td>\n",
       "    </tr>\n",
       "  </tbody>\n",
       "</table>\n",
       "<p>1464 rows × 3 columns</p>\n",
       "</div>"
      ],
      "text/plain": [
       "       code                                              title  level\n",
       "0     AC120                             International Business      8\n",
       "1     AC137                                       Liberal Arts      8\n",
       "2     AD101   First Year Art & Design (Common Entry,portfolio)      8\n",
       "3     AD102  Graphic Design and Moving Image Design (portfo...      8\n",
       "4     AD103  Textile & Surface Design and Jewellery & Objec...      8\n",
       "...     ...                                                ...    ...\n",
       "1459  WD208                          Manufacturing Engineering      7\n",
       "1460  WD210                       Software Systems Development      8\n",
       "1461  WD211                                 Creative Computing      8\n",
       "1462  WD212                    Recreation and Sport Management      8\n",
       "1463  WD230           Mechanical and Manufacturing Engineering      8\n",
       "\n",
       "[1464 rows x 3 columns]"
      ]
     },
     "execution_count": 61,
     "metadata": {},
     "output_type": "execute_result"
    }
   ],
   "source": [
    "total2020"
   ]
  },
  {
   "cell_type": "markdown",
   "id": "e0a39eed-bd5a-4e4d-af3d-b9952187ebf8",
   "metadata": {},
   "source": [
    "<br>"
   ]
  },
  {
   "cell_type": "markdown",
   "id": "0cc9f153-2686-4b7d-b3ae-0bdd278a3958",
   "metadata": {},
   "source": [
    "<br>"
   ]
  },
  {
   "cell_type": "markdown",
   "id": "e516cc8e-351f-4534-8cc3-d5e6e0d0fd76",
   "metadata": {
    "tags": []
   },
   "source": [
    "<br>"
   ]
  },
  {
   "cell_type": "markdown",
   "id": "25116ad5-adb5-4224-b99c-d948aa11adb6",
   "metadata": {
    "tags": []
   },
   "source": [
    "### 2019"
   ]
  },
  {
   "cell_type": "markdown",
   "id": "b3722891-0b7e-4081-84d7-f2b0e7d5755c",
   "metadata": {},
   "source": [
    "<br>"
   ]
  },
  {
   "cell_type": "code",
   "execution_count": 62,
   "id": "bbdcc35c-f126-4511-a89e-1dbdc80ba256",
   "metadata": {},
   "outputs": [],
   "source": [
    "# Selecting columns level 8\n",
    "level_8_2019 = df2019[['code', 'title', 'level', 'points']]"
   ]
  },
  {
   "cell_type": "markdown",
   "id": "95989399-cd6c-47de-afec-bfd591c8b4cd",
   "metadata": {},
   "source": [
    "<br>"
   ]
  },
  {
   "cell_type": "code",
   "execution_count": 63,
   "id": "074633d1-2d1c-4d1b-a538-b16767d3c15b",
   "metadata": {},
   "outputs": [],
   "source": [
    "# Selecting columns level 6/7\n",
    "level_6_2019 = df2019_2[['code', 'title', 'level', 'points']]"
   ]
  },
  {
   "cell_type": "markdown",
   "id": "72c3d4e7-1efc-4834-8e11-c40445525fe2",
   "metadata": {},
   "source": [
    "<br>"
   ]
  },
  {
   "cell_type": "code",
   "execution_count": 64,
   "id": "38ad5005-f7ac-40ff-82e1-bd6aeacb4f98",
   "metadata": {},
   "outputs": [
    {
     "data": {
      "text/html": [
       "<div>\n",
       "<style scoped>\n",
       "    .dataframe tbody tr th:only-of-type {\n",
       "        vertical-align: middle;\n",
       "    }\n",
       "\n",
       "    .dataframe tbody tr th {\n",
       "        vertical-align: top;\n",
       "    }\n",
       "\n",
       "    .dataframe thead th {\n",
       "        text-align: right;\n",
       "    }\n",
       "</style>\n",
       "<table border=\"1\" class=\"dataframe\">\n",
       "  <thead>\n",
       "    <tr style=\"text-align: right;\">\n",
       "      <th></th>\n",
       "      <th>code</th>\n",
       "      <th>title</th>\n",
       "      <th>level</th>\n",
       "      <th>points</th>\n",
       "    </tr>\n",
       "  </thead>\n",
       "  <tbody>\n",
       "    <tr>\n",
       "      <th>0</th>\n",
       "      <td>Course Code INSTITUTION and COURSE</td>\n",
       "      <td>NaN</td>\n",
       "      <td>8</td>\n",
       "      <td>EOS</td>\n",
       "    </tr>\n",
       "    <tr>\n",
       "      <th>1</th>\n",
       "      <td>AL801</td>\n",
       "      <td>Software Design with Virtual Reality and Gaming</td>\n",
       "      <td>8</td>\n",
       "      <td>304</td>\n",
       "    </tr>\n",
       "    <tr>\n",
       "      <th>2</th>\n",
       "      <td>AL802</td>\n",
       "      <td>Software Design with Cloud Computing</td>\n",
       "      <td>8</td>\n",
       "      <td>301</td>\n",
       "    </tr>\n",
       "    <tr>\n",
       "      <th>3</th>\n",
       "      <td>AL803</td>\n",
       "      <td>Software Design with Mobile Apps and Connected...</td>\n",
       "      <td>8</td>\n",
       "      <td>309</td>\n",
       "    </tr>\n",
       "    <tr>\n",
       "      <th>4</th>\n",
       "      <td>AL805</td>\n",
       "      <td>Network Management and Cloud Infrastructure</td>\n",
       "      <td>8</td>\n",
       "      <td>329</td>\n",
       "    </tr>\n",
       "    <tr>\n",
       "      <th>...</th>\n",
       "      <td>...</td>\n",
       "      <td>...</td>\n",
       "      <td>...</td>\n",
       "      <td>...</td>\n",
       "    </tr>\n",
       "    <tr>\n",
       "      <th>1304</th>\n",
       "      <td>WD173</td>\n",
       "      <td>Hospitality Studies</td>\n",
       "      <td>6/7</td>\n",
       "      <td>182.0</td>\n",
       "    </tr>\n",
       "    <tr>\n",
       "      <th>1305</th>\n",
       "      <td>WD174</td>\n",
       "      <td>Tourism</td>\n",
       "      <td>6/7</td>\n",
       "      <td>134.0</td>\n",
       "    </tr>\n",
       "    <tr>\n",
       "      <th>1306</th>\n",
       "      <td>WD175</td>\n",
       "      <td>Pharmaceutical Science</td>\n",
       "      <td>6/7</td>\n",
       "      <td>207.0</td>\n",
       "    </tr>\n",
       "    <tr>\n",
       "      <th>1307</th>\n",
       "      <td>WD177</td>\n",
       "      <td>Science (Mol. Biology with Biopharm.,Food Scie...</td>\n",
       "      <td>6/7</td>\n",
       "      <td>NaN</td>\n",
       "    </tr>\n",
       "    <tr>\n",
       "      <th>1308</th>\n",
       "      <td>WD182</td>\n",
       "      <td>Electrical Engineering</td>\n",
       "      <td>6/7</td>\n",
       "      <td>188.0</td>\n",
       "    </tr>\n",
       "  </tbody>\n",
       "</table>\n",
       "<p>1309 rows × 4 columns</p>\n",
       "</div>"
      ],
      "text/plain": [
       "                                    code  \\\n",
       "0     Course Code INSTITUTION and COURSE   \n",
       "1                                  AL801   \n",
       "2                                  AL802   \n",
       "3                                  AL803   \n",
       "4                                  AL805   \n",
       "...                                  ...   \n",
       "1304                               WD173   \n",
       "1305                               WD174   \n",
       "1306                               WD175   \n",
       "1307                               WD177   \n",
       "1308                               WD182   \n",
       "\n",
       "                                                  title level points  \n",
       "0                                                   NaN     8    EOS  \n",
       "1       Software Design with Virtual Reality and Gaming     8    304  \n",
       "2                  Software Design with Cloud Computing     8    301  \n",
       "3     Software Design with Mobile Apps and Connected...     8    309  \n",
       "4           Network Management and Cloud Infrastructure     8    329  \n",
       "...                                                 ...   ...    ...  \n",
       "1304                                Hospitality Studies   6/7  182.0  \n",
       "1305                                            Tourism   6/7  134.0  \n",
       "1306                             Pharmaceutical Science   6/7  207.0  \n",
       "1307  Science (Mol. Biology with Biopharm.,Food Scie...   6/7    NaN  \n",
       "1308                             Electrical Engineering   6/7  188.0  \n",
       "\n",
       "[1309 rows x 4 columns]"
      ]
     },
     "execution_count": 64,
     "metadata": {},
     "output_type": "execute_result"
    }
   ],
   "source": [
    "# Concatenating level 8 and 6/7 2021 courses\n",
    "total2019= pd.concat([level_8_2019, level_6_2019], ignore_index=True)\n",
    "total2019"
   ]
  },
  {
   "cell_type": "markdown",
   "id": "b353a614-4bfe-4295-9680-780cabaa6a61",
   "metadata": {
    "tags": []
   },
   "source": [
    "<br>"
   ]
  },
  {
   "cell_type": "markdown",
   "id": "b03aac71-895e-4406-92c8-bf0bf265e1a8",
   "metadata": {},
   "source": [
    "<br>"
   ]
  },
  {
   "cell_type": "markdown",
   "id": "73479988-9abd-4cf0-9163-df81994f0702",
   "metadata": {},
   "source": [
    "<br>"
   ]
  },
  {
   "cell_type": "markdown",
   "id": "51c9bc33-94ee-4c6f-8295-c3c607289a53",
   "metadata": {},
   "source": [
    "<br>"
   ]
  },
  {
   "cell_type": "markdown",
   "id": "9489531b-ef14-45a5-8a9e-d08128e2f6fa",
   "metadata": {
    "tags": []
   },
   "source": [
    "### All Courses"
   ]
  },
  {
   "cell_type": "markdown",
   "id": "8b2e012c-8006-42c2-ab91-c32d8666ad42",
   "metadata": {
    "tags": []
   },
   "source": [
    "<br>"
   ]
  },
  {
   "cell_type": "markdown",
   "id": "acaec4c7-b931-41b2-8d43-212b1e9a5e39",
   "metadata": {
    "tags": []
   },
   "source": [
    "Now that we have three smaller dataframes for each year, it's time to combine the code, title and level for each year into one. This will enable us to join the points for each year later on."
   ]
  },
  {
   "cell_type": "markdown",
   "id": "a9639bda-4b8f-49bd-8ee2-cfc426ced046",
   "metadata": {
    "tags": []
   },
   "source": [
    "<br>"
   ]
  },
  {
   "cell_type": "code",
   "execution_count": 65,
   "id": "01b7ecc1-6680-430e-b01c-1a419e844743",
   "metadata": {},
   "outputs": [
    {
     "data": {
      "text/html": [
       "<div>\n",
       "<style scoped>\n",
       "    .dataframe tbody tr th:only-of-type {\n",
       "        vertical-align: middle;\n",
       "    }\n",
       "\n",
       "    .dataframe tbody tr th {\n",
       "        vertical-align: top;\n",
       "    }\n",
       "\n",
       "    .dataframe thead th {\n",
       "        text-align: right;\n",
       "    }\n",
       "</style>\n",
       "<table border=\"1\" class=\"dataframe\">\n",
       "  <thead>\n",
       "    <tr style=\"text-align: right;\">\n",
       "      <th></th>\n",
       "      <th>code</th>\n",
       "      <th>title</th>\n",
       "      <th>level</th>\n",
       "    </tr>\n",
       "  </thead>\n",
       "  <tbody>\n",
       "    <tr>\n",
       "      <th>0</th>\n",
       "      <td>AL801</td>\n",
       "      <td>Software Design for Virtual Reality and Gaming</td>\n",
       "      <td>8</td>\n",
       "    </tr>\n",
       "    <tr>\n",
       "      <th>1</th>\n",
       "      <td>AL802</td>\n",
       "      <td>Software Design in Artificial Intelligence for...</td>\n",
       "      <td>8</td>\n",
       "    </tr>\n",
       "    <tr>\n",
       "      <th>2</th>\n",
       "      <td>AL803</td>\n",
       "      <td>Software Design for Mobile Apps and Connected ...</td>\n",
       "      <td>8</td>\n",
       "    </tr>\n",
       "    <tr>\n",
       "      <th>3</th>\n",
       "      <td>AL805</td>\n",
       "      <td>Computer Engineering for Network Infrastructure</td>\n",
       "      <td>8</td>\n",
       "    </tr>\n",
       "    <tr>\n",
       "      <th>4</th>\n",
       "      <td>AL810</td>\n",
       "      <td>Quantity Surveying</td>\n",
       "      <td>8</td>\n",
       "    </tr>\n",
       "    <tr>\n",
       "      <th>...</th>\n",
       "      <td>...</td>\n",
       "      <td>...</td>\n",
       "      <td>...</td>\n",
       "    </tr>\n",
       "    <tr>\n",
       "      <th>1360</th>\n",
       "      <td>WD188</td>\n",
       "      <td>Applied Health Care</td>\n",
       "      <td>6/7</td>\n",
       "    </tr>\n",
       "    <tr>\n",
       "      <th>1361</th>\n",
       "      <td>WD205</td>\n",
       "      <td>Molecular Biology with Biopharmaceutical Science</td>\n",
       "      <td>6/7</td>\n",
       "    </tr>\n",
       "    <tr>\n",
       "      <th>1362</th>\n",
       "      <td>WD206</td>\n",
       "      <td>Electronic Engineering</td>\n",
       "      <td>6/7</td>\n",
       "    </tr>\n",
       "    <tr>\n",
       "      <th>1363</th>\n",
       "      <td>WD207</td>\n",
       "      <td>Mechanical Engineering</td>\n",
       "      <td>6/7</td>\n",
       "    </tr>\n",
       "    <tr>\n",
       "      <th>1364</th>\n",
       "      <td>WD208</td>\n",
       "      <td>Manufacturing Engineering</td>\n",
       "      <td>6/7</td>\n",
       "    </tr>\n",
       "  </tbody>\n",
       "</table>\n",
       "<p>1365 rows × 3 columns</p>\n",
       "</div>"
      ],
      "text/plain": [
       "       code                                              title level\n",
       "0     AL801     Software Design for Virtual Reality and Gaming     8\n",
       "1     AL802  Software Design in Artificial Intelligence for...     8\n",
       "2     AL803  Software Design for Mobile Apps and Connected ...     8\n",
       "3     AL805    Computer Engineering for Network Infrastructure     8\n",
       "4     AL810                                 Quantity Surveying     8\n",
       "...     ...                                                ...   ...\n",
       "1360  WD188                                Applied Health Care   6/7\n",
       "1361  WD205   Molecular Biology with Biopharmaceutical Science   6/7\n",
       "1362  WD206                             Electronic Engineering   6/7\n",
       "1363  WD207                             Mechanical Engineering   6/7\n",
       "1364  WD208                          Manufacturing Engineering   6/7\n",
       "\n",
       "[1365 rows x 3 columns]"
      ]
     },
     "execution_count": 65,
     "metadata": {},
     "output_type": "execute_result"
    }
   ],
   "source": [
    "# Choosing columns\n",
    "courses2021 = total2021[['code', 'title', 'level']]\n",
    "courses2021"
   ]
  },
  {
   "cell_type": "markdown",
   "id": "c62d001a-7b13-4850-8f3a-809cf4e251b6",
   "metadata": {
    "tags": []
   },
   "source": [
    "<br>"
   ]
  },
  {
   "cell_type": "markdown",
   "id": "f0a470c9-8e35-4785-89fa-741280907a2e",
   "metadata": {
    "tags": []
   },
   "source": [
    "<br>"
   ]
  },
  {
   "cell_type": "markdown",
   "id": "e450d04c-1669-406b-9f99-76c1607fadfb",
   "metadata": {
    "tags": []
   },
   "source": [
    "<br>"
   ]
  },
  {
   "cell_type": "code",
   "execution_count": 66,
   "id": "9270fdd1-8e6f-426d-afce-e1f71db97bad",
   "metadata": {},
   "outputs": [
    {
     "data": {
      "text/html": [
       "<div>\n",
       "<style scoped>\n",
       "    .dataframe tbody tr th:only-of-type {\n",
       "        vertical-align: middle;\n",
       "    }\n",
       "\n",
       "    .dataframe tbody tr th {\n",
       "        vertical-align: top;\n",
       "    }\n",
       "\n",
       "    .dataframe thead th {\n",
       "        text-align: right;\n",
       "    }\n",
       "</style>\n",
       "<table border=\"1\" class=\"dataframe\">\n",
       "  <thead>\n",
       "    <tr style=\"text-align: right;\">\n",
       "      <th></th>\n",
       "      <th>code</th>\n",
       "      <th>title</th>\n",
       "      <th>level2020</th>\n",
       "    </tr>\n",
       "  </thead>\n",
       "  <tbody>\n",
       "    <tr>\n",
       "      <th>0</th>\n",
       "      <td>AC120</td>\n",
       "      <td>International Business</td>\n",
       "      <td>8</td>\n",
       "    </tr>\n",
       "    <tr>\n",
       "      <th>1</th>\n",
       "      <td>AC137</td>\n",
       "      <td>Liberal Arts</td>\n",
       "      <td>8</td>\n",
       "    </tr>\n",
       "    <tr>\n",
       "      <th>2</th>\n",
       "      <td>AD101</td>\n",
       "      <td>First Year Art &amp; Design (Common Entry,portfolio)</td>\n",
       "      <td>8</td>\n",
       "    </tr>\n",
       "    <tr>\n",
       "      <th>3</th>\n",
       "      <td>AD102</td>\n",
       "      <td>Graphic Design and Moving Image Design (portfo...</td>\n",
       "      <td>8</td>\n",
       "    </tr>\n",
       "    <tr>\n",
       "      <th>4</th>\n",
       "      <td>AD103</td>\n",
       "      <td>Textile &amp; Surface Design and Jewellery &amp; Objec...</td>\n",
       "      <td>8</td>\n",
       "    </tr>\n",
       "    <tr>\n",
       "      <th>...</th>\n",
       "      <td>...</td>\n",
       "      <td>...</td>\n",
       "      <td>...</td>\n",
       "    </tr>\n",
       "    <tr>\n",
       "      <th>1459</th>\n",
       "      <td>WD208</td>\n",
       "      <td>Manufacturing Engineering</td>\n",
       "      <td>7</td>\n",
       "    </tr>\n",
       "    <tr>\n",
       "      <th>1460</th>\n",
       "      <td>WD210</td>\n",
       "      <td>Software Systems Development</td>\n",
       "      <td>8</td>\n",
       "    </tr>\n",
       "    <tr>\n",
       "      <th>1461</th>\n",
       "      <td>WD211</td>\n",
       "      <td>Creative Computing</td>\n",
       "      <td>8</td>\n",
       "    </tr>\n",
       "    <tr>\n",
       "      <th>1462</th>\n",
       "      <td>WD212</td>\n",
       "      <td>Recreation and Sport Management</td>\n",
       "      <td>8</td>\n",
       "    </tr>\n",
       "    <tr>\n",
       "      <th>1463</th>\n",
       "      <td>WD230</td>\n",
       "      <td>Mechanical and Manufacturing Engineering</td>\n",
       "      <td>8</td>\n",
       "    </tr>\n",
       "  </tbody>\n",
       "</table>\n",
       "<p>1464 rows × 3 columns</p>\n",
       "</div>"
      ],
      "text/plain": [
       "       code                                              title  level2020\n",
       "0     AC120                             International Business          8\n",
       "1     AC137                                       Liberal Arts          8\n",
       "2     AD101   First Year Art & Design (Common Entry,portfolio)          8\n",
       "3     AD102  Graphic Design and Moving Image Design (portfo...          8\n",
       "4     AD103  Textile & Surface Design and Jewellery & Objec...          8\n",
       "...     ...                                                ...        ...\n",
       "1459  WD208                          Manufacturing Engineering          7\n",
       "1460  WD210                       Software Systems Development          8\n",
       "1461  WD211                                 Creative Computing          8\n",
       "1462  WD212                    Recreation and Sport Management          8\n",
       "1463  WD230           Mechanical and Manufacturing Engineering          8\n",
       "\n",
       "[1464 rows x 3 columns]"
      ]
     },
     "execution_count": 66,
     "metadata": {},
     "output_type": "execute_result"
    }
   ],
   "source": [
    "# Choosing column\n",
    "courses2020 = df2020[['COURSE CODE2','COURSE TITLE', 'LEVEL']]\n",
    "\n",
    "# Renaming columns\n",
    "courses2020.columns = ['code', 'title', 'level2020']\n",
    "\n",
    "courses2020"
   ]
  },
  {
   "cell_type": "markdown",
   "id": "24881b07-f981-4286-ba63-e8aa68150d3a",
   "metadata": {},
   "source": [
    "<br>"
   ]
  },
  {
   "cell_type": "markdown",
   "id": "50001844-390c-4d2b-aafc-fe0a06042bae",
   "metadata": {
    "tags": []
   },
   "source": [
    "<br>"
   ]
  },
  {
   "cell_type": "markdown",
   "id": "61ac3f79-4a0f-4e8a-898d-434d3e89e228",
   "metadata": {
    "tags": []
   },
   "source": [
    "<br>"
   ]
  },
  {
   "cell_type": "code",
   "execution_count": 67,
   "id": "cef3d520-98ee-489b-9aa6-cde7937272ed",
   "metadata": {},
   "outputs": [
    {
     "data": {
      "text/html": [
       "<div>\n",
       "<style scoped>\n",
       "    .dataframe tbody tr th:only-of-type {\n",
       "        vertical-align: middle;\n",
       "    }\n",
       "\n",
       "    .dataframe tbody tr th {\n",
       "        vertical-align: top;\n",
       "    }\n",
       "\n",
       "    .dataframe thead th {\n",
       "        text-align: right;\n",
       "    }\n",
       "</style>\n",
       "<table border=\"1\" class=\"dataframe\">\n",
       "  <thead>\n",
       "    <tr style=\"text-align: right;\">\n",
       "      <th></th>\n",
       "      <th>code</th>\n",
       "      <th>title</th>\n",
       "      <th>level2019</th>\n",
       "    </tr>\n",
       "  </thead>\n",
       "  <tbody>\n",
       "    <tr>\n",
       "      <th>0</th>\n",
       "      <td>Course Code INSTITUTION and COURSE</td>\n",
       "      <td>NaN</td>\n",
       "      <td>8</td>\n",
       "    </tr>\n",
       "    <tr>\n",
       "      <th>1</th>\n",
       "      <td>AL801</td>\n",
       "      <td>Software Design with Virtual Reality and Gaming</td>\n",
       "      <td>8</td>\n",
       "    </tr>\n",
       "    <tr>\n",
       "      <th>2</th>\n",
       "      <td>AL802</td>\n",
       "      <td>Software Design with Cloud Computing</td>\n",
       "      <td>8</td>\n",
       "    </tr>\n",
       "    <tr>\n",
       "      <th>3</th>\n",
       "      <td>AL803</td>\n",
       "      <td>Software Design with Mobile Apps and Connected...</td>\n",
       "      <td>8</td>\n",
       "    </tr>\n",
       "    <tr>\n",
       "      <th>4</th>\n",
       "      <td>AL805</td>\n",
       "      <td>Network Management and Cloud Infrastructure</td>\n",
       "      <td>8</td>\n",
       "    </tr>\n",
       "    <tr>\n",
       "      <th>...</th>\n",
       "      <td>...</td>\n",
       "      <td>...</td>\n",
       "      <td>...</td>\n",
       "    </tr>\n",
       "    <tr>\n",
       "      <th>1304</th>\n",
       "      <td>WD173</td>\n",
       "      <td>Hospitality Studies</td>\n",
       "      <td>6/7</td>\n",
       "    </tr>\n",
       "    <tr>\n",
       "      <th>1305</th>\n",
       "      <td>WD174</td>\n",
       "      <td>Tourism</td>\n",
       "      <td>6/7</td>\n",
       "    </tr>\n",
       "    <tr>\n",
       "      <th>1306</th>\n",
       "      <td>WD175</td>\n",
       "      <td>Pharmaceutical Science</td>\n",
       "      <td>6/7</td>\n",
       "    </tr>\n",
       "    <tr>\n",
       "      <th>1307</th>\n",
       "      <td>WD177</td>\n",
       "      <td>Science (Mol. Biology with Biopharm.,Food Scie...</td>\n",
       "      <td>6/7</td>\n",
       "    </tr>\n",
       "    <tr>\n",
       "      <th>1308</th>\n",
       "      <td>WD182</td>\n",
       "      <td>Electrical Engineering</td>\n",
       "      <td>6/7</td>\n",
       "    </tr>\n",
       "  </tbody>\n",
       "</table>\n",
       "<p>1309 rows × 3 columns</p>\n",
       "</div>"
      ],
      "text/plain": [
       "                                    code  \\\n",
       "0     Course Code INSTITUTION and COURSE   \n",
       "1                                  AL801   \n",
       "2                                  AL802   \n",
       "3                                  AL803   \n",
       "4                                  AL805   \n",
       "...                                  ...   \n",
       "1304                               WD173   \n",
       "1305                               WD174   \n",
       "1306                               WD175   \n",
       "1307                               WD177   \n",
       "1308                               WD182   \n",
       "\n",
       "                                                  title level2019  \n",
       "0                                                   NaN         8  \n",
       "1       Software Design with Virtual Reality and Gaming         8  \n",
       "2                  Software Design with Cloud Computing         8  \n",
       "3     Software Design with Mobile Apps and Connected...         8  \n",
       "4           Network Management and Cloud Infrastructure         8  \n",
       "...                                                 ...       ...  \n",
       "1304                                Hospitality Studies       6/7  \n",
       "1305                                            Tourism       6/7  \n",
       "1306                             Pharmaceutical Science       6/7  \n",
       "1307  Science (Mol. Biology with Biopharm.,Food Scie...       6/7  \n",
       "1308                             Electrical Engineering       6/7  \n",
       "\n",
       "[1309 rows x 3 columns]"
      ]
     },
     "execution_count": 67,
     "metadata": {},
     "output_type": "execute_result"
    }
   ],
   "source": [
    "# Choosing columns\n",
    "courses2019 = total2019[['code', 'title', 'level']]\n",
    "\n",
    "# Renaming columns\n",
    "courses2019.columns = ['code', 'title', 'level2019']\n",
    "\n",
    "courses2019"
   ]
  },
  {
   "cell_type": "markdown",
   "id": "92b554c0-d347-45bf-80b1-5dfedcf59257",
   "metadata": {
    "tags": []
   },
   "source": [
    "<br>"
   ]
  },
  {
   "cell_type": "markdown",
   "id": "8d353870-a1a8-4e80-b42b-f053f88b8617",
   "metadata": {
    "tags": []
   },
   "source": [
    "<br>"
   ]
  },
  {
   "cell_type": "code",
   "execution_count": 68,
   "id": "210ee548-4bb2-49ee-8612-0d1d3c060cc3",
   "metadata": {},
   "outputs": [
    {
     "data": {
      "text/html": [
       "<div>\n",
       "<style scoped>\n",
       "    .dataframe tbody tr th:only-of-type {\n",
       "        vertical-align: middle;\n",
       "    }\n",
       "\n",
       "    .dataframe tbody tr th {\n",
       "        vertical-align: top;\n",
       "    }\n",
       "\n",
       "    .dataframe thead th {\n",
       "        text-align: right;\n",
       "    }\n",
       "</style>\n",
       "<table border=\"1\" class=\"dataframe\">\n",
       "  <thead>\n",
       "    <tr style=\"text-align: right;\">\n",
       "      <th></th>\n",
       "      <th>code</th>\n",
       "      <th>title</th>\n",
       "      <th>level2019</th>\n",
       "    </tr>\n",
       "  </thead>\n",
       "  <tbody>\n",
       "    <tr>\n",
       "      <th>1</th>\n",
       "      <td>AL801</td>\n",
       "      <td>Software Design with Virtual Reality and Gaming</td>\n",
       "      <td>8</td>\n",
       "    </tr>\n",
       "    <tr>\n",
       "      <th>2</th>\n",
       "      <td>AL802</td>\n",
       "      <td>Software Design with Cloud Computing</td>\n",
       "      <td>8</td>\n",
       "    </tr>\n",
       "    <tr>\n",
       "      <th>3</th>\n",
       "      <td>AL803</td>\n",
       "      <td>Software Design with Mobile Apps and Connected...</td>\n",
       "      <td>8</td>\n",
       "    </tr>\n",
       "    <tr>\n",
       "      <th>4</th>\n",
       "      <td>AL805</td>\n",
       "      <td>Network Management and Cloud Infrastructure</td>\n",
       "      <td>8</td>\n",
       "    </tr>\n",
       "    <tr>\n",
       "      <th>5</th>\n",
       "      <td>AL810</td>\n",
       "      <td>Quantity Surveying</td>\n",
       "      <td>8</td>\n",
       "    </tr>\n",
       "    <tr>\n",
       "      <th>...</th>\n",
       "      <td>...</td>\n",
       "      <td>...</td>\n",
       "      <td>...</td>\n",
       "    </tr>\n",
       "    <tr>\n",
       "      <th>1304</th>\n",
       "      <td>WD173</td>\n",
       "      <td>Hospitality Studies</td>\n",
       "      <td>6/7</td>\n",
       "    </tr>\n",
       "    <tr>\n",
       "      <th>1305</th>\n",
       "      <td>WD174</td>\n",
       "      <td>Tourism</td>\n",
       "      <td>6/7</td>\n",
       "    </tr>\n",
       "    <tr>\n",
       "      <th>1306</th>\n",
       "      <td>WD175</td>\n",
       "      <td>Pharmaceutical Science</td>\n",
       "      <td>6/7</td>\n",
       "    </tr>\n",
       "    <tr>\n",
       "      <th>1307</th>\n",
       "      <td>WD177</td>\n",
       "      <td>Science (Mol. Biology with Biopharm.,Food Scie...</td>\n",
       "      <td>6/7</td>\n",
       "    </tr>\n",
       "    <tr>\n",
       "      <th>1308</th>\n",
       "      <td>WD182</td>\n",
       "      <td>Electrical Engineering</td>\n",
       "      <td>6/7</td>\n",
       "    </tr>\n",
       "  </tbody>\n",
       "</table>\n",
       "<p>1308 rows × 3 columns</p>\n",
       "</div>"
      ],
      "text/plain": [
       "       code                                              title level2019\n",
       "1     AL801    Software Design with Virtual Reality and Gaming         8\n",
       "2     AL802               Software Design with Cloud Computing         8\n",
       "3     AL803  Software Design with Mobile Apps and Connected...         8\n",
       "4     AL805        Network Management and Cloud Infrastructure         8\n",
       "5     AL810                                 Quantity Surveying         8\n",
       "...     ...                                                ...       ...\n",
       "1304  WD173                                Hospitality Studies       6/7\n",
       "1305  WD174                                            Tourism       6/7\n",
       "1306  WD175                             Pharmaceutical Science       6/7\n",
       "1307  WD177  Science (Mol. Biology with Biopharm.,Food Scie...       6/7\n",
       "1308  WD182                             Electrical Engineering       6/7\n",
       "\n",
       "[1308 rows x 3 columns]"
      ]
     },
     "execution_count": 68,
     "metadata": {},
     "output_type": "execute_result"
    }
   ],
   "source": [
    "# Dropping old header row\n",
    "courses2019.drop(0)"
   ]
  },
  {
   "cell_type": "markdown",
   "id": "bf6d0a7f-363f-485c-8964-566b86b1dfb2",
   "metadata": {
    "tags": []
   },
   "source": [
    "<br>"
   ]
  },
  {
   "cell_type": "markdown",
   "id": "8589c812-bc6d-42b7-9e40-b76a470ed0b5",
   "metadata": {},
   "source": [
    "<br>"
   ]
  },
  {
   "cell_type": "markdown",
   "id": "019ad6cd-b269-4d56-b781-482e57b2c47c",
   "metadata": {},
   "source": [
    "<br>"
   ]
  },
  {
   "cell_type": "code",
   "execution_count": 69,
   "id": "b167a280-8e10-4fe7-9fd2-04bb7cac6c21",
   "metadata": {},
   "outputs": [],
   "source": [
    "# Combining the above into one\n",
    "allcourses = pd.concat([courses2021, courses2020, courses2019], ignore_index=True)"
   ]
  },
  {
   "cell_type": "markdown",
   "id": "29a1597b-ac78-4f68-b0a8-bc43a49edfa6",
   "metadata": {
    "tags": []
   },
   "source": [
    "<br>"
   ]
  },
  {
   "cell_type": "code",
   "execution_count": 70,
   "id": "1d17e5aa-cad6-4465-a6c4-e4afd84e9183",
   "metadata": {},
   "outputs": [
    {
     "data": {
      "text/html": [
       "<div>\n",
       "<style scoped>\n",
       "    .dataframe tbody tr th:only-of-type {\n",
       "        vertical-align: middle;\n",
       "    }\n",
       "\n",
       "    .dataframe tbody tr th {\n",
       "        vertical-align: top;\n",
       "    }\n",
       "\n",
       "    .dataframe thead th {\n",
       "        text-align: right;\n",
       "    }\n",
       "</style>\n",
       "<table border=\"1\" class=\"dataframe\">\n",
       "  <thead>\n",
       "    <tr style=\"text-align: right;\">\n",
       "      <th></th>\n",
       "      <th>code</th>\n",
       "      <th>title</th>\n",
       "      <th>level</th>\n",
       "      <th>level2020</th>\n",
       "      <th>level2019</th>\n",
       "    </tr>\n",
       "  </thead>\n",
       "  <tbody>\n",
       "    <tr>\n",
       "      <th>0</th>\n",
       "      <td>AL801</td>\n",
       "      <td>Software Design for Virtual Reality and Gaming</td>\n",
       "      <td>8</td>\n",
       "      <td>NaN</td>\n",
       "      <td>NaN</td>\n",
       "    </tr>\n",
       "    <tr>\n",
       "      <th>1</th>\n",
       "      <td>AL802</td>\n",
       "      <td>Software Design in Artificial Intelligence for...</td>\n",
       "      <td>8</td>\n",
       "      <td>NaN</td>\n",
       "      <td>NaN</td>\n",
       "    </tr>\n",
       "    <tr>\n",
       "      <th>2</th>\n",
       "      <td>AL803</td>\n",
       "      <td>Software Design for Mobile Apps and Connected ...</td>\n",
       "      <td>8</td>\n",
       "      <td>NaN</td>\n",
       "      <td>NaN</td>\n",
       "    </tr>\n",
       "    <tr>\n",
       "      <th>3</th>\n",
       "      <td>AL805</td>\n",
       "      <td>Computer Engineering for Network Infrastructure</td>\n",
       "      <td>8</td>\n",
       "      <td>NaN</td>\n",
       "      <td>NaN</td>\n",
       "    </tr>\n",
       "    <tr>\n",
       "      <th>4</th>\n",
       "      <td>AL810</td>\n",
       "      <td>Quantity Surveying</td>\n",
       "      <td>8</td>\n",
       "      <td>NaN</td>\n",
       "      <td>NaN</td>\n",
       "    </tr>\n",
       "    <tr>\n",
       "      <th>...</th>\n",
       "      <td>...</td>\n",
       "      <td>...</td>\n",
       "      <td>...</td>\n",
       "      <td>...</td>\n",
       "      <td>...</td>\n",
       "    </tr>\n",
       "    <tr>\n",
       "      <th>4133</th>\n",
       "      <td>WD173</td>\n",
       "      <td>Hospitality Studies</td>\n",
       "      <td>NaN</td>\n",
       "      <td>NaN</td>\n",
       "      <td>6/7</td>\n",
       "    </tr>\n",
       "    <tr>\n",
       "      <th>4134</th>\n",
       "      <td>WD174</td>\n",
       "      <td>Tourism</td>\n",
       "      <td>NaN</td>\n",
       "      <td>NaN</td>\n",
       "      <td>6/7</td>\n",
       "    </tr>\n",
       "    <tr>\n",
       "      <th>4135</th>\n",
       "      <td>WD175</td>\n",
       "      <td>Pharmaceutical Science</td>\n",
       "      <td>NaN</td>\n",
       "      <td>NaN</td>\n",
       "      <td>6/7</td>\n",
       "    </tr>\n",
       "    <tr>\n",
       "      <th>4136</th>\n",
       "      <td>WD177</td>\n",
       "      <td>Science (Mol. Biology with Biopharm.,Food Scie...</td>\n",
       "      <td>NaN</td>\n",
       "      <td>NaN</td>\n",
       "      <td>6/7</td>\n",
       "    </tr>\n",
       "    <tr>\n",
       "      <th>4137</th>\n",
       "      <td>WD182</td>\n",
       "      <td>Electrical Engineering</td>\n",
       "      <td>NaN</td>\n",
       "      <td>NaN</td>\n",
       "      <td>6/7</td>\n",
       "    </tr>\n",
       "  </tbody>\n",
       "</table>\n",
       "<p>4138 rows × 5 columns</p>\n",
       "</div>"
      ],
      "text/plain": [
       "       code                                              title level  \\\n",
       "0     AL801     Software Design for Virtual Reality and Gaming     8   \n",
       "1     AL802  Software Design in Artificial Intelligence for...     8   \n",
       "2     AL803  Software Design for Mobile Apps and Connected ...     8   \n",
       "3     AL805    Computer Engineering for Network Infrastructure     8   \n",
       "4     AL810                                 Quantity Surveying     8   \n",
       "...     ...                                                ...   ...   \n",
       "4133  WD173                                Hospitality Studies   NaN   \n",
       "4134  WD174                                            Tourism   NaN   \n",
       "4135  WD175                             Pharmaceutical Science   NaN   \n",
       "4136  WD177  Science (Mol. Biology with Biopharm.,Food Scie...   NaN   \n",
       "4137  WD182                             Electrical Engineering   NaN   \n",
       "\n",
       "      level2020 level2019  \n",
       "0           NaN       NaN  \n",
       "1           NaN       NaN  \n",
       "2           NaN       NaN  \n",
       "3           NaN       NaN  \n",
       "4           NaN       NaN  \n",
       "...         ...       ...  \n",
       "4133        NaN       6/7  \n",
       "4134        NaN       6/7  \n",
       "4135        NaN       6/7  \n",
       "4136        NaN       6/7  \n",
       "4137        NaN       6/7  \n",
       "\n",
       "[4138 rows x 5 columns]"
      ]
     },
     "execution_count": 70,
     "metadata": {},
     "output_type": "execute_result"
    }
   ],
   "source": [
    "# Sorting values in ascending by the code column\n",
    "allcourses.sort_values('code')\n",
    "\n",
    "allcourses"
   ]
  },
  {
   "cell_type": "markdown",
   "id": "4facae13-c617-4fb9-aa97-ca5238383320",
   "metadata": {},
   "source": [
    "<br>"
   ]
  },
  {
   "cell_type": "markdown",
   "id": "2028e4a7-893b-439f-9b1f-e0299f11350b",
   "metadata": {
    "tags": []
   },
   "source": [
    "<br>"
   ]
  },
  {
   "cell_type": "markdown",
   "id": "c18bfba6-563d-464e-9bcd-dc27865c9dcb",
   "metadata": {},
   "source": [
    "As we can see above there are duplicate rows i.e. courses which have ran in multiple years so they appear more than once. Let's get rid of these duplicates."
   ]
  },
  {
   "cell_type": "markdown",
   "id": "d2c11b56-481d-4da5-861d-289cc2a43912",
   "metadata": {
    "tags": []
   },
   "source": [
    "<br>"
   ]
  },
  {
   "cell_type": "code",
   "execution_count": 71,
   "id": "3237e483-2c9a-4b81-b6cd-34fc45ad3417",
   "metadata": {},
   "outputs": [
    {
     "data": {
      "text/html": [
       "<div>\n",
       "<style scoped>\n",
       "    .dataframe tbody tr th:only-of-type {\n",
       "        vertical-align: middle;\n",
       "    }\n",
       "\n",
       "    .dataframe tbody tr th {\n",
       "        vertical-align: top;\n",
       "    }\n",
       "\n",
       "    .dataframe thead th {\n",
       "        text-align: right;\n",
       "    }\n",
       "</style>\n",
       "<table border=\"1\" class=\"dataframe\">\n",
       "  <thead>\n",
       "    <tr style=\"text-align: right;\">\n",
       "      <th></th>\n",
       "      <th>code</th>\n",
       "      <th>title</th>\n",
       "      <th>level</th>\n",
       "      <th>level2020</th>\n",
       "      <th>level2019</th>\n",
       "    </tr>\n",
       "  </thead>\n",
       "  <tbody>\n",
       "  </tbody>\n",
       "</table>\n",
       "</div>"
      ],
      "text/plain": [
       "Empty DataFrame\n",
       "Columns: [code, title, level, level2020, level2019]\n",
       "Index: []"
      ]
     },
     "execution_count": 71,
     "metadata": {},
     "output_type": "execute_result"
    }
   ],
   "source": [
    "# Finding duplicate rows\n",
    "allcourses[allcourses.duplicated()]"
   ]
  },
  {
   "cell_type": "markdown",
   "id": "fa5d4069-7fee-44e3-9701-d1fa420a1976",
   "metadata": {
    "tags": []
   },
   "source": [
    "<br>"
   ]
  },
  {
   "cell_type": "code",
   "execution_count": 72,
   "id": "1cf53099-e5e9-4664-ac2c-58915440f7f7",
   "metadata": {},
   "outputs": [
    {
     "data": {
      "text/html": [
       "<div>\n",
       "<style scoped>\n",
       "    .dataframe tbody tr th:only-of-type {\n",
       "        vertical-align: middle;\n",
       "    }\n",
       "\n",
       "    .dataframe tbody tr th {\n",
       "        vertical-align: top;\n",
       "    }\n",
       "\n",
       "    .dataframe thead th {\n",
       "        text-align: right;\n",
       "    }\n",
       "</style>\n",
       "<table border=\"1\" class=\"dataframe\">\n",
       "  <thead>\n",
       "    <tr style=\"text-align: right;\">\n",
       "      <th></th>\n",
       "      <th>code</th>\n",
       "      <th>title</th>\n",
       "      <th>level</th>\n",
       "      <th>level2020</th>\n",
       "      <th>level2019</th>\n",
       "    </tr>\n",
       "  </thead>\n",
       "  <tbody>\n",
       "    <tr>\n",
       "      <th>0</th>\n",
       "      <td>AL801</td>\n",
       "      <td>Software Design for Virtual Reality and Gaming</td>\n",
       "      <td>8</td>\n",
       "      <td>NaN</td>\n",
       "      <td>NaN</td>\n",
       "    </tr>\n",
       "    <tr>\n",
       "      <th>1</th>\n",
       "      <td>AL802</td>\n",
       "      <td>Software Design in Artificial Intelligence for...</td>\n",
       "      <td>8</td>\n",
       "      <td>NaN</td>\n",
       "      <td>NaN</td>\n",
       "    </tr>\n",
       "    <tr>\n",
       "      <th>2</th>\n",
       "      <td>AL803</td>\n",
       "      <td>Software Design for Mobile Apps and Connected ...</td>\n",
       "      <td>8</td>\n",
       "      <td>NaN</td>\n",
       "      <td>NaN</td>\n",
       "    </tr>\n",
       "    <tr>\n",
       "      <th>3</th>\n",
       "      <td>AL805</td>\n",
       "      <td>Computer Engineering for Network Infrastructure</td>\n",
       "      <td>8</td>\n",
       "      <td>NaN</td>\n",
       "      <td>NaN</td>\n",
       "    </tr>\n",
       "    <tr>\n",
       "      <th>4</th>\n",
       "      <td>AL810</td>\n",
       "      <td>Quantity Surveying</td>\n",
       "      <td>8</td>\n",
       "      <td>NaN</td>\n",
       "      <td>NaN</td>\n",
       "    </tr>\n",
       "    <tr>\n",
       "      <th>...</th>\n",
       "      <td>...</td>\n",
       "      <td>...</td>\n",
       "      <td>...</td>\n",
       "      <td>...</td>\n",
       "      <td>...</td>\n",
       "    </tr>\n",
       "    <tr>\n",
       "      <th>4133</th>\n",
       "      <td>WD173</td>\n",
       "      <td>Hospitality Studies</td>\n",
       "      <td>NaN</td>\n",
       "      <td>NaN</td>\n",
       "      <td>6/7</td>\n",
       "    </tr>\n",
       "    <tr>\n",
       "      <th>4134</th>\n",
       "      <td>WD174</td>\n",
       "      <td>Tourism</td>\n",
       "      <td>NaN</td>\n",
       "      <td>NaN</td>\n",
       "      <td>6/7</td>\n",
       "    </tr>\n",
       "    <tr>\n",
       "      <th>4135</th>\n",
       "      <td>WD175</td>\n",
       "      <td>Pharmaceutical Science</td>\n",
       "      <td>NaN</td>\n",
       "      <td>NaN</td>\n",
       "      <td>6/7</td>\n",
       "    </tr>\n",
       "    <tr>\n",
       "      <th>4136</th>\n",
       "      <td>WD177</td>\n",
       "      <td>Science (Mol. Biology with Biopharm.,Food Scie...</td>\n",
       "      <td>NaN</td>\n",
       "      <td>NaN</td>\n",
       "      <td>6/7</td>\n",
       "    </tr>\n",
       "    <tr>\n",
       "      <th>4137</th>\n",
       "      <td>WD182</td>\n",
       "      <td>Electrical Engineering</td>\n",
       "      <td>NaN</td>\n",
       "      <td>NaN</td>\n",
       "      <td>6/7</td>\n",
       "    </tr>\n",
       "  </tbody>\n",
       "</table>\n",
       "<p>4138 rows × 5 columns</p>\n",
       "</div>"
      ],
      "text/plain": [
       "       code                                              title level  \\\n",
       "0     AL801     Software Design for Virtual Reality and Gaming     8   \n",
       "1     AL802  Software Design in Artificial Intelligence for...     8   \n",
       "2     AL803  Software Design for Mobile Apps and Connected ...     8   \n",
       "3     AL805    Computer Engineering for Network Infrastructure     8   \n",
       "4     AL810                                 Quantity Surveying     8   \n",
       "...     ...                                                ...   ...   \n",
       "4133  WD173                                Hospitality Studies   NaN   \n",
       "4134  WD174                                            Tourism   NaN   \n",
       "4135  WD175                             Pharmaceutical Science   NaN   \n",
       "4136  WD177  Science (Mol. Biology with Biopharm.,Food Scie...   NaN   \n",
       "4137  WD182                             Electrical Engineering   NaN   \n",
       "\n",
       "      level2020 level2019  \n",
       "0           NaN       NaN  \n",
       "1           NaN       NaN  \n",
       "2           NaN       NaN  \n",
       "3           NaN       NaN  \n",
       "4           NaN       NaN  \n",
       "...         ...       ...  \n",
       "4133        NaN       6/7  \n",
       "4134        NaN       6/7  \n",
       "4135        NaN       6/7  \n",
       "4136        NaN       6/7  \n",
       "4137        NaN       6/7  \n",
       "\n",
       "[4138 rows x 5 columns]"
      ]
     },
     "execution_count": 72,
     "metadata": {},
     "output_type": "execute_result"
    }
   ],
   "source": [
    "# Dropping duplicates\n",
    "allcourses.drop_duplicates()"
   ]
  },
  {
   "cell_type": "markdown",
   "id": "df7b5b80-f840-4b54-a0ea-53a944905408",
   "metadata": {},
   "source": [
    "<br>"
   ]
  },
  {
   "cell_type": "code",
   "execution_count": 73,
   "id": "9b3654e5-f864-4b75-9860-abdf544df3a3",
   "metadata": {},
   "outputs": [
    {
     "data": {
      "text/html": [
       "<div>\n",
       "<style scoped>\n",
       "    .dataframe tbody tr th:only-of-type {\n",
       "        vertical-align: middle;\n",
       "    }\n",
       "\n",
       "    .dataframe tbody tr th {\n",
       "        vertical-align: top;\n",
       "    }\n",
       "\n",
       "    .dataframe thead th {\n",
       "        text-align: right;\n",
       "    }\n",
       "</style>\n",
       "<table border=\"1\" class=\"dataframe\">\n",
       "  <thead>\n",
       "    <tr style=\"text-align: right;\">\n",
       "      <th></th>\n",
       "      <th>code</th>\n",
       "      <th>title</th>\n",
       "      <th>level</th>\n",
       "      <th>level2020</th>\n",
       "      <th>level2019</th>\n",
       "    </tr>\n",
       "  </thead>\n",
       "  <tbody>\n",
       "    <tr>\n",
       "      <th>0</th>\n",
       "      <td>AL801</td>\n",
       "      <td>Software Design for Virtual Reality and Gaming</td>\n",
       "      <td>8</td>\n",
       "      <td>NaN</td>\n",
       "      <td>NaN</td>\n",
       "    </tr>\n",
       "    <tr>\n",
       "      <th>1</th>\n",
       "      <td>AL802</td>\n",
       "      <td>Software Design in Artificial Intelligence for...</td>\n",
       "      <td>8</td>\n",
       "      <td>NaN</td>\n",
       "      <td>NaN</td>\n",
       "    </tr>\n",
       "    <tr>\n",
       "      <th>2</th>\n",
       "      <td>AL803</td>\n",
       "      <td>Software Design for Mobile Apps and Connected ...</td>\n",
       "      <td>8</td>\n",
       "      <td>NaN</td>\n",
       "      <td>NaN</td>\n",
       "    </tr>\n",
       "    <tr>\n",
       "      <th>3</th>\n",
       "      <td>AL805</td>\n",
       "      <td>Computer Engineering for Network Infrastructure</td>\n",
       "      <td>8</td>\n",
       "      <td>NaN</td>\n",
       "      <td>NaN</td>\n",
       "    </tr>\n",
       "    <tr>\n",
       "      <th>4</th>\n",
       "      <td>AL810</td>\n",
       "      <td>Quantity Surveying</td>\n",
       "      <td>8</td>\n",
       "      <td>NaN</td>\n",
       "      <td>NaN</td>\n",
       "    </tr>\n",
       "    <tr>\n",
       "      <th>...</th>\n",
       "      <td>...</td>\n",
       "      <td>...</td>\n",
       "      <td>...</td>\n",
       "      <td>...</td>\n",
       "      <td>...</td>\n",
       "    </tr>\n",
       "    <tr>\n",
       "      <th>1761</th>\n",
       "      <td>SG403</td>\n",
       "      <td>Applied Archaeology</td>\n",
       "      <td>NaN</td>\n",
       "      <td>NaN</td>\n",
       "      <td>6/7</td>\n",
       "    </tr>\n",
       "    <tr>\n",
       "      <th>1762</th>\n",
       "      <td>SG432</td>\n",
       "      <td>Environmental Protection</td>\n",
       "      <td>NaN</td>\n",
       "      <td>NaN</td>\n",
       "      <td>6/7</td>\n",
       "    </tr>\n",
       "    <tr>\n",
       "      <th>1763</th>\n",
       "      <td>TL712</td>\n",
       "      <td>Computing with Digital Media</td>\n",
       "      <td>NaN</td>\n",
       "      <td>NaN</td>\n",
       "      <td>6/7</td>\n",
       "    </tr>\n",
       "    <tr>\n",
       "      <th>1764</th>\n",
       "      <td>TL719</td>\n",
       "      <td>Culinary Arts</td>\n",
       "      <td>NaN</td>\n",
       "      <td>NaN</td>\n",
       "      <td>6/7</td>\n",
       "    </tr>\n",
       "    <tr>\n",
       "      <th>1765</th>\n",
       "      <td>TL746</td>\n",
       "      <td>Engineering in Mechatronics Engineering</td>\n",
       "      <td>NaN</td>\n",
       "      <td>NaN</td>\n",
       "      <td>6/7</td>\n",
       "    </tr>\n",
       "  </tbody>\n",
       "</table>\n",
       "<p>1766 rows × 5 columns</p>\n",
       "</div>"
      ],
      "text/plain": [
       "       code                                              title level  \\\n",
       "0     AL801     Software Design for Virtual Reality and Gaming     8   \n",
       "1     AL802  Software Design in Artificial Intelligence for...     8   \n",
       "2     AL803  Software Design for Mobile Apps and Connected ...     8   \n",
       "3     AL805    Computer Engineering for Network Infrastructure     8   \n",
       "4     AL810                                 Quantity Surveying     8   \n",
       "...     ...                                                ...   ...   \n",
       "1761  SG403                                Applied Archaeology   NaN   \n",
       "1762  SG432                           Environmental Protection   NaN   \n",
       "1763  TL712                       Computing with Digital Media   NaN   \n",
       "1764  TL719                                      Culinary Arts   NaN   \n",
       "1765  TL746            Engineering in Mechatronics Engineering   NaN   \n",
       "\n",
       "      level2020 level2019  \n",
       "0           NaN       NaN  \n",
       "1           NaN       NaN  \n",
       "2           NaN       NaN  \n",
       "3           NaN       NaN  \n",
       "4           NaN       NaN  \n",
       "...         ...       ...  \n",
       "1761        NaN       6/7  \n",
       "1762        NaN       6/7  \n",
       "1763        NaN       6/7  \n",
       "1764        NaN       6/7  \n",
       "1765        NaN       6/7  \n",
       "\n",
       "[1766 rows x 5 columns]"
      ]
     },
     "execution_count": 73,
     "metadata": {},
     "output_type": "execute_result"
    }
   ],
   "source": [
    "# Dropping duplicates which shared a code\n",
    "allcourses.drop_duplicates(subset=['code'], inplace=True, ignore_index=True)\n",
    "\n",
    "allcourses"
   ]
  },
  {
   "cell_type": "markdown",
   "id": "eab6990e-1d2f-4d82-a3cc-61238c1c6131",
   "metadata": {},
   "source": [
    "<br>"
   ]
  },
  {
   "cell_type": "markdown",
   "id": "d958a15a-9148-4ca9-bc1a-55910c4b64df",
   "metadata": {},
   "source": [
    "<br>"
   ]
  },
  {
   "cell_type": "markdown",
   "id": "ae3cadc3-3e68-487d-9c5d-611d39483a1f",
   "metadata": {},
   "source": [
    "When inplace = True,  data is modified in place [11]."
   ]
  },
  {
   "cell_type": "markdown",
   "id": "75d23006-f17a-4780-affb-a240f1a9dbbf",
   "metadata": {},
   "source": [
    "<br>"
   ]
  },
  {
   "cell_type": "markdown",
   "id": "de850894-7bd4-4acd-86b4-c29148cc4143",
   "metadata": {},
   "source": [
    "<br>"
   ]
  },
  {
   "cell_type": "markdown",
   "id": "2df5fd82-9ce4-49eb-b564-7cf65259fbb3",
   "metadata": {
    "tags": []
   },
   "source": [
    "***\n",
    "## Joining Points and Levels\n",
    "***"
   ]
  },
  {
   "cell_type": "markdown",
   "id": "45fff9ef-6118-4a73-a9f5-05e27a51a927",
   "metadata": {},
   "source": [
    "<br>"
   ]
  },
  {
   "cell_type": "markdown",
   "id": "df2ddf43-cec4-4254-ac46-0a189342d6d8",
   "metadata": {},
   "source": [
    "<br>"
   ]
  },
  {
   "cell_type": "markdown",
   "id": "a82b69f2-0a74-4fe1-9b97-f29d4c7d3164",
   "metadata": {},
   "source": [
    "When a dataframe is madeup of more than one dataframe we can set/change the index of this dataframe using pandas.\n",
    "\n",
    "\"[An] Index is like an address, that’s how any data point across the dataframe or series can be accessed. Rows and columns both have indexes, rows indices are called as index and for columns its general column names\" [12]. \n",
    "\n",
    "As the 2019 points data doesn't inculde round 2 points data, I've decided against using them for this analysis. We will only be using the round 1 points."
   ]
  },
  {
   "cell_type": "markdown",
   "id": "749764c1-a4c2-4a7b-b801-1889c02e8e2c",
   "metadata": {},
   "source": [
    "<br>"
   ]
  },
  {
   "cell_type": "markdown",
   "id": "7ee7736b-8023-47e4-a900-4c7e9ae8b705",
   "metadata": {},
   "source": [
    "<br>"
   ]
  },
  {
   "cell_type": "code",
   "execution_count": 74,
   "id": "d1c1e4b9-e503-4f48-8287-6e3d89ebe746",
   "metadata": {},
   "outputs": [],
   "source": [
    "# Setting the index as the code column\n",
    "total2021.set_index('code', inplace=True)\n",
    "\n",
    "# Column headings\n",
    "total2021.columns = ['title', 'level', 'points_r1_2021', 'points_r2_2021']"
   ]
  },
  {
   "cell_type": "markdown",
   "id": "57ae9089-5846-4ff6-9763-5a0eb7fdb1f1",
   "metadata": {},
   "source": [
    "<br>"
   ]
  },
  {
   "cell_type": "code",
   "execution_count": 75,
   "id": "61f3d7c4-e45c-447d-abf9-0b80457f33d5",
   "metadata": {},
   "outputs": [],
   "source": [
    "# Setting the index of allcourses as the code column\n",
    "allcourses.set_index('code', inplace=True)"
   ]
  },
  {
   "cell_type": "markdown",
   "id": "9aa14f4b-7eb6-406c-86f0-69e02fb9af3b",
   "metadata": {},
   "source": [
    "<br>"
   ]
  },
  {
   "cell_type": "markdown",
   "id": "7c8fcb88-402b-4603-a978-6ab968e21649",
   "metadata": {},
   "source": [
    "<br>"
   ]
  },
  {
   "cell_type": "markdown",
   "id": "b70584a9-c493-42d9-9fb5-bba3cc074f69",
   "metadata": {},
   "source": [
    "\"join() is an object function that lives on your DataFrame\" [13]. By using join, it allows you choose which dataframe to join on. By default, pandas does a left join. "
   ]
  },
  {
   "cell_type": "markdown",
   "id": "740f2933-fc63-48c5-9de2-7050b5f70606",
   "metadata": {},
   "source": [
    "<br>"
   ]
  },
  {
   "cell_type": "markdown",
   "id": "8c478ad7-1b0f-4422-8343-b727f2ae66c6",
   "metadata": {},
   "source": [
    "![img](images/join.webp)"
   ]
  },
  {
   "cell_type": "markdown",
   "id": "a6eeb4bc-6c06-47a0-8d98-7cb6ea36a412",
   "metadata": {},
   "source": [
    "<br>"
   ]
  },
  {
   "cell_type": "markdown",
   "id": "7ea604fc-87c4-4a00-8624-a5e416648822",
   "metadata": {},
   "source": [
    "The next step is to join the points from each year to our dataframe which contains the course code and title."
   ]
  },
  {
   "cell_type": "markdown",
   "id": "68c68a1b-1d56-44ec-a758-048eaf5e3df9",
   "metadata": {},
   "source": [
    "<br>"
   ]
  },
  {
   "cell_type": "code",
   "execution_count": 76,
   "id": "dabd1bc6-c61c-413b-947d-885ea372724b",
   "metadata": {},
   "outputs": [],
   "source": [
    "# Joining 2021 points to the dataframe \n",
    "allcourses = allcourses.join(total2021[['points_r1_2021']])"
   ]
  },
  {
   "cell_type": "markdown",
   "id": "f174fb16-dda7-4cf3-8790-5f4879138ce9",
   "metadata": {},
   "source": [
    "<br>"
   ]
  },
  {
   "cell_type": "markdown",
   "id": "15766a7a-9d21-4fc0-a493-4dc6b412a1f2",
   "metadata": {},
   "source": [
    "<br>"
   ]
  },
  {
   "cell_type": "code",
   "execution_count": 77,
   "id": "e661dd87-8051-4eb7-9819-c90ccaf03c4f",
   "metadata": {},
   "outputs": [],
   "source": [
    "# Getting columns with points\n",
    "df2020_r1 = df2020[['COURSE CODE2', 'LEVEL', 'R1 POINTS', 'R2 POINTS']]\n",
    "\n",
    "# Changing titles\n",
    "df2020_r1.columns = ['code', 'level' ,'points_r1_2020', 'points_r2_2020']\n"
   ]
  },
  {
   "cell_type": "markdown",
   "id": "0be2b16b-5d6c-420a-8db0-d9733d631a78",
   "metadata": {},
   "source": [
    "<br>"
   ]
  },
  {
   "cell_type": "markdown",
   "id": "b1d21934-9772-4853-ba70-2cac1ed4996c",
   "metadata": {},
   "source": [
    "<br>"
   ]
  },
  {
   "cell_type": "code",
   "execution_count": 78,
   "id": "fb6f0858-73e3-46b8-b6a5-5f26a590cc4a",
   "metadata": {},
   "outputs": [],
   "source": [
    "# Setting the index as the code column\n",
    "df2020_r1.set_index('code', inplace=True)"
   ]
  },
  {
   "cell_type": "markdown",
   "id": "10d34257-8786-4868-92b6-5a603423e53f",
   "metadata": {},
   "source": [
    "<br>"
   ]
  },
  {
   "cell_type": "markdown",
   "id": "d883b4ae-b254-4d6e-ae40-ecccc618850c",
   "metadata": {},
   "source": [
    "<br>"
   ]
  },
  {
   "cell_type": "code",
   "execution_count": 79,
   "id": "c4f37b55-1346-411b-b0cc-34ff8949f3d0",
   "metadata": {},
   "outputs": [],
   "source": [
    "# Join 2020 points to allcourses.\n",
    "allcourses = allcourses.join(df2020_r1, rsuffix='level2020')"
   ]
  },
  {
   "cell_type": "markdown",
   "id": "7f73426b-49b8-4c76-aa51-127489a685bc",
   "metadata": {},
   "source": [
    "<br>"
   ]
  },
  {
   "cell_type": "markdown",
   "id": "2b19a22e-2b4d-482c-b358-ec80dd1e37de",
   "metadata": {},
   "source": [
    "<br>"
   ]
  },
  {
   "cell_type": "markdown",
   "id": "981b7df9-8335-480c-a866-00cc66f52744",
   "metadata": {},
   "source": [
    "By passing, in this case - rsuffix (right suffix), we're specifying \"...a suffix to add to any overlapping columns\" [14]. On the above join an error is thrown if the suffix isn't specified. We repeat for 2019 points."
   ]
  },
  {
   "cell_type": "markdown",
   "id": "d8998835-e294-480c-af00-4be2972b742c",
   "metadata": {},
   "source": [
    "<br>"
   ]
  },
  {
   "cell_type": "markdown",
   "id": "2002db0d-b595-42c2-9ce4-c25cfac51843",
   "metadata": {},
   "source": [
    "<br>"
   ]
  },
  {
   "cell_type": "code",
   "execution_count": 80,
   "id": "71fa45f9-55d7-449f-965c-67fec4b4eb82",
   "metadata": {},
   "outputs": [],
   "source": [
    "# Getting columns with points\n",
    "df2019_r1 = total2019[['code', 'points', 'level']]\n",
    "\n",
    "# Changing titles\n",
    "df2019_r1.columns = ['code', 'points_r1_2019', 'level_2019']"
   ]
  },
  {
   "cell_type": "markdown",
   "id": "96ccdc94-de0b-4464-888a-6b9edf22e3aa",
   "metadata": {},
   "source": [
    "<br>"
   ]
  },
  {
   "cell_type": "code",
   "execution_count": 81,
   "id": "de0c0697-66b5-4265-9c7d-0d7b25afbf61",
   "metadata": {},
   "outputs": [],
   "source": [
    "# Set the index to the code column.\n",
    "df2019_r1.set_index('code', inplace=True)"
   ]
  },
  {
   "cell_type": "markdown",
   "id": "94ad7dad-9fb0-4d07-965c-21a1b639b7b7",
   "metadata": {},
   "source": [
    "<br>"
   ]
  },
  {
   "cell_type": "code",
   "execution_count": 82,
   "id": "3f72592b-a024-4311-bba1-48205a03685a",
   "metadata": {},
   "outputs": [],
   "source": [
    "# Join 2019 points to allcourses\n",
    "allcourses = allcourses.join(df2019_r1, rsuffix='2019')"
   ]
  },
  {
   "cell_type": "markdown",
   "id": "5f9efdff-8589-421d-9c34-411f0f9b20a7",
   "metadata": {},
   "source": [
    "<br>"
   ]
  },
  {
   "cell_type": "code",
   "execution_count": 83,
   "id": "53658d12-3641-4481-a9fa-af0453081847",
   "metadata": {},
   "outputs": [],
   "source": [
    "# Dropping columns not using\n",
    "allcourses = allcourses.drop(['level2020', 'level2019', 'points_r2_2020'], axis=1)"
   ]
  },
  {
   "cell_type": "markdown",
   "id": "4dc90097-34c0-40dd-ad45-d27ed943283f",
   "metadata": {},
   "source": [
    "<br>"
   ]
  },
  {
   "cell_type": "code",
   "execution_count": 84,
   "id": "c752e2cd-a1bc-4a3f-98aa-0a40a652249e",
   "metadata": {},
   "outputs": [
    {
     "data": {
      "text/html": [
       "<div>\n",
       "<style scoped>\n",
       "    .dataframe tbody tr th:only-of-type {\n",
       "        vertical-align: middle;\n",
       "    }\n",
       "\n",
       "    .dataframe tbody tr th {\n",
       "        vertical-align: top;\n",
       "    }\n",
       "\n",
       "    .dataframe thead th {\n",
       "        text-align: right;\n",
       "    }\n",
       "</style>\n",
       "<table border=\"1\" class=\"dataframe\">\n",
       "  <thead>\n",
       "    <tr style=\"text-align: right;\">\n",
       "      <th></th>\n",
       "      <th>title</th>\n",
       "      <th>level</th>\n",
       "      <th>points_r1_2021</th>\n",
       "      <th>levellevel2020</th>\n",
       "      <th>points_r1_2020</th>\n",
       "      <th>points_r1_2019</th>\n",
       "      <th>level_2019</th>\n",
       "    </tr>\n",
       "    <tr>\n",
       "      <th>code</th>\n",
       "      <th></th>\n",
       "      <th></th>\n",
       "      <th></th>\n",
       "      <th></th>\n",
       "      <th></th>\n",
       "      <th></th>\n",
       "      <th></th>\n",
       "    </tr>\n",
       "  </thead>\n",
       "  <tbody>\n",
       "    <tr>\n",
       "      <th>AL801</th>\n",
       "      <td>Software Design for Virtual Reality and Gaming</td>\n",
       "      <td>8</td>\n",
       "      <td>300</td>\n",
       "      <td>8.0</td>\n",
       "      <td>303</td>\n",
       "      <td>304</td>\n",
       "      <td>8</td>\n",
       "    </tr>\n",
       "    <tr>\n",
       "      <th>AL802</th>\n",
       "      <td>Software Design in Artificial Intelligence for...</td>\n",
       "      <td>8</td>\n",
       "      <td>313</td>\n",
       "      <td>8.0</td>\n",
       "      <td>332</td>\n",
       "      <td>301</td>\n",
       "      <td>8</td>\n",
       "    </tr>\n",
       "    <tr>\n",
       "      <th>AL803</th>\n",
       "      <td>Software Design for Mobile Apps and Connected ...</td>\n",
       "      <td>8</td>\n",
       "      <td>350</td>\n",
       "      <td>8.0</td>\n",
       "      <td>337</td>\n",
       "      <td>309</td>\n",
       "      <td>8</td>\n",
       "    </tr>\n",
       "    <tr>\n",
       "      <th>AL805</th>\n",
       "      <td>Computer Engineering for Network Infrastructure</td>\n",
       "      <td>8</td>\n",
       "      <td>321</td>\n",
       "      <td>8.0</td>\n",
       "      <td>333</td>\n",
       "      <td>329</td>\n",
       "      <td>8</td>\n",
       "    </tr>\n",
       "    <tr>\n",
       "      <th>AL810</th>\n",
       "      <td>Quantity Surveying</td>\n",
       "      <td>8</td>\n",
       "      <td>328</td>\n",
       "      <td>8.0</td>\n",
       "      <td>319</td>\n",
       "      <td>307</td>\n",
       "      <td>8</td>\n",
       "    </tr>\n",
       "    <tr>\n",
       "      <th>...</th>\n",
       "      <td>...</td>\n",
       "      <td>...</td>\n",
       "      <td>...</td>\n",
       "      <td>...</td>\n",
       "      <td>...</td>\n",
       "      <td>...</td>\n",
       "      <td>...</td>\n",
       "    </tr>\n",
       "    <tr>\n",
       "      <th>SG403</th>\n",
       "      <td>Applied Archaeology</td>\n",
       "      <td>NaN</td>\n",
       "      <td>NaN</td>\n",
       "      <td>NaN</td>\n",
       "      <td>NaN</td>\n",
       "      <td>297</td>\n",
       "      <td>6/7</td>\n",
       "    </tr>\n",
       "    <tr>\n",
       "      <th>SG432</th>\n",
       "      <td>Environmental Protection</td>\n",
       "      <td>NaN</td>\n",
       "      <td>NaN</td>\n",
       "      <td>NaN</td>\n",
       "      <td>NaN</td>\n",
       "      <td>279</td>\n",
       "      <td>6/7</td>\n",
       "    </tr>\n",
       "    <tr>\n",
       "      <th>TL712</th>\n",
       "      <td>Computing with Digital Media</td>\n",
       "      <td>NaN</td>\n",
       "      <td>NaN</td>\n",
       "      <td>NaN</td>\n",
       "      <td>NaN</td>\n",
       "      <td>243.0</td>\n",
       "      <td>6/7</td>\n",
       "    </tr>\n",
       "    <tr>\n",
       "      <th>TL719</th>\n",
       "      <td>Culinary Arts</td>\n",
       "      <td>NaN</td>\n",
       "      <td>NaN</td>\n",
       "      <td>NaN</td>\n",
       "      <td>NaN</td>\n",
       "      <td>321.0</td>\n",
       "      <td>6/7</td>\n",
       "    </tr>\n",
       "    <tr>\n",
       "      <th>TL746</th>\n",
       "      <td>Engineering in Mechatronics Engineering</td>\n",
       "      <td>NaN</td>\n",
       "      <td>NaN</td>\n",
       "      <td>NaN</td>\n",
       "      <td>NaN</td>\n",
       "      <td>NaN</td>\n",
       "      <td>6/7</td>\n",
       "    </tr>\n",
       "  </tbody>\n",
       "</table>\n",
       "<p>1766 rows × 7 columns</p>\n",
       "</div>"
      ],
      "text/plain": [
       "                                                   title level points_r1_2021  \\\n",
       "code                                                                            \n",
       "AL801     Software Design for Virtual Reality and Gaming     8            300   \n",
       "AL802  Software Design in Artificial Intelligence for...     8            313   \n",
       "AL803  Software Design for Mobile Apps and Connected ...     8            350   \n",
       "AL805    Computer Engineering for Network Infrastructure     8            321   \n",
       "AL810                                 Quantity Surveying     8            328   \n",
       "...                                                  ...   ...            ...   \n",
       "SG403                                Applied Archaeology   NaN            NaN   \n",
       "SG432                           Environmental Protection   NaN            NaN   \n",
       "TL712                       Computing with Digital Media   NaN            NaN   \n",
       "TL719                                      Culinary Arts   NaN            NaN   \n",
       "TL746            Engineering in Mechatronics Engineering   NaN            NaN   \n",
       "\n",
       "       levellevel2020 points_r1_2020 points_r1_2019 level_2019  \n",
       "code                                                            \n",
       "AL801             8.0            303            304          8  \n",
       "AL802             8.0            332            301          8  \n",
       "AL803             8.0            337            309          8  \n",
       "AL805             8.0            333            329          8  \n",
       "AL810             8.0            319            307          8  \n",
       "...               ...            ...            ...        ...  \n",
       "SG403             NaN            NaN            297        6/7  \n",
       "SG432             NaN            NaN            279        6/7  \n",
       "TL712             NaN            NaN          243.0        6/7  \n",
       "TL719             NaN            NaN          321.0        6/7  \n",
       "TL746             NaN            NaN            NaN        6/7  \n",
       "\n",
       "[1766 rows x 7 columns]"
      ]
     },
     "execution_count": 84,
     "metadata": {},
     "output_type": "execute_result"
    }
   ],
   "source": [
    "allcourses"
   ]
  },
  {
   "cell_type": "markdown",
   "id": "37029db0-834b-4424-b213-38b8c7f01684",
   "metadata": {},
   "source": [
    "<br>"
   ]
  },
  {
   "cell_type": "markdown",
   "id": "57212aaf-ab44-404f-964f-3b6d33709cd6",
   "metadata": {},
   "source": [
    "<br>"
   ]
  },
  {
   "cell_type": "code",
   "execution_count": 85,
   "id": "b7d213aa-1508-4ba6-b3a2-dd6188c88b5c",
   "metadata": {},
   "outputs": [],
   "source": [
    "# Renaming the columns\n",
    "allcourses.rename(columns={'level':'level_2021', 'levellevel2020': 'level_2020'}, inplace=True)"
   ]
  },
  {
   "cell_type": "markdown",
   "id": "5896b4ef-6dd2-4a64-b303-a8c804d49dbf",
   "metadata": {},
   "source": [
    "<br>"
   ]
  },
  {
   "cell_type": "markdown",
   "id": "a506ddba-842e-4a31-ab75-bfd67c50f16c",
   "metadata": {},
   "source": [
    "<br>"
   ]
  },
  {
   "cell_type": "code",
   "execution_count": 86,
   "id": "d4c9adf5-7b9c-4f49-869b-a5ecaeb9bf83",
   "metadata": {},
   "outputs": [
    {
     "data": {
      "text/plain": [
       "title             Counselling Skills and Psychotherapy Studies\n",
       "level_2021                                                 NaN\n",
       "points_r1_2021                                             NaN\n",
       "level_2020                                                 7.0\n",
       "points_r1_2020                                             300\n",
       "points_r1_2019                                             238\n",
       "level_2019                                                 6/7\n",
       "Name: CI001, dtype: object"
      ]
     },
     "execution_count": 86,
     "metadata": {},
     "output_type": "execute_result"
    }
   ],
   "source": [
    "# Checking random course\n",
    "allcourses.loc['CI001'] # Code is the index "
   ]
  },
  {
   "cell_type": "markdown",
   "id": "7b690f1b-93e8-4e0f-a2f1-cd59fbad25ef",
   "metadata": {},
   "source": [
    "<br>"
   ]
  },
  {
   "cell_type": "markdown",
   "id": "04cec776-ed6e-4161-9258-4313feb734dc",
   "metadata": {},
   "source": [
    "<br>"
   ]
  },
  {
   "cell_type": "markdown",
   "id": "a10a959d-2a42-4fa2-aeb4-5e095f84aedd",
   "metadata": {},
   "source": [
    "<br>"
   ]
  },
  {
   "cell_type": "markdown",
   "id": "b3ccdc17-9afd-4806-9d9c-b31cec5ca79a",
   "metadata": {},
   "source": [
    "### Changing DataType\n",
    "***"
   ]
  },
  {
   "cell_type": "markdown",
   "id": "e3ca8e3b-721f-4c12-84ae-83a2e7d0af26",
   "metadata": {},
   "source": [
    "<br>"
   ]
  },
  {
   "cell_type": "code",
   "execution_count": 87,
   "id": "2b79b9c4-701b-4ceb-b628-f607dcb2c60d",
   "metadata": {},
   "outputs": [
    {
     "name": "stdout",
     "output_type": "stream",
     "text": [
      "<class 'pandas.core.frame.DataFrame'>\n",
      "Index: 1766 entries, AL801 to TL746\n",
      "Data columns (total 7 columns):\n",
      " #   Column          Non-Null Count  Dtype  \n",
      "---  ------          --------------  -----  \n",
      " 0   title           1765 non-null   object \n",
      " 1   level_2021      1365 non-null   object \n",
      " 2   points_r1_2021  1336 non-null   object \n",
      " 3   level_2020      1464 non-null   float64\n",
      " 4   points_r1_2020  1437 non-null   object \n",
      " 5   points_r1_2019  1297 non-null   object \n",
      " 6   level_2019      1309 non-null   object \n",
      "dtypes: float64(1), object(6)\n",
      "memory usage: 174.9+ KB\n"
     ]
    }
   ],
   "source": [
    "allcourses.info()"
   ]
  },
  {
   "cell_type": "markdown",
   "id": "b24d16c3-9c40-44e3-926d-2af7ab1d6d38",
   "metadata": {},
   "source": [
    "<br>"
   ]
  },
  {
   "cell_type": "markdown",
   "id": "ea8919ff-f743-4b18-ab02-ec6d20adcae2",
   "metadata": {},
   "source": [
    "<br>"
   ]
  },
  {
   "cell_type": "markdown",
   "id": "a6101fc8-b438-46fc-8f64-83790a9b0a0c",
   "metadata": {
    "tags": []
   },
   "source": [
    "As mentioned earlier, the 2020 points do provide the level for each course. The levels are saved as an interger. As we had to add our own level's into 2021 and 2019, where '6/7' was used. So I am going to convert the level column values into a string type to match 2019 and 2021."
   ]
  },
  {
   "cell_type": "markdown",
   "id": "b4cf3b6c-1fd2-42f5-8358-9c6ee5b6f964",
   "metadata": {
    "tags": []
   },
   "source": [
    "<br>"
   ]
  },
  {
   "cell_type": "markdown",
   "id": "005ae5cd-0651-4811-aa99-4f220c2d11f2",
   "metadata": {
    "tags": []
   },
   "source": [
    "<br>"
   ]
  },
  {
   "cell_type": "code",
   "execution_count": 88,
   "id": "4dfde92c-0785-4807-9a22-fd79bde27848",
   "metadata": {},
   "outputs": [],
   "source": [
    "# Converting level column values into strings\n",
    "allcourses['level_2020'] = allcourses['level_2020'].astype('string')"
   ]
  },
  {
   "cell_type": "markdown",
   "id": "e576819d-ca88-4b80-a009-1d3394e86ace",
   "metadata": {
    "tags": []
   },
   "source": [
    "<br>"
   ]
  },
  {
   "cell_type": "markdown",
   "id": "7b6529a9-9bca-445e-a845-bad0c0abfdd9",
   "metadata": {
    "tags": []
   },
   "source": [
    "<br>"
   ]
  },
  {
   "cell_type": "markdown",
   "id": "0893dcad-1cea-436c-9140-ef7f5cf873f3",
   "metadata": {},
   "source": [
    "As we can see above the datatype that the points are saved as strings. We need to change this into a numerical value so we can preform statistical operations such as - max, min, mean, etc. - on the data. \n",
    "\n",
    "Some of the points values have special characters next to them to indicate extra elements - interview, portfolio, etc. - required for a course. We need to remove these characters before we can covert the strings to numeric values, an error is thrown if not. \n",
    "\n",
    "Note: 2020 points don't contain any special characters."
   ]
  },
  {
   "cell_type": "markdown",
   "id": "17c63d1e-2e0f-4257-ba71-a1cc75919c67",
   "metadata": {
    "tags": []
   },
   "source": [
    "<br>"
   ]
  },
  {
   "cell_type": "markdown",
   "id": "03fcdff2-7b77-4d34-910e-72ee0816ccc3",
   "metadata": {
    "tags": []
   },
   "source": [
    "<br>"
   ]
  },
  {
   "cell_type": "code",
   "execution_count": 89,
   "id": "5b370ded-eb04-4980-9be5-3a2b86e4bd4c",
   "metadata": {
    "tags": []
   },
   "outputs": [],
   "source": [
    "# Converting level column values into strings\n",
    "#allcourses['points_r1_2021'] = allcourses['points_r1_2021'].astype('string')\n",
    "#allcourses['points_r1_2020'] = allcourses['points_r1_2020'].astype('string')\n",
    "#allcourses['points_r1_2019'] = allcourses['points_r1_2019'].astype('string')"
   ]
  },
  {
   "cell_type": "markdown",
   "id": "c525775d-6461-474c-976b-c68d40119dac",
   "metadata": {
    "tags": []
   },
   "source": [
    "<br>"
   ]
  },
  {
   "cell_type": "markdown",
   "id": "b34b8aaa-df56-4889-8c5b-7c3c60f55372",
   "metadata": {
    "tags": []
   },
   "source": [
    "<br>"
   ]
  },
  {
   "cell_type": "markdown",
   "id": "a55aa9fd-d515-40eb-952e-027c3af23b7e",
   "metadata": {},
   "source": [
    "<br>"
   ]
  },
  {
   "cell_type": "code",
   "execution_count": 90,
   "id": "de9b291d-ce53-42a2-a09f-b0345c2680b6",
   "metadata": {},
   "outputs": [],
   "source": [
    "# 2021 points\n",
    "allcourses['points_r1_2021'] = allcourses['points_r1_2021'].str.replace(r'\\D', '', regex=True)\n",
    "\n",
    "# 2019 points\n",
    "allcourses['points_r1_2019'] = allcourses['points_r1_2019'].str.replace(r'\\D', '', regex=True)"
   ]
  },
  {
   "cell_type": "markdown",
   "id": "f85ea0d7-256c-48de-9ad8-79cbd26ff21d",
   "metadata": {
    "tags": []
   },
   "source": [
    "<br>"
   ]
  },
  {
   "cell_type": "markdown",
   "id": "7923968a-09ab-473c-a9a6-ec6a59dd4539",
   "metadata": {
    "tags": []
   },
   "source": [
    "<br>"
   ]
  },
  {
   "cell_type": "code",
   "execution_count": 91,
   "id": "919c80d3-6d41-409e-ae44-3d45ac8f8ac5",
   "metadata": {},
   "outputs": [
    {
     "data": {
      "text/plain": [
       "title             Popular Music at CIT Cork School of Music\n",
       "level_2021                                                8\n",
       "points_r1_2021                                         1028\n",
       "level_2020                                              8.0\n",
       "points_r1_2020                                         1088\n",
       "points_r1_2019                                          972\n",
       "level_2019                                                8\n",
       "Name: CR125, dtype: object"
      ]
     },
     "execution_count": 91,
     "metadata": {},
     "output_type": "execute_result"
    }
   ],
   "source": [
    "# Checking a courses which previously had a special character\n",
    "allcourses.loc['CR125']"
   ]
  },
  {
   "cell_type": "markdown",
   "id": "676d5b4b-fa73-4a6b-bf32-88156b3e434c",
   "metadata": {
    "tags": []
   },
   "source": [
    "<br>"
   ]
  },
  {
   "cell_type": "markdown",
   "id": "cb73c253-83d8-4976-9504-4b42b52d88e4",
   "metadata": {},
   "source": [
    "<br>"
   ]
  },
  {
   "cell_type": "code",
   "execution_count": 92,
   "id": "a48a0dfb-50bb-460b-b83b-3df555defeb4",
   "metadata": {},
   "outputs": [],
   "source": [
    "# Converting points columns to numeric values\n",
    "cols = ['points_r1_2021', 'points_r1_2020', 'points_r1_2019']\n",
    "allcourses[cols] = allcourses[cols].apply(pd.to_numeric, errors='coerce', axis=1)"
   ]
  },
  {
   "cell_type": "markdown",
   "id": "f8bc63f7-a6cd-4912-9bed-3a46bc99d65f",
   "metadata": {},
   "source": [
    "<br>"
   ]
  },
  {
   "cell_type": "markdown",
   "id": "c5a76924-261c-4cca-9662-bb8bfce9a3e8",
   "metadata": {},
   "source": [
    "<br>"
   ]
  },
  {
   "cell_type": "code",
   "execution_count": 93,
   "id": "1cd4e01e-d5a8-4bdb-b954-9944433338e1",
   "metadata": {},
   "outputs": [
    {
     "name": "stdout",
     "output_type": "stream",
     "text": [
      "<class 'pandas.core.frame.DataFrame'>\n",
      "Index: 1766 entries, AL801 to TL746\n",
      "Data columns (total 7 columns):\n",
      " #   Column          Non-Null Count  Dtype  \n",
      "---  ------          --------------  -----  \n",
      " 0   title           1765 non-null   object \n",
      " 1   level_2021      1365 non-null   object \n",
      " 2   points_r1_2021  1317 non-null   float64\n",
      " 3   level_2020      1464 non-null   string \n",
      " 4   points_r1_2020  1387 non-null   float64\n",
      " 5   points_r1_2019  1227 non-null   float64\n",
      " 6   level_2019      1309 non-null   object \n",
      "dtypes: float64(3), object(3), string(1)\n",
      "memory usage: 174.9+ KB\n"
     ]
    }
   ],
   "source": [
    "allcourses.info()"
   ]
  },
  {
   "cell_type": "markdown",
   "id": "f3dd990c-97cc-447f-965a-1e10517b6317",
   "metadata": {},
   "source": [
    "<br>"
   ]
  },
  {
   "cell_type": "markdown",
   "id": "44e0e50f-a719-4dcd-8d3d-1d875e8bcabd",
   "metadata": {},
   "source": [
    "<br>"
   ]
  },
  {
   "cell_type": "markdown",
   "id": "333602dc-5ccd-428b-86f8-499279dfdb6a",
   "metadata": {},
   "source": [
    "<br>"
   ]
  },
  {
   "cell_type": "markdown",
   "id": "854cff3b-3841-433e-8836-96a3dc5a440d",
   "metadata": {},
   "source": [
    "<br>"
   ]
  },
  {
   "cell_type": "markdown",
   "id": "3b56a609-bc35-4d7a-9310-e8d34da7ec05",
   "metadata": {
    "tags": []
   },
   "source": [
    "***\n",
    "## Data Analysis\n",
    "***"
   ]
  },
  {
   "cell_type": "markdown",
   "id": "ebf63ec8-ed4a-4c2c-84f8-448819127901",
   "metadata": {},
   "source": [
    "<br>"
   ]
  },
  {
   "cell_type": "markdown",
   "id": "619070d7-caff-42e3-8ea3-25147dd44c08",
   "metadata": {},
   "source": [
    "<br>"
   ]
  },
  {
   "cell_type": "markdown",
   "id": "e31f2d70-8771-41d2-b391-b6df62c5678b",
   "metadata": {},
   "source": [
    "![img](images/covid.jpg)"
   ]
  },
  {
   "cell_type": "markdown",
   "id": "db9cb963-81c0-4bd3-a310-a04c20e91bdd",
   "metadata": {},
   "source": [
    "<br>"
   ]
  },
  {
   "cell_type": "markdown",
   "id": "0493b7a8-daf0-43c1-93e9-6a017ce10005",
   "metadata": {},
   "source": [
    "<br>"
   ]
  },
  {
   "cell_type": "markdown",
   "id": "bb30204a-9833-4e58-821f-c341c88716b9",
   "metadata": {},
   "source": [
    "Before we start with a points comparison, it is important to note the impact Covid-19 had on the leaving certificate and CAO points. \n",
    "\n",
    "On the 21st of May 2020, the government announced that due to medical evidence the leaving certificate exam would be canceled [15]. In it’s place students were offered the option of calculated grades or to sit the exam at a later date. In figures released by the The Department of Education revealed over  98% students had registered for calculated grades [16].\n",
    "\n",
    "In 2021, students again had the option of sitting exams, recieving accredited grades or a mixture of both [17]. \n",
    "\n",
    "There was an overall concern that accredited grades along with a record number of applicants would drive up CAO points for courses across the board. Let’s investigate if that was indeed the case.\n"
   ]
  },
  {
   "cell_type": "markdown",
   "id": "cefcb817-4b7a-4e65-b7fa-d4fddd4bd3e3",
   "metadata": {},
   "source": [
    "<br>"
   ]
  },
  {
   "cell_type": "code",
   "execution_count": 102,
   "id": "314b5b45-99bb-4c46-9721-e26aadad80c1",
   "metadata": {},
   "outputs": [
    {
     "data": {
      "text/html": [
       "<div>\n",
       "<style scoped>\n",
       "    .dataframe tbody tr th:only-of-type {\n",
       "        vertical-align: middle;\n",
       "    }\n",
       "\n",
       "    .dataframe tbody tr th {\n",
       "        vertical-align: top;\n",
       "    }\n",
       "\n",
       "    .dataframe thead th {\n",
       "        text-align: right;\n",
       "    }\n",
       "</style>\n",
       "<table border=\"1\" class=\"dataframe\">\n",
       "  <thead>\n",
       "    <tr style=\"text-align: right;\">\n",
       "      <th></th>\n",
       "      <th>points_r1_2021</th>\n",
       "      <th>points_r1_2020</th>\n",
       "      <th>points_r1_2019</th>\n",
       "    </tr>\n",
       "  </thead>\n",
       "  <tbody>\n",
       "    <tr>\n",
       "      <th>count</th>\n",
       "      <td>1317.000000</td>\n",
       "      <td>1387.000000</td>\n",
       "      <td>1227.000000</td>\n",
       "    </tr>\n",
       "    <tr>\n",
       "      <th>mean</th>\n",
       "      <td>361.665148</td>\n",
       "      <td>350.217015</td>\n",
       "      <td>340.366748</td>\n",
       "    </tr>\n",
       "    <tr>\n",
       "      <th>std</th>\n",
       "      <td>139.025919</td>\n",
       "      <td>134.311616</td>\n",
       "      <td>132.806330</td>\n",
       "    </tr>\n",
       "    <tr>\n",
       "      <th>min</th>\n",
       "      <td>57.000000</td>\n",
       "      <td>55.000000</td>\n",
       "      <td>55.000000</td>\n",
       "    </tr>\n",
       "    <tr>\n",
       "      <th>25%</th>\n",
       "      <td>260.000000</td>\n",
       "      <td>252.000000</td>\n",
       "      <td>252.000000</td>\n",
       "    </tr>\n",
       "    <tr>\n",
       "      <th>50%</th>\n",
       "      <td>325.000000</td>\n",
       "      <td>316.000000</td>\n",
       "      <td>307.000000</td>\n",
       "    </tr>\n",
       "    <tr>\n",
       "      <th>75%</th>\n",
       "      <td>462.000000</td>\n",
       "      <td>430.500000</td>\n",
       "      <td>409.500000</td>\n",
       "    </tr>\n",
       "    <tr>\n",
       "      <th>max</th>\n",
       "      <td>1028.000000</td>\n",
       "      <td>1088.000000</td>\n",
       "      <td>979.000000</td>\n",
       "    </tr>\n",
       "  </tbody>\n",
       "</table>\n",
       "</div>"
      ],
      "text/plain": [
       "       points_r1_2021  points_r1_2020  points_r1_2019\n",
       "count     1317.000000     1387.000000     1227.000000\n",
       "mean       361.665148      350.217015      340.366748\n",
       "std        139.025919      134.311616      132.806330\n",
       "min         57.000000       55.000000       55.000000\n",
       "25%        260.000000      252.000000      252.000000\n",
       "50%        325.000000      316.000000      307.000000\n",
       "75%        462.000000      430.500000      409.500000\n",
       "max       1028.000000     1088.000000      979.000000"
      ]
     },
     "execution_count": 102,
     "metadata": {},
     "output_type": "execute_result"
    }
   ],
   "source": [
    "# Overview \n",
    "allcourses.describe()"
   ]
  },
  {
   "cell_type": "markdown",
   "id": "1fb3b10b-2c54-4595-88d9-cb36df34de92",
   "metadata": {},
   "source": [
    "<br>"
   ]
  },
  {
   "cell_type": "markdown",
   "id": "ca6ffa99-13a2-4ec7-bd73-b1cd2a431de5",
   "metadata": {},
   "source": [
    "<br>"
   ]
  },
  {
   "cell_type": "markdown",
   "id": "bcecb6f0-7ba4-4886-aee9-0f8a1de1f468",
   "metadata": {},
   "source": [
    "Just from this quick overview, we can see that points have increased over the years. "
   ]
  },
  {
   "cell_type": "markdown",
   "id": "41bab107-f2a1-4130-9229-265e2adfe1c3",
   "metadata": {},
   "source": [
    "<br>"
   ]
  },
  {
   "cell_type": "markdown",
   "id": "a1e70f20-f905-4214-85af-f6172b7f90dc",
   "metadata": {},
   "source": [
    "<br>"
   ]
  },
  {
   "cell_type": "code",
   "execution_count": 144,
   "id": "c296e338-dee9-4dcc-b6cd-f6670f28af62",
   "metadata": {},
   "outputs": [
    {
     "data": {
      "text/plain": [
       "1765"
      ]
     },
     "execution_count": 144,
     "metadata": {},
     "output_type": "execute_result"
    }
   ],
   "source": [
    "# Number of courses titles\n",
    "allcourses['title'].count()"
   ]
  },
  {
   "cell_type": "markdown",
   "id": "396b43b6-7bed-4053-8b4c-0639b3b051d6",
   "metadata": {},
   "source": [
    "<br>"
   ]
  },
  {
   "cell_type": "markdown",
   "id": "4ad34671-2373-4875-9c6b-63c64d614ef1",
   "metadata": {},
   "source": [
    "<br>"
   ]
  },
  {
   "cell_type": "markdown",
   "id": "71f7f47b-f0aa-47e0-84be-e30b515c7f0a",
   "metadata": {},
   "source": [
    "There are 1765 courses in our dataframe. It's important to note that this does not mean there was 1674 courses available to candidates each year. The number of courses varies year on year. If there's low demand for courses, they may cease that and subsequent years. Additionally, new courses may be added. "
   ]
  },
  {
   "cell_type": "markdown",
   "id": "3ffe2b4a-40e3-4de5-afc3-a272ea9f7ffe",
   "metadata": {},
   "source": [
    "<br>"
   ]
  },
  {
   "cell_type": "markdown",
   "id": "6b504549-bafa-47c2-bdcc-d6b790353aee",
   "metadata": {},
   "source": [
    "<br>"
   ]
  },
  {
   "cell_type": "code",
   "execution_count": 147,
   "id": "8b017ae0-306f-47d9-969c-fe29c14a8fb7",
   "metadata": {},
   "outputs": [
    {
     "data": {
      "text/plain": [
       "8      931\n",
       "6/7    378\n",
       "Name: level_2019, dtype: int64"
      ]
     },
     "execution_count": 147,
     "metadata": {},
     "output_type": "execute_result"
    }
   ],
   "source": [
    "# Breakdown of 2019 courses\n",
    "allcourses['level_2019'].value_counts()"
   ]
  },
  {
   "cell_type": "markdown",
   "id": "ce0e6157-158f-42c6-a959-7b59c879224e",
   "metadata": {},
   "source": [
    "<br>"
   ]
  },
  {
   "cell_type": "markdown",
   "id": "c143601f-8c56-4b23-9e50-570093529b41",
   "metadata": {},
   "source": [
    "<br>"
   ]
  },
  {
   "cell_type": "code",
   "execution_count": null,
   "id": "e4fe0e8e-6c61-4b8b-bedd-a547da20549d",
   "metadata": {},
   "outputs": [
    {
     "data": {
      "text/plain": [
       "8.0    1027\n",
       "7.0     346\n",
       "6.0      91\n",
       "Name: level_2020, dtype: Int64"
      ]
     },
     "execution_count": 140,
     "metadata": {},
     "output_type": "execute_result"
    }
   ],
   "source": [
    "# Breakdown of 2020 courses\n",
    "allcourses['level_2020'].value_counts()"
   ]
  },
  {
   "cell_type": "markdown",
   "id": "1d6e4273-f4f8-48a3-be10-369fd949429c",
   "metadata": {},
   "source": [
    "<br>"
   ]
  },
  {
   "cell_type": "markdown",
   "id": "d35b3a45-7ae4-4505-b565-637f4fc15621",
   "metadata": {},
   "source": [
    "<br>"
   ]
  },
  {
   "cell_type": "code",
   "execution_count": 146,
   "id": "7b705e6f-9905-4d80-8743-aa9c47095c6f",
   "metadata": {},
   "outputs": [
    {
     "data": {
      "text/plain": [
       "8      949\n",
       "6/7    416\n",
       "Name: level_2021, dtype: int64"
      ]
     },
     "execution_count": 146,
     "metadata": {},
     "output_type": "execute_result"
    }
   ],
   "source": [
    "# Breakdown of 2021 courses\n",
    "allcourses['level_2021'].value_counts()"
   ]
  },
  {
   "cell_type": "markdown",
   "id": "35405ffc-1150-44b8-bc63-436043290d03",
   "metadata": {
    "tags": []
   },
   "source": [
    "<br>"
   ]
  },
  {
   "cell_type": "markdown",
   "id": "2399a59b-84e6-4351-b9d3-5d0683c0e092",
   "metadata": {},
   "source": [
    "Let's visualise these numbers using a countplot."
   ]
  },
  {
   "cell_type": "markdown",
   "id": "c3852a63-6061-45ba-9255-3eec1ce91a93",
   "metadata": {},
   "source": [
    "<br>"
   ]
  },
  {
   "cell_type": "code",
   "execution_count": 148,
   "id": "1ac854b6-cacd-4134-92c7-d69c35888147",
   "metadata": {},
   "outputs": [
    {
     "data": {
      "text/plain": [
       "<AxesSubplot:xlabel='level_2021', ylabel='count'>"
      ]
     },
     "execution_count": 148,
     "metadata": {},
     "output_type": "execute_result"
    },
    {
     "data": {
      "image/png": "[encoded data removed]",
      "text/plain": [
       "<Figure size 1080x720 with 3 Axes>"
      ]
     },
     "metadata": {
      "needs_background": "light"
     },
     "output_type": "display_data"
    }
   ],
   "source": [
    "# Figure Size\n",
    "plt.rcParams['figure.figsize'] = (15, 10)\n",
    "\n",
    "# Generating a countplot for each year\n",
    "\n",
    "# nrows, ncols, the first plot\n",
    "plt.subplot(1,3,1)\n",
    "sns.countplot(x='level_2019', data=allcourses)\n",
    "\n",
    "# nrows, ncols, the second plot\n",
    "plt.subplot(1,3,2)\n",
    "sns.countplot(x='level_2020', data=allcourses)\n",
    "\n",
    "# nrows, ncols, the thrid plot\n",
    "plt.subplot(1,3,3)\n",
    "sns.countplot(x='level_2021', data=allcourses)\n"
   ]
  },
  {
   "cell_type": "markdown",
   "id": "32aab8cc-f61c-492f-9174-3d15e53c0c6d",
   "metadata": {},
   "source": [
    "<br>"
   ]
  },
  {
   "cell_type": "markdown",
   "id": "fa3b6428-9573-44d3-ac0e-8cd192eb1e50",
   "metadata": {},
   "source": [
    "2020 was the year which offered students the greatest number of courses."
   ]
  },
  {
   "cell_type": "markdown",
   "id": "0b93ceb5-951f-402b-a972-bfb33c2fcf0e",
   "metadata": {},
   "source": [
    "<br>"
   ]
  },
  {
   "cell_type": "markdown",
   "id": "34eda028-2d1c-407a-b044-7fd2b3d84c0e",
   "metadata": {},
   "source": [
    "<br>"
   ]
  },
  {
   "cell_type": "code",
   "execution_count": 104,
   "id": "a877338f-2a63-4d5d-84bd-d93171f90492",
   "metadata": {},
   "outputs": [
    {
     "data": {
      "text/plain": [
       "350.21701514059123"
      ]
     },
     "execution_count": 104,
     "metadata": {},
     "output_type": "execute_result"
    }
   ],
   "source": [
    "# Average number of points 2020\n",
    "allcourses['points_r1_2020'].mean()"
   ]
  },
  {
   "cell_type": "markdown",
   "id": "3ea8cb97-0248-414c-9623-da1106655ce0",
   "metadata": {},
   "source": [
    "<br>"
   ]
  },
  {
   "cell_type": "markdown",
   "id": "aecd9c02-aefd-4abd-957f-0ce9d46719db",
   "metadata": {},
   "source": [
    "<br>"
   ]
  },
  {
   "cell_type": "markdown",
   "id": "3d33ffc9-f868-4bda-b5e1-418e5441eba3",
   "metadata": {},
   "source": [
    "<br>"
   ]
  },
  {
   "cell_type": "markdown",
   "id": "1269a9e1-cc9c-4989-9042-42214554d5ca",
   "metadata": {},
   "source": [
    "Next, let's take a look at the points. "
   ]
  },
  {
   "cell_type": "markdown",
   "id": "4a89459b-94ec-4a56-b77f-9593767fa441",
   "metadata": {},
   "source": [
    "<br>"
   ]
  },
  {
   "cell_type": "markdown",
   "id": "c51ec793-32d5-4be9-8e75-5ed5e4aad7cf",
   "metadata": {},
   "source": [
    "<br>"
   ]
  },
  {
   "cell_type": "markdown",
   "id": "e6cefdde-fe41-4c8e-9cf0-2c97f41e63da",
   "metadata": {},
   "source": [
    "#### KDE Plot"
   ]
  },
  {
   "cell_type": "markdown",
   "id": "e02ce42f-88ea-44ac-a05b-f5c20be2d9d8",
   "metadata": {},
   "source": [
    "<br>"
   ]
  },
  {
   "cell_type": "markdown",
   "id": "b5c1ddd5-f6ce-452b-80d8-ce9bbccfb7c4",
   "metadata": {},
   "source": [
    "\"A kernel density estimate (KDE) plot is a method for visualizing the distribution of observations in a dataset\" [18].\n",
    "\n",
    "The KDE plot is generated by “…drawing a small continuous curve (also called kernel) for every individual data point along an axis, all of these curves are then added together to obtain a single smooth density estimation” [19]."
   ]
  },
  {
   "cell_type": "markdown",
   "id": "5c6aafac-4098-45ec-b132-4ceb3d5b50e6",
   "metadata": {},
   "source": [
    "<br>"
   ]
  },
  {
   "cell_type": "code",
   "execution_count": 173,
   "id": "a0dce2be-dfb1-4556-9b65-07dbbf8f8217",
   "metadata": {},
   "outputs": [
    {
     "data": {
      "text/plain": [
       "([<matplotlib.axis.XTick at 0x1d4b07f22e0>,\n",
       "  <matplotlib.axis.XTick at 0x1d4b07f22b0>,\n",
       "  <matplotlib.axis.XTick at 0x1d4b0906460>,\n",
       "  <matplotlib.axis.XTick at 0x1d4b0918cd0>,\n",
       "  <matplotlib.axis.XTick at 0x1d4b09a5460>,\n",
       "  <matplotlib.axis.XTick at 0x1d4b09a5bb0>,\n",
       "  <matplotlib.axis.XTick at 0x1d4b09ae340>,\n",
       "  <matplotlib.axis.XTick at 0x1d4b09a5b80>,\n",
       "  <matplotlib.axis.XTick at 0x1d4b09183d0>,\n",
       "  <matplotlib.axis.XTick at 0x1d4b09aedf0>,\n",
       "  <matplotlib.axis.XTick at 0x1d4b09b7580>,\n",
       "  <matplotlib.axis.XTick at 0x1d4b0809eb0>,\n",
       "  <matplotlib.axis.XTick at 0x1d4b09e8ac0>,\n",
       "  <matplotlib.axis.XTick at 0x1d4b09e6250>,\n",
       "  <matplotlib.axis.XTick at 0x1d4b09e69a0>],\n",
       " [Text(0, 0, ''),\n",
       "  Text(0, 0, ''),\n",
       "  Text(0, 0, ''),\n",
       "  Text(0, 0, ''),\n",
       "  Text(0, 0, ''),\n",
       "  Text(0, 0, ''),\n",
       "  Text(0, 0, ''),\n",
       "  Text(0, 0, ''),\n",
       "  Text(0, 0, ''),\n",
       "  Text(0, 0, ''),\n",
       "  Text(0, 0, ''),\n",
       "  Text(0, 0, ''),\n",
       "  Text(0, 0, ''),\n",
       "  Text(0, 0, ''),\n",
       "  Text(0, 0, '')])"
      ]
     },
     "execution_count": 173,
     "metadata": {},
     "output_type": "execute_result"
    },
    {
     "data": {
      "image/png": "[encoded data removed]",
      "text/plain": [
       "<Figure size 1080x720 with 1 Axes>"
      ]
     },
     "metadata": {
      "needs_background": "light"
     },
     "output_type": "display_data"
    }
   ],
   "source": [
    "# Generating a kde plot for points \n",
    "allcourses['points_r1_2021'].plot.kde(label='2021', linestyle='-', linewidth=3)\n",
    "allcourses['points_r1_2020'].plot.kde(label='2020', linestyle='--', linewidth=3)\n",
    "allcourses['points_r1_2019'].plot.kde(label='2019', linestyle=':', linewidth=3)\n",
    "\n",
    "# Adding a legend\n",
    "plt.legend()\n",
    "\n",
    "# Adding ticks to xaxis\n",
    "plt.xticks(np.arange(-500, 1650, step=150))"
   ]
  },
  {
   "cell_type": "markdown",
   "id": "e6a4567a-9df6-46fe-a358-76f78d47fa01",
   "metadata": {},
   "source": [
    "<br>"
   ]
  },
  {
   "cell_type": "markdown",
   "id": "0f75e625-b36b-412a-9bf1-2a7331dc43e3",
   "metadata": {},
   "source": [
    "<br>"
   ]
  },
  {
   "cell_type": "markdown",
   "id": "700aed10-2e1c-44f8-b06f-16d523fa1a55",
   "metadata": {},
   "source": [
    "From the above plot we can see that the majority of courses require in and around 300 points."
   ]
  },
  {
   "cell_type": "markdown",
   "id": "c0f2f489-520c-485f-a125-52ff0c4d5b3a",
   "metadata": {},
   "source": [
    "<br>"
   ]
  },
  {
   "cell_type": "markdown",
   "id": "49f156f5-9450-41f1-9e3c-1fbd66f5acc1",
   "metadata": {},
   "source": [
    "<br>"
   ]
  },
  {
   "cell_type": "markdown",
   "id": "a720f40b-cbbe-4915-97e4-84a62ba9a59e",
   "metadata": {},
   "source": [
    "#### Scatterplot"
   ]
  },
  {
   "cell_type": "markdown",
   "id": "bea5bf7e-4a37-4e10-bc32-a9cd417110d3",
   "metadata": {},
   "source": [
    "<br>"
   ]
  },
  {
   "cell_type": "markdown",
   "id": "7bc957e1-7785-4e45-8c26-55feefdd4060",
   "metadata": {},
   "source": [
    "Let's create a scatterplot to compare 2020 and 2021 points. I'm going to use the 2020 level of the course because the CAO distingushed between the levels for 2020. Whereas for 2019 and 2021 they didn't specify which was a level 6 and level 7 course.\n",
    "\n",
    "Scatterplots are useful because, not only does each dot represent an individual, they also allow us to recognise any patterns in the data. It is common to discover and identify correlation of relationships when using scatter plots [20]."
   ]
  },
  {
   "cell_type": "markdown",
   "id": "588bb30d-2054-4240-88ed-ee3bb3d74b1a",
   "metadata": {},
   "source": [
    "<br>"
   ]
  },
  {
   "cell_type": "code",
   "execution_count": 177,
   "id": "233bad91-c65c-4f22-a473-2c2cdd14f3ac",
   "metadata": {},
   "outputs": [
    {
     "data": {
      "image/png": "[encoded data removed]",
      "text/plain": [
       "<Figure size 1080x720 with 1 Axes>"
      ]
     },
     "metadata": {
      "needs_background": "light"
     },
     "output_type": "display_data"
    }
   ],
   "source": [
    "# Generating a scatterplot between 2020 and 2021 points.\n",
    "    \n",
    "sns.scatterplot(x=allcourses['points_r1_2021'], y=allcourses['points_r1_2020'], hue=allcourses['level_2020'], palette='plasma')\n",
    "\n",
    "# Adding labels to axis\n",
    "plt.xlabel('points_r1_2021')\n",
    "plt.ylabel('points_r1_2020')\n",
    "\n",
    "# Adding a grid\n",
    "plt.grid(color='black',ls='--')"
   ]
  },
  {
   "cell_type": "markdown",
   "id": "23dd011d-52a5-4f4e-bd50-d6df5414e195",
   "metadata": {},
   "source": [
    "<br>"
   ]
  },
  {
   "cell_type": "markdown",
   "id": "821ce70b-a3f6-4eeb-83c9-6fd105110cbd",
   "metadata": {},
   "source": [
    "<br>"
   ]
  },
  {
   "cell_type": "markdown",
   "id": "9506d743-4a1f-428b-a182-2d95eb9cf070",
   "metadata": {},
   "source": [
    "<br>"
   ]
  },
  {
   "cell_type": "code",
   "execution_count": null,
   "id": "3ff3213d-403b-4182-a2da-01860772ccc2",
   "metadata": {},
   "outputs": [],
   "source": [
    "# Pivot table of top 5 course points by 2019\n",
    "allcourses.sort_values(by=['points_r1_2021', 'title'], ascending=False).head()"
   ]
  },
  {
   "cell_type": "markdown",
   "id": "bca0e44d-e79e-411e-9b83-8e6267e93157",
   "metadata": {},
   "source": [
    "<br>"
   ]
  },
  {
   "cell_type": "markdown",
   "id": "6658f3c4-8086-41cb-b9cb-ca0f1720ee75",
   "metadata": {},
   "source": [
    "<br>"
   ]
  },
  {
   "cell_type": "code",
   "execution_count": null,
   "id": "776954ec-2ac3-42e2-b84d-81f8c2bbfa37",
   "metadata": {},
   "outputs": [],
   "source": [
    "# Pivot table of top 5 course points by 2019\n",
    "allcourses.sort_values(by=['points_r1_2020', 'title'], ascending=False).head()"
   ]
  },
  {
   "cell_type": "markdown",
   "id": "c1e0b2e0-b93d-41f7-8ee5-7adc94c190b4",
   "metadata": {},
   "source": [
    "<br>"
   ]
  },
  {
   "cell_type": "markdown",
   "id": "f31e0d35-b356-4039-8f1d-0f5ee916702f",
   "metadata": {},
   "source": [
    "<br>"
   ]
  },
  {
   "cell_type": "code",
   "execution_count": null,
   "id": "b7c31160-ad4f-48cd-99df-5e62477a6d8f",
   "metadata": {},
   "outputs": [],
   "source": [
    "# Pivot table of top 5 course points by 2019\n",
    "allcourses.sort_values(by=['points_r1_2019', 'title'], ascending=False).head()"
   ]
  },
  {
   "cell_type": "markdown",
   "id": "934c1e7e-b8db-4028-a364-07557e8c504e",
   "metadata": {},
   "source": [
    "<br>"
   ]
  },
  {
   "cell_type": "markdown",
   "id": "e71197ff-8d73-4dbf-ad00-8bed86375518",
   "metadata": {},
   "source": [
    "<br>"
   ]
  },
  {
   "cell_type": "code",
   "execution_count": null,
   "id": "b87f8a1a-365c-4c30-87e3-05fb93246146",
   "metadata": {},
   "outputs": [],
   "source": [
    "x = allcourses.groupby(['level_2020'])[cols].agg([np.mean, np.std, np.min, np.max])"
   ]
  },
  {
   "cell_type": "code",
   "execution_count": null,
   "id": "4b7a86bd-4b04-4c17-8073-0e15dffd163c",
   "metadata": {},
   "outputs": [],
   "source": [
    "x"
   ]
  },
  {
   "cell_type": "markdown",
   "id": "34d96ce0-5902-4bff-9aee-7d9a0af60d49",
   "metadata": {},
   "source": [
    "<br>"
   ]
  },
  {
   "cell_type": "code",
   "execution_count": null,
   "id": "fc370ac5-95b3-4c48-8e62-25879e0bf016",
   "metadata": {},
   "outputs": [],
   "source": [
    "# Generating a barplot for the above pivot table\n",
    "x.plot.barh()"
   ]
  },
  {
   "cell_type": "markdown",
   "id": "bf141c09-df1b-449d-99c0-24320496bc15",
   "metadata": {},
   "source": [
    "<br>"
   ]
  },
  {
   "cell_type": "markdown",
   "id": "820bd816-840d-42d2-a87d-9c98fde265d0",
   "metadata": {},
   "source": [
    "<br>"
   ]
  },
  {
   "cell_type": "markdown",
   "id": "01264d69-319f-48e8-bacd-2b4f10b524a6",
   "metadata": {},
   "source": [
    "<br>"
   ]
  },
  {
   "cell_type": "code",
   "execution_count": null,
   "id": "602e2d4b-850d-471b-a795-c8354b8c38bd",
   "metadata": {},
   "outputs": [],
   "source": [
    "# Overview of 2021 points\n",
    "allcourses['points_r1_2021'].describe()"
   ]
  },
  {
   "cell_type": "markdown",
   "id": "9babc68a-a2c9-4988-b7fc-1779b7165c8a",
   "metadata": {},
   "source": [
    "<br>"
   ]
  },
  {
   "cell_type": "markdown",
   "id": "44f6dfa8-14fa-4fcc-813b-34ce31c017cf",
   "metadata": {},
   "source": [
    "<br>"
   ]
  },
  {
   "cell_type": "code",
   "execution_count": null,
   "id": "d73d452e-425c-4ef4-aa1c-308fc11eb85a",
   "metadata": {
    "tags": []
   },
   "outputs": [],
   "source": [
    "# Most points in 2021\n",
    "allcourses['points_r1_2021'].max()"
   ]
  },
  {
   "cell_type": "markdown",
   "id": "abc1a6e3-4267-4ff7-945d-b05aa1a1fa2f",
   "metadata": {},
   "source": [
    "<br>"
   ]
  },
  {
   "cell_type": "markdown",
   "id": "851b3813-1077-4153-ba1b-105861ac5bdd",
   "metadata": {},
   "source": [
    "<br>"
   ]
  },
  {
   "cell_type": "code",
   "execution_count": null,
   "id": "7190b396-a223-4f00-ba70-22beb0cdf3b9",
   "metadata": {},
   "outputs": [],
   "source": [
    "# Least points in 2021\n",
    "allcourses['points_r1_2021'].min()"
   ]
  },
  {
   "cell_type": "markdown",
   "id": "dd9e33f3-aa15-4d55-926d-3025ca20c3d7",
   "metadata": {},
   "source": [
    "<br>"
   ]
  },
  {
   "cell_type": "markdown",
   "id": "90da3dbf-9c09-43de-a1fd-f3dca63925b7",
   "metadata": {},
   "source": [
    "<br>"
   ]
  },
  {
   "cell_type": "markdown",
   "id": "822d572e-d7ee-45ec-a944-955e1a3aa50f",
   "metadata": {},
   "source": [
    "<br>"
   ]
  },
  {
   "cell_type": "code",
   "execution_count": null,
   "id": "8cf38bb0-e1ba-447a-98aa-a68edf4315b3",
   "metadata": {
    "tags": []
   },
   "outputs": [],
   "source": [
    "# Searching for that course\n",
    "allcourses[allcourses['points_r1_2021'] == 625]"
   ]
  },
  {
   "cell_type": "markdown",
   "id": "75a73a15-9987-4e9c-b127-f02da6237dab",
   "metadata": {},
   "source": [
    "<br>"
   ]
  },
  {
   "cell_type": "markdown",
   "id": "467dc074-8819-4df6-af31-5162a11af9d7",
   "metadata": {},
   "source": [
    "<br>"
   ]
  },
  {
   "cell_type": "markdown",
   "id": "53d2ab19-e775-4321-97b1-31a86f089daf",
   "metadata": {},
   "source": [
    "An increase of 80 points in 2 years. "
   ]
  },
  {
   "cell_type": "markdown",
   "id": "3ff45787-07cc-4b89-99fa-aa5bc0f526aa",
   "metadata": {},
   "source": [
    "<br>"
   ]
  },
  {
   "cell_type": "markdown",
   "id": "10cb5adf-8eaf-437a-929d-2dc08df4878b",
   "metadata": {},
   "source": [
    "<br>"
   ]
  },
  {
   "cell_type": "code",
   "execution_count": null,
   "id": "8b0ff42a-6f63-4c8c-8a94-d5e070c7deb1",
   "metadata": {},
   "outputs": [],
   "source": [
    "# Searching for that course\n",
    "allcourses[allcourses['points_r1_2021'] == 100]"
   ]
  },
  {
   "cell_type": "markdown",
   "id": "91039e44-71f5-49cc-b75c-bb999feccd43",
   "metadata": {},
   "source": [
    "<br>"
   ]
  },
  {
   "cell_type": "markdown",
   "id": "cbff42d7-28dd-4cf8-8578-d232c221d345",
   "metadata": {},
   "source": [
    "A massive 134 point drop from 2020."
   ]
  },
  {
   "cell_type": "markdown",
   "id": "87c3cae1-d8de-4400-9fc0-e67cc97bc04a",
   "metadata": {},
   "source": [
    "<br>"
   ]
  },
  {
   "cell_type": "markdown",
   "id": "a2df55d3-7440-4c3d-99d5-d181d86e63ec",
   "metadata": {},
   "source": [
    "<br>"
   ]
  },
  {
   "cell_type": "code",
   "execution_count": 174,
   "id": "084f039a-6f9c-444c-bd97-4a3ba2999a85",
   "metadata": {},
   "outputs": [
    {
     "data": {
      "text/plain": [
       "count    1387.000000\n",
       "mean      350.217015\n",
       "std       134.311616\n",
       "min        55.000000\n",
       "25%       252.000000\n",
       "50%       316.000000\n",
       "75%       430.500000\n",
       "max      1088.000000\n",
       "Name: points_r1_2020, dtype: float64"
      ]
     },
     "execution_count": 174,
     "metadata": {},
     "output_type": "execute_result"
    }
   ],
   "source": [
    "# Overview of 2020 points\n",
    "allcourses['points_r1_2020'].describe()"
   ]
  },
  {
   "cell_type": "markdown",
   "id": "5704a33e-f37e-4ce7-9a79-45a56101d3d9",
   "metadata": {},
   "source": [
    "<br>"
   ]
  },
  {
   "cell_type": "markdown",
   "id": "00799d6d-5c96-4472-abec-546e6a9fe8df",
   "metadata": {},
   "source": [
    "<br>"
   ]
  },
  {
   "cell_type": "code",
   "execution_count": 94,
   "id": "8164b5aa-97ba-4c0a-a3d7-2fef7477022e",
   "metadata": {
    "tags": []
   },
   "outputs": [
    {
     "name": "stderr",
     "output_type": "stream",
     "text": [
      "C:\\Users\\katie\\AppData\\Local\\Temp/ipykernel_14052/2607426376.py:2: FutureWarning: Dropping of nuisance columns in DataFrame reductions (with 'numeric_only=None') is deprecated; in a future version this will raise TypeError.  Select only valid columns before calling the reduction.\n",
      "  allcourses.max()\n"
     ]
    },
    {
     "data": {
      "text/plain": [
       "points_r1_2021    1028.0\n",
       "level_2020           8.0\n",
       "points_r1_2020    1088.0\n",
       "points_r1_2019     979.0\n",
       "dtype: object"
      ]
     },
     "execution_count": 94,
     "metadata": {},
     "output_type": "execute_result"
    }
   ],
   "source": [
    "# Most points in 2020\n",
    "allcourses.max()"
   ]
  },
  {
   "cell_type": "markdown",
   "id": "64b35ad2-5f41-4dd5-8d55-6e472c030a35",
   "metadata": {},
   "source": [
    "<br>"
   ]
  },
  {
   "cell_type": "markdown",
   "id": "9fcd6384-ecfd-42b2-ac21-8f767288667f",
   "metadata": {},
   "source": [
    "<br>"
   ]
  },
  {
   "cell_type": "code",
   "execution_count": null,
   "id": "e4677aa3-1f64-443e-a816-b23afd949004",
   "metadata": {},
   "outputs": [],
   "source": [
    "# Least points in 2020\n",
    "allcourses['points_r1_2020'].min()"
   ]
  },
  {
   "cell_type": "markdown",
   "id": "6c7e59a2-bab0-47e4-9578-d56881c346a4",
   "metadata": {},
   "source": [
    "<br>"
   ]
  },
  {
   "cell_type": "markdown",
   "id": "fc3f5139-36dc-4ffa-952c-1c75d74cfe0c",
   "metadata": {},
   "source": [
    "<br>"
   ]
  },
  {
   "cell_type": "markdown",
   "id": "49a840f1-1a52-4ee8-a929-0c1a2497ce9c",
   "metadata": {},
   "source": [
    "<br>"
   ]
  },
  {
   "cell_type": "code",
   "execution_count": 95,
   "id": "13bdae73-ac57-4014-bbd0-1bbba465d0f9",
   "metadata": {
    "tags": []
   },
   "outputs": [
    {
     "data": {
      "text/html": [
       "<div>\n",
       "<style scoped>\n",
       "    .dataframe tbody tr th:only-of-type {\n",
       "        vertical-align: middle;\n",
       "    }\n",
       "\n",
       "    .dataframe tbody tr th {\n",
       "        vertical-align: top;\n",
       "    }\n",
       "\n",
       "    .dataframe thead th {\n",
       "        text-align: right;\n",
       "    }\n",
       "</style>\n",
       "<table border=\"1\" class=\"dataframe\">\n",
       "  <thead>\n",
       "    <tr style=\"text-align: right;\">\n",
       "      <th></th>\n",
       "      <th>title</th>\n",
       "      <th>level_2021</th>\n",
       "      <th>points_r1_2021</th>\n",
       "      <th>level_2020</th>\n",
       "      <th>points_r1_2020</th>\n",
       "      <th>points_r1_2019</th>\n",
       "      <th>level_2019</th>\n",
       "    </tr>\n",
       "    <tr>\n",
       "      <th>code</th>\n",
       "      <th></th>\n",
       "      <th></th>\n",
       "      <th></th>\n",
       "      <th></th>\n",
       "      <th></th>\n",
       "      <th></th>\n",
       "      <th></th>\n",
       "    </tr>\n",
       "  </thead>\n",
       "  <tbody>\n",
       "    <tr>\n",
       "      <th>CR125</th>\n",
       "      <td>Popular Music at CIT Cork School of Music</td>\n",
       "      <td>8</td>\n",
       "      <td>1028.0</td>\n",
       "      <td>8.0</td>\n",
       "      <td>1088.0</td>\n",
       "      <td>972.0</td>\n",
       "      <td>8</td>\n",
       "    </tr>\n",
       "  </tbody>\n",
       "</table>\n",
       "</div>"
      ],
      "text/plain": [
       "                                           title level_2021  points_r1_2021  \\\n",
       "code                                                                          \n",
       "CR125  Popular Music at CIT Cork School of Music          8          1028.0   \n",
       "\n",
       "      level_2020  points_r1_2020  points_r1_2019 level_2019  \n",
       "code                                                         \n",
       "CR125        8.0          1088.0           972.0          8  "
      ]
     },
     "execution_count": 95,
     "metadata": {},
     "output_type": "execute_result"
    }
   ],
   "source": [
    "# Searching for that course\n",
    "allcourses[allcourses['points_r1_2020'] == 1088]"
   ]
  },
  {
   "cell_type": "markdown",
   "id": "ba61000b-5d83-45e5-83f1-bced400080da",
   "metadata": {},
   "source": [
    "<br>"
   ]
  },
  {
   "cell_type": "markdown",
   "id": "ee42dd67-8f42-4ea5-95cc-5b796225456b",
   "metadata": {},
   "source": [
    "<br>"
   ]
  },
  {
   "cell_type": "markdown",
   "id": "4070df76-8445-4934-83ac-e34fd16874ef",
   "metadata": {},
   "source": [
    "The course with the most points was Popular Music at CIT Cork School of Music. This seems to be a new introduction in 2020, and it was in 2021 CAO."
   ]
  },
  {
   "cell_type": "markdown",
   "id": "0bdb4fca-4c74-4256-9aa7-be83616789c7",
   "metadata": {},
   "source": [
    "<br>"
   ]
  },
  {
   "cell_type": "markdown",
   "id": "fe446f3a-77e7-472a-9821-b974e7400a30",
   "metadata": {},
   "source": [
    "<br>"
   ]
  },
  {
   "cell_type": "code",
   "execution_count": null,
   "id": "a5b5a5e5-2304-4057-8d59-9c6f068380d5",
   "metadata": {},
   "outputs": [],
   "source": [
    "# Searching for that course\n",
    "allcourses[allcourses['points_r1_2020'] == 55]"
   ]
  },
  {
   "cell_type": "markdown",
   "id": "4c7bad5b-453e-4275-a87f-813f86dcd0af",
   "metadata": {},
   "source": [
    "<br>"
   ]
  },
  {
   "cell_type": "markdown",
   "id": "04dd684e-b33d-47ed-aaa2-f0ad539063e6",
   "metadata": {},
   "source": [
    "<br>"
   ]
  },
  {
   "cell_type": "markdown",
   "id": "e01705ce-fc2c-4d94-a25d-563cf9ca0d26",
   "metadata": {},
   "source": [
    "The course with the lowest points is misleading as it requires a GAMSAT*. \n",
    "\n",
    "*Graduate Medical School Admissions Test (GAMSAT) \"is a standardised exam designed, scored and developed by ACER to assist in the admissions of students to graduate-entry programmes (medicine, dentistry, optometry, pharmacy, podiatry) open to graduates of any discipline.GRADUATE ENTRY IRISH MEDICAL SCHOOLS. There are 4 medicals schools in Ireland which require the GAMSAT as part of their admissions criteria.\""
   ]
  },
  {
   "cell_type": "markdown",
   "id": "021dac41-6af2-40d1-904a-ecbb996d1a6e",
   "metadata": {},
   "source": [
    "<br>"
   ]
  },
  {
   "cell_type": "markdown",
   "id": "7860f7e3-1f0f-4b6b-a2f9-8a475ce2a03c",
   "metadata": {},
   "source": [
    "<br>"
   ]
  },
  {
   "cell_type": "code",
   "execution_count": 175,
   "id": "3c58257a-82d2-4cd5-890a-3c3e97fd2661",
   "metadata": {},
   "outputs": [
    {
     "data": {
      "text/plain": [
       "count    1227.000000\n",
       "mean      340.366748\n",
       "std       132.806330\n",
       "min        55.000000\n",
       "25%       252.000000\n",
       "50%       307.000000\n",
       "75%       409.500000\n",
       "max       979.000000\n",
       "Name: points_r1_2019, dtype: float64"
      ]
     },
     "execution_count": 175,
     "metadata": {},
     "output_type": "execute_result"
    }
   ],
   "source": [
    "# Overview of 2019 points\n",
    "allcourses['points_r1_2019'].describe()"
   ]
  },
  {
   "cell_type": "markdown",
   "id": "f8f5fa3a-bbf8-4577-8396-9f68a69ba888",
   "metadata": {},
   "source": [
    "<br>"
   ]
  },
  {
   "cell_type": "markdown",
   "id": "85098f49-bfb7-4c0a-b270-d8d47c625a69",
   "metadata": {},
   "source": [
    "<br>"
   ]
  },
  {
   "cell_type": "code",
   "execution_count": 176,
   "id": "4d3e3391-0120-4999-9d7e-35dfbaf70264",
   "metadata": {
    "tags": []
   },
   "outputs": [
    {
     "data": {
      "text/plain": [
       "979.0"
      ]
     },
     "execution_count": 176,
     "metadata": {},
     "output_type": "execute_result"
    }
   ],
   "source": [
    "# Most points in 2019\n",
    "allcourses['points_r1_2019'].max()"
   ]
  },
  {
   "cell_type": "markdown",
   "id": "6bf2f2a8-0db5-45d7-aed5-bd99ee85636b",
   "metadata": {},
   "source": [
    "<br>"
   ]
  },
  {
   "cell_type": "markdown",
   "id": "b0f7f786-9c59-489c-9483-bff748fb7fd6",
   "metadata": {},
   "source": [
    "<br>"
   ]
  },
  {
   "cell_type": "code",
   "execution_count": null,
   "id": "30dea005-7e89-49e0-b5a2-f874f1fddd16",
   "metadata": {},
   "outputs": [],
   "source": [
    "# Least points in 2019\n",
    "allcourses['points_r1_2019'].min()"
   ]
  },
  {
   "cell_type": "markdown",
   "id": "743fb98c-a71f-4a0a-a85b-76ec125f309a",
   "metadata": {},
   "source": [
    "<br>"
   ]
  },
  {
   "cell_type": "markdown",
   "id": "3246dd9f-bca0-4a5e-9e04-b22981aad4bd",
   "metadata": {},
   "source": [
    "<br>"
   ]
  },
  {
   "cell_type": "markdown",
   "id": "41bdf659-2b81-465e-84a0-0269f8d5c0f8",
   "metadata": {},
   "source": [
    "<br>"
   ]
  },
  {
   "cell_type": "code",
   "execution_count": null,
   "id": "23331db6-7943-4e65-ba38-716f8db9dd06",
   "metadata": {
    "tags": []
   },
   "outputs": [],
   "source": [
    "# Searching for that course\n",
    "allcourses[allcourses['points_r1_2019'] == 601]"
   ]
  },
  {
   "cell_type": "markdown",
   "id": "6254b8a3-18be-449a-894b-08c886b6220e",
   "metadata": {},
   "source": [
    "<br>"
   ]
  },
  {
   "cell_type": "markdown",
   "id": "110747e6-b18b-432b-b301-04a84b5689d2",
   "metadata": {},
   "source": [
    "<br>"
   ]
  },
  {
   "cell_type": "markdown",
   "id": "d620871a-7d9a-4d0f-948c-82ebcef2688f",
   "metadata": {},
   "source": [
    "Intrestingly the points went down from 2020, which we can assume was the first year of Popular Music at CIT Cork School of Music as it is not present in 2019."
   ]
  },
  {
   "cell_type": "markdown",
   "id": "327926fb-aa79-4f38-aab5-6b52d4c1ec6b",
   "metadata": {},
   "source": [
    "<br>"
   ]
  },
  {
   "cell_type": "markdown",
   "id": "959df4e3-0e3c-4a37-9c1d-27b6e647f492",
   "metadata": {},
   "source": [
    "<br>"
   ]
  },
  {
   "cell_type": "code",
   "execution_count": null,
   "id": "c46cdbff-cd1e-430a-8df3-fe1a2cc344f8",
   "metadata": {},
   "outputs": [],
   "source": [
    "# Searching for that course\n",
    "allcourses[allcourses['points_r1_2019'] == 100]"
   ]
  },
  {
   "cell_type": "markdown",
   "id": "60e4ea0e-6ad2-4351-96eb-bf663a469d32",
   "metadata": {},
   "source": [
    "<br>"
   ]
  },
  {
   "cell_type": "markdown",
   "id": "a1fe4c95-f99b-4a12-a378-bb5c921d9a68",
   "metadata": {},
   "source": [
    "<br>"
   ]
  },
  {
   "cell_type": "markdown",
   "id": "50a26e00-18fe-4db0-a39c-14343ab2020c",
   "metadata": {},
   "source": [
    "<br>"
   ]
  },
  {
   "cell_type": "markdown",
   "id": "3682a3a3-1da0-40ec-abbc-449ce227c683",
   "metadata": {},
   "source": [
    "<br>"
   ]
  },
  {
   "cell_type": "markdown",
   "id": "1f67dc9f-6730-4e82-9e3e-4d64a3538e4d",
   "metadata": {},
   "source": [
    "<br>"
   ]
  },
  {
   "cell_type": "code",
   "execution_count": null,
   "id": "23a6da1a-c327-4174-ba13-1c071b401c93",
   "metadata": {},
   "outputs": [],
   "source": [
    "# Getting skew and kurtosis for 2021 points\n",
    "print(\"2021 points skewness: %f\" % allcourses['points_r1_2021'].skew())\n",
    "print(\"2021 points kurtosis: %f\" % allcourses['points_r1_2021'].kurt())\n",
    "\n",
    "# Formatting\n",
    "print('******************************')\n",
    "\n",
    "# Getting skew and kurtosis for 2020 points\n",
    "print(\"2020 points skewness: %f\" % allcourses['points_r1_2020'].skew())\n",
    "print(\"2020 points kurtosis: %f\" % allcourses['points_r1_2020'].kurt())\n",
    "\n",
    "# Formatting\n",
    "print('******************************')\n",
    "\n",
    "# Getting skew and kurtosis for 2019 points\n",
    "print(\"2019 points skewness: %f\" % allcourses['points_r1_2019'].skew())\n",
    "print(\"2019 points kurtosis: %f\" % allcourses['points_r1_2019'].kurt())"
   ]
  },
  {
   "cell_type": "markdown",
   "id": "959230d0-6e70-4c61-8630-8527965c291a",
   "metadata": {},
   "source": [
    "<br>"
   ]
  },
  {
   "cell_type": "markdown",
   "id": "94212084-635c-45a3-a1a7-0b27f7720e90",
   "metadata": {},
   "source": [
    "<br>"
   ]
  },
  {
   "cell_type": "markdown",
   "id": "a5de7b0d-31e5-4af8-8e4e-eb6eee42aa97",
   "metadata": {},
   "source": [
    "<br>"
   ]
  },
  {
   "cell_type": "markdown",
   "id": "0dfac6b6-68b5-49d4-b420-427e80a6d5cb",
   "metadata": {},
   "source": [
    "<br>"
   ]
  },
  {
   "cell_type": "code",
   "execution_count": null,
   "id": "fd946ce3-8b56-454b-be6f-6a5862616f9f",
   "metadata": {},
   "outputs": [],
   "source": [
    "# Generating a pairplot\n",
    "sns.pairplot(data=allcourses )"
   ]
  },
  {
   "cell_type": "markdown",
   "id": "6d67f51f-610b-4274-a7a6-adff6d0eb1d8",
   "metadata": {},
   "source": [
    "<br>"
   ]
  },
  {
   "cell_type": "markdown",
   "id": "0d9b4b37-d26c-4e4a-89ae-4f861be19a52",
   "metadata": {},
   "source": [
    "<br>"
   ]
  },
  {
   "cell_type": "markdown",
   "id": "4f4dbd04-2745-4a16-b4da-a5e1bfe5d86a",
   "metadata": {},
   "source": [
    "<br>"
   ]
  },
  {
   "cell_type": "markdown",
   "id": "ab41f38d-7525-4c0d-86fd-6f19d1a0b1fa",
   "metadata": {},
   "source": [
    "<br>"
   ]
  },
  {
   "cell_type": "markdown",
   "id": "ce8e3916-1476-42c9-adca-b818d4c6c930",
   "metadata": {},
   "source": [
    "Similar to Excel, we can create pivot tables. Which takes the following parameters:\n",
    "\n",
    "- values – a list of variables to calculate statistics for.\n",
    "- index – a list of variables to group data by\n",
    "- aggfunc – what statistics we need to calculate for groups, ex. sum, mean, maximum, minimum or something else."
   ]
  },
  {
   "cell_type": "markdown",
   "id": "dc09de89-51ea-4235-a22c-b3ef1f2dae4f",
   "metadata": {},
   "source": [
    "<br>"
   ]
  },
  {
   "cell_type": "code",
   "execution_count": 138,
   "id": "c853a745-389c-4e65-966f-283f98f168b9",
   "metadata": {},
   "outputs": [
    {
     "data": {
      "text/html": [
       "<div>\n",
       "<style scoped>\n",
       "    .dataframe tbody tr th:only-of-type {\n",
       "        vertical-align: middle;\n",
       "    }\n",
       "\n",
       "    .dataframe tbody tr th {\n",
       "        vertical-align: top;\n",
       "    }\n",
       "\n",
       "    .dataframe thead th {\n",
       "        text-align: right;\n",
       "    }\n",
       "</style>\n",
       "<table border=\"1\" class=\"dataframe\">\n",
       "  <thead>\n",
       "    <tr style=\"text-align: right;\">\n",
       "      <th></th>\n",
       "      <th>points_r1_2020</th>\n",
       "    </tr>\n",
       "    <tr>\n",
       "      <th>level_2020</th>\n",
       "      <th></th>\n",
       "    </tr>\n",
       "  </thead>\n",
       "  <tbody>\n",
       "    <tr>\n",
       "      <th>6.0</th>\n",
       "      <td>74</td>\n",
       "    </tr>\n",
       "    <tr>\n",
       "      <th>7.0</th>\n",
       "      <td>329</td>\n",
       "    </tr>\n",
       "    <tr>\n",
       "      <th>8.0</th>\n",
       "      <td>984</td>\n",
       "    </tr>\n",
       "  </tbody>\n",
       "</table>\n",
       "</div>"
      ],
      "text/plain": [
       "            points_r1_2020\n",
       "level_2020                \n",
       "6.0                     74\n",
       "7.0                    329\n",
       "8.0                    984"
      ]
     },
     "execution_count": 138,
     "metadata": {},
     "output_type": "execute_result"
    }
   ],
   "source": [
    "# Generating a pivot table \n",
    "allcourses.pivot_table(['points_r1_2020'],['level_2020'], aggfunc='count')"
   ]
  },
  {
   "cell_type": "markdown",
   "id": "a54b3853-97c5-4602-ad1d-49e1108d4846",
   "metadata": {},
   "source": [
    "<br>"
   ]
  },
  {
   "cell_type": "markdown",
   "id": "3ba30e76-1a3b-46db-9e0e-8dd109d5b29b",
   "metadata": {},
   "source": [
    "<br>"
   ]
  },
  {
   "cell_type": "markdown",
   "id": "50b71798-9863-44c4-a871-b8ac4ed1ecb4",
   "metadata": {},
   "source": [
    "<br>"
   ]
  },
  {
   "cell_type": "code",
   "execution_count": 97,
   "id": "2f5a3a6a-49c8-491f-9a45-ecd98e1f7786",
   "metadata": {},
   "outputs": [
    {
     "data": {
      "text/html": [
       "<div>\n",
       "<style scoped>\n",
       "    .dataframe tbody tr th:only-of-type {\n",
       "        vertical-align: middle;\n",
       "    }\n",
       "\n",
       "    .dataframe tbody tr th {\n",
       "        vertical-align: top;\n",
       "    }\n",
       "\n",
       "    .dataframe thead th {\n",
       "        text-align: right;\n",
       "    }\n",
       "</style>\n",
       "<table border=\"1\" class=\"dataframe\">\n",
       "  <thead>\n",
       "    <tr style=\"text-align: right;\">\n",
       "      <th></th>\n",
       "      <th>points_r1_2019</th>\n",
       "      <th>points_r1_2020</th>\n",
       "      <th>points_r1_2021</th>\n",
       "    </tr>\n",
       "    <tr>\n",
       "      <th>level_2020</th>\n",
       "      <th></th>\n",
       "      <th></th>\n",
       "      <th></th>\n",
       "    </tr>\n",
       "  </thead>\n",
       "  <tbody>\n",
       "    <tr>\n",
       "      <th>6.0</th>\n",
       "      <td>128.0</td>\n",
       "      <td>149.0</td>\n",
       "      <td>120.0</td>\n",
       "    </tr>\n",
       "    <tr>\n",
       "      <th>7.0</th>\n",
       "      <td>100.0</td>\n",
       "      <td>100.0</td>\n",
       "      <td>100.0</td>\n",
       "    </tr>\n",
       "    <tr>\n",
       "      <th>8.0</th>\n",
       "      <td>55.0</td>\n",
       "      <td>55.0</td>\n",
       "      <td>57.0</td>\n",
       "    </tr>\n",
       "  </tbody>\n",
       "</table>\n",
       "</div>"
      ],
      "text/plain": [
       "            points_r1_2019  points_r1_2020  points_r1_2021\n",
       "level_2020                                                \n",
       "6.0                  128.0           149.0           120.0\n",
       "7.0                  100.0           100.0           100.0\n",
       "8.0                   55.0            55.0            57.0"
      ]
     },
     "execution_count": 97,
     "metadata": {},
     "output_type": "execute_result"
    }
   ],
   "source": [
    "allcourses.pivot_table(['points_r1_2021', 'points_r1_2020', 'points_r1_2019'],['level_2020'], aggfunc='min')"
   ]
  },
  {
   "cell_type": "markdown",
   "id": "6149b8d5-973c-4df1-a800-c9e5fb3fb093",
   "metadata": {},
   "source": [
    "<br>"
   ]
  },
  {
   "cell_type": "markdown",
   "id": "ee10bb5a-be4d-42b7-8b43-fbdc1a896e6e",
   "metadata": {},
   "source": [
    "<br>"
   ]
  },
  {
   "cell_type": "code",
   "execution_count": 101,
   "id": "98f2a62b-ee49-4904-b2d5-fd841b3cec70",
   "metadata": {},
   "outputs": [
    {
     "data": {
      "text/html": [
       "<div>\n",
       "<style scoped>\n",
       "    .dataframe tbody tr th:only-of-type {\n",
       "        vertical-align: middle;\n",
       "    }\n",
       "\n",
       "    .dataframe tbody tr th {\n",
       "        vertical-align: top;\n",
       "    }\n",
       "\n",
       "    .dataframe thead th {\n",
       "        text-align: right;\n",
       "    }\n",
       "</style>\n",
       "<table border=\"1\" class=\"dataframe\">\n",
       "  <thead>\n",
       "    <tr style=\"text-align: right;\">\n",
       "      <th></th>\n",
       "      <th>points_r1_2019</th>\n",
       "      <th>points_r1_2020</th>\n",
       "      <th>points_r1_2021</th>\n",
       "    </tr>\n",
       "    <tr>\n",
       "      <th>level_2020</th>\n",
       "      <th></th>\n",
       "      <th></th>\n",
       "      <th></th>\n",
       "    </tr>\n",
       "  </thead>\n",
       "  <tbody>\n",
       "    <tr>\n",
       "      <th>6.0</th>\n",
       "      <td>227.586957</td>\n",
       "      <td>235.283784</td>\n",
       "      <td>243.724638</td>\n",
       "    </tr>\n",
       "    <tr>\n",
       "      <th>7.0</th>\n",
       "      <td>238.588889</td>\n",
       "      <td>245.714286</td>\n",
       "      <td>256.902280</td>\n",
       "    </tr>\n",
       "    <tr>\n",
       "      <th>8.0</th>\n",
       "      <td>384.831836</td>\n",
       "      <td>393.800813</td>\n",
       "      <td>408.978261</td>\n",
       "    </tr>\n",
       "  </tbody>\n",
       "</table>\n",
       "</div>"
      ],
      "text/plain": [
       "            points_r1_2019  points_r1_2020  points_r1_2021\n",
       "level_2020                                                \n",
       "6.0             227.586957      235.283784      243.724638\n",
       "7.0             238.588889      245.714286      256.902280\n",
       "8.0             384.831836      393.800813      408.978261"
      ]
     },
     "execution_count": 101,
     "metadata": {},
     "output_type": "execute_result"
    }
   ],
   "source": [
    "allcourses.pivot_table(['points_r1_2021', 'points_r1_2020', 'points_r1_2019'],['level_2020'], aggfunc='mean')"
   ]
  },
  {
   "cell_type": "markdown",
   "id": "0509957d-3a7a-445a-8594-86ead54ce2b4",
   "metadata": {},
   "source": [
    "<br>"
   ]
  },
  {
   "cell_type": "markdown",
   "id": "1549ce27-44e7-4fcc-94c6-0bcdffe7b9b6",
   "metadata": {},
   "source": [
    "<br>"
   ]
  },
  {
   "cell_type": "markdown",
   "id": "ab342607-9149-4af5-b0b8-fdd16ec16368",
   "metadata": {},
   "source": [
    "<br>"
   ]
  },
  {
   "cell_type": "code",
   "execution_count": null,
   "id": "9f5b101e-01d5-4c21-8894-b7e29c56fbbd",
   "metadata": {},
   "outputs": [],
   "source": [
    "allcourses.pivot_table(['points_r1_2021', 'points_r1_2020', 'points_r1_2019'],['level_2020'], aggfunc='median')"
   ]
  },
  {
   "cell_type": "markdown",
   "id": "0eac359b-6240-480c-be36-d10fbed91ab0",
   "metadata": {},
   "source": [
    "<br>"
   ]
  },
  {
   "cell_type": "markdown",
   "id": "02671bde-efd9-4c11-83b4-9e8d6e2c1d19",
   "metadata": {},
   "source": [
    "<br>"
   ]
  },
  {
   "cell_type": "markdown",
   "id": "c186396f-f703-45e8-849b-313538aef7cd",
   "metadata": {},
   "source": [
    "<br>"
   ]
  },
  {
   "cell_type": "markdown",
   "id": "179cbc02-e97d-45e2-a4f2-643fff1df749",
   "metadata": {},
   "source": [
    "<br>"
   ]
  },
  {
   "cell_type": "code",
   "execution_count": null,
   "id": "3f3866f4-9517-4edc-bdf6-cbcc8075d07b",
   "metadata": {},
   "outputs": [],
   "source": [
    "corr = allcourses.corr()"
   ]
  },
  {
   "cell_type": "code",
   "execution_count": null,
   "id": "cc2a6a4f-9d50-4510-9e90-47db9a8f8e5f",
   "metadata": {},
   "outputs": [],
   "source": [
    "corr"
   ]
  },
  {
   "cell_type": "code",
   "execution_count": null,
   "id": "5bd41a5e-ee13-4144-b226-bc4b71e6622b",
   "metadata": {},
   "outputs": [],
   "source": [
    "sns.heatmap(corr, cmap='coolwarm', annot=True)"
   ]
  },
  {
   "cell_type": "markdown",
   "id": "eeeca0cd-d7ab-4234-8852-d507325f695b",
   "metadata": {},
   "source": [
    "<br>"
   ]
  },
  {
   "cell_type": "markdown",
   "id": "4ba69a31-709f-40f0-80c4-4f4aa8a61e89",
   "metadata": {},
   "source": [
    "<br>"
   ]
  },
  {
   "cell_type": "code",
   "execution_count": null,
   "id": "b99a8e42-3f11-469d-9862-dbde78905069",
   "metadata": {},
   "outputs": [],
   "source": [
    "from scipy.stats import norm\n",
    "from sklearn.preprocessing import StandardScaler\n",
    "from scipy import stats"
   ]
  },
  {
   "cell_type": "markdown",
   "id": "23224d45-3ad8-4084-80a0-dc9cf5e1323b",
   "metadata": {},
   "source": [
    "<br>"
   ]
  },
  {
   "cell_type": "markdown",
   "id": "0b9d76d9-d0a5-4a35-b2eb-7cc28820919d",
   "metadata": {},
   "source": [
    "<br>"
   ]
  },
  {
   "cell_type": "code",
   "execution_count": null,
   "id": "0caa5149-38f9-4bc4-ac9f-357f8e843208",
   "metadata": {},
   "outputs": [],
   "source": [
    "sns.distplot(allcourses[allcourses['points_r1_2021']>0]['points_r1_2021'], fit=norm)\n"
   ]
  },
  {
   "cell_type": "code",
   "execution_count": null,
   "id": "eb2dfa44-a461-48a1-b53a-ae7ffd300806",
   "metadata": {},
   "outputs": [],
   "source": [
    "\n",
    "stats.probplot(allcourses[allcourses['points_r1_2021']>0]['points_r1_2021'], plot=plt)"
   ]
  },
  {
   "cell_type": "code",
   "execution_count": null,
   "id": "8de81e0f-20bf-4a6c-bac2-e8852af2e4ca",
   "metadata": {},
   "outputs": [],
   "source": [
    "# nrows, ncols, the first plot\n",
    "plt.subplot(1,3,1)\n",
    "(allcourses['points_r1_2021']).plot.box()\n",
    "\n",
    "# nrows, ncols, the second plot\n",
    "plt.subplot(1,3,2)\n",
    "(allcourses['points_r1_2020']).plot.box()\n",
    "\n",
    "# nrows, ncols, the thrid plot\n",
    "plt.subplot(1,3,3)\n",
    "(allcourses['points_r1_2019']).plot.box()\n"
   ]
  },
  {
   "cell_type": "markdown",
   "id": "43558dfe-5053-46c5-86e1-9c8aa657cc51",
   "metadata": {},
   "source": [
    "<br>"
   ]
  },
  {
   "cell_type": "markdown",
   "id": "e84ba976-55b1-41f9-8bd1-e68b071bad62",
   "metadata": {},
   "source": [
    "<br>"
   ]
  },
  {
   "cell_type": "code",
   "execution_count": null,
   "id": "8c9a6d3b-92df-43c1-9f21-15b0d82fbc9c",
   "metadata": {},
   "outputs": [],
   "source": [
    "\n",
    "plt.plot(allcourses[\"points_r1_2021\"], label='2021')\n",
    "plt.plot(allcourses[\"points_r1_2020\"], label='2020')\n",
    "plt.plot(allcourses[\"points_r1_2019\"], label='2019')\n",
    "\n",
    "plt.legend()"
   ]
  },
  {
   "cell_type": "markdown",
   "id": "02a601ea-8b10-4f12-92c0-3c35256bb02b",
   "metadata": {},
   "source": [
    "<br>"
   ]
  },
  {
   "cell_type": "markdown",
   "id": "d135fda6-3e37-4027-b47a-26358db4f93f",
   "metadata": {},
   "source": [
    "<br>"
   ]
  },
  {
   "cell_type": "markdown",
   "id": "b4c07158-609a-41ca-a58c-68b280594cfc",
   "metadata": {},
   "source": [
    ".plot() is a wrapper for pyplot.plot(), and the result is a graph identical to the one you produced with Matplotlib https://realpython.com/pandas-plot-python/"
   ]
  },
  {
   "cell_type": "markdown",
   "id": "3687d9a5-5c56-44d6-8303-8ae310d0e533",
   "metadata": {},
   "source": [
    "<br>"
   ]
  },
  {
   "cell_type": "markdown",
   "id": "0e6122dd-532f-4546-aff3-d5a7df5ee3b6",
   "metadata": {},
   "source": [
    "<br>"
   ]
  },
  {
   "cell_type": "code",
   "execution_count": null,
   "id": "46290ece-8155-4e23-a190-35af7e9954e6",
   "metadata": {},
   "outputs": [],
   "source": []
  },
  {
   "cell_type": "code",
   "execution_count": null,
   "id": "6eee0994-2eb4-4c70-a9ac-07ca16a987c7",
   "metadata": {},
   "outputs": [],
   "source": [
    "median_2020 = allcourses[\"points_r1_2020\"]"
   ]
  },
  {
   "cell_type": "code",
   "execution_count": null,
   "id": "bc49f1a0-5241-4cb4-b9fd-251ebef7e931",
   "metadata": {},
   "outputs": [],
   "source": [
    "median_2020.plot(kind='hist')"
   ]
  },
  {
   "cell_type": "code",
   "execution_count": null,
   "id": "d50d8b4f-9de5-47db-ae84-306b8541e7fc",
   "metadata": {},
   "outputs": [],
   "source": []
  },
  {
   "cell_type": "code",
   "execution_count": null,
   "id": "e99a5ea6-021d-4ffa-a501-7ae693bbc2d1",
   "metadata": {},
   "outputs": [],
   "source": [
    "median_2019 = allcourses[\"points_r1_2019\"]"
   ]
  },
  {
   "cell_type": "code",
   "execution_count": null,
   "id": "04ab7b93-43ce-4a40-939c-3fb170536326",
   "metadata": {},
   "outputs": [],
   "source": [
    "median_2019.plot(kind='hist')"
   ]
  },
  {
   "cell_type": "code",
   "execution_count": null,
   "id": "0582fa72-a720-455c-ad7e-20c5579e06ad",
   "metadata": {},
   "outputs": [],
   "source": []
  },
  {
   "cell_type": "markdown",
   "id": "d15190c5-aabf-4e61-b5f8-c4f2d18d3619",
   "metadata": {},
   "source": [
    "<br>"
   ]
  },
  {
   "cell_type": "markdown",
   "id": "cd18e091-2899-40d6-9641-6644ecf1e34c",
   "metadata": {},
   "source": [
    "<br>"
   ]
  },
  {
   "cell_type": "markdown",
   "id": "e8b97420-502c-4405-bb7c-be0f422d1871",
   "metadata": {},
   "source": [
    "<br>"
   ]
  },
  {
   "cell_type": "markdown",
   "id": "99def962-4729-4f1b-a70e-c64efc52c4a2",
   "metadata": {},
   "source": [
    "<br>"
   ]
  },
  {
   "cell_type": "markdown",
   "id": "b996793c-6501-4136-9475-08eb70937428",
   "metadata": {},
   "source": [
    "<br>"
   ]
  },
  {
   "cell_type": "markdown",
   "id": "2cf0a1fd-01cf-40e5-81dc-9a83fb32f26f",
   "metadata": {},
   "source": [
    "<br>"
   ]
  },
  {
   "cell_type": "markdown",
   "id": "004236b0-90a7-4b88-9d92-0dbe3ea91072",
   "metadata": {},
   "source": [
    "## References"
   ]
  },
  {
   "cell_type": "code",
   "execution_count": null,
   "id": "23df8f7f-94e9-4be5-866a-c1f261e3f30a",
   "metadata": {},
   "outputs": [],
   "source": []
  },
  {
   "cell_type": "markdown",
   "id": "c21970ac-38d1-47b7-badc-410df2a66888",
   "metadata": {},
   "source": [
    "#### Images\n",
    "\n",
    "- [CAO Logo](https://www.icareer.ie/wp-content/uploads/2016/12/Untitled-1.jpg)\n",
    "- [Points](https://www.irishtimes.com/polopoly_fs/1.3596890!/image/image.jpg)\n",
    "- [Concat](https://pandas.pydata.org/pandas-docs/stable/_images/merging_concat_basic.png)\n",
    "- [Join](https://www.datasciencemadesimple.com/wp-content/uploads/2017/09/join-or-merge-in-python-pandas-1.png?ezimgfmt=ng:webp/ngcb1)\n",
    "- [Covid](https://www.bswrehab.com/-/media/project/baylorrehab/dotcom/usa/images/about-us/in-the-news/covid19visitationpolicy.jpg?h=256&iar=0&w=256&t=20200926000839&hash=B45A283413C03E8AFECD850719453F0F)"
   ]
  },
  {
   "cell_type": "markdown",
   "id": "04e20723-e2aa-4bdb-b20f-35438621d47b",
   "metadata": {
    "tags": []
   },
   "source": [
    "# End"
   ]
  }
 ],
 "metadata": {
  "kernelspec": {
   "display_name": "Python 3 (ipykernel)",
   "language": "python",
   "name": "python3"
  },
  "language_info": {
   "codemirror_mode": {
    "name": "ipython",
    "version": 3
   },
   "file_extension": ".py",
   "mimetype": "text/x-python",
   "name": "python",
   "nbconvert_exporter": "python",
   "pygments_lexer": "ipython3",
   "version": "3.8.11"
  }
 },
 "nbformat": 4,
 "nbformat_minor": 5
}
